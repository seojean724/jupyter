{
 "cells": [
  {
   "cell_type": "markdown",
   "metadata": {},
   "source": [
    "# Kaggle Titanic 생존자 예측하기"
   ]
  },
  {
   "cell_type": "markdown",
   "metadata": {},
   "source": [
    "캐글의 튜토리얼 중 하나인 타이타닉호 생존자 예측하기입니다.\n",
    "\n",
    "https://www.kaggle.com/c/titanic/"
   ]
  },
  {
   "cell_type": "markdown",
   "metadata": {},
   "source": [
    "## Import Graphlab"
   ]
  },
  {
   "cell_type": "markdown",
   "metadata": {},
   "source": [
    "graphlab 라이브러리를 import합시다."
   ]
  },
  {
   "cell_type": "code",
   "execution_count": 2,
   "metadata": {},
   "outputs": [],
   "source": [
    "import graphlab"
   ]
  },
  {
   "cell_type": "markdown",
   "metadata": {},
   "source": [
    "## 데이터 화일 압축 풀기"
   ]
  },
  {
   "cell_type": "markdown",
   "metadata": {},
   "source": [
    "먼저 kaggle_titanic.zip 화일을 data 폴더 아래에 업로드합니다. 그런 다음 아래 명령을 실행해서 압축을 풉니다."
   ]
  },
  {
   "cell_type": "code",
   "execution_count": 2,
   "metadata": {},
   "outputs": [
    {
     "name": "stdout",
     "output_type": "stream",
     "text": [
      "Archive:  ../data/kaggle_titanic.zip\n",
      "   creating: ../data/kaggle_titanic/\n",
      "  inflating: ../data/kaggle_titanic/test.csv  \n",
      "  inflating: ../data/kaggle_titanic/gender_submission.csv  \n",
      "  inflating: ../data/kaggle_titanic/train.csv  \n"
     ]
    }
   ],
   "source": [
    "!unzip -o ../data/kaggle_titanic.zip -d ../data"
   ]
  },
  {
   "cell_type": "markdown",
   "metadata": {},
   "source": [
    "압축이 잘 풀렸는지 꼭 확인합시다."
   ]
  },
  {
   "cell_type": "code",
   "execution_count": 3,
   "metadata": {},
   "outputs": [
    {
     "name": "stdout",
     "output_type": "stream",
     "text": [
      "gender_submission.csv  test.csv  train.csv\r\n"
     ]
    }
   ],
   "source": [
    "ls ../data/kaggle_titanic/"
   ]
  },
  {
   "cell_type": "markdown",
   "metadata": {},
   "source": [
    "## 데이터 가져오기\n"
   ]
  },
  {
   "cell_type": "markdown",
   "metadata": {},
   "source": [
    "먼저 train.csv 화일을 가져 옵시다. 별도의 검증 데이터가 존재하지 않기 때문에 학습 데이터를 가져와서 train_data와 validation_data로 나눠서 사용하고자 합니다. 따라서 전체 학습 데이터는 **full_train_data**라는 변수에 저장합니다.\n",
    "\n",
    "    graphlab.SFrame(csv화일이름)"
   ]
  },
  {
   "cell_type": "code",
   "execution_count": 3,
   "metadata": {},
   "outputs": [
    {
     "name": "stdout",
     "output_type": "stream",
     "text": [
      "This non-commercial license of GraphLab Create for academic use is assigned to cutty724@hanmail.net and will expire on December 24, 2018.\n"
     ]
    },
    {
     "name": "stderr",
     "output_type": "stream",
     "text": [
      "[INFO] graphlab.cython.cy_server: GraphLab Create v2.1 started. Logging: /tmp/graphlab_server_1520413381.log\n"
     ]
    },
    {
     "data": {
      "text/html": [
       "<pre>Finished parsing file /home/nbuser/library/data/kaggle_titanic/train.csv</pre>"
      ],
      "text/plain": [
       "Finished parsing file /home/nbuser/library/data/kaggle_titanic/train.csv"
      ]
     },
     "metadata": {},
     "output_type": "display_data"
    },
    {
     "data": {
      "text/html": [
       "<pre>Parsing completed. Parsed 100 lines in 1.30375 secs.</pre>"
      ],
      "text/plain": [
       "Parsing completed. Parsed 100 lines in 1.30375 secs."
      ]
     },
     "metadata": {},
     "output_type": "display_data"
    },
    {
     "name": "stdout",
     "output_type": "stream",
     "text": [
      "------------------------------------------------------\n",
      "Inferred types from first 100 line(s) of file as \n",
      "column_type_hints=[int,int,int,str,str,float,int,int,str,float,str,str]\n",
      "If parsing fails due to incorrect types, you can correct\n",
      "the inferred type list above and pass it to read_csv in\n",
      "the column_type_hints argument\n",
      "------------------------------------------------------\n"
     ]
    },
    {
     "data": {
      "text/html": [
       "<pre>Finished parsing file /home/nbuser/library/data/kaggle_titanic/train.csv</pre>"
      ],
      "text/plain": [
       "Finished parsing file /home/nbuser/library/data/kaggle_titanic/train.csv"
      ]
     },
     "metadata": {},
     "output_type": "display_data"
    },
    {
     "data": {
      "text/html": [
       "<pre>Parsing completed. Parsed 891 lines in 0.568565 secs.</pre>"
      ],
      "text/plain": [
       "Parsing completed. Parsed 891 lines in 0.568565 secs."
      ]
     },
     "metadata": {},
     "output_type": "display_data"
    }
   ],
   "source": [
    "full_train_data = graphlab.SFrame('../data/kaggle_titanic/train.csv')"
   ]
  },
  {
   "cell_type": "markdown",
   "metadata": {},
   "source": [
    "head메소드로 데이터를 확인합시다."
   ]
  },
  {
   "cell_type": "code",
   "execution_count": 4,
   "metadata": {},
   "outputs": [
    {
     "data": {
      "text/html": [
       "<div style=\"max-height:1000px;max-width:1500px;overflow:auto;\"><table frame=\"box\" rules=\"cols\">\n",
       "    <tr>\n",
       "        <th style=\"padding-left: 1em; padding-right: 1em; text-align: center\">PassengerId</th>\n",
       "        <th style=\"padding-left: 1em; padding-right: 1em; text-align: center\">Survived</th>\n",
       "        <th style=\"padding-left: 1em; padding-right: 1em; text-align: center\">Pclass</th>\n",
       "        <th style=\"padding-left: 1em; padding-right: 1em; text-align: center\">Name</th>\n",
       "        <th style=\"padding-left: 1em; padding-right: 1em; text-align: center\">Sex</th>\n",
       "        <th style=\"padding-left: 1em; padding-right: 1em; text-align: center\">Age</th>\n",
       "        <th style=\"padding-left: 1em; padding-right: 1em; text-align: center\">SibSp</th>\n",
       "        <th style=\"padding-left: 1em; padding-right: 1em; text-align: center\">Parch</th>\n",
       "        <th style=\"padding-left: 1em; padding-right: 1em; text-align: center\">Ticket</th>\n",
       "    </tr>\n",
       "    <tr>\n",
       "        <td style=\"padding-left: 1em; padding-right: 1em; text-align: center; vertical-align: top\">1</td>\n",
       "        <td style=\"padding-left: 1em; padding-right: 1em; text-align: center; vertical-align: top\">0</td>\n",
       "        <td style=\"padding-left: 1em; padding-right: 1em; text-align: center; vertical-align: top\">3</td>\n",
       "        <td style=\"padding-left: 1em; padding-right: 1em; text-align: center; vertical-align: top\">Braund, Mr. Owen Harris</td>\n",
       "        <td style=\"padding-left: 1em; padding-right: 1em; text-align: center; vertical-align: top\">male</td>\n",
       "        <td style=\"padding-left: 1em; padding-right: 1em; text-align: center; vertical-align: top\">22.0</td>\n",
       "        <td style=\"padding-left: 1em; padding-right: 1em; text-align: center; vertical-align: top\">1</td>\n",
       "        <td style=\"padding-left: 1em; padding-right: 1em; text-align: center; vertical-align: top\">0</td>\n",
       "        <td style=\"padding-left: 1em; padding-right: 1em; text-align: center; vertical-align: top\">A/5 21171</td>\n",
       "    </tr>\n",
       "    <tr>\n",
       "        <td style=\"padding-left: 1em; padding-right: 1em; text-align: center; vertical-align: top\">2</td>\n",
       "        <td style=\"padding-left: 1em; padding-right: 1em; text-align: center; vertical-align: top\">1</td>\n",
       "        <td style=\"padding-left: 1em; padding-right: 1em; text-align: center; vertical-align: top\">1</td>\n",
       "        <td style=\"padding-left: 1em; padding-right: 1em; text-align: center; vertical-align: top\">Cumings, Mrs. John<br>Bradley (Florence Briggs ...</td>\n",
       "        <td style=\"padding-left: 1em; padding-right: 1em; text-align: center; vertical-align: top\">female</td>\n",
       "        <td style=\"padding-left: 1em; padding-right: 1em; text-align: center; vertical-align: top\">38.0</td>\n",
       "        <td style=\"padding-left: 1em; padding-right: 1em; text-align: center; vertical-align: top\">1</td>\n",
       "        <td style=\"padding-left: 1em; padding-right: 1em; text-align: center; vertical-align: top\">0</td>\n",
       "        <td style=\"padding-left: 1em; padding-right: 1em; text-align: center; vertical-align: top\">PC 17599</td>\n",
       "    </tr>\n",
       "    <tr>\n",
       "        <td style=\"padding-left: 1em; padding-right: 1em; text-align: center; vertical-align: top\">3</td>\n",
       "        <td style=\"padding-left: 1em; padding-right: 1em; text-align: center; vertical-align: top\">1</td>\n",
       "        <td style=\"padding-left: 1em; padding-right: 1em; text-align: center; vertical-align: top\">3</td>\n",
       "        <td style=\"padding-left: 1em; padding-right: 1em; text-align: center; vertical-align: top\">Heikkinen, Miss. Laina</td>\n",
       "        <td style=\"padding-left: 1em; padding-right: 1em; text-align: center; vertical-align: top\">female</td>\n",
       "        <td style=\"padding-left: 1em; padding-right: 1em; text-align: center; vertical-align: top\">26.0</td>\n",
       "        <td style=\"padding-left: 1em; padding-right: 1em; text-align: center; vertical-align: top\">0</td>\n",
       "        <td style=\"padding-left: 1em; padding-right: 1em; text-align: center; vertical-align: top\">0</td>\n",
       "        <td style=\"padding-left: 1em; padding-right: 1em; text-align: center; vertical-align: top\">STON/O2. 3101282</td>\n",
       "    </tr>\n",
       "    <tr>\n",
       "        <td style=\"padding-left: 1em; padding-right: 1em; text-align: center; vertical-align: top\">4</td>\n",
       "        <td style=\"padding-left: 1em; padding-right: 1em; text-align: center; vertical-align: top\">1</td>\n",
       "        <td style=\"padding-left: 1em; padding-right: 1em; text-align: center; vertical-align: top\">1</td>\n",
       "        <td style=\"padding-left: 1em; padding-right: 1em; text-align: center; vertical-align: top\">Futrelle, Mrs. Jacques<br>Heath (Lily May Peel) ...</td>\n",
       "        <td style=\"padding-left: 1em; padding-right: 1em; text-align: center; vertical-align: top\">female</td>\n",
       "        <td style=\"padding-left: 1em; padding-right: 1em; text-align: center; vertical-align: top\">35.0</td>\n",
       "        <td style=\"padding-left: 1em; padding-right: 1em; text-align: center; vertical-align: top\">1</td>\n",
       "        <td style=\"padding-left: 1em; padding-right: 1em; text-align: center; vertical-align: top\">0</td>\n",
       "        <td style=\"padding-left: 1em; padding-right: 1em; text-align: center; vertical-align: top\">113803</td>\n",
       "    </tr>\n",
       "    <tr>\n",
       "        <td style=\"padding-left: 1em; padding-right: 1em; text-align: center; vertical-align: top\">5</td>\n",
       "        <td style=\"padding-left: 1em; padding-right: 1em; text-align: center; vertical-align: top\">0</td>\n",
       "        <td style=\"padding-left: 1em; padding-right: 1em; text-align: center; vertical-align: top\">3</td>\n",
       "        <td style=\"padding-left: 1em; padding-right: 1em; text-align: center; vertical-align: top\">Allen, Mr. William Henry</td>\n",
       "        <td style=\"padding-left: 1em; padding-right: 1em; text-align: center; vertical-align: top\">male</td>\n",
       "        <td style=\"padding-left: 1em; padding-right: 1em; text-align: center; vertical-align: top\">35.0</td>\n",
       "        <td style=\"padding-left: 1em; padding-right: 1em; text-align: center; vertical-align: top\">0</td>\n",
       "        <td style=\"padding-left: 1em; padding-right: 1em; text-align: center; vertical-align: top\">0</td>\n",
       "        <td style=\"padding-left: 1em; padding-right: 1em; text-align: center; vertical-align: top\">373450</td>\n",
       "    </tr>\n",
       "    <tr>\n",
       "        <td style=\"padding-left: 1em; padding-right: 1em; text-align: center; vertical-align: top\">6</td>\n",
       "        <td style=\"padding-left: 1em; padding-right: 1em; text-align: center; vertical-align: top\">0</td>\n",
       "        <td style=\"padding-left: 1em; padding-right: 1em; text-align: center; vertical-align: top\">3</td>\n",
       "        <td style=\"padding-left: 1em; padding-right: 1em; text-align: center; vertical-align: top\">Moran, Mr. James</td>\n",
       "        <td style=\"padding-left: 1em; padding-right: 1em; text-align: center; vertical-align: top\">male</td>\n",
       "        <td style=\"padding-left: 1em; padding-right: 1em; text-align: center; vertical-align: top\">None</td>\n",
       "        <td style=\"padding-left: 1em; padding-right: 1em; text-align: center; vertical-align: top\">0</td>\n",
       "        <td style=\"padding-left: 1em; padding-right: 1em; text-align: center; vertical-align: top\">0</td>\n",
       "        <td style=\"padding-left: 1em; padding-right: 1em; text-align: center; vertical-align: top\">330877</td>\n",
       "    </tr>\n",
       "    <tr>\n",
       "        <td style=\"padding-left: 1em; padding-right: 1em; text-align: center; vertical-align: top\">7</td>\n",
       "        <td style=\"padding-left: 1em; padding-right: 1em; text-align: center; vertical-align: top\">0</td>\n",
       "        <td style=\"padding-left: 1em; padding-right: 1em; text-align: center; vertical-align: top\">1</td>\n",
       "        <td style=\"padding-left: 1em; padding-right: 1em; text-align: center; vertical-align: top\">McCarthy, Mr. Timothy J</td>\n",
       "        <td style=\"padding-left: 1em; padding-right: 1em; text-align: center; vertical-align: top\">male</td>\n",
       "        <td style=\"padding-left: 1em; padding-right: 1em; text-align: center; vertical-align: top\">54.0</td>\n",
       "        <td style=\"padding-left: 1em; padding-right: 1em; text-align: center; vertical-align: top\">0</td>\n",
       "        <td style=\"padding-left: 1em; padding-right: 1em; text-align: center; vertical-align: top\">0</td>\n",
       "        <td style=\"padding-left: 1em; padding-right: 1em; text-align: center; vertical-align: top\">17463</td>\n",
       "    </tr>\n",
       "    <tr>\n",
       "        <td style=\"padding-left: 1em; padding-right: 1em; text-align: center; vertical-align: top\">8</td>\n",
       "        <td style=\"padding-left: 1em; padding-right: 1em; text-align: center; vertical-align: top\">0</td>\n",
       "        <td style=\"padding-left: 1em; padding-right: 1em; text-align: center; vertical-align: top\">3</td>\n",
       "        <td style=\"padding-left: 1em; padding-right: 1em; text-align: center; vertical-align: top\">Palsson, Master. Gosta<br>Leonard ...</td>\n",
       "        <td style=\"padding-left: 1em; padding-right: 1em; text-align: center; vertical-align: top\">male</td>\n",
       "        <td style=\"padding-left: 1em; padding-right: 1em; text-align: center; vertical-align: top\">2.0</td>\n",
       "        <td style=\"padding-left: 1em; padding-right: 1em; text-align: center; vertical-align: top\">3</td>\n",
       "        <td style=\"padding-left: 1em; padding-right: 1em; text-align: center; vertical-align: top\">1</td>\n",
       "        <td style=\"padding-left: 1em; padding-right: 1em; text-align: center; vertical-align: top\">349909</td>\n",
       "    </tr>\n",
       "    <tr>\n",
       "        <td style=\"padding-left: 1em; padding-right: 1em; text-align: center; vertical-align: top\">9</td>\n",
       "        <td style=\"padding-left: 1em; padding-right: 1em; text-align: center; vertical-align: top\">1</td>\n",
       "        <td style=\"padding-left: 1em; padding-right: 1em; text-align: center; vertical-align: top\">3</td>\n",
       "        <td style=\"padding-left: 1em; padding-right: 1em; text-align: center; vertical-align: top\">Johnson, Mrs. Oscar W<br>(Elisabeth Vilhelmina ...</td>\n",
       "        <td style=\"padding-left: 1em; padding-right: 1em; text-align: center; vertical-align: top\">female</td>\n",
       "        <td style=\"padding-left: 1em; padding-right: 1em; text-align: center; vertical-align: top\">27.0</td>\n",
       "        <td style=\"padding-left: 1em; padding-right: 1em; text-align: center; vertical-align: top\">0</td>\n",
       "        <td style=\"padding-left: 1em; padding-right: 1em; text-align: center; vertical-align: top\">2</td>\n",
       "        <td style=\"padding-left: 1em; padding-right: 1em; text-align: center; vertical-align: top\">347742</td>\n",
       "    </tr>\n",
       "    <tr>\n",
       "        <td style=\"padding-left: 1em; padding-right: 1em; text-align: center; vertical-align: top\">10</td>\n",
       "        <td style=\"padding-left: 1em; padding-right: 1em; text-align: center; vertical-align: top\">1</td>\n",
       "        <td style=\"padding-left: 1em; padding-right: 1em; text-align: center; vertical-align: top\">2</td>\n",
       "        <td style=\"padding-left: 1em; padding-right: 1em; text-align: center; vertical-align: top\">Nasser, Mrs. Nicholas<br>(Adele Achem) ...</td>\n",
       "        <td style=\"padding-left: 1em; padding-right: 1em; text-align: center; vertical-align: top\">female</td>\n",
       "        <td style=\"padding-left: 1em; padding-right: 1em; text-align: center; vertical-align: top\">14.0</td>\n",
       "        <td style=\"padding-left: 1em; padding-right: 1em; text-align: center; vertical-align: top\">1</td>\n",
       "        <td style=\"padding-left: 1em; padding-right: 1em; text-align: center; vertical-align: top\">0</td>\n",
       "        <td style=\"padding-left: 1em; padding-right: 1em; text-align: center; vertical-align: top\">237736</td>\n",
       "    </tr>\n",
       "</table>\n",
       "<table frame=\"box\" rules=\"cols\">\n",
       "    <tr>\n",
       "        <th style=\"padding-left: 1em; padding-right: 1em; text-align: center\">Fare</th>\n",
       "        <th style=\"padding-left: 1em; padding-right: 1em; text-align: center\">Cabin</th>\n",
       "        <th style=\"padding-left: 1em; padding-right: 1em; text-align: center\">Embarked</th>\n",
       "    </tr>\n",
       "    <tr>\n",
       "        <td style=\"padding-left: 1em; padding-right: 1em; text-align: center; vertical-align: top\">7.25</td>\n",
       "        <td style=\"padding-left: 1em; padding-right: 1em; text-align: center; vertical-align: top\"></td>\n",
       "        <td style=\"padding-left: 1em; padding-right: 1em; text-align: center; vertical-align: top\">S</td>\n",
       "    </tr>\n",
       "    <tr>\n",
       "        <td style=\"padding-left: 1em; padding-right: 1em; text-align: center; vertical-align: top\">71.2833</td>\n",
       "        <td style=\"padding-left: 1em; padding-right: 1em; text-align: center; vertical-align: top\">C85</td>\n",
       "        <td style=\"padding-left: 1em; padding-right: 1em; text-align: center; vertical-align: top\">C</td>\n",
       "    </tr>\n",
       "    <tr>\n",
       "        <td style=\"padding-left: 1em; padding-right: 1em; text-align: center; vertical-align: top\">7.925</td>\n",
       "        <td style=\"padding-left: 1em; padding-right: 1em; text-align: center; vertical-align: top\"></td>\n",
       "        <td style=\"padding-left: 1em; padding-right: 1em; text-align: center; vertical-align: top\">S</td>\n",
       "    </tr>\n",
       "    <tr>\n",
       "        <td style=\"padding-left: 1em; padding-right: 1em; text-align: center; vertical-align: top\">53.1</td>\n",
       "        <td style=\"padding-left: 1em; padding-right: 1em; text-align: center; vertical-align: top\">C123</td>\n",
       "        <td style=\"padding-left: 1em; padding-right: 1em; text-align: center; vertical-align: top\">S</td>\n",
       "    </tr>\n",
       "    <tr>\n",
       "        <td style=\"padding-left: 1em; padding-right: 1em; text-align: center; vertical-align: top\">8.05</td>\n",
       "        <td style=\"padding-left: 1em; padding-right: 1em; text-align: center; vertical-align: top\"></td>\n",
       "        <td style=\"padding-left: 1em; padding-right: 1em; text-align: center; vertical-align: top\">S</td>\n",
       "    </tr>\n",
       "    <tr>\n",
       "        <td style=\"padding-left: 1em; padding-right: 1em; text-align: center; vertical-align: top\">8.4583</td>\n",
       "        <td style=\"padding-left: 1em; padding-right: 1em; text-align: center; vertical-align: top\"></td>\n",
       "        <td style=\"padding-left: 1em; padding-right: 1em; text-align: center; vertical-align: top\">Q</td>\n",
       "    </tr>\n",
       "    <tr>\n",
       "        <td style=\"padding-left: 1em; padding-right: 1em; text-align: center; vertical-align: top\">51.8625</td>\n",
       "        <td style=\"padding-left: 1em; padding-right: 1em; text-align: center; vertical-align: top\">E46</td>\n",
       "        <td style=\"padding-left: 1em; padding-right: 1em; text-align: center; vertical-align: top\">S</td>\n",
       "    </tr>\n",
       "    <tr>\n",
       "        <td style=\"padding-left: 1em; padding-right: 1em; text-align: center; vertical-align: top\">21.075</td>\n",
       "        <td style=\"padding-left: 1em; padding-right: 1em; text-align: center; vertical-align: top\"></td>\n",
       "        <td style=\"padding-left: 1em; padding-right: 1em; text-align: center; vertical-align: top\">S</td>\n",
       "    </tr>\n",
       "    <tr>\n",
       "        <td style=\"padding-left: 1em; padding-right: 1em; text-align: center; vertical-align: top\">11.1333</td>\n",
       "        <td style=\"padding-left: 1em; padding-right: 1em; text-align: center; vertical-align: top\"></td>\n",
       "        <td style=\"padding-left: 1em; padding-right: 1em; text-align: center; vertical-align: top\">S</td>\n",
       "    </tr>\n",
       "    <tr>\n",
       "        <td style=\"padding-left: 1em; padding-right: 1em; text-align: center; vertical-align: top\">30.0708</td>\n",
       "        <td style=\"padding-left: 1em; padding-right: 1em; text-align: center; vertical-align: top\"></td>\n",
       "        <td style=\"padding-left: 1em; padding-right: 1em; text-align: center; vertical-align: top\">C</td>\n",
       "    </tr>\n",
       "</table>\n",
       "[10 rows x 12 columns]<br/>\n",
       "</div>"
      ],
      "text/plain": [
       "Columns:\n",
       "\tPassengerId\tint\n",
       "\tSurvived\tint\n",
       "\tPclass\tint\n",
       "\tName\tstr\n",
       "\tSex\tstr\n",
       "\tAge\tfloat\n",
       "\tSibSp\tint\n",
       "\tParch\tint\n",
       "\tTicket\tstr\n",
       "\tFare\tfloat\n",
       "\tCabin\tstr\n",
       "\tEmbarked\tstr\n",
       "\n",
       "Rows: 10\n",
       "\n",
       "Data:\n",
       "+-------------+----------+--------+--------------------------------+--------+\n",
       "| PassengerId | Survived | Pclass |              Name              |  Sex   |\n",
       "+-------------+----------+--------+--------------------------------+--------+\n",
       "|      1      |    0     |   3    |    Braund, Mr. Owen Harris     |  male  |\n",
       "|      2      |    1     |   1    | Cumings, Mrs. John Bradley...  | female |\n",
       "|      3      |    1     |   3    |     Heikkinen, Miss. Laina     | female |\n",
       "|      4      |    1     |   1    | Futrelle, Mrs. Jacques Hea...  | female |\n",
       "|      5      |    0     |   3    |    Allen, Mr. William Henry    |  male  |\n",
       "|      6      |    0     |   3    |        Moran, Mr. James        |  male  |\n",
       "|      7      |    0     |   1    |    McCarthy, Mr. Timothy J     |  male  |\n",
       "|      8      |    0     |   3    | Palsson, Master. Gosta Leonard |  male  |\n",
       "|      9      |    1     |   3    | Johnson, Mrs. Oscar W (Eli...  | female |\n",
       "|      10     |    1     |   2    | Nasser, Mrs. Nicholas (Ade...  | female |\n",
       "+-------------+----------+--------+--------------------------------+--------+\n",
       "+------+-------+-------+------------------+---------+-------+----------+\n",
       "| Age  | SibSp | Parch |      Ticket      |   Fare  | Cabin | Embarked |\n",
       "+------+-------+-------+------------------+---------+-------+----------+\n",
       "| 22.0 |   1   |   0   |    A/5 21171     |   7.25  |       |    S     |\n",
       "| 38.0 |   1   |   0   |     PC 17599     | 71.2833 |  C85  |    C     |\n",
       "| 26.0 |   0   |   0   | STON/O2. 3101282 |  7.925  |       |    S     |\n",
       "| 35.0 |   1   |   0   |      113803      |   53.1  |  C123 |    S     |\n",
       "| 35.0 |   0   |   0   |      373450      |   8.05  |       |    S     |\n",
       "| None |   0   |   0   |      330877      |  8.4583 |       |    Q     |\n",
       "| 54.0 |   0   |   0   |      17463       | 51.8625 |  E46  |    S     |\n",
       "| 2.0  |   3   |   1   |      349909      |  21.075 |       |    S     |\n",
       "| 27.0 |   0   |   2   |      347742      | 11.1333 |       |    S     |\n",
       "| 14.0 |   1   |   0   |      237736      | 30.0708 |       |    C     |\n",
       "+------+-------+-------+------------------+---------+-------+----------+\n",
       "[10 rows x 12 columns]"
      ]
     },
     "execution_count": 4,
     "metadata": {},
     "output_type": "execute_result"
    }
   ],
   "source": [
    "full_train_data.head()"
   ]
  },
  {
   "cell_type": "markdown",
   "metadata": {},
   "source": [
    "test.csv에 들어 있는 테스트 데이터를 **test_data**에 저장합시다."
   ]
  },
  {
   "cell_type": "code",
   "execution_count": 5,
   "metadata": {},
   "outputs": [
    {
     "data": {
      "text/html": [
       "<pre>Finished parsing file /home/nbuser/library/data/kaggle_titanic/test.csv</pre>"
      ],
      "text/plain": [
       "Finished parsing file /home/nbuser/library/data/kaggle_titanic/test.csv"
      ]
     },
     "metadata": {},
     "output_type": "display_data"
    },
    {
     "data": {
      "text/html": [
       "<pre>Parsing completed. Parsed 100 lines in 0.256549 secs.</pre>"
      ],
      "text/plain": [
       "Parsing completed. Parsed 100 lines in 0.256549 secs."
      ]
     },
     "metadata": {},
     "output_type": "display_data"
    },
    {
     "name": "stdout",
     "output_type": "stream",
     "text": [
      "------------------------------------------------------\n",
      "Inferred types from first 100 line(s) of file as \n",
      "column_type_hints=[int,int,str,str,float,int,int,str,float,str,str]\n",
      "If parsing fails due to incorrect types, you can correct\n",
      "the inferred type list above and pass it to read_csv in\n",
      "the column_type_hints argument\n",
      "------------------------------------------------------\n"
     ]
    },
    {
     "data": {
      "text/html": [
       "<pre>Finished parsing file /home/nbuser/library/data/kaggle_titanic/test.csv</pre>"
      ],
      "text/plain": [
       "Finished parsing file /home/nbuser/library/data/kaggle_titanic/test.csv"
      ]
     },
     "metadata": {},
     "output_type": "display_data"
    },
    {
     "data": {
      "text/html": [
       "<pre>Parsing completed. Parsed 418 lines in 0.236682 secs.</pre>"
      ],
      "text/plain": [
       "Parsing completed. Parsed 418 lines in 0.236682 secs."
      ]
     },
     "metadata": {},
     "output_type": "display_data"
    }
   ],
   "source": [
    "test_data = graphlab.SFrame('../data/kaggle_titanic/test.csv')"
   ]
  },
  {
   "cell_type": "markdown",
   "metadata": {},
   "source": [
    "마찬가지로 head 메소드로 확인합시다."
   ]
  },
  {
   "cell_type": "code",
   "execution_count": 6,
   "metadata": {},
   "outputs": [
    {
     "data": {
      "text/html": [
       "<div style=\"max-height:1000px;max-width:1500px;overflow:auto;\"><table frame=\"box\" rules=\"cols\">\n",
       "    <tr>\n",
       "        <th style=\"padding-left: 1em; padding-right: 1em; text-align: center\">PassengerId</th>\n",
       "        <th style=\"padding-left: 1em; padding-right: 1em; text-align: center\">Pclass</th>\n",
       "        <th style=\"padding-left: 1em; padding-right: 1em; text-align: center\">Name</th>\n",
       "        <th style=\"padding-left: 1em; padding-right: 1em; text-align: center\">Sex</th>\n",
       "        <th style=\"padding-left: 1em; padding-right: 1em; text-align: center\">Age</th>\n",
       "        <th style=\"padding-left: 1em; padding-right: 1em; text-align: center\">SibSp</th>\n",
       "        <th style=\"padding-left: 1em; padding-right: 1em; text-align: center\">Parch</th>\n",
       "        <th style=\"padding-left: 1em; padding-right: 1em; text-align: center\">Ticket</th>\n",
       "        <th style=\"padding-left: 1em; padding-right: 1em; text-align: center\">Fare</th>\n",
       "        <th style=\"padding-left: 1em; padding-right: 1em; text-align: center\">Cabin</th>\n",
       "        <th style=\"padding-left: 1em; padding-right: 1em; text-align: center\">Embarked</th>\n",
       "    </tr>\n",
       "    <tr>\n",
       "        <td style=\"padding-left: 1em; padding-right: 1em; text-align: center; vertical-align: top\">892</td>\n",
       "        <td style=\"padding-left: 1em; padding-right: 1em; text-align: center; vertical-align: top\">3</td>\n",
       "        <td style=\"padding-left: 1em; padding-right: 1em; text-align: center; vertical-align: top\">Kelly, Mr. James</td>\n",
       "        <td style=\"padding-left: 1em; padding-right: 1em; text-align: center; vertical-align: top\">male</td>\n",
       "        <td style=\"padding-left: 1em; padding-right: 1em; text-align: center; vertical-align: top\">34.5</td>\n",
       "        <td style=\"padding-left: 1em; padding-right: 1em; text-align: center; vertical-align: top\">0</td>\n",
       "        <td style=\"padding-left: 1em; padding-right: 1em; text-align: center; vertical-align: top\">0</td>\n",
       "        <td style=\"padding-left: 1em; padding-right: 1em; text-align: center; vertical-align: top\">330911</td>\n",
       "        <td style=\"padding-left: 1em; padding-right: 1em; text-align: center; vertical-align: top\">7.8292</td>\n",
       "        <td style=\"padding-left: 1em; padding-right: 1em; text-align: center; vertical-align: top\"></td>\n",
       "        <td style=\"padding-left: 1em; padding-right: 1em; text-align: center; vertical-align: top\">Q</td>\n",
       "    </tr>\n",
       "    <tr>\n",
       "        <td style=\"padding-left: 1em; padding-right: 1em; text-align: center; vertical-align: top\">893</td>\n",
       "        <td style=\"padding-left: 1em; padding-right: 1em; text-align: center; vertical-align: top\">3</td>\n",
       "        <td style=\"padding-left: 1em; padding-right: 1em; text-align: center; vertical-align: top\">Wilkes, Mrs. James (Ellen<br>Needs) ...</td>\n",
       "        <td style=\"padding-left: 1em; padding-right: 1em; text-align: center; vertical-align: top\">female</td>\n",
       "        <td style=\"padding-left: 1em; padding-right: 1em; text-align: center; vertical-align: top\">47.0</td>\n",
       "        <td style=\"padding-left: 1em; padding-right: 1em; text-align: center; vertical-align: top\">1</td>\n",
       "        <td style=\"padding-left: 1em; padding-right: 1em; text-align: center; vertical-align: top\">0</td>\n",
       "        <td style=\"padding-left: 1em; padding-right: 1em; text-align: center; vertical-align: top\">363272</td>\n",
       "        <td style=\"padding-left: 1em; padding-right: 1em; text-align: center; vertical-align: top\">7.0</td>\n",
       "        <td style=\"padding-left: 1em; padding-right: 1em; text-align: center; vertical-align: top\"></td>\n",
       "        <td style=\"padding-left: 1em; padding-right: 1em; text-align: center; vertical-align: top\">S</td>\n",
       "    </tr>\n",
       "    <tr>\n",
       "        <td style=\"padding-left: 1em; padding-right: 1em; text-align: center; vertical-align: top\">894</td>\n",
       "        <td style=\"padding-left: 1em; padding-right: 1em; text-align: center; vertical-align: top\">2</td>\n",
       "        <td style=\"padding-left: 1em; padding-right: 1em; text-align: center; vertical-align: top\">Myles, Mr. Thomas Francis</td>\n",
       "        <td style=\"padding-left: 1em; padding-right: 1em; text-align: center; vertical-align: top\">male</td>\n",
       "        <td style=\"padding-left: 1em; padding-right: 1em; text-align: center; vertical-align: top\">62.0</td>\n",
       "        <td style=\"padding-left: 1em; padding-right: 1em; text-align: center; vertical-align: top\">0</td>\n",
       "        <td style=\"padding-left: 1em; padding-right: 1em; text-align: center; vertical-align: top\">0</td>\n",
       "        <td style=\"padding-left: 1em; padding-right: 1em; text-align: center; vertical-align: top\">240276</td>\n",
       "        <td style=\"padding-left: 1em; padding-right: 1em; text-align: center; vertical-align: top\">9.6875</td>\n",
       "        <td style=\"padding-left: 1em; padding-right: 1em; text-align: center; vertical-align: top\"></td>\n",
       "        <td style=\"padding-left: 1em; padding-right: 1em; text-align: center; vertical-align: top\">Q</td>\n",
       "    </tr>\n",
       "    <tr>\n",
       "        <td style=\"padding-left: 1em; padding-right: 1em; text-align: center; vertical-align: top\">895</td>\n",
       "        <td style=\"padding-left: 1em; padding-right: 1em; text-align: center; vertical-align: top\">3</td>\n",
       "        <td style=\"padding-left: 1em; padding-right: 1em; text-align: center; vertical-align: top\">Wirz, Mr. Albert</td>\n",
       "        <td style=\"padding-left: 1em; padding-right: 1em; text-align: center; vertical-align: top\">male</td>\n",
       "        <td style=\"padding-left: 1em; padding-right: 1em; text-align: center; vertical-align: top\">27.0</td>\n",
       "        <td style=\"padding-left: 1em; padding-right: 1em; text-align: center; vertical-align: top\">0</td>\n",
       "        <td style=\"padding-left: 1em; padding-right: 1em; text-align: center; vertical-align: top\">0</td>\n",
       "        <td style=\"padding-left: 1em; padding-right: 1em; text-align: center; vertical-align: top\">315154</td>\n",
       "        <td style=\"padding-left: 1em; padding-right: 1em; text-align: center; vertical-align: top\">8.6625</td>\n",
       "        <td style=\"padding-left: 1em; padding-right: 1em; text-align: center; vertical-align: top\"></td>\n",
       "        <td style=\"padding-left: 1em; padding-right: 1em; text-align: center; vertical-align: top\">S</td>\n",
       "    </tr>\n",
       "    <tr>\n",
       "        <td style=\"padding-left: 1em; padding-right: 1em; text-align: center; vertical-align: top\">896</td>\n",
       "        <td style=\"padding-left: 1em; padding-right: 1em; text-align: center; vertical-align: top\">3</td>\n",
       "        <td style=\"padding-left: 1em; padding-right: 1em; text-align: center; vertical-align: top\">Hirvonen, Mrs. Alexander<br>(Helga E Lindqvist) ...</td>\n",
       "        <td style=\"padding-left: 1em; padding-right: 1em; text-align: center; vertical-align: top\">female</td>\n",
       "        <td style=\"padding-left: 1em; padding-right: 1em; text-align: center; vertical-align: top\">22.0</td>\n",
       "        <td style=\"padding-left: 1em; padding-right: 1em; text-align: center; vertical-align: top\">1</td>\n",
       "        <td style=\"padding-left: 1em; padding-right: 1em; text-align: center; vertical-align: top\">1</td>\n",
       "        <td style=\"padding-left: 1em; padding-right: 1em; text-align: center; vertical-align: top\">3101298</td>\n",
       "        <td style=\"padding-left: 1em; padding-right: 1em; text-align: center; vertical-align: top\">12.2875</td>\n",
       "        <td style=\"padding-left: 1em; padding-right: 1em; text-align: center; vertical-align: top\"></td>\n",
       "        <td style=\"padding-left: 1em; padding-right: 1em; text-align: center; vertical-align: top\">S</td>\n",
       "    </tr>\n",
       "    <tr>\n",
       "        <td style=\"padding-left: 1em; padding-right: 1em; text-align: center; vertical-align: top\">897</td>\n",
       "        <td style=\"padding-left: 1em; padding-right: 1em; text-align: center; vertical-align: top\">3</td>\n",
       "        <td style=\"padding-left: 1em; padding-right: 1em; text-align: center; vertical-align: top\">Svensson, Mr. Johan<br>Cervin ...</td>\n",
       "        <td style=\"padding-left: 1em; padding-right: 1em; text-align: center; vertical-align: top\">male</td>\n",
       "        <td style=\"padding-left: 1em; padding-right: 1em; text-align: center; vertical-align: top\">14.0</td>\n",
       "        <td style=\"padding-left: 1em; padding-right: 1em; text-align: center; vertical-align: top\">0</td>\n",
       "        <td style=\"padding-left: 1em; padding-right: 1em; text-align: center; vertical-align: top\">0</td>\n",
       "        <td style=\"padding-left: 1em; padding-right: 1em; text-align: center; vertical-align: top\">7538</td>\n",
       "        <td style=\"padding-left: 1em; padding-right: 1em; text-align: center; vertical-align: top\">9.225</td>\n",
       "        <td style=\"padding-left: 1em; padding-right: 1em; text-align: center; vertical-align: top\"></td>\n",
       "        <td style=\"padding-left: 1em; padding-right: 1em; text-align: center; vertical-align: top\">S</td>\n",
       "    </tr>\n",
       "    <tr>\n",
       "        <td style=\"padding-left: 1em; padding-right: 1em; text-align: center; vertical-align: top\">898</td>\n",
       "        <td style=\"padding-left: 1em; padding-right: 1em; text-align: center; vertical-align: top\">3</td>\n",
       "        <td style=\"padding-left: 1em; padding-right: 1em; text-align: center; vertical-align: top\">Connolly, Miss. Kate</td>\n",
       "        <td style=\"padding-left: 1em; padding-right: 1em; text-align: center; vertical-align: top\">female</td>\n",
       "        <td style=\"padding-left: 1em; padding-right: 1em; text-align: center; vertical-align: top\">30.0</td>\n",
       "        <td style=\"padding-left: 1em; padding-right: 1em; text-align: center; vertical-align: top\">0</td>\n",
       "        <td style=\"padding-left: 1em; padding-right: 1em; text-align: center; vertical-align: top\">0</td>\n",
       "        <td style=\"padding-left: 1em; padding-right: 1em; text-align: center; vertical-align: top\">330972</td>\n",
       "        <td style=\"padding-left: 1em; padding-right: 1em; text-align: center; vertical-align: top\">7.6292</td>\n",
       "        <td style=\"padding-left: 1em; padding-right: 1em; text-align: center; vertical-align: top\"></td>\n",
       "        <td style=\"padding-left: 1em; padding-right: 1em; text-align: center; vertical-align: top\">Q</td>\n",
       "    </tr>\n",
       "    <tr>\n",
       "        <td style=\"padding-left: 1em; padding-right: 1em; text-align: center; vertical-align: top\">899</td>\n",
       "        <td style=\"padding-left: 1em; padding-right: 1em; text-align: center; vertical-align: top\">2</td>\n",
       "        <td style=\"padding-left: 1em; padding-right: 1em; text-align: center; vertical-align: top\">Caldwell, Mr. Albert<br>Francis ...</td>\n",
       "        <td style=\"padding-left: 1em; padding-right: 1em; text-align: center; vertical-align: top\">male</td>\n",
       "        <td style=\"padding-left: 1em; padding-right: 1em; text-align: center; vertical-align: top\">26.0</td>\n",
       "        <td style=\"padding-left: 1em; padding-right: 1em; text-align: center; vertical-align: top\">1</td>\n",
       "        <td style=\"padding-left: 1em; padding-right: 1em; text-align: center; vertical-align: top\">1</td>\n",
       "        <td style=\"padding-left: 1em; padding-right: 1em; text-align: center; vertical-align: top\">248738</td>\n",
       "        <td style=\"padding-left: 1em; padding-right: 1em; text-align: center; vertical-align: top\">29.0</td>\n",
       "        <td style=\"padding-left: 1em; padding-right: 1em; text-align: center; vertical-align: top\"></td>\n",
       "        <td style=\"padding-left: 1em; padding-right: 1em; text-align: center; vertical-align: top\">S</td>\n",
       "    </tr>\n",
       "    <tr>\n",
       "        <td style=\"padding-left: 1em; padding-right: 1em; text-align: center; vertical-align: top\">900</td>\n",
       "        <td style=\"padding-left: 1em; padding-right: 1em; text-align: center; vertical-align: top\">3</td>\n",
       "        <td style=\"padding-left: 1em; padding-right: 1em; text-align: center; vertical-align: top\">Abrahim, Mrs. Joseph<br>(Sophie Halaut Easu) ...</td>\n",
       "        <td style=\"padding-left: 1em; padding-right: 1em; text-align: center; vertical-align: top\">female</td>\n",
       "        <td style=\"padding-left: 1em; padding-right: 1em; text-align: center; vertical-align: top\">18.0</td>\n",
       "        <td style=\"padding-left: 1em; padding-right: 1em; text-align: center; vertical-align: top\">0</td>\n",
       "        <td style=\"padding-left: 1em; padding-right: 1em; text-align: center; vertical-align: top\">0</td>\n",
       "        <td style=\"padding-left: 1em; padding-right: 1em; text-align: center; vertical-align: top\">2657</td>\n",
       "        <td style=\"padding-left: 1em; padding-right: 1em; text-align: center; vertical-align: top\">7.2292</td>\n",
       "        <td style=\"padding-left: 1em; padding-right: 1em; text-align: center; vertical-align: top\"></td>\n",
       "        <td style=\"padding-left: 1em; padding-right: 1em; text-align: center; vertical-align: top\">C</td>\n",
       "    </tr>\n",
       "    <tr>\n",
       "        <td style=\"padding-left: 1em; padding-right: 1em; text-align: center; vertical-align: top\">901</td>\n",
       "        <td style=\"padding-left: 1em; padding-right: 1em; text-align: center; vertical-align: top\">3</td>\n",
       "        <td style=\"padding-left: 1em; padding-right: 1em; text-align: center; vertical-align: top\">Davies, Mr. John Samuel</td>\n",
       "        <td style=\"padding-left: 1em; padding-right: 1em; text-align: center; vertical-align: top\">male</td>\n",
       "        <td style=\"padding-left: 1em; padding-right: 1em; text-align: center; vertical-align: top\">21.0</td>\n",
       "        <td style=\"padding-left: 1em; padding-right: 1em; text-align: center; vertical-align: top\">2</td>\n",
       "        <td style=\"padding-left: 1em; padding-right: 1em; text-align: center; vertical-align: top\">0</td>\n",
       "        <td style=\"padding-left: 1em; padding-right: 1em; text-align: center; vertical-align: top\">A/4 48871</td>\n",
       "        <td style=\"padding-left: 1em; padding-right: 1em; text-align: center; vertical-align: top\">24.15</td>\n",
       "        <td style=\"padding-left: 1em; padding-right: 1em; text-align: center; vertical-align: top\"></td>\n",
       "        <td style=\"padding-left: 1em; padding-right: 1em; text-align: center; vertical-align: top\">S</td>\n",
       "    </tr>\n",
       "</table>\n",
       "[10 rows x 11 columns]<br/>\n",
       "</div>"
      ],
      "text/plain": [
       "Columns:\n",
       "\tPassengerId\tint\n",
       "\tPclass\tint\n",
       "\tName\tstr\n",
       "\tSex\tstr\n",
       "\tAge\tfloat\n",
       "\tSibSp\tint\n",
       "\tParch\tint\n",
       "\tTicket\tstr\n",
       "\tFare\tfloat\n",
       "\tCabin\tstr\n",
       "\tEmbarked\tstr\n",
       "\n",
       "Rows: 10\n",
       "\n",
       "Data:\n",
       "+-------------+--------+-------------------------------+--------+------+-------+\n",
       "| PassengerId | Pclass |              Name             |  Sex   | Age  | SibSp |\n",
       "+-------------+--------+-------------------------------+--------+------+-------+\n",
       "|     892     |   3    |        Kelly, Mr. James       |  male  | 34.5 |   0   |\n",
       "|     893     |   3    | Wilkes, Mrs. James (Ellen ... | female | 47.0 |   1   |\n",
       "|     894     |   2    |   Myles, Mr. Thomas Francis   |  male  | 62.0 |   0   |\n",
       "|     895     |   3    |        Wirz, Mr. Albert       |  male  | 27.0 |   0   |\n",
       "|     896     |   3    | Hirvonen, Mrs. Alexander (... | female | 22.0 |   1   |\n",
       "|     897     |   3    |   Svensson, Mr. Johan Cervin  |  male  | 14.0 |   0   |\n",
       "|     898     |   3    |      Connolly, Miss. Kate     | female | 30.0 |   0   |\n",
       "|     899     |   2    |  Caldwell, Mr. Albert Francis |  male  | 26.0 |   1   |\n",
       "|     900     |   3    | Abrahim, Mrs. Joseph (Soph... | female | 18.0 |   0   |\n",
       "|     901     |   3    |    Davies, Mr. John Samuel    |  male  | 21.0 |   2   |\n",
       "+-------------+--------+-------------------------------+--------+------+-------+\n",
       "+-------+-----------+---------+-------+----------+\n",
       "| Parch |   Ticket  |   Fare  | Cabin | Embarked |\n",
       "+-------+-----------+---------+-------+----------+\n",
       "|   0   |   330911  |  7.8292 |       |    Q     |\n",
       "|   0   |   363272  |   7.0   |       |    S     |\n",
       "|   0   |   240276  |  9.6875 |       |    Q     |\n",
       "|   0   |   315154  |  8.6625 |       |    S     |\n",
       "|   1   |  3101298  | 12.2875 |       |    S     |\n",
       "|   0   |    7538   |  9.225  |       |    S     |\n",
       "|   0   |   330972  |  7.6292 |       |    Q     |\n",
       "|   1   |   248738  |   29.0  |       |    S     |\n",
       "|   0   |    2657   |  7.2292 |       |    C     |\n",
       "|   0   | A/4 48871 |  24.15  |       |    S     |\n",
       "+-------+-----------+---------+-------+----------+\n",
       "[10 rows x 11 columns]"
      ]
     },
     "execution_count": 6,
     "metadata": {},
     "output_type": "execute_result"
    }
   ],
   "source": [
    "test_data.head()"
   ]
  },
  {
   "cell_type": "markdown",
   "metadata": {},
   "source": [
    "그래프 시각화를 위해서 아래 명령을 실행합시다."
   ]
  },
  {
   "cell_type": "code",
   "execution_count": 7,
   "metadata": {},
   "outputs": [],
   "source": [
    "graphlab.canvas.set_target('ipynb')"
   ]
  },
  {
   "cell_type": "markdown",
   "metadata": {},
   "source": [
    "## 데이터 정의\n",
    "\n",
    "원본은 다음 링크에서 확인하실 수 있습니다.\n",
    "https://www.kaggle.com/c/titanic/data"
   ]
  },
  {
   "cell_type": "markdown",
   "metadata": {},
   "source": [
    "<tbody>\n",
    "<tr><th><b>Variable</b></th><th><b>Definition</b></th><th><b>Key</b></th></tr>\n",
    "<tr>\n",
    "<td>survival</td>\n",
    "<td>Survival</td>\n",
    "<td>0 = No, 1 = Yes</td>\n",
    "</tr>\n",
    "<tr>\n",
    "<td>pclass</td>\n",
    "<td>Ticket class</td>\n",
    "<td>1 = 1st, 2 = 2nd, 3 = 3rd</td>\n",
    "</tr>\n",
    "<tr>\n",
    "<td>sex</td>\n",
    "<td>Sex</td>\n",
    "<td></td>\n",
    "</tr>\n",
    "<tr>\n",
    "<td>Age</td>\n",
    "<td>Age in years</td>\n",
    "<td></td>\n",
    "</tr>\n",
    "<tr>\n",
    "<td>sibsp</td>\n",
    "<td># of siblings / spouses aboard the Titanic</td>\n",
    "<td></td>\n",
    "</tr>\n",
    "<tr>\n",
    "<td>parch</td>\n",
    "<td># of parents / children aboard the Titanic</td>\n",
    "<td></td>\n",
    "</tr>\n",
    "<tr>\n",
    "<td>ticket</td>\n",
    "<td>Ticket number</td>\n",
    "<td></td>\n",
    "</tr>\n",
    "<tr>\n",
    "<td>fare</td>\n",
    "<td>Passenger fare</td>\n",
    "<td></td>\n",
    "</tr>\n",
    "<tr>\n",
    "<td>cabin</td>\n",
    "<td>Cabin number</td>\n",
    "<td></td>\n",
    "</tr>\n",
    "<tr>\n",
    "<td>embarked</td>\n",
    "<td>Port of Embarkation</td>\n",
    "<td>C = Cherbourg, Q = Queenstown, S = Southampton</td>\n",
    "</tr>\n",
    "</tbody>\n"
   ]
  },
  {
   "cell_type": "markdown",
   "metadata": {},
   "source": [
    "### 변수 노트\n",
    "\n",
    "**pclass**: A proxy for socio-economic status (SES)<br>\n",
    "1st = Upper<br>\n",
    "2nd = Middle<br>\n",
    "3rd = Lower\n",
    "\n",
    "**age**: Age is fractional if less than 1. If the age is estimated, is it in the form of xx.5\n",
    "\n",
    "**sibsp**: The dataset defines family relations in this way...<br>\n",
    "Sibling = brother, sister, stepbrother, stepsister<br>\n",
    "Spouse = husband, wife (mistresses and fiancés were ignored)\n",
    "\n",
    "**parch**: The dataset defines family relations in this way...<br>\n",
    "Parent = mother, father<br>\n",
    "Child = daughter, son, stepdaughter, stepson<br>\n",
    "Some children travelled only with a nanny, therefore parch=0 for them.<br>"
   ]
  },
  {
   "cell_type": "code",
   "execution_count": null,
   "metadata": {},
   "outputs": [],
   "source": []
  },
  {
   "cell_type": "markdown",
   "metadata": {},
   "source": [
    "## 데이터 살펴보기\n"
   ]
  },
  {
   "cell_type": "markdown",
   "metadata": {},
   "source": [
    "show 메소드로 학습 데이터를 확인합시다."
   ]
  },
  {
   "cell_type": "code",
   "execution_count": 8,
   "metadata": {},
   "outputs": [
    {
     "data": {
      "application/javascript": [
       "$(\"head\").append($(\"<link/>\").attr({\n",
       "  rel:  \"stylesheet\",\n",
       "  type: \"text/css\",\n",
       "  href: \"//cdnjs.cloudflare.com/ajax/libs/font-awesome/4.1.0/css/font-awesome.min.css\"\n",
       "}));\n",
       "$(\"head\").append($(\"<link/>\").attr({\n",
       "  rel:  \"stylesheet\",\n",
       "  type: \"text/css\",\n",
       "  href: \"https://static.turi.com/products/graphlab-create/2.1/canvas/css/canvas.css\"\n",
       "}));\n",
       "\n",
       "            (function(){\n",
       "\n",
       "                var e = null;\n",
       "                if (typeof element == 'undefined') {\n",
       "                    var scripts = document.getElementsByTagName('script');\n",
       "                    var thisScriptTag = scripts[scripts.length-1];\n",
       "                    var parentDiv = thisScriptTag.parentNode;\n",
       "                    e = document.createElement('div');\n",
       "                    parentDiv.appendChild(e);\n",
       "                } else {\n",
       "                    e = element[0];\n",
       "                }\n",
       "\n",
       "                if (typeof requirejs !== 'undefined') {\n",
       "                    // disable load timeout; ipython_app.js is large and can take a while to load.\n",
       "                    requirejs.config({waitSeconds: 0});\n",
       "                }\n",
       "\n",
       "                require(['https://static.turi.com/products/graphlab-create/2.1/canvas/js/ipython_app.js'], function(IPythonApp){\n",
       "                    var app = new IPythonApp();\n",
       "                    app.attachView('sframe','Summary', {\"ipython\": true, \"sketch\": {\"Fare\": {\"std\": 49.66553444477412, \"complete\": true, \"min\": 0.0, \"max\": 512.3292, \"quantile\": [0.0, 0.0, 6.2375, 6.975, 7.05, 7.225, 7.225, 7.2292, 7.25, 7.25, 7.55, 7.7292, 7.75, 7.75, 7.75, 7.75, 7.775, 7.775, 7.7958, 7.8542, 7.8542, 7.8958, 7.8958, 7.8958, 7.8958, 7.8958, 7.925, 7.925, 8.05, 8.05, 8.05, 8.05, 8.1125, 8.6542, 8.6625, 9.0, 9.5, 9.5875, 10.4625, 10.5, 10.5, 11.1333, 12.275, 12.525, 13.0, 13.0, 13.0, 13.0, 13.0, 14.0, 14.4542, 14.5, 15.2458, 15.5, 15.85, 16.1, 17.8, 19.2583, 20.2125, 21.0, 21.6792, 23.25, 24.15, 25.5875, 26.0, 26.0, 26.0, 26.25, 26.2875, 26.55, 27.0, 27.75, 29.0, 29.7, 30.5, 31.0, 31.3875, 34.0208, 35.5, 39.0, 39.6875, 46.9, 50.0, 52.0, 53.1, 56.4958, 57.9792, 66.6, 69.55, 73.5, 77.9583, 79.2, 82.1708, 89.1042, 93.5, 113.275, 134.5, 151.55, 211.3375, 262.375, 512.3292], \"median\": 14.4542, \"numeric\": true, \"num_unique\": 248, \"num_undefined\": 0, \"var\": 2466.6653116850443, \"progress\": 1.0, \"size\": 891, \"frequent_items\": {\"7.25\": {\"frequency\": 13, \"value\": 7.25}, \"29.125\": {\"frequency\": 5, \"value\": 29.125}, \"93.5\": {\"frequency\": 2, \"value\": 93.5}, \"7.8792\": {\"frequency\": 4, \"value\": 7.8792}, \"5.0\": {\"frequency\": 1, \"value\": 5.0}, \"86.5\": {\"frequency\": 3, \"value\": 86.5}, \"9.0\": {\"frequency\": 2, \"value\": 9.0}, \"12.0\": {\"frequency\": 1, \"value\": 12.0}, \"13.0\": {\"frequency\": 42, \"value\": 13.0}, \"14.0\": {\"frequency\": 1, \"value\": 14.0}, \"15.0\": {\"frequency\": 1, \"value\": 15.0}, \"16.0\": {\"frequency\": 1, \"value\": 16.0}, \"18.0\": {\"frequency\": 3, \"value\": 18.0}, \"17.4\": {\"frequency\": 1, \"value\": 17.4}, \"21.0\": {\"frequency\": 6, \"value\": 21.0}, \"23.0\": {\"frequency\": 4, \"value\": 23.0}, \"24.0\": {\"frequency\": 2, \"value\": 24.0}, \"7.6292\": {\"frequency\": 1, \"value\": 7.6292}, \"26.0\": {\"frequency\": 31, \"value\": 26.0}, \"27.0\": {\"frequency\": 2, \"value\": 27.0}, \"8.05\": {\"frequency\": 43, \"value\": 8.05}, \"29.0\": {\"frequency\": 2, \"value\": 29.0}, \"30.0\": {\"frequency\": 6, \"value\": 30.0}, \"0.0\": {\"frequency\": 15, \"value\": 0.0}, \"33.0\": {\"frequency\": 3, \"value\": 33.0}, \"35.0\": {\"frequency\": 1, \"value\": 35.0}, \"164.8667\": {\"frequency\": 2, \"value\": 164.8667}, \"39.0\": {\"frequency\": 4, \"value\": 39.0}, \"12.525\": {\"frequency\": 1, \"value\": 12.525}, \"59.4\": {\"frequency\": 1, \"value\": 59.4}, \"7.8\": {\"frequency\": 1, \"value\": 7.8}, \"22.3583\": {\"frequency\": 2, \"value\": 22.3583}, \"50.0\": {\"frequency\": 1, \"value\": 50.0}, \"57.9792\": {\"frequency\": 2, \"value\": 57.9792}, \"52.0\": {\"frequency\": 7, \"value\": 52.0}, \"61.175\": {\"frequency\": 1, \"value\": 61.175}, \"55.0\": {\"frequency\": 2, \"value\": 55.0}, \"57.0\": {\"frequency\": 2, \"value\": 57.0}, \"227.525\": {\"frequency\": 4, \"value\": 227.525}, \"9.4833\": {\"frequency\": 1, \"value\": 9.4833}, \"7.125\": {\"frequency\": 4, \"value\": 7.125}, \"7.5208\": {\"frequency\": 1, \"value\": 7.5208}, \"34.0208\": {\"frequency\": 1, \"value\": 34.0208}, \"80.0\": {\"frequency\": 2, \"value\": 80.0}, \"13.8583\": {\"frequency\": 1, \"value\": 13.8583}, \"71.2833\": {\"frequency\": 1, \"value\": 71.2833}, \"90.0\": {\"frequency\": 4, \"value\": 90.0}, \"7.875\": {\"frequency\": 1, \"value\": 7.875}, \"27.7208\": {\"frequency\": 5, \"value\": 27.7208}, \"9.5\": {\"frequency\": 9, \"value\": 9.5}, \"35.5\": {\"frequency\": 4, \"value\": 35.5}, \"15.0458\": {\"frequency\": 1, \"value\": 15.0458}, \"15.85\": {\"frequency\": 4, \"value\": 15.85}, \"7.775\": {\"frequency\": 16, \"value\": 7.775}, \"113.275\": {\"frequency\": 3, \"value\": 113.275}, \"7.8958\": {\"frequency\": 38, \"value\": 7.8958}, \"15.7417\": {\"frequency\": 2, \"value\": 15.7417}, \"79.2\": {\"frequency\": 4, \"value\": 79.2}, \"19.2583\": {\"frequency\": 4, \"value\": 19.2583}, \"11.2417\": {\"frequency\": 2, \"value\": 11.2417}, \"78.2667\": {\"frequency\": 2, \"value\": 78.2667}, \"120.0\": {\"frequency\": 4, \"value\": 120.0}, \"83.1583\": {\"frequency\": 3, \"value\": 83.1583}, \"7.75\": {\"frequency\": 34, \"value\": 7.75}, \"37.0042\": {\"frequency\": 2, \"value\": 37.0042}, \"10.1708\": {\"frequency\": 1, \"value\": 10.1708}, \"9.2167\": {\"frequency\": 1, \"value\": 9.2167}, \"133.65\": {\"frequency\": 2, \"value\": 133.65}, \"10.5\": {\"frequency\": 24, \"value\": 10.5}, \"22.025\": {\"frequency\": 1, \"value\": 22.025}, \"20.2125\": {\"frequency\": 2, \"value\": 20.2125}, \"25.4667\": {\"frequency\": 4, \"value\": 25.4667}, \"52.5542\": {\"frequency\": 3, \"value\": 52.5542}, \"12.875\": {\"frequency\": 1, \"value\": 12.875}, \"7.725\": {\"frequency\": 1, \"value\": 7.725}, \"108.9\": {\"frequency\": 2, \"value\": 108.9}, \"42.4\": {\"frequency\": 1, \"value\": 42.4}, \"14.1083\": {\"frequency\": 1, \"value\": 14.1083}, \"33.5\": {\"frequency\": 1, \"value\": 33.5}, \"7.7333\": {\"frequency\": 4, \"value\": 7.7333}, \"91.0792\": {\"frequency\": 2, \"value\": 91.0792}, \"77.2875\": {\"frequency\": 2, \"value\": 77.2875}, \"25.9292\": {\"frequency\": 2, \"value\": 25.9292}, \"49.5\": {\"frequency\": 1, \"value\": 49.5}, \"31.0\": {\"frequency\": 3, \"value\": 31.0}, \"14.4\": {\"frequency\": 2, \"value\": 14.4}, \"8.1583\": {\"frequency\": 1, \"value\": 8.1583}, \"30.5\": {\"frequency\": 5, \"value\": 30.5}, \"13.8625\": {\"frequency\": 1, \"value\": 13.8625}, \"7.925\": {\"frequency\": 18, \"value\": 7.925}, \"56.9292\": {\"frequency\": 2, \"value\": 56.9292}, \"30.6958\": {\"frequency\": 2, \"value\": 30.6958}, \"39.6\": {\"frequency\": 2, \"value\": 39.6}, \"7.7958\": {\"frequency\": 6, \"value\": 7.7958}, \"12.35\": {\"frequency\": 3, \"value\": 12.35}, \"9.8458\": {\"frequency\": 1, \"value\": 9.8458}, \"7.55\": {\"frequency\": 4, \"value\": 7.55}, \"12.475\": {\"frequency\": 4, \"value\": 12.475}, \"7.65\": {\"frequency\": 4, \"value\": 7.65}, \"512.3292\": {\"frequency\": 3, \"value\": 512.3292}, \"13.7917\": {\"frequency\": 1, \"value\": 13.7917}, \"15.1\": {\"frequency\": 1, \"value\": 15.1}, \"7.7417\": {\"frequency\": 1, \"value\": 7.7417}, \"7.225\": {\"frequency\": 12, \"value\": 7.225}, \"221.7792\": {\"frequency\": 1, \"value\": 221.7792}, \"76.7292\": {\"frequency\": 3, \"value\": 76.7292}, \"13.4167\": {\"frequency\": 1, \"value\": 13.4167}, \"39.6875\": {\"frequency\": 6, \"value\": 39.6875}, \"14.5\": {\"frequency\": 7, \"value\": 14.5}, \"40.125\": {\"frequency\": 1, \"value\": 40.125}, \"14.4583\": {\"frequency\": 3, \"value\": 14.4583}, \"8.85\": {\"frequency\": 1, \"value\": 8.85}, \"7.0542\": {\"frequency\": 2, \"value\": 7.0542}, \"8.1125\": {\"frequency\": 1, \"value\": 8.1125}, \"78.85\": {\"frequency\": 2, \"value\": 78.85}, \"6.4375\": {\"frequency\": 1, \"value\": 6.4375}, \"26.3875\": {\"frequency\": 1, \"value\": 26.3875}, \"31.3875\": {\"frequency\": 4, \"value\": 31.3875}, \"6.95\": {\"frequency\": 1, \"value\": 6.95}, \"15.55\": {\"frequency\": 1, \"value\": 15.55}, \"50.4958\": {\"frequency\": 1, \"value\": 50.4958}, \"73.5\": {\"frequency\": 5, \"value\": 73.5}, \"49.5042\": {\"frequency\": 2, \"value\": 49.5042}, \"17.8\": {\"frequency\": 2, \"value\": 17.8}, \"263.0\": {\"frequency\": 4, \"value\": 263.0}, \"16.1\": {\"frequency\": 9, \"value\": 16.1}, \"10.4625\": {\"frequency\": 2, \"value\": 10.4625}, \"7.7375\": {\"frequency\": 2, \"value\": 7.7375}, \"31.275\": {\"frequency\": 7, \"value\": 31.275}, \"83.475\": {\"frequency\": 2, \"value\": 83.475}, \"76.2917\": {\"frequency\": 1, \"value\": 76.2917}, \"63.3583\": {\"frequency\": 1, \"value\": 63.3583}, \"8.0292\": {\"frequency\": 1, \"value\": 8.0292}, \"6.8583\": {\"frequency\": 1, \"value\": 6.8583}, \"134.5\": {\"frequency\": 2, \"value\": 134.5}, \"13.5\": {\"frequency\": 4, \"value\": 13.5}, \"46.9\": {\"frequency\": 6, \"value\": 46.9}, \"20.575\": {\"frequency\": 2, \"value\": 20.575}, \"211.5\": {\"frequency\": 1, \"value\": 211.5}, \"7.0458\": {\"frequency\": 1, \"value\": 7.0458}, \"77.9583\": {\"frequency\": 3, \"value\": 77.9583}, \"26.2875\": {\"frequency\": 3, \"value\": 26.2875}, \"8.4583\": {\"frequency\": 1, \"value\": 8.4583}, \"25.925\": {\"frequency\": 1, \"value\": 25.925}, \"9.475\": {\"frequency\": 1, \"value\": 9.475}, \"9.8417\": {\"frequency\": 1, \"value\": 9.8417}, \"8.7125\": {\"frequency\": 1, \"value\": 8.7125}, \"7.1417\": {\"frequency\": 1, \"value\": 7.1417}, \"21.6792\": {\"frequency\": 1, \"value\": 21.6792}, \"24.15\": {\"frequency\": 8, \"value\": 24.15}, \"6.75\": {\"frequency\": 2, \"value\": 6.75}, \"8.6542\": {\"frequency\": 1, \"value\": 8.6542}, \"69.3\": {\"frequency\": 2, \"value\": 69.3}, \"61.9792\": {\"frequency\": 1, \"value\": 61.9792}, \"79.65\": {\"frequency\": 3, \"value\": 79.65}, \"81.8583\": {\"frequency\": 1, \"value\": 81.8583}, \"18.7875\": {\"frequency\": 2, \"value\": 18.7875}, \"34.6542\": {\"frequency\": 1, \"value\": 34.6542}, \"7.8292\": {\"frequency\": 2, \"value\": 7.8292}, \"8.6625\": {\"frequency\": 13, \"value\": 8.6625}, \"20.525\": {\"frequency\": 3, \"value\": 20.525}, \"9.35\": {\"frequency\": 2, \"value\": 9.35}, \"26.25\": {\"frequency\": 6, \"value\": 26.25}, \"20.25\": {\"frequency\": 2, \"value\": 20.25}, \"8.4042\": {\"frequency\": 1, \"value\": 8.4042}, \"15.5\": {\"frequency\": 8, \"value\": 15.5}, \"36.75\": {\"frequency\": 2, \"value\": 36.75}, \"9.5875\": {\"frequency\": 2, \"value\": 9.5875}, \"26.2833\": {\"frequency\": 1, \"value\": 26.2833}, \"11.5\": {\"frequency\": 4, \"value\": 11.5}, \"7.05\": {\"frequency\": 7, \"value\": 7.05}, \"151.55\": {\"frequency\": 4, \"value\": 151.55}, \"8.5167\": {\"frequency\": 1, \"value\": 8.5167}, \"41.5792\": {\"frequency\": 3, \"value\": 41.5792}, \"29.7\": {\"frequency\": 3, \"value\": 29.7}, \"247.5208\": {\"frequency\": 2, \"value\": 247.5208}, \"9.8375\": {\"frequency\": 1, \"value\": 9.8375}, \"262.375\": {\"frequency\": 2, \"value\": 262.375}, \"18.75\": {\"frequency\": 3, \"value\": 18.75}, \"23.45\": {\"frequency\": 2, \"value\": 23.45}, \"55.4417\": {\"frequency\": 1, \"value\": 55.4417}, \"15.9\": {\"frequency\": 2, \"value\": 15.9}, \"56.4958\": {\"frequency\": 7, \"value\": 56.4958}, \"8.3625\": {\"frequency\": 1, \"value\": 8.3625}, \"15.75\": {\"frequency\": 1, \"value\": 15.75}, \"75.25\": {\"frequency\": 1, \"value\": 75.25}, \"69.55\": {\"frequency\": 7, \"value\": 69.55}, \"7.7292\": {\"frequency\": 1, \"value\": 7.7292}, \"65.0\": {\"frequency\": 2, \"value\": 65.0}, \"11.1333\": {\"frequency\": 3, \"value\": 11.1333}, \"82.1708\": {\"frequency\": 2, \"value\": 82.1708}, \"6.2375\": {\"frequency\": 1, \"value\": 6.2375}, \"146.5208\": {\"frequency\": 2, \"value\": 146.5208}, \"25.5875\": {\"frequency\": 1, \"value\": 25.5875}, \"27.9\": {\"frequency\": 6, \"value\": 27.9}, \"66.6\": {\"frequency\": 2, \"value\": 66.6}, \"7.7875\": {\"frequency\": 1, \"value\": 7.7875}, \"14.4542\": {\"frequency\": 7, \"value\": 14.4542}, \"19.9667\": {\"frequency\": 2, \"value\": 19.9667}, \"7.2292\": {\"frequency\": 15, \"value\": 7.2292}, \"7.4958\": {\"frequency\": 3, \"value\": 7.4958}, \"4.0125\": {\"frequency\": 1, \"value\": 4.0125}, \"53.1\": {\"frequency\": 5, \"value\": 53.1}, \"19.5\": {\"frequency\": 2, \"value\": 19.5}, \"10.5167\": {\"frequency\": 1, \"value\": 10.5167}, \"71.0\": {\"frequency\": 2, \"value\": 71.0}, \"12.275\": {\"frequency\": 1, \"value\": 12.275}, \"39.4\": {\"frequency\": 1, \"value\": 39.4}, \"7.8875\": {\"frequency\": 1, \"value\": 7.8875}, \"51.4792\": {\"frequency\": 1, \"value\": 51.4792}, \"7.8542\": {\"frequency\": 13, \"value\": 7.8542}, \"47.1\": {\"frequency\": 1, \"value\": 47.1}, \"15.05\": {\"frequency\": 1, \"value\": 15.05}, \"9.825\": {\"frequency\": 2, \"value\": 9.825}, \"8.6833\": {\"frequency\": 1, \"value\": 8.6833}, \"9.225\": {\"frequency\": 2, \"value\": 9.225}, \"55.9\": {\"frequency\": 2, \"value\": 55.9}, \"8.3\": {\"frequency\": 1, \"value\": 8.3}, \"23.25\": {\"frequency\": 2, \"value\": 23.25}, \"6.45\": {\"frequency\": 1, \"value\": 6.45}, \"21.075\": {\"frequency\": 4, \"value\": 21.075}, \"6.975\": {\"frequency\": 2, \"value\": 6.975}, \"16.7\": {\"frequency\": 2, \"value\": 16.7}, \"30.0708\": {\"frequency\": 2, \"value\": 30.0708}, \"7.3125\": {\"frequency\": 1, \"value\": 7.3125}, \"38.5\": {\"frequency\": 1, \"value\": 38.5}, \"12.2875\": {\"frequency\": 1, \"value\": 12.2875}, \"22.525\": {\"frequency\": 1, \"value\": 22.525}, \"61.3792\": {\"frequency\": 1, \"value\": 61.3792}, \"211.3375\": {\"frequency\": 3, \"value\": 211.3375}, \"28.7125\": {\"frequency\": 1, \"value\": 28.7125}, \"12.65\": {\"frequency\": 1, \"value\": 12.65}, \"8.1375\": {\"frequency\": 1, \"value\": 8.1375}, \"27.75\": {\"frequency\": 4, \"value\": 27.75}, \"26.55\": {\"frequency\": 15, \"value\": 26.55}, \"34.375\": {\"frequency\": 4, \"value\": 34.375}, \"6.4958\": {\"frequency\": 2, \"value\": 6.4958}, \"32.3208\": {\"frequency\": 1, \"value\": 32.3208}, \"28.5\": {\"frequency\": 1, \"value\": 28.5}, \"89.1042\": {\"frequency\": 2, \"value\": 89.1042}, \"8.4333\": {\"frequency\": 1, \"value\": 8.4333}, \"110.8833\": {\"frequency\": 4, \"value\": 110.8833}, \"106.425\": {\"frequency\": 2, \"value\": 106.425}, \"153.4625\": {\"frequency\": 3, \"value\": 153.4625}, \"135.6333\": {\"frequency\": 3, \"value\": 135.6333}, \"51.8625\": {\"frequency\": 2, \"value\": 51.8625}, \"32.5\": {\"frequency\": 1, \"value\": 32.5}, \"15.2458\": {\"frequency\": 5, \"value\": 15.2458}}, \"mean\": 32.204207968574664}, \"Name\": {\"complete\": true, \"numeric\": false, \"num_unique\": 891, \"num_undefined\": 0, \"progress\": 1.0, \"frequent_items\": {\"Mellors, Mr. William John\": {\"frequency\": 1, \"value\": \"Mellors, Mr. ...\"}, \"Ridsdale, Miss. Lucy\": {\"frequency\": 1, \"value\": \"Ridsdale, Miss. ...\"}, \"Johnson, Mr. Alfred\": {\"frequency\": 1, \"value\": \"Johnson, Mr. ...\"}, \"Svensson, Mr. Olof\": {\"frequency\": 1, \"value\": \"Svensson, Mr. Olof\"}, \"Richards, Mrs. Sidney (Emily Hocking)\": {\"frequency\": 1, \"value\": \"Richards, Mrs. ...\"}, \"Hendekovic, Mr. Ignjac\": {\"frequency\": 1, \"value\": \"Hendekovic, Mr. ...\"}, \"Burke, Mr. Jeremiah\": {\"frequency\": 1, \"value\": \"Burke, Mr. ...\"}, \"Brown, Mr. Thomas William Solomon\": {\"frequency\": 1, \"value\": \"Brown, Mr. Thomas ...\"}, \"Bourke, Mrs. John (Catherine)\": {\"frequency\": 1, \"value\": \"Bourke, Mrs. John ...\"}, \"Hart, Mr. Benjamin\": {\"frequency\": 1, \"value\": \"Hart, Mr. Benjamin\"}, \"Sage, Miss. Dorothy Edith \\\"Dolly\\\"\": {\"frequency\": 1, \"value\": \"Sage, Miss. ...\"}, \"Thorne, Mrs. Gertrude Maybelle\": {\"frequency\": 1, \"value\": \"Thorne, Mrs. ...\"}, \"Skoog, Master. Harald\": {\"frequency\": 1, \"value\": \"Skoog, Master. ...\"}, \"Andreasson, Mr. Paul Edvin\": {\"frequency\": 1, \"value\": \"Andreasson, Mr. ...\"}, \"Klaber, Mr. Herman\": {\"frequency\": 1, \"value\": \"Klaber, Mr. Herman\"}, \"Nye, Mrs. (Elizabeth Ramell)\": {\"frequency\": 1, \"value\": \"Nye, Mrs. ...\"}, \"Mamee, Mr. Hanna\": {\"frequency\": 1, \"value\": \"Mamee, Mr. Hanna\"}, \"Lefebre, Miss. Jeannie\": {\"frequency\": 1, \"value\": \"Lefebre, Miss. ...\"}, \"Thorneycroft, Mr. Percival\": {\"frequency\": 1, \"value\": \"Thorneycroft, Mr. ...\"}, \"Turcin, Mr. Stjepan\": {\"frequency\": 1, \"value\": \"Turcin, Mr. ...\"}, \"Potter, Mrs. Thomas Jr (Lily Alexenia Wilson)\": {\"frequency\": 1, \"value\": \"Potter, Mrs. ...\"}, \"Appleton, Mrs. Edward Dale (Charlotte Lamson)\": {\"frequency\": 1, \"value\": \"Appleton, Mrs. ...\"}, \"Lovell, Mr. John Hall (\\\"Henry\\\")\": {\"frequency\": 1, \"value\": \"Lovell, Mr. John ...\"}, \"Andersson, Miss. Ellis Anna Maria\": {\"frequency\": 1, \"value\": \"Andersson, Miss. ...\"}, \"Daniel, Mr. Robert Williams\": {\"frequency\": 1, \"value\": \"Daniel, Mr. Robert ...\"}, \"Sivic, Mr. Husein\": {\"frequency\": 1, \"value\": \"Sivic, Mr. Husein\"}, \"Mernagh, Mr. Robert\": {\"frequency\": 1, \"value\": \"Mernagh, Mr. ...\"}, \"Hunt, Mr. George Henry\": {\"frequency\": 1, \"value\": \"Hunt, Mr. George ...\"}, \"Compton, Miss. Sara Rebecca\": {\"frequency\": 1, \"value\": \"Compton, Miss. ...\"}, \"Leader, Dr. Alice (Farnham)\": {\"frequency\": 1, \"value\": \"Leader, Dr. Alice ...\"}, \"Holm, Mr. John Fredrik Alexander\": {\"frequency\": 1, \"value\": \"Holm, Mr. John ...\"}, \"Andersson, Miss. Erna Alexandra\": {\"frequency\": 1, \"value\": \"Andersson, Miss. ...\"}, \"Myhrman, Mr. Pehr Fabian Oliver Malkolm\": {\"frequency\": 1, \"value\": \"Myhrman, Mr. Pehr ...\"}, \"Karlsson, Mr. Nils August\": {\"frequency\": 1, \"value\": \"Karlsson, Mr. Nils ...\"}, \"Strom, Miss. Telma Matilda\": {\"frequency\": 1, \"value\": \"Strom, Miss. Telma ...\"}, \"Allison, Miss. Helen Loraine\": {\"frequency\": 1, \"value\": \"Allison, Miss. ...\"}, \"Ibrahim Shawah, Mr. Yousseff\": {\"frequency\": 1, \"value\": \"Ibrahim Shawah, ...\"}, \"Van der hoef, Mr. Wyckoff\": {\"frequency\": 1, \"value\": \"Van der hoef, Mr. ...\"}, \"Partner, Mr. Austen\": {\"frequency\": 1, \"value\": \"Partner, Mr. ...\"}, \"Ford, Miss. Doolina Margaret \\\"Daisy\\\"\": {\"frequency\": 1, \"value\": \"Ford, Miss. ...\"}, \"Moss, Mr. Albert Johan\": {\"frequency\": 1, \"value\": \"Moss, Mr. Albert ...\"}, \"Mannion, Miss. Margareth\": {\"frequency\": 1, \"value\": \"Mannion, Miss. ...\"}, \"Rice, Master. George Hugh\": {\"frequency\": 1, \"value\": \"Rice, Master. ...\"}, \"Cor, Mr. Liudevit\": {\"frequency\": 1, \"value\": \"Cor, Mr. Liudevit\"}, \"Dowdell, Miss. Elizabeth\": {\"frequency\": 1, \"value\": \"Dowdell, Miss. ...\"}, \"Panula, Master. Juha Niilo\": {\"frequency\": 1, \"value\": \"Panula, Master. ...\"}, \"Crosby, Miss. Harriet R\": {\"frequency\": 1, \"value\": \"Crosby, Miss. ...\"}, \"Sagesser, Mlle. Emma\": {\"frequency\": 1, \"value\": \"Sagesser, Mlle. ...\"}, \"Brown, Mrs. James Joseph (Margaret Tobin)\": {\"frequency\": 1, \"value\": \"Brown, Mrs. James ...\"}, \"Yasbeck, Mr. Antoni\": {\"frequency\": 1, \"value\": \"Yasbeck, Mr. ...\"}, \"Navratil, Master. Edmond Roger\": {\"frequency\": 1, \"value\": \"Navratil, Master. ...\"}, \"Butler, Mr. Reginald Fenton\": {\"frequency\": 1, \"value\": \"Butler, Mr. ...\"}, \"Zimmerman, Mr. Leo\": {\"frequency\": 1, \"value\": \"Zimmerman, Mr. Leo\"}, \"Jenkin, Mr. Stephen Curnow\": {\"frequency\": 1, \"value\": \"Jenkin, Mr. ...\"}, \"Panula, Master. Urho Abraham\": {\"frequency\": 1, \"value\": \"Panula, Master. ...\"}, \"Rice, Master. Eugene\": {\"frequency\": 1, \"value\": \"Rice, Master. ...\"}, \"Silven, Miss. Lyyli Karoliina\": {\"frequency\": 1, \"value\": \"Silven, Miss. ...\"}, \"Flynn, Mr. John Irwin (\\\"Irving\\\")\": {\"frequency\": 1, \"value\": \"Flynn, Mr. John ...\"}, \"Frost, Mr. Anthony Wood \\\"Archie\\\"\": {\"frequency\": 1, \"value\": \"Frost, Mr. Anthony ...\"}, \"Todoroff, Mr. Lalio\": {\"frequency\": 1, \"value\": \"Todoroff, Mr. ...\"}, \"Carbines, Mr. William\": {\"frequency\": 1, \"value\": \"Carbines, Mr. ...\"}, \"Elias, Mr. Dibo\": {\"frequency\": 1, \"value\": \"Elias, Mr. Dibo\"}, \"Crosby, Capt. Edward Gifford\": {\"frequency\": 1, \"value\": \"Crosby, Capt. ...\"}, \"Colley, Mr. Edward Pomeroy\": {\"frequency\": 1, \"value\": \"Colley, Mr. Edward ...\"}, \"Maioni, Miss. Roberta\": {\"frequency\": 1, \"value\": \"Maioni, Miss. ...\"}, \"Denkoff, Mr. Mitto\": {\"frequency\": 1, \"value\": \"Denkoff, Mr. Mitto\"}, \"Kiernan, Mr. Philip\": {\"frequency\": 1, \"value\": \"Kiernan, Mr. ...\"}, \"Lesurer, Mr. Gustave J\": {\"frequency\": 1, \"value\": \"Lesurer, Mr. ...\"}, \"Frauenthal, Mrs. Henry William (Clara Heinsheimer)\": {\"frequency\": 1, \"value\": \"Frauenthal, Mrs. ...\"}, \"Skoog, Miss. Mabel\": {\"frequency\": 1, \"value\": \"Skoog, Miss. Mabel\"}, \"Cardeza, Mr. Thomas Drake Martinez\": {\"frequency\": 1, \"value\": \"Cardeza, Mr. ...\"}, \"Laitinen, Miss. Kristina Sofia\": {\"frequency\": 1, \"value\": \"Laitinen, Miss. ...\"}, \"Parrish, Mrs. (Lutie Davis)\": {\"frequency\": 1, \"value\": \"Parrish, Mrs. ...\"}, \"McMahon, Mr. Martin\": {\"frequency\": 1, \"value\": \"McMahon, Mr. ...\"}, \"Jermyn, Miss. Annie\": {\"frequency\": 1, \"value\": \"Jermyn, Miss. ...\"}, \"Lulic, Mr. Nikola\": {\"frequency\": 1, \"value\": \"Lulic, Mr. Nikola\"}, \"Eustis, Miss. Elizabeth Mussey\": {\"frequency\": 1, \"value\": \"Eustis, Miss. ...\"}, \"Carter, Mrs. William Ernest (Lucile Polk)\": {\"frequency\": 1, \"value\": \"Carter, Mrs. ...\"}, \"Carter, Rev. Ernest Courtenay\": {\"frequency\": 1, \"value\": \"Carter, Rev. ...\"}, \"Sdycoff, Mr. Todor\": {\"frequency\": 1, \"value\": \"Sdycoff, Mr. Todor\"}, \"Rice, Mrs. William (Margaret Norton)\": {\"frequency\": 1, \"value\": \"Rice, Mrs. William ...\"}, \"Kantor, Mr. Sinai\": {\"frequency\": 1, \"value\": \"Kantor, Mr. Sinai\"}, \"Troupiansky, Mr. Moses Aaron\": {\"frequency\": 1, \"value\": \"Troupiansky, Mr. ...\"}, \"Penasco y Castellana, Mrs. Victor de Satode (Maria Josefa Perez de Soto y Vallejo)\": {\"frequency\": 1, \"value\": \"Penasco y ...\"}, \"Kirkland, Rev. Charles Leonard\": {\"frequency\": 1, \"value\": \"Kirkland, Rev. ...\"}, \"Otter, Mr. Richard\": {\"frequency\": 1, \"value\": \"Otter, Mr. Richard\"}, \"Glynn, Miss. Mary Agatha\": {\"frequency\": 1, \"value\": \"Glynn, Miss. Mary ...\"}, \"Beckwith, Mrs. Richard Leonard (Sallie Monypeny)\": {\"frequency\": 1, \"value\": \"Beckwith, Mrs. ...\"}, \"Quick, Mrs. Frederick Charles (Jane Richards)\": {\"frequency\": 1, \"value\": \"Quick, Mrs. ...\"}, \"McCarthy, Mr. Timothy J\": {\"frequency\": 1, \"value\": \"McCarthy, Mr. ...\"}, \"Harper, Miss. Annie Jessie \\\"Nina\\\"\": {\"frequency\": 1, \"value\": \"Harper, Miss. ...\"}, \"Plotcharsky, Mr. Vasil\": {\"frequency\": 1, \"value\": \"Plotcharsky, Mr. ...\"}, \"Allison, Mrs. Hudson J C (Bessie Waldo Daniels)\": {\"frequency\": 1, \"value\": \"Allison, Mrs. ...\"}, \"Paulner, Mr. Uscher\": {\"frequency\": 1, \"value\": \"Paulner, Mr. ...\"}, \"Connolly, Miss. Kate\": {\"frequency\": 1, \"value\": \"Connolly, Miss. ...\"}, \"Leeni, Mr. Fahim (\\\"Philip Zenni\\\")\": {\"frequency\": 1, \"value\": \"Leeni, Mr. Fahim ...\"}, \"Swift, Mrs. Frederick Joel (Margaret Welles Barron)\": {\"frequency\": 1, \"value\": \"Swift, Mrs. ...\"}, \"Mangan, Miss. Mary\": {\"frequency\": 1, \"value\": \"Mangan, Miss. Mary\"}, \"Sivola, Mr. Antti Wilhelm\": {\"frequency\": 1, \"value\": \"Sivola, Mr. Antti ...\"}, \"Goodwin, Master. Harold Victor\": {\"frequency\": 1, \"value\": \"Goodwin, Master. ...\"}, \"Sandstrom, Mrs. Hjalmar (Agnes Charlotta Bengtsson)\": {\"frequency\": 1, \"value\": \"Sandstrom, Mrs. ...\"}, \"Jussila, Miss. Katriina\": {\"frequency\": 1, \"value\": \"Jussila, Miss. ...\"}, \"Lemore, Mrs. (Amelia Milley)\": {\"frequency\": 1, \"value\": \"Lemore, Mrs. ...\"}, \"Sage, Mr. Frederick\": {\"frequency\": 1, \"value\": \"Sage, Mr. ...\"}, \"Rekic, Mr. Tido\": {\"frequency\": 1, \"value\": \"Rekic, Mr. Tido\"}, \"Williams, Mr. Charles Duane\": {\"frequency\": 1, \"value\": \"Williams, Mr. ...\"}, \"Gillespie, Mr. William Henry\": {\"frequency\": 1, \"value\": \"Gillespie, Mr. ...\"}, \"Panula, Mr. Ernesti Arvid\": {\"frequency\": 1, \"value\": \"Panula, Mr. ...\"}, \"Morley, Mr. William\": {\"frequency\": 1, \"value\": \"Morley, Mr. ...\"}, \"Niskanen, Mr. Juha\": {\"frequency\": 1, \"value\": \"Niskanen, Mr. Juha\"}, \"Sage, Miss. Constance Gladys\": {\"frequency\": 1, \"value\": \"Sage, Miss. ...\"}, \"Christmann, Mr. Emil\": {\"frequency\": 1, \"value\": \"Christmann, Mr. ...\"}, \"Duane, Mr. Frank\": {\"frequency\": 1, \"value\": \"Duane, Mr. Frank\"}, \"Peter, Miss. Anna\": {\"frequency\": 1, \"value\": \"Peter, Miss. Anna\"}, \"McCormack, Mr. Thomas Joseph\": {\"frequency\": 1, \"value\": \"McCormack, Mr. ...\"}, \"Connaghton, Mr. Michael\": {\"frequency\": 1, \"value\": \"Connaghton, Mr. ...\"}, \"Perreault, Miss. Anne\": {\"frequency\": 1, \"value\": \"Perreault, Miss. ...\"}, \"Dahl, Mr. Karl Edwart\": {\"frequency\": 1, \"value\": \"Dahl, Mr. Karl ...\"}, \"Vander Planke, Mr. Leo Edmondus\": {\"frequency\": 1, \"value\": \"Vander Planke, Mr. ...\"}, \"Bailey, Mr. Percy Andrew\": {\"frequency\": 1, \"value\": \"Bailey, Mr. Percy ...\"}, \"Taylor, Mr. Elmer Zebley\": {\"frequency\": 1, \"value\": \"Taylor, Mr. Elmer ...\"}, \"Calderhead, Mr. Edward Pennington\": {\"frequency\": 1, \"value\": \"Calderhead, Mr. ...\"}, \"Asplund, Master. Clarence Gustaf Hugo\": {\"frequency\": 1, \"value\": \"Asplund, Master. ...\"}, \"Moutal, Mr. Rahamin Haim\": {\"frequency\": 1, \"value\": \"Moutal, Mr. ...\"}, \"Albimona, Mr. Nassef Cassem\": {\"frequency\": 1, \"value\": \"Albimona, Mr. ...\"}, \"Honkanen, Miss. Eliina\": {\"frequency\": 1, \"value\": \"Honkanen, Miss. ...\"}, \"Moor, Mrs. (Beila)\": {\"frequency\": 1, \"value\": \"Moor, Mrs. (Beila)\"}, \"Ostby, Mr. Engelhart Cornelius\": {\"frequency\": 1, \"value\": \"Ostby, Mr. ...\"}, \"Thayer, Mr. John Borland Jr\": {\"frequency\": 1, \"value\": \"Thayer, Mr. John ...\"}, \"Flynn, Mr. James\": {\"frequency\": 1, \"value\": \"Flynn, Mr. James\"}, \"Banfield, Mr. Frederick James\": {\"frequency\": 1, \"value\": \"Banfield, Mr. ...\"}, \"Marvin, Mr. Daniel Warner\": {\"frequency\": 1, \"value\": \"Marvin, Mr. Daniel ...\"}, \"Canavan, Miss. Mary\": {\"frequency\": 1, \"value\": \"Canavan, Miss. ...\"}, \"Bazzani, Miss. Albina\": {\"frequency\": 1, \"value\": \"Bazzani, Miss. ...\"}, \"Tobin, Mr. Roger\": {\"frequency\": 1, \"value\": \"Tobin, Mr. Roger\"}, \"Mitchell, Mr. Henry Michael\": {\"frequency\": 1, \"value\": \"Mitchell, Mr. ...\"}, \"Tornquist, Mr. William Henry\": {\"frequency\": 1, \"value\": \"Tornquist, Mr. ...\"}, \"Davies, Mr. Charles Henry\": {\"frequency\": 1, \"value\": \"Davies, Mr. ...\"}, \"West, Mr. Edwy Arthur\": {\"frequency\": 1, \"value\": \"West, Mr. Edwy ...\"}, \"Icard, Miss. Amelie\": {\"frequency\": 1, \"value\": \"Icard, Miss. ...\"}, \"Fleming, Miss. Margaret\": {\"frequency\": 1, \"value\": \"Fleming, Miss. ...\"}, \"Touma, Mrs. Darwis (Hanne Youssef Razi)\": {\"frequency\": 1, \"value\": \"Touma, Mrs. Darwis ...\"}, \"Patchett, Mr. George\": {\"frequency\": 1, \"value\": \"Patchett, Mr. ...\"}, \"Dennis, Mr. Samuel\": {\"frequency\": 1, \"value\": \"Dennis, Mr. Samuel\"}, \"Rosblom, Mr. Viktor Richard\": {\"frequency\": 1, \"value\": \"Rosblom, Mr. ...\"}, \"Angle, Mrs. William A (Florence \\\"Mary\\\" Agnes Hughes)\": {\"frequency\": 1, \"value\": \"Angle, Mrs. ...\"}, \"Somerton, Mr. Francis William\": {\"frequency\": 1, \"value\": \"Somerton, Mr. ...\"}, \"Abbott, Mrs. Stanton (Rosa Hunt)\": {\"frequency\": 1, \"value\": \"Abbott, Mrs. ...\"}, \"Hansen, Mr. Henry Damsgaard\": {\"frequency\": 1, \"value\": \"Hansen, Mr. Henry ...\"}, \"O'Connor, Mr. Maurice\": {\"frequency\": 1, \"value\": \"O'Connor, Mr. ...\"}, \"Louch, Mrs. Charles Alexander (Alice Adelaide Slow)\": {\"frequency\": 1, \"value\": \"Louch, Mrs. ...\"}, \"Hippach, Mrs. Louis Albert (Ida Sophia Fischer)\": {\"frequency\": 1, \"value\": \"Hippach, Mrs. ...\"}, \"Baumann, Mr. John D\": {\"frequency\": 1, \"value\": \"Baumann, Mr. John ...\"}, \"Coleff, Mr. Satio\": {\"frequency\": 1, \"value\": \"Coleff, Mr. Satio\"}, \"Bjornstrom-Steffansson, Mr. Mauritz Hakan\": {\"frequency\": 1, \"value\": \"Bjornstrom- ...\"}, \"Beane, Mrs. Edward (Ethel Clarke)\": {\"frequency\": 1, \"value\": \"Beane, Mrs. Edward ...\"}, \"Minahan, Dr. William Edward\": {\"frequency\": 1, \"value\": \"Minahan, Dr. ...\"}, \"Saundercock, Mr. William Henry\": {\"frequency\": 1, \"value\": \"Saundercock, Mr. ...\"}, \"Hoyt, Mrs. Frederick Maxfield (Jane Anne Forby)\": {\"frequency\": 1, \"value\": \"Hoyt, Mrs. ...\"}, \"Emir, Mr. Farred Chehab\": {\"frequency\": 1, \"value\": \"Emir, Mr. Farred ...\"}, \"Stoytcheff, Mr. Ilia\": {\"frequency\": 1, \"value\": \"Stoytcheff, Mr. ...\"}, \"Nicholson, Mr. Arthur Ernest\": {\"frequency\": 1, \"value\": \"Nicholson, Mr. ...\"}, \"Calic, Mr. Petar\": {\"frequency\": 1, \"value\": \"Calic, Mr. Petar\"}, \"Madsen, Mr. Fridtjof Arne\": {\"frequency\": 1, \"value\": \"Madsen, Mr. ...\"}, \"Knight, Mr. Robert J\": {\"frequency\": 1, \"value\": \"Knight, Mr. Robert ...\"}, \"Hassan, Mr. Houssein G N\": {\"frequency\": 1, \"value\": \"Hassan, Mr. ...\"}, \"Dean, Master. Bertram Vere\": {\"frequency\": 1, \"value\": \"Dean, Master. ...\"}, \"Skoog, Mr. Wilhelm\": {\"frequency\": 1, \"value\": \"Skoog, Mr. Wilhelm\"}, \"Ross, Mr. John Hugo\": {\"frequency\": 1, \"value\": \"Ross, Mr. John ...\"}, \"Jensen, Mr. Svend Lauritz\": {\"frequency\": 1, \"value\": \"Jensen, Mr. Svend ...\"}, \"Palsson, Miss. Torborg Danira\": {\"frequency\": 1, \"value\": \"Palsson, Miss. ...\"}, \"Baclini, Miss. Helene Barbara\": {\"frequency\": 1, \"value\": \"Baclini, Miss. ...\"}, \"Vanden Steen, Mr. Leo Peter\": {\"frequency\": 1, \"value\": \"Vanden Steen, Mr. ...\"}, \"Sunderland, Mr. Victor Francis\": {\"frequency\": 1, \"value\": \"Sunderland, Mr. ...\"}, \"Goodwin, Mrs. Frederick (Augusta Tyler)\": {\"frequency\": 1, \"value\": \"Goodwin, Mrs. ...\"}, \"Smith, Mr. Richard William\": {\"frequency\": 1, \"value\": \"Smith, Mr. Richard ...\"}, \"Barkworth, Mr. Algernon Henry Wilson\": {\"frequency\": 1, \"value\": \"Barkworth, Mr. ...\"}, \"Thayer, Mr. John Borland\": {\"frequency\": 1, \"value\": \"Thayer, Mr. John ...\"}, \"Radeff, Mr. Alexander\": {\"frequency\": 1, \"value\": \"Radeff, Mr. ...\"}, \"Coleridge, Mr. Reginald Charles\": {\"frequency\": 1, \"value\": \"Coleridge, Mr. ...\"}, \"Shellard, Mr. Frederick William\": {\"frequency\": 1, \"value\": \"Shellard, Mr. ...\"}, \"Culumovic, Mr. Jeso\": {\"frequency\": 1, \"value\": \"Culumovic, Mr. ...\"}, \"Rouse, Mr. Richard Henry\": {\"frequency\": 1, \"value\": \"Rouse, Mr. Richard ...\"}, \"Hays, Miss. Margaret Bechstein\": {\"frequency\": 1, \"value\": \"Hays, Miss. ...\"}, \"Bourke, Mr. John\": {\"frequency\": 1, \"value\": \"Bourke, Mr. John\"}, \"Montvila, Rev. Juozas\": {\"frequency\": 1, \"value\": \"Montvila, Rev. ...\"}, \"Holverson, Mrs. Alexander Oskar (Mary Aline Towner)\": {\"frequency\": 1, \"value\": \"Holverson, Mrs. ...\"}, \"Moran, Mr. Daniel J\": {\"frequency\": 1, \"value\": \"Moran, Mr. Daniel ...\"}, \"Skoog, Master. Karl Thorsten\": {\"frequency\": 1, \"value\": \"Skoog, Master. ...\"}, \"Ball, Mrs. (Ada E Hall)\": {\"frequency\": 1, \"value\": \"Ball, Mrs. (Ada E ...\"}, \"Sage, Master. Thomas Henry\": {\"frequency\": 1, \"value\": \"Sage, Master. ...\"}, \"Ilett, Miss. Bertha\": {\"frequency\": 1, \"value\": \"Ilett, Miss. ...\"}, \"O'Brien, Mr. Thomas\": {\"frequency\": 1, \"value\": \"O'Brien, Mr. ...\"}, \"Shorney, Mr. Charles Joseph\": {\"frequency\": 1, \"value\": \"Shorney, Mr. ...\"}, \"Ali, Mr. Ahmed\": {\"frequency\": 1, \"value\": \"Ali, Mr. Ahmed\"}, \"Devaney, Miss. Margaret Delia\": {\"frequency\": 1, \"value\": \"Devaney, Miss. ...\"}, \"Moraweck, Dr. Ernest\": {\"frequency\": 1, \"value\": \"Moraweck, Dr. ...\"}, \"Pears, Mrs. Thomas (Edith Wearne)\": {\"frequency\": 1, \"value\": \"Pears, Mrs. Thomas ...\"}, \"Yousif, Mr. Wazli\": {\"frequency\": 1, \"value\": \"Yousif, Mr. Wazli\"}, \"Goodwin, Master. William Frederick\": {\"frequency\": 1, \"value\": \"Goodwin, Master. ...\"}, \"Brown, Mrs. Thomas William Solomon (Elizabeth Catherine Ford)\": {\"frequency\": 1, \"value\": \"Brown, Mrs. Thomas ...\"}, \"Chapman, Mr. Charles Henry\": {\"frequency\": 1, \"value\": \"Chapman, Mr. ...\"}, \"Webber, Miss. Susan\": {\"frequency\": 1, \"value\": \"Webber, Miss. ...\"}, \"Jansson, Mr. Carl Olof\": {\"frequency\": 1, \"value\": \"Jansson, Mr. Carl ...\"}, \"Lefebre, Miss. Mathilde\": {\"frequency\": 1, \"value\": \"Lefebre, Miss. ...\"}, \"Saalfeld, Mr. Adolphe\": {\"frequency\": 1, \"value\": \"Saalfeld, Mr. ...\"}, \"Van Impe, Miss. Catharina\": {\"frequency\": 1, \"value\": \"Van Impe, Miss. ...\"}, \"Mudd, Mr. Thomas Charles\": {\"frequency\": 1, \"value\": \"Mudd, Mr. Thomas ...\"}, \"Lindahl, Miss. Agda Thorilda Viktoria\": {\"frequency\": 1, \"value\": \"Lindahl, Miss. ...\"}, \"Wick, Miss. Mary Natalie\": {\"frequency\": 1, \"value\": \"Wick, Miss. Mary ...\"}, \"Adams, Mr. John\": {\"frequency\": 1, \"value\": \"Adams, Mr. John\"}, \"Clifford, Mr. George Quincy\": {\"frequency\": 1, \"value\": \"Clifford, Mr. ...\"}, \"Cook, Mr. Jacob\": {\"frequency\": 1, \"value\": \"Cook, Mr. Jacob\"}, \"Madigan, Miss. Margaret \\\"Maggie\\\"\": {\"frequency\": 1, \"value\": \"Madigan, Miss. ...\"}, \"Vander Cruyssen, Mr. Victor\": {\"frequency\": 1, \"value\": \"Vander Cruyssen, ...\"}, \"Jarvis, Mr. John Denzil\": {\"frequency\": 1, \"value\": \"Jarvis, Mr. John ...\"}, \"Sage, Mr. Douglas Bullen\": {\"frequency\": 1, \"value\": \"Sage, Mr. Douglas ...\"}, \"Anderson, Mr. Harry\": {\"frequency\": 1, \"value\": \"Anderson, Mr. ...\"}, \"Kelly, Miss. Anna Katherine \\\"Annie Kate\\\"\": {\"frequency\": 1, \"value\": \"Kelly, Miss. Anna ...\"}, \"Minahan, Miss. Daisy E\": {\"frequency\": 1, \"value\": \"Minahan, Miss. ...\"}, \"Hagland, Mr. Konrad Mathias Reiersen\": {\"frequency\": 1, \"value\": \"Hagland, Mr. ...\"}, \"McDermott, Miss. Brigdet Delia\": {\"frequency\": 1, \"value\": \"McDermott, Miss. ...\"}, \"Hood, Mr. Ambrose Jr\": {\"frequency\": 1, \"value\": \"Hood, Mr. Ambrose ...\"}, \"Greenfield, Mr. William Bertram\": {\"frequency\": 1, \"value\": \"Greenfield, Mr. ...\"}, \"Bostandyeff, Mr. Guentcho\": {\"frequency\": 1, \"value\": \"Bostandyeff, Mr. ...\"}, \"Johannesen-Bratthammer, Mr. Bernt\": {\"frequency\": 1, \"value\": \"Johannesen- ...\"}, \"Markun, Mr. Johann\": {\"frequency\": 1, \"value\": \"Markun, Mr. Johann\"}, \"Turpin, Mr. William John Robert\": {\"frequency\": 1, \"value\": \"Turpin, Mr. ...\"}, \"Andersson, Mr. Anders Johan\": {\"frequency\": 1, \"value\": \"Andersson, Mr. ...\"}, \"Richards, Master. William Rowe\": {\"frequency\": 1, \"value\": \"Richards, Master. ...\"}, \"Cleaver, Miss. Alice\": {\"frequency\": 1, \"value\": \"Cleaver, Miss. ...\"}, \"Andersson, Mr. August Edvard (\\\"Wennerstrom\\\")\": {\"frequency\": 1, \"value\": \"Andersson, Mr. ...\"}, \"Trout, Mrs. William H (Jessie L)\": {\"frequency\": 1, \"value\": \"Trout, Mrs. ...\"}, \"Danbom, Mrs. Ernst Gilbert (Anna Sigrid Maria Brogren)\": {\"frequency\": 1, \"value\": \"Danbom, Mrs. Ernst ...\"}, \"Coleff, Mr. Peju\": {\"frequency\": 1, \"value\": \"Coleff, Mr. Peju\"}, \"Herman, Mrs. Samuel (Jane Laver)\": {\"frequency\": 1, \"value\": \"Herman, Mrs. ...\"}, \"Sandstrom, Miss. Marguerite Rut\": {\"frequency\": 1, \"value\": \"Sandstrom, Miss. ...\"}, \"Eitemiller, Mr. George Floyd\": {\"frequency\": 1, \"value\": \"Eitemiller, Mr. ...\"}, \"Caldwell, Mrs. Albert Francis (Sylvia Mae Harbaugh)\": {\"frequency\": 1, \"value\": \"Caldwell, Mrs. ...\"}, \"Bengtsson, Mr. John Viktor\": {\"frequency\": 1, \"value\": \"Bengtsson, Mr. ...\"}, \"Norman, Mr. Robert Douglas\": {\"frequency\": 1, \"value\": \"Norman, Mr. Robert ...\"}, \"Slayter, Miss. Hilda Mary\": {\"frequency\": 1, \"value\": \"Slayter, Miss. ...\"}, \"Meyer, Mr. Edgar Joseph\": {\"frequency\": 1, \"value\": \"Meyer, Mr. Edgar ...\"}, \"Widener, Mr. Harry Elkins\": {\"frequency\": 1, \"value\": \"Widener, Mr. Harry ...\"}, \"Taussig, Mr. Emil\": {\"frequency\": 1, \"value\": \"Taussig, Mr. Emil\"}, \"Braund, Mr. Owen Harris\": {\"frequency\": 1, \"value\": \"Braund, Mr. Owen ...\"}, \"de Messemaeker, Mrs. Guillaume Joseph (Emma)\": {\"frequency\": 1, \"value\": \"de Messemaeker, ...\"}, \"Fortune, Mr. Mark\": {\"frequency\": 1, \"value\": \"Fortune, Mr. Mark\"}, \"Calic, Mr. Jovo\": {\"frequency\": 1, \"value\": \"Calic, Mr. Jovo\"}, \"Hoyt, Mr. William Fisher\": {\"frequency\": 1, \"value\": \"Hoyt, Mr. William ...\"}, \"Stanley, Mr. Edward Roland\": {\"frequency\": 1, \"value\": \"Stanley, Mr. ...\"}, \"Tikkanen, Mr. Juho\": {\"frequency\": 1, \"value\": \"Tikkanen, Mr. Juho\"}, \"Guggenheim, Mr. Benjamin\": {\"frequency\": 1, \"value\": \"Guggenheim, Mr. ...\"}, \"Johnson, Mr. Malkolm Joackim\": {\"frequency\": 1, \"value\": \"Johnson, Mr. ...\"}, \"White, Mr. Richard Frasar\": {\"frequency\": 1, \"value\": \"White, Mr. Richard ...\"}, \"Young, Miss. Marie Grice\": {\"frequency\": 1, \"value\": \"Young, Miss. Marie ...\"}, \"Moen, Mr. Sigurd Hansen\": {\"frequency\": 1, \"value\": \"Moen, Mr. Sigurd ...\"}, \"Drazenoic, Mr. Jozef\": {\"frequency\": 1, \"value\": \"Drazenoic, Mr. ...\"}, \"Graham, Mrs. William Thompson (Edith Junkins)\": {\"frequency\": 1, \"value\": \"Graham, Mrs. ...\"}, \"Pettersson, Miss. Ellen Natalia\": {\"frequency\": 1, \"value\": \"Pettersson, Miss. ...\"}, \"Asim, Mr. Adola\": {\"frequency\": 1, \"value\": \"Asim, Mr. Adola\"}, \"Thomas, Master. Assad Alexander\": {\"frequency\": 1, \"value\": \"Thomas, Master. ...\"}, \"McKane, Mr. Peter David\": {\"frequency\": 1, \"value\": \"McKane, Mr. Peter ...\"}, \"Woolner, Mr. Hugh\": {\"frequency\": 1, \"value\": \"Woolner, Mr. Hugh\"}, \"Lester, Mr. James\": {\"frequency\": 1, \"value\": \"Lester, Mr. James\"}, \"Bissette, Miss. Amelia\": {\"frequency\": 1, \"value\": \"Bissette, Miss. ...\"}, \"Berriman, Mr. William John\": {\"frequency\": 1, \"value\": \"Berriman, Mr. ...\"}, \"Palsson, Master. Gosta Leonard\": {\"frequency\": 1, \"value\": \"Palsson, Master. ...\"}, \"Celotti, Mr. Francesco\": {\"frequency\": 1, \"value\": \"Celotti, Mr. ...\"}, \"Dodge, Master. Washington\": {\"frequency\": 1, \"value\": \"Dodge, Master. ...\"}, \"Rogers, Mr. William John\": {\"frequency\": 1, \"value\": \"Rogers, Mr. ...\"}, \"Givard, Mr. Hans Kristensen\": {\"frequency\": 1, \"value\": \"Givard, Mr. Hans ...\"}, \"Navratil, Mr. Michel (\\\"Louis M Hoffman\\\")\": {\"frequency\": 1, \"value\": \"Navratil, Mr. ...\"}, \"Nenkoff, Mr. Christo\": {\"frequency\": 1, \"value\": \"Nenkoff, Mr. ...\"}, \"McCoy, Miss. Agnes\": {\"frequency\": 1, \"value\": \"McCoy, Miss. Agnes\"}, \"Haas, Miss. Aloisia\": {\"frequency\": 1, \"value\": \"Haas, Miss. ...\"}, \"Corn, Mr. Harry\": {\"frequency\": 1, \"value\": \"Corn, Mr. Harry\"}, \"Razi, Mr. Raihed\": {\"frequency\": 1, \"value\": \"Razi, Mr. Raihed\"}, \"Smith, Mr. Thomas\": {\"frequency\": 1, \"value\": \"Smith, Mr. Thomas\"}, \"Elias, Mr. Tannous\": {\"frequency\": 1, \"value\": \"Elias, Mr. Tannous\"}, \"Lahtinen, Mrs. William (Anna Sylfven)\": {\"frequency\": 1, \"value\": \"Lahtinen, Mrs. ...\"}, \"Ali, Mr. William\": {\"frequency\": 1, \"value\": \"Ali, Mr. William\"}, \"Scanlan, Mr. James\": {\"frequency\": 1, \"value\": \"Scanlan, Mr. James\"}, \"Padro y Manent, Mr. Julian\": {\"frequency\": 1, \"value\": \"Padro y Manent, ...\"}, \"Moran, Mr. James\": {\"frequency\": 1, \"value\": \"Moran, Mr. James\"}, \"Aks, Mrs. Sam (Leah Rosen)\": {\"frequency\": 1, \"value\": \"Aks, Mrs. Sam ...\"}, \"Roebling, Mr. Washington Augustus II\": {\"frequency\": 1, \"value\": \"Roebling, Mr. ...\"}, \"Williams, Mr. Charles Eugene\": {\"frequency\": 1, \"value\": \"Williams, Mr. ...\"}, \"Buss, Miss. Kate\": {\"frequency\": 1, \"value\": \"Buss, Miss. Kate\"}, \"Olsen, Mr. Henry Margido\": {\"frequency\": 1, \"value\": \"Olsen, Mr. Henry ...\"}, \"Rommetvedt, Mr. Knud Paust\": {\"frequency\": 1, \"value\": \"Rommetvedt, Mr. ...\"}, \"Bourke, Miss. Mary\": {\"frequency\": 1, \"value\": \"Bourke, Miss. Mary\"}, \"Brewe, Dr. Arthur Jackson\": {\"frequency\": 1, \"value\": \"Brewe, Dr. Arthur ...\"}, \"Wheadon, Mr. Edward H\": {\"frequency\": 1, \"value\": \"Wheadon, Mr. ...\"}, \"Petterson, Mr. Johan Emil\": {\"frequency\": 1, \"value\": \"Petterson, Mr. ...\"}, \"Hansen, Mr. Claus Peter\": {\"frequency\": 1, \"value\": \"Hansen, Mr. Claus ...\"}, \"Toufik, Mr. Nakli\": {\"frequency\": 1, \"value\": \"Toufik, Mr. Nakli\"}, \"Watson, Mr. Ennis Hastings\": {\"frequency\": 1, \"value\": \"Watson, Mr. Ennis ...\"}, \"Baxter, Mr. Quigg Edmond\": {\"frequency\": 1, \"value\": \"Baxter, Mr. Quigg ...\"}, \"Newsom, Miss. Helen Monypeny\": {\"frequency\": 1, \"value\": \"Newsom, Miss. ...\"}, \"Cribb, Mr. John Hatfield\": {\"frequency\": 1, \"value\": \"Cribb, Mr. John ...\"}, \"Hocking, Mrs. Elizabeth (Eliza Needs)\": {\"frequency\": 1, \"value\": \"Hocking, Mrs. ...\"}, \"Duff Gordon, Sir. Cosmo Edmund (\\\"Mr Morgan\\\")\": {\"frequency\": 1, \"value\": \"Duff Gordon, Sir. ...\"}, \"Gaskell, Mr. Alfred\": {\"frequency\": 1, \"value\": \"Gaskell, Mr. ...\"}, \"Goldschmidt, Mr. George B\": {\"frequency\": 1, \"value\": \"Goldschmidt, Mr. ...\"}, \"Lam, Mr. Ali\": {\"frequency\": 1, \"value\": \"Lam, Mr. Ali\"}, \"Hays, Mrs. Charles Melville (Clara Jennings Gregg)\": {\"frequency\": 1, \"value\": \"Hays, Mrs. Charles ...\"}, \"Petranec, Miss. Matilda\": {\"frequency\": 1, \"value\": \"Petranec, Miss. ...\"}, \"Boulos, Miss. Nourelain\": {\"frequency\": 1, \"value\": \"Boulos, Miss. ...\"}, \"Johnson, Mrs. Oscar W (Elisabeth Vilhelmina Berg)\": {\"frequency\": 1, \"value\": \"Johnson, Mrs. ...\"}, \"Wright, Mr. George\": {\"frequency\": 1, \"value\": \"Wright, Mr. George\"}, \"Asplund, Master. Edvin Rojj Felix\": {\"frequency\": 1, \"value\": \"Asplund, Master. ...\"}, \"Lobb, Mr. William Arthur\": {\"frequency\": 1, \"value\": \"Lobb, Mr. William ...\"}, \"Ayoub, Miss. Banoura\": {\"frequency\": 1, \"value\": \"Ayoub, Miss. ...\"}, \"Salonen, Mr. Johan Werner\": {\"frequency\": 1, \"value\": \"Salonen, Mr. Johan ...\"}, \"Davison, Mrs. Thomas Henry (Mary E Finck)\": {\"frequency\": 1, \"value\": \"Davison, Mrs. ...\"}, \"Moore, Mr. Leonard Charles\": {\"frequency\": 1, \"value\": \"Moore, Mr. Leonard ...\"}, \"Wiseman, Mr. Phillippe\": {\"frequency\": 1, \"value\": \"Wiseman, Mr. ...\"}, \"Stephenson, Mrs. Walter Bertram (Martha Eustis)\": {\"frequency\": 1, \"value\": \"Stephenson, Mrs. ...\"}, \"White, Mr. Percival Wayland\": {\"frequency\": 1, \"value\": \"White, Mr. ...\"}, \"Laroche, Miss. Simonne Marie Anne Andree\": {\"frequency\": 1, \"value\": \"Laroche, Miss. ...\"}, \"Johnston, Mr. Andrew G\": {\"frequency\": 1, \"value\": \"Johnston, Mr. ...\"}, \"Murdlin, Mr. Joseph\": {\"frequency\": 1, \"value\": \"Murdlin, Mr. ...\"}, \"Fischer, Mr. Eberhard Thelander\": {\"frequency\": 1, \"value\": \"Fischer, Mr. ...\"}, \"Kvillner, Mr. Johan Henrik Johannesson\": {\"frequency\": 1, \"value\": \"Kvillner, Mr. ...\"}, \"Wilhelms, Mr. Charles\": {\"frequency\": 1, \"value\": \"Wilhelms, Mr. ...\"}, \"Laleff, Mr. Kristo\": {\"frequency\": 1, \"value\": \"Laleff, Mr. Kristo\"}, \"McNamee, Mr. Neal\": {\"frequency\": 1, \"value\": \"McNamee, Mr. Neal\"}, \"Harper, Rev. John\": {\"frequency\": 1, \"value\": \"Harper, Rev. John\"}, \"Samaan, Mr. Youssef\": {\"frequency\": 1, \"value\": \"Samaan, Mr. ...\"}, \"Davis, Miss. Mary\": {\"frequency\": 1, \"value\": \"Davis, Miss. Mary\"}, \"Collander, Mr. Erik Gustaf\": {\"frequency\": 1, \"value\": \"Collander, Mr. ...\"}, \"Brown, Miss. Amelia \\\"Mildred\\\"\": {\"frequency\": 1, \"value\": \"Brown, Miss. ...\"}, \"Pekoniemi, Mr. Edvard\": {\"frequency\": 1, \"value\": \"Pekoniemi, Mr. ...\"}, \"Andrew, Mr. Edgardo Samuel\": {\"frequency\": 1, \"value\": \"Andrew, Mr. ...\"}, \"Sundman, Mr. Johan Julian\": {\"frequency\": 1, \"value\": \"Sundman, Mr. Johan ...\"}, \"Williams, Mr. Leslie\": {\"frequency\": 1, \"value\": \"Williams, Mr. ...\"}, \"Blackwell, Mr. Stephen Weart\": {\"frequency\": 1, \"value\": \"Blackwell, Mr. ...\"}, \"Smith, Mr. James Clinch\": {\"frequency\": 1, \"value\": \"Smith, Mr. James ...\"}, \"Ringhini, Mr. Sante\": {\"frequency\": 1, \"value\": \"Ringhini, Mr. ...\"}, \"Cacic, Mr. Luka\": {\"frequency\": 1, \"value\": \"Cacic, Mr. Luka\"}, \"Nicola-Yarred, Miss. Jamila\": {\"frequency\": 1, \"value\": \"Nicola-Yarred, ...\"}, \"Goodwin, Mr. Charles Edward\": {\"frequency\": 1, \"value\": \"Goodwin, Mr. ...\"}, \"Sjoblom, Miss. Anna Sofia\": {\"frequency\": 1, \"value\": \"Sjoblom, Miss. ...\"}, \"Osman, Mrs. Mara\": {\"frequency\": 1, \"value\": \"Osman, Mrs. Mara\"}, \"Pavlovic, Mr. Stefo\": {\"frequency\": 1, \"value\": \"Pavlovic, Mr. ...\"}, \"Kallio, Mr. Nikolai Erland\": {\"frequency\": 1, \"value\": \"Kallio, Mr. ...\"}, \"Milling, Mr. Jacob Christian\": {\"frequency\": 1, \"value\": \"Milling, Mr. Jacob ...\"}, \"Adahl, Mr. Mauritz Nils Martin\": {\"frequency\": 1, \"value\": \"Adahl, Mr. Mauritz ...\"}, \"Connors, Mr. Patrick\": {\"frequency\": 1, \"value\": \"Connors, Mr. ...\"}, \"Johanson, Mr. Jakob Alfred\": {\"frequency\": 1, \"value\": \"Johanson, Mr. ...\"}, \"Graham, Mr. George Edward\": {\"frequency\": 1, \"value\": \"Graham, Mr. George ...\"}, \"Allison, Master. Hudson Trevor\": {\"frequency\": 1, \"value\": \"Allison, Master. ...\"}, \"Harder, Mr. George Achilles\": {\"frequency\": 1, \"value\": \"Harder, Mr. George ...\"}, \"Mayne, Mlle. Berthe Antonine (\\\"Mrs de Villiers\\\")\": {\"frequency\": 1, \"value\": \"Mayne, Mlle. ...\"}, \"Cumings, Mrs. John Bradley (Florence Briggs Thayer)\": {\"frequency\": 1, \"value\": \"Cumings, Mrs. John ...\"}, \"Morley, Mr. Henry Samuel (\\\"Mr Henry Marshall\\\")\": {\"frequency\": 1, \"value\": \"Morley, Mr. Henry ...\"}, \"Perkin, Mr. John Henry\": {\"frequency\": 1, \"value\": \"Perkin, Mr. John ...\"}, \"Bidois, Miss. Rosalie\": {\"frequency\": 1, \"value\": \"Bidois, Miss. ...\"}, \"del Carlo, Mr. Sebastiano\": {\"frequency\": 1, \"value\": \"del Carlo, Mr. ...\"}, \"Yrois, Miss. Henriette (\\\"Mrs Harbeck\\\")\": {\"frequency\": 1, \"value\": \"Yrois, Miss. ...\"}, \"Lindell, Mr. Edvard Bengtsson\": {\"frequency\": 1, \"value\": \"Lindell, Mr. ...\"}, \"Frauenthal, Dr. Henry William\": {\"frequency\": 1, \"value\": \"Frauenthal, Dr. ...\"}, \"Lang, Mr. Fang\": {\"frequency\": 1, \"value\": \"Lang, Mr. Fang\"}, \"Peters, Miss. Katie\": {\"frequency\": 1, \"value\": \"Peters, Miss. ...\"}, \"Lehmann, Miss. Bertha\": {\"frequency\": 1, \"value\": \"Lehmann, Miss. ...\"}, \"Palsson, Miss. Stina Viola\": {\"frequency\": 1, \"value\": \"Palsson, Miss. ...\"}, \"Moubarek, Master. Gerios\": {\"frequency\": 1, \"value\": \"Moubarek, Master. ...\"}, \"Smith, Miss. Marion Elsie\": {\"frequency\": 1, \"value\": \"Smith, Miss. ...\"}, \"Mallet, Mr. Albert\": {\"frequency\": 1, \"value\": \"Mallet, Mr. Albert\"}, \"Ekstrom, Mr. Johan\": {\"frequency\": 1, \"value\": \"Ekstrom, Mr. Johan\"}, \"Marechal, Mr. Pierre\": {\"frequency\": 1, \"value\": \"Marechal, Mr. ...\"}, \"Johansson, Mr. Gustaf Joel\": {\"frequency\": 1, \"value\": \"Johansson, Mr. ...\"}, \"Simonius-Blumer, Col. Oberst Alfons\": {\"frequency\": 1, \"value\": \"Simonius-Blumer, ...\"}, \"Weisz, Mrs. Leopold (Mathilde Francoise Pede)\": {\"frequency\": 1, \"value\": \"Weisz, Mrs. ...\"}, \"Sobey, Mr. Samuel James Hayden\": {\"frequency\": 1, \"value\": \"Sobey, Mr. Samuel ...\"}, \"Lewy, Mr. Ervin G\": {\"frequency\": 1, \"value\": \"Lewy, Mr. Ervin G\"}, \"Watt, Mrs. James (Elizabeth \\\"Bessie\\\" Inglis Milne)\": {\"frequency\": 1, \"value\": \"Watt, Mrs. James ...\"}, \"Carrau, Mr. Francisco M\": {\"frequency\": 1, \"value\": \"Carrau, Mr. ...\"}, \"Newell, Miss. Marjorie\": {\"frequency\": 1, \"value\": \"Newell, Miss. ...\"}, \"Ohman, Miss. Velin\": {\"frequency\": 1, \"value\": \"Ohman, Miss. Velin\"}, \"van Melkebeke, Mr. Philemon\": {\"frequency\": 1, \"value\": \"van Melkebeke, Mr. ...\"}, \"Vande Velde, Mr. Johannes Joseph\": {\"frequency\": 1, \"value\": \"Vande Velde, Mr. ...\"}, \"Allum, Mr. Owen George\": {\"frequency\": 1, \"value\": \"Allum, Mr. Owen ...\"}, \"Jonkoff, Mr. Lalio\": {\"frequency\": 1, \"value\": \"Jonkoff, Mr. Lalio\"}, \"Henry, Miss. Delia\": {\"frequency\": 1, \"value\": \"Henry, Miss. Delia\"}, \"O'Brien, Mr. Timothy\": {\"frequency\": 1, \"value\": \"O'Brien, Mr. ...\"}, \"Peuchen, Major. Arthur Godfrey\": {\"frequency\": 1, \"value\": \"Peuchen, Major. ...\"}, \"Sawyer, Mr. Frederick Charles\": {\"frequency\": 1, \"value\": \"Sawyer, Mr. ...\"}, \"Artagaveytia, Mr. Ramon\": {\"frequency\": 1, \"value\": \"Artagaveytia, Mr. ...\"}, \"Hale, Mr. Reginald\": {\"frequency\": 1, \"value\": \"Hale, Mr. Reginald\"}, \"Byles, Rev. Thomas Roussel Davids\": {\"frequency\": 1, \"value\": \"Byles, Rev. Thomas ...\"}, \"Frolicher, Miss. Hedwig Margaritha\": {\"frequency\": 1, \"value\": \"Frolicher, Miss. ...\"}, \"Hold, Mr. Stephen\": {\"frequency\": 1, \"value\": \"Hold, Mr. Stephen\"}, \"Asplund, Miss. Lillian Gertrud\": {\"frequency\": 1, \"value\": \"Asplund, Miss. ...\"}, \"Thayer, Mrs. John Borland (Marian Longstreth Morris)\": {\"frequency\": 1, \"value\": \"Thayer, Mrs. John ...\"}, \"Longley, Miss. Gretchen Fiske\": {\"frequency\": 1, \"value\": \"Longley, Miss. ...\"}, \"Dick, Mr. Albert Adrian\": {\"frequency\": 1, \"value\": \"Dick, Mr. Albert ...\"}, \"Johansson, Mr. Karl Johan\": {\"frequency\": 1, \"value\": \"Johansson, Mr. ...\"}, \"Baxter, Mrs. James (Helene DeLaudeniere Chaput)\": {\"frequency\": 1, \"value\": \"Baxter, Mrs. James ...\"}, \"Waelens, Mr. Achille\": {\"frequency\": 1, \"value\": \"Waelens, Mr. ...\"}, \"Laroche, Mr. Joseph Philippe Lemercier\": {\"frequency\": 1, \"value\": \"Laroche, Mr. ...\"}, \"Andrews, Miss. Kornelia Theodosia\": {\"frequency\": 1, \"value\": \"Andrews, Miss. ...\"}, \"Parkes, Mr. Francis \\\"Frank\\\"\": {\"frequency\": 1, \"value\": \"Parkes, Mr. ...\"}, \"Nasser, Mr. Nicholas\": {\"frequency\": 1, \"value\": \"Nasser, Mr. ...\"}, \"Hoyt, Mr. Frederick Maxfield\": {\"frequency\": 1, \"value\": \"Hoyt, Mr. ...\"}, \"Taussig, Mrs. Emil (Tillie Mandelbaum)\": {\"frequency\": 1, \"value\": \"Taussig, Mrs. Emil ...\"}, \"Faunthorpe, Mrs. Lizzie (Elizabeth Anne Wilkinson)\": {\"frequency\": 1, \"value\": \"Faunthorpe, Mrs. ...\"}, \"Futrelle, Mr. Jacques Heath\": {\"frequency\": 1, \"value\": \"Futrelle, Mr. ...\"}, \"Bryhl, Mr. Kurt Arnold Gottfrid\": {\"frequency\": 1, \"value\": \"Bryhl, Mr. Kurt ...\"}, \"Jensen, Mr. Hans Peder\": {\"frequency\": 1, \"value\": \"Jensen, Mr. Hans ...\"}, \"Heikkinen, Miss. Laina\": {\"frequency\": 1, \"value\": \"Heikkinen, Miss. ...\"}, \"Ling, Mr. Lee\": {\"frequency\": 1, \"value\": \"Ling, Mr. Lee\"}, \"Daly, Mr. Eugene Patrick\": {\"frequency\": 1, \"value\": \"Daly, Mr. Eugene ...\"}, \"Johansson, Mr. Erik\": {\"frequency\": 1, \"value\": \"Johansson, Mr. ...\"}, \"Kenyon, Mrs. Frederick R (Marion)\": {\"frequency\": 1, \"value\": \"Kenyon, Mrs. ...\"}, \"Webber, Mr. James\": {\"frequency\": 1, \"value\": \"Webber, Mr. James\"}, \"Ivanoff, Mr. Kanio\": {\"frequency\": 1, \"value\": \"Ivanoff, Mr. Kanio\"}, \"Hocking, Mr. Richard George\": {\"frequency\": 1, \"value\": \"Hocking, Mr. ...\"}, \"LeRoy, Miss. Bertha\": {\"frequency\": 1, \"value\": \"LeRoy, Miss. ...\"}, \"Elias, Mr. Joseph Jr\": {\"frequency\": 1, \"value\": \"Elias, Mr. Joseph ...\"}, \"Astor, Mrs. John Jacob (Madeleine Talmadge Force)\": {\"frequency\": 1, \"value\": \"Astor, Mrs. John ...\"}, \"Pain, Dr. Alfred\": {\"frequency\": 1, \"value\": \"Pain, Dr. Alfred\"}, \"McGough, Mr. James Robert\": {\"frequency\": 1, \"value\": \"McGough, Mr. James ...\"}, \"Sutton, Mr. Frederick\": {\"frequency\": 1, \"value\": \"Sutton, Mr. ...\"}, \"Behr, Mr. Karl Howell\": {\"frequency\": 1, \"value\": \"Behr, Mr. Karl ...\"}, \"Parr, Mr. William Henry Marsh\": {\"frequency\": 1, \"value\": \"Parr, Mr. William ...\"}, \"Crease, Mr. Ernest James\": {\"frequency\": 1, \"value\": \"Crease, Mr. Ernest ...\"}, \"Kilgannon, Mr. Thomas J\": {\"frequency\": 1, \"value\": \"Kilgannon, Mr. ...\"}, \"McGowan, Miss. Anna \\\"Annie\\\"\": {\"frequency\": 1, \"value\": \"McGowan, Miss. ...\"}, \"Hawksford, Mr. Walter James\": {\"frequency\": 1, \"value\": \"Hawksford, Mr. ...\"}, \"Warren, Mrs. Frank Manley (Anna Sophia Atkinson)\": {\"frequency\": 1, \"value\": \"Warren, Mrs. Frank ...\"}, \"Pernot, Mr. Rene\": {\"frequency\": 1, \"value\": \"Pernot, Mr. Rene\"}, \"Attalah, Miss. Malake\": {\"frequency\": 1, \"value\": \"Attalah, Miss. ...\"}, \"Fortune, Miss. Alice Elizabeth\": {\"frequency\": 1, \"value\": \"Fortune, Miss. ...\"}, \"Taussig, Miss. Ruth\": {\"frequency\": 1, \"value\": \"Taussig, Miss. ...\"}, \"Lennon, Mr. Denis\": {\"frequency\": 1, \"value\": \"Lennon, Mr. Denis\"}, \"Fortune, Mr. Charles Alexander\": {\"frequency\": 1, \"value\": \"Fortune, Mr. ...\"}, \"Lefebre, Master. Henry Forbes\": {\"frequency\": 1, \"value\": \"Lefebre, Master. ...\"}, \"Harknett, Miss. Alice Phoebe\": {\"frequency\": 1, \"value\": \"Harknett, Miss. ...\"}, \"Gee, Mr. Arthur H\": {\"frequency\": 1, \"value\": \"Gee, Mr. Arthur H\"}, \"Turpin, Mrs. William John Robert (Dorothy Ann Wonnacott)\": {\"frequency\": 1, \"value\": \"Turpin, Mrs. ...\"}, \"Troutt, Miss. Edwina Celia \\\"Winnie\\\"\": {\"frequency\": 1, \"value\": \"Troutt, Miss. ...\"}, \"Berglund, Mr. Karl Ivar Sven\": {\"frequency\": 1, \"value\": \"Berglund, Mr. Karl ...\"}, \"Walker, Mr. William Anderson\": {\"frequency\": 1, \"value\": \"Walker, Mr. ...\"}, \"Hart, Mr. Henry\": {\"frequency\": 1, \"value\": \"Hart, Mr. Henry\"}, \"Karaic, Mr. Milan\": {\"frequency\": 1, \"value\": \"Karaic, Mr. Milan\"}, \"Maenpaa, Mr. Matti Alexanteri\": {\"frequency\": 1, \"value\": \"Maenpaa, Mr. Matti ...\"}, \"Coutts, Master. Eden Leslie \\\"Neville\\\"\": {\"frequency\": 1, \"value\": \"Coutts, Master. ...\"}, \"Campbell, Mr. William\": {\"frequency\": 1, \"value\": \"Campbell, Mr. ...\"}, \"Bishop, Mr. Dickinson H\": {\"frequency\": 1, \"value\": \"Bishop, Mr. ...\"}, \"Kraeff, Mr. Theodor\": {\"frequency\": 1, \"value\": \"Kraeff, Mr. ...\"}, \"Jussila, Miss. Mari Aina\": {\"frequency\": 1, \"value\": \"Jussila, Miss. ...\"}, \"Baclini, Miss. Marie Catherine\": {\"frequency\": 1, \"value\": \"Baclini, Miss. ...\"}, \"Lemberopolous, Mr. Peter L\": {\"frequency\": 1, \"value\": \"Lemberopolous, Mr. ...\"}, \"Sharp, Mr. Percival James R\": {\"frequency\": 1, \"value\": \"Sharp, Mr. ...\"}, \"Sadlier, Mr. Matthew\": {\"frequency\": 1, \"value\": \"Sadlier, Mr. ...\"}, \"Goldsmith, Mr. Frank John\": {\"frequency\": 1, \"value\": \"Goldsmith, Mr. ...\"}, \"West, Miss. Constance Mirium\": {\"frequency\": 1, \"value\": \"West, Miss. ...\"}, \"Mullens, Miss. Katherine \\\"Katie\\\"\": {\"frequency\": 1, \"value\": \"Mullens, Miss. ...\"}, \"Olsvigen, Mr. Thor Anderson\": {\"frequency\": 1, \"value\": \"Olsvigen, Mr. Thor ...\"}, \"O'Brien, Mrs. Thomas (Johanna \\\"Hannah\\\" Godfrey)\": {\"frequency\": 1, \"value\": \"O'Brien, Mrs. ...\"}, \"Yasbeck, Mrs. Antoni (Selini Alexander)\": {\"frequency\": 1, \"value\": \"Yasbeck, Mrs. ...\"}, \"Heininen, Miss. Wendla Maria\": {\"frequency\": 1, \"value\": \"Heininen, Miss. ...\"}, \"Sjostedt, Mr. Ernst Adolf\": {\"frequency\": 1, \"value\": \"Sjostedt, Mr. ...\"}, \"Robert, Mrs. Edward Scott (Elisabeth Walton McMillan)\": {\"frequency\": 1, \"value\": \"Robert, Mrs. ...\"}, \"Pasic, Mr. Jakob\": {\"frequency\": 1, \"value\": \"Pasic, Mr. Jakob\"}, \"Barah, Mr. Hanna Assi\": {\"frequency\": 1, \"value\": \"Barah, Mr. Hanna ...\"}, \"Renouf, Mr. Peter Henry\": {\"frequency\": 1, \"value\": \"Renouf, Mr. Peter ...\"}, \"Ford, Mrs. Edward (Margaret Ann Watson)\": {\"frequency\": 1, \"value\": \"Ford, Mrs. Edward ...\"}, \"Gallagher, Mr. Martin\": {\"frequency\": 1, \"value\": \"Gallagher, Mr. ...\"}, \"Leitch, Miss. Jessie Wills\": {\"frequency\": 1, \"value\": \"Leitch, Miss. ...\"}, \"Goldenberg, Mrs. Samuel L (Edwiga Grabowska)\": {\"frequency\": 1, \"value\": \"Goldenberg, Mrs. ...\"}, \"Coutts, Master. William Loch \\\"William\\\"\": {\"frequency\": 1, \"value\": \"Coutts, Master. ...\"}, \"Moor, Master. Meier\": {\"frequency\": 1, \"value\": \"Moor, Master. ...\"}, \"Palsson, Mrs. Nils (Alma Cornelia Berglund)\": {\"frequency\": 1, \"value\": \"Palsson, Mrs. Nils ...\"}, \"Gustafsson, Mr. Johan Birger\": {\"frequency\": 1, \"value\": \"Gustafsson, Mr. ...\"}, \"de Mulder, Mr. Theodore\": {\"frequency\": 1, \"value\": \"de Mulder, Mr. ...\"}, \"Allen, Miss. Elisabeth Walton\": {\"frequency\": 1, \"value\": \"Allen, Miss. ...\"}, \"Olsen, Mr. Karl Siegwart Andreas\": {\"frequency\": 1, \"value\": \"Olsen, Mr. Karl ...\"}, \"Asplund, Mrs. Carl Oscar (Selma Augusta Emilia Johansson)\": {\"frequency\": 1, \"value\": \"Asplund, Mrs. Carl ...\"}, \"Gustafsson, Mr. Alfred Ossian\": {\"frequency\": 1, \"value\": \"Gustafsson, Mr. ...\"}, \"Van Impe, Mr. Jean Baptiste\": {\"frequency\": 1, \"value\": \"Van Impe, Mr. Jean ...\"}, \"Abbott, Mr. Rossmore Edward\": {\"frequency\": 1, \"value\": \"Abbott, Mr. ...\"}, \"Boulos, Mrs. Joseph (Sultana)\": {\"frequency\": 1, \"value\": \"Boulos, Mrs. ...\"}, \"Ryan, Mr. Patrick\": {\"frequency\": 1, \"value\": \"Ryan, Mr. Patrick\"}, \"Olsson, Mr. Nils Johan Goransson\": {\"frequency\": 1, \"value\": \"Olsson, Mr. Nils ...\"}, \"Arnold-Franchi, Mr. Josef\": {\"frequency\": 1, \"value\": \"Arnold-Franchi, ...\"}, \"Keane, Miss. Nora A\": {\"frequency\": 1, \"value\": \"Keane, Miss. Nora ...\"}, \"Reuchlin, Jonkheer. John George\": {\"frequency\": 1, \"value\": \"Reuchlin, ...\"}, \"Hanna, Mr. Mansour\": {\"frequency\": 1, \"value\": \"Hanna, Mr. Mansour\"}, \"Carr, Miss. Helen \\\"Ellen\\\"\": {\"frequency\": 1, \"value\": \"Carr, Miss. Helen ...\"}, \"Richard, Mr. Emile\": {\"frequency\": 1, \"value\": \"Richard, Mr. Emile\"}, \"Frolicher-Stehli, Mr. Maxmillian\": {\"frequency\": 1, \"value\": \"Frolicher-Stehli, ...\"}, \"Blank, Mr. Henry\": {\"frequency\": 1, \"value\": \"Blank, Mr. Henry\"}, \"Harper, Mrs. Henry Sleeper (Myna Haxtun)\": {\"frequency\": 1, \"value\": \"Harper, Mrs. Henry ...\"}, \"Cavendish, Mr. Tyrell William\": {\"frequency\": 1, \"value\": \"Cavendish, Mr. ...\"}, \"Turkula, Mrs. (Hedwig)\": {\"frequency\": 1, \"value\": \"Turkula, Mrs. ...\"}, \"Mellinger, Mrs. (Elizabeth Anne Maidment)\": {\"frequency\": 1, \"value\": \"Mellinger, Mrs. ...\"}, \"Gronnestad, Mr. Daniel Danielsen\": {\"frequency\": 1, \"value\": \"Gronnestad, Mr. ...\"}, \"Jardin, Mr. Jose Neto\": {\"frequency\": 1, \"value\": \"Jardin, Mr. Jose ...\"}, \"Andersson, Miss. Sigrid Elisabeth\": {\"frequency\": 1, \"value\": \"Andersson, Miss. ...\"}, \"Rice, Master. Arthur\": {\"frequency\": 1, \"value\": \"Rice, Master. ...\"}, \"Fynney, Mr. Joseph J\": {\"frequency\": 1, \"value\": \"Fynney, Mr. Joseph ...\"}, \"Bracken, Mr. James H\": {\"frequency\": 1, \"value\": \"Bracken, Mr. James ...\"}, \"Lindblom, Miss. Augusta Charlotta\": {\"frequency\": 1, \"value\": \"Lindblom, Miss. ...\"}, \"Williams-Lambert, Mr. Fletcher Fellows\": {\"frequency\": 1, \"value\": \"Williams-Lambert, ...\"}, \"Wick, Mrs. George Dennick (Mary Hitchcock)\": {\"frequency\": 1, \"value\": \"Wick, Mrs. George ...\"}, \"Ryerson, Miss. Susan Parker \\\"Suzette\\\"\": {\"frequency\": 1, \"value\": \"Ryerson, Miss. ...\"}, \"Nakid, Miss. Maria (\\\"Mary\\\")\": {\"frequency\": 1, \"value\": \"Nakid, Miss. Maria ...\"}, \"Lundahl, Mr. Johan Svensson\": {\"frequency\": 1, \"value\": \"Lundahl, Mr. Johan ...\"}, \"Moubarek, Master. Halim Gonios (\\\"William George\\\")\": {\"frequency\": 1, \"value\": \"Moubarek, Master. ...\"}, \"Slocovski, Mr. Selman Francis\": {\"frequency\": 1, \"value\": \"Slocovski, Mr. ...\"}, \"Humblen, Mr. Adolf Mathias Nicolai Olsen\": {\"frequency\": 1, \"value\": \"Humblen, Mr. Adolf ...\"}, \"Danbom, Mr. Ernst Gilbert\": {\"frequency\": 1, \"value\": \"Danbom, Mr. Ernst ...\"}, \"Collyer, Miss. Marjorie \\\"Lottie\\\"\": {\"frequency\": 1, \"value\": \"Collyer, Miss. ...\"}, \"Hansen, Mr. Henrik Juul\": {\"frequency\": 1, \"value\": \"Hansen, Mr. Henrik ...\"}, \"Serepeca, Miss. Augusta\": {\"frequency\": 1, \"value\": \"Serepeca, Miss. ...\"}, \"Karun, Miss. Manca\": {\"frequency\": 1, \"value\": \"Karun, Miss. Manca\"}, \"Barbara, Mrs. (Catherine David)\": {\"frequency\": 1, \"value\": \"Barbara, Mrs. ...\"}, \"Oreskovic, Mr. Luka\": {\"frequency\": 1, \"value\": \"Oreskovic, Mr. ...\"}, \"Johnson, Miss. Eleanor Ileen\": {\"frequency\": 1, \"value\": \"Johnson, Miss. ...\"}, \"Hedman, Mr. Oskar Arvid\": {\"frequency\": 1, \"value\": \"Hedman, Mr. Oskar ...\"}, \"Long, Mr. Milton Clyde\": {\"frequency\": 1, \"value\": \"Long, Mr. Milton ...\"}, \"Chaffee, Mr. Herbert Fuller\": {\"frequency\": 1, \"value\": \"Chaffee, Mr. ...\"}, \"McCoy, Mr. Bernard\": {\"frequency\": 1, \"value\": \"McCoy, Mr. Bernard\"}, \"Meo, Mr. Alfonzo\": {\"frequency\": 1, \"value\": \"Meo, Mr. Alfonzo\"}, \"Harris, Mr. Henry Birkhardt\": {\"frequency\": 1, \"value\": \"Harris, Mr. Henry ...\"}, \"Gilnagh, Miss. Katherine \\\"Katie\\\"\": {\"frequency\": 1, \"value\": \"Gilnagh, Miss. ...\"}, \"Beckwith, Mr. Richard Leonard\": {\"frequency\": 1, \"value\": \"Beckwith, Mr. ...\"}, \"Olsen, Mr. Ole Martin\": {\"frequency\": 1, \"value\": \"Olsen, Mr. Ole ...\"}, \"Hickman, Mr. Lewis\": {\"frequency\": 1, \"value\": \"Hickman, Mr. Lewis\"}, \"Oreskovic, Miss. Marija\": {\"frequency\": 1, \"value\": \"Oreskovic, Miss. ...\"}, \"Homer, Mr. Harry (\\\"Mr E Haven\\\")\": {\"frequency\": 1, \"value\": \"Homer, Mr. Harry ...\"}, \"Johnston, Miss. Catherine Helen \\\"Carrie\\\"\": {\"frequency\": 1, \"value\": \"Johnston, Miss. ...\"}, \"Silvey, Mr. William Baird\": {\"frequency\": 1, \"value\": \"Silvey, Mr. ...\"}, \"Lindqvist, Mr. Eino William\": {\"frequency\": 1, \"value\": \"Lindqvist, Mr. ...\"}, \"Soholt, Mr. Peter Andreas Lauritz Andersen\": {\"frequency\": 1, \"value\": \"Soholt, Mr. Peter ...\"}, \"Carter, Master. William Thornton II\": {\"frequency\": 1, \"value\": \"Carter, Master. ...\"}, \"Collyer, Mr. Harvey\": {\"frequency\": 1, \"value\": \"Collyer, Mr. ...\"}, \"Goodwin, Miss. Lillian Amy\": {\"frequency\": 1, \"value\": \"Goodwin, Miss. ...\"}, \"van Billiard, Mr. Austin Blyler\": {\"frequency\": 1, \"value\": \"van Billiard, Mr. ...\"}, \"Baclini, Miss. Eugenie\": {\"frequency\": 1, \"value\": \"Baclini, Miss. ...\"}, \"Carlsson, Mr. Frans Olof\": {\"frequency\": 1, \"value\": \"Carlsson, Mr. ...\"}, \"Quick, Miss. Phyllis May\": {\"frequency\": 1, \"value\": \"Quick, Miss. ...\"}, \"Garside, Miss. Ethel\": {\"frequency\": 1, \"value\": \"Garside, Miss. ...\"}, \"Johnson, Master. Harold Theodor\": {\"frequency\": 1, \"value\": \"Johnson, Master. ...\"}, \"Stanley, Miss. Amy Zillah Elsie\": {\"frequency\": 1, \"value\": \"Stanley, Miss. Amy ...\"}, \"Hegarty, Miss. Hanora \\\"Nora\\\"\": {\"frequency\": 1, \"value\": \"Hegarty, Miss. ...\"}, \"Nicholls, Mr. Joseph Charles\": {\"frequency\": 1, \"value\": \"Nicholls, Mr. ...\"}, \"Cunningham, Mr. Alfred Fleming\": {\"frequency\": 1, \"value\": \"Cunningham, Mr. ...\"}, \"Nysveen, Mr. Johan Hansen\": {\"frequency\": 1, \"value\": \"Nysveen, Mr. Johan ...\"}, \"Pinsky, Mrs. (Rosa)\": {\"frequency\": 1, \"value\": \"Pinsky, Mrs. ...\"}, \"Garfirth, Mr. John\": {\"frequency\": 1, \"value\": \"Garfirth, Mr. John\"}, \"Lievens, Mr. Rene Aime\": {\"frequency\": 1, \"value\": \"Lievens, Mr. Rene ...\"}, \"Caldwell, Master. Alden Gates\": {\"frequency\": 1, \"value\": \"Caldwell, Master. ...\"}, \"Boulos, Mr. Hanna\": {\"frequency\": 1, \"value\": \"Boulos, Mr. Hanna\"}, \"Penasco y Castellana, Mr. Victor de Satode\": {\"frequency\": 1, \"value\": \"Penasco y ...\"}, \"Newell, Miss. Madeleine\": {\"frequency\": 1, \"value\": \"Newell, Miss. ...\"}, \"Mineff, Mr. Ivan\": {\"frequency\": 1, \"value\": \"Mineff, Mr. Ivan\"}, \"Meyer, Mr. August\": {\"frequency\": 1, \"value\": \"Meyer, Mr. August\"}, \"Leonard, Mr. Lionel\": {\"frequency\": 1, \"value\": \"Leonard, Mr. ...\"}, \"Nankoff, Mr. Minko\": {\"frequency\": 1, \"value\": \"Nankoff, Mr. Minko\"}, \"Douglas, Mr. Walter Donald\": {\"frequency\": 1, \"value\": \"Douglas, Mr. ...\"}, \"Clarke, Mrs. Charles V (Ada Maria Winfield)\": {\"frequency\": 1, \"value\": \"Clarke, Mrs. ...\"}, \"Kelly, Mrs. Florence \\\"Fannie\\\"\": {\"frequency\": 1, \"value\": \"Kelly, Mrs. ...\"}, \"Dantcheff, Mr. Ristiu\": {\"frequency\": 1, \"value\": \"Dantcheff, Mr. ...\"}, \"Becker, Miss. Marion Louise\": {\"frequency\": 1, \"value\": \"Becker, Miss. ...\"}, \"Meyer, Mrs. Edgar Joseph (Leila Saks)\": {\"frequency\": 1, \"value\": \"Meyer, Mrs. Edgar ...\"}, \"Robbins, Mr. Victor\": {\"frequency\": 1, \"value\": \"Robbins, Mr. ...\"}, \"Barber, Miss. Ellen \\\"Nellie\\\"\": {\"frequency\": 1, \"value\": \"Barber, Miss. ...\"}, \"Holverson, Mr. Alexander Oskar\": {\"frequency\": 1, \"value\": \"Holverson, Mr. ...\"}, \"Nilsson, Miss. Helmina Josefina\": {\"frequency\": 1, \"value\": \"Nilsson, Miss. ...\"}, \"Molson, Mr. Harry Markland\": {\"frequency\": 1, \"value\": \"Molson, Mr. Harry ...\"}, \"Peduzzi, Mr. Joseph\": {\"frequency\": 1, \"value\": \"Peduzzi, Mr. ...\"}, \"Kink, Mr. Vincenz\": {\"frequency\": 1, \"value\": \"Kink, Mr. Vincenz\"}, \"Olsson, Miss. Elina\": {\"frequency\": 1, \"value\": \"Olsson, Miss. ...\"}, \"Alhomaki, Mr. Ilmari Rudolf\": {\"frequency\": 1, \"value\": \"Alhomaki, Mr. ...\"}, \"Gill, Mr. John William\": {\"frequency\": 1, \"value\": \"Gill, Mr. John ...\"}, \"Ward, Miss. Anna\": {\"frequency\": 1, \"value\": \"Ward, Miss. Anna\"}, \"Collyer, Mrs. Harvey (Charlotte Annie Tate)\": {\"frequency\": 1, \"value\": \"Collyer, Mrs. ...\"}, \"Danoff, Mr. Yoto\": {\"frequency\": 1, \"value\": \"Danoff, Mr. Yoto\"}, \"Najib, Miss. Adele Kiamie \\\"Jane\\\"\": {\"frequency\": 1, \"value\": \"Najib, Miss. Adele ...\"}, \"Thorneycroft, Mrs. Percival (Florence Kate White)\": {\"frequency\": 1, \"value\": \"Thorneycroft, Mrs. ...\"}, \"Kink-Heilmann, Miss. Luise Gretchen\": {\"frequency\": 1, \"value\": \"Kink-Heilmann, ...\"}, \"Sage, Miss. Stella Anna\": {\"frequency\": 1, \"value\": \"Sage, Miss. Stella ...\"}, \"Harris, Mrs. Henry Birkhardt (Irene Wallach)\": {\"frequency\": 1, \"value\": \"Harris, Mrs. Henry ...\"}, \"Newell, Mr. Arthur Webster\": {\"frequency\": 1, \"value\": \"Newell, Mr. Arthur ...\"}, \"McEvoy, Mr. Michael\": {\"frequency\": 1, \"value\": \"McEvoy, Mr. ...\"}, \"Kantor, Mrs. Sinai (Miriam Sternin)\": {\"frequency\": 1, \"value\": \"Kantor, Mrs. Sinai ...\"}, \"Cohen, Mr. Gurshon \\\"Gus\\\"\": {\"frequency\": 1, \"value\": \"Cohen, Mr. Gurshon ...\"}, \"Kimball, Mr. Edwin Nelson Jr\": {\"frequency\": 1, \"value\": \"Kimball, Mr. Edwin ...\"}, \"Morrow, Mr. Thomas Rowan\": {\"frequency\": 1, \"value\": \"Morrow, Mr. Thomas ...\"}, \"Johnson, Mr. William Cahoone Jr\": {\"frequency\": 1, \"value\": \"Johnson, Mr. ...\"}, \"Backstrom, Mrs. Karl Alfred (Maria Mathilda Gustafsson)\": {\"frequency\": 1, \"value\": \"Backstrom, Mrs. ...\"}, \"Lurette, Miss. Elise\": {\"frequency\": 1, \"value\": \"Lurette, Miss. ...\"}, \"Dahlberg, Miss. Gerda Ulrika\": {\"frequency\": 1, \"value\": \"Dahlberg, Miss. ...\"}, \"Lines, Miss. Mary Conover\": {\"frequency\": 1, \"value\": \"Lines, Miss. Mary ...\"}, \"Stankovic, Mr. Ivan\": {\"frequency\": 1, \"value\": \"Stankovic, Mr. ...\"}, \"Bonnell, Miss. Elizabeth\": {\"frequency\": 1, \"value\": \"Bonnell, Miss. ...\"}, \"Gale, Mr. Shadrach\": {\"frequency\": 1, \"value\": \"Gale, Mr. Shadrach\"}, \"Smiljanic, Mr. Mile\": {\"frequency\": 1, \"value\": \"Smiljanic, Mr. ...\"}, \"Shutes, Miss. Elizabeth W\": {\"frequency\": 1, \"value\": \"Shutes, Miss. ...\"}, \"Petroff, Mr. Pastcho (\\\"Pentcho\\\")\": {\"frequency\": 1, \"value\": \"Petroff, Mr. ...\"}, \"Markoff, Mr. Marin\": {\"frequency\": 1, \"value\": \"Markoff, Mr. Marin\"}, \"Yousseff, Mr. Gerious\": {\"frequency\": 1, \"value\": \"Yousseff, Mr. ...\"}, \"Coelho, Mr. Domingos Fernandeo\": {\"frequency\": 1, \"value\": \"Coelho, Mr. ...\"}, \"Doharr, Mr. Tannous\": {\"frequency\": 1, \"value\": \"Doharr, Mr. ...\"}, \"Gustafsson, Mr. Karl Gideon\": {\"frequency\": 1, \"value\": \"Gustafsson, Mr. ...\"}, \"Greenberg, Mr. Samuel\": {\"frequency\": 1, \"value\": \"Greenberg, Mr. ...\"}, \"Beane, Mr. Edward\": {\"frequency\": 1, \"value\": \"Beane, Mr. Edward\"}, \"Landergren, Miss. Aurora Adelia\": {\"frequency\": 1, \"value\": \"Landergren, Miss. ...\"}, \"Hakkarainen, Mr. Pekka Pietari\": {\"frequency\": 1, \"value\": \"Hakkarainen, Mr. ...\"}, \"Rice, Master. Eric\": {\"frequency\": 1, \"value\": \"Rice, Master. Eric\"}, \"Madill, Miss. Georgette Alexandra\": {\"frequency\": 1, \"value\": \"Madill, Miss. ...\"}, \"Staneff, Mr. Ivan\": {\"frequency\": 1, \"value\": \"Staneff, Mr. Ivan\"}, \"Reynaldo, Ms. Encarnacion\": {\"frequency\": 1, \"value\": \"Reynaldo, Ms. ...\"}, \"Sutehall, Mr. Henry Jr\": {\"frequency\": 1, \"value\": \"Sutehall, Mr. ...\"}, \"Strandberg, Miss. Ida Sofia\": {\"frequency\": 1, \"value\": \"Strandberg, Miss. ...\"}, \"Jalsevac, Mr. Ivan\": {\"frequency\": 1, \"value\": \"Jalsevac, Mr. Ivan\"}, \"Hickman, Mr. Stanley George\": {\"frequency\": 1, \"value\": \"Hickman, Mr. ...\"}, \"Robins, Mrs. Alexander A (Grace Charity Laury)\": {\"frequency\": 1, \"value\": \"Robins, Mrs. ...\"}, \"Balkic, Mr. Cerin\": {\"frequency\": 1, \"value\": \"Balkic, Mr. Cerin\"}, \"Hart, Miss. Eva Miriam\": {\"frequency\": 1, \"value\": \"Hart, Miss. Eva ...\"}, \"Ilmakangas, Miss. Pieta Sofia\": {\"frequency\": 1, \"value\": \"Ilmakangas, Miss. ...\"}, \"Horgan, Mr. John\": {\"frequency\": 1, \"value\": \"Horgan, Mr. John\"}, \"Ford, Miss. Robina Maggie \\\"Ruby\\\"\": {\"frequency\": 1, \"value\": \"Ford, Miss. Robina ...\"}, \"Futrelle, Mrs. Jacques Heath (Lily May Peel)\": {\"frequency\": 1, \"value\": \"Futrelle, Mrs. ...\"}, \"O'Sullivan, Miss. Bridget Mary\": {\"frequency\": 1, \"value\": \"O'Sullivan, Miss. ...\"}, \"Strom, Mrs. Wilhelm (Elna Matilda Persson)\": {\"frequency\": 1, \"value\": \"Strom, Mrs. ...\"}, \"Phillips, Miss. Kate Florence (\\\"Mrs Kate Louise Phillips Marshall\\\")\": {\"frequency\": 1, \"value\": \"Phillips, Miss. ...\"}, \"Vande Walle, Mr. Nestor Cyriel\": {\"frequency\": 1, \"value\": \"Vande Walle, Mr. ...\"}, \"Francatelli, Miss. Laura Mabel\": {\"frequency\": 1, \"value\": \"Francatelli, Miss. ...\"}, \"Drew, Mrs. James Vivian (Lulu Thorne Christian)\": {\"frequency\": 1, \"value\": \"Drew, Mrs. James ...\"}, \"Nasser, Mrs. Nicholas (Adele Achem)\": {\"frequency\": 1, \"value\": \"Nasser, Mrs. ...\"}, \"Gavey, Mr. Lawrence\": {\"frequency\": 1, \"value\": \"Gavey, Mr. ...\"}, \"Carter, Miss. Lucile Polk\": {\"frequency\": 1, \"value\": \"Carter, Miss. ...\"}, \"Harmer, Mr. Abraham (David Lishin)\": {\"frequency\": 1, \"value\": \"Harmer, Mr. ...\"}, \"Isham, Miss. Ann Elizabeth\": {\"frequency\": 1, \"value\": \"Isham, Miss. Ann ...\"}, \"Gheorgheff, Mr. Stanio\": {\"frequency\": 1, \"value\": \"Gheorgheff, Mr. ...\"}, \"Goldsmith, Master. Frank John William \\\"Frankie\\\"\": {\"frequency\": 1, \"value\": \"Goldsmith, Master. ...\"}, \"Andersson, Miss. Ebba Iris Alfrida\": {\"frequency\": 1, \"value\": \"Andersson, Miss. ...\"}, \"Abbing, Mr. Anthony\": {\"frequency\": 1, \"value\": \"Abbing, Mr. ...\"}, \"Fox, Mr. Stanley Hubert\": {\"frequency\": 1, \"value\": \"Fox, Mr. Stanley ...\"}, \"Beavan, Mr. William Thomas\": {\"frequency\": 1, \"value\": \"Beavan, Mr. ...\"}, \"O'Driscoll, Miss. Bridget\": {\"frequency\": 1, \"value\": \"O'Driscoll, Miss. ...\"}, \"Svensson, Mr. Johan\": {\"frequency\": 1, \"value\": \"Svensson, Mr. ...\"}, \"Masselmani, Mrs. Fatima\": {\"frequency\": 1, \"value\": \"Masselmani, Mrs. ...\"}, \"Mallet, Master. Andre\": {\"frequency\": 1, \"value\": \"Mallet, Master. ...\"}, \"Vovk, Mr. Janko\": {\"frequency\": 1, \"value\": \"Vovk, Mr. Janko\"}, \"Hampe, Mr. Leon\": {\"frequency\": 1, \"value\": \"Hampe, Mr. Leon\"}, \"Sloper, Mr. William Thompson\": {\"frequency\": 1, \"value\": \"Sloper, Mr. ...\"}, \"Giglio, Mr. Victor\": {\"frequency\": 1, \"value\": \"Giglio, Mr. Victor\"}, \"Giles, Mr. Frederick Edward\": {\"frequency\": 1, \"value\": \"Giles, Mr. ...\"}, \"Jacobsohn, Mr. Sidney Samuel\": {\"frequency\": 1, \"value\": \"Jacobsohn, Mr. ...\"}, \"Andersen-Jensen, Miss. Carla Christine Nielsine\": {\"frequency\": 1, \"value\": \"Andersen-Jensen, ...\"}, \"Wiklund, Mr. Jakob Alfred\": {\"frequency\": 1, \"value\": \"Wiklund, Mr. Jakob ...\"}, \"Coxon, Mr. Daniel\": {\"frequency\": 1, \"value\": \"Coxon, Mr. Daniel\"}, \"Saad, Mr. Khalil\": {\"frequency\": 1, \"value\": \"Saad, Mr. Khalil\"}, \"Goncalves, Mr. Manuel Estanslas\": {\"frequency\": 1, \"value\": \"Goncalves, Mr. ...\"}, \"Pickard, Mr. Berk (Berk Trembisky)\": {\"frequency\": 1, \"value\": \"Pickard, Mr. Berk ...\"}, \"Kent, Mr. Edward Austin\": {\"frequency\": 1, \"value\": \"Kent, Mr. Edward ...\"}, \"Harris, Mr. George\": {\"frequency\": 1, \"value\": \"Harris, Mr. George\"}, \"Daly, Mr. Peter Denis \": {\"frequency\": 1, \"value\": \"Daly, Mr. Peter ...\"}, \"Larsson, Mr. Bengt Edvin\": {\"frequency\": 1, \"value\": \"Larsson, Mr. Bengt ...\"}, \"Weir, Col. John\": {\"frequency\": 1, \"value\": \"Weir, Col. John\"}, \"Elsbury, Mr. William James\": {\"frequency\": 1, \"value\": \"Elsbury, Mr. ...\"}, \"Christy, Miss. Julie Rachel\": {\"frequency\": 1, \"value\": \"Christy, Miss. ...\"}, \"Davidson, Mr. Thornton\": {\"frequency\": 1, \"value\": \"Davidson, Mr. ...\"}, \"Pengelly, Mr. Frederick William\": {\"frequency\": 1, \"value\": \"Pengelly, Mr. ...\"}, \"Barbara, Miss. Saiide\": {\"frequency\": 1, \"value\": \"Barbara, Miss. ...\"}, \"Jensen, Mr. Niels Peder\": {\"frequency\": 1, \"value\": \"Jensen, Mr. Niels ...\"}, \"Bowerman, Miss. Elsie Edith\": {\"frequency\": 1, \"value\": \"Bowerman, Miss. ...\"}, \"Porter, Mr. Walter Chamberlain\": {\"frequency\": 1, \"value\": \"Porter, Mr. Walter ...\"}, \"Arnold-Franchi, Mrs. Josef (Josefine Franchi)\": {\"frequency\": 1, \"value\": \"Arnold-Franchi, ...\"}, \"Jacobsohn, Mrs. Sidney Samuel (Amy Frances Christy)\": {\"frequency\": 1, \"value\": \"Jacobsohn, Mrs. ...\"}, \"Richards, Master. George Sibley\": {\"frequency\": 1, \"value\": \"Richards, Master. ...\"}, \"Williams, Mr. Howard Hugh \\\"Harry\\\"\": {\"frequency\": 1, \"value\": \"Williams, Mr. ...\"}, \"Hirvonen, Miss. Hildur E\": {\"frequency\": 1, \"value\": \"Hirvonen, Miss. ...\"}, \"Mellinger, Miss. Madeleine Violet\": {\"frequency\": 1, \"value\": \"Mellinger, Miss. ...\"}, \"Bystrom, Mrs. (Karolina)\": {\"frequency\": 1, \"value\": \"Bystrom, Mrs. ...\"}, \"Kelly, Miss. Mary\": {\"frequency\": 1, \"value\": \"Kelly, Miss. Mary\"}, \"Novel, Mr. Mansouer\": {\"frequency\": 1, \"value\": \"Novel, Mr. ...\"}, \"Fahlstrom, Mr. Arne Jonas\": {\"frequency\": 1, \"value\": \"Fahlstrom, Mr. ...\"}, \"Abelson, Mr. Samuel\": {\"frequency\": 1, \"value\": \"Abelson, Mr. ...\"}, \"Gilinski, Mr. Eliezer\": {\"frequency\": 1, \"value\": \"Gilinski, Mr. ...\"}, \"Van Impe, Mrs. Jean Baptiste (Rosalie Paula Govaert)\": {\"frequency\": 1, \"value\": \"Van Impe, Mrs. ...\"}, \"Burns, Miss. Elizabeth Margaret\": {\"frequency\": 1, \"value\": \"Burns, Miss. ...\"}, \"Ponesell, Mr. Martin\": {\"frequency\": 1, \"value\": \"Ponesell, Mr. ...\"}, \"Beesley, Mr. Lawrence\": {\"frequency\": 1, \"value\": \"Beesley, Mr. ...\"}, \"Mionoff, Mr. Stoytcho\": {\"frequency\": 1, \"value\": \"Mionoff, Mr. ...\"}, \"Youseff, Mr. Gerious\": {\"frequency\": 1, \"value\": \"Youseff, Mr. ...\"}, \"Kassem, Mr. Fared\": {\"frequency\": 1, \"value\": \"Kassem, Mr. Fared\"}, \"Duran y More, Miss. Asuncion\": {\"frequency\": 1, \"value\": \"Duran y More, ...\"}, \"Levy, Mr. Rene Jacques\": {\"frequency\": 1, \"value\": \"Levy, Mr. Rene ...\"}, \"Wells, Miss. Joan\": {\"frequency\": 1, \"value\": \"Wells, Miss. Joan\"}, \"Saad, Mr. Amin\": {\"frequency\": 1, \"value\": \"Saad, Mr. Amin\"}, \"Bateman, Rev. Robert James\": {\"frequency\": 1, \"value\": \"Bateman, Rev. ...\"}, \"Rush, Mr. Alfred George John\": {\"frequency\": 1, \"value\": \"Rush, Mr. Alfred ...\"}, \"Jonsson, Mr. Carl\": {\"frequency\": 1, \"value\": \"Jonsson, Mr. Carl\"}, \"Matthews, Mr. William John\": {\"frequency\": 1, \"value\": \"Matthews, Mr. ...\"}, \"Hickman, Mr. Leonard Mark\": {\"frequency\": 1, \"value\": \"Hickman, Mr. ...\"}, \"Reeves, Mr. David\": {\"frequency\": 1, \"value\": \"Reeves, Mr. David\"}, \"Cairns, Mr. Alexander\": {\"frequency\": 1, \"value\": \"Cairns, Mr. ...\"}, \"Brocklebank, Mr. William Alfred\": {\"frequency\": 1, \"value\": \"Brocklebank, Mr. ...\"}, \"Edvardsson, Mr. Gustaf Hjalmar\": {\"frequency\": 1, \"value\": \"Edvardsson, Mr. ...\"}, \"Tomlin, Mr. Ernest Portage\": {\"frequency\": 1, \"value\": \"Tomlin, Mr. Ernest ...\"}, \"Goldsmith, Mrs. Frank John (Emily Alice Brown)\": {\"frequency\": 1, \"value\": \"Goldsmith, Mrs. ...\"}, \"Allen, Mr. William Henry\": {\"frequency\": 1, \"value\": \"Allen, Mr. William ...\"}, \"Silverthorne, Mr. Spencer Victor\": {\"frequency\": 1, \"value\": \"Silverthorne, Mr. ...\"}, \"Nirva, Mr. Iisakki Antino Aijo\": {\"frequency\": 1, \"value\": \"Nirva, Mr. Iisakki ...\"}, \"Toomey, Miss. Ellen\": {\"frequency\": 1, \"value\": \"Toomey, Miss. ...\"}, \"Hamalainen, Master. Viljo\": {\"frequency\": 1, \"value\": \"Hamalainen, ...\"}, \"Reed, Mr. James George\": {\"frequency\": 1, \"value\": \"Reed, Mr. James ...\"}, \"Abelson, Mrs. Samuel (Hannah Wizosky)\": {\"frequency\": 1, \"value\": \"Abelson, Mrs. ...\"}, \"Skoog, Mrs. William (Anna Bernhardina Karlsson)\": {\"frequency\": 1, \"value\": \"Skoog, Mrs. ...\"}, \"Taylor, Mrs. Elmer Zebley (Juliet Cummins Wright)\": {\"frequency\": 1, \"value\": \"Taylor, Mrs. Elmer ...\"}, \"Torber, Mr. Ernst William\": {\"frequency\": 1, \"value\": \"Torber, Mr. Ernst ...\"}, \"Stone, Mrs. George Nelson (Martha Evelyn)\": {\"frequency\": 1, \"value\": \"Stone, Mrs. George ...\"}, \"Ford, Mr. William Neal\": {\"frequency\": 1, \"value\": \"Ford, Mr. William ...\"}, \"Pears, Mr. Thomas Clinton\": {\"frequency\": 1, \"value\": \"Pears, Mr. Thomas ...\"}, \"Harris, Mr. Walter\": {\"frequency\": 1, \"value\": \"Harris, Mr. Walter\"}, \"Bishop, Mrs. Dickinson H (Helen Walton)\": {\"frequency\": 1, \"value\": \"Bishop, Mrs. ...\"}, \"Nysten, Miss. Anna Sofia\": {\"frequency\": 1, \"value\": \"Nysten, Miss. Anna ...\"}, \"Lam, Mr. Len\": {\"frequency\": 1, \"value\": \"Lam, Mr. Len\"}, \"Dean, Mr. Bertram Frank\": {\"frequency\": 1, \"value\": \"Dean, Mr. Bertram ...\"}, \"Sirayanian, Mr. Orsen\": {\"frequency\": 1, \"value\": \"Sirayanian, Mr. ...\"}, \"Attalah, Mr. Sleiman\": {\"frequency\": 1, \"value\": \"Attalah, Mr. ...\"}, \"Hart, Mrs. Benjamin (Esther Ada Bloomfield)\": {\"frequency\": 1, \"value\": \"Hart, Mrs. ...\"}, \"Persson, Mr. Ernst Ulrik\": {\"frequency\": 1, \"value\": \"Persson, Mr. Ernst ...\"}, \"Hosono, Mr. Masabumi\": {\"frequency\": 1, \"value\": \"Hosono, Mr. ...\"}, \"Aubart, Mme. Leontine Pauline\": {\"frequency\": 1, \"value\": \"Aubart, Mme. ...\"}, \"Peter, Mrs. Catherine (Catherine Rizk)\": {\"frequency\": 1, \"value\": \"Peter, Mrs. ...\"}, \"Fortune, Miss. Mabel Helen\": {\"frequency\": 1, \"value\": \"Fortune, Miss. ...\"}, \"Shelley, Mrs. William (Imanita Parrish Hall)\": {\"frequency\": 1, \"value\": \"Shelley, Mrs. ...\"}, \"Cherry, Miss. Gladys\": {\"frequency\": 1, \"value\": \"Cherry, Miss. ...\"}, \"Moussa, Mrs. (Mantoura Boulos)\": {\"frequency\": 1, \"value\": \"Moussa, Mrs. ...\"}, \"Funk, Miss. Annie Clemmer\": {\"frequency\": 1, \"value\": \"Funk, Miss. Annie ...\"}, \"Meek, Mrs. Thomas (Annie Louise Rowley)\": {\"frequency\": 1, \"value\": \"Meek, Mrs. Thomas ...\"}, \"Renouf, Mrs. Peter Henry (Lillian Jefferys)\": {\"frequency\": 1, \"value\": \"Renouf, Mrs. Peter ...\"}, \"Bing, Mr. Lee\": {\"frequency\": 1, \"value\": \"Bing, Mr. Lee\"}, \"Hagland, Mr. Ingvald Olai Olsen\": {\"frequency\": 1, \"value\": \"Hagland, Mr. ...\"}, \"Carlsson, Mr. August Sigfrid\": {\"frequency\": 1, \"value\": \"Carlsson, Mr. ...\"}, \"Hassab, Mr. Hammad\": {\"frequency\": 1, \"value\": \"Hassab, Mr. Hammad\"}, \"Becker, Master. Richard F\": {\"frequency\": 1, \"value\": \"Becker, Master. ...\"}, \"Mack, Mrs. (Mary)\": {\"frequency\": 1, \"value\": \"Mack, Mrs. (Mary)\"}, \"Doling, Miss. Elsie\": {\"frequency\": 1, \"value\": \"Doling, Miss. ...\"}, \"Backstrom, Mr. Karl Alfred\": {\"frequency\": 1, \"value\": \"Backstrom, Mr. ...\"}, \"Odahl, Mr. Nils Martin\": {\"frequency\": 1, \"value\": \"Odahl, Mr. Nils ...\"}, \"Stead, Mr. William Thomas\": {\"frequency\": 1, \"value\": \"Stead, Mr. William ...\"}, \"Rood, Mr. Hugh Roscoe\": {\"frequency\": 1, \"value\": \"Rood, Mr. Hugh ...\"}, \"Harper, Mr. Henry Sleeper\": {\"frequency\": 1, \"value\": \"Harper, Mr. Henry ...\"}, \"Simmons, Mr. John\": {\"frequency\": 1, \"value\": \"Simmons, Mr. John\"}, \"Vander Planke, Mrs. Julius (Emelia Maria Vandemoortele)\": {\"frequency\": 1, \"value\": \"Vander Planke, ...\"}, \"Uruchurtu, Don. Manuel E\": {\"frequency\": 1, \"value\": \"Uruchurtu, Don. ...\"}, \"Hodges, Mr. Henry Price\": {\"frequency\": 1, \"value\": \"Hodges, Mr. Henry ...\"}, \"Vander Planke, Miss. Augusta Maria\": {\"frequency\": 1, \"value\": \"Vander Planke, ...\"}, \"Keefe, Mr. Arthur\": {\"frequency\": 1, \"value\": \"Keefe, Mr. Arthur\"}, \"Chibnall, Mrs. (Edith Martha Bowerman)\": {\"frequency\": 1, \"value\": \"Chibnall, Mrs. ...\"}, \"Stahelin-Maeglin, Dr. Max\": {\"frequency\": 1, \"value\": \"Stahelin-Maeglin, ...\"}, \"Chip, Mr. Chang\": {\"frequency\": 1, \"value\": \"Chip, Mr. Chang\"}, \"Salkjelsvik, Miss. Anna Kristine\": {\"frequency\": 1, \"value\": \"Salkjelsvik, Miss. ...\"}, \"Kelly, Mr. James\": {\"frequency\": 1, \"value\": \"Kelly, Mr. James\"}, \"Panula, Master. Eino Viljami\": {\"frequency\": 1, \"value\": \"Panula, Master. ...\"}, \"Navratil, Master. Michel M\": {\"frequency\": 1, \"value\": \"Navratil, Master. ...\"}, \"Petroff, Mr. Nedelio\": {\"frequency\": 1, \"value\": \"Petroff, Mr. ...\"}, \"Silvey, Mrs. William Baird (Alice Munger)\": {\"frequency\": 1, \"value\": \"Silvey, Mrs. ...\"}, \"Nicola-Yarred, Master. Elias\": {\"frequency\": 1, \"value\": \"Nicola-Yarred, ...\"}, \"Eklund, Mr. Hans Linus\": {\"frequency\": 1, \"value\": \"Eklund, Mr. Hans ...\"}, \"Leyson, Mr. Robert William Norman\": {\"frequency\": 1, \"value\": \"Leyson, Mr. Robert ...\"}, \"Sinkkonen, Miss. Anna\": {\"frequency\": 1, \"value\": \"Sinkkonen, Miss. ...\"}, \"Willey, Mr. Edward\": {\"frequency\": 1, \"value\": \"Willey, Mr. Edward\"}, \"Cann, Mr. Ernest Charles\": {\"frequency\": 1, \"value\": \"Cann, Mr. Ernest ...\"}, \"O'Connell, Mr. Patrick D\": {\"frequency\": 1, \"value\": \"O'Connell, Mr. ...\"}, \"Rothschild, Mrs. Martin (Elizabeth L. Barrett)\": {\"frequency\": 1, \"value\": \"Rothschild, Mrs. ...\"}, \"Dimic, Mr. Jovan\": {\"frequency\": 1, \"value\": \"Dimic, Mr. Jovan\"}, \"Endres, Miss. Caroline Louise\": {\"frequency\": 1, \"value\": \"Endres, Miss. ...\"}, \"Augustsson, Mr. Albert\": {\"frequency\": 1, \"value\": \"Augustsson, Mr. ...\"}, \"Alexander, Mr. William\": {\"frequency\": 1, \"value\": \"Alexander, Mr. ...\"}, \"Chambers, Mr. Norman Campbell\": {\"frequency\": 1, \"value\": \"Chambers, Mr. ...\"}, \"Baclini, Mrs. Solomon (Latifa Qurban)\": {\"frequency\": 1, \"value\": \"Baclini, Mrs. ...\"}, \"Meanwell, Miss. (Marion Ogden)\": {\"frequency\": 1, \"value\": \"Meanwell, Miss. ...\"}, \"Lobb, Mrs. William Arthur (Cordelia K Stanlick)\": {\"frequency\": 1, \"value\": \"Lobb, Mrs. William ...\"}, \"Badt, Mr. Mohamed\": {\"frequency\": 1, \"value\": \"Badt, Mr. Mohamed\"}, \"Jussila, Mr. Eiriik\": {\"frequency\": 1, \"value\": \"Jussila, Mr. ...\"}, \"Flynn, Mr. John\": {\"frequency\": 1, \"value\": \"Flynn, Mr. John\"}, \"Maisner, Mr. Simon\": {\"frequency\": 1, \"value\": \"Maisner, Mr. Simon\"}, \"Cameron, Miss. Clear Annie\": {\"frequency\": 1, \"value\": \"Cameron, Miss. ...\"}, \"Hewlett, Mrs. (Mary D Kingcome) \": {\"frequency\": 1, \"value\": \"Hewlett, Mrs. ...\"}, \"Sirota, Mr. Maurice\": {\"frequency\": 1, \"value\": \"Sirota, Mr. ...\"}, \"Romaine, Mr. Charles Hallace (\\\"Mr C Rolmane\\\")\": {\"frequency\": 1, \"value\": \"Romaine, Mr. ...\"}, \"Nosworthy, Mr. Richard Cater\": {\"frequency\": 1, \"value\": \"Nosworthy, Mr. ...\"}, \"Caram, Mrs. Joseph (Maria Elias)\": {\"frequency\": 1, \"value\": \"Caram, Mrs. Joseph ...\"}, \"Hogeboom, Mrs. John C (Anna Andrews)\": {\"frequency\": 1, \"value\": \"Hogeboom, Mrs. ...\"}, \"Jerwan, Mrs. Amin S (Marie Marthe Thuillard)\": {\"frequency\": 1, \"value\": \"Jerwan, Mrs. Amin ...\"}, \"Dick, Mrs. Albert Adrian (Vera Gillespie)\": {\"frequency\": 1, \"value\": \"Dick, Mrs. Albert ...\"}, \"Lefebre, Miss. Ida\": {\"frequency\": 1, \"value\": \"Lefebre, Miss. Ida\"}, \"Cacic, Miss. Marija\": {\"frequency\": 1, \"value\": \"Cacic, Miss. ...\"}, \"Zabour, Miss. Thamine\": {\"frequency\": 1, \"value\": \"Zabour, Miss. ...\"}, \"Ryerson, Miss. Emily Borie\": {\"frequency\": 1, \"value\": \"Ryerson, Miss. ...\"}, \"West, Mrs. Edwy Arthur (Ada Mary Worth)\": {\"frequency\": 1, \"value\": \"West, Mrs. Edwy ...\"}, \"Foreman, Mr. Benjamin Laventall\": {\"frequency\": 1, \"value\": \"Foreman, Mr. ...\"}, \"Widegren, Mr. Carl/Charles Peter\": {\"frequency\": 1, \"value\": \"Widegren, Mr. ...\"}, \"Nakid, Mr. Sahid\": {\"frequency\": 1, \"value\": \"Nakid, Mr. Sahid\"}, \"Fry, Mr. Richard\": {\"frequency\": 1, \"value\": \"Fry, Mr. Richard\"}, \"Sedgwick, Mr. Charles Frederick Waddington\": {\"frequency\": 1, \"value\": \"Sedgwick, Mr. ...\"}, \"Bradley, Mr. George (\\\"George Arthur Brayton\\\")\": {\"frequency\": 1, \"value\": \"Bradley, Mr. ...\"}, \"Birkeland, Mr. Hans Martin Monsen\": {\"frequency\": 1, \"value\": \"Birkeland, Mr. ...\"}, \"Stranden, Mr. Juho\": {\"frequency\": 1, \"value\": \"Stranden, Mr. Juho\"}, \"Sheerlinck, Mr. Jan Baptist\": {\"frequency\": 1, \"value\": \"Sheerlinck, Mr. ...\"}, \"Carter, Mrs. Ernest Courtenay (Lilian Hughes)\": {\"frequency\": 1, \"value\": \"Carter, Mrs. ...\"}, \"Natsch, Mr. Charles H\": {\"frequency\": 1, \"value\": \"Natsch, Mr. ...\"}, \"Spencer, Mrs. William Augustus (Marie Eugenie)\": {\"frequency\": 1, \"value\": \"Spencer, Mrs. ...\"}, \"Risien, Mr. Samuel Beard\": {\"frequency\": 1, \"value\": \"Risien, Mr. Samuel ...\"}, \"Emanuel, Miss. Virginia Ethel\": {\"frequency\": 1, \"value\": \"Emanuel, Miss. ...\"}, \"Chambers, Mrs. Norman Campbell (Bertha Griggs)\": {\"frequency\": 1, \"value\": \"Chambers, Mrs. ...\"}, \"O'Dwyer, Miss. Ellen \\\"Nellie\\\"\": {\"frequency\": 1, \"value\": \"O'Dwyer, Miss. ...\"}, \"Dooley, Mr. Patrick\": {\"frequency\": 1, \"value\": \"Dooley, Mr. ...\"}, \"Andrews, Mr. Thomas Jr\": {\"frequency\": 1, \"value\": \"Andrews, Mr. ...\"}, \"Seward, Mr. Frederic Kimber\": {\"frequency\": 1, \"value\": \"Seward, Mr. ...\"}, \"Butt, Major. Archibald Willingham\": {\"frequency\": 1, \"value\": \"Butt, Major. ...\"}, \"Farthing, Mr. John\": {\"frequency\": 1, \"value\": \"Farthing, Mr. John\"}, \"Kalvik, Mr. Johannes Halvorsen\": {\"frequency\": 1, \"value\": \"Kalvik, Mr. ...\"}, \"Carter, Mr. William Ernest\": {\"frequency\": 1, \"value\": \"Carter, Mr. ...\"}, \"Smart, Mr. John Montgomery\": {\"frequency\": 1, \"value\": \"Smart, Mr. John ...\"}, \"Slemen, Mr. Richard James\": {\"frequency\": 1, \"value\": \"Slemen, Mr. ...\"}, \"Betros, Mr. Tannous\": {\"frequency\": 1, \"value\": \"Betros, Mr. ...\"}, \"Laroche, Mrs. Joseph (Juliette Marie Louise Lafargue)\": {\"frequency\": 1, \"value\": \"Laroche, Mrs. ...\"}, \"Ahlin, Mrs. Johan (Johanna Persdotter Larsson)\": {\"frequency\": 1, \"value\": \"Ahlin, Mrs. Johan ...\"}, \"Braund, Mr. Lewis Richard\": {\"frequency\": 1, \"value\": \"Braund, Mr. Lewis ...\"}, \"Murphy, Miss. Katherine \\\"Kate\\\"\": {\"frequency\": 1, \"value\": \"Murphy, Miss. ...\"}, \"Goodwin, Master. Sidney Leonard\": {\"frequency\": 1, \"value\": \"Goodwin, Master. ...\"}, \"Dorking, Mr. Edward Arthur\": {\"frequency\": 1, \"value\": \"Dorking, Mr. ...\"}, \"Chapman, Mr. John Henry\": {\"frequency\": 1, \"value\": \"Chapman, Mr. John ...\"}, \"Spedden, Mrs. Frederic Oakley (Margaretta Corning Stone)\": {\"frequency\": 1, \"value\": \"Spedden, Mrs. ...\"}, \"Murphy, Miss. Margaret Jane\": {\"frequency\": 1, \"value\": \"Murphy, Miss. ...\"}, \"Charters, Mr. David\": {\"frequency\": 1, \"value\": \"Charters, Mr. ...\"}, \"Rothes, the Countess. of (Lucy Noel Martha Dyer-Edwards)\": {\"frequency\": 1, \"value\": \"Rothes, the ...\"}, \"de Pelsmaeker, Mr. Alfons\": {\"frequency\": 1, \"value\": \"de Pelsmaeker, Mr. ...\"}, \"Slabenoff, Mr. Petco\": {\"frequency\": 1, \"value\": \"Slabenoff, Mr. ...\"}, \"Sage, Mr. George John Jr\": {\"frequency\": 1, \"value\": \"Sage, Mr. George ...\"}, \"Naidenoff, Mr. Penko\": {\"frequency\": 1, \"value\": \"Naidenoff, Mr. ...\"}, \"Davies, Master. John Morgan Jr\": {\"frequency\": 1, \"value\": \"Davies, Master. ...\"}, \"Rintamaki, Mr. Matti\": {\"frequency\": 1, \"value\": \"Rintamaki, Mr. ...\"}, \"Gustafsson, Mr. Anders Vilhelm\": {\"frequency\": 1, \"value\": \"Gustafsson, Mr. ...\"}, \"Barton, Mr. David John\": {\"frequency\": 1, \"value\": \"Barton, Mr. David ...\"}, \"Chronopoulos, Mr. Apostolos\": {\"frequency\": 1, \"value\": \"Chronopoulos, Mr. ...\"}, \"Harrington, Mr. Charles H\": {\"frequency\": 1, \"value\": \"Harrington, Mr. ...\"}, \"Farrell, Mr. James\": {\"frequency\": 1, \"value\": \"Farrell, Mr. James\"}, \"Mitkoff, Mr. Mito\": {\"frequency\": 1, \"value\": \"Mitkoff, Mr. Mito\"}, \"Harrison, Mr. William\": {\"frequency\": 1, \"value\": \"Harrison, Mr. ...\"}, \"Mockler, Miss. Helen Mary \\\"Ellie\\\"\": {\"frequency\": 1, \"value\": \"Mockler, Miss. ...\"}, \"Theobald, Mr. Thomas Leonard\": {\"frequency\": 1, \"value\": \"Theobald, Mr. ...\"}, \"Foo, Mr. Choong\": {\"frequency\": 1, \"value\": \"Foo, Mr. Choong\"}, \"Turja, Miss. Anna Sofia\": {\"frequency\": 1, \"value\": \"Turja, Miss. Anna ...\"}, \"Stewart, Mr. Albert A\": {\"frequency\": 1, \"value\": \"Stewart, Mr. ...\"}, \"Goldenberg, Mr. Samuel L\": {\"frequency\": 1, \"value\": \"Goldenberg, Mr. ...\"}, \"Vestrom, Miss. Hulda Amanda Adolfina\": {\"frequency\": 1, \"value\": \"Vestrom, Miss. ...\"}, \"McGovern, Miss. Mary\": {\"frequency\": 1, \"value\": \"McGovern, Miss. ...\"}, \"Windelov, Mr. Einar\": {\"frequency\": 1, \"value\": \"Windelov, Mr. ...\"}, \"Doling, Mrs. John T (Ada Julia Bone)\": {\"frequency\": 1, \"value\": \"Doling, Mrs. John ...\"}, \"Klasen, Mr. Klas Albin\": {\"frequency\": 1, \"value\": \"Klasen, Mr. Klas ...\"}, \"O'Leary, Miss. Hanora \\\"Norah\\\"\": {\"frequency\": 1, \"value\": \"O'Leary, Miss. ...\"}, \"Herman, Miss. Alice\": {\"frequency\": 1, \"value\": \"Herman, Miss. ...\"}, \"Rosblom, Mrs. Viktor (Helena Wilhelmina)\": {\"frequency\": 1, \"value\": \"Rosblom, Mrs. ...\"}, \"Davies, Mr. Alfred J\": {\"frequency\": 1, \"value\": \"Davies, Mr. Alfred ...\"}, \"Millet, Mr. Francis Davis\": {\"frequency\": 1, \"value\": \"Millet, Mr. ...\"}, \"Panula, Mr. Jaako Arnold\": {\"frequency\": 1, \"value\": \"Panula, Mr. Jaako ...\"}, \"Hakkarainen, Mrs. Pekka Pietari (Elin Matilda Dolck)\": {\"frequency\": 1, \"value\": \"Hakkarainen, Mrs. ...\"}, \"Panula, Mrs. Juha (Maria Emilia Ojala)\": {\"frequency\": 1, \"value\": \"Panula, Mrs. Juha ...\"}, \"Green, Mr. George Henry\": {\"frequency\": 1, \"value\": \"Green, Mr. George ...\"}, \"Skoog, Miss. Margit Elizabeth\": {\"frequency\": 1, \"value\": \"Skoog, Miss. ...\"}, \"Downton, Mr. William James\": {\"frequency\": 1, \"value\": \"Downton, Mr. ...\"}, \"Leinonen, Mr. Antti Gustaf\": {\"frequency\": 1, \"value\": \"Leinonen, Mr. ...\"}, \"Duff Gordon, Lady. (Lucille Christiana Sutherland) (\\\"Mrs Morgan\\\")\": {\"frequency\": 1, \"value\": \"Duff Gordon, Lady. ...\"}, \"Dakic, Mr. Branko\": {\"frequency\": 1, \"value\": \"Dakic, Mr. Branko\"}, \"Andersson, Mrs. Anders Johan (Alfrida Konstantia Brogren)\": {\"frequency\": 1, \"value\": \"Andersson, Mrs. ...\"}, \"Keane, Mr. Andrew \\\"Andy\\\"\": {\"frequency\": 1, \"value\": \"Keane, Mr. Andrew ...\"}, \"Osen, Mr. Olaf Elon\": {\"frequency\": 1, \"value\": \"Osen, Mr. Olaf ...\"}, \"Moran, Miss. Bertha\": {\"frequency\": 1, \"value\": \"Moran, Miss. ...\"}, \"Bowen, Mr. David John \\\"Dai\\\"\": {\"frequency\": 1, \"value\": \"Bowen, Mr. David ...\"}, \"Hamalainen, Mrs. William (Anna)\": {\"frequency\": 1, \"value\": \"Hamalainen, Mrs. ...\"}, \"Graham, Miss. Margaret Edith\": {\"frequency\": 1, \"value\": \"Graham, Miss. ...\"}, \"Hippach, Miss. Jean Gertrude\": {\"frequency\": 1, \"value\": \"Hippach, Miss. ...\"}, \"Zabour, Miss. Hileni\": {\"frequency\": 1, \"value\": \"Zabour, Miss. ...\"}, \"Larsson, Mr. August Viktor\": {\"frequency\": 1, \"value\": \"Larsson, Mr. ...\"}, \"Andersson, Miss. Ingeborg Constanzia\": {\"frequency\": 1, \"value\": \"Andersson, Miss. ...\"}, \"Lahoud, Mr. Sarkis\": {\"frequency\": 1, \"value\": \"Lahoud, Mr. Sarkis\"}, \"Healy, Miss. Hanora \\\"Nora\\\"\": {\"frequency\": 1, \"value\": \"Healy, Miss. ...\"}, \"Rugg, Miss. Emily\": {\"frequency\": 1, \"value\": \"Rugg, Miss. Emily\"}, \"Andersson, Master. Sigvard Harald Elias\": {\"frequency\": 1, \"value\": \"Andersson, Master. ...\"}}, \"size\": 891}, \"Embarked\": {\"complete\": true, \"numeric\": false, \"num_unique\": 4, \"num_undefined\": 0, \"progress\": 1.0, \"frequent_items\": {\"Q\": {\"frequency\": 77, \"value\": \"Q\"}, \"\": {\"frequency\": 2, \"value\": \"\"}, \"S\": {\"frequency\": 644, \"value\": \"S\"}, \"C\": {\"frequency\": 168, \"value\": \"C\"}}, \"size\": 891}, \"Age\": {\"std\": 14.516321150817314, \"complete\": true, \"min\": 0.42, \"max\": 80.0, \"quantile\": [0.42, 1.0, 2.0, 2.0, 3.0, 4.0, 5.0, 7.0, 9.0, 11.0, 14.0, 15.0, 16.0, 16.0, 16.0, 17.0, 18.0, 18.0, 18.0, 18.0, 19.0, 19.0, 19.0, 20.0, 20.0, 20.0, 21.0, 21.0, 21.0, 22.0, 22.0, 22.0, 22.0, 23.0, 23.0, 24.0, 24.0, 24.0, 24.0, 25.0, 25.0, 25.0, 25.0, 26.0, 26.0, 27.0, 27.0, 27.0, 28.0, 28.0, 28.0, 29.0, 29.0, 29.0, 30.0, 30.0, 30.0, 30.0, 31.0, 31.0, 32.0, 32.0, 32.0, 33.0, 33.0, 34.0, 34.0, 34.5, 35.0, 35.0, 36.0, 36.0, 36.0, 37.0, 38.0, 38.0, 39.0, 39.0, 40.0, 40.5, 41.0, 42.0, 43.0, 44.0, 45.0, 45.0, 46.0, 47.0, 48.0, 49.0, 50.0, 50.0, 51.0, 54.0, 54.0, 56.0, 58.0, 61.0, 63.0, 66.0, 80.0], \"median\": 28.0, \"numeric\": true, \"num_unique\": 88, \"num_undefined\": 177, \"var\": 210.7235797536661, \"progress\": 1.0, \"size\": 891, \"frequent_items\": {\"28.5\": {\"frequency\": 2, \"value\": 28.5}, \"14.5\": {\"frequency\": 1, \"value\": 14.5}, \"2.0\": {\"frequency\": 10, \"value\": 2.0}, \"3.0\": {\"frequency\": 6, \"value\": 3.0}, \"4.0\": {\"frequency\": 10, \"value\": 4.0}, \"5.0\": {\"frequency\": 4, \"value\": 5.0}, \"70.5\": {\"frequency\": 1, \"value\": 70.5}, \"7.0\": {\"frequency\": 3, \"value\": 7.0}, \"8.0\": {\"frequency\": 4, \"value\": 8.0}, \"9.0\": {\"frequency\": 8, \"value\": 9.0}, \"10.0\": {\"frequency\": 2, \"value\": 10.0}, \"11.0\": {\"frequency\": 4, \"value\": 11.0}, \"12.0\": {\"frequency\": 1, \"value\": 12.0}, \"13.0\": {\"frequency\": 2, \"value\": 13.0}, \"14.0\": {\"frequency\": 6, \"value\": 14.0}, \"15.0\": {\"frequency\": 5, \"value\": 15.0}, \"16.0\": {\"frequency\": 17, \"value\": 16.0}, \"17.0\": {\"frequency\": 13, \"value\": 17.0}, \"18.0\": {\"frequency\": 26, \"value\": 18.0}, \"19.0\": {\"frequency\": 25, \"value\": 19.0}, \"20.0\": {\"frequency\": 15, \"value\": 20.0}, \"21.0\": {\"frequency\": 24, \"value\": 21.0}, \"22.0\": {\"frequency\": 27, \"value\": 22.0}, \"23.0\": {\"frequency\": 15, \"value\": 23.0}, \"24.0\": {\"frequency\": 30, \"value\": 24.0}, \"25.0\": {\"frequency\": 23, \"value\": 25.0}, \"26.0\": {\"frequency\": 18, \"value\": 26.0}, \"27.0\": {\"frequency\": 18, \"value\": 27.0}, \"28.0\": {\"frequency\": 25, \"value\": 28.0}, \"29.0\": {\"frequency\": 20, \"value\": 29.0}, \"30.0\": {\"frequency\": 25, \"value\": 30.0}, \"31.0\": {\"frequency\": 17, \"value\": 31.0}, \"32.0\": {\"frequency\": 18, \"value\": 32.0}, \"33.0\": {\"frequency\": 15, \"value\": 33.0}, \"34.0\": {\"frequency\": 15, \"value\": 34.0}, \"35.0\": {\"frequency\": 18, \"value\": 35.0}, \"1.0\": {\"frequency\": 7, \"value\": 1.0}, \"37.0\": {\"frequency\": 6, \"value\": 37.0}, \"38.0\": {\"frequency\": 11, \"value\": 38.0}, \"39.0\": {\"frequency\": 14, \"value\": 39.0}, \"40.0\": {\"frequency\": 13, \"value\": 40.0}, \"41.0\": {\"frequency\": 6, \"value\": 41.0}, \"42.0\": {\"frequency\": 13, \"value\": 42.0}, \"43.0\": {\"frequency\": 5, \"value\": 43.0}, \"44.0\": {\"frequency\": 9, \"value\": 44.0}, \"45.0\": {\"frequency\": 12, \"value\": 45.0}, \"46.0\": {\"frequency\": 3, \"value\": 46.0}, \"47.0\": {\"frequency\": 9, \"value\": 47.0}, \"48.0\": {\"frequency\": 9, \"value\": 48.0}, \"49.0\": {\"frequency\": 6, \"value\": 49.0}, \"50.0\": {\"frequency\": 10, \"value\": 50.0}, \"51.0\": {\"frequency\": 7, \"value\": 51.0}, \"52.0\": {\"frequency\": 6, \"value\": 52.0}, \"53.0\": {\"frequency\": 1, \"value\": 53.0}, \"54.0\": {\"frequency\": 8, \"value\": 54.0}, \"55.0\": {\"frequency\": 2, \"value\": 55.0}, \"56.0\": {\"frequency\": 4, \"value\": 56.0}, \"57.0\": {\"frequency\": 2, \"value\": 57.0}, \"58.0\": {\"frequency\": 5, \"value\": 58.0}, \"59.0\": {\"frequency\": 2, \"value\": 59.0}, \"60.0\": {\"frequency\": 4, \"value\": 60.0}, \"61.0\": {\"frequency\": 3, \"value\": 61.0}, \"62.0\": {\"frequency\": 4, \"value\": 62.0}, \"63.0\": {\"frequency\": 2, \"value\": 63.0}, \"64.0\": {\"frequency\": 2, \"value\": 64.0}, \"65.0\": {\"frequency\": 3, \"value\": 65.0}, \"66.0\": {\"frequency\": 1, \"value\": 66.0}, \"70.0\": {\"frequency\": 2, \"value\": 70.0}, \"71.0\": {\"frequency\": 2, \"value\": 71.0}, \"74.0\": {\"frequency\": 1, \"value\": 74.0}, \"80.0\": {\"frequency\": 1, \"value\": 80.0}, \"0.92\": {\"frequency\": 1, \"value\": 0.92}, \"55.5\": {\"frequency\": 1, \"value\": 55.5}, \"0.75\": {\"frequency\": 2, \"value\": 0.75}, \"0.83\": {\"frequency\": 2, \"value\": 0.83}, \"23.5\": {\"frequency\": 1, \"value\": 23.5}, \"0.42\": {\"frequency\": 1, \"value\": 0.42}, \"6.0\": {\"frequency\": 3, \"value\": 6.0}, \"24.5\": {\"frequency\": 1, \"value\": 24.5}, \"36.0\": {\"frequency\": 22, \"value\": 36.0}, \"36.5\": {\"frequency\": 1, \"value\": 36.5}, \"40.5\": {\"frequency\": 2, \"value\": 40.5}, \"34.5\": {\"frequency\": 1, \"value\": 34.5}, \"0.67\": {\"frequency\": 1, \"value\": 0.67}, \"45.5\": {\"frequency\": 2, \"value\": 45.5}, \"30.5\": {\"frequency\": 2, \"value\": 30.5}, \"20.5\": {\"frequency\": 1, \"value\": 20.5}, \"32.5\": {\"frequency\": 2, \"value\": 32.5}}, \"mean\": 29.699117647058806}, \"Parch\": {\"std\": 0.8056047612452211, \"complete\": true, \"min\": 0.0, \"max\": 6.0, \"quantile\": [0.0, 0.0, 0.0, 0.0, 0.0, 0.0, 0.0, 0.0, 0.0, 0.0, 0.0, 0.0, 0.0, 0.0, 0.0, 0.0, 0.0, 0.0, 0.0, 0.0, 0.0, 0.0, 0.0, 0.0, 0.0, 0.0, 0.0, 0.0, 0.0, 0.0, 0.0, 0.0, 0.0, 0.0, 0.0, 0.0, 0.0, 0.0, 0.0, 0.0, 0.0, 0.0, 0.0, 0.0, 0.0, 0.0, 0.0, 0.0, 0.0, 0.0, 0.0, 0.0, 0.0, 0.0, 0.0, 0.0, 0.0, 0.0, 0.0, 0.0, 0.0, 0.0, 0.0, 0.0, 0.0, 0.0, 0.0, 0.0, 0.0, 0.0, 0.0, 0.0, 0.0, 0.0, 0.0, 0.0, 0.0, 1.0, 1.0, 1.0, 1.0, 1.0, 1.0, 1.0, 1.0, 1.0, 1.0, 1.0, 1.0, 1.0, 2.0, 2.0, 2.0, 2.0, 2.0, 2.0, 2.0, 2.0, 2.0, 4.0, 6.0], \"median\": 0.0, \"numeric\": true, \"num_unique\": 7, \"num_undefined\": 0, \"var\": 0.6489990313409696, \"progress\": 1.0, \"size\": 891, \"frequent_items\": {\"0\": {\"frequency\": 678, \"value\": 0}, \"1\": {\"frequency\": 118, \"value\": 1}, \"2\": {\"frequency\": 80, \"value\": 2}, \"3\": {\"frequency\": 5, \"value\": 3}, \"4\": {\"frequency\": 4, \"value\": 4}, \"5\": {\"frequency\": 5, \"value\": 5}, \"6\": {\"frequency\": 1, \"value\": 6}}, \"mean\": 0.38159371492704824}, \"Pclass\": {\"std\": 0.8356019334795168, \"complete\": true, \"min\": 1.0, \"max\": 3.0, \"quantile\": [1.0, 1.0, 1.0, 1.0, 1.0, 1.0, 1.0, 1.0, 1.0, 1.0, 1.0, 1.0, 1.0, 1.0, 1.0, 1.0, 1.0, 1.0, 1.0, 1.0, 1.0, 1.0, 1.0, 1.0, 1.0, 2.0, 2.0, 2.0, 2.0, 2.0, 2.0, 2.0, 2.0, 2.0, 2.0, 2.0, 2.0, 2.0, 2.0, 2.0, 2.0, 2.0, 2.0, 2.0, 2.0, 3.0, 3.0, 3.0, 3.0, 3.0, 3.0, 3.0, 3.0, 3.0, 3.0, 3.0, 3.0, 3.0, 3.0, 3.0, 3.0, 3.0, 3.0, 3.0, 3.0, 3.0, 3.0, 3.0, 3.0, 3.0, 3.0, 3.0, 3.0, 3.0, 3.0, 3.0, 3.0, 3.0, 3.0, 3.0, 3.0, 3.0, 3.0, 3.0, 3.0, 3.0, 3.0, 3.0, 3.0, 3.0, 3.0, 3.0, 3.0, 3.0, 3.0, 3.0, 3.0, 3.0, 3.0, 3.0, 3.0], \"median\": 3.0, \"numeric\": true, \"num_unique\": 3, \"num_undefined\": 0, \"var\": 0.6982305912347069, \"progress\": 1.0, \"size\": 891, \"frequent_items\": {\"1\": {\"frequency\": 216, \"value\": 1}, \"2\": {\"frequency\": 184, \"value\": 2}, \"3\": {\"frequency\": 491, \"value\": 3}}, \"mean\": 2.3086419753086425}, \"Sex\": {\"complete\": true, \"numeric\": false, \"num_unique\": 2, \"num_undefined\": 0, \"progress\": 1.0, \"frequent_items\": {\"male\": {\"frequency\": 577, \"value\": \"male\"}, \"female\": {\"frequency\": 314, \"value\": \"female\"}}, \"size\": 891}, \"Survived\": {\"std\": 0.48631931786709987, \"complete\": true, \"min\": 0.0, \"max\": 1.0, \"quantile\": [0.0, 0.0, 0.0, 0.0, 0.0, 0.0, 0.0, 0.0, 0.0, 0.0, 0.0, 0.0, 0.0, 0.0, 0.0, 0.0, 0.0, 0.0, 0.0, 0.0, 0.0, 0.0, 0.0, 0.0, 0.0, 0.0, 0.0, 0.0, 0.0, 0.0, 0.0, 0.0, 0.0, 0.0, 0.0, 0.0, 0.0, 0.0, 0.0, 0.0, 0.0, 0.0, 0.0, 0.0, 0.0, 0.0, 0.0, 0.0, 0.0, 0.0, 0.0, 0.0, 0.0, 0.0, 0.0, 0.0, 0.0, 0.0, 0.0, 0.0, 0.0, 0.0, 1.0, 1.0, 1.0, 1.0, 1.0, 1.0, 1.0, 1.0, 1.0, 1.0, 1.0, 1.0, 1.0, 1.0, 1.0, 1.0, 1.0, 1.0, 1.0, 1.0, 1.0, 1.0, 1.0, 1.0, 1.0, 1.0, 1.0, 1.0, 1.0, 1.0, 1.0, 1.0, 1.0, 1.0, 1.0, 1.0, 1.0, 1.0, 1.0], \"median\": 0.0, \"numeric\": true, \"num_unique\": 2, \"num_undefined\": 0, \"var\": 0.23650647893072133, \"progress\": 1.0, \"size\": 891, \"frequent_items\": {\"0\": {\"frequency\": 549, \"value\": 0}, \"1\": {\"frequency\": 342, \"value\": 1}}, \"mean\": 0.3838383838383839}, \"SibSp\": {\"std\": 1.102124435089288, \"complete\": true, \"min\": 0.0, \"max\": 8.0, \"quantile\": [0.0, 0.0, 0.0, 0.0, 0.0, 0.0, 0.0, 0.0, 0.0, 0.0, 0.0, 0.0, 0.0, 0.0, 0.0, 0.0, 0.0, 0.0, 0.0, 0.0, 0.0, 0.0, 0.0, 0.0, 0.0, 0.0, 0.0, 0.0, 0.0, 0.0, 0.0, 0.0, 0.0, 0.0, 0.0, 0.0, 0.0, 0.0, 0.0, 0.0, 0.0, 0.0, 0.0, 0.0, 0.0, 0.0, 0.0, 0.0, 0.0, 0.0, 0.0, 0.0, 0.0, 0.0, 0.0, 0.0, 0.0, 0.0, 0.0, 0.0, 0.0, 0.0, 0.0, 0.0, 0.0, 0.0, 0.0, 0.0, 0.0, 1.0, 1.0, 1.0, 1.0, 1.0, 1.0, 1.0, 1.0, 1.0, 1.0, 1.0, 1.0, 1.0, 1.0, 1.0, 1.0, 1.0, 1.0, 1.0, 1.0, 1.0, 1.0, 1.0, 2.0, 2.0, 2.0, 3.0, 3.0, 4.0, 4.0, 5.0, 8.0], \"median\": 0.0, \"numeric\": true, \"num_unique\": 7, \"num_undefined\": 0, \"var\": 1.2146782704208825, \"progress\": 1.0, \"size\": 891, \"frequent_items\": {\"0\": {\"frequency\": 608, \"value\": 0}, \"1\": {\"frequency\": 209, \"value\": 1}, \"2\": {\"frequency\": 28, \"value\": 2}, \"3\": {\"frequency\": 16, \"value\": 3}, \"4\": {\"frequency\": 18, \"value\": 4}, \"5\": {\"frequency\": 5, \"value\": 5}, \"8\": {\"frequency\": 7, \"value\": 8}}, \"mean\": 0.5230078563411896}, \"PassengerId\": {\"std\": 257.20938292890224, \"complete\": true, \"min\": 1.0, \"max\": 891.0, \"quantile\": [1.0, 9.0, 18.0, 27.0, 36.0, 45.0, 54.0, 63.0, 72.0, 81.0, 90.0, 99.0, 107.0, 116.0, 125.0, 134.0, 143.0, 152.0, 161.0, 170.0, 179.0, 188.0, 197.0, 205.0, 214.0, 223.0, 232.0, 241.0, 250.0, 259.0, 268.0, 277.0, 286.0, 295.0, 303.0, 312.0, 321.0, 330.0, 339.0, 348.0, 357.0, 366.0, 375.0, 384.0, 393.0, 401.0, 410.0, 419.0, 428.0, 437.0, 446.0, 455.0, 464.0, 473.0, 482.0, 491.0, 499.0, 508.0, 517.0, 526.0, 535.0, 544.0, 553.0, 562.0, 571.0, 580.0, 589.0, 597.0, 606.0, 615.0, 624.0, 633.0, 642.0, 651.0, 660.0, 669.0, 678.0, 687.0, 695.0, 704.0, 713.0, 722.0, 731.0, 740.0, 749.0, 758.0, 767.0, 776.0, 785.0, 793.0, 802.0, 811.0, 820.0, 829.0, 838.0, 847.0, 856.0, 865.0, 874.0, 883.0, 891.0], \"median\": 446.0, \"numeric\": true, \"num_unique\": 885, \"num_undefined\": 0, \"var\": 66156.66666666667, \"progress\": 1.0, \"size\": 891, \"frequent_items\": {\"1\": {\"frequency\": 1, \"value\": 1}, \"2\": {\"frequency\": 1, \"value\": 2}, \"3\": {\"frequency\": 1, \"value\": 3}, \"4\": {\"frequency\": 1, \"value\": 4}, \"5\": {\"frequency\": 1, \"value\": 5}, \"6\": {\"frequency\": 1, \"value\": 6}, \"7\": {\"frequency\": 1, \"value\": 7}, \"8\": {\"frequency\": 1, \"value\": 8}, \"9\": {\"frequency\": 1, \"value\": 9}, \"10\": {\"frequency\": 1, \"value\": 10}, \"11\": {\"frequency\": 1, \"value\": 11}, \"12\": {\"frequency\": 1, \"value\": 12}, \"13\": {\"frequency\": 1, \"value\": 13}, \"14\": {\"frequency\": 1, \"value\": 14}, \"15\": {\"frequency\": 1, \"value\": 15}, \"16\": {\"frequency\": 1, \"value\": 16}, \"17\": {\"frequency\": 1, \"value\": 17}, \"18\": {\"frequency\": 1, \"value\": 18}, \"19\": {\"frequency\": 1, \"value\": 19}, \"20\": {\"frequency\": 1, \"value\": 20}, \"21\": {\"frequency\": 1, \"value\": 21}, \"22\": {\"frequency\": 1, \"value\": 22}, \"23\": {\"frequency\": 1, \"value\": 23}, \"24\": {\"frequency\": 1, \"value\": 24}, \"25\": {\"frequency\": 1, \"value\": 25}, \"26\": {\"frequency\": 1, \"value\": 26}, \"27\": {\"frequency\": 1, \"value\": 27}, \"28\": {\"frequency\": 1, \"value\": 28}, \"29\": {\"frequency\": 1, \"value\": 29}, \"30\": {\"frequency\": 1, \"value\": 30}, \"31\": {\"frequency\": 1, \"value\": 31}, \"32\": {\"frequency\": 1, \"value\": 32}, \"33\": {\"frequency\": 1, \"value\": 33}, \"34\": {\"frequency\": 1, \"value\": 34}, \"35\": {\"frequency\": 1, \"value\": 35}, \"36\": {\"frequency\": 1, \"value\": 36}, \"37\": {\"frequency\": 1, \"value\": 37}, \"38\": {\"frequency\": 1, \"value\": 38}, \"39\": {\"frequency\": 1, \"value\": 39}, \"40\": {\"frequency\": 1, \"value\": 40}, \"41\": {\"frequency\": 1, \"value\": 41}, \"42\": {\"frequency\": 1, \"value\": 42}, \"43\": {\"frequency\": 1, \"value\": 43}, \"44\": {\"frequency\": 1, \"value\": 44}, \"45\": {\"frequency\": 1, \"value\": 45}, \"46\": {\"frequency\": 1, \"value\": 46}, \"47\": {\"frequency\": 1, \"value\": 47}, \"48\": {\"frequency\": 1, \"value\": 48}, \"49\": {\"frequency\": 1, \"value\": 49}, \"50\": {\"frequency\": 1, \"value\": 50}, \"51\": {\"frequency\": 1, \"value\": 51}, \"52\": {\"frequency\": 1, \"value\": 52}, \"53\": {\"frequency\": 1, \"value\": 53}, \"54\": {\"frequency\": 1, \"value\": 54}, \"55\": {\"frequency\": 1, \"value\": 55}, \"56\": {\"frequency\": 1, \"value\": 56}, \"57\": {\"frequency\": 1, \"value\": 57}, \"58\": {\"frequency\": 1, \"value\": 58}, \"59\": {\"frequency\": 1, \"value\": 59}, \"60\": {\"frequency\": 1, \"value\": 60}, \"61\": {\"frequency\": 1, \"value\": 61}, \"62\": {\"frequency\": 1, \"value\": 62}, \"63\": {\"frequency\": 1, \"value\": 63}, \"64\": {\"frequency\": 1, \"value\": 64}, \"65\": {\"frequency\": 1, \"value\": 65}, \"66\": {\"frequency\": 1, \"value\": 66}, \"67\": {\"frequency\": 1, \"value\": 67}, \"68\": {\"frequency\": 1, \"value\": 68}, \"69\": {\"frequency\": 1, \"value\": 69}, \"70\": {\"frequency\": 1, \"value\": 70}, \"71\": {\"frequency\": 1, \"value\": 71}, \"72\": {\"frequency\": 1, \"value\": 72}, \"73\": {\"frequency\": 1, \"value\": 73}, \"74\": {\"frequency\": 1, \"value\": 74}, \"75\": {\"frequency\": 1, \"value\": 75}, \"76\": {\"frequency\": 1, \"value\": 76}, \"77\": {\"frequency\": 1, \"value\": 77}, \"78\": {\"frequency\": 1, \"value\": 78}, \"79\": {\"frequency\": 1, \"value\": 79}, \"80\": {\"frequency\": 1, \"value\": 80}, \"81\": {\"frequency\": 1, \"value\": 81}, \"82\": {\"frequency\": 1, \"value\": 82}, \"83\": {\"frequency\": 1, \"value\": 83}, \"84\": {\"frequency\": 1, \"value\": 84}, \"85\": {\"frequency\": 1, \"value\": 85}, \"86\": {\"frequency\": 1, \"value\": 86}, \"87\": {\"frequency\": 1, \"value\": 87}, \"88\": {\"frequency\": 1, \"value\": 88}, \"89\": {\"frequency\": 1, \"value\": 89}, \"90\": {\"frequency\": 1, \"value\": 90}, \"91\": {\"frequency\": 1, \"value\": 91}, \"92\": {\"frequency\": 1, \"value\": 92}, \"93\": {\"frequency\": 1, \"value\": 93}, \"94\": {\"frequency\": 1, \"value\": 94}, \"95\": {\"frequency\": 1, \"value\": 95}, \"96\": {\"frequency\": 1, \"value\": 96}, \"97\": {\"frequency\": 1, \"value\": 97}, \"98\": {\"frequency\": 1, \"value\": 98}, \"99\": {\"frequency\": 1, \"value\": 99}, \"100\": {\"frequency\": 1, \"value\": 100}, \"101\": {\"frequency\": 1, \"value\": 101}, \"102\": {\"frequency\": 1, \"value\": 102}, \"103\": {\"frequency\": 1, \"value\": 103}, \"104\": {\"frequency\": 1, \"value\": 104}, \"105\": {\"frequency\": 1, \"value\": 105}, \"106\": {\"frequency\": 1, \"value\": 106}, \"107\": {\"frequency\": 1, \"value\": 107}, \"108\": {\"frequency\": 1, \"value\": 108}, \"109\": {\"frequency\": 1, \"value\": 109}, \"110\": {\"frequency\": 1, \"value\": 110}, \"111\": {\"frequency\": 1, \"value\": 111}, \"112\": {\"frequency\": 1, \"value\": 112}, \"113\": {\"frequency\": 1, \"value\": 113}, \"114\": {\"frequency\": 1, \"value\": 114}, \"115\": {\"frequency\": 1, \"value\": 115}, \"116\": {\"frequency\": 1, \"value\": 116}, \"117\": {\"frequency\": 1, \"value\": 117}, \"118\": {\"frequency\": 1, \"value\": 118}, \"119\": {\"frequency\": 1, \"value\": 119}, \"120\": {\"frequency\": 1, \"value\": 120}, \"121\": {\"frequency\": 1, \"value\": 121}, \"122\": {\"frequency\": 1, \"value\": 122}, \"123\": {\"frequency\": 1, \"value\": 123}, \"124\": {\"frequency\": 1, \"value\": 124}, \"125\": {\"frequency\": 1, \"value\": 125}, \"126\": {\"frequency\": 1, \"value\": 126}, \"127\": {\"frequency\": 1, \"value\": 127}, \"128\": {\"frequency\": 1, \"value\": 128}, \"129\": {\"frequency\": 1, \"value\": 129}, \"130\": {\"frequency\": 1, \"value\": 130}, \"131\": {\"frequency\": 1, \"value\": 131}, \"132\": {\"frequency\": 1, \"value\": 132}, \"133\": {\"frequency\": 1, \"value\": 133}, \"134\": {\"frequency\": 1, \"value\": 134}, \"135\": {\"frequency\": 1, \"value\": 135}, \"136\": {\"frequency\": 1, \"value\": 136}, \"137\": {\"frequency\": 1, \"value\": 137}, \"138\": {\"frequency\": 1, \"value\": 138}, \"139\": {\"frequency\": 1, \"value\": 139}, \"140\": {\"frequency\": 1, \"value\": 140}, \"141\": {\"frequency\": 1, \"value\": 141}, \"142\": {\"frequency\": 1, \"value\": 142}, \"143\": {\"frequency\": 1, \"value\": 143}, \"144\": {\"frequency\": 1, \"value\": 144}, \"145\": {\"frequency\": 1, \"value\": 145}, \"146\": {\"frequency\": 1, \"value\": 146}, \"147\": {\"frequency\": 1, \"value\": 147}, \"148\": {\"frequency\": 1, \"value\": 148}, \"149\": {\"frequency\": 1, \"value\": 149}, \"150\": {\"frequency\": 1, \"value\": 150}, \"151\": {\"frequency\": 1, \"value\": 151}, \"152\": {\"frequency\": 1, \"value\": 152}, \"153\": {\"frequency\": 1, \"value\": 153}, \"154\": {\"frequency\": 1, \"value\": 154}, \"155\": {\"frequency\": 1, \"value\": 155}, \"156\": {\"frequency\": 1, \"value\": 156}, \"157\": {\"frequency\": 1, \"value\": 157}, \"158\": {\"frequency\": 1, \"value\": 158}, \"159\": {\"frequency\": 1, \"value\": 159}, \"160\": {\"frequency\": 1, \"value\": 160}, \"161\": {\"frequency\": 1, \"value\": 161}, \"162\": {\"frequency\": 1, \"value\": 162}, \"163\": {\"frequency\": 1, \"value\": 163}, \"164\": {\"frequency\": 1, \"value\": 164}, \"165\": {\"frequency\": 1, \"value\": 165}, \"166\": {\"frequency\": 1, \"value\": 166}, \"167\": {\"frequency\": 1, \"value\": 167}, \"168\": {\"frequency\": 1, \"value\": 168}, \"169\": {\"frequency\": 1, \"value\": 169}, \"170\": {\"frequency\": 1, \"value\": 170}, \"171\": {\"frequency\": 1, \"value\": 171}, \"172\": {\"frequency\": 1, \"value\": 172}, \"173\": {\"frequency\": 1, \"value\": 173}, \"174\": {\"frequency\": 1, \"value\": 174}, \"175\": {\"frequency\": 1, \"value\": 175}, \"176\": {\"frequency\": 1, \"value\": 176}, \"177\": {\"frequency\": 1, \"value\": 177}, \"178\": {\"frequency\": 1, \"value\": 178}, \"179\": {\"frequency\": 1, \"value\": 179}, \"180\": {\"frequency\": 1, \"value\": 180}, \"181\": {\"frequency\": 1, \"value\": 181}, \"182\": {\"frequency\": 1, \"value\": 182}, \"183\": {\"frequency\": 1, \"value\": 183}, \"184\": {\"frequency\": 1, \"value\": 184}, \"185\": {\"frequency\": 1, \"value\": 185}, \"186\": {\"frequency\": 1, \"value\": 186}, \"187\": {\"frequency\": 1, \"value\": 187}, \"188\": {\"frequency\": 1, \"value\": 188}, \"189\": {\"frequency\": 1, \"value\": 189}, \"190\": {\"frequency\": 1, \"value\": 190}, \"191\": {\"frequency\": 1, \"value\": 191}, \"192\": {\"frequency\": 1, \"value\": 192}, \"193\": {\"frequency\": 1, \"value\": 193}, \"194\": {\"frequency\": 1, \"value\": 194}, \"195\": {\"frequency\": 1, \"value\": 195}, \"196\": {\"frequency\": 1, \"value\": 196}, \"197\": {\"frequency\": 1, \"value\": 197}, \"198\": {\"frequency\": 1, \"value\": 198}, \"199\": {\"frequency\": 1, \"value\": 199}, \"200\": {\"frequency\": 1, \"value\": 200}, \"201\": {\"frequency\": 1, \"value\": 201}, \"202\": {\"frequency\": 1, \"value\": 202}, \"203\": {\"frequency\": 1, \"value\": 203}, \"204\": {\"frequency\": 1, \"value\": 204}, \"205\": {\"frequency\": 1, \"value\": 205}, \"206\": {\"frequency\": 1, \"value\": 206}, \"207\": {\"frequency\": 1, \"value\": 207}, \"208\": {\"frequency\": 1, \"value\": 208}, \"209\": {\"frequency\": 1, \"value\": 209}, \"210\": {\"frequency\": 1, \"value\": 210}, \"211\": {\"frequency\": 1, \"value\": 211}, \"212\": {\"frequency\": 1, \"value\": 212}, \"213\": {\"frequency\": 1, \"value\": 213}, \"214\": {\"frequency\": 1, \"value\": 214}, \"215\": {\"frequency\": 1, \"value\": 215}, \"216\": {\"frequency\": 1, \"value\": 216}, \"217\": {\"frequency\": 1, \"value\": 217}, \"218\": {\"frequency\": 1, \"value\": 218}, \"219\": {\"frequency\": 1, \"value\": 219}, \"220\": {\"frequency\": 1, \"value\": 220}, \"221\": {\"frequency\": 1, \"value\": 221}, \"222\": {\"frequency\": 1, \"value\": 222}, \"223\": {\"frequency\": 1, \"value\": 223}, \"224\": {\"frequency\": 1, \"value\": 224}, \"225\": {\"frequency\": 1, \"value\": 225}, \"226\": {\"frequency\": 1, \"value\": 226}, \"227\": {\"frequency\": 1, \"value\": 227}, \"228\": {\"frequency\": 1, \"value\": 228}, \"229\": {\"frequency\": 1, \"value\": 229}, \"230\": {\"frequency\": 1, \"value\": 230}, \"231\": {\"frequency\": 1, \"value\": 231}, \"232\": {\"frequency\": 1, \"value\": 232}, \"233\": {\"frequency\": 1, \"value\": 233}, \"234\": {\"frequency\": 1, \"value\": 234}, \"235\": {\"frequency\": 1, \"value\": 235}, \"236\": {\"frequency\": 1, \"value\": 236}, \"237\": {\"frequency\": 1, \"value\": 237}, \"238\": {\"frequency\": 1, \"value\": 238}, \"239\": {\"frequency\": 1, \"value\": 239}, \"240\": {\"frequency\": 1, \"value\": 240}, \"241\": {\"frequency\": 1, \"value\": 241}, \"242\": {\"frequency\": 1, \"value\": 242}, \"243\": {\"frequency\": 1, \"value\": 243}, \"244\": {\"frequency\": 1, \"value\": 244}, \"245\": {\"frequency\": 1, \"value\": 245}, \"246\": {\"frequency\": 1, \"value\": 246}, \"247\": {\"frequency\": 1, \"value\": 247}, \"248\": {\"frequency\": 1, \"value\": 248}, \"249\": {\"frequency\": 1, \"value\": 249}, \"250\": {\"frequency\": 1, \"value\": 250}, \"251\": {\"frequency\": 1, \"value\": 251}, \"252\": {\"frequency\": 1, \"value\": 252}, \"253\": {\"frequency\": 1, \"value\": 253}, \"254\": {\"frequency\": 1, \"value\": 254}, \"255\": {\"frequency\": 1, \"value\": 255}, \"256\": {\"frequency\": 1, \"value\": 256}, \"257\": {\"frequency\": 1, \"value\": 257}, \"258\": {\"frequency\": 1, \"value\": 258}, \"259\": {\"frequency\": 1, \"value\": 259}, \"260\": {\"frequency\": 1, \"value\": 260}, \"261\": {\"frequency\": 1, \"value\": 261}, \"262\": {\"frequency\": 1, \"value\": 262}, \"263\": {\"frequency\": 1, \"value\": 263}, \"264\": {\"frequency\": 1, \"value\": 264}, \"265\": {\"frequency\": 1, \"value\": 265}, \"266\": {\"frequency\": 1, \"value\": 266}, \"267\": {\"frequency\": 1, \"value\": 267}, \"268\": {\"frequency\": 1, \"value\": 268}, \"269\": {\"frequency\": 1, \"value\": 269}, \"270\": {\"frequency\": 1, \"value\": 270}, \"271\": {\"frequency\": 1, \"value\": 271}, \"272\": {\"frequency\": 1, \"value\": 272}, \"273\": {\"frequency\": 1, \"value\": 273}, \"274\": {\"frequency\": 1, \"value\": 274}, \"275\": {\"frequency\": 1, \"value\": 275}, \"276\": {\"frequency\": 1, \"value\": 276}, \"277\": {\"frequency\": 1, \"value\": 277}, \"278\": {\"frequency\": 1, \"value\": 278}, \"279\": {\"frequency\": 1, \"value\": 279}, \"280\": {\"frequency\": 1, \"value\": 280}, \"281\": {\"frequency\": 1, \"value\": 281}, \"282\": {\"frequency\": 1, \"value\": 282}, \"283\": {\"frequency\": 1, \"value\": 283}, \"284\": {\"frequency\": 1, \"value\": 284}, \"285\": {\"frequency\": 1, \"value\": 285}, \"286\": {\"frequency\": 1, \"value\": 286}, \"287\": {\"frequency\": 1, \"value\": 287}, \"288\": {\"frequency\": 1, \"value\": 288}, \"289\": {\"frequency\": 1, \"value\": 289}, \"290\": {\"frequency\": 1, \"value\": 290}, \"291\": {\"frequency\": 1, \"value\": 291}, \"292\": {\"frequency\": 1, \"value\": 292}, \"293\": {\"frequency\": 1, \"value\": 293}, \"294\": {\"frequency\": 1, \"value\": 294}, \"295\": {\"frequency\": 1, \"value\": 295}, \"296\": {\"frequency\": 1, \"value\": 296}, \"297\": {\"frequency\": 1, \"value\": 297}, \"298\": {\"frequency\": 1, \"value\": 298}, \"299\": {\"frequency\": 1, \"value\": 299}, \"300\": {\"frequency\": 1, \"value\": 300}, \"301\": {\"frequency\": 1, \"value\": 301}, \"302\": {\"frequency\": 1, \"value\": 302}, \"303\": {\"frequency\": 1, \"value\": 303}, \"304\": {\"frequency\": 1, \"value\": 304}, \"305\": {\"frequency\": 1, \"value\": 305}, \"306\": {\"frequency\": 1, \"value\": 306}, \"307\": {\"frequency\": 1, \"value\": 307}, \"308\": {\"frequency\": 1, \"value\": 308}, \"309\": {\"frequency\": 1, \"value\": 309}, \"310\": {\"frequency\": 1, \"value\": 310}, \"311\": {\"frequency\": 1, \"value\": 311}, \"312\": {\"frequency\": 1, \"value\": 312}, \"313\": {\"frequency\": 1, \"value\": 313}, \"314\": {\"frequency\": 1, \"value\": 314}, \"315\": {\"frequency\": 1, \"value\": 315}, \"316\": {\"frequency\": 1, \"value\": 316}, \"317\": {\"frequency\": 1, \"value\": 317}, \"318\": {\"frequency\": 1, \"value\": 318}, \"319\": {\"frequency\": 1, \"value\": 319}, \"320\": {\"frequency\": 1, \"value\": 320}, \"321\": {\"frequency\": 1, \"value\": 321}, \"322\": {\"frequency\": 1, \"value\": 322}, \"323\": {\"frequency\": 1, \"value\": 323}, \"324\": {\"frequency\": 1, \"value\": 324}, \"325\": {\"frequency\": 1, \"value\": 325}, \"326\": {\"frequency\": 1, \"value\": 326}, \"327\": {\"frequency\": 1, \"value\": 327}, \"328\": {\"frequency\": 1, \"value\": 328}, \"329\": {\"frequency\": 1, \"value\": 329}, \"330\": {\"frequency\": 1, \"value\": 330}, \"331\": {\"frequency\": 1, \"value\": 331}, \"332\": {\"frequency\": 1, \"value\": 332}, \"333\": {\"frequency\": 1, \"value\": 333}, \"334\": {\"frequency\": 1, \"value\": 334}, \"335\": {\"frequency\": 1, \"value\": 335}, \"336\": {\"frequency\": 1, \"value\": 336}, \"337\": {\"frequency\": 1, \"value\": 337}, \"338\": {\"frequency\": 1, \"value\": 338}, \"339\": {\"frequency\": 1, \"value\": 339}, \"340\": {\"frequency\": 1, \"value\": 340}, \"341\": {\"frequency\": 1, \"value\": 341}, \"342\": {\"frequency\": 1, \"value\": 342}, \"343\": {\"frequency\": 1, \"value\": 343}, \"344\": {\"frequency\": 1, \"value\": 344}, \"345\": {\"frequency\": 1, \"value\": 345}, \"346\": {\"frequency\": 1, \"value\": 346}, \"347\": {\"frequency\": 1, \"value\": 347}, \"348\": {\"frequency\": 1, \"value\": 348}, \"349\": {\"frequency\": 1, \"value\": 349}, \"350\": {\"frequency\": 1, \"value\": 350}, \"351\": {\"frequency\": 1, \"value\": 351}, \"352\": {\"frequency\": 1, \"value\": 352}, \"353\": {\"frequency\": 1, \"value\": 353}, \"354\": {\"frequency\": 1, \"value\": 354}, \"355\": {\"frequency\": 1, \"value\": 355}, \"356\": {\"frequency\": 1, \"value\": 356}, \"357\": {\"frequency\": 1, \"value\": 357}, \"358\": {\"frequency\": 1, \"value\": 358}, \"359\": {\"frequency\": 1, \"value\": 359}, \"360\": {\"frequency\": 1, \"value\": 360}, \"361\": {\"frequency\": 1, \"value\": 361}, \"362\": {\"frequency\": 1, \"value\": 362}, \"363\": {\"frequency\": 1, \"value\": 363}, \"364\": {\"frequency\": 1, \"value\": 364}, \"365\": {\"frequency\": 1, \"value\": 365}, \"366\": {\"frequency\": 1, \"value\": 366}, \"367\": {\"frequency\": 1, \"value\": 367}, \"368\": {\"frequency\": 1, \"value\": 368}, \"369\": {\"frequency\": 1, \"value\": 369}, \"370\": {\"frequency\": 1, \"value\": 370}, \"371\": {\"frequency\": 1, \"value\": 371}, \"372\": {\"frequency\": 1, \"value\": 372}, \"373\": {\"frequency\": 1, \"value\": 373}, \"374\": {\"frequency\": 1, \"value\": 374}, \"375\": {\"frequency\": 1, \"value\": 375}, \"376\": {\"frequency\": 1, \"value\": 376}, \"377\": {\"frequency\": 1, \"value\": 377}, \"378\": {\"frequency\": 1, \"value\": 378}, \"379\": {\"frequency\": 1, \"value\": 379}, \"380\": {\"frequency\": 1, \"value\": 380}, \"381\": {\"frequency\": 1, \"value\": 381}, \"382\": {\"frequency\": 1, \"value\": 382}, \"383\": {\"frequency\": 1, \"value\": 383}, \"384\": {\"frequency\": 1, \"value\": 384}, \"385\": {\"frequency\": 1, \"value\": 385}, \"386\": {\"frequency\": 1, \"value\": 386}, \"387\": {\"frequency\": 1, \"value\": 387}, \"388\": {\"frequency\": 1, \"value\": 388}, \"389\": {\"frequency\": 1, \"value\": 389}, \"390\": {\"frequency\": 1, \"value\": 390}, \"391\": {\"frequency\": 1, \"value\": 391}, \"392\": {\"frequency\": 1, \"value\": 392}, \"393\": {\"frequency\": 1, \"value\": 393}, \"394\": {\"frequency\": 1, \"value\": 394}, \"395\": {\"frequency\": 1, \"value\": 395}, \"396\": {\"frequency\": 1, \"value\": 396}, \"397\": {\"frequency\": 1, \"value\": 397}, \"398\": {\"frequency\": 1, \"value\": 398}, \"399\": {\"frequency\": 1, \"value\": 399}, \"400\": {\"frequency\": 1, \"value\": 400}, \"401\": {\"frequency\": 1, \"value\": 401}, \"402\": {\"frequency\": 1, \"value\": 402}, \"403\": {\"frequency\": 1, \"value\": 403}, \"404\": {\"frequency\": 1, \"value\": 404}, \"405\": {\"frequency\": 1, \"value\": 405}, \"406\": {\"frequency\": 1, \"value\": 406}, \"407\": {\"frequency\": 1, \"value\": 407}, \"408\": {\"frequency\": 1, \"value\": 408}, \"409\": {\"frequency\": 1, \"value\": 409}, \"410\": {\"frequency\": 1, \"value\": 410}, \"411\": {\"frequency\": 1, \"value\": 411}, \"412\": {\"frequency\": 1, \"value\": 412}, \"413\": {\"frequency\": 1, \"value\": 413}, \"414\": {\"frequency\": 1, \"value\": 414}, \"415\": {\"frequency\": 1, \"value\": 415}, \"416\": {\"frequency\": 1, \"value\": 416}, \"417\": {\"frequency\": 1, \"value\": 417}, \"418\": {\"frequency\": 1, \"value\": 418}, \"419\": {\"frequency\": 1, \"value\": 419}, \"420\": {\"frequency\": 1, \"value\": 420}, \"421\": {\"frequency\": 1, \"value\": 421}, \"422\": {\"frequency\": 1, \"value\": 422}, \"423\": {\"frequency\": 1, \"value\": 423}, \"424\": {\"frequency\": 1, \"value\": 424}, \"425\": {\"frequency\": 1, \"value\": 425}, \"426\": {\"frequency\": 1, \"value\": 426}, \"427\": {\"frequency\": 1, \"value\": 427}, \"428\": {\"frequency\": 1, \"value\": 428}, \"429\": {\"frequency\": 1, \"value\": 429}, \"430\": {\"frequency\": 1, \"value\": 430}, \"431\": {\"frequency\": 1, \"value\": 431}, \"432\": {\"frequency\": 1, \"value\": 432}, \"433\": {\"frequency\": 1, \"value\": 433}, \"434\": {\"frequency\": 1, \"value\": 434}, \"435\": {\"frequency\": 1, \"value\": 435}, \"436\": {\"frequency\": 1, \"value\": 436}, \"437\": {\"frequency\": 1, \"value\": 437}, \"438\": {\"frequency\": 1, \"value\": 438}, \"439\": {\"frequency\": 1, \"value\": 439}, \"440\": {\"frequency\": 1, \"value\": 440}, \"441\": {\"frequency\": 1, \"value\": 441}, \"442\": {\"frequency\": 1, \"value\": 442}, \"443\": {\"frequency\": 1, \"value\": 443}, \"444\": {\"frequency\": 1, \"value\": 444}, \"445\": {\"frequency\": 1, \"value\": 445}, \"446\": {\"frequency\": 1, \"value\": 446}, \"447\": {\"frequency\": 1, \"value\": 447}, \"448\": {\"frequency\": 1, \"value\": 448}, \"449\": {\"frequency\": 1, \"value\": 449}, \"450\": {\"frequency\": 1, \"value\": 450}, \"451\": {\"frequency\": 1, \"value\": 451}, \"452\": {\"frequency\": 1, \"value\": 452}, \"453\": {\"frequency\": 1, \"value\": 453}, \"454\": {\"frequency\": 1, \"value\": 454}, \"455\": {\"frequency\": 1, \"value\": 455}, \"456\": {\"frequency\": 1, \"value\": 456}, \"457\": {\"frequency\": 1, \"value\": 457}, \"458\": {\"frequency\": 1, \"value\": 458}, \"459\": {\"frequency\": 1, \"value\": 459}, \"460\": {\"frequency\": 1, \"value\": 460}, \"461\": {\"frequency\": 1, \"value\": 461}, \"462\": {\"frequency\": 1, \"value\": 462}, \"463\": {\"frequency\": 1, \"value\": 463}, \"464\": {\"frequency\": 1, \"value\": 464}, \"465\": {\"frequency\": 1, \"value\": 465}, \"466\": {\"frequency\": 1, \"value\": 466}, \"467\": {\"frequency\": 1, \"value\": 467}, \"468\": {\"frequency\": 1, \"value\": 468}, \"469\": {\"frequency\": 1, \"value\": 469}, \"470\": {\"frequency\": 1, \"value\": 470}, \"471\": {\"frequency\": 1, \"value\": 471}, \"472\": {\"frequency\": 1, \"value\": 472}, \"473\": {\"frequency\": 1, \"value\": 473}, \"474\": {\"frequency\": 1, \"value\": 474}, \"475\": {\"frequency\": 1, \"value\": 475}, \"476\": {\"frequency\": 1, \"value\": 476}, \"477\": {\"frequency\": 1, \"value\": 477}, \"478\": {\"frequency\": 1, \"value\": 478}, \"479\": {\"frequency\": 1, \"value\": 479}, \"480\": {\"frequency\": 1, \"value\": 480}, \"481\": {\"frequency\": 1, \"value\": 481}, \"482\": {\"frequency\": 1, \"value\": 482}, \"483\": {\"frequency\": 1, \"value\": 483}, \"484\": {\"frequency\": 1, \"value\": 484}, \"485\": {\"frequency\": 1, \"value\": 485}, \"486\": {\"frequency\": 1, \"value\": 486}, \"487\": {\"frequency\": 1, \"value\": 487}, \"488\": {\"frequency\": 1, \"value\": 488}, \"489\": {\"frequency\": 1, \"value\": 489}, \"490\": {\"frequency\": 1, \"value\": 490}, \"491\": {\"frequency\": 1, \"value\": 491}, \"492\": {\"frequency\": 1, \"value\": 492}, \"493\": {\"frequency\": 1, \"value\": 493}, \"494\": {\"frequency\": 1, \"value\": 494}, \"495\": {\"frequency\": 1, \"value\": 495}, \"496\": {\"frequency\": 1, \"value\": 496}, \"497\": {\"frequency\": 1, \"value\": 497}, \"498\": {\"frequency\": 1, \"value\": 498}, \"499\": {\"frequency\": 1, \"value\": 499}, \"500\": {\"frequency\": 1, \"value\": 500}, \"501\": {\"frequency\": 1, \"value\": 501}, \"502\": {\"frequency\": 1, \"value\": 502}, \"503\": {\"frequency\": 1, \"value\": 503}, \"504\": {\"frequency\": 1, \"value\": 504}, \"505\": {\"frequency\": 1, \"value\": 505}, \"506\": {\"frequency\": 1, \"value\": 506}, \"507\": {\"frequency\": 1, \"value\": 507}, \"508\": {\"frequency\": 1, \"value\": 508}, \"509\": {\"frequency\": 1, \"value\": 509}, \"510\": {\"frequency\": 1, \"value\": 510}, \"511\": {\"frequency\": 1, \"value\": 511}, \"512\": {\"frequency\": 1, \"value\": 512}, \"513\": {\"frequency\": 1, \"value\": 513}, \"514\": {\"frequency\": 1, \"value\": 514}, \"515\": {\"frequency\": 1, \"value\": 515}, \"516\": {\"frequency\": 1, \"value\": 516}, \"517\": {\"frequency\": 1, \"value\": 517}, \"518\": {\"frequency\": 1, \"value\": 518}, \"519\": {\"frequency\": 1, \"value\": 519}, \"520\": {\"frequency\": 1, \"value\": 520}, \"521\": {\"frequency\": 1, \"value\": 521}, \"522\": {\"frequency\": 1, \"value\": 522}, \"523\": {\"frequency\": 1, \"value\": 523}, \"524\": {\"frequency\": 1, \"value\": 524}, \"525\": {\"frequency\": 1, \"value\": 525}, \"526\": {\"frequency\": 1, \"value\": 526}, \"527\": {\"frequency\": 1, \"value\": 527}, \"528\": {\"frequency\": 1, \"value\": 528}, \"529\": {\"frequency\": 1, \"value\": 529}, \"530\": {\"frequency\": 1, \"value\": 530}, \"531\": {\"frequency\": 1, \"value\": 531}, \"532\": {\"frequency\": 1, \"value\": 532}, \"533\": {\"frequency\": 1, \"value\": 533}, \"534\": {\"frequency\": 1, \"value\": 534}, \"535\": {\"frequency\": 1, \"value\": 535}, \"536\": {\"frequency\": 1, \"value\": 536}, \"537\": {\"frequency\": 1, \"value\": 537}, \"538\": {\"frequency\": 1, \"value\": 538}, \"539\": {\"frequency\": 1, \"value\": 539}, \"540\": {\"frequency\": 1, \"value\": 540}, \"541\": {\"frequency\": 1, \"value\": 541}, \"542\": {\"frequency\": 1, \"value\": 542}, \"543\": {\"frequency\": 1, \"value\": 543}, \"544\": {\"frequency\": 1, \"value\": 544}, \"545\": {\"frequency\": 1, \"value\": 545}, \"546\": {\"frequency\": 1, \"value\": 546}, \"547\": {\"frequency\": 1, \"value\": 547}, \"548\": {\"frequency\": 1, \"value\": 548}, \"549\": {\"frequency\": 1, \"value\": 549}, \"550\": {\"frequency\": 1, \"value\": 550}, \"551\": {\"frequency\": 1, \"value\": 551}, \"552\": {\"frequency\": 1, \"value\": 552}, \"553\": {\"frequency\": 1, \"value\": 553}, \"554\": {\"frequency\": 1, \"value\": 554}, \"555\": {\"frequency\": 1, \"value\": 555}, \"556\": {\"frequency\": 1, \"value\": 556}, \"557\": {\"frequency\": 1, \"value\": 557}, \"558\": {\"frequency\": 1, \"value\": 558}, \"559\": {\"frequency\": 1, \"value\": 559}, \"560\": {\"frequency\": 1, \"value\": 560}, \"561\": {\"frequency\": 1, \"value\": 561}, \"562\": {\"frequency\": 1, \"value\": 562}, \"563\": {\"frequency\": 1, \"value\": 563}, \"564\": {\"frequency\": 1, \"value\": 564}, \"565\": {\"frequency\": 1, \"value\": 565}, \"566\": {\"frequency\": 1, \"value\": 566}, \"567\": {\"frequency\": 1, \"value\": 567}, \"568\": {\"frequency\": 1, \"value\": 568}, \"569\": {\"frequency\": 1, \"value\": 569}, \"570\": {\"frequency\": 1, \"value\": 570}, \"571\": {\"frequency\": 1, \"value\": 571}, \"572\": {\"frequency\": 1, \"value\": 572}, \"573\": {\"frequency\": 1, \"value\": 573}, \"574\": {\"frequency\": 1, \"value\": 574}, \"575\": {\"frequency\": 1, \"value\": 575}, \"576\": {\"frequency\": 1, \"value\": 576}, \"577\": {\"frequency\": 1, \"value\": 577}, \"578\": {\"frequency\": 1, \"value\": 578}, \"579\": {\"frequency\": 1, \"value\": 579}, \"580\": {\"frequency\": 1, \"value\": 580}, \"581\": {\"frequency\": 1, \"value\": 581}, \"582\": {\"frequency\": 1, \"value\": 582}, \"583\": {\"frequency\": 1, \"value\": 583}, \"584\": {\"frequency\": 1, \"value\": 584}, \"585\": {\"frequency\": 1, \"value\": 585}, \"586\": {\"frequency\": 1, \"value\": 586}, \"587\": {\"frequency\": 1, \"value\": 587}, \"588\": {\"frequency\": 1, \"value\": 588}, \"589\": {\"frequency\": 1, \"value\": 589}, \"590\": {\"frequency\": 1, \"value\": 590}, \"591\": {\"frequency\": 1, \"value\": 591}, \"592\": {\"frequency\": 1, \"value\": 592}, \"593\": {\"frequency\": 1, \"value\": 593}, \"594\": {\"frequency\": 1, \"value\": 594}, \"595\": {\"frequency\": 1, \"value\": 595}, \"596\": {\"frequency\": 1, \"value\": 596}, \"597\": {\"frequency\": 1, \"value\": 597}, \"598\": {\"frequency\": 1, \"value\": 598}, \"599\": {\"frequency\": 1, \"value\": 599}, \"600\": {\"frequency\": 1, \"value\": 600}, \"601\": {\"frequency\": 1, \"value\": 601}, \"602\": {\"frequency\": 1, \"value\": 602}, \"603\": {\"frequency\": 1, \"value\": 603}, \"604\": {\"frequency\": 1, \"value\": 604}, \"605\": {\"frequency\": 1, \"value\": 605}, \"606\": {\"frequency\": 1, \"value\": 606}, \"607\": {\"frequency\": 1, \"value\": 607}, \"608\": {\"frequency\": 1, \"value\": 608}, \"609\": {\"frequency\": 1, \"value\": 609}, \"610\": {\"frequency\": 1, \"value\": 610}, \"611\": {\"frequency\": 1, \"value\": 611}, \"612\": {\"frequency\": 1, \"value\": 612}, \"613\": {\"frequency\": 1, \"value\": 613}, \"614\": {\"frequency\": 1, \"value\": 614}, \"615\": {\"frequency\": 1, \"value\": 615}, \"616\": {\"frequency\": 1, \"value\": 616}, \"617\": {\"frequency\": 1, \"value\": 617}, \"618\": {\"frequency\": 1, \"value\": 618}, \"619\": {\"frequency\": 1, \"value\": 619}, \"620\": {\"frequency\": 1, \"value\": 620}, \"621\": {\"frequency\": 1, \"value\": 621}, \"622\": {\"frequency\": 1, \"value\": 622}, \"623\": {\"frequency\": 1, \"value\": 623}, \"624\": {\"frequency\": 1, \"value\": 624}, \"625\": {\"frequency\": 1, \"value\": 625}, \"626\": {\"frequency\": 1, \"value\": 626}, \"627\": {\"frequency\": 1, \"value\": 627}, \"628\": {\"frequency\": 1, \"value\": 628}, \"629\": {\"frequency\": 1, \"value\": 629}, \"630\": {\"frequency\": 1, \"value\": 630}, \"631\": {\"frequency\": 1, \"value\": 631}, \"632\": {\"frequency\": 1, \"value\": 632}, \"633\": {\"frequency\": 1, \"value\": 633}, \"634\": {\"frequency\": 1, \"value\": 634}, \"635\": {\"frequency\": 1, \"value\": 635}, \"636\": {\"frequency\": 1, \"value\": 636}, \"637\": {\"frequency\": 1, \"value\": 637}, \"638\": {\"frequency\": 1, \"value\": 638}, \"639\": {\"frequency\": 1, \"value\": 639}, \"640\": {\"frequency\": 1, \"value\": 640}, \"641\": {\"frequency\": 1, \"value\": 641}, \"642\": {\"frequency\": 1, \"value\": 642}, \"643\": {\"frequency\": 1, \"value\": 643}, \"644\": {\"frequency\": 1, \"value\": 644}, \"645\": {\"frequency\": 1, \"value\": 645}, \"646\": {\"frequency\": 1, \"value\": 646}, \"647\": {\"frequency\": 1, \"value\": 647}, \"648\": {\"frequency\": 1, \"value\": 648}, \"649\": {\"frequency\": 1, \"value\": 649}, \"650\": {\"frequency\": 1, \"value\": 650}, \"651\": {\"frequency\": 1, \"value\": 651}, \"652\": {\"frequency\": 1, \"value\": 652}, \"653\": {\"frequency\": 1, \"value\": 653}, \"654\": {\"frequency\": 1, \"value\": 654}, \"655\": {\"frequency\": 1, \"value\": 655}, \"656\": {\"frequency\": 1, \"value\": 656}, \"657\": {\"frequency\": 1, \"value\": 657}, \"658\": {\"frequency\": 1, \"value\": 658}, \"659\": {\"frequency\": 1, \"value\": 659}, \"660\": {\"frequency\": 1, \"value\": 660}, \"661\": {\"frequency\": 1, \"value\": 661}, \"662\": {\"frequency\": 1, \"value\": 662}, \"663\": {\"frequency\": 1, \"value\": 663}, \"664\": {\"frequency\": 1, \"value\": 664}, \"665\": {\"frequency\": 1, \"value\": 665}, \"666\": {\"frequency\": 1, \"value\": 666}, \"667\": {\"frequency\": 1, \"value\": 667}, \"668\": {\"frequency\": 1, \"value\": 668}, \"669\": {\"frequency\": 1, \"value\": 669}, \"670\": {\"frequency\": 1, \"value\": 670}, \"671\": {\"frequency\": 1, \"value\": 671}, \"672\": {\"frequency\": 1, \"value\": 672}, \"673\": {\"frequency\": 1, \"value\": 673}, \"674\": {\"frequency\": 1, \"value\": 674}, \"675\": {\"frequency\": 1, \"value\": 675}, \"676\": {\"frequency\": 1, \"value\": 676}, \"677\": {\"frequency\": 1, \"value\": 677}, \"678\": {\"frequency\": 1, \"value\": 678}, \"679\": {\"frequency\": 1, \"value\": 679}, \"680\": {\"frequency\": 1, \"value\": 680}, \"681\": {\"frequency\": 1, \"value\": 681}, \"682\": {\"frequency\": 1, \"value\": 682}, \"683\": {\"frequency\": 1, \"value\": 683}, \"684\": {\"frequency\": 1, \"value\": 684}, \"685\": {\"frequency\": 1, \"value\": 685}, \"686\": {\"frequency\": 1, \"value\": 686}, \"687\": {\"frequency\": 1, \"value\": 687}, \"688\": {\"frequency\": 1, \"value\": 688}, \"689\": {\"frequency\": 1, \"value\": 689}, \"690\": {\"frequency\": 1, \"value\": 690}, \"691\": {\"frequency\": 1, \"value\": 691}, \"692\": {\"frequency\": 1, \"value\": 692}, \"693\": {\"frequency\": 1, \"value\": 693}, \"694\": {\"frequency\": 1, \"value\": 694}, \"695\": {\"frequency\": 1, \"value\": 695}, \"696\": {\"frequency\": 1, \"value\": 696}, \"697\": {\"frequency\": 1, \"value\": 697}, \"698\": {\"frequency\": 1, \"value\": 698}, \"699\": {\"frequency\": 1, \"value\": 699}, \"700\": {\"frequency\": 1, \"value\": 700}, \"701\": {\"frequency\": 1, \"value\": 701}, \"702\": {\"frequency\": 1, \"value\": 702}, \"703\": {\"frequency\": 1, \"value\": 703}, \"704\": {\"frequency\": 1, \"value\": 704}, \"705\": {\"frequency\": 1, \"value\": 705}, \"706\": {\"frequency\": 1, \"value\": 706}, \"707\": {\"frequency\": 1, \"value\": 707}, \"708\": {\"frequency\": 1, \"value\": 708}, \"709\": {\"frequency\": 1, \"value\": 709}, \"710\": {\"frequency\": 1, \"value\": 710}, \"711\": {\"frequency\": 1, \"value\": 711}, \"712\": {\"frequency\": 1, \"value\": 712}, \"713\": {\"frequency\": 1, \"value\": 713}, \"714\": {\"frequency\": 1, \"value\": 714}, \"715\": {\"frequency\": 1, \"value\": 715}, \"716\": {\"frequency\": 1, \"value\": 716}, \"717\": {\"frequency\": 1, \"value\": 717}, \"718\": {\"frequency\": 1, \"value\": 718}, \"719\": {\"frequency\": 1, \"value\": 719}, \"720\": {\"frequency\": 1, \"value\": 720}, \"721\": {\"frequency\": 1, \"value\": 721}, \"722\": {\"frequency\": 1, \"value\": 722}, \"723\": {\"frequency\": 1, \"value\": 723}, \"724\": {\"frequency\": 1, \"value\": 724}, \"725\": {\"frequency\": 1, \"value\": 725}, \"726\": {\"frequency\": 1, \"value\": 726}, \"727\": {\"frequency\": 1, \"value\": 727}, \"728\": {\"frequency\": 1, \"value\": 728}, \"729\": {\"frequency\": 1, \"value\": 729}, \"730\": {\"frequency\": 1, \"value\": 730}, \"731\": {\"frequency\": 1, \"value\": 731}, \"732\": {\"frequency\": 1, \"value\": 732}, \"733\": {\"frequency\": 1, \"value\": 733}, \"734\": {\"frequency\": 1, \"value\": 734}, \"735\": {\"frequency\": 1, \"value\": 735}, \"736\": {\"frequency\": 1, \"value\": 736}, \"737\": {\"frequency\": 1, \"value\": 737}, \"738\": {\"frequency\": 1, \"value\": 738}, \"739\": {\"frequency\": 1, \"value\": 739}, \"740\": {\"frequency\": 1, \"value\": 740}, \"741\": {\"frequency\": 1, \"value\": 741}, \"742\": {\"frequency\": 1, \"value\": 742}, \"743\": {\"frequency\": 1, \"value\": 743}, \"744\": {\"frequency\": 1, \"value\": 744}, \"745\": {\"frequency\": 1, \"value\": 745}, \"746\": {\"frequency\": 1, \"value\": 746}, \"747\": {\"frequency\": 1, \"value\": 747}, \"748\": {\"frequency\": 1, \"value\": 748}, \"749\": {\"frequency\": 1, \"value\": 749}, \"750\": {\"frequency\": 1, \"value\": 750}, \"751\": {\"frequency\": 1, \"value\": 751}, \"752\": {\"frequency\": 1, \"value\": 752}, \"753\": {\"frequency\": 1, \"value\": 753}, \"754\": {\"frequency\": 1, \"value\": 754}, \"755\": {\"frequency\": 1, \"value\": 755}, \"756\": {\"frequency\": 1, \"value\": 756}, \"757\": {\"frequency\": 1, \"value\": 757}, \"758\": {\"frequency\": 1, \"value\": 758}, \"759\": {\"frequency\": 1, \"value\": 759}, \"760\": {\"frequency\": 1, \"value\": 760}, \"761\": {\"frequency\": 1, \"value\": 761}, \"762\": {\"frequency\": 1, \"value\": 762}, \"763\": {\"frequency\": 1, \"value\": 763}, \"764\": {\"frequency\": 1, \"value\": 764}, \"765\": {\"frequency\": 1, \"value\": 765}, \"766\": {\"frequency\": 1, \"value\": 766}, \"767\": {\"frequency\": 1, \"value\": 767}, \"768\": {\"frequency\": 1, \"value\": 768}, \"769\": {\"frequency\": 1, \"value\": 769}, \"770\": {\"frequency\": 1, \"value\": 770}, \"771\": {\"frequency\": 1, \"value\": 771}, \"772\": {\"frequency\": 1, \"value\": 772}, \"773\": {\"frequency\": 1, \"value\": 773}, \"774\": {\"frequency\": 1, \"value\": 774}, \"775\": {\"frequency\": 1, \"value\": 775}, \"776\": {\"frequency\": 1, \"value\": 776}, \"777\": {\"frequency\": 1, \"value\": 777}, \"778\": {\"frequency\": 1, \"value\": 778}, \"779\": {\"frequency\": 1, \"value\": 779}, \"780\": {\"frequency\": 1, \"value\": 780}, \"781\": {\"frequency\": 1, \"value\": 781}, \"782\": {\"frequency\": 1, \"value\": 782}, \"783\": {\"frequency\": 1, \"value\": 783}, \"784\": {\"frequency\": 1, \"value\": 784}, \"785\": {\"frequency\": 1, \"value\": 785}, \"786\": {\"frequency\": 1, \"value\": 786}, \"787\": {\"frequency\": 1, \"value\": 787}, \"788\": {\"frequency\": 1, \"value\": 788}, \"789\": {\"frequency\": 1, \"value\": 789}, \"790\": {\"frequency\": 1, \"value\": 790}, \"791\": {\"frequency\": 1, \"value\": 791}, \"792\": {\"frequency\": 1, \"value\": 792}, \"793\": {\"frequency\": 1, \"value\": 793}, \"794\": {\"frequency\": 1, \"value\": 794}, \"795\": {\"frequency\": 1, \"value\": 795}, \"796\": {\"frequency\": 1, \"value\": 796}, \"797\": {\"frequency\": 1, \"value\": 797}, \"798\": {\"frequency\": 1, \"value\": 798}, \"799\": {\"frequency\": 1, \"value\": 799}, \"800\": {\"frequency\": 1, \"value\": 800}, \"801\": {\"frequency\": 1, \"value\": 801}, \"802\": {\"frequency\": 1, \"value\": 802}, \"803\": {\"frequency\": 1, \"value\": 803}, \"804\": {\"frequency\": 1, \"value\": 804}, \"805\": {\"frequency\": 1, \"value\": 805}, \"806\": {\"frequency\": 1, \"value\": 806}, \"807\": {\"frequency\": 1, \"value\": 807}, \"808\": {\"frequency\": 1, \"value\": 808}, \"809\": {\"frequency\": 1, \"value\": 809}, \"810\": {\"frequency\": 1, \"value\": 810}, \"811\": {\"frequency\": 1, \"value\": 811}, \"812\": {\"frequency\": 1, \"value\": 812}, \"813\": {\"frequency\": 1, \"value\": 813}, \"814\": {\"frequency\": 1, \"value\": 814}, \"815\": {\"frequency\": 1, \"value\": 815}, \"816\": {\"frequency\": 1, \"value\": 816}, \"817\": {\"frequency\": 1, \"value\": 817}, \"818\": {\"frequency\": 1, \"value\": 818}, \"819\": {\"frequency\": 1, \"value\": 819}, \"820\": {\"frequency\": 1, \"value\": 820}, \"821\": {\"frequency\": 1, \"value\": 821}, \"822\": {\"frequency\": 1, \"value\": 822}, \"823\": {\"frequency\": 1, \"value\": 823}, \"824\": {\"frequency\": 1, \"value\": 824}, \"825\": {\"frequency\": 1, \"value\": 825}, \"826\": {\"frequency\": 1, \"value\": 826}, \"827\": {\"frequency\": 1, \"value\": 827}, \"828\": {\"frequency\": 1, \"value\": 828}, \"829\": {\"frequency\": 1, \"value\": 829}, \"830\": {\"frequency\": 1, \"value\": 830}, \"831\": {\"frequency\": 1, \"value\": 831}, \"832\": {\"frequency\": 1, \"value\": 832}, \"833\": {\"frequency\": 1, \"value\": 833}, \"834\": {\"frequency\": 1, \"value\": 834}, \"835\": {\"frequency\": 1, \"value\": 835}, \"836\": {\"frequency\": 1, \"value\": 836}, \"837\": {\"frequency\": 1, \"value\": 837}, \"838\": {\"frequency\": 1, \"value\": 838}, \"839\": {\"frequency\": 1, \"value\": 839}, \"840\": {\"frequency\": 1, \"value\": 840}, \"841\": {\"frequency\": 1, \"value\": 841}, \"842\": {\"frequency\": 1, \"value\": 842}, \"843\": {\"frequency\": 1, \"value\": 843}, \"844\": {\"frequency\": 1, \"value\": 844}, \"845\": {\"frequency\": 1, \"value\": 845}, \"846\": {\"frequency\": 1, \"value\": 846}, \"847\": {\"frequency\": 1, \"value\": 847}, \"848\": {\"frequency\": 1, \"value\": 848}, \"849\": {\"frequency\": 1, \"value\": 849}, \"850\": {\"frequency\": 1, \"value\": 850}, \"851\": {\"frequency\": 1, \"value\": 851}, \"852\": {\"frequency\": 1, \"value\": 852}, \"853\": {\"frequency\": 1, \"value\": 853}, \"854\": {\"frequency\": 1, \"value\": 854}, \"855\": {\"frequency\": 1, \"value\": 855}, \"856\": {\"frequency\": 1, \"value\": 856}, \"857\": {\"frequency\": 1, \"value\": 857}, \"858\": {\"frequency\": 1, \"value\": 858}, \"859\": {\"frequency\": 1, \"value\": 859}, \"860\": {\"frequency\": 1, \"value\": 860}, \"861\": {\"frequency\": 1, \"value\": 861}, \"862\": {\"frequency\": 1, \"value\": 862}, \"863\": {\"frequency\": 1, \"value\": 863}, \"864\": {\"frequency\": 1, \"value\": 864}, \"865\": {\"frequency\": 1, \"value\": 865}, \"866\": {\"frequency\": 1, \"value\": 866}, \"867\": {\"frequency\": 1, \"value\": 867}, \"868\": {\"frequency\": 1, \"value\": 868}, \"869\": {\"frequency\": 1, \"value\": 869}, \"870\": {\"frequency\": 1, \"value\": 870}, \"871\": {\"frequency\": 1, \"value\": 871}, \"872\": {\"frequency\": 1, \"value\": 872}, \"873\": {\"frequency\": 1, \"value\": 873}, \"874\": {\"frequency\": 1, \"value\": 874}, \"875\": {\"frequency\": 1, \"value\": 875}, \"876\": {\"frequency\": 1, \"value\": 876}, \"877\": {\"frequency\": 1, \"value\": 877}, \"878\": {\"frequency\": 1, \"value\": 878}, \"879\": {\"frequency\": 1, \"value\": 879}, \"880\": {\"frequency\": 1, \"value\": 880}, \"881\": {\"frequency\": 1, \"value\": 881}, \"882\": {\"frequency\": 1, \"value\": 882}, \"883\": {\"frequency\": 1, \"value\": 883}, \"884\": {\"frequency\": 1, \"value\": 884}, \"885\": {\"frequency\": 1, \"value\": 885}, \"886\": {\"frequency\": 1, \"value\": 886}, \"887\": {\"frequency\": 1, \"value\": 887}, \"888\": {\"frequency\": 1, \"value\": 888}, \"889\": {\"frequency\": 1, \"value\": 889}, \"890\": {\"frequency\": 1, \"value\": 890}, \"891\": {\"frequency\": 1, \"value\": 891}}, \"mean\": 446.0}, \"Ticket\": {\"complete\": true, \"numeric\": false, \"num_unique\": 681, \"num_undefined\": 0, \"progress\": 1.0, \"frequent_items\": {\"367226\": {\"frequency\": 2, \"value\": \"367226\"}, \"SOTON/OQ 392090\": {\"frequency\": 1, \"value\": \"SOTON/OQ 392090\"}, \"C.A. 29566\": {\"frequency\": 1, \"value\": \"C.A. 29566\"}, \"110413\": {\"frequency\": 3, \"value\": \"110413\"}, \"367229\": {\"frequency\": 1, \"value\": \"367229\"}, \"A/5 3902\": {\"frequency\": 1, \"value\": \"A/5 3902\"}, \"C.A. 33111\": {\"frequency\": 1, \"value\": \"C.A. 33111\"}, \"C.A. 33112\": {\"frequency\": 2, \"value\": \"C.A. 33112\"}, \"W./C. 6607\": {\"frequency\": 2, \"value\": \"W./C. 6607\"}, \"W./C. 6609\": {\"frequency\": 1, \"value\": \"W./C. 6609\"}, \"W./C. 6608\": {\"frequency\": 4, \"value\": \"W./C. 6608\"}, \"350029\": {\"frequency\": 1, \"value\": \"350029\"}, \"A/5 3536\": {\"frequency\": 1, \"value\": \"A/5 3536\"}, \"219533\": {\"frequency\": 1, \"value\": \"219533\"}, \"A/5 21174\": {\"frequency\": 1, \"value\": \"A/5 21174\"}, \"C.A. 24580\": {\"frequency\": 1, \"value\": \"C.A. 24580\"}, \"A/5 21171\": {\"frequency\": 1, \"value\": \"A/5 21171\"}, \"A/5 21173\": {\"frequency\": 1, \"value\": \"A/5 21173\"}, \"A/5 21172\": {\"frequency\": 1, \"value\": \"A/5 21172\"}, \"367228\": {\"frequency\": 1, \"value\": \"367228\"}, \"348121\": {\"frequency\": 1, \"value\": \"348121\"}, \"STON/O2. 3101279\": {\"frequency\": 2, \"value\": \"STON/O2. 3101279\"}, \"350060\": {\"frequency\": 1, \"value\": \"350060\"}, \"29750\": {\"frequency\": 2, \"value\": \"29750\"}, \"29751\": {\"frequency\": 1, \"value\": \"29751\"}, \"330979\": {\"frequency\": 1, \"value\": \"330979\"}, \"237565\": {\"frequency\": 1, \"value\": \"237565\"}, \"A/4. 34244\": {\"frequency\": 1, \"value\": \"A/4. 34244\"}, \"SOTON/O2 3101272\": {\"frequency\": 1, \"value\": \"SOTON/O2 3101272\"}, \"33638\": {\"frequency\": 1, \"value\": \"33638\"}, \"C.A. 6212\": {\"frequency\": 1, \"value\": \"C.A. 6212\"}, \"323592\": {\"frequency\": 1, \"value\": \"323592\"}, \"PC 17608\": {\"frequency\": 2, \"value\": \"PC 17608\"}, \"PC 17605\": {\"frequency\": 1, \"value\": \"PC 17605\"}, \"PC 17604\": {\"frequency\": 2, \"value\": \"PC 17604\"}, \"PC 17601\": {\"frequency\": 1, \"value\": \"PC 17601\"}, \"347054\": {\"frequency\": 2, \"value\": \"347054\"}, \"PC 17603\": {\"frequency\": 1, \"value\": \"PC 17603\"}, \"19972\": {\"frequency\": 1, \"value\": \"19972\"}, \"36209\": {\"frequency\": 1, \"value\": \"36209\"}, \"19877\": {\"frequency\": 2, \"value\": \"19877\"}, \"248747\": {\"frequency\": 1, \"value\": \"248747\"}, \"250652\": {\"frequency\": 1, \"value\": \"250652\"}, \"248740\": {\"frequency\": 1, \"value\": \"248740\"}, \"243880\": {\"frequency\": 1, \"value\": \"243880\"}, \"11769\": {\"frequency\": 1, \"value\": \"11769\"}, \"240929\": {\"frequency\": 1, \"value\": \"240929\"}, \"386525\": {\"frequency\": 1, \"value\": \"386525\"}, \"11767\": {\"frequency\": 2, \"value\": \"11767\"}, \"11765\": {\"frequency\": 1, \"value\": \"11765\"}, \"349228\": {\"frequency\": 1, \"value\": \"349228\"}, \"31418\": {\"frequency\": 1, \"value\": \"31418\"}, \"A4. 54510\": {\"frequency\": 1, \"value\": \"A4. 54510\"}, \"349221\": {\"frequency\": 1, \"value\": \"349221\"}, \"349222\": {\"frequency\": 1, \"value\": \"349222\"}, \"349223\": {\"frequency\": 1, \"value\": \"349223\"}, \"349224\": {\"frequency\": 1, \"value\": \"349224\"}, \"349225\": {\"frequency\": 1, \"value\": \"349225\"}, \"349227\": {\"frequency\": 1, \"value\": \"349227\"}, \"113028\": {\"frequency\": 1, \"value\": \"113028\"}, \"17421\": {\"frequency\": 4, \"value\": \"17421\"}, \"231945\": {\"frequency\": 1, \"value\": \"231945\"}, \"330919\": {\"frequency\": 1, \"value\": \"330919\"}, \"A/5 2817\": {\"frequency\": 1, \"value\": \"A/5 2817\"}, \"13567\": {\"frequency\": 1, \"value\": \"13567\"}, \"234604\": {\"frequency\": 1, \"value\": \"234604\"}, \"A/5. 3337\": {\"frequency\": 1, \"value\": \"A/5. 3337\"}, \"A/5. 3336\": {\"frequency\": 2, \"value\": \"A/5. 3336\"}, \"367655\": {\"frequency\": 1, \"value\": \"367655\"}, \"35273\": {\"frequency\": 3, \"value\": \"35273\"}, \"A/S 2816\": {\"frequency\": 1, \"value\": \"A/S 2816\"}, \"368703\": {\"frequency\": 1, \"value\": \"368703\"}, \"21440\": {\"frequency\": 1, \"value\": \"21440\"}, \"349909\": {\"frequency\": 4, \"value\": \"349909\"}, \"C.A. 29178\": {\"frequency\": 1, \"value\": \"C.A. 29178\"}, \"7267\": {\"frequency\": 1, \"value\": \"7267\"}, \"SC 1748\": {\"frequency\": 1, \"value\": \"SC 1748\"}, \"C.A. 34651\": {\"frequency\": 3, \"value\": \"C.A. 34651\"}, \"330980\": {\"frequency\": 1, \"value\": \"330980\"}, \"28665\": {\"frequency\": 1, \"value\": \"28665\"}, \"36928\": {\"frequency\": 2, \"value\": \"36928\"}, \"7553\": {\"frequency\": 1, \"value\": \"7553\"}, \"2685\": {\"frequency\": 1, \"value\": \"2685\"}, \"2686\": {\"frequency\": 1, \"value\": \"2686\"}, \"2687\": {\"frequency\": 1, \"value\": \"2687\"}, \"2680\": {\"frequency\": 1, \"value\": \"2680\"}, \"113776\": {\"frequency\": 2, \"value\": \"113776\"}, \"2683\": {\"frequency\": 1, \"value\": \"2683\"}, \"11755\": {\"frequency\": 1, \"value\": \"11755\"}, \"C 7077\": {\"frequency\": 1, \"value\": \"C 7077\"}, \"C 7076\": {\"frequency\": 1, \"value\": \"C 7076\"}, \"C 7075\": {\"frequency\": 1, \"value\": \"C 7075\"}, \"113796\": {\"frequency\": 1, \"value\": \"113796\"}, \"315098\": {\"frequency\": 1, \"value\": \"315098\"}, \"113792\": {\"frequency\": 1, \"value\": \"113792\"}, \"244367\": {\"frequency\": 2, \"value\": \"244367\"}, \"244361\": {\"frequency\": 1, \"value\": \"244361\"}, \"113798\": {\"frequency\": 2, \"value\": \"113798\"}, \"11752\": {\"frequency\": 1, \"value\": \"11752\"}, \"A.5. 11206\": {\"frequency\": 1, \"value\": \"A.5. 11206\"}, \"11751\": {\"frequency\": 2, \"value\": \"11751\"}, \"347470\": {\"frequency\": 1, \"value\": \"347470\"}, \"3460\": {\"frequency\": 1, \"value\": \"3460\"}, \"24160\": {\"frequency\": 3, \"value\": \"24160\"}, \"PC 17482\": {\"frequency\": 1, \"value\": \"PC 17482\"}, \"65303\": {\"frequency\": 1, \"value\": \"65303\"}, \"C.A./SOTON 34068\": {\"frequency\": 1, \"value\": \"C.A./SOTON 34068\"}, \"65306\": {\"frequency\": 1, \"value\": \"65306\"}, \"65304\": {\"frequency\": 1, \"value\": \"65304\"}, \"C.A. 31026\": {\"frequency\": 1, \"value\": \"C.A. 31026\"}, \"SOTON/O.Q. 3101312\": {\"frequency\": 1, \"value\": \"SOTON/O.Q. 3101312\"}, \"SOTON/O.Q. 3101311\": {\"frequency\": 1, \"value\": \"SOTON/O.Q. 3101311\"}, \"SOTON/O.Q. 3101310\": {\"frequency\": 1, \"value\": \"SOTON/O.Q. 3101310\"}, \"13509\": {\"frequency\": 1, \"value\": \"13509\"}, \"PC 17485\": {\"frequency\": 2, \"value\": \"PC 17485\"}, \"S.O./P.P. 751\": {\"frequency\": 1, \"value\": \"S.O./P.P. 751\"}, \"PC 17483\": {\"frequency\": 1, \"value\": \"PC 17483\"}, \"248706\": {\"frequency\": 1, \"value\": \"248706\"}, \"13502\": {\"frequency\": 3, \"value\": \"13502\"}, \"S.O.P. 1166\": {\"frequency\": 1, \"value\": \"S.O.P. 1166\"}, \"13507\": {\"frequency\": 2, \"value\": \"13507\"}, \"234818\": {\"frequency\": 1, \"value\": \"234818\"}, \"2671\": {\"frequency\": 1, \"value\": \"2671\"}, \"315094\": {\"frequency\": 1, \"value\": \"315094\"}, \"2223\": {\"frequency\": 1, \"value\": \"2223\"}, \"C.A. 37671\": {\"frequency\": 2, \"value\": \"C.A. 37671\"}, \"36866\": {\"frequency\": 1, \"value\": \"36866\"}, \"112050\": {\"frequency\": 1, \"value\": \"112050\"}, \"C 17369\": {\"frequency\": 1, \"value\": \"C 17369\"}, \"SOTON/O2 3101287\": {\"frequency\": 1, \"value\": \"SOTON/O2 3101287\"}, \"248698\": {\"frequency\": 1, \"value\": \"248698\"}, \"19988\": {\"frequency\": 1, \"value\": \"19988\"}, \"C.A. 29395\": {\"frequency\": 1, \"value\": \"C.A. 29395\"}, \"PC 17558\": {\"frequency\": 2, \"value\": \"PC 17558\"}, \"36865\": {\"frequency\": 1, \"value\": \"36865\"}, \"341826\": {\"frequency\": 1, \"value\": \"341826\"}, \"17466\": {\"frequency\": 1, \"value\": \"17466\"}, \"A/4. 20589\": {\"frequency\": 1, \"value\": \"A/4. 20589\"}, \"17464\": {\"frequency\": 1, \"value\": \"17464\"}, \"229236\": {\"frequency\": 1, \"value\": \"229236\"}, \"F.C.C. 13531\": {\"frequency\": 1, \"value\": \"F.C.C. 13531\"}, \"349203\": {\"frequency\": 1, \"value\": \"349203\"}, \"348123\": {\"frequency\": 1, \"value\": \"348123\"}, \"330958\": {\"frequency\": 1, \"value\": \"330958\"}, \"330959\": {\"frequency\": 1, \"value\": \"330959\"}, \"383121\": {\"frequency\": 1, \"value\": \"383121\"}, \"STON/O2. 3101290\": {\"frequency\": 1, \"value\": \"STON/O2. 3101290\"}, \"345572\": {\"frequency\": 1, \"value\": \"345572\"}, \"392096\": {\"frequency\": 2, \"value\": \"392096\"}, \"392092\": {\"frequency\": 1, \"value\": \"392092\"}, \"392091\": {\"frequency\": 1, \"value\": \"392091\"}, \"29103\": {\"frequency\": 1, \"value\": \"29103\"}, \"29105\": {\"frequency\": 1, \"value\": \"29105\"}, \"SC/Paris 2163\": {\"frequency\": 1, \"value\": \"SC/Paris 2163\"}, \"29106\": {\"frequency\": 3, \"value\": \"29106\"}, \"2659\": {\"frequency\": 2, \"value\": \"2659\"}, \"17764\": {\"frequency\": 1, \"value\": \"17764\"}, \"2653\": {\"frequency\": 2, \"value\": \"2653\"}, \"2651\": {\"frequency\": 2, \"value\": \"2651\"}, \"2650\": {\"frequency\": 1, \"value\": \"2650\"}, \"237671\": {\"frequency\": 1, \"value\": \"237671\"}, \"S.O.C. 14879\": {\"frequency\": 5, \"value\": \"S.O.C. 14879\"}, \"3411\": {\"frequency\": 1, \"value\": \"3411\"}, \"LINE\": {\"frequency\": 4, \"value\": \"LINE\"}, \"7598\": {\"frequency\": 1, \"value\": \"7598\"}, \"16966\": {\"frequency\": 2, \"value\": \"16966\"}, \"347087\": {\"frequency\": 1, \"value\": \"347087\"}, \"349246\": {\"frequency\": 1, \"value\": \"349246\"}, \"28213\": {\"frequency\": 1, \"value\": \"28213\"}, \"3101265\": {\"frequency\": 1, \"value\": \"3101265\"}, \"367232\": {\"frequency\": 1, \"value\": \"367232\"}, \"367231\": {\"frequency\": 1, \"value\": \"367231\"}, \"367230\": {\"frequency\": 2, \"value\": \"367230\"}, \"349912\": {\"frequency\": 1, \"value\": \"349912\"}, \"364500\": {\"frequency\": 1, \"value\": \"364500\"}, \"349245\": {\"frequency\": 1, \"value\": \"349245\"}, \"364506\": {\"frequency\": 1, \"value\": \"364506\"}, \"110465\": {\"frequency\": 2, \"value\": \"110465\"}, \"315153\": {\"frequency\": 1, \"value\": \"315153\"}, \"315151\": {\"frequency\": 1, \"value\": \"315151\"}, \"111426\": {\"frequency\": 1, \"value\": \"111426\"}, \"26360\": {\"frequency\": 2, \"value\": \"26360\"}, \"2926\": {\"frequency\": 1, \"value\": \"2926\"}, \"111428\": {\"frequency\": 1, \"value\": \"111428\"}, \"4138\": {\"frequency\": 1, \"value\": \"4138\"}, \"113786\": {\"frequency\": 1, \"value\": \"113786\"}, \"SOTON/O.Q. 392087\": {\"frequency\": 1, \"value\": \"SOTON/O.Q. 392087\"}, \"SOTON/OQ 3101317\": {\"frequency\": 1, \"value\": \"SOTON/OQ 3101317\"}, \"SOTON/OQ 3101316\": {\"frequency\": 1, \"value\": \"SOTON/OQ 3101316\"}, \"312993\": {\"frequency\": 1, \"value\": \"312993\"}, \"4133\": {\"frequency\": 4, \"value\": \"4133\"}, \"4134\": {\"frequency\": 1, \"value\": \"4134\"}, \"4135\": {\"frequency\": 1, \"value\": \"4135\"}, \"4136\": {\"frequency\": 1, \"value\": \"4136\"}, \"4137\": {\"frequency\": 1, \"value\": \"4137\"}, \"236852\": {\"frequency\": 1, \"value\": \"236852\"}, \"236853\": {\"frequency\": 1, \"value\": \"236853\"}, \"330877\": {\"frequency\": 1, \"value\": \"330877\"}, \"312991\": {\"frequency\": 1, \"value\": \"312991\"}, \"36973\": {\"frequency\": 2, \"value\": \"36973\"}, \"2908\": {\"frequency\": 2, \"value\": \"2908\"}, \"349218\": {\"frequency\": 1, \"value\": \"349218\"}, \"111369\": {\"frequency\": 1, \"value\": \"111369\"}, \"244252\": {\"frequency\": 2, \"value\": \"244252\"}, \"STON/O 2. 3101275\": {\"frequency\": 1, \"value\": \"STON/O 2. 3101275\"}, \"STON/O 2. 3101274\": {\"frequency\": 1, \"value\": \"STON/O 2. 3101274\"}, \"STON/O 2. 3101273\": {\"frequency\": 1, \"value\": \"STON/O 2. 3101273\"}, \"SC/AH 3085\": {\"frequency\": 1, \"value\": \"SC/AH 3085\"}, \"343120\": {\"frequency\": 1, \"value\": \"343120\"}, \"349231\": {\"frequency\": 1, \"value\": \"349231\"}, \"A./5. 2152\": {\"frequency\": 1, \"value\": \"A./5. 2152\"}, \"54636\": {\"frequency\": 2, \"value\": \"54636\"}, \"A/4 45380\": {\"frequency\": 1, \"value\": \"A/4 45380\"}, \"349233\": {\"frequency\": 1, \"value\": \"349233\"}, \"27267\": {\"frequency\": 1, \"value\": \"27267\"}, \"C 4001\": {\"frequency\": 1, \"value\": \"C 4001\"}, \"17463\": {\"frequency\": 1, \"value\": \"17463\"}, \"PP 4348\": {\"frequency\": 1, \"value\": \"PP 4348\"}, \"234686\": {\"frequency\": 1, \"value\": \"234686\"}, \"248738\": {\"frequency\": 2, \"value\": \"248738\"}, \"113055\": {\"frequency\": 1, \"value\": \"113055\"}, \"11753\": {\"frequency\": 1, \"value\": \"11753\"}, \"371110\": {\"frequency\": 3, \"value\": \"371110\"}, \"SO/C 14885\": {\"frequency\": 1, \"value\": \"SO/C 14885\"}, \"248733\": {\"frequency\": 1, \"value\": \"248733\"}, \"248731\": {\"frequency\": 1, \"value\": \"248731\"}, \"28551\": {\"frequency\": 1, \"value\": \"28551\"}, \"SC/Paris 2123\": {\"frequency\": 3, \"value\": \"SC/Paris 2123\"}, \"223596\": {\"frequency\": 1, \"value\": \"223596\"}, \"PC 17569\": {\"frequency\": 2, \"value\": \"PC 17569\"}, \"347743\": {\"frequency\": 1, \"value\": \"347743\"}, \"347742\": {\"frequency\": 3, \"value\": \"347742\"}, \"113051\": {\"frequency\": 1, \"value\": \"113051\"}, \"A/4 48871\": {\"frequency\": 2, \"value\": \"A/4 48871\"}, \"394140\": {\"frequency\": 1, \"value\": \"394140\"}, \"PC 17609\": {\"frequency\": 1, \"value\": \"PC 17609\"}, \"237736\": {\"frequency\": 2, \"value\": \"237736\"}, \"SC/PARIS 2131\": {\"frequency\": 1, \"value\": \"SC/PARIS 2131\"}, \"330909\": {\"frequency\": 1, \"value\": \"330909\"}, \"335097\": {\"frequency\": 1, \"value\": \"335097\"}, \"347064\": {\"frequency\": 1, \"value\": \"347064\"}, \"2648\": {\"frequency\": 1, \"value\": \"2648\"}, \"347067\": {\"frequency\": 1, \"value\": \"347067\"}, \"A/5. 13032\": {\"frequency\": 1, \"value\": \"A/5. 13032\"}, \"347061\": {\"frequency\": 1, \"value\": \"347061\"}, \"347062\": {\"frequency\": 1, \"value\": \"347062\"}, \"347063\": {\"frequency\": 1, \"value\": \"347063\"}, \"347060\": {\"frequency\": 1, \"value\": \"347060\"}, \"112379\": {\"frequency\": 1, \"value\": \"112379\"}, \"347068\": {\"frequency\": 1, \"value\": \"347068\"}, \"347069\": {\"frequency\": 1, \"value\": \"347069\"}, \"A.5. 18509\": {\"frequency\": 1, \"value\": \"A.5. 18509\"}, \"2623\": {\"frequency\": 1, \"value\": \"2623\"}, \"2620\": {\"frequency\": 1, \"value\": \"2620\"}, \"343275\": {\"frequency\": 1, \"value\": \"343275\"}, \"2627\": {\"frequency\": 2, \"value\": \"2627\"}, \"S.W./PP 752\": {\"frequency\": 1, \"value\": \"S.W./PP 752\"}, \"343276\": {\"frequency\": 1, \"value\": \"343276\"}, \"374746\": {\"frequency\": 1, \"value\": \"374746\"}, \"2628\": {\"frequency\": 1, \"value\": \"2628\"}, \"2629\": {\"frequency\": 1, \"value\": \"2629\"}, \"PC 17600\": {\"frequency\": 1, \"value\": \"PC 17600\"}, \"9234\": {\"frequency\": 1, \"value\": \"9234\"}, \"8471\": {\"frequency\": 1, \"value\": \"8471\"}, \"13213\": {\"frequency\": 1, \"value\": \"13213\"}, \"13214\": {\"frequency\": 1, \"value\": \"13214\"}, \"349237\": {\"frequency\": 2, \"value\": \"349237\"}, \"349236\": {\"frequency\": 1, \"value\": \"349236\"}, \"347085\": {\"frequency\": 1, \"value\": \"347085\"}, \"349234\": {\"frequency\": 1, \"value\": \"349234\"}, \"3101277\": {\"frequency\": 1, \"value\": \"3101277\"}, \"3101276\": {\"frequency\": 1, \"value\": \"3101276\"}, \"2699\": {\"frequency\": 2, \"value\": \"2699\"}, \"2697\": {\"frequency\": 1, \"value\": \"2697\"}, \"3101295\": {\"frequency\": 6, \"value\": \"3101295\"}, \"2695\": {\"frequency\": 1, \"value\": \"2695\"}, \"2694\": {\"frequency\": 1, \"value\": \"2694\"}, \"2693\": {\"frequency\": 1, \"value\": \"2693\"}, \"349239\": {\"frequency\": 1, \"value\": \"349239\"}, \"2690\": {\"frequency\": 1, \"value\": \"2690\"}, \"3101296\": {\"frequency\": 1, \"value\": \"3101296\"}, \"14973\": {\"frequency\": 1, \"value\": \"14973\"}, \"244358\": {\"frequency\": 1, \"value\": \"244358\"}, \"364498\": {\"frequency\": 1, \"value\": \"364498\"}, \"364851\": {\"frequency\": 1, \"value\": \"364851\"}, \"C.A. 2315\": {\"frequency\": 2, \"value\": \"C.A. 2315\"}, \"350036\": {\"frequency\": 1, \"value\": \"350036\"}, \"350035\": {\"frequency\": 1, \"value\": \"350035\"}, \"350034\": {\"frequency\": 1, \"value\": \"350034\"}, \"2626\": {\"frequency\": 1, \"value\": \"2626\"}, \"F.C.C. 13529\": {\"frequency\": 3, \"value\": \"F.C.C. 13529\"}, \"F.C.C. 13528\": {\"frequency\": 1, \"value\": \"F.C.C. 13528\"}, \"113804\": {\"frequency\": 1, \"value\": \"113804\"}, \"374910\": {\"frequency\": 1, \"value\": \"374910\"}, \"113806\": {\"frequency\": 2, \"value\": \"113806\"}, \"2624\": {\"frequency\": 1, \"value\": \"2624\"}, \"29108\": {\"frequency\": 1, \"value\": \"29108\"}, \"2625\": {\"frequency\": 1, \"value\": \"2625\"}, \"C.A. 34260\": {\"frequency\": 1, \"value\": \"C.A. 34260\"}, \"228414\": {\"frequency\": 1, \"value\": \"228414\"}, \"211536\": {\"frequency\": 1, \"value\": \"211536\"}, \"36947\": {\"frequency\": 2, \"value\": \"36947\"}, \"P/PP 3381\": {\"frequency\": 2, \"value\": \"P/PP 3381\"}, \"365222\": {\"frequency\": 1, \"value\": \"365222\"}, \"STON/O 2. 3101294\": {\"frequency\": 1, \"value\": \"STON/O 2. 3101294\"}, \"STON/O 2. 3101293\": {\"frequency\": 1, \"value\": \"STON/O 2. 3101293\"}, \"STON/O 2. 3101292\": {\"frequency\": 1, \"value\": \"STON/O 2. 3101292\"}, \"112053\": {\"frequency\": 1, \"value\": \"112053\"}, \"112052\": {\"frequency\": 1, \"value\": \"112052\"}, \"19928\": {\"frequency\": 2, \"value\": \"19928\"}, \"112059\": {\"frequency\": 1, \"value\": \"112059\"}, \"112058\": {\"frequency\": 1, \"value\": \"112058\"}, \"WE/P 5735\": {\"frequency\": 2, \"value\": \"WE/P 5735\"}, \"368323\": {\"frequency\": 1, \"value\": \"368323\"}, \"336439\": {\"frequency\": 1, \"value\": \"336439\"}, \"350046\": {\"frequency\": 1, \"value\": \"350046\"}, \"350047\": {\"frequency\": 1, \"value\": \"350047\"}, \"350042\": {\"frequency\": 1, \"value\": \"350042\"}, \"350043\": {\"frequency\": 1, \"value\": \"350043\"}, \"350048\": {\"frequency\": 1, \"value\": \"350048\"}, \"29104\": {\"frequency\": 1, \"value\": \"29104\"}, \"28403\": {\"frequency\": 2, \"value\": \"28403\"}, \"PP 9549\": {\"frequency\": 2, \"value\": \"PP 9549\"}, \"220367\": {\"frequency\": 1, \"value\": \"220367\"}, \"17474\": {\"frequency\": 2, \"value\": \"17474\"}, \"C.A. 33595\": {\"frequency\": 1, \"value\": \"C.A. 33595\"}, \"8475\": {\"frequency\": 1, \"value\": \"8475\"}, \"19950\": {\"frequency\": 4, \"value\": \"19950\"}, \"C.A. 31921\": {\"frequency\": 3, \"value\": \"C.A. 31921\"}, \"19952\": {\"frequency\": 1, \"value\": \"19952\"}, \"384461\": {\"frequency\": 1, \"value\": \"384461\"}, \"4579\": {\"frequency\": 1, \"value\": \"4579\"}, \"PC 17585\": {\"frequency\": 1, \"value\": \"PC 17585\"}, \"PC 17582\": {\"frequency\": 3, \"value\": \"PC 17582\"}, \"693\": {\"frequency\": 1, \"value\": \"693\"}, \"220845\": {\"frequency\": 2, \"value\": \"220845\"}, \"SCO/W 1585\": {\"frequency\": 1, \"value\": \"SCO/W 1585\"}, \"13568\": {\"frequency\": 1, \"value\": \"13568\"}, \"695\": {\"frequency\": 1, \"value\": \"695\"}, \"28425\": {\"frequency\": 1, \"value\": \"28425\"}, \"28424\": {\"frequency\": 1, \"value\": \"28424\"}, \"26707\": {\"frequency\": 1, \"value\": \"26707\"}, \"11668\": {\"frequency\": 2, \"value\": \"11668\"}, \"A./5. 3235\": {\"frequency\": 1, \"value\": \"A./5. 3235\"}, \"345364\": {\"frequency\": 1, \"value\": \"345364\"}, \"STON/O2. 3101283\": {\"frequency\": 1, \"value\": \"STON/O2. 3101283\"}, \"STON/O2. 3101282\": {\"frequency\": 1, \"value\": \"STON/O2. 3101282\"}, \"315093\": {\"frequency\": 1, \"value\": \"315093\"}, \"315090\": {\"frequency\": 1, \"value\": \"315090\"}, \"315096\": {\"frequency\": 1, \"value\": \"315096\"}, \"315097\": {\"frequency\": 1, \"value\": \"315097\"}, \"349208\": {\"frequency\": 1, \"value\": \"349208\"}, \"349209\": {\"frequency\": 1, \"value\": \"349209\"}, \"349206\": {\"frequency\": 1, \"value\": \"349206\"}, \"349207\": {\"frequency\": 1, \"value\": \"349207\"}, \"36864\": {\"frequency\": 1, \"value\": \"36864\"}, \"349205\": {\"frequency\": 1, \"value\": \"349205\"}, \"2700\": {\"frequency\": 1, \"value\": \"2700\"}, \"349201\": {\"frequency\": 1, \"value\": \"349201\"}, \"PC 17759\": {\"frequency\": 1, \"value\": \"PC 17759\"}, \"PC 17758\": {\"frequency\": 2, \"value\": \"PC 17758\"}, \"PC 17757\": {\"frequency\": 4, \"value\": \"PC 17757\"}, \"PC 17756\": {\"frequency\": 1, \"value\": \"PC 17756\"}, \"PC 17755\": {\"frequency\": 3, \"value\": \"PC 17755\"}, \"PC 17754\": {\"frequency\": 1, \"value\": \"PC 17754\"}, \"27042\": {\"frequency\": 1, \"value\": \"27042\"}, \"S.P. 3464\": {\"frequency\": 1, \"value\": \"S.P. 3464\"}, \"6563\": {\"frequency\": 1, \"value\": \"6563\"}, \"28228\": {\"frequency\": 1, \"value\": \"28228\"}, \"113509\": {\"frequency\": 1, \"value\": \"113509\"}, \"Fa 265302\": {\"frequency\": 1, \"value\": \"Fa 265302\"}, \"113059\": {\"frequency\": 1, \"value\": \"113059\"}, \"113056\": {\"frequency\": 1, \"value\": \"113056\"}, \"113505\": {\"frequency\": 2, \"value\": \"113505\"}, \"28220\": {\"frequency\": 1, \"value\": \"28220\"}, \"113501\": {\"frequency\": 1, \"value\": \"113501\"}, \"113050\": {\"frequency\": 1, \"value\": \"113050\"}, \"113503\": {\"frequency\": 1, \"value\": \"113503\"}, \"17465\": {\"frequency\": 1, \"value\": \"17465\"}, \"CA. 2314\": {\"frequency\": 1, \"value\": \"CA. 2314\"}, \"2666\": {\"frequency\": 4, \"value\": \"2666\"}, \"244310\": {\"frequency\": 1, \"value\": \"244310\"}, \"370376\": {\"frequency\": 1, \"value\": \"370376\"}, \"370377\": {\"frequency\": 1, \"value\": \"370377\"}, \"370375\": {\"frequency\": 1, \"value\": \"370375\"}, \"370372\": {\"frequency\": 1, \"value\": \"370372\"}, \"370373\": {\"frequency\": 1, \"value\": \"370373\"}, \"370370\": {\"frequency\": 1, \"value\": \"370370\"}, \"370371\": {\"frequency\": 1, \"value\": \"370371\"}, \"3101298\": {\"frequency\": 1, \"value\": \"3101298\"}, \"3474\": {\"frequency\": 1, \"value\": \"3474\"}, \"112277\": {\"frequency\": 1, \"value\": \"112277\"}, \"C.A. 18723\": {\"frequency\": 1, \"value\": \"C.A. 18723\"}, \"110152\": {\"frequency\": 3, \"value\": \"110152\"}, \"2667\": {\"frequency\": 1, \"value\": \"2667\"}, \"237798\": {\"frequency\": 1, \"value\": \"237798\"}, \"2665\": {\"frequency\": 2, \"value\": \"2665\"}, \"2662\": {\"frequency\": 1, \"value\": \"2662\"}, \"2663\": {\"frequency\": 1, \"value\": \"2663\"}, \"35851\": {\"frequency\": 1, \"value\": \"35851\"}, \"7534\": {\"frequency\": 2, \"value\": \"7534\"}, \"35281\": {\"frequency\": 2, \"value\": \"35281\"}, \"2668\": {\"frequency\": 2, \"value\": \"2668\"}, \"2669\": {\"frequency\": 1, \"value\": \"2669\"}, \"PC 17476\": {\"frequency\": 1, \"value\": \"PC 17476\"}, \"PC 17477\": {\"frequency\": 2, \"value\": \"PC 17477\"}, \"PC 17474\": {\"frequency\": 1, \"value\": \"PC 17474\"}, \"PC 17475\": {\"frequency\": 1, \"value\": \"PC 17475\"}, \"PC 17473\": {\"frequency\": 1, \"value\": \"PC 17473\"}, \"2664\": {\"frequency\": 1, \"value\": \"2664\"}, \"34218\": {\"frequency\": 1, \"value\": \"34218\"}, \"372622\": {\"frequency\": 1, \"value\": \"372622\"}, \"SC/AH 29037\": {\"frequency\": 1, \"value\": \"SC/AH 29037\"}, \"C.A. 2673\": {\"frequency\": 2, \"value\": \"C.A. 2673\"}, \"113572\": {\"frequency\": 2, \"value\": \"113572\"}, \"323951\": {\"frequency\": 1, \"value\": \"323951\"}, \"3101278\": {\"frequency\": 2, \"value\": \"3101278\"}, \"C.A. 24579\": {\"frequency\": 1, \"value\": \"C.A. 24579\"}, \"STON/O 2. 3101269\": {\"frequency\": 1, \"value\": \"STON/O 2. 3101269\"}, \"364516\": {\"frequency\": 2, \"value\": \"364516\"}, \"SC/PARIS 2146\": {\"frequency\": 1, \"value\": \"SC/PARIS 2146\"}, \"2691\": {\"frequency\": 2, \"value\": \"2691\"}, \"364511\": {\"frequency\": 1, \"value\": \"364511\"}, \"SC/PARIS 2167\": {\"frequency\": 1, \"value\": \"SC/PARIS 2167\"}, \"SC/PARIS 2149\": {\"frequency\": 1, \"value\": \"SC/PARIS 2149\"}, \"A/4. 39886\": {\"frequency\": 1, \"value\": \"A/4. 39886\"}, \"29011\": {\"frequency\": 1, \"value\": \"29011\"}, \"CA 2144\": {\"frequency\": 6, \"value\": \"CA 2144\"}, \"248723\": {\"frequency\": 1, \"value\": \"248723\"}, \"248727\": {\"frequency\": 3, \"value\": \"248727\"}, \"PC 17572\": {\"frequency\": 3, \"value\": \"PC 17572\"}, \"31028\": {\"frequency\": 1, \"value\": \"31028\"}, \"31027\": {\"frequency\": 2, \"value\": \"31027\"}, \"243847\": {\"frequency\": 2, \"value\": \"243847\"}, \"230136\": {\"frequency\": 2, \"value\": \"230136\"}, \"382651\": {\"frequency\": 1, \"value\": \"382651\"}, \"382652\": {\"frequency\": 5, \"value\": \"382652\"}, \"364499\": {\"frequency\": 1, \"value\": \"364499\"}, \"2661\": {\"frequency\": 2, \"value\": \"2661\"}, \"362316\": {\"frequency\": 1, \"value\": \"362316\"}, \"233866\": {\"frequency\": 1, \"value\": \"233866\"}, \"330931\": {\"frequency\": 1, \"value\": \"330931\"}, \"330932\": {\"frequency\": 1, \"value\": \"330932\"}, \"330935\": {\"frequency\": 1, \"value\": \"330935\"}, \"347073\": {\"frequency\": 1, \"value\": \"347073\"}, \"250651\": {\"frequency\": 1, \"value\": \"250651\"}, \"347071\": {\"frequency\": 1, \"value\": \"347071\"}, \"250653\": {\"frequency\": 1, \"value\": \"250653\"}, \"347077\": {\"frequency\": 4, \"value\": \"347077\"}, \"250655\": {\"frequency\": 2, \"value\": \"250655\"}, \"347074\": {\"frequency\": 1, \"value\": \"347074\"}, \"347078\": {\"frequency\": 1, \"value\": \"347078\"}, \"345778\": {\"frequency\": 1, \"value\": \"345778\"}, \"345779\": {\"frequency\": 1, \"value\": \"345779\"}, \"111320\": {\"frequency\": 1, \"value\": \"111320\"}, \"345773\": {\"frequency\": 3, \"value\": \"345773\"}, \"345770\": {\"frequency\": 1, \"value\": \"345770\"}, \"28134\": {\"frequency\": 1, \"value\": \"28134\"}, \"2631\": {\"frequency\": 1, \"value\": \"2631\"}, \"345777\": {\"frequency\": 1, \"value\": \"345777\"}, \"345774\": {\"frequency\": 1, \"value\": \"345774\"}, \"349204\": {\"frequency\": 1, \"value\": \"349204\"}, \"113800\": {\"frequency\": 1, \"value\": \"113800\"}, \"113803\": {\"frequency\": 2, \"value\": \"113803\"}, \"13049\": {\"frequency\": 1, \"value\": \"13049\"}, \"SW/PP 751\": {\"frequency\": 1, \"value\": \"SW/PP 751\"}, \"A/5. 2151\": {\"frequency\": 1, \"value\": \"A/5. 2151\"}, \"345783\": {\"frequency\": 1, \"value\": \"345783\"}, \"342826\": {\"frequency\": 1, \"value\": \"342826\"}, \"345781\": {\"frequency\": 1, \"value\": \"345781\"}, \"345780\": {\"frequency\": 1, \"value\": \"345780\"}, \"350406\": {\"frequency\": 1, \"value\": \"350406\"}, \"350407\": {\"frequency\": 1, \"value\": \"350407\"}, \"350404\": {\"frequency\": 1, \"value\": \"350404\"}, \"12460\": {\"frequency\": 1, \"value\": \"12460\"}, \"5727\": {\"frequency\": 1, \"value\": \"5727\"}, \"349242\": {\"frequency\": 1, \"value\": \"349242\"}, \"349243\": {\"frequency\": 1, \"value\": \"349243\"}, \"349240\": {\"frequency\": 1, \"value\": \"349240\"}, \"349241\": {\"frequency\": 1, \"value\": \"349241\"}, \"3101264\": {\"frequency\": 1, \"value\": \"3101264\"}, \"349247\": {\"frequency\": 1, \"value\": \"349247\"}, \"349244\": {\"frequency\": 1, \"value\": \"349244\"}, \"3101267\": {\"frequency\": 1, \"value\": \"3101267\"}, \"349248\": {\"frequency\": 1, \"value\": \"349248\"}, \"349249\": {\"frequency\": 1, \"value\": \"349249\"}, \"348124\": {\"frequency\": 1, \"value\": \"348124\"}, \"STON/O2. 3101271\": {\"frequency\": 1, \"value\": \"STON/O2. 3101271\"}, \"364512\": {\"frequency\": 1, \"value\": \"364512\"}, \"SOTON/OQ 392089\": {\"frequency\": 1, \"value\": \"SOTON/OQ 392089\"}, \"374887\": {\"frequency\": 1, \"value\": \"374887\"}, \"343095\": {\"frequency\": 1, \"value\": \"343095\"}, \"SOTON/O.Q. 392078\": {\"frequency\": 1, \"value\": \"SOTON/O.Q. 392078\"}, \"SOTON/OQ 392082\": {\"frequency\": 1, \"value\": \"SOTON/OQ 392082\"}, \"SOTON/OQ 392086\": {\"frequency\": 1, \"value\": \"SOTON/OQ 392086\"}, \"CA. 2343\": {\"frequency\": 7, \"value\": \"CA. 2343\"}, \"364846\": {\"frequency\": 1, \"value\": \"364846\"}, \"364849\": {\"frequency\": 2, \"value\": \"364849\"}, \"364848\": {\"frequency\": 1, \"value\": \"364848\"}, \"PC 17590\": {\"frequency\": 1, \"value\": \"PC 17590\"}, \"1601\": {\"frequency\": 7, \"value\": \"1601\"}, \"111427\": {\"frequency\": 1, \"value\": \"111427\"}, \"11967\": {\"frequency\": 2, \"value\": \"11967\"}, \"A/5 3594\": {\"frequency\": 1, \"value\": \"A/5 3594\"}, \"113807\": {\"frequency\": 1, \"value\": \"113807\"}, \"226875\": {\"frequency\": 1, \"value\": \"226875\"}, \"A/5. 851\": {\"frequency\": 1, \"value\": \"A/5. 851\"}, \"STON/O 2. 3101288\": {\"frequency\": 1, \"value\": \"STON/O 2. 3101288\"}, \"STON/O 2. 3101289\": {\"frequency\": 1, \"value\": \"STON/O 2. 3101289\"}, \"F.C. 12750\": {\"frequency\": 1, \"value\": \"F.C. 12750\"}, \"347076\": {\"frequency\": 1, \"value\": \"347076\"}, \"STON/O 2. 3101280\": {\"frequency\": 1, \"value\": \"STON/O 2. 3101280\"}, \"230080\": {\"frequency\": 3, \"value\": \"230080\"}, \"STON/O 2. 3101285\": {\"frequency\": 1, \"value\": \"STON/O 2. 3101285\"}, \"STON/O 2. 3101286\": {\"frequency\": 1, \"value\": \"STON/O 2. 3101286\"}, \"363294\": {\"frequency\": 1, \"value\": \"363294\"}, \"363291\": {\"frequency\": 3, \"value\": \"363291\"}, \"371362\": {\"frequency\": 1, \"value\": \"371362\"}, \"350050\": {\"frequency\": 1, \"value\": \"350050\"}, \"350052\": {\"frequency\": 1, \"value\": \"350052\"}, \"230434\": {\"frequency\": 1, \"value\": \"230434\"}, \"230433\": {\"frequency\": 2, \"value\": \"230433\"}, \"347088\": {\"frequency\": 6, \"value\": \"347088\"}, \"C.A. 17248\": {\"frequency\": 1, \"value\": \"C.A. 17248\"}, \"PC 17612\": {\"frequency\": 1, \"value\": \"PC 17612\"}, \"PC 17610\": {\"frequency\": 1, \"value\": \"PC 17610\"}, \"PC 17611\": {\"frequency\": 2, \"value\": \"PC 17611\"}, \"350025\": {\"frequency\": 1, \"value\": \"350025\"}, \"315084\": {\"frequency\": 1, \"value\": \"315084\"}, \"19947\": {\"frequency\": 1, \"value\": \"19947\"}, \"PC 17593\": {\"frequency\": 2, \"value\": \"PC 17593\"}, \"PC 17592\": {\"frequency\": 1, \"value\": \"PC 17592\"}, \"PC 17595\": {\"frequency\": 1, \"value\": \"PC 17595\"}, \"19943\": {\"frequency\": 2, \"value\": \"19943\"}, \"PC 17597\": {\"frequency\": 1, \"value\": \"PC 17597\"}, \"PC 17596\": {\"frequency\": 1, \"value\": \"PC 17596\"}, \"PC 17599\": {\"frequency\": 1, \"value\": \"PC 17599\"}, \"239856\": {\"frequency\": 1, \"value\": \"239856\"}, \"239855\": {\"frequency\": 1, \"value\": \"239855\"}, \"239854\": {\"frequency\": 1, \"value\": \"239854\"}, \"239853\": {\"frequency\": 3, \"value\": \"239853\"}, \"110813\": {\"frequency\": 1, \"value\": \"110813\"}, \"250643\": {\"frequency\": 1, \"value\": \"250643\"}, \"W./C. 14258\": {\"frequency\": 1, \"value\": \"W./C. 14258\"}, \"226593\": {\"frequency\": 1, \"value\": \"226593\"}, \"11771\": {\"frequency\": 1, \"value\": \"11771\"}, \"218629\": {\"frequency\": 1, \"value\": \"218629\"}, \"11774\": {\"frequency\": 1, \"value\": \"11774\"}, \"364850\": {\"frequency\": 1, \"value\": \"364850\"}, \"345769\": {\"frequency\": 1, \"value\": \"345769\"}, \"315082\": {\"frequency\": 1, \"value\": \"315082\"}, \"349219\": {\"frequency\": 1, \"value\": \"349219\"}, \"111240\": {\"frequency\": 1, \"value\": \"111240\"}, \"315086\": {\"frequency\": 1, \"value\": \"315086\"}, \"349215\": {\"frequency\": 1, \"value\": \"349215\"}, \"349214\": {\"frequency\": 1, \"value\": \"349214\"}, \"349217\": {\"frequency\": 1, \"value\": \"349217\"}, \"349216\": {\"frequency\": 1, \"value\": \"349216\"}, \"349210\": {\"frequency\": 1, \"value\": \"349210\"}, \"349213\": {\"frequency\": 1, \"value\": \"349213\"}, \"349212\": {\"frequency\": 1, \"value\": \"349212\"}, \"365226\": {\"frequency\": 1, \"value\": \"365226\"}, \"PC 17760\": {\"frequency\": 3, \"value\": \"PC 17760\"}, \"PC 17761\": {\"frequency\": 2, \"value\": \"PC 17761\"}, \"231919\": {\"frequency\": 2, \"value\": \"231919\"}, \"363592\": {\"frequency\": 1, \"value\": \"363592\"}, \"334912\": {\"frequency\": 1, \"value\": \"334912\"}, \"113510\": {\"frequency\": 1, \"value\": \"113510\"}, \"236171\": {\"frequency\": 1, \"value\": \"236171\"}, \"113043\": {\"frequency\": 1, \"value\": \"113043\"}, \"113514\": {\"frequency\": 1, \"value\": \"113514\"}, \"A/5 3540\": {\"frequency\": 1, \"value\": \"A/5 3540\"}, \"315088\": {\"frequency\": 1, \"value\": \"315088\"}, \"345765\": {\"frequency\": 1, \"value\": \"345765\"}, \"W.E.P. 5734\": {\"frequency\": 1, \"value\": \"W.E.P. 5734\"}, \"110564\": {\"frequency\": 1, \"value\": \"110564\"}, \"S.O./P.P. 3\": {\"frequency\": 2, \"value\": \"S.O./P.P. 3\"}, \"370365\": {\"frequency\": 2, \"value\": \"370365\"}, \"315037\": {\"frequency\": 1, \"value\": \"315037\"}, \"373450\": {\"frequency\": 1, \"value\": \"373450\"}, \"370369\": {\"frequency\": 1, \"value\": \"370369\"}, \"347089\": {\"frequency\": 1, \"value\": \"347089\"}, \"349910\": {\"frequency\": 1, \"value\": \"349910\"}, \"3101281\": {\"frequency\": 1, \"value\": \"3101281\"}, \"335677\": {\"frequency\": 1, \"value\": \"335677\"}, \"376564\": {\"frequency\": 2, \"value\": \"376564\"}, \"SOTON/OQ 392076\": {\"frequency\": 1, \"value\": \"SOTON/OQ 392076\"}, \"376566\": {\"frequency\": 1, \"value\": \"376566\"}, \"237789\": {\"frequency\": 1, \"value\": \"237789\"}, \"2672\": {\"frequency\": 1, \"value\": \"2672\"}, \"2674\": {\"frequency\": 1, \"value\": \"2674\"}, \"2677\": {\"frequency\": 1, \"value\": \"2677\"}, \"7540\": {\"frequency\": 1, \"value\": \"7540\"}, \"2678\": {\"frequency\": 2, \"value\": \"2678\"}, \"113767\": {\"frequency\": 1, \"value\": \"113767\"}, \"113760\": {\"frequency\": 4, \"value\": \"113760\"}, \"7545\": {\"frequency\": 1, \"value\": \"7545\"}, \"7546\": {\"frequency\": 1, \"value\": \"7546\"}, \"370129\": {\"frequency\": 2, \"value\": \"370129\"}, \"244270\": {\"frequency\": 1, \"value\": \"244270\"}, \"S.C./PARIS 2079\": {\"frequency\": 2, \"value\": \"S.C./PARIS 2079\"}, \"244278\": {\"frequency\": 1, \"value\": \"244278\"}, \"312992\": {\"frequency\": 1, \"value\": \"312992\"}, \"113787\": {\"frequency\": 1, \"value\": \"113787\"}, \"113784\": {\"frequency\": 1, \"value\": \"113784\"}, \"27849\": {\"frequency\": 1, \"value\": \"27849\"}, \"113783\": {\"frequency\": 1, \"value\": \"113783\"}, \"113781\": {\"frequency\": 4, \"value\": \"113781\"}, \"324669\": {\"frequency\": 1, \"value\": \"324669\"}, \"244373\": {\"frequency\": 1, \"value\": \"244373\"}, \"113788\": {\"frequency\": 1, \"value\": \"113788\"}, \"113789\": {\"frequency\": 2, \"value\": \"113789\"}, \"239865\": {\"frequency\": 2, \"value\": \"239865\"}, \"347468\": {\"frequency\": 1, \"value\": \"347468\"}, \"315089\": {\"frequency\": 1, \"value\": \"315089\"}, \"SC/PARIS 2133\": {\"frequency\": 1, \"value\": \"SC/PARIS 2133\"}, \"11813\": {\"frequency\": 1, \"value\": \"11813\"}, \"347464\": {\"frequency\": 1, \"value\": \"347464\"}, \"347466\": {\"frequency\": 1, \"value\": \"347466\"}, \"2689\": {\"frequency\": 1, \"value\": \"2689\"}, \"233639\": {\"frequency\": 1, \"value\": \"233639\"}, \"111361\": {\"frequency\": 2, \"value\": \"111361\"}, \"12233\": {\"frequency\": 1, \"value\": \"12233\"}, \"28664\": {\"frequency\": 1, \"value\": \"28664\"}, \"SOTON/O.Q. 3101305\": {\"frequency\": 1, \"value\": \"SOTON/O.Q. 3101305\"}, \"SOTON/O.Q. 3101306\": {\"frequency\": 1, \"value\": \"SOTON/O.Q. 3101306\"}, \"SOTON/O.Q. 3101307\": {\"frequency\": 1, \"value\": \"SOTON/O.Q. 3101307\"}, \"113773\": {\"frequency\": 1, \"value\": \"113773\"}, \"7552\": {\"frequency\": 1, \"value\": \"7552\"}, \"358585\": {\"frequency\": 2, \"value\": \"358585\"}, \"14311\": {\"frequency\": 1, \"value\": \"14311\"}, \"14312\": {\"frequency\": 1, \"value\": \"14312\"}, \"14313\": {\"frequency\": 1, \"value\": \"14313\"}, \"12749\": {\"frequency\": 2, \"value\": \"12749\"}, \"36568\": {\"frequency\": 1, \"value\": \"36568\"}, \"237442\": {\"frequency\": 1, \"value\": \"237442\"}, \"19996\": {\"frequency\": 2, \"value\": \"19996\"}, \"W/C 14208\": {\"frequency\": 1, \"value\": \"W/C 14208\"}, \"17453\": {\"frequency\": 2, \"value\": \"17453\"}, \"A/5 2466\": {\"frequency\": 1, \"value\": \"A/5 2466\"}, \"382649\": {\"frequency\": 1, \"value\": \"382649\"}, \"C.A. 5547\": {\"frequency\": 1, \"value\": \"C.A. 5547\"}, \"16988\": {\"frequency\": 1, \"value\": \"16988\"}, \"330923\": {\"frequency\": 1, \"value\": \"330923\"}, \"PC 17318\": {\"frequency\": 1, \"value\": \"PC 17318\"}, \"W./C. 14263\": {\"frequency\": 1, \"value\": \"W./C. 14263\"}, \"SC/AH Basle 541\": {\"frequency\": 1, \"value\": \"SC/AH Basle 541\"}, \"250649\": {\"frequency\": 2, \"value\": \"250649\"}, \"250648\": {\"frequency\": 1, \"value\": \"250648\"}, \"250647\": {\"frequency\": 2, \"value\": \"250647\"}, \"250646\": {\"frequency\": 1, \"value\": \"250646\"}, \"250644\": {\"frequency\": 2, \"value\": \"250644\"}, \"347082\": {\"frequency\": 7, \"value\": \"347082\"}, \"347083\": {\"frequency\": 1, \"value\": \"347083\"}, \"347080\": {\"frequency\": 2, \"value\": \"347080\"}, \"347081\": {\"frequency\": 1, \"value\": \"347081\"}, \"A/5. 10482\": {\"frequency\": 1, \"value\": \"A/5. 10482\"}, \"2649\": {\"frequency\": 1, \"value\": \"2649\"}, \"234360\": {\"frequency\": 1, \"value\": \"234360\"}, \"36963\": {\"frequency\": 1, \"value\": \"36963\"}, \"2641\": {\"frequency\": 1, \"value\": \"2641\"}, \"345763\": {\"frequency\": 1, \"value\": \"345763\"}, \"349256\": {\"frequency\": 1, \"value\": \"349256\"}, \"36967\": {\"frequency\": 1, \"value\": \"36967\"}, \"345764\": {\"frequency\": 2, \"value\": \"345764\"}, \"345767\": {\"frequency\": 1, \"value\": \"345767\"}, \"2647\": {\"frequency\": 1, \"value\": \"2647\"}, \"237668\": {\"frequency\": 1, \"value\": \"237668\"}, \"113794\": {\"frequency\": 1, \"value\": \"113794\"}, \"35852\": {\"frequency\": 1, \"value\": \"35852\"}, \"350417\": {\"frequency\": 1, \"value\": \"350417\"}, \"350026\": {\"frequency\": 1, \"value\": \"350026\"}, \"349251\": {\"frequency\": 1, \"value\": \"349251\"}, \"2003\": {\"frequency\": 1, \"value\": \"2003\"}, \"349253\": {\"frequency\": 1, \"value\": \"349253\"}, \"349252\": {\"frequency\": 1, \"value\": \"349252\"}, \"S.C./A.4. 23567\": {\"frequency\": 1, \"value\": \"S.C./A.4. 23567\"}, \"349254\": {\"frequency\": 1, \"value\": \"349254\"}, \"349257\": {\"frequency\": 1, \"value\": \"349257\"}, \"371060\": {\"frequency\": 1, \"value\": \"371060\"}, \"28206\": {\"frequency\": 1, \"value\": \"28206\"}}, \"size\": 891}, \"Cabin\": {\"complete\": true, \"numeric\": false, \"num_unique\": 148, \"num_undefined\": 0, \"progress\": 1.0, \"frequent_items\": {\"\": {\"frequency\": 687, \"value\": \"\"}, \"E36\": {\"frequency\": 1, \"value\": \"E36\"}, \"D17\": {\"frequency\": 2, \"value\": \"D17\"}, \"D50\": {\"frequency\": 1, \"value\": \"D50\"}, \"E77\": {\"frequency\": 1, \"value\": \"E77\"}, \"C30\": {\"frequency\": 1, \"value\": \"C30\"}, \"D56\": {\"frequency\": 1, \"value\": \"D56\"}, \"C32\": {\"frequency\": 1, \"value\": \"C32\"}, \"G6\": {\"frequency\": 4, \"value\": \"G6\"}, \"B50\": {\"frequency\": 1, \"value\": \"B50\"}, \"C62 C64\": {\"frequency\": 1, \"value\": \"C62 C64\"}, \"D\": {\"frequency\": 3, \"value\": \"D\"}, \"B102\": {\"frequency\": 1, \"value\": \"B102\"}, \"B101\": {\"frequency\": 1, \"value\": \"B101\"}, \"E68\": {\"frequency\": 1, \"value\": \"E68\"}, \"F33\": {\"frequency\": 3, \"value\": \"F33\"}, \"T\": {\"frequency\": 1, \"value\": \"T\"}, \"F38\": {\"frequency\": 1, \"value\": \"F38\"}, \"A24\": {\"frequency\": 1, \"value\": \"A24\"}, \"E63\": {\"frequency\": 1, \"value\": \"E63\"}, \"E67\": {\"frequency\": 2, \"value\": \"E67\"}, \"B28\": {\"frequency\": 2, \"value\": \"B28\"}, \"B22\": {\"frequency\": 2, \"value\": \"B22\"}, \"B20\": {\"frequency\": 2, \"value\": \"B20\"}, \"B4\": {\"frequency\": 1, \"value\": \"B4\"}, \"B5\": {\"frequency\": 2, \"value\": \"B5\"}, \"B58 B60\": {\"frequency\": 2, \"value\": \"B58 B60\"}, \"B3\": {\"frequency\": 1, \"value\": \"B3\"}, \"F G73\": {\"frequency\": 2, \"value\": \"F G73\"}, \"C54\": {\"frequency\": 1, \"value\": \"C54\"}, \"C52\": {\"frequency\": 2, \"value\": \"C52\"}, \"C50\": {\"frequency\": 1, \"value\": \"C50\"}, \"C46\": {\"frequency\": 1, \"value\": \"C46\"}, \"F E69\": {\"frequency\": 1, \"value\": \"F E69\"}, \"E58\": {\"frequency\": 1, \"value\": \"E58\"}, \"E50\": {\"frequency\": 1, \"value\": \"E50\"}, \"A14\": {\"frequency\": 1, \"value\": \"A14\"}, \"B38\": {\"frequency\": 1, \"value\": \"B38\"}, \"B39\": {\"frequency\": 1, \"value\": \"B39\"}, \"B35\": {\"frequency\": 2, \"value\": \"B35\"}, \"B37\": {\"frequency\": 1, \"value\": \"B37\"}, \"B30\": {\"frequency\": 1, \"value\": \"B30\"}, \"E121\": {\"frequency\": 2, \"value\": \"E121\"}, \"E25\": {\"frequency\": 2, \"value\": \"E25\"}, \"E8\": {\"frequency\": 2, \"value\": \"E8\"}, \"F G63\": {\"frequency\": 1, \"value\": \"F G63\"}, \"C45\": {\"frequency\": 1, \"value\": \"C45\"}, \"E40\": {\"frequency\": 1, \"value\": \"E40\"}, \"C47\": {\"frequency\": 1, \"value\": \"C47\"}, \"E46\": {\"frequency\": 1, \"value\": \"E46\"}, \"E44\": {\"frequency\": 2, \"value\": \"E44\"}, \"B80\": {\"frequency\": 1, \"value\": \"B80\"}, \"E49\": {\"frequency\": 1, \"value\": \"E49\"}, \"C49\": {\"frequency\": 1, \"value\": \"C49\"}, \"B86\": {\"frequency\": 1, \"value\": \"B86\"}, \"B82 B84\": {\"frequency\": 1, \"value\": \"B82 B84\"}, \"C23 C25 C27\": {\"frequency\": 4, \"value\": \"C23 C25 C27\"}, \"D48\": {\"frequency\": 1, \"value\": \"D48\"}, \"C104\": {\"frequency\": 1, \"value\": \"C104\"}, \"C106\": {\"frequency\": 1, \"value\": \"C106\"}, \"C78\": {\"frequency\": 2, \"value\": \"C78\"}, \"C101\": {\"frequency\": 1, \"value\": \"C101\"}, \"C103\": {\"frequency\": 1, \"value\": \"C103\"}, \"D15\": {\"frequency\": 1, \"value\": \"D15\"}, \"E34\": {\"frequency\": 1, \"value\": \"E34\"}, \"E33\": {\"frequency\": 2, \"value\": \"E33\"}, \"D11\": {\"frequency\": 1, \"value\": \"D11\"}, \"E31\": {\"frequency\": 1, \"value\": \"E31\"}, \"C70\": {\"frequency\": 1, \"value\": \"C70\"}, \"B94\": {\"frequency\": 1, \"value\": \"B94\"}, \"D19\": {\"frequency\": 1, \"value\": \"D19\"}, \"E38\": {\"frequency\": 1, \"value\": \"E38\"}, \"B18\": {\"frequency\": 2, \"value\": \"B18\"}, \"B19\": {\"frequency\": 1, \"value\": \"B19\"}, \"D37\": {\"frequency\": 1, \"value\": \"D37\"}, \"A32\": {\"frequency\": 1, \"value\": \"A32\"}, \"A31\": {\"frequency\": 1, \"value\": \"A31\"}, \"A36\": {\"frequency\": 1, \"value\": \"A36\"}, \"A34\": {\"frequency\": 1, \"value\": \"A34\"}, \"E101\": {\"frequency\": 3, \"value\": \"E101\"}, \"C118\": {\"frequency\": 1, \"value\": \"C118\"}, \"C2\": {\"frequency\": 2, \"value\": \"C2\"}, \"C7\": {\"frequency\": 1, \"value\": \"C7\"}, \"C111\": {\"frequency\": 1, \"value\": \"C111\"}, \"C110\": {\"frequency\": 1, \"value\": \"C110\"}, \"E24\": {\"frequency\": 2, \"value\": \"E24\"}, \"B51 B53 B55\": {\"frequency\": 2, \"value\": \"B51 B53 B55\"}, \"E12\": {\"frequency\": 1, \"value\": \"E12\"}, \"B57 B59 B63 B66\": {\"frequency\": 2, \"value\": \"B57 B59 B63 B66\"}, \"C68\": {\"frequency\": 2, \"value\": \"C68\"}, \"D21\": {\"frequency\": 1, \"value\": \"D21\"}, \"D20\": {\"frequency\": 2, \"value\": \"D20\"}, \"C65\": {\"frequency\": 2, \"value\": \"C65\"}, \"D26\": {\"frequency\": 2, \"value\": \"D26\"}, \"E17\": {\"frequency\": 1, \"value\": \"E17\"}, \"A20\": {\"frequency\": 1, \"value\": \"A20\"}, \"F2\": {\"frequency\": 3, \"value\": \"F2\"}, \"A23\": {\"frequency\": 1, \"value\": \"A23\"}, \"F4\": {\"frequency\": 2, \"value\": \"F4\"}, \"A26\": {\"frequency\": 1, \"value\": \"A26\"}, \"B69\": {\"frequency\": 1, \"value\": \"B69\"}, \"B42\": {\"frequency\": 1, \"value\": \"B42\"}, \"C128\": {\"frequency\": 1, \"value\": \"C128\"}, \"C123\": {\"frequency\": 2, \"value\": \"C123\"}, \"C126\": {\"frequency\": 2, \"value\": \"C126\"}, \"C124\": {\"frequency\": 2, \"value\": \"C124\"}, \"C125\": {\"frequency\": 2, \"value\": \"C125\"}, \"D28\": {\"frequency\": 1, \"value\": \"D28\"}, \"D36\": {\"frequency\": 2, \"value\": \"D36\"}, \"E10\": {\"frequency\": 1, \"value\": \"E10\"}, \"D35\": {\"frequency\": 2, \"value\": \"D35\"}, \"D33\": {\"frequency\": 2, \"value\": \"D33\"}, \"D30\": {\"frequency\": 1, \"value\": \"D30\"}, \"B96 B98\": {\"frequency\": 4, \"value\": \"B96 B98\"}, \"D10 D12\": {\"frequency\": 1, \"value\": \"D10 D12\"}, \"C93\": {\"frequency\": 2, \"value\": \"C93\"}, \"C92\": {\"frequency\": 2, \"value\": \"C92\"}, \"C91\": {\"frequency\": 1, \"value\": \"C91\"}, \"A16\": {\"frequency\": 1, \"value\": \"A16\"}, \"A10\": {\"frequency\": 1, \"value\": \"A10\"}, \"C95\": {\"frequency\": 1, \"value\": \"C95\"}, \"B77\": {\"frequency\": 2, \"value\": \"B77\"}, \"B78\": {\"frequency\": 1, \"value\": \"B78\"}, \"B79\": {\"frequency\": 1, \"value\": \"B79\"}, \"C99\": {\"frequency\": 1, \"value\": \"C99\"}, \"A19\": {\"frequency\": 1, \"value\": \"A19\"}, \"C90\": {\"frequency\": 1, \"value\": \"C90\"}, \"A5\": {\"frequency\": 1, \"value\": \"A5\"}, \"A7\": {\"frequency\": 1, \"value\": \"A7\"}, \"A6\": {\"frequency\": 1, \"value\": \"A6\"}, \"C22 C26\": {\"frequency\": 3, \"value\": \"C22 C26\"}, \"B71\": {\"frequency\": 1, \"value\": \"B71\"}, \"D49\": {\"frequency\": 1, \"value\": \"D49\"}, \"B73\": {\"frequency\": 1, \"value\": \"B73\"}, \"D47\": {\"frequency\": 1, \"value\": \"D47\"}, \"D46\": {\"frequency\": 1, \"value\": \"D46\"}, \"D45\": {\"frequency\": 1, \"value\": \"D45\"}, \"C82\": {\"frequency\": 1, \"value\": \"C82\"}, \"C83\": {\"frequency\": 2, \"value\": \"C83\"}, \"B41\": {\"frequency\": 1, \"value\": \"B41\"}, \"C85\": {\"frequency\": 1, \"value\": \"C85\"}, \"C86\": {\"frequency\": 1, \"value\": \"C86\"}, \"C87\": {\"frequency\": 1, \"value\": \"C87\"}, \"C148\": {\"frequency\": 1, \"value\": \"C148\"}, \"B49\": {\"frequency\": 2, \"value\": \"B49\"}, \"D9\": {\"frequency\": 1, \"value\": \"D9\"}, \"D6\": {\"frequency\": 1, \"value\": \"D6\"}, \"D7\": {\"frequency\": 1, \"value\": \"D7\"}}, \"size\": 891}}, \"selected_variable\": {\"name\": [\"full_train_data\"], \"descriptives\": {\"rows\": 891, \"columns\": 12}, \"view_component\": \"Summary\", \"view_file\": \"sframe\", \"view_params\": {\"y\": null, \"x\": null, \"columns\": [\"PassengerId\", \"Survived\", \"Pclass\", \"Name\", \"Sex\", \"Age\", \"SibSp\", \"Parch\", \"Ticket\", \"Fare\", \"Cabin\", \"Embarked\"], \"view\": null}, \"view_components\": [\"Summary\", \"Table\", \"Bar Chart\", \"BoxWhisker Plot\", \"Line Chart\", \"Scatter Plot\", \"Heat Map\", \"Plots\"], \"type\": \"SFrame\", \"columns\": [{\"dtype\": \"int\", \"name\": \"PassengerId\"}, {\"dtype\": \"int\", \"name\": \"Survived\"}, {\"dtype\": \"int\", \"name\": \"Pclass\"}, {\"dtype\": \"str\", \"name\": \"Name\"}, {\"dtype\": \"str\", \"name\": \"Sex\"}, {\"dtype\": \"float\", \"name\": \"Age\"}, {\"dtype\": \"int\", \"name\": \"SibSp\"}, {\"dtype\": \"int\", \"name\": \"Parch\"}, {\"dtype\": \"str\", \"name\": \"Ticket\"}, {\"dtype\": \"float\", \"name\": \"Fare\"}, {\"dtype\": \"str\", \"name\": \"Cabin\"}, {\"dtype\": \"str\", \"name\": \"Embarked\"}], \"column_identifiers\": [\"Fare\", \"Name\", \"Embarked\", \"Age\", \"Parch\", \"Pclass\", \"Sex\", \"Survived\", \"SibSp\", \"PassengerId\", \"Ticket\", \"Cabin\"]}, \"columns\": [{\"dtype\": \"int\", \"name\": \"PassengerId\"}, {\"dtype\": \"int\", \"name\": \"Survived\"}, {\"dtype\": \"int\", \"name\": \"Pclass\"}, {\"dtype\": \"str\", \"name\": \"Name\"}, {\"dtype\": \"str\", \"name\": \"Sex\"}, {\"dtype\": \"float\", \"name\": \"Age\"}, {\"dtype\": \"int\", \"name\": \"SibSp\"}, {\"dtype\": \"int\", \"name\": \"Parch\"}, {\"dtype\": \"str\", \"name\": \"Ticket\"}, {\"dtype\": \"float\", \"name\": \"Fare\"}, {\"dtype\": \"str\", \"name\": \"Cabin\"}, {\"dtype\": \"str\", \"name\": \"Embarked\"}]}, e);\n",
       "                });\n",
       "            })();\n",
       "        "
      ]
     },
     "metadata": {},
     "output_type": "display_data"
    }
   ],
   "source": [
    "full_train_data.show()"
   ]
  },
  {
   "cell_type": "markdown",
   "metadata": {},
   "source": [
    "shape 메소드로 학습데이터의 전체 길이와 컬럼 개수를 확인합시다."
   ]
  },
  {
   "cell_type": "code",
   "execution_count": 9,
   "metadata": {},
   "outputs": [
    {
     "data": {
      "text/plain": [
       "(891, 12)"
      ]
     },
     "execution_count": 9,
     "metadata": {},
     "output_type": "execute_result"
    }
   ],
   "source": [
    "full_train_data.shape"
   ]
  },
  {
   "cell_type": "markdown",
   "metadata": {},
   "source": [
    "총 891명, PassengerId와 Survived 제외하면 총 10개의 컬럼 존재\n",
    "\n",
    "Pclass \tName \tSex \tAge \tSibSp \tParch \tTicket \tFare \tCabin \tEmbarked\n",
    "\n",
    "- Cabin은 비어 있는 데이터가 많음\n",
    "- Ticket 값은 알 수 없는 값이 많음"
   ]
  },
  {
   "cell_type": "markdown",
   "metadata": {},
   "source": [
    "## 성별만으로 예측하기\n",
    "\n",
    "\n",
    "### 성별 데이터 살펴보기\n",
    "\n",
    "#### 데이터 전처리\n",
    "- 비어 있는 값 (없는 값)이 있는지 확인하기. 있다면 값 채우기\n",
    "- 생존율과의 상관관계 확인하기\n",
    "\n",
    "\n",
    "먼저 성별의 분포를 알아 봅시다."
   ]
  },
  {
   "cell_type": "code",
   "execution_count": 10,
   "metadata": {},
   "outputs": [
    {
     "data": {
      "application/javascript": [
       "$(\"head\").append($(\"<link/>\").attr({\n",
       "  rel:  \"stylesheet\",\n",
       "  type: \"text/css\",\n",
       "  href: \"//cdnjs.cloudflare.com/ajax/libs/font-awesome/4.1.0/css/font-awesome.min.css\"\n",
       "}));\n",
       "$(\"head\").append($(\"<link/>\").attr({\n",
       "  rel:  \"stylesheet\",\n",
       "  type: \"text/css\",\n",
       "  href: \"https://static.turi.com/products/graphlab-create/2.1/canvas/css/canvas.css\"\n",
       "}));\n",
       "\n",
       "            (function(){\n",
       "\n",
       "                var e = null;\n",
       "                if (typeof element == 'undefined') {\n",
       "                    var scripts = document.getElementsByTagName('script');\n",
       "                    var thisScriptTag = scripts[scripts.length-1];\n",
       "                    var parentDiv = thisScriptTag.parentNode;\n",
       "                    e = document.createElement('div');\n",
       "                    parentDiv.appendChild(e);\n",
       "                } else {\n",
       "                    e = element[0];\n",
       "                }\n",
       "\n",
       "                if (typeof requirejs !== 'undefined') {\n",
       "                    // disable load timeout; ipython_app.js is large and can take a while to load.\n",
       "                    requirejs.config({waitSeconds: 0});\n",
       "                }\n",
       "\n",
       "                require(['https://static.turi.com/products/graphlab-create/2.1/canvas/js/ipython_app.js'], function(IPythonApp){\n",
       "                    var app = new IPythonApp();\n",
       "                    app.attachView('sarray','Categorical', {\"ipython\": true, \"sketch\": {\"complete\": true, \"numeric\": false, \"num_unique\": 2, \"num_undefined\": 0, \"progress\": 1.0, \"frequent_items\": {\"male\": {\"frequency\": 577, \"value\": \"male\"}, \"female\": {\"frequency\": 314, \"value\": \"female\"}}, \"size\": 891}, \"selected_variable\": {\"name\": [\"<SArray>\"], \"dtype\": \"str\", \"view_component\": \"Categorical\", \"view_file\": \"sarray\", \"descriptives\": {\"rows\": 891}, \"type\": \"SArray\", \"view_components\": [\"Categorical\"]}, \"histogram\": null}, e);\n",
       "                });\n",
       "            })();\n",
       "        "
      ]
     },
     "metadata": {},
     "output_type": "display_data"
    }
   ],
   "source": [
    "full_train_data['Sex'].show(view='Categorical')"
   ]
  },
  {
   "cell_type": "markdown",
   "metadata": {},
   "source": [
    "다행히 비어 있는 값이 없군요.\n",
    "\n",
    "생존율의 분포도 확인해 봅시다."
   ]
  },
  {
   "cell_type": "code",
   "execution_count": 11,
   "metadata": {},
   "outputs": [
    {
     "data": {
      "application/javascript": [
       "$(\"head\").append($(\"<link/>\").attr({\n",
       "  rel:  \"stylesheet\",\n",
       "  type: \"text/css\",\n",
       "  href: \"//cdnjs.cloudflare.com/ajax/libs/font-awesome/4.1.0/css/font-awesome.min.css\"\n",
       "}));\n",
       "$(\"head\").append($(\"<link/>\").attr({\n",
       "  rel:  \"stylesheet\",\n",
       "  type: \"text/css\",\n",
       "  href: \"https://static.turi.com/products/graphlab-create/2.1/canvas/css/canvas.css\"\n",
       "}));\n",
       "\n",
       "            (function(){\n",
       "\n",
       "                var e = null;\n",
       "                if (typeof element == 'undefined') {\n",
       "                    var scripts = document.getElementsByTagName('script');\n",
       "                    var thisScriptTag = scripts[scripts.length-1];\n",
       "                    var parentDiv = thisScriptTag.parentNode;\n",
       "                    e = document.createElement('div');\n",
       "                    parentDiv.appendChild(e);\n",
       "                } else {\n",
       "                    e = element[0];\n",
       "                }\n",
       "\n",
       "                if (typeof requirejs !== 'undefined') {\n",
       "                    // disable load timeout; ipython_app.js is large and can take a while to load.\n",
       "                    requirejs.config({waitSeconds: 0});\n",
       "                }\n",
       "\n",
       "                require(['https://static.turi.com/products/graphlab-create/2.1/canvas/js/ipython_app.js'], function(IPythonApp){\n",
       "                    var app = new IPythonApp();\n",
       "                    app.attachView('sarray','Categorical', {\"ipython\": true, \"sketch\": {\"std\": 0.48631931786709987, \"complete\": true, \"min\": 0.0, \"max\": 1.0, \"quantile\": [0.0, 0.0, 0.0, 0.0, 0.0, 0.0, 0.0, 0.0, 0.0, 0.0, 0.0, 0.0, 0.0, 0.0, 0.0, 0.0, 0.0, 0.0, 0.0, 0.0, 0.0, 0.0, 0.0, 0.0, 0.0, 0.0, 0.0, 0.0, 0.0, 0.0, 0.0, 0.0, 0.0, 0.0, 0.0, 0.0, 0.0, 0.0, 0.0, 0.0, 0.0, 0.0, 0.0, 0.0, 0.0, 0.0, 0.0, 0.0, 0.0, 0.0, 0.0, 0.0, 0.0, 0.0, 0.0, 0.0, 0.0, 0.0, 0.0, 0.0, 0.0, 0.0, 1.0, 1.0, 1.0, 1.0, 1.0, 1.0, 1.0, 1.0, 1.0, 1.0, 1.0, 1.0, 1.0, 1.0, 1.0, 1.0, 1.0, 1.0, 1.0, 1.0, 1.0, 1.0, 1.0, 1.0, 1.0, 1.0, 1.0, 1.0, 1.0, 1.0, 1.0, 1.0, 1.0, 1.0, 1.0, 1.0, 1.0, 1.0, 1.0], \"median\": 0.0, \"numeric\": true, \"num_unique\": 2, \"num_undefined\": 0, \"var\": 0.23650647893072133, \"progress\": 1.0, \"size\": 891, \"frequent_items\": {\"0\": {\"frequency\": 549, \"value\": 0}, \"1\": {\"frequency\": 342, \"value\": 1}}, \"mean\": 0.3838383838383839}, \"selected_variable\": {\"name\": [\"<SArray>\"], \"dtype\": \"int\", \"view_component\": \"Categorical\", \"view_file\": \"sarray\", \"descriptives\": {\"rows\": 891}, \"type\": \"SArray\", \"view_components\": [\"Numeric\", \"Categorical\"]}, \"histogram\": {\"progress\": 1.0, \"histogram\": {\"max\": 1.0, \"bins\": [549, 0, 0, 0, 0, 0, 0, 0, 0, 0, 0, 342], \"min\": 0.0}, \"min\": 0, \"complete\": 1, \"max\": 1}}, e);\n",
       "                });\n",
       "            })();\n",
       "        "
      ]
     },
     "metadata": {},
     "output_type": "display_data"
    }
   ],
   "source": [
    "full_train_data['Survived'].show(view='Categorical')"
   ]
  },
  {
   "cell_type": "markdown",
   "metadata": {},
   "source": [
    "성별과 생존율의 상관 관계를 확인해 봅시다."
   ]
  },
  {
   "cell_type": "code",
   "execution_count": 12,
   "metadata": {},
   "outputs": [
    {
     "data": {
      "application/javascript": [
       "$(\"head\").append($(\"<link/>\").attr({\n",
       "  rel:  \"stylesheet\",\n",
       "  type: \"text/css\",\n",
       "  href: \"//cdnjs.cloudflare.com/ajax/libs/font-awesome/4.1.0/css/font-awesome.min.css\"\n",
       "}));\n",
       "$(\"head\").append($(\"<link/>\").attr({\n",
       "  rel:  \"stylesheet\",\n",
       "  type: \"text/css\",\n",
       "  href: \"https://static.turi.com/products/graphlab-create/2.1/canvas/css/canvas.css\"\n",
       "}));\n",
       "\n",
       "            (function(){\n",
       "\n",
       "                var e = null;\n",
       "                if (typeof element == 'undefined') {\n",
       "                    var scripts = document.getElementsByTagName('script');\n",
       "                    var thisScriptTag = scripts[scripts.length-1];\n",
       "                    var parentDiv = thisScriptTag.parentNode;\n",
       "                    e = document.createElement('div');\n",
       "                    parentDiv.appendChild(e);\n",
       "                } else {\n",
       "                    e = element[0];\n",
       "                }\n",
       "\n",
       "                if (typeof requirejs !== 'undefined') {\n",
       "                    // disable load timeout; ipython_app.js is large and can take a while to load.\n",
       "                    requirejs.config({waitSeconds: 0});\n",
       "                }\n",
       "\n",
       "                require(['https://static.turi.com/products/graphlab-create/2.1/canvas/js/ipython_app.js'], function(IPythonApp){\n",
       "                    var app = new IPythonApp();\n",
       "                    app.attachView('sframe','Plots', {\"selected_variable\": {\"name\": [\"<SFrame>\"], \"descriptives\": {\"rows\": 549, \"columns\": 12}, \"view_component\": \"Plots\", \"view_file\": \"sframe\", \"view_params\": {\"y\": \"PassengerId\", \"x\": \"Sex\", \"columns\": [\"PassengerId\", \"Survived\", \"Pclass\", \"Name\", \"Sex\", \"Age\", \"SibSp\", \"Parch\", \"Ticket\", \"Fare\", \"Cabin\", \"Embarked\"], \"view\": \"Bar Chart\"}, \"view_components\": [\"Summary\", \"Table\", \"Bar Chart\", \"BoxWhisker Plot\", \"Line Chart\", \"Scatter Plot\", \"Heat Map\", \"Plots\"], \"type\": \"SFrame\", \"columns\": [{\"dtype\": \"int\", \"name\": \"PassengerId\"}, {\"dtype\": \"int\", \"name\": \"Survived\"}, {\"dtype\": \"int\", \"name\": \"Pclass\"}, {\"dtype\": \"str\", \"name\": \"Name\"}, {\"dtype\": \"str\", \"name\": \"Sex\"}, {\"dtype\": \"float\", \"name\": \"Age\"}, {\"dtype\": \"int\", \"name\": \"SibSp\"}, {\"dtype\": \"int\", \"name\": \"Parch\"}, {\"dtype\": \"str\", \"name\": \"Ticket\"}, {\"dtype\": \"float\", \"name\": \"Fare\"}, {\"dtype\": \"str\", \"name\": \"Cabin\"}, {\"dtype\": \"str\", \"name\": \"Embarked\"}], \"column_identifiers\": [\"Fare\", \"Name\", \"Embarked\", \"Age\", \"Parch\", \"Pclass\", \"Sex\", \"Survived\", \"SibSp\", \"PassengerId\", \"Ticket\", \"Cabin\"]}, \"complete\": 1, \"ipython\": true, \"progress\": 1.0, \"data\": {\"grouped\": [[\"female\", {\"count\": 81, \"std\": 261.8903319203684, \"min\": 15, \"max\": 889, \"sum\": 35223, \"var\": 68586.54595336074, \"mean\": 434.85185185185185}], [\"male\", {\"count\": 468, \"std\": 260.0869432939534, \"min\": 1, \"max\": 891, \"sum\": 210189, \"var\": 67645.21807199213, \"mean\": 449.1217948717949}]], \"omitted\": 0}, \"columns\": [{\"dtype\": \"int\", \"name\": \"PassengerId\"}, {\"dtype\": \"int\", \"name\": \"Survived\"}, {\"dtype\": \"int\", \"name\": \"Pclass\"}, {\"dtype\": \"str\", \"name\": \"Name\"}, {\"dtype\": \"str\", \"name\": \"Sex\"}, {\"dtype\": \"float\", \"name\": \"Age\"}, {\"dtype\": \"int\", \"name\": \"SibSp\"}, {\"dtype\": \"int\", \"name\": \"Parch\"}, {\"dtype\": \"str\", \"name\": \"Ticket\"}, {\"dtype\": \"float\", \"name\": \"Fare\"}, {\"dtype\": \"str\", \"name\": \"Cabin\"}, {\"dtype\": \"str\", \"name\": \"Embarked\"}]}, e);\n",
       "                });\n",
       "            })();\n",
       "        "
      ]
     },
     "metadata": {},
     "output_type": "display_data"
    }
   ],
   "source": [
    "full_train_data[full_train_data['Survived'] == 0].show(view=\"Bar Chart\", x=\"Sex\")"
   ]
  },
  {
   "cell_type": "code",
   "execution_count": 13,
   "metadata": {},
   "outputs": [
    {
     "data": {
      "application/javascript": [
       "$(\"head\").append($(\"<link/>\").attr({\n",
       "  rel:  \"stylesheet\",\n",
       "  type: \"text/css\",\n",
       "  href: \"//cdnjs.cloudflare.com/ajax/libs/font-awesome/4.1.0/css/font-awesome.min.css\"\n",
       "}));\n",
       "$(\"head\").append($(\"<link/>\").attr({\n",
       "  rel:  \"stylesheet\",\n",
       "  type: \"text/css\",\n",
       "  href: \"https://static.turi.com/products/graphlab-create/2.1/canvas/css/canvas.css\"\n",
       "}));\n",
       "\n",
       "            (function(){\n",
       "\n",
       "                var e = null;\n",
       "                if (typeof element == 'undefined') {\n",
       "                    var scripts = document.getElementsByTagName('script');\n",
       "                    var thisScriptTag = scripts[scripts.length-1];\n",
       "                    var parentDiv = thisScriptTag.parentNode;\n",
       "                    e = document.createElement('div');\n",
       "                    parentDiv.appendChild(e);\n",
       "                } else {\n",
       "                    e = element[0];\n",
       "                }\n",
       "\n",
       "                if (typeof requirejs !== 'undefined') {\n",
       "                    // disable load timeout; ipython_app.js is large and can take a while to load.\n",
       "                    requirejs.config({waitSeconds: 0});\n",
       "                }\n",
       "\n",
       "                require(['https://static.turi.com/products/graphlab-create/2.1/canvas/js/ipython_app.js'], function(IPythonApp){\n",
       "                    var app = new IPythonApp();\n",
       "                    app.attachView('sframe','Plots', {\"selected_variable\": {\"name\": [\"<SFrame>\"], \"descriptives\": {\"rows\": 342, \"columns\": 12}, \"view_component\": \"Plots\", \"view_file\": \"sframe\", \"view_params\": {\"y\": \"PassengerId\", \"x\": \"Sex\", \"columns\": [\"PassengerId\", \"Survived\", \"Pclass\", \"Name\", \"Sex\", \"Age\", \"SibSp\", \"Parch\", \"Ticket\", \"Fare\", \"Cabin\", \"Embarked\"], \"view\": \"Bar Chart\"}, \"view_components\": [\"Summary\", \"Table\", \"Bar Chart\", \"BoxWhisker Plot\", \"Line Chart\", \"Scatter Plot\", \"Heat Map\", \"Plots\"], \"type\": \"SFrame\", \"columns\": [{\"dtype\": \"int\", \"name\": \"PassengerId\"}, {\"dtype\": \"int\", \"name\": \"Survived\"}, {\"dtype\": \"int\", \"name\": \"Pclass\"}, {\"dtype\": \"str\", \"name\": \"Name\"}, {\"dtype\": \"str\", \"name\": \"Sex\"}, {\"dtype\": \"float\", \"name\": \"Age\"}, {\"dtype\": \"int\", \"name\": \"SibSp\"}, {\"dtype\": \"int\", \"name\": \"Parch\"}, {\"dtype\": \"str\", \"name\": \"Ticket\"}, {\"dtype\": \"float\", \"name\": \"Fare\"}, {\"dtype\": \"str\", \"name\": \"Cabin\"}, {\"dtype\": \"str\", \"name\": \"Embarked\"}], \"column_identifiers\": [\"Fare\", \"Name\", \"Embarked\", \"Age\", \"Parch\", \"Pclass\", \"Sex\", \"Survived\", \"SibSp\", \"PassengerId\", \"Ticket\", \"Cabin\"]}, \"complete\": 1, \"ipython\": true, \"progress\": 1.0, \"data\": {\"grouped\": [[\"female\", {\"count\": 233, \"std\": 254.50039393847155, \"min\": 2, \"max\": 888, \"sum\": 100120, \"var\": 64770.45051483721, \"mean\": 429.69957081545067}], [\"male\", {\"count\": 109, \"std\": 243.59233773067282, \"min\": 18, \"max\": 890, \"sum\": 51854, \"var\": 59337.227001094165, \"mean\": 475.72477064220175}]], \"omitted\": 0}, \"columns\": [{\"dtype\": \"int\", \"name\": \"PassengerId\"}, {\"dtype\": \"int\", \"name\": \"Survived\"}, {\"dtype\": \"int\", \"name\": \"Pclass\"}, {\"dtype\": \"str\", \"name\": \"Name\"}, {\"dtype\": \"str\", \"name\": \"Sex\"}, {\"dtype\": \"float\", \"name\": \"Age\"}, {\"dtype\": \"int\", \"name\": \"SibSp\"}, {\"dtype\": \"int\", \"name\": \"Parch\"}, {\"dtype\": \"str\", \"name\": \"Ticket\"}, {\"dtype\": \"float\", \"name\": \"Fare\"}, {\"dtype\": \"str\", \"name\": \"Cabin\"}, {\"dtype\": \"str\", \"name\": \"Embarked\"}]}, e);\n",
       "                });\n",
       "            })();\n",
       "        "
      ]
     },
     "metadata": {},
     "output_type": "display_data"
    }
   ],
   "source": [
    "full_train_data[full_train_data['Survived'] == 1].show(view=\"Bar Chart\", x=\"Sex\")"
   ]
  },
  {
   "cell_type": "markdown",
   "metadata": {},
   "source": [
    "데이터에는 문제가 없어 보이고 생존율과의 상관관계도 어느 정도 있어 보입니다."
   ]
  },
  {
   "cell_type": "markdown",
   "metadata": {},
   "source": [
    "먼저 전체 학습 데이터를 학습 데이터와 검증 데이터로 분리합시다. **train_data, validation_data**라는 변수에 저장합시다.\n",
    "\n",
    "        SFrame.random_split(비율, seed=시드값)\n",
    "        \n",
    "시드값은 0을 사용합시다."
   ]
  },
  {
   "cell_type": "code",
   "execution_count": 14,
   "metadata": {},
   "outputs": [],
   "source": [
    "train_data, validation_data = full_train_data.random_split(.8, seed=0)"
   ]
  },
  {
   "cell_type": "markdown",
   "metadata": {},
   "source": [
    "### 성별 데이터만으로 모델 학습시키기"
   ]
  },
  {
   "cell_type": "markdown",
   "metadata": {},
   "source": [
    "이제 아래 classifier를 이용해서 모델을 학습시키고 **sex_only_model**에 저장합시다.\n",
    "\n",
    "    graphlab.logistic_classifier.create(학습데이터, target=타겟컬럼이름, features=피쳐컬럼이름의리스트, validation_set=검증데이터)"
   ]
  },
  {
   "cell_type": "code",
   "execution_count": 15,
   "metadata": {},
   "outputs": [
    {
     "data": {
      "text/html": [
       "<pre>Logistic regression:</pre>"
      ],
      "text/plain": [
       "Logistic regression:"
      ]
     },
     "metadata": {},
     "output_type": "display_data"
    },
    {
     "data": {
      "text/html": [
       "<pre>--------------------------------------------------------</pre>"
      ],
      "text/plain": [
       "--------------------------------------------------------"
      ]
     },
     "metadata": {},
     "output_type": "display_data"
    },
    {
     "data": {
      "text/html": [
       "<pre>Number of examples          : 703</pre>"
      ],
      "text/plain": [
       "Number of examples          : 703"
      ]
     },
     "metadata": {},
     "output_type": "display_data"
    },
    {
     "data": {
      "text/html": [
       "<pre>Number of classes           : 2</pre>"
      ],
      "text/plain": [
       "Number of classes           : 2"
      ]
     },
     "metadata": {},
     "output_type": "display_data"
    },
    {
     "data": {
      "text/html": [
       "<pre>Number of feature columns   : 1</pre>"
      ],
      "text/plain": [
       "Number of feature columns   : 1"
      ]
     },
     "metadata": {},
     "output_type": "display_data"
    },
    {
     "data": {
      "text/html": [
       "<pre>Number of unpacked features : 1</pre>"
      ],
      "text/plain": [
       "Number of unpacked features : 1"
      ]
     },
     "metadata": {},
     "output_type": "display_data"
    },
    {
     "data": {
      "text/html": [
       "<pre>Number of coefficients    : 2</pre>"
      ],
      "text/plain": [
       "Number of coefficients    : 2"
      ]
     },
     "metadata": {},
     "output_type": "display_data"
    },
    {
     "data": {
      "text/html": [
       "<pre>Starting Newton Method</pre>"
      ],
      "text/plain": [
       "Starting Newton Method"
      ]
     },
     "metadata": {},
     "output_type": "display_data"
    },
    {
     "data": {
      "text/html": [
       "<pre>--------------------------------------------------------</pre>"
      ],
      "text/plain": [
       "--------------------------------------------------------"
      ]
     },
     "metadata": {},
     "output_type": "display_data"
    },
    {
     "data": {
      "text/html": [
       "<pre>+-----------+----------+--------------+-------------------+---------------------+</pre>"
      ],
      "text/plain": [
       "+-----------+----------+--------------+-------------------+---------------------+"
      ]
     },
     "metadata": {},
     "output_type": "display_data"
    },
    {
     "data": {
      "text/html": [
       "<pre>| Iteration | Passes   | Elapsed Time | Training-accuracy | Validation-accuracy |</pre>"
      ],
      "text/plain": [
       "| Iteration | Passes   | Elapsed Time | Training-accuracy | Validation-accuracy |"
      ]
     },
     "metadata": {},
     "output_type": "display_data"
    },
    {
     "data": {
      "text/html": [
       "<pre>+-----------+----------+--------------+-------------------+---------------------+</pre>"
      ],
      "text/plain": [
       "+-----------+----------+--------------+-------------------+---------------------+"
      ]
     },
     "metadata": {},
     "output_type": "display_data"
    },
    {
     "data": {
      "text/html": [
       "<pre>| 1         | 2        | 1.003285     | 0.800853          | 0.734043            |</pre>"
      ],
      "text/plain": [
       "| 1         | 2        | 1.003285     | 0.800853          | 0.734043            |"
      ]
     },
     "metadata": {},
     "output_type": "display_data"
    },
    {
     "data": {
      "text/html": [
       "<pre>| 2         | 3        | 1.006898     | 0.800853          | 0.734043            |</pre>"
      ],
      "text/plain": [
       "| 2         | 3        | 1.006898     | 0.800853          | 0.734043            |"
      ]
     },
     "metadata": {},
     "output_type": "display_data"
    },
    {
     "data": {
      "text/html": [
       "<pre>| 3         | 4        | 1.011381     | 0.800853          | 0.734043            |</pre>"
      ],
      "text/plain": [
       "| 3         | 4        | 1.011381     | 0.800853          | 0.734043            |"
      ]
     },
     "metadata": {},
     "output_type": "display_data"
    }
   ],
   "source": [
    "sex_only_model = graphlab.logistic_classifier.create(train_data, target='Survived', features=['Sex'], validation_set=validation_data)"
   ]
  },
  {
   "cell_type": "markdown",
   "metadata": {},
   "source": [
    "### 검증데이터를 이용해서 모델 검증하기"
   ]
  },
  {
   "cell_type": "markdown",
   "metadata": {},
   "source": [
    "show 메소드로 모델의 결과를 살펴 봅시다.\n",
    "    \n",
    "    model.show()"
   ]
  },
  {
   "cell_type": "code",
   "execution_count": 16,
   "metadata": {},
   "outputs": [
    {
     "data": {
      "text/html": [
       "<pre>+-----------+----------+--------------+-------------------+---------------------+</pre>"
      ],
      "text/plain": [
       "+-----------+----------+--------------+-------------------+---------------------+"
      ]
     },
     "metadata": {},
     "output_type": "display_data"
    },
    {
     "data": {
      "text/html": [
       "<pre>SUCCESS: Optimal solution found.</pre>"
      ],
      "text/plain": [
       "SUCCESS: Optimal solution found."
      ]
     },
     "metadata": {},
     "output_type": "display_data"
    },
    {
     "data": {
      "text/html": [
       "<pre></pre>"
      ],
      "text/plain": []
     },
     "metadata": {},
     "output_type": "display_data"
    },
    {
     "data": {
      "application/javascript": [
       "$(\"head\").append($(\"<link/>\").attr({\n",
       "  rel:  \"stylesheet\",\n",
       "  type: \"text/css\",\n",
       "  href: \"//cdnjs.cloudflare.com/ajax/libs/font-awesome/4.1.0/css/font-awesome.min.css\"\n",
       "}));\n",
       "$(\"head\").append($(\"<link/>\").attr({\n",
       "  rel:  \"stylesheet\",\n",
       "  type: \"text/css\",\n",
       "  href: \"https://static.turi.com/products/graphlab-create/2.1/canvas/css/canvas.css\"\n",
       "}));\n",
       "\n",
       "            (function(){\n",
       "\n",
       "                var e = null;\n",
       "                if (typeof element == 'undefined') {\n",
       "                    var scripts = document.getElementsByTagName('script');\n",
       "                    var thisScriptTag = scripts[scripts.length-1];\n",
       "                    var parentDiv = thisScriptTag.parentNode;\n",
       "                    e = document.createElement('div');\n",
       "                    parentDiv.appendChild(e);\n",
       "                } else {\n",
       "                    e = element[0];\n",
       "                }\n",
       "\n",
       "                if (typeof requirejs !== 'undefined') {\n",
       "                    // disable load timeout; ipython_app.js is large and can take a while to load.\n",
       "                    requirejs.config({waitSeconds: 0});\n",
       "                }\n",
       "\n",
       "                require(['https://static.turi.com/products/graphlab-create/2.1/canvas/js/ipython_app.js'], function(IPythonApp){\n",
       "                    var app = new IPythonApp();\n",
       "                    app.attachView('model','Summary', {\"comparison\": null, \"selected_variable\": {\"comparison\": null, \"name\": [\"sex_only_model\"], \"view_file\": \"model\", \"view_component\": \"Summary\", \"view_params\": {\"model_type\": \"regression\", \"view\": \"Summary\"}, \"view_components\": [\"Summary\", \"Evaluation\", \"Comparison\"], \"model_type\": \"regression\", \"attributes\": {\"section_titles\": [\"Schema\", \"Hyperparameters\", \"Training Summary\", \"Settings\", \"Highest Positive Coefficients\", \"Lowest Negative Coefficients\"], \"sections\": [[[\"Number of coefficients\", 2], [\"Number of examples\", 703], [\"Number of classes\", 2], [\"Number of feature columns\", 1], [\"Number of unpacked features\", 1]], [[\"L1 penalty\", 0.0], [\"L2 penalty\", 0.01]], [[\"Solver\", \"newton\"], [\"Solver iterations\", 3], [\"Solver status\", \"SUCCESS: Optimal solution found.\"], [\"Training time (sec)\", 1.0133]], [[\"Log-likelihood\", 349.375]], [[\"Sex[female]\", 2.6898]], [[\"(intercept)\", -1.5183]]]}, \"evaluations\": [], \"type\": \"Model\"}, \"ipython\": true, \"view_params\": {\"model_type\": \"regression\", \"view\": \"Summary\"}, \"model_type\": \"regression\", \"attributes\": {\"section_titles\": [\"Schema\", \"Hyperparameters\", \"Training Summary\", \"Settings\", \"Highest Positive Coefficients\", \"Lowest Negative Coefficients\"], \"sections\": [[[\"Number of coefficients\", 2], [\"Number of examples\", 703], [\"Number of classes\", 2], [\"Number of feature columns\", 1], [\"Number of unpacked features\", 1]], [[\"L1 penalty\", 0.0], [\"L2 penalty\", 0.01]], [[\"Solver\", \"newton\"], [\"Solver iterations\", 3], [\"Solver status\", \"SUCCESS: Optimal solution found.\"], [\"Training time (sec)\", 1.0133]], [[\"Log-likelihood\", 349.375]], [[\"Sex[female]\", 2.6898]], [[\"(intercept)\", -1.5183]]]}, \"evaluations\": []}, e);\n",
       "                });\n",
       "            })();\n",
       "        "
      ]
     },
     "metadata": {},
     "output_type": "display_data"
    }
   ],
   "source": [
    "sex_only_model.show()"
   ]
  },
  {
   "cell_type": "markdown",
   "metadata": {},
   "source": [
    "검증 데이터를 이용해서 검증합시다.\n",
    "\n",
    "    model.evaluate(검증데이터)"
   ]
  },
  {
   "cell_type": "code",
   "execution_count": 17,
   "metadata": {},
   "outputs": [
    {
     "data": {
      "text/plain": [
       "{'accuracy': 0.7340425531914894,\n",
       " 'auc': 0.7204719764011799,\n",
       " 'confusion_matrix': Columns:\n",
       " \ttarget_label\tint\n",
       " \tpredicted_label\tint\n",
       " \tcount\tint\n",
       " \n",
       " Rows: 4\n",
       " \n",
       " Data:\n",
       " +--------------+-----------------+-------+\n",
       " | target_label | predicted_label | count |\n",
       " +--------------+-----------------+-------+\n",
       " |      0       |        1        |   24  |\n",
       " |      1       |        0        |   26  |\n",
       " |      1       |        1        |   49  |\n",
       " |      0       |        0        |   89  |\n",
       " +--------------+-----------------+-------+\n",
       " [4 rows x 3 columns],\n",
       " 'f1_score': 0.6621621621621622,\n",
       " 'log_loss': 0.5855304729422249,\n",
       " 'precision': 0.6712328767123288,\n",
       " 'recall': 0.6533333333333333,\n",
       " 'roc_curve': Columns:\n",
       " \tthreshold\tfloat\n",
       " \tfpr\tfloat\n",
       " \ttpr\tfloat\n",
       " \tp\tint\n",
       " \tn\tint\n",
       " \n",
       " Rows: 100001\n",
       " \n",
       " Data:\n",
       " +-----------+-----+-----+----+-----+\n",
       " | threshold | fpr | tpr | p  |  n  |\n",
       " +-----------+-----+-----+----+-----+\n",
       " |    0.0    | 1.0 | 1.0 | 75 | 113 |\n",
       " |   1e-05   | 1.0 | 1.0 | 75 | 113 |\n",
       " |   2e-05   | 1.0 | 1.0 | 75 | 113 |\n",
       " |   3e-05   | 1.0 | 1.0 | 75 | 113 |\n",
       " |   4e-05   | 1.0 | 1.0 | 75 | 113 |\n",
       " |   5e-05   | 1.0 | 1.0 | 75 | 113 |\n",
       " |   6e-05   | 1.0 | 1.0 | 75 | 113 |\n",
       " |   7e-05   | 1.0 | 1.0 | 75 | 113 |\n",
       " |   8e-05   | 1.0 | 1.0 | 75 | 113 |\n",
       " |   9e-05   | 1.0 | 1.0 | 75 | 113 |\n",
       " +-----------+-----+-----+----+-----+\n",
       " [100001 rows x 5 columns]\n",
       " Note: Only the head of the SFrame is printed.\n",
       " You can use print_rows(num_rows=m, num_columns=n) to print more rows and columns.}"
      ]
     },
     "execution_count": 17,
     "metadata": {},
     "output_type": "execute_result"
    }
   ],
   "source": [
    "sex_only_model.evaluate(validation_data)"
   ]
  },
  {
   "cell_type": "markdown",
   "metadata": {},
   "source": [
    "accuracy가 얼마 나왔나요?"
   ]
  },
  {
   "cell_type": "markdown",
   "metadata": {},
   "source": [
    "위의 코드를 수정해서 accuracy만 출력해 보세요."
   ]
  },
  {
   "cell_type": "code",
   "execution_count": 18,
   "metadata": {},
   "outputs": [
    {
     "data": {
      "text/plain": [
       "0.7340425531914894"
      ]
     },
     "execution_count": 18,
     "metadata": {},
     "output_type": "execute_result"
    }
   ],
   "source": [
    "sex_only_model.evaluate(validation_data)['accuracy']"
   ]
  },
  {
   "cell_type": "markdown",
   "metadata": {},
   "source": [
    "#### (고급) 직접 accuracy 구해보기"
   ]
  },
  {
   "cell_type": "markdown",
   "metadata": {},
   "source": [
    "먼저 학습된 모델을 이용해서 검증 데이터에 대한 예측값을 구합시다. 생존 확률이 0.5 이상인 경우 생존으로 판별하기로 합니다.\n",
    "\n",
    "참고: output_type을 지정하지 않으면 0과 1로 판별되어 나옵니다. 아래 코드를 이용하면 생존확률의 기준 (0.5)을 높이거나 낮출 수 있습니다. (예. 0.7)\n",
    "\n",
    "    model.predict(검증데이터, output_type='probability')"
   ]
  },
  {
   "cell_type": "code",
   "execution_count": 19,
   "metadata": {},
   "outputs": [
    {
     "data": {
      "text/plain": [
       "dtype: float\n",
       "Rows: 188\n",
       "[0.17970543072834824, 0.7634083386399846, 0.7634083386399846, 0.17970543072834824, 0.17970543072834824, 0.7634083386399846, 0.7634083386399846, 0.7634083386399846, 0.7634083386399846, 0.17970543072834824, 0.17970543072834824, 0.17970543072834824, 0.17970543072834824, 0.17970543072834824, 0.7634083386399846, 0.7634083386399846, 0.17970543072834824, 0.17970543072834824, 0.7634083386399846, 0.17970543072834824, 0.17970543072834824, 0.17970543072834824, 0.17970543072834824, 0.17970543072834824, 0.7634083386399846, 0.17970543072834824, 0.17970543072834824, 0.17970543072834824, 0.7634083386399846, 0.17970543072834824, 0.17970543072834824, 0.7634083386399846, 0.17970543072834824, 0.7634083386399846, 0.17970543072834824, 0.17970543072834824, 0.17970543072834824, 0.7634083386399846, 0.7634083386399846, 0.17970543072834824, 0.17970543072834824, 0.7634083386399846, 0.7634083386399846, 0.17970543072834824, 0.17970543072834824, 0.17970543072834824, 0.17970543072834824, 0.17970543072834824, 0.17970543072834824, 0.17970543072834824, 0.7634083386399846, 0.17970543072834824, 0.17970543072834824, 0.17970543072834824, 0.7634083386399846, 0.17970543072834824, 0.7634083386399846, 0.17970543072834824, 0.7634083386399846, 0.17970543072834824, 0.7634083386399846, 0.17970543072834824, 0.17970543072834824, 0.17970543072834824, 0.17970543072834824, 0.17970543072834824, 0.17970543072834824, 0.17970543072834824, 0.17970543072834824, 0.7634083386399846, 0.17970543072834824, 0.7634083386399846, 0.7634083386399846, 0.17970543072834824, 0.7634083386399846, 0.17970543072834824, 0.17970543072834824, 0.17970543072834824, 0.17970543072834824, 0.7634083386399846, 0.7634083386399846, 0.7634083386399846, 0.7634083386399846, 0.17970543072834824, 0.17970543072834824, 0.7634083386399846, 0.7634083386399846, 0.17970543072834824, 0.7634083386399846, 0.7634083386399846, 0.7634083386399846, 0.7634083386399846, 0.17970543072834824, 0.17970543072834824, 0.17970543072834824, 0.17970543072834824, 0.17970543072834824, 0.17970543072834824, 0.17970543072834824, 0.17970543072834824, ... ]"
      ]
     },
     "execution_count": 19,
     "metadata": {},
     "output_type": "execute_result"
    }
   ],
   "source": [
    "sex_only_model.predict(validation_data, output_type='probability')"
   ]
  },
  {
   "cell_type": "code",
   "execution_count": 20,
   "metadata": {},
   "outputs": [
    {
     "data": {
      "text/plain": [
       "dtype: int\n",
       "Rows: 188\n",
       "[0, 1, 1, 0, 0, 1, 1, 1, 1, 0, 0, 0, 0, 0, 1, 1, 0, 0, 1, 0, 0, 0, 0, 0, 1, 0, 0, 0, 1, 0, 0, 1, 0, 1, 0, 0, 0, 1, 1, 0, 0, 1, 1, 0, 0, 0, 0, 0, 0, 0, 1, 0, 0, 0, 1, 0, 1, 0, 1, 0, 1, 0, 0, 0, 0, 0, 0, 0, 0, 1, 0, 1, 1, 0, 1, 0, 0, 0, 0, 1, 1, 1, 1, 0, 0, 1, 1, 0, 1, 1, 1, 1, 0, 0, 0, 0, 0, 0, 0, 0, ... ]"
      ]
     },
     "execution_count": 20,
     "metadata": {},
     "output_type": "execute_result"
    }
   ],
   "source": [
    "sex_only_model.predict(validation_data, output_type='probability') >= 0.5"
   ]
  },
  {
   "cell_type": "markdown",
   "metadata": {},
   "source": [
    "이 결과값을 **predictions**에 저장합시다."
   ]
  },
  {
   "cell_type": "code",
   "execution_count": 21,
   "metadata": {},
   "outputs": [],
   "source": [
    "predictions = sex_only_model.predict(validation_data) >= 0.5"
   ]
  },
  {
   "cell_type": "markdown",
   "metadata": {},
   "source": [
    "이 예측값을 검증데이터의 'Survived' 컬럼과 비교합시다. 즉 모델이 예측한 값이 검증데이터의 관측값과 얼마나 일치하는지 개수를 세는 겁니다. \n",
    "\n",
    "참고로 동일한 값을 확인하는 연산자 (operator)는 **==**입니다."
   ]
  },
  {
   "cell_type": "code",
   "execution_count": 22,
   "metadata": {},
   "outputs": [
    {
     "data": {
      "text/plain": [
       "dtype: int\n",
       "Rows: 188\n",
       "[1, 1, 1, 1, 1, 1, 0, 1, 1, 1, 0, 0, 1, 1, 1, 0, 1, 1, 1, 1, 0, 1, 1, 1, 0, 1, 1, 1, 0, 1, 0, 0, 1, 1, 1, 0, 1, 0, 0, 1, 1, 0, 1, 1, 1, 1, 0, 1, 1, 1, 1, 1, 1, 1, 1, 1, 1, 1, 1, 1, 1, 1, 0, 1, 1, 0, 1, 1, 1, 0, 1, 1, 1, 1, 1, 1, 1, 0, 1, 1, 0, 0, 0, 1, 0, 0, 1, 1, 1, 1, 1, 1, 0, 1, 1, 1, 1, 1, 1, 1, ... ]"
      ]
     },
     "execution_count": 22,
     "metadata": {},
     "output_type": "execute_result"
    }
   ],
   "source": [
    "predictions == validation_data['Survived']"
   ]
  },
  {
   "cell_type": "markdown",
   "metadata": {},
   "source": [
    "이 결과값을 **corrects**에 저장합시다."
   ]
  },
  {
   "cell_type": "code",
   "execution_count": 23,
   "metadata": {},
   "outputs": [],
   "source": [
    "corrects = predictions == validation_data['Survived']"
   ]
  },
  {
   "cell_type": "markdown",
   "metadata": {},
   "source": [
    "정확도는 아래와 같은 식으로 계산할 수 있습니다. \n",
    "\n",
    "    accuracy = 맞은 개수 / 전체 개수\n",
    "    \n",
    "여기서 맞은 개수는 어떻게 구할 수 있을까요?"
   ]
  },
  {
   "cell_type": "code",
   "execution_count": 24,
   "metadata": {},
   "outputs": [
    {
     "data": {
      "text/plain": [
       "138"
      ]
     },
     "execution_count": 24,
     "metadata": {},
     "output_type": "execute_result"
    }
   ],
   "source": [
    "sum(corrects)"
   ]
  },
  {
   "cell_type": "markdown",
   "metadata": {},
   "source": [
    "138개가 나와야 합니다."
   ]
  },
  {
   "cell_type": "markdown",
   "metadata": {},
   "source": [
    "이제 정확도(accuracy)를 구해 봅시다."
   ]
  },
  {
   "cell_type": "code",
   "execution_count": 25,
   "metadata": {},
   "outputs": [
    {
     "name": "stdout",
     "output_type": "stream",
     "text": [
      "0.734042553191\n"
     ]
    }
   ],
   "source": [
    "print(sum(corrects)/float(len(validation_data)))"
   ]
  },
  {
   "cell_type": "markdown",
   "metadata": {},
   "source": [
    "0.734042553191가 나와야 합니다."
   ]
  },
  {
   "cell_type": "markdown",
   "metadata": {},
   "source": [
    "다음 방법으로 정확도를 간단히 구할 수 있습니다."
   ]
  },
  {
   "cell_type": "code",
   "execution_count": 26,
   "metadata": {},
   "outputs": [
    {
     "data": {
      "text/plain": [
       "0.7340425531914894"
      ]
     },
     "execution_count": 26,
     "metadata": {},
     "output_type": "execute_result"
    }
   ],
   "source": [
    "sex_only_model.evaluate(validation_data)['accuracy']"
   ]
  },
  {
   "cell_type": "markdown",
   "metadata": {},
   "source": [
    "### Baseline과 비교하기\n",
    "\n",
    "이제 baseline을 구해서 우리가 만든 모델의 정확도가 의미 있는 것인지 확인해 봅시다.\n",
    "\n",
    "random_guessing인 경우 얼마일까요?"
   ]
  },
  {
   "cell_type": "code",
   "execution_count": 27,
   "metadata": {},
   "outputs": [
    {
     "data": {
      "application/javascript": [
       "$(\"head\").append($(\"<link/>\").attr({\n",
       "  rel:  \"stylesheet\",\n",
       "  type: \"text/css\",\n",
       "  href: \"//cdnjs.cloudflare.com/ajax/libs/font-awesome/4.1.0/css/font-awesome.min.css\"\n",
       "}));\n",
       "$(\"head\").append($(\"<link/>\").attr({\n",
       "  rel:  \"stylesheet\",\n",
       "  type: \"text/css\",\n",
       "  href: \"https://static.turi.com/products/graphlab-create/2.1/canvas/css/canvas.css\"\n",
       "}));\n",
       "\n",
       "            (function(){\n",
       "\n",
       "                var e = null;\n",
       "                if (typeof element == 'undefined') {\n",
       "                    var scripts = document.getElementsByTagName('script');\n",
       "                    var thisScriptTag = scripts[scripts.length-1];\n",
       "                    var parentDiv = thisScriptTag.parentNode;\n",
       "                    e = document.createElement('div');\n",
       "                    parentDiv.appendChild(e);\n",
       "                } else {\n",
       "                    e = element[0];\n",
       "                }\n",
       "\n",
       "                if (typeof requirejs !== 'undefined') {\n",
       "                    // disable load timeout; ipython_app.js is large and can take a while to load.\n",
       "                    requirejs.config({waitSeconds: 0});\n",
       "                }\n",
       "\n",
       "                require(['https://static.turi.com/products/graphlab-create/2.1/canvas/js/ipython_app.js'], function(IPythonApp){\n",
       "                    var app = new IPythonApp();\n",
       "                    app.attachView('sarray','Categorical', {\"ipython\": true, \"sketch\": {\"complete\": true, \"numeric\": false, \"num_unique\": 2, \"num_undefined\": 0, \"progress\": 1.0, \"frequent_items\": {\"male\": {\"frequency\": 115, \"value\": \"male\"}, \"female\": {\"frequency\": 73, \"value\": \"female\"}}, \"size\": 188}, \"selected_variable\": {\"name\": [\"<SArray>\"], \"dtype\": \"str\", \"view_component\": \"Categorical\", \"view_file\": \"sarray\", \"descriptives\": {\"rows\": 188}, \"type\": \"SArray\", \"view_components\": [\"Categorical\"]}, \"histogram\": null}, e);\n",
       "                });\n",
       "            })();\n",
       "        "
      ]
     },
     "metadata": {},
     "output_type": "display_data"
    }
   ],
   "source": [
    "validation_data['Sex'].show(view='Categorical')"
   ]
  },
  {
   "cell_type": "markdown",
   "metadata": {},
   "source": [
    "majority class를 구해 봅시다.\n",
    "\n",
    "    SFrame.show(view=뷰유형)\n",
    "    \n",
    "뷰 유형으로는 'Categorical'을 사용하세요.\n",
    "\n",
    "어떤 데이터의 어떤 컬럼을 이용해서 majority class를 구해야 할까요?"
   ]
  },
  {
   "cell_type": "code",
   "execution_count": 28,
   "metadata": {},
   "outputs": [
    {
     "data": {
      "application/javascript": [
       "$(\"head\").append($(\"<link/>\").attr({\n",
       "  rel:  \"stylesheet\",\n",
       "  type: \"text/css\",\n",
       "  href: \"//cdnjs.cloudflare.com/ajax/libs/font-awesome/4.1.0/css/font-awesome.min.css\"\n",
       "}));\n",
       "$(\"head\").append($(\"<link/>\").attr({\n",
       "  rel:  \"stylesheet\",\n",
       "  type: \"text/css\",\n",
       "  href: \"https://static.turi.com/products/graphlab-create/2.1/canvas/css/canvas.css\"\n",
       "}));\n",
       "\n",
       "            (function(){\n",
       "\n",
       "                var e = null;\n",
       "                if (typeof element == 'undefined') {\n",
       "                    var scripts = document.getElementsByTagName('script');\n",
       "                    var thisScriptTag = scripts[scripts.length-1];\n",
       "                    var parentDiv = thisScriptTag.parentNode;\n",
       "                    e = document.createElement('div');\n",
       "                    parentDiv.appendChild(e);\n",
       "                } else {\n",
       "                    e = element[0];\n",
       "                }\n",
       "\n",
       "                if (typeof requirejs !== 'undefined') {\n",
       "                    // disable load timeout; ipython_app.js is large and can take a while to load.\n",
       "                    requirejs.config({waitSeconds: 0});\n",
       "                }\n",
       "\n",
       "                require(['https://static.turi.com/products/graphlab-create/2.1/canvas/js/ipython_app.js'], function(IPythonApp){\n",
       "                    var app = new IPythonApp();\n",
       "                    app.attachView('sarray','Categorical', {\"ipython\": true, \"sketch\": {\"std\": 0.48967959147664814, \"complete\": true, \"min\": 0.0, \"max\": 1.0, \"quantile\": [0.0, 0.0, 0.0, 0.0, 0.0, 0.0, 0.0, 0.0, 0.0, 0.0, 0.0, 0.0, 0.0, 0.0, 0.0, 0.0, 0.0, 0.0, 0.0, 0.0, 0.0, 0.0, 0.0, 0.0, 0.0, 0.0, 0.0, 0.0, 0.0, 0.0, 0.0, 0.0, 0.0, 0.0, 0.0, 0.0, 0.0, 0.0, 0.0, 0.0, 0.0, 0.0, 0.0, 0.0, 0.0, 0.0, 0.0, 0.0, 0.0, 0.0, 0.0, 0.0, 0.0, 0.0, 0.0, 0.0, 0.0, 0.0, 0.0, 0.0, 0.0, 1.0, 1.0, 1.0, 1.0, 1.0, 1.0, 1.0, 1.0, 1.0, 1.0, 1.0, 1.0, 1.0, 1.0, 1.0, 1.0, 1.0, 1.0, 1.0, 1.0, 1.0, 1.0, 1.0, 1.0, 1.0, 1.0, 1.0, 1.0, 1.0, 1.0, 1.0, 1.0, 1.0, 1.0, 1.0, 1.0, 1.0, 1.0, 1.0, 1.0], \"median\": 0.0, \"numeric\": true, \"num_unique\": 2, \"num_undefined\": 0, \"var\": 0.239786102308737, \"progress\": 1.0, \"size\": 188, \"frequent_items\": {\"0\": {\"frequency\": 113, \"value\": 0}, \"1\": {\"frequency\": 75, \"value\": 1}}, \"mean\": 0.398936170212766}, \"selected_variable\": {\"name\": [\"<SArray>\"], \"dtype\": \"int\", \"view_component\": \"Categorical\", \"view_file\": \"sarray\", \"descriptives\": {\"rows\": 188}, \"type\": \"SArray\", \"view_components\": [\"Numeric\", \"Categorical\"]}, \"histogram\": {\"progress\": 1.0, \"histogram\": {\"max\": 1.0, \"bins\": [113, 0, 0, 0, 0, 0, 0, 0, 0, 0, 0, 75], \"min\": 0.0}, \"min\": 0, \"complete\": 1, \"max\": 1}}, e);\n",
       "                });\n",
       "            })();\n",
       "        "
      ]
     },
     "metadata": {},
     "output_type": "display_data"
    }
   ],
   "source": [
    "validation_data['Survived'].show(view='Categorical')"
   ]
  },
  {
   "cell_type": "markdown",
   "metadata": {},
   "source": [
    "우리가 만든 모델의 예측값이 baseline인 남자의 생존율 60.106%보다 월등히 높다는 것을 알 수 있습니다."
   ]
  },
  {
   "cell_type": "markdown",
   "metadata": {},
   "source": [
    "## 더 많은 데이터를 이용한 모델 만들기\n",
    "\n",
    "이제 추가적인 데이터를 이용해서 모델을 만들어 봅시다.\n"
   ]
  },
  {
   "cell_type": "markdown",
   "metadata": {},
   "source": [
    "### 데이터 전처리를 위한 변수 만들기\n",
    "\n",
    "데이터 처리를 하기 전에 데이터를 새로운 변수에 저장합시다. 이제 수정한 결과값은 아래 두 변수에 저장할 겁니다. "
   ]
  },
  {
   "cell_type": "code",
   "execution_count": 29,
   "metadata": {},
   "outputs": [],
   "source": [
    "new_full_train_data = full_train_data\n",
    "new_test_data = test_data"
   ]
  },
  {
   "cell_type": "markdown",
   "metadata": {},
   "source": [
    "### Pclass 살펴 보기\n",
    "\n",
    "먼저 Pclass에 대해서 살펴 봅시다."
   ]
  },
  {
   "cell_type": "code",
   "execution_count": 30,
   "metadata": {},
   "outputs": [
    {
     "data": {
      "text/html": [
       "<div style=\"max-height:1000px;max-width:1500px;overflow:auto;\"><table frame=\"box\" rules=\"cols\">\n",
       "    <tr>\n",
       "        <th style=\"padding-left: 1em; padding-right: 1em; text-align: center\">PassengerId</th>\n",
       "        <th style=\"padding-left: 1em; padding-right: 1em; text-align: center\">Survived</th>\n",
       "        <th style=\"padding-left: 1em; padding-right: 1em; text-align: center\">Pclass</th>\n",
       "        <th style=\"padding-left: 1em; padding-right: 1em; text-align: center\">Name</th>\n",
       "        <th style=\"padding-left: 1em; padding-right: 1em; text-align: center\">Sex</th>\n",
       "        <th style=\"padding-left: 1em; padding-right: 1em; text-align: center\">Age</th>\n",
       "        <th style=\"padding-left: 1em; padding-right: 1em; text-align: center\">SibSp</th>\n",
       "        <th style=\"padding-left: 1em; padding-right: 1em; text-align: center\">Parch</th>\n",
       "        <th style=\"padding-left: 1em; padding-right: 1em; text-align: center\">Ticket</th>\n",
       "    </tr>\n",
       "    <tr>\n",
       "        <td style=\"padding-left: 1em; padding-right: 1em; text-align: center; vertical-align: top\">1</td>\n",
       "        <td style=\"padding-left: 1em; padding-right: 1em; text-align: center; vertical-align: top\">0</td>\n",
       "        <td style=\"padding-left: 1em; padding-right: 1em; text-align: center; vertical-align: top\">3</td>\n",
       "        <td style=\"padding-left: 1em; padding-right: 1em; text-align: center; vertical-align: top\">Braund, Mr. Owen Harris</td>\n",
       "        <td style=\"padding-left: 1em; padding-right: 1em; text-align: center; vertical-align: top\">male</td>\n",
       "        <td style=\"padding-left: 1em; padding-right: 1em; text-align: center; vertical-align: top\">22.0</td>\n",
       "        <td style=\"padding-left: 1em; padding-right: 1em; text-align: center; vertical-align: top\">1</td>\n",
       "        <td style=\"padding-left: 1em; padding-right: 1em; text-align: center; vertical-align: top\">0</td>\n",
       "        <td style=\"padding-left: 1em; padding-right: 1em; text-align: center; vertical-align: top\">A/5 21171</td>\n",
       "    </tr>\n",
       "    <tr>\n",
       "        <td style=\"padding-left: 1em; padding-right: 1em; text-align: center; vertical-align: top\">2</td>\n",
       "        <td style=\"padding-left: 1em; padding-right: 1em; text-align: center; vertical-align: top\">1</td>\n",
       "        <td style=\"padding-left: 1em; padding-right: 1em; text-align: center; vertical-align: top\">1</td>\n",
       "        <td style=\"padding-left: 1em; padding-right: 1em; text-align: center; vertical-align: top\">Cumings, Mrs. John<br>Bradley (Florence Briggs ...</td>\n",
       "        <td style=\"padding-left: 1em; padding-right: 1em; text-align: center; vertical-align: top\">female</td>\n",
       "        <td style=\"padding-left: 1em; padding-right: 1em; text-align: center; vertical-align: top\">38.0</td>\n",
       "        <td style=\"padding-left: 1em; padding-right: 1em; text-align: center; vertical-align: top\">1</td>\n",
       "        <td style=\"padding-left: 1em; padding-right: 1em; text-align: center; vertical-align: top\">0</td>\n",
       "        <td style=\"padding-left: 1em; padding-right: 1em; text-align: center; vertical-align: top\">PC 17599</td>\n",
       "    </tr>\n",
       "    <tr>\n",
       "        <td style=\"padding-left: 1em; padding-right: 1em; text-align: center; vertical-align: top\">3</td>\n",
       "        <td style=\"padding-left: 1em; padding-right: 1em; text-align: center; vertical-align: top\">1</td>\n",
       "        <td style=\"padding-left: 1em; padding-right: 1em; text-align: center; vertical-align: top\">3</td>\n",
       "        <td style=\"padding-left: 1em; padding-right: 1em; text-align: center; vertical-align: top\">Heikkinen, Miss. Laina</td>\n",
       "        <td style=\"padding-left: 1em; padding-right: 1em; text-align: center; vertical-align: top\">female</td>\n",
       "        <td style=\"padding-left: 1em; padding-right: 1em; text-align: center; vertical-align: top\">26.0</td>\n",
       "        <td style=\"padding-left: 1em; padding-right: 1em; text-align: center; vertical-align: top\">0</td>\n",
       "        <td style=\"padding-left: 1em; padding-right: 1em; text-align: center; vertical-align: top\">0</td>\n",
       "        <td style=\"padding-left: 1em; padding-right: 1em; text-align: center; vertical-align: top\">STON/O2. 3101282</td>\n",
       "    </tr>\n",
       "    <tr>\n",
       "        <td style=\"padding-left: 1em; padding-right: 1em; text-align: center; vertical-align: top\">4</td>\n",
       "        <td style=\"padding-left: 1em; padding-right: 1em; text-align: center; vertical-align: top\">1</td>\n",
       "        <td style=\"padding-left: 1em; padding-right: 1em; text-align: center; vertical-align: top\">1</td>\n",
       "        <td style=\"padding-left: 1em; padding-right: 1em; text-align: center; vertical-align: top\">Futrelle, Mrs. Jacques<br>Heath (Lily May Peel) ...</td>\n",
       "        <td style=\"padding-left: 1em; padding-right: 1em; text-align: center; vertical-align: top\">female</td>\n",
       "        <td style=\"padding-left: 1em; padding-right: 1em; text-align: center; vertical-align: top\">35.0</td>\n",
       "        <td style=\"padding-left: 1em; padding-right: 1em; text-align: center; vertical-align: top\">1</td>\n",
       "        <td style=\"padding-left: 1em; padding-right: 1em; text-align: center; vertical-align: top\">0</td>\n",
       "        <td style=\"padding-left: 1em; padding-right: 1em; text-align: center; vertical-align: top\">113803</td>\n",
       "    </tr>\n",
       "    <tr>\n",
       "        <td style=\"padding-left: 1em; padding-right: 1em; text-align: center; vertical-align: top\">5</td>\n",
       "        <td style=\"padding-left: 1em; padding-right: 1em; text-align: center; vertical-align: top\">0</td>\n",
       "        <td style=\"padding-left: 1em; padding-right: 1em; text-align: center; vertical-align: top\">3</td>\n",
       "        <td style=\"padding-left: 1em; padding-right: 1em; text-align: center; vertical-align: top\">Allen, Mr. William Henry</td>\n",
       "        <td style=\"padding-left: 1em; padding-right: 1em; text-align: center; vertical-align: top\">male</td>\n",
       "        <td style=\"padding-left: 1em; padding-right: 1em; text-align: center; vertical-align: top\">35.0</td>\n",
       "        <td style=\"padding-left: 1em; padding-right: 1em; text-align: center; vertical-align: top\">0</td>\n",
       "        <td style=\"padding-left: 1em; padding-right: 1em; text-align: center; vertical-align: top\">0</td>\n",
       "        <td style=\"padding-left: 1em; padding-right: 1em; text-align: center; vertical-align: top\">373450</td>\n",
       "    </tr>\n",
       "    <tr>\n",
       "        <td style=\"padding-left: 1em; padding-right: 1em; text-align: center; vertical-align: top\">6</td>\n",
       "        <td style=\"padding-left: 1em; padding-right: 1em; text-align: center; vertical-align: top\">0</td>\n",
       "        <td style=\"padding-left: 1em; padding-right: 1em; text-align: center; vertical-align: top\">3</td>\n",
       "        <td style=\"padding-left: 1em; padding-right: 1em; text-align: center; vertical-align: top\">Moran, Mr. James</td>\n",
       "        <td style=\"padding-left: 1em; padding-right: 1em; text-align: center; vertical-align: top\">male</td>\n",
       "        <td style=\"padding-left: 1em; padding-right: 1em; text-align: center; vertical-align: top\">None</td>\n",
       "        <td style=\"padding-left: 1em; padding-right: 1em; text-align: center; vertical-align: top\">0</td>\n",
       "        <td style=\"padding-left: 1em; padding-right: 1em; text-align: center; vertical-align: top\">0</td>\n",
       "        <td style=\"padding-left: 1em; padding-right: 1em; text-align: center; vertical-align: top\">330877</td>\n",
       "    </tr>\n",
       "    <tr>\n",
       "        <td style=\"padding-left: 1em; padding-right: 1em; text-align: center; vertical-align: top\">7</td>\n",
       "        <td style=\"padding-left: 1em; padding-right: 1em; text-align: center; vertical-align: top\">0</td>\n",
       "        <td style=\"padding-left: 1em; padding-right: 1em; text-align: center; vertical-align: top\">1</td>\n",
       "        <td style=\"padding-left: 1em; padding-right: 1em; text-align: center; vertical-align: top\">McCarthy, Mr. Timothy J</td>\n",
       "        <td style=\"padding-left: 1em; padding-right: 1em; text-align: center; vertical-align: top\">male</td>\n",
       "        <td style=\"padding-left: 1em; padding-right: 1em; text-align: center; vertical-align: top\">54.0</td>\n",
       "        <td style=\"padding-left: 1em; padding-right: 1em; text-align: center; vertical-align: top\">0</td>\n",
       "        <td style=\"padding-left: 1em; padding-right: 1em; text-align: center; vertical-align: top\">0</td>\n",
       "        <td style=\"padding-left: 1em; padding-right: 1em; text-align: center; vertical-align: top\">17463</td>\n",
       "    </tr>\n",
       "    <tr>\n",
       "        <td style=\"padding-left: 1em; padding-right: 1em; text-align: center; vertical-align: top\">8</td>\n",
       "        <td style=\"padding-left: 1em; padding-right: 1em; text-align: center; vertical-align: top\">0</td>\n",
       "        <td style=\"padding-left: 1em; padding-right: 1em; text-align: center; vertical-align: top\">3</td>\n",
       "        <td style=\"padding-left: 1em; padding-right: 1em; text-align: center; vertical-align: top\">Palsson, Master. Gosta<br>Leonard ...</td>\n",
       "        <td style=\"padding-left: 1em; padding-right: 1em; text-align: center; vertical-align: top\">male</td>\n",
       "        <td style=\"padding-left: 1em; padding-right: 1em; text-align: center; vertical-align: top\">2.0</td>\n",
       "        <td style=\"padding-left: 1em; padding-right: 1em; text-align: center; vertical-align: top\">3</td>\n",
       "        <td style=\"padding-left: 1em; padding-right: 1em; text-align: center; vertical-align: top\">1</td>\n",
       "        <td style=\"padding-left: 1em; padding-right: 1em; text-align: center; vertical-align: top\">349909</td>\n",
       "    </tr>\n",
       "    <tr>\n",
       "        <td style=\"padding-left: 1em; padding-right: 1em; text-align: center; vertical-align: top\">9</td>\n",
       "        <td style=\"padding-left: 1em; padding-right: 1em; text-align: center; vertical-align: top\">1</td>\n",
       "        <td style=\"padding-left: 1em; padding-right: 1em; text-align: center; vertical-align: top\">3</td>\n",
       "        <td style=\"padding-left: 1em; padding-right: 1em; text-align: center; vertical-align: top\">Johnson, Mrs. Oscar W<br>(Elisabeth Vilhelmina ...</td>\n",
       "        <td style=\"padding-left: 1em; padding-right: 1em; text-align: center; vertical-align: top\">female</td>\n",
       "        <td style=\"padding-left: 1em; padding-right: 1em; text-align: center; vertical-align: top\">27.0</td>\n",
       "        <td style=\"padding-left: 1em; padding-right: 1em; text-align: center; vertical-align: top\">0</td>\n",
       "        <td style=\"padding-left: 1em; padding-right: 1em; text-align: center; vertical-align: top\">2</td>\n",
       "        <td style=\"padding-left: 1em; padding-right: 1em; text-align: center; vertical-align: top\">347742</td>\n",
       "    </tr>\n",
       "    <tr>\n",
       "        <td style=\"padding-left: 1em; padding-right: 1em; text-align: center; vertical-align: top\">10</td>\n",
       "        <td style=\"padding-left: 1em; padding-right: 1em; text-align: center; vertical-align: top\">1</td>\n",
       "        <td style=\"padding-left: 1em; padding-right: 1em; text-align: center; vertical-align: top\">2</td>\n",
       "        <td style=\"padding-left: 1em; padding-right: 1em; text-align: center; vertical-align: top\">Nasser, Mrs. Nicholas<br>(Adele Achem) ...</td>\n",
       "        <td style=\"padding-left: 1em; padding-right: 1em; text-align: center; vertical-align: top\">female</td>\n",
       "        <td style=\"padding-left: 1em; padding-right: 1em; text-align: center; vertical-align: top\">14.0</td>\n",
       "        <td style=\"padding-left: 1em; padding-right: 1em; text-align: center; vertical-align: top\">1</td>\n",
       "        <td style=\"padding-left: 1em; padding-right: 1em; text-align: center; vertical-align: top\">0</td>\n",
       "        <td style=\"padding-left: 1em; padding-right: 1em; text-align: center; vertical-align: top\">237736</td>\n",
       "    </tr>\n",
       "</table>\n",
       "<table frame=\"box\" rules=\"cols\">\n",
       "    <tr>\n",
       "        <th style=\"padding-left: 1em; padding-right: 1em; text-align: center\">Fare</th>\n",
       "        <th style=\"padding-left: 1em; padding-right: 1em; text-align: center\">Cabin</th>\n",
       "        <th style=\"padding-left: 1em; padding-right: 1em; text-align: center\">Embarked</th>\n",
       "    </tr>\n",
       "    <tr>\n",
       "        <td style=\"padding-left: 1em; padding-right: 1em; text-align: center; vertical-align: top\">7.25</td>\n",
       "        <td style=\"padding-left: 1em; padding-right: 1em; text-align: center; vertical-align: top\"></td>\n",
       "        <td style=\"padding-left: 1em; padding-right: 1em; text-align: center; vertical-align: top\">S</td>\n",
       "    </tr>\n",
       "    <tr>\n",
       "        <td style=\"padding-left: 1em; padding-right: 1em; text-align: center; vertical-align: top\">71.2833</td>\n",
       "        <td style=\"padding-left: 1em; padding-right: 1em; text-align: center; vertical-align: top\">C85</td>\n",
       "        <td style=\"padding-left: 1em; padding-right: 1em; text-align: center; vertical-align: top\">C</td>\n",
       "    </tr>\n",
       "    <tr>\n",
       "        <td style=\"padding-left: 1em; padding-right: 1em; text-align: center; vertical-align: top\">7.925</td>\n",
       "        <td style=\"padding-left: 1em; padding-right: 1em; text-align: center; vertical-align: top\"></td>\n",
       "        <td style=\"padding-left: 1em; padding-right: 1em; text-align: center; vertical-align: top\">S</td>\n",
       "    </tr>\n",
       "    <tr>\n",
       "        <td style=\"padding-left: 1em; padding-right: 1em; text-align: center; vertical-align: top\">53.1</td>\n",
       "        <td style=\"padding-left: 1em; padding-right: 1em; text-align: center; vertical-align: top\">C123</td>\n",
       "        <td style=\"padding-left: 1em; padding-right: 1em; text-align: center; vertical-align: top\">S</td>\n",
       "    </tr>\n",
       "    <tr>\n",
       "        <td style=\"padding-left: 1em; padding-right: 1em; text-align: center; vertical-align: top\">8.05</td>\n",
       "        <td style=\"padding-left: 1em; padding-right: 1em; text-align: center; vertical-align: top\"></td>\n",
       "        <td style=\"padding-left: 1em; padding-right: 1em; text-align: center; vertical-align: top\">S</td>\n",
       "    </tr>\n",
       "    <tr>\n",
       "        <td style=\"padding-left: 1em; padding-right: 1em; text-align: center; vertical-align: top\">8.4583</td>\n",
       "        <td style=\"padding-left: 1em; padding-right: 1em; text-align: center; vertical-align: top\"></td>\n",
       "        <td style=\"padding-left: 1em; padding-right: 1em; text-align: center; vertical-align: top\">Q</td>\n",
       "    </tr>\n",
       "    <tr>\n",
       "        <td style=\"padding-left: 1em; padding-right: 1em; text-align: center; vertical-align: top\">51.8625</td>\n",
       "        <td style=\"padding-left: 1em; padding-right: 1em; text-align: center; vertical-align: top\">E46</td>\n",
       "        <td style=\"padding-left: 1em; padding-right: 1em; text-align: center; vertical-align: top\">S</td>\n",
       "    </tr>\n",
       "    <tr>\n",
       "        <td style=\"padding-left: 1em; padding-right: 1em; text-align: center; vertical-align: top\">21.075</td>\n",
       "        <td style=\"padding-left: 1em; padding-right: 1em; text-align: center; vertical-align: top\"></td>\n",
       "        <td style=\"padding-left: 1em; padding-right: 1em; text-align: center; vertical-align: top\">S</td>\n",
       "    </tr>\n",
       "    <tr>\n",
       "        <td style=\"padding-left: 1em; padding-right: 1em; text-align: center; vertical-align: top\">11.1333</td>\n",
       "        <td style=\"padding-left: 1em; padding-right: 1em; text-align: center; vertical-align: top\"></td>\n",
       "        <td style=\"padding-left: 1em; padding-right: 1em; text-align: center; vertical-align: top\">S</td>\n",
       "    </tr>\n",
       "    <tr>\n",
       "        <td style=\"padding-left: 1em; padding-right: 1em; text-align: center; vertical-align: top\">30.0708</td>\n",
       "        <td style=\"padding-left: 1em; padding-right: 1em; text-align: center; vertical-align: top\"></td>\n",
       "        <td style=\"padding-left: 1em; padding-right: 1em; text-align: center; vertical-align: top\">C</td>\n",
       "    </tr>\n",
       "</table>\n",
       "[10 rows x 12 columns]<br/>\n",
       "</div>"
      ],
      "text/plain": [
       "Columns:\n",
       "\tPassengerId\tint\n",
       "\tSurvived\tint\n",
       "\tPclass\tint\n",
       "\tName\tstr\n",
       "\tSex\tstr\n",
       "\tAge\tfloat\n",
       "\tSibSp\tint\n",
       "\tParch\tint\n",
       "\tTicket\tstr\n",
       "\tFare\tfloat\n",
       "\tCabin\tstr\n",
       "\tEmbarked\tstr\n",
       "\n",
       "Rows: 10\n",
       "\n",
       "Data:\n",
       "+-------------+----------+--------+--------------------------------+--------+\n",
       "| PassengerId | Survived | Pclass |              Name              |  Sex   |\n",
       "+-------------+----------+--------+--------------------------------+--------+\n",
       "|      1      |    0     |   3    |    Braund, Mr. Owen Harris     |  male  |\n",
       "|      2      |    1     |   1    | Cumings, Mrs. John Bradley...  | female |\n",
       "|      3      |    1     |   3    |     Heikkinen, Miss. Laina     | female |\n",
       "|      4      |    1     |   1    | Futrelle, Mrs. Jacques Hea...  | female |\n",
       "|      5      |    0     |   3    |    Allen, Mr. William Henry    |  male  |\n",
       "|      6      |    0     |   3    |        Moran, Mr. James        |  male  |\n",
       "|      7      |    0     |   1    |    McCarthy, Mr. Timothy J     |  male  |\n",
       "|      8      |    0     |   3    | Palsson, Master. Gosta Leonard |  male  |\n",
       "|      9      |    1     |   3    | Johnson, Mrs. Oscar W (Eli...  | female |\n",
       "|      10     |    1     |   2    | Nasser, Mrs. Nicholas (Ade...  | female |\n",
       "+-------------+----------+--------+--------------------------------+--------+\n",
       "+------+-------+-------+------------------+---------+-------+----------+\n",
       "| Age  | SibSp | Parch |      Ticket      |   Fare  | Cabin | Embarked |\n",
       "+------+-------+-------+------------------+---------+-------+----------+\n",
       "| 22.0 |   1   |   0   |    A/5 21171     |   7.25  |       |    S     |\n",
       "| 38.0 |   1   |   0   |     PC 17599     | 71.2833 |  C85  |    C     |\n",
       "| 26.0 |   0   |   0   | STON/O2. 3101282 |  7.925  |       |    S     |\n",
       "| 35.0 |   1   |   0   |      113803      |   53.1  |  C123 |    S     |\n",
       "| 35.0 |   0   |   0   |      373450      |   8.05  |       |    S     |\n",
       "| None |   0   |   0   |      330877      |  8.4583 |       |    Q     |\n",
       "| 54.0 |   0   |   0   |      17463       | 51.8625 |  E46  |    S     |\n",
       "| 2.0  |   3   |   1   |      349909      |  21.075 |       |    S     |\n",
       "| 27.0 |   0   |   2   |      347742      | 11.1333 |       |    S     |\n",
       "| 14.0 |   1   |   0   |      237736      | 30.0708 |       |    C     |\n",
       "+------+-------+-------+------------------+---------+-------+----------+\n",
       "[10 rows x 12 columns]"
      ]
     },
     "execution_count": 30,
     "metadata": {},
     "output_type": "execute_result"
    }
   ],
   "source": [
    "full_train_data.head()"
   ]
  },
  {
   "cell_type": "code",
   "execution_count": 31,
   "metadata": {},
   "outputs": [
    {
     "data": {
      "text/html": [
       "<div style=\"max-height:1000px;max-width:1500px;overflow:auto;\"><table frame=\"box\" rules=\"cols\">\n",
       "    <tr>\n",
       "        <th style=\"padding-left: 1em; padding-right: 1em; text-align: center\">PassengerId</th>\n",
       "        <th style=\"padding-left: 1em; padding-right: 1em; text-align: center\">Pclass</th>\n",
       "        <th style=\"padding-left: 1em; padding-right: 1em; text-align: center\">Name</th>\n",
       "        <th style=\"padding-left: 1em; padding-right: 1em; text-align: center\">Sex</th>\n",
       "        <th style=\"padding-left: 1em; padding-right: 1em; text-align: center\">Age</th>\n",
       "        <th style=\"padding-left: 1em; padding-right: 1em; text-align: center\">SibSp</th>\n",
       "        <th style=\"padding-left: 1em; padding-right: 1em; text-align: center\">Parch</th>\n",
       "        <th style=\"padding-left: 1em; padding-right: 1em; text-align: center\">Ticket</th>\n",
       "        <th style=\"padding-left: 1em; padding-right: 1em; text-align: center\">Fare</th>\n",
       "        <th style=\"padding-left: 1em; padding-right: 1em; text-align: center\">Cabin</th>\n",
       "        <th style=\"padding-left: 1em; padding-right: 1em; text-align: center\">Embarked</th>\n",
       "    </tr>\n",
       "    <tr>\n",
       "        <td style=\"padding-left: 1em; padding-right: 1em; text-align: center; vertical-align: top\">892</td>\n",
       "        <td style=\"padding-left: 1em; padding-right: 1em; text-align: center; vertical-align: top\">3</td>\n",
       "        <td style=\"padding-left: 1em; padding-right: 1em; text-align: center; vertical-align: top\">Kelly, Mr. James</td>\n",
       "        <td style=\"padding-left: 1em; padding-right: 1em; text-align: center; vertical-align: top\">male</td>\n",
       "        <td style=\"padding-left: 1em; padding-right: 1em; text-align: center; vertical-align: top\">34.5</td>\n",
       "        <td style=\"padding-left: 1em; padding-right: 1em; text-align: center; vertical-align: top\">0</td>\n",
       "        <td style=\"padding-left: 1em; padding-right: 1em; text-align: center; vertical-align: top\">0</td>\n",
       "        <td style=\"padding-left: 1em; padding-right: 1em; text-align: center; vertical-align: top\">330911</td>\n",
       "        <td style=\"padding-left: 1em; padding-right: 1em; text-align: center; vertical-align: top\">7.8292</td>\n",
       "        <td style=\"padding-left: 1em; padding-right: 1em; text-align: center; vertical-align: top\"></td>\n",
       "        <td style=\"padding-left: 1em; padding-right: 1em; text-align: center; vertical-align: top\">Q</td>\n",
       "    </tr>\n",
       "    <tr>\n",
       "        <td style=\"padding-left: 1em; padding-right: 1em; text-align: center; vertical-align: top\">893</td>\n",
       "        <td style=\"padding-left: 1em; padding-right: 1em; text-align: center; vertical-align: top\">3</td>\n",
       "        <td style=\"padding-left: 1em; padding-right: 1em; text-align: center; vertical-align: top\">Wilkes, Mrs. James (Ellen<br>Needs) ...</td>\n",
       "        <td style=\"padding-left: 1em; padding-right: 1em; text-align: center; vertical-align: top\">female</td>\n",
       "        <td style=\"padding-left: 1em; padding-right: 1em; text-align: center; vertical-align: top\">47.0</td>\n",
       "        <td style=\"padding-left: 1em; padding-right: 1em; text-align: center; vertical-align: top\">1</td>\n",
       "        <td style=\"padding-left: 1em; padding-right: 1em; text-align: center; vertical-align: top\">0</td>\n",
       "        <td style=\"padding-left: 1em; padding-right: 1em; text-align: center; vertical-align: top\">363272</td>\n",
       "        <td style=\"padding-left: 1em; padding-right: 1em; text-align: center; vertical-align: top\">7.0</td>\n",
       "        <td style=\"padding-left: 1em; padding-right: 1em; text-align: center; vertical-align: top\"></td>\n",
       "        <td style=\"padding-left: 1em; padding-right: 1em; text-align: center; vertical-align: top\">S</td>\n",
       "    </tr>\n",
       "    <tr>\n",
       "        <td style=\"padding-left: 1em; padding-right: 1em; text-align: center; vertical-align: top\">894</td>\n",
       "        <td style=\"padding-left: 1em; padding-right: 1em; text-align: center; vertical-align: top\">2</td>\n",
       "        <td style=\"padding-left: 1em; padding-right: 1em; text-align: center; vertical-align: top\">Myles, Mr. Thomas Francis</td>\n",
       "        <td style=\"padding-left: 1em; padding-right: 1em; text-align: center; vertical-align: top\">male</td>\n",
       "        <td style=\"padding-left: 1em; padding-right: 1em; text-align: center; vertical-align: top\">62.0</td>\n",
       "        <td style=\"padding-left: 1em; padding-right: 1em; text-align: center; vertical-align: top\">0</td>\n",
       "        <td style=\"padding-left: 1em; padding-right: 1em; text-align: center; vertical-align: top\">0</td>\n",
       "        <td style=\"padding-left: 1em; padding-right: 1em; text-align: center; vertical-align: top\">240276</td>\n",
       "        <td style=\"padding-left: 1em; padding-right: 1em; text-align: center; vertical-align: top\">9.6875</td>\n",
       "        <td style=\"padding-left: 1em; padding-right: 1em; text-align: center; vertical-align: top\"></td>\n",
       "        <td style=\"padding-left: 1em; padding-right: 1em; text-align: center; vertical-align: top\">Q</td>\n",
       "    </tr>\n",
       "    <tr>\n",
       "        <td style=\"padding-left: 1em; padding-right: 1em; text-align: center; vertical-align: top\">895</td>\n",
       "        <td style=\"padding-left: 1em; padding-right: 1em; text-align: center; vertical-align: top\">3</td>\n",
       "        <td style=\"padding-left: 1em; padding-right: 1em; text-align: center; vertical-align: top\">Wirz, Mr. Albert</td>\n",
       "        <td style=\"padding-left: 1em; padding-right: 1em; text-align: center; vertical-align: top\">male</td>\n",
       "        <td style=\"padding-left: 1em; padding-right: 1em; text-align: center; vertical-align: top\">27.0</td>\n",
       "        <td style=\"padding-left: 1em; padding-right: 1em; text-align: center; vertical-align: top\">0</td>\n",
       "        <td style=\"padding-left: 1em; padding-right: 1em; text-align: center; vertical-align: top\">0</td>\n",
       "        <td style=\"padding-left: 1em; padding-right: 1em; text-align: center; vertical-align: top\">315154</td>\n",
       "        <td style=\"padding-left: 1em; padding-right: 1em; text-align: center; vertical-align: top\">8.6625</td>\n",
       "        <td style=\"padding-left: 1em; padding-right: 1em; text-align: center; vertical-align: top\"></td>\n",
       "        <td style=\"padding-left: 1em; padding-right: 1em; text-align: center; vertical-align: top\">S</td>\n",
       "    </tr>\n",
       "    <tr>\n",
       "        <td style=\"padding-left: 1em; padding-right: 1em; text-align: center; vertical-align: top\">896</td>\n",
       "        <td style=\"padding-left: 1em; padding-right: 1em; text-align: center; vertical-align: top\">3</td>\n",
       "        <td style=\"padding-left: 1em; padding-right: 1em; text-align: center; vertical-align: top\">Hirvonen, Mrs. Alexander<br>(Helga E Lindqvist) ...</td>\n",
       "        <td style=\"padding-left: 1em; padding-right: 1em; text-align: center; vertical-align: top\">female</td>\n",
       "        <td style=\"padding-left: 1em; padding-right: 1em; text-align: center; vertical-align: top\">22.0</td>\n",
       "        <td style=\"padding-left: 1em; padding-right: 1em; text-align: center; vertical-align: top\">1</td>\n",
       "        <td style=\"padding-left: 1em; padding-right: 1em; text-align: center; vertical-align: top\">1</td>\n",
       "        <td style=\"padding-left: 1em; padding-right: 1em; text-align: center; vertical-align: top\">3101298</td>\n",
       "        <td style=\"padding-left: 1em; padding-right: 1em; text-align: center; vertical-align: top\">12.2875</td>\n",
       "        <td style=\"padding-left: 1em; padding-right: 1em; text-align: center; vertical-align: top\"></td>\n",
       "        <td style=\"padding-left: 1em; padding-right: 1em; text-align: center; vertical-align: top\">S</td>\n",
       "    </tr>\n",
       "    <tr>\n",
       "        <td style=\"padding-left: 1em; padding-right: 1em; text-align: center; vertical-align: top\">897</td>\n",
       "        <td style=\"padding-left: 1em; padding-right: 1em; text-align: center; vertical-align: top\">3</td>\n",
       "        <td style=\"padding-left: 1em; padding-right: 1em; text-align: center; vertical-align: top\">Svensson, Mr. Johan<br>Cervin ...</td>\n",
       "        <td style=\"padding-left: 1em; padding-right: 1em; text-align: center; vertical-align: top\">male</td>\n",
       "        <td style=\"padding-left: 1em; padding-right: 1em; text-align: center; vertical-align: top\">14.0</td>\n",
       "        <td style=\"padding-left: 1em; padding-right: 1em; text-align: center; vertical-align: top\">0</td>\n",
       "        <td style=\"padding-left: 1em; padding-right: 1em; text-align: center; vertical-align: top\">0</td>\n",
       "        <td style=\"padding-left: 1em; padding-right: 1em; text-align: center; vertical-align: top\">7538</td>\n",
       "        <td style=\"padding-left: 1em; padding-right: 1em; text-align: center; vertical-align: top\">9.225</td>\n",
       "        <td style=\"padding-left: 1em; padding-right: 1em; text-align: center; vertical-align: top\"></td>\n",
       "        <td style=\"padding-left: 1em; padding-right: 1em; text-align: center; vertical-align: top\">S</td>\n",
       "    </tr>\n",
       "    <tr>\n",
       "        <td style=\"padding-left: 1em; padding-right: 1em; text-align: center; vertical-align: top\">898</td>\n",
       "        <td style=\"padding-left: 1em; padding-right: 1em; text-align: center; vertical-align: top\">3</td>\n",
       "        <td style=\"padding-left: 1em; padding-right: 1em; text-align: center; vertical-align: top\">Connolly, Miss. Kate</td>\n",
       "        <td style=\"padding-left: 1em; padding-right: 1em; text-align: center; vertical-align: top\">female</td>\n",
       "        <td style=\"padding-left: 1em; padding-right: 1em; text-align: center; vertical-align: top\">30.0</td>\n",
       "        <td style=\"padding-left: 1em; padding-right: 1em; text-align: center; vertical-align: top\">0</td>\n",
       "        <td style=\"padding-left: 1em; padding-right: 1em; text-align: center; vertical-align: top\">0</td>\n",
       "        <td style=\"padding-left: 1em; padding-right: 1em; text-align: center; vertical-align: top\">330972</td>\n",
       "        <td style=\"padding-left: 1em; padding-right: 1em; text-align: center; vertical-align: top\">7.6292</td>\n",
       "        <td style=\"padding-left: 1em; padding-right: 1em; text-align: center; vertical-align: top\"></td>\n",
       "        <td style=\"padding-left: 1em; padding-right: 1em; text-align: center; vertical-align: top\">Q</td>\n",
       "    </tr>\n",
       "    <tr>\n",
       "        <td style=\"padding-left: 1em; padding-right: 1em; text-align: center; vertical-align: top\">899</td>\n",
       "        <td style=\"padding-left: 1em; padding-right: 1em; text-align: center; vertical-align: top\">2</td>\n",
       "        <td style=\"padding-left: 1em; padding-right: 1em; text-align: center; vertical-align: top\">Caldwell, Mr. Albert<br>Francis ...</td>\n",
       "        <td style=\"padding-left: 1em; padding-right: 1em; text-align: center; vertical-align: top\">male</td>\n",
       "        <td style=\"padding-left: 1em; padding-right: 1em; text-align: center; vertical-align: top\">26.0</td>\n",
       "        <td style=\"padding-left: 1em; padding-right: 1em; text-align: center; vertical-align: top\">1</td>\n",
       "        <td style=\"padding-left: 1em; padding-right: 1em; text-align: center; vertical-align: top\">1</td>\n",
       "        <td style=\"padding-left: 1em; padding-right: 1em; text-align: center; vertical-align: top\">248738</td>\n",
       "        <td style=\"padding-left: 1em; padding-right: 1em; text-align: center; vertical-align: top\">29.0</td>\n",
       "        <td style=\"padding-left: 1em; padding-right: 1em; text-align: center; vertical-align: top\"></td>\n",
       "        <td style=\"padding-left: 1em; padding-right: 1em; text-align: center; vertical-align: top\">S</td>\n",
       "    </tr>\n",
       "    <tr>\n",
       "        <td style=\"padding-left: 1em; padding-right: 1em; text-align: center; vertical-align: top\">900</td>\n",
       "        <td style=\"padding-left: 1em; padding-right: 1em; text-align: center; vertical-align: top\">3</td>\n",
       "        <td style=\"padding-left: 1em; padding-right: 1em; text-align: center; vertical-align: top\">Abrahim, Mrs. Joseph<br>(Sophie Halaut Easu) ...</td>\n",
       "        <td style=\"padding-left: 1em; padding-right: 1em; text-align: center; vertical-align: top\">female</td>\n",
       "        <td style=\"padding-left: 1em; padding-right: 1em; text-align: center; vertical-align: top\">18.0</td>\n",
       "        <td style=\"padding-left: 1em; padding-right: 1em; text-align: center; vertical-align: top\">0</td>\n",
       "        <td style=\"padding-left: 1em; padding-right: 1em; text-align: center; vertical-align: top\">0</td>\n",
       "        <td style=\"padding-left: 1em; padding-right: 1em; text-align: center; vertical-align: top\">2657</td>\n",
       "        <td style=\"padding-left: 1em; padding-right: 1em; text-align: center; vertical-align: top\">7.2292</td>\n",
       "        <td style=\"padding-left: 1em; padding-right: 1em; text-align: center; vertical-align: top\"></td>\n",
       "        <td style=\"padding-left: 1em; padding-right: 1em; text-align: center; vertical-align: top\">C</td>\n",
       "    </tr>\n",
       "    <tr>\n",
       "        <td style=\"padding-left: 1em; padding-right: 1em; text-align: center; vertical-align: top\">901</td>\n",
       "        <td style=\"padding-left: 1em; padding-right: 1em; text-align: center; vertical-align: top\">3</td>\n",
       "        <td style=\"padding-left: 1em; padding-right: 1em; text-align: center; vertical-align: top\">Davies, Mr. John Samuel</td>\n",
       "        <td style=\"padding-left: 1em; padding-right: 1em; text-align: center; vertical-align: top\">male</td>\n",
       "        <td style=\"padding-left: 1em; padding-right: 1em; text-align: center; vertical-align: top\">21.0</td>\n",
       "        <td style=\"padding-left: 1em; padding-right: 1em; text-align: center; vertical-align: top\">2</td>\n",
       "        <td style=\"padding-left: 1em; padding-right: 1em; text-align: center; vertical-align: top\">0</td>\n",
       "        <td style=\"padding-left: 1em; padding-right: 1em; text-align: center; vertical-align: top\">A/4 48871</td>\n",
       "        <td style=\"padding-left: 1em; padding-right: 1em; text-align: center; vertical-align: top\">24.15</td>\n",
       "        <td style=\"padding-left: 1em; padding-right: 1em; text-align: center; vertical-align: top\"></td>\n",
       "        <td style=\"padding-left: 1em; padding-right: 1em; text-align: center; vertical-align: top\">S</td>\n",
       "    </tr>\n",
       "</table>\n",
       "[10 rows x 11 columns]<br/>\n",
       "</div>"
      ],
      "text/plain": [
       "Columns:\n",
       "\tPassengerId\tint\n",
       "\tPclass\tint\n",
       "\tName\tstr\n",
       "\tSex\tstr\n",
       "\tAge\tfloat\n",
       "\tSibSp\tint\n",
       "\tParch\tint\n",
       "\tTicket\tstr\n",
       "\tFare\tfloat\n",
       "\tCabin\tstr\n",
       "\tEmbarked\tstr\n",
       "\n",
       "Rows: 10\n",
       "\n",
       "Data:\n",
       "+-------------+--------+-------------------------------+--------+------+-------+\n",
       "| PassengerId | Pclass |              Name             |  Sex   | Age  | SibSp |\n",
       "+-------------+--------+-------------------------------+--------+------+-------+\n",
       "|     892     |   3    |        Kelly, Mr. James       |  male  | 34.5 |   0   |\n",
       "|     893     |   3    | Wilkes, Mrs. James (Ellen ... | female | 47.0 |   1   |\n",
       "|     894     |   2    |   Myles, Mr. Thomas Francis   |  male  | 62.0 |   0   |\n",
       "|     895     |   3    |        Wirz, Mr. Albert       |  male  | 27.0 |   0   |\n",
       "|     896     |   3    | Hirvonen, Mrs. Alexander (... | female | 22.0 |   1   |\n",
       "|     897     |   3    |   Svensson, Mr. Johan Cervin  |  male  | 14.0 |   0   |\n",
       "|     898     |   3    |      Connolly, Miss. Kate     | female | 30.0 |   0   |\n",
       "|     899     |   2    |  Caldwell, Mr. Albert Francis |  male  | 26.0 |   1   |\n",
       "|     900     |   3    | Abrahim, Mrs. Joseph (Soph... | female | 18.0 |   0   |\n",
       "|     901     |   3    |    Davies, Mr. John Samuel    |  male  | 21.0 |   2   |\n",
       "+-------------+--------+-------------------------------+--------+------+-------+\n",
       "+-------+-----------+---------+-------+----------+\n",
       "| Parch |   Ticket  |   Fare  | Cabin | Embarked |\n",
       "+-------+-----------+---------+-------+----------+\n",
       "|   0   |   330911  |  7.8292 |       |    Q     |\n",
       "|   0   |   363272  |   7.0   |       |    S     |\n",
       "|   0   |   240276  |  9.6875 |       |    Q     |\n",
       "|   0   |   315154  |  8.6625 |       |    S     |\n",
       "|   1   |  3101298  | 12.2875 |       |    S     |\n",
       "|   0   |    7538   |  9.225  |       |    S     |\n",
       "|   0   |   330972  |  7.6292 |       |    Q     |\n",
       "|   1   |   248738  |   29.0  |       |    S     |\n",
       "|   0   |    2657   |  7.2292 |       |    C     |\n",
       "|   0   | A/4 48871 |  24.15  |       |    S     |\n",
       "+-------+-----------+---------+-------+----------+\n",
       "[10 rows x 11 columns]"
      ]
     },
     "execution_count": 31,
     "metadata": {},
     "output_type": "execute_result"
    }
   ],
   "source": [
    "test_data.head()"
   ]
  },
  {
   "cell_type": "markdown",
   "metadata": {},
   "source": [
    "show 메소드를 이용해서 데이터의 분포를 확인합시다.\n",
    "\n",
    "    SArray.show(view=뷰유형)"
   ]
  },
  {
   "cell_type": "code",
   "execution_count": 32,
   "metadata": {},
   "outputs": [
    {
     "data": {
      "application/javascript": [
       "$(\"head\").append($(\"<link/>\").attr({\n",
       "  rel:  \"stylesheet\",\n",
       "  type: \"text/css\",\n",
       "  href: \"//cdnjs.cloudflare.com/ajax/libs/font-awesome/4.1.0/css/font-awesome.min.css\"\n",
       "}));\n",
       "$(\"head\").append($(\"<link/>\").attr({\n",
       "  rel:  \"stylesheet\",\n",
       "  type: \"text/css\",\n",
       "  href: \"https://static.turi.com/products/graphlab-create/2.1/canvas/css/canvas.css\"\n",
       "}));\n",
       "\n",
       "            (function(){\n",
       "\n",
       "                var e = null;\n",
       "                if (typeof element == 'undefined') {\n",
       "                    var scripts = document.getElementsByTagName('script');\n",
       "                    var thisScriptTag = scripts[scripts.length-1];\n",
       "                    var parentDiv = thisScriptTag.parentNode;\n",
       "                    e = document.createElement('div');\n",
       "                    parentDiv.appendChild(e);\n",
       "                } else {\n",
       "                    e = element[0];\n",
       "                }\n",
       "\n",
       "                if (typeof requirejs !== 'undefined') {\n",
       "                    // disable load timeout; ipython_app.js is large and can take a while to load.\n",
       "                    requirejs.config({waitSeconds: 0});\n",
       "                }\n",
       "\n",
       "                require(['https://static.turi.com/products/graphlab-create/2.1/canvas/js/ipython_app.js'], function(IPythonApp){\n",
       "                    var app = new IPythonApp();\n",
       "                    app.attachView('sarray','Categorical', {\"ipython\": true, \"sketch\": {\"std\": 0.8356019334795168, \"complete\": true, \"min\": 1.0, \"max\": 3.0, \"quantile\": [1.0, 1.0, 1.0, 1.0, 1.0, 1.0, 1.0, 1.0, 1.0, 1.0, 1.0, 1.0, 1.0, 1.0, 1.0, 1.0, 1.0, 1.0, 1.0, 1.0, 1.0, 1.0, 1.0, 1.0, 1.0, 2.0, 2.0, 2.0, 2.0, 2.0, 2.0, 2.0, 2.0, 2.0, 2.0, 2.0, 2.0, 2.0, 2.0, 2.0, 2.0, 2.0, 2.0, 2.0, 2.0, 3.0, 3.0, 3.0, 3.0, 3.0, 3.0, 3.0, 3.0, 3.0, 3.0, 3.0, 3.0, 3.0, 3.0, 3.0, 3.0, 3.0, 3.0, 3.0, 3.0, 3.0, 3.0, 3.0, 3.0, 3.0, 3.0, 3.0, 3.0, 3.0, 3.0, 3.0, 3.0, 3.0, 3.0, 3.0, 3.0, 3.0, 3.0, 3.0, 3.0, 3.0, 3.0, 3.0, 3.0, 3.0, 3.0, 3.0, 3.0, 3.0, 3.0, 3.0, 3.0, 3.0, 3.0, 3.0, 3.0], \"median\": 3.0, \"numeric\": true, \"num_unique\": 3, \"num_undefined\": 0, \"var\": 0.6982305912347069, \"progress\": 1.0, \"size\": 891, \"frequent_items\": {\"1\": {\"frequency\": 216, \"value\": 1}, \"2\": {\"frequency\": 184, \"value\": 2}, \"3\": {\"frequency\": 491, \"value\": 3}}, \"mean\": 2.3086419753086425}, \"selected_variable\": {\"name\": [\"<SArray>\"], \"dtype\": \"int\", \"view_component\": \"Categorical\", \"view_file\": \"sarray\", \"descriptives\": {\"rows\": 891}, \"type\": \"SArray\", \"view_components\": [\"Numeric\", \"Categorical\"]}, \"histogram\": {\"progress\": 1.0, \"histogram\": {\"max\": 3.0, \"bins\": [216, 0, 0, 0, 0, 0, 184, 0, 0, 0, 0, 491], \"min\": 1.0}, \"min\": 1, \"complete\": 1, \"max\": 3}}, e);\n",
       "                });\n",
       "            })();\n",
       "        "
      ]
     },
     "metadata": {},
     "output_type": "display_data"
    },
    {
     "data": {
      "application/javascript": [
       "$(\"head\").append($(\"<link/>\").attr({\n",
       "  rel:  \"stylesheet\",\n",
       "  type: \"text/css\",\n",
       "  href: \"//cdnjs.cloudflare.com/ajax/libs/font-awesome/4.1.0/css/font-awesome.min.css\"\n",
       "}));\n",
       "$(\"head\").append($(\"<link/>\").attr({\n",
       "  rel:  \"stylesheet\",\n",
       "  type: \"text/css\",\n",
       "  href: \"https://static.turi.com/products/graphlab-create/2.1/canvas/css/canvas.css\"\n",
       "}));\n",
       "\n",
       "            (function(){\n",
       "\n",
       "                var e = null;\n",
       "                if (typeof element == 'undefined') {\n",
       "                    var scripts = document.getElementsByTagName('script');\n",
       "                    var thisScriptTag = scripts[scripts.length-1];\n",
       "                    var parentDiv = thisScriptTag.parentNode;\n",
       "                    e = document.createElement('div');\n",
       "                    parentDiv.appendChild(e);\n",
       "                } else {\n",
       "                    e = element[0];\n",
       "                }\n",
       "\n",
       "                if (typeof requirejs !== 'undefined') {\n",
       "                    // disable load timeout; ipython_app.js is large and can take a while to load.\n",
       "                    requirejs.config({waitSeconds: 0});\n",
       "                }\n",
       "\n",
       "                require(['https://static.turi.com/products/graphlab-create/2.1/canvas/js/ipython_app.js'], function(IPythonApp){\n",
       "                    var app = new IPythonApp();\n",
       "                    app.attachView('sarray','Categorical', {\"ipython\": true, \"sketch\": {\"std\": 0.8408299662625103, \"complete\": true, \"min\": 1.0, \"max\": 3.0, \"quantile\": [1.0, 1.0, 1.0, 1.0, 1.0, 1.0, 1.0, 1.0, 1.0, 1.0, 1.0, 1.0, 1.0, 1.0, 1.0, 1.0, 1.0, 1.0, 1.0, 1.0, 1.0, 1.0, 1.0, 1.0, 1.0, 1.0, 2.0, 2.0, 2.0, 2.0, 2.0, 2.0, 2.0, 2.0, 2.0, 2.0, 2.0, 2.0, 2.0, 2.0, 2.0, 2.0, 2.0, 2.0, 2.0, 2.0, 2.0, 2.0, 3.0, 3.0, 3.0, 3.0, 3.0, 3.0, 3.0, 3.0, 3.0, 3.0, 3.0, 3.0, 3.0, 3.0, 3.0, 3.0, 3.0, 3.0, 3.0, 3.0, 3.0, 3.0, 3.0, 3.0, 3.0, 3.0, 3.0, 3.0, 3.0, 3.0, 3.0, 3.0, 3.0, 3.0, 3.0, 3.0, 3.0, 3.0, 3.0, 3.0, 3.0, 3.0, 3.0, 3.0, 3.0, 3.0, 3.0, 3.0, 3.0, 3.0, 3.0, 3.0, 3.0], \"median\": 3.0, \"numeric\": true, \"num_unique\": 3, \"num_undefined\": 0, \"var\": 0.7069950321650142, \"progress\": 1.0, \"size\": 418, \"frequent_items\": {\"1\": {\"frequency\": 107, \"value\": 1}, \"2\": {\"frequency\": 93, \"value\": 2}, \"3\": {\"frequency\": 218, \"value\": 3}}, \"mean\": 2.2655502392344498}, \"selected_variable\": {\"name\": [\"<SArray>\"], \"dtype\": \"int\", \"view_component\": \"Categorical\", \"view_file\": \"sarray\", \"descriptives\": {\"rows\": 418}, \"type\": \"SArray\", \"view_components\": [\"Numeric\", \"Categorical\"]}, \"histogram\": {\"progress\": 1.0, \"histogram\": {\"max\": 3.0150000000000006, \"bins\": [107, 0, 0, 0, 0, 93, 0, 0, 0, 0, 0, 218], \"min\": 0.9874799999999833}, \"min\": 1, \"complete\": 1, \"max\": 3}}, e);\n",
       "                });\n",
       "            })();\n",
       "        "
      ]
     },
     "metadata": {},
     "output_type": "display_data"
    }
   ],
   "source": [
    "full_train_data['Pclass'].show(view='Categorical')\n",
    "test_data['Pclass'].show(view='Categorical')"
   ]
  },
  {
   "cell_type": "markdown",
   "metadata": {},
   "source": [
    "값이 없는 데이터가 있는지 확인합시다.\n",
    "\n",
    "힌트: None을 이용하면 됩니다.\n",
    "\n",
    "항상 full_train_data와 test_data 모두를 확인해야 합니다. 왜일까요?"
   ]
  },
  {
   "cell_type": "code",
   "execution_count": 33,
   "metadata": {},
   "outputs": [
    {
     "data": {
      "application/javascript": [
       "$(\"head\").append($(\"<link/>\").attr({\n",
       "  rel:  \"stylesheet\",\n",
       "  type: \"text/css\",\n",
       "  href: \"//cdnjs.cloudflare.com/ajax/libs/font-awesome/4.1.0/css/font-awesome.min.css\"\n",
       "}));\n",
       "$(\"head\").append($(\"<link/>\").attr({\n",
       "  rel:  \"stylesheet\",\n",
       "  type: \"text/css\",\n",
       "  href: \"https://static.turi.com/products/graphlab-create/2.1/canvas/css/canvas.css\"\n",
       "}));\n",
       "\n",
       "            (function(){\n",
       "\n",
       "                var e = null;\n",
       "                if (typeof element == 'undefined') {\n",
       "                    var scripts = document.getElementsByTagName('script');\n",
       "                    var thisScriptTag = scripts[scripts.length-1];\n",
       "                    var parentDiv = thisScriptTag.parentNode;\n",
       "                    e = document.createElement('div');\n",
       "                    parentDiv.appendChild(e);\n",
       "                } else {\n",
       "                    e = element[0];\n",
       "                }\n",
       "\n",
       "                if (typeof requirejs !== 'undefined') {\n",
       "                    // disable load timeout; ipython_app.js is large and can take a while to load.\n",
       "                    requirejs.config({waitSeconds: 0});\n",
       "                }\n",
       "\n",
       "                require(['https://static.turi.com/products/graphlab-create/2.1/canvas/js/ipython_app.js'], function(IPythonApp){\n",
       "                    var app = new IPythonApp();\n",
       "                    app.attachView('sframe','Summary', {\"ipython\": true, \"sketch\": {\"Fare\": {\"complete\": true, \"numeric\": true, \"num_unique\": 0, \"num_undefined\": 0, \"progress\": 1.0, \"frequent_items\": {}, \"size\": 0}, \"Name\": {\"complete\": true, \"numeric\": false, \"num_unique\": 0, \"num_undefined\": 0, \"progress\": 1.0, \"frequent_items\": {}, \"size\": 0}, \"Embarked\": {\"complete\": true, \"numeric\": false, \"num_unique\": 0, \"num_undefined\": 0, \"progress\": 1.0, \"frequent_items\": {}, \"size\": 0}, \"Age\": {\"complete\": true, \"numeric\": true, \"num_unique\": 0, \"num_undefined\": 0, \"progress\": 1.0, \"frequent_items\": {}, \"size\": 0}, \"Parch\": {\"complete\": true, \"numeric\": true, \"num_unique\": 0, \"num_undefined\": 0, \"progress\": 1.0, \"frequent_items\": {}, \"size\": 0}, \"Pclass\": {\"complete\": true, \"numeric\": true, \"num_unique\": 0, \"num_undefined\": 0, \"progress\": 1.0, \"frequent_items\": {}, \"size\": 0}, \"Sex\": {\"complete\": true, \"numeric\": false, \"num_unique\": 0, \"num_undefined\": 0, \"progress\": 1.0, \"frequent_items\": {}, \"size\": 0}, \"Survived\": {\"complete\": true, \"numeric\": true, \"num_unique\": 0, \"num_undefined\": 0, \"progress\": 1.0, \"frequent_items\": {}, \"size\": 0}, \"SibSp\": {\"complete\": true, \"numeric\": true, \"num_unique\": 0, \"num_undefined\": 0, \"progress\": 1.0, \"frequent_items\": {}, \"size\": 0}, \"PassengerId\": {\"complete\": true, \"numeric\": true, \"num_unique\": 0, \"num_undefined\": 0, \"progress\": 1.0, \"frequent_items\": {}, \"size\": 0}, \"Ticket\": {\"complete\": true, \"numeric\": false, \"num_unique\": 0, \"num_undefined\": 0, \"progress\": 1.0, \"frequent_items\": {}, \"size\": 0}, \"Cabin\": {\"complete\": true, \"numeric\": false, \"num_unique\": 0, \"num_undefined\": 0, \"progress\": 1.0, \"frequent_items\": {}, \"size\": 0}}, \"selected_variable\": {\"name\": [\"<SFrame>\"], \"descriptives\": {\"rows\": 0, \"columns\": 12}, \"view_component\": \"Summary\", \"view_file\": \"sframe\", \"view_params\": {\"y\": null, \"x\": null, \"columns\": [\"PassengerId\", \"Survived\", \"Pclass\", \"Name\", \"Sex\", \"Age\", \"SibSp\", \"Parch\", \"Ticket\", \"Fare\", \"Cabin\", \"Embarked\"], \"view\": null}, \"view_components\": [\"Summary\", \"Table\", \"Bar Chart\", \"BoxWhisker Plot\", \"Line Chart\", \"Scatter Plot\", \"Heat Map\", \"Plots\"], \"type\": \"SFrame\", \"columns\": [{\"dtype\": \"int\", \"name\": \"PassengerId\"}, {\"dtype\": \"int\", \"name\": \"Survived\"}, {\"dtype\": \"int\", \"name\": \"Pclass\"}, {\"dtype\": \"str\", \"name\": \"Name\"}, {\"dtype\": \"str\", \"name\": \"Sex\"}, {\"dtype\": \"float\", \"name\": \"Age\"}, {\"dtype\": \"int\", \"name\": \"SibSp\"}, {\"dtype\": \"int\", \"name\": \"Parch\"}, {\"dtype\": \"str\", \"name\": \"Ticket\"}, {\"dtype\": \"float\", \"name\": \"Fare\"}, {\"dtype\": \"str\", \"name\": \"Cabin\"}, {\"dtype\": \"str\", \"name\": \"Embarked\"}], \"column_identifiers\": [\"Fare\", \"Name\", \"Embarked\", \"Age\", \"Parch\", \"Pclass\", \"Sex\", \"Survived\", \"SibSp\", \"PassengerId\", \"Ticket\", \"Cabin\"]}, \"columns\": [{\"dtype\": \"int\", \"name\": \"PassengerId\"}, {\"dtype\": \"int\", \"name\": \"Survived\"}, {\"dtype\": \"int\", \"name\": \"Pclass\"}, {\"dtype\": \"str\", \"name\": \"Name\"}, {\"dtype\": \"str\", \"name\": \"Sex\"}, {\"dtype\": \"float\", \"name\": \"Age\"}, {\"dtype\": \"int\", \"name\": \"SibSp\"}, {\"dtype\": \"int\", \"name\": \"Parch\"}, {\"dtype\": \"str\", \"name\": \"Ticket\"}, {\"dtype\": \"float\", \"name\": \"Fare\"}, {\"dtype\": \"str\", \"name\": \"Cabin\"}, {\"dtype\": \"str\", \"name\": \"Embarked\"}]}, e);\n",
       "                });\n",
       "            })();\n",
       "        "
      ]
     },
     "metadata": {},
     "output_type": "display_data"
    }
   ],
   "source": [
    "full_train_data[full_train_data['Pclass']==None].show()"
   ]
  },
  {
   "cell_type": "code",
   "execution_count": 34,
   "metadata": {},
   "outputs": [
    {
     "data": {
      "application/javascript": [
       "$(\"head\").append($(\"<link/>\").attr({\n",
       "  rel:  \"stylesheet\",\n",
       "  type: \"text/css\",\n",
       "  href: \"//cdnjs.cloudflare.com/ajax/libs/font-awesome/4.1.0/css/font-awesome.min.css\"\n",
       "}));\n",
       "$(\"head\").append($(\"<link/>\").attr({\n",
       "  rel:  \"stylesheet\",\n",
       "  type: \"text/css\",\n",
       "  href: \"https://static.turi.com/products/graphlab-create/2.1/canvas/css/canvas.css\"\n",
       "}));\n",
       "\n",
       "            (function(){\n",
       "\n",
       "                var e = null;\n",
       "                if (typeof element == 'undefined') {\n",
       "                    var scripts = document.getElementsByTagName('script');\n",
       "                    var thisScriptTag = scripts[scripts.length-1];\n",
       "                    var parentDiv = thisScriptTag.parentNode;\n",
       "                    e = document.createElement('div');\n",
       "                    parentDiv.appendChild(e);\n",
       "                } else {\n",
       "                    e = element[0];\n",
       "                }\n",
       "\n",
       "                if (typeof requirejs !== 'undefined') {\n",
       "                    // disable load timeout; ipython_app.js is large and can take a while to load.\n",
       "                    requirejs.config({waitSeconds: 0});\n",
       "                }\n",
       "\n",
       "                require(['https://static.turi.com/products/graphlab-create/2.1/canvas/js/ipython_app.js'], function(IPythonApp){\n",
       "                    var app = new IPythonApp();\n",
       "                    app.attachView('sframe','Summary', {\"ipython\": true, \"sketch\": {\"Fare\": {\"complete\": true, \"numeric\": true, \"num_unique\": 0, \"num_undefined\": 0, \"progress\": 1.0, \"frequent_items\": {}, \"size\": 0}, \"Name\": {\"complete\": true, \"numeric\": false, \"num_unique\": 0, \"num_undefined\": 0, \"progress\": 1.0, \"frequent_items\": {}, \"size\": 0}, \"Embarked\": {\"complete\": true, \"numeric\": false, \"num_unique\": 0, \"num_undefined\": 0, \"progress\": 1.0, \"frequent_items\": {}, \"size\": 0}, \"Age\": {\"complete\": true, \"numeric\": true, \"num_unique\": 0, \"num_undefined\": 0, \"progress\": 1.0, \"frequent_items\": {}, \"size\": 0}, \"Parch\": {\"complete\": true, \"numeric\": true, \"num_unique\": 0, \"num_undefined\": 0, \"progress\": 1.0, \"frequent_items\": {}, \"size\": 0}, \"Pclass\": {\"complete\": true, \"numeric\": true, \"num_unique\": 0, \"num_undefined\": 0, \"progress\": 1.0, \"frequent_items\": {}, \"size\": 0}, \"Sex\": {\"complete\": true, \"numeric\": false, \"num_unique\": 0, \"num_undefined\": 0, \"progress\": 1.0, \"frequent_items\": {}, \"size\": 0}, \"SibSp\": {\"complete\": true, \"numeric\": true, \"num_unique\": 0, \"num_undefined\": 0, \"progress\": 1.0, \"frequent_items\": {}, \"size\": 0}, \"PassengerId\": {\"complete\": true, \"numeric\": true, \"num_unique\": 0, \"num_undefined\": 0, \"progress\": 1.0, \"frequent_items\": {}, \"size\": 0}, \"Ticket\": {\"complete\": true, \"numeric\": false, \"num_unique\": 0, \"num_undefined\": 0, \"progress\": 1.0, \"frequent_items\": {}, \"size\": 0}, \"Cabin\": {\"complete\": true, \"numeric\": false, \"num_unique\": 0, \"num_undefined\": 0, \"progress\": 1.0, \"frequent_items\": {}, \"size\": 0}}, \"selected_variable\": {\"name\": [\"<SFrame>\"], \"descriptives\": {\"rows\": 0, \"columns\": 11}, \"view_component\": \"Summary\", \"view_file\": \"sframe\", \"view_params\": {\"y\": null, \"x\": null, \"columns\": [\"PassengerId\", \"Pclass\", \"Name\", \"Sex\", \"Age\", \"SibSp\", \"Parch\", \"Ticket\", \"Fare\", \"Cabin\", \"Embarked\"], \"view\": null}, \"view_components\": [\"Summary\", \"Table\", \"Bar Chart\", \"BoxWhisker Plot\", \"Line Chart\", \"Scatter Plot\", \"Heat Map\", \"Plots\"], \"type\": \"SFrame\", \"columns\": [{\"dtype\": \"int\", \"name\": \"PassengerId\"}, {\"dtype\": \"int\", \"name\": \"Pclass\"}, {\"dtype\": \"str\", \"name\": \"Name\"}, {\"dtype\": \"str\", \"name\": \"Sex\"}, {\"dtype\": \"float\", \"name\": \"Age\"}, {\"dtype\": \"int\", \"name\": \"SibSp\"}, {\"dtype\": \"int\", \"name\": \"Parch\"}, {\"dtype\": \"str\", \"name\": \"Ticket\"}, {\"dtype\": \"float\", \"name\": \"Fare\"}, {\"dtype\": \"str\", \"name\": \"Cabin\"}, {\"dtype\": \"str\", \"name\": \"Embarked\"}], \"column_identifiers\": [\"Fare\", \"Name\", \"Embarked\", \"Age\", \"Parch\", \"Pclass\", \"Sex\", \"SibSp\", \"PassengerId\", \"Ticket\", \"Cabin\"]}, \"columns\": [{\"dtype\": \"int\", \"name\": \"PassengerId\"}, {\"dtype\": \"int\", \"name\": \"Pclass\"}, {\"dtype\": \"str\", \"name\": \"Name\"}, {\"dtype\": \"str\", \"name\": \"Sex\"}, {\"dtype\": \"float\", \"name\": \"Age\"}, {\"dtype\": \"int\", \"name\": \"SibSp\"}, {\"dtype\": \"int\", \"name\": \"Parch\"}, {\"dtype\": \"str\", \"name\": \"Ticket\"}, {\"dtype\": \"float\", \"name\": \"Fare\"}, {\"dtype\": \"str\", \"name\": \"Cabin\"}, {\"dtype\": \"str\", \"name\": \"Embarked\"}]}, e);\n",
       "                });\n",
       "            })();\n",
       "        "
      ]
     },
     "metadata": {},
     "output_type": "display_data"
    }
   ],
   "source": [
    "test_data[test_data['Pclass']==None].show()"
   ]
  },
  {
   "cell_type": "markdown",
   "metadata": {},
   "source": [
    "다행히 없군요."
   ]
  },
  {
   "cell_type": "markdown",
   "metadata": {},
   "source": [
    "생존율과의 상관 관계를 확인합시다."
   ]
  },
  {
   "cell_type": "code",
   "execution_count": 35,
   "metadata": {},
   "outputs": [
    {
     "data": {
      "application/javascript": [
       "$(\"head\").append($(\"<link/>\").attr({\n",
       "  rel:  \"stylesheet\",\n",
       "  type: \"text/css\",\n",
       "  href: \"//cdnjs.cloudflare.com/ajax/libs/font-awesome/4.1.0/css/font-awesome.min.css\"\n",
       "}));\n",
       "$(\"head\").append($(\"<link/>\").attr({\n",
       "  rel:  \"stylesheet\",\n",
       "  type: \"text/css\",\n",
       "  href: \"https://static.turi.com/products/graphlab-create/2.1/canvas/css/canvas.css\"\n",
       "}));\n",
       "\n",
       "            (function(){\n",
       "\n",
       "                var e = null;\n",
       "                if (typeof element == 'undefined') {\n",
       "                    var scripts = document.getElementsByTagName('script');\n",
       "                    var thisScriptTag = scripts[scripts.length-1];\n",
       "                    var parentDiv = thisScriptTag.parentNode;\n",
       "                    e = document.createElement('div');\n",
       "                    parentDiv.appendChild(e);\n",
       "                } else {\n",
       "                    e = element[0];\n",
       "                }\n",
       "\n",
       "                if (typeof requirejs !== 'undefined') {\n",
       "                    // disable load timeout; ipython_app.js is large and can take a while to load.\n",
       "                    requirejs.config({waitSeconds: 0});\n",
       "                }\n",
       "\n",
       "                require(['https://static.turi.com/products/graphlab-create/2.1/canvas/js/ipython_app.js'], function(IPythonApp){\n",
       "                    var app = new IPythonApp();\n",
       "                    app.attachView('sframe','Plots', {\"selected_variable\": {\"name\": [\"<SFrame>\"], \"descriptives\": {\"rows\": 549, \"columns\": 12}, \"view_component\": \"Plots\", \"view_file\": \"sframe\", \"view_params\": {\"y\": \"PassengerId\", \"x\": \"Pclass\", \"columns\": [\"PassengerId\", \"Survived\", \"Pclass\", \"Name\", \"Sex\", \"Age\", \"SibSp\", \"Parch\", \"Ticket\", \"Fare\", \"Cabin\", \"Embarked\"], \"view\": \"Bar Chart\"}, \"view_components\": [\"Summary\", \"Table\", \"Bar Chart\", \"BoxWhisker Plot\", \"Line Chart\", \"Scatter Plot\", \"Heat Map\", \"Plots\"], \"type\": \"SFrame\", \"columns\": [{\"dtype\": \"int\", \"name\": \"PassengerId\"}, {\"dtype\": \"int\", \"name\": \"Survived\"}, {\"dtype\": \"int\", \"name\": \"Pclass\"}, {\"dtype\": \"str\", \"name\": \"Name\"}, {\"dtype\": \"str\", \"name\": \"Sex\"}, {\"dtype\": \"float\", \"name\": \"Age\"}, {\"dtype\": \"int\", \"name\": \"SibSp\"}, {\"dtype\": \"int\", \"name\": \"Parch\"}, {\"dtype\": \"str\", \"name\": \"Ticket\"}, {\"dtype\": \"float\", \"name\": \"Fare\"}, {\"dtype\": \"str\", \"name\": \"Cabin\"}, {\"dtype\": \"str\", \"name\": \"Embarked\"}], \"column_identifiers\": [\"Fare\", \"Name\", \"Embarked\", \"Age\", \"Parch\", \"Pclass\", \"Sex\", \"Survived\", \"SibSp\", \"PassengerId\", \"Ticket\", \"Cabin\"]}, \"complete\": 1, \"ipython\": true, \"progress\": 1.0, \"data\": {\"grouped\": [[1, {\"count\": 80, \"std\": 251.071523674032, \"min\": 7, \"max\": 873, \"sum\": 32824, \"var\": 63036.91000000001, \"mean\": 410.3}], [2, {\"count\": 97, \"std\": 256.43890603914974, \"min\": 21, \"max\": 887, \"sum\": 43856, \"var\": 65760.91253055587, \"mean\": 452.1237113402063}], [3, {\"count\": 372, \"std\": 262.7366551282308, \"min\": 1, \"max\": 891, \"sum\": 168732, \"var\": 69030.54994797087, \"mean\": 453.58064516129025}]], \"omitted\": 0}, \"columns\": [{\"dtype\": \"int\", \"name\": \"PassengerId\"}, {\"dtype\": \"int\", \"name\": \"Survived\"}, {\"dtype\": \"int\", \"name\": \"Pclass\"}, {\"dtype\": \"str\", \"name\": \"Name\"}, {\"dtype\": \"str\", \"name\": \"Sex\"}, {\"dtype\": \"float\", \"name\": \"Age\"}, {\"dtype\": \"int\", \"name\": \"SibSp\"}, {\"dtype\": \"int\", \"name\": \"Parch\"}, {\"dtype\": \"str\", \"name\": \"Ticket\"}, {\"dtype\": \"float\", \"name\": \"Fare\"}, {\"dtype\": \"str\", \"name\": \"Cabin\"}, {\"dtype\": \"str\", \"name\": \"Embarked\"}]}, e);\n",
       "                });\n",
       "            })();\n",
       "        "
      ]
     },
     "metadata": {},
     "output_type": "display_data"
    }
   ],
   "source": [
    "full_train_data[full_train_data['Survived'] == 0].show(view=\"Bar Chart\", x=\"Pclass\")"
   ]
  },
  {
   "cell_type": "code",
   "execution_count": 36,
   "metadata": {},
   "outputs": [
    {
     "data": {
      "application/javascript": [
       "$(\"head\").append($(\"<link/>\").attr({\n",
       "  rel:  \"stylesheet\",\n",
       "  type: \"text/css\",\n",
       "  href: \"//cdnjs.cloudflare.com/ajax/libs/font-awesome/4.1.0/css/font-awesome.min.css\"\n",
       "}));\n",
       "$(\"head\").append($(\"<link/>\").attr({\n",
       "  rel:  \"stylesheet\",\n",
       "  type: \"text/css\",\n",
       "  href: \"https://static.turi.com/products/graphlab-create/2.1/canvas/css/canvas.css\"\n",
       "}));\n",
       "\n",
       "            (function(){\n",
       "\n",
       "                var e = null;\n",
       "                if (typeof element == 'undefined') {\n",
       "                    var scripts = document.getElementsByTagName('script');\n",
       "                    var thisScriptTag = scripts[scripts.length-1];\n",
       "                    var parentDiv = thisScriptTag.parentNode;\n",
       "                    e = document.createElement('div');\n",
       "                    parentDiv.appendChild(e);\n",
       "                } else {\n",
       "                    e = element[0];\n",
       "                }\n",
       "\n",
       "                if (typeof requirejs !== 'undefined') {\n",
       "                    // disable load timeout; ipython_app.js is large and can take a while to load.\n",
       "                    requirejs.config({waitSeconds: 0});\n",
       "                }\n",
       "\n",
       "                require(['https://static.turi.com/products/graphlab-create/2.1/canvas/js/ipython_app.js'], function(IPythonApp){\n",
       "                    var app = new IPythonApp();\n",
       "                    app.attachView('sframe','Plots', {\"selected_variable\": {\"name\": [\"<SFrame>\"], \"descriptives\": {\"rows\": 342, \"columns\": 12}, \"view_component\": \"Plots\", \"view_file\": \"sframe\", \"view_params\": {\"y\": \"PassengerId\", \"x\": \"Pclass\", \"columns\": [\"PassengerId\", \"Survived\", \"Pclass\", \"Name\", \"Sex\", \"Age\", \"SibSp\", \"Parch\", \"Ticket\", \"Fare\", \"Cabin\", \"Embarked\"], \"view\": \"Bar Chart\"}, \"view_components\": [\"Summary\", \"Table\", \"Bar Chart\", \"BoxWhisker Plot\", \"Line Chart\", \"Scatter Plot\", \"Heat Map\", \"Plots\"], \"type\": \"SFrame\", \"columns\": [{\"dtype\": \"int\", \"name\": \"PassengerId\"}, {\"dtype\": \"int\", \"name\": \"Survived\"}, {\"dtype\": \"int\", \"name\": \"Pclass\"}, {\"dtype\": \"str\", \"name\": \"Name\"}, {\"dtype\": \"str\", \"name\": \"Sex\"}, {\"dtype\": \"float\", \"name\": \"Age\"}, {\"dtype\": \"int\", \"name\": \"SibSp\"}, {\"dtype\": \"int\", \"name\": \"Parch\"}, {\"dtype\": \"str\", \"name\": \"Ticket\"}, {\"dtype\": \"float\", \"name\": \"Fare\"}, {\"dtype\": \"str\", \"name\": \"Cabin\"}, {\"dtype\": \"str\", \"name\": \"Embarked\"}], \"column_identifiers\": [\"Fare\", \"Name\", \"Embarked\", \"Age\", \"Parch\", \"Pclass\", \"Sex\", \"Survived\", \"SibSp\", \"PassengerId\", \"Ticket\", \"Cabin\"]}, \"complete\": 1, \"ipython\": true, \"progress\": 1.0, \"data\": {\"grouped\": [[1, {\"count\": 136, \"std\": 238.12666448119103, \"min\": 2, \"max\": 890, \"sum\": 66881, \"var\": 56704.30833693773, \"mean\": 491.7720588235295}], [2, {\"count\": 87, \"std\": 242.80436372410355, \"min\": 10, \"max\": 881, \"sum\": 38200, \"var\": 58953.95904346678, \"mean\": 439.08045977011494}], [3, {\"count\": 119, \"std\": 263.5657969329511, \"min\": 3, \"max\": 876, \"sum\": 46893, \"var\": 69466.92931290163, \"mean\": 394.05882352941177}]], \"omitted\": 0}, \"columns\": [{\"dtype\": \"int\", \"name\": \"PassengerId\"}, {\"dtype\": \"int\", \"name\": \"Survived\"}, {\"dtype\": \"int\", \"name\": \"Pclass\"}, {\"dtype\": \"str\", \"name\": \"Name\"}, {\"dtype\": \"str\", \"name\": \"Sex\"}, {\"dtype\": \"float\", \"name\": \"Age\"}, {\"dtype\": \"int\", \"name\": \"SibSp\"}, {\"dtype\": \"int\", \"name\": \"Parch\"}, {\"dtype\": \"str\", \"name\": \"Ticket\"}, {\"dtype\": \"float\", \"name\": \"Fare\"}, {\"dtype\": \"str\", \"name\": \"Cabin\"}, {\"dtype\": \"str\", \"name\": \"Embarked\"}]}, e);\n",
       "                });\n",
       "            })();\n",
       "        "
      ]
     },
     "metadata": {},
     "output_type": "display_data"
    }
   ],
   "source": [
    "full_train_data[full_train_data['Survived'] == 1].show(view=\"Bar Chart\", x=\"Pclass\")"
   ]
  },
  {
   "cell_type": "markdown",
   "metadata": {},
   "source": [
    "### Fare 살펴보기"
   ]
  },
  {
   "cell_type": "markdown",
   "metadata": {},
   "source": [
    "show 메소드로 살펴 봅시다."
   ]
  },
  {
   "cell_type": "code",
   "execution_count": 37,
   "metadata": {},
   "outputs": [
    {
     "data": {
      "application/javascript": [
       "$(\"head\").append($(\"<link/>\").attr({\n",
       "  rel:  \"stylesheet\",\n",
       "  type: \"text/css\",\n",
       "  href: \"//cdnjs.cloudflare.com/ajax/libs/font-awesome/4.1.0/css/font-awesome.min.css\"\n",
       "}));\n",
       "$(\"head\").append($(\"<link/>\").attr({\n",
       "  rel:  \"stylesheet\",\n",
       "  type: \"text/css\",\n",
       "  href: \"https://static.turi.com/products/graphlab-create/2.1/canvas/css/canvas.css\"\n",
       "}));\n",
       "\n",
       "            (function(){\n",
       "\n",
       "                var e = null;\n",
       "                if (typeof element == 'undefined') {\n",
       "                    var scripts = document.getElementsByTagName('script');\n",
       "                    var thisScriptTag = scripts[scripts.length-1];\n",
       "                    var parentDiv = thisScriptTag.parentNode;\n",
       "                    e = document.createElement('div');\n",
       "                    parentDiv.appendChild(e);\n",
       "                } else {\n",
       "                    e = element[0];\n",
       "                }\n",
       "\n",
       "                if (typeof requirejs !== 'undefined') {\n",
       "                    // disable load timeout; ipython_app.js is large and can take a while to load.\n",
       "                    requirejs.config({waitSeconds: 0});\n",
       "                }\n",
       "\n",
       "                require(['https://static.turi.com/products/graphlab-create/2.1/canvas/js/ipython_app.js'], function(IPythonApp){\n",
       "                    var app = new IPythonApp();\n",
       "                    app.attachView('sarray','Numeric', {\"ipython\": true, \"sketch\": {\"std\": 49.66553444477412, \"complete\": true, \"min\": 0.0, \"max\": 512.3292, \"quantile\": [0.0, 0.0, 6.2375, 6.975, 7.05, 7.225, 7.225, 7.2292, 7.25, 7.25, 7.55, 7.7292, 7.75, 7.75, 7.75, 7.75, 7.775, 7.775, 7.7958, 7.8542, 7.8542, 7.8958, 7.8958, 7.8958, 7.8958, 7.8958, 7.925, 7.925, 8.05, 8.05, 8.05, 8.05, 8.1125, 8.6542, 8.6625, 9.0, 9.5, 9.5875, 10.4625, 10.5, 10.5, 11.1333, 12.275, 12.525, 13.0, 13.0, 13.0, 13.0, 13.0, 14.0, 14.4542, 14.5, 15.2458, 15.5, 15.85, 16.1, 17.8, 19.2583, 20.2125, 21.0, 21.6792, 23.25, 24.15, 25.5875, 26.0, 26.0, 26.0, 26.25, 26.2875, 26.55, 27.0, 27.75, 29.0, 29.7, 30.5, 31.0, 31.3875, 34.0208, 35.5, 39.0, 39.6875, 46.9, 50.0, 52.0, 53.1, 56.4958, 57.9792, 66.6, 69.55, 73.5, 77.9583, 79.2, 82.1708, 89.1042, 93.5, 113.275, 134.5, 151.55, 211.3375, 262.375, 512.3292], \"median\": 14.4542, \"numeric\": true, \"num_unique\": 248, \"num_undefined\": 0, \"var\": 2466.6653116850443, \"progress\": 1.0, \"size\": 891, \"frequent_items\": {\"7.25\": {\"frequency\": 13, \"value\": 7.25}, \"29.125\": {\"frequency\": 5, \"value\": 29.125}, \"93.5\": {\"frequency\": 2, \"value\": 93.5}, \"7.8792\": {\"frequency\": 4, \"value\": 7.8792}, \"5.0\": {\"frequency\": 1, \"value\": 5.0}, \"86.5\": {\"frequency\": 3, \"value\": 86.5}, \"9.0\": {\"frequency\": 2, \"value\": 9.0}, \"12.0\": {\"frequency\": 1, \"value\": 12.0}, \"13.0\": {\"frequency\": 42, \"value\": 13.0}, \"14.0\": {\"frequency\": 1, \"value\": 14.0}, \"15.0\": {\"frequency\": 1, \"value\": 15.0}, \"16.0\": {\"frequency\": 1, \"value\": 16.0}, \"18.0\": {\"frequency\": 3, \"value\": 18.0}, \"17.4\": {\"frequency\": 1, \"value\": 17.4}, \"21.0\": {\"frequency\": 6, \"value\": 21.0}, \"23.0\": {\"frequency\": 4, \"value\": 23.0}, \"24.0\": {\"frequency\": 2, \"value\": 24.0}, \"7.6292\": {\"frequency\": 1, \"value\": 7.6292}, \"26.0\": {\"frequency\": 31, \"value\": 26.0}, \"27.0\": {\"frequency\": 2, \"value\": 27.0}, \"8.05\": {\"frequency\": 43, \"value\": 8.05}, \"29.0\": {\"frequency\": 2, \"value\": 29.0}, \"30.0\": {\"frequency\": 6, \"value\": 30.0}, \"0.0\": {\"frequency\": 15, \"value\": 0.0}, \"33.0\": {\"frequency\": 3, \"value\": 33.0}, \"35.0\": {\"frequency\": 1, \"value\": 35.0}, \"164.8667\": {\"frequency\": 2, \"value\": 164.8667}, \"39.0\": {\"frequency\": 4, \"value\": 39.0}, \"12.525\": {\"frequency\": 1, \"value\": 12.525}, \"59.4\": {\"frequency\": 1, \"value\": 59.4}, \"7.8\": {\"frequency\": 1, \"value\": 7.8}, \"22.3583\": {\"frequency\": 2, \"value\": 22.3583}, \"50.0\": {\"frequency\": 1, \"value\": 50.0}, \"57.9792\": {\"frequency\": 2, \"value\": 57.9792}, \"52.0\": {\"frequency\": 7, \"value\": 52.0}, \"61.175\": {\"frequency\": 1, \"value\": 61.175}, \"55.0\": {\"frequency\": 2, \"value\": 55.0}, \"57.0\": {\"frequency\": 2, \"value\": 57.0}, \"227.525\": {\"frequency\": 4, \"value\": 227.525}, \"9.4833\": {\"frequency\": 1, \"value\": 9.4833}, \"7.125\": {\"frequency\": 4, \"value\": 7.125}, \"7.5208\": {\"frequency\": 1, \"value\": 7.5208}, \"34.0208\": {\"frequency\": 1, \"value\": 34.0208}, \"80.0\": {\"frequency\": 2, \"value\": 80.0}, \"13.8583\": {\"frequency\": 1, \"value\": 13.8583}, \"71.2833\": {\"frequency\": 1, \"value\": 71.2833}, \"90.0\": {\"frequency\": 4, \"value\": 90.0}, \"7.875\": {\"frequency\": 1, \"value\": 7.875}, \"27.7208\": {\"frequency\": 5, \"value\": 27.7208}, \"9.5\": {\"frequency\": 9, \"value\": 9.5}, \"35.5\": {\"frequency\": 4, \"value\": 35.5}, \"15.0458\": {\"frequency\": 1, \"value\": 15.0458}, \"15.85\": {\"frequency\": 4, \"value\": 15.85}, \"7.775\": {\"frequency\": 16, \"value\": 7.775}, \"113.275\": {\"frequency\": 3, \"value\": 113.275}, \"7.8958\": {\"frequency\": 38, \"value\": 7.8958}, \"15.7417\": {\"frequency\": 2, \"value\": 15.7417}, \"79.2\": {\"frequency\": 4, \"value\": 79.2}, \"19.2583\": {\"frequency\": 4, \"value\": 19.2583}, \"11.2417\": {\"frequency\": 2, \"value\": 11.2417}, \"78.2667\": {\"frequency\": 2, \"value\": 78.2667}, \"120.0\": {\"frequency\": 4, \"value\": 120.0}, \"83.1583\": {\"frequency\": 3, \"value\": 83.1583}, \"7.75\": {\"frequency\": 34, \"value\": 7.75}, \"37.0042\": {\"frequency\": 2, \"value\": 37.0042}, \"10.1708\": {\"frequency\": 1, \"value\": 10.1708}, \"9.2167\": {\"frequency\": 1, \"value\": 9.2167}, \"133.65\": {\"frequency\": 2, \"value\": 133.65}, \"10.5\": {\"frequency\": 24, \"value\": 10.5}, \"22.025\": {\"frequency\": 1, \"value\": 22.025}, \"20.2125\": {\"frequency\": 2, \"value\": 20.2125}, \"25.4667\": {\"frequency\": 4, \"value\": 25.4667}, \"52.5542\": {\"frequency\": 3, \"value\": 52.5542}, \"12.875\": {\"frequency\": 1, \"value\": 12.875}, \"7.725\": {\"frequency\": 1, \"value\": 7.725}, \"108.9\": {\"frequency\": 2, \"value\": 108.9}, \"42.4\": {\"frequency\": 1, \"value\": 42.4}, \"14.1083\": {\"frequency\": 1, \"value\": 14.1083}, \"33.5\": {\"frequency\": 1, \"value\": 33.5}, \"7.7333\": {\"frequency\": 4, \"value\": 7.7333}, \"91.0792\": {\"frequency\": 2, \"value\": 91.0792}, \"77.2875\": {\"frequency\": 2, \"value\": 77.2875}, \"25.9292\": {\"frequency\": 2, \"value\": 25.9292}, \"49.5\": {\"frequency\": 1, \"value\": 49.5}, \"31.0\": {\"frequency\": 3, \"value\": 31.0}, \"14.4\": {\"frequency\": 2, \"value\": 14.4}, \"8.1583\": {\"frequency\": 1, \"value\": 8.1583}, \"30.5\": {\"frequency\": 5, \"value\": 30.5}, \"13.8625\": {\"frequency\": 1, \"value\": 13.8625}, \"7.925\": {\"frequency\": 18, \"value\": 7.925}, \"56.9292\": {\"frequency\": 2, \"value\": 56.9292}, \"30.6958\": {\"frequency\": 2, \"value\": 30.6958}, \"39.6\": {\"frequency\": 2, \"value\": 39.6}, \"7.7958\": {\"frequency\": 6, \"value\": 7.7958}, \"12.35\": {\"frequency\": 3, \"value\": 12.35}, \"9.8458\": {\"frequency\": 1, \"value\": 9.8458}, \"7.55\": {\"frequency\": 4, \"value\": 7.55}, \"12.475\": {\"frequency\": 4, \"value\": 12.475}, \"7.65\": {\"frequency\": 4, \"value\": 7.65}, \"512.3292\": {\"frequency\": 3, \"value\": 512.3292}, \"13.7917\": {\"frequency\": 1, \"value\": 13.7917}, \"15.1\": {\"frequency\": 1, \"value\": 15.1}, \"7.7417\": {\"frequency\": 1, \"value\": 7.7417}, \"7.225\": {\"frequency\": 12, \"value\": 7.225}, \"221.7792\": {\"frequency\": 1, \"value\": 221.7792}, \"76.7292\": {\"frequency\": 3, \"value\": 76.7292}, \"13.4167\": {\"frequency\": 1, \"value\": 13.4167}, \"39.6875\": {\"frequency\": 6, \"value\": 39.6875}, \"14.5\": {\"frequency\": 7, \"value\": 14.5}, \"40.125\": {\"frequency\": 1, \"value\": 40.125}, \"14.4583\": {\"frequency\": 3, \"value\": 14.4583}, \"8.85\": {\"frequency\": 1, \"value\": 8.85}, \"7.0542\": {\"frequency\": 2, \"value\": 7.0542}, \"8.1125\": {\"frequency\": 1, \"value\": 8.1125}, \"78.85\": {\"frequency\": 2, \"value\": 78.85}, \"6.4375\": {\"frequency\": 1, \"value\": 6.4375}, \"26.3875\": {\"frequency\": 1, \"value\": 26.3875}, \"31.3875\": {\"frequency\": 4, \"value\": 31.3875}, \"6.95\": {\"frequency\": 1, \"value\": 6.95}, \"15.55\": {\"frequency\": 1, \"value\": 15.55}, \"50.4958\": {\"frequency\": 1, \"value\": 50.4958}, \"73.5\": {\"frequency\": 5, \"value\": 73.5}, \"49.5042\": {\"frequency\": 2, \"value\": 49.5042}, \"17.8\": {\"frequency\": 2, \"value\": 17.8}, \"263.0\": {\"frequency\": 4, \"value\": 263.0}, \"16.1\": {\"frequency\": 9, \"value\": 16.1}, \"10.4625\": {\"frequency\": 2, \"value\": 10.4625}, \"7.7375\": {\"frequency\": 2, \"value\": 7.7375}, \"31.275\": {\"frequency\": 7, \"value\": 31.275}, \"83.475\": {\"frequency\": 2, \"value\": 83.475}, \"76.2917\": {\"frequency\": 1, \"value\": 76.2917}, \"63.3583\": {\"frequency\": 1, \"value\": 63.3583}, \"8.0292\": {\"frequency\": 1, \"value\": 8.0292}, \"6.8583\": {\"frequency\": 1, \"value\": 6.8583}, \"134.5\": {\"frequency\": 2, \"value\": 134.5}, \"13.5\": {\"frequency\": 4, \"value\": 13.5}, \"46.9\": {\"frequency\": 6, \"value\": 46.9}, \"20.575\": {\"frequency\": 2, \"value\": 20.575}, \"211.5\": {\"frequency\": 1, \"value\": 211.5}, \"7.0458\": {\"frequency\": 1, \"value\": 7.0458}, \"77.9583\": {\"frequency\": 3, \"value\": 77.9583}, \"26.2875\": {\"frequency\": 3, \"value\": 26.2875}, \"8.4583\": {\"frequency\": 1, \"value\": 8.4583}, \"25.925\": {\"frequency\": 1, \"value\": 25.925}, \"9.475\": {\"frequency\": 1, \"value\": 9.475}, \"9.8417\": {\"frequency\": 1, \"value\": 9.8417}, \"8.7125\": {\"frequency\": 1, \"value\": 8.7125}, \"7.1417\": {\"frequency\": 1, \"value\": 7.1417}, \"21.6792\": {\"frequency\": 1, \"value\": 21.6792}, \"24.15\": {\"frequency\": 8, \"value\": 24.15}, \"6.75\": {\"frequency\": 2, \"value\": 6.75}, \"8.6542\": {\"frequency\": 1, \"value\": 8.6542}, \"69.3\": {\"frequency\": 2, \"value\": 69.3}, \"61.9792\": {\"frequency\": 1, \"value\": 61.9792}, \"79.65\": {\"frequency\": 3, \"value\": 79.65}, \"81.8583\": {\"frequency\": 1, \"value\": 81.8583}, \"18.7875\": {\"frequency\": 2, \"value\": 18.7875}, \"34.6542\": {\"frequency\": 1, \"value\": 34.6542}, \"7.8292\": {\"frequency\": 2, \"value\": 7.8292}, \"8.6625\": {\"frequency\": 13, \"value\": 8.6625}, \"20.525\": {\"frequency\": 3, \"value\": 20.525}, \"9.35\": {\"frequency\": 2, \"value\": 9.35}, \"26.25\": {\"frequency\": 6, \"value\": 26.25}, \"20.25\": {\"frequency\": 2, \"value\": 20.25}, \"8.4042\": {\"frequency\": 1, \"value\": 8.4042}, \"15.5\": {\"frequency\": 8, \"value\": 15.5}, \"36.75\": {\"frequency\": 2, \"value\": 36.75}, \"9.5875\": {\"frequency\": 2, \"value\": 9.5875}, \"26.2833\": {\"frequency\": 1, \"value\": 26.2833}, \"11.5\": {\"frequency\": 4, \"value\": 11.5}, \"7.05\": {\"frequency\": 7, \"value\": 7.05}, \"151.55\": {\"frequency\": 4, \"value\": 151.55}, \"8.5167\": {\"frequency\": 1, \"value\": 8.5167}, \"41.5792\": {\"frequency\": 3, \"value\": 41.5792}, \"29.7\": {\"frequency\": 3, \"value\": 29.7}, \"247.5208\": {\"frequency\": 2, \"value\": 247.5208}, \"9.8375\": {\"frequency\": 1, \"value\": 9.8375}, \"262.375\": {\"frequency\": 2, \"value\": 262.375}, \"18.75\": {\"frequency\": 3, \"value\": 18.75}, \"23.45\": {\"frequency\": 2, \"value\": 23.45}, \"55.4417\": {\"frequency\": 1, \"value\": 55.4417}, \"15.9\": {\"frequency\": 2, \"value\": 15.9}, \"56.4958\": {\"frequency\": 7, \"value\": 56.4958}, \"8.3625\": {\"frequency\": 1, \"value\": 8.3625}, \"15.75\": {\"frequency\": 1, \"value\": 15.75}, \"75.25\": {\"frequency\": 1, \"value\": 75.25}, \"69.55\": {\"frequency\": 7, \"value\": 69.55}, \"7.7292\": {\"frequency\": 1, \"value\": 7.7292}, \"65.0\": {\"frequency\": 2, \"value\": 65.0}, \"11.1333\": {\"frequency\": 3, \"value\": 11.1333}, \"82.1708\": {\"frequency\": 2, \"value\": 82.1708}, \"6.2375\": {\"frequency\": 1, \"value\": 6.2375}, \"146.5208\": {\"frequency\": 2, \"value\": 146.5208}, \"25.5875\": {\"frequency\": 1, \"value\": 25.5875}, \"27.9\": {\"frequency\": 6, \"value\": 27.9}, \"66.6\": {\"frequency\": 2, \"value\": 66.6}, \"7.7875\": {\"frequency\": 1, \"value\": 7.7875}, \"14.4542\": {\"frequency\": 7, \"value\": 14.4542}, \"19.9667\": {\"frequency\": 2, \"value\": 19.9667}, \"7.2292\": {\"frequency\": 15, \"value\": 7.2292}, \"7.4958\": {\"frequency\": 3, \"value\": 7.4958}, \"4.0125\": {\"frequency\": 1, \"value\": 4.0125}, \"53.1\": {\"frequency\": 5, \"value\": 53.1}, \"19.5\": {\"frequency\": 2, \"value\": 19.5}, \"10.5167\": {\"frequency\": 1, \"value\": 10.5167}, \"71.0\": {\"frequency\": 2, \"value\": 71.0}, \"12.275\": {\"frequency\": 1, \"value\": 12.275}, \"39.4\": {\"frequency\": 1, \"value\": 39.4}, \"7.8875\": {\"frequency\": 1, \"value\": 7.8875}, \"51.4792\": {\"frequency\": 1, \"value\": 51.4792}, \"7.8542\": {\"frequency\": 13, \"value\": 7.8542}, \"47.1\": {\"frequency\": 1, \"value\": 47.1}, \"15.05\": {\"frequency\": 1, \"value\": 15.05}, \"9.825\": {\"frequency\": 2, \"value\": 9.825}, \"8.6833\": {\"frequency\": 1, \"value\": 8.6833}, \"9.225\": {\"frequency\": 2, \"value\": 9.225}, \"55.9\": {\"frequency\": 2, \"value\": 55.9}, \"8.3\": {\"frequency\": 1, \"value\": 8.3}, \"23.25\": {\"frequency\": 2, \"value\": 23.25}, \"6.45\": {\"frequency\": 1, \"value\": 6.45}, \"21.075\": {\"frequency\": 4, \"value\": 21.075}, \"6.975\": {\"frequency\": 2, \"value\": 6.975}, \"16.7\": {\"frequency\": 2, \"value\": 16.7}, \"30.0708\": {\"frequency\": 2, \"value\": 30.0708}, \"7.3125\": {\"frequency\": 1, \"value\": 7.3125}, \"38.5\": {\"frequency\": 1, \"value\": 38.5}, \"12.2875\": {\"frequency\": 1, \"value\": 12.2875}, \"22.525\": {\"frequency\": 1, \"value\": 22.525}, \"61.3792\": {\"frequency\": 1, \"value\": 61.3792}, \"211.3375\": {\"frequency\": 3, \"value\": 211.3375}, \"28.7125\": {\"frequency\": 1, \"value\": 28.7125}, \"12.65\": {\"frequency\": 1, \"value\": 12.65}, \"8.1375\": {\"frequency\": 1, \"value\": 8.1375}, \"27.75\": {\"frequency\": 4, \"value\": 27.75}, \"26.55\": {\"frequency\": 15, \"value\": 26.55}, \"34.375\": {\"frequency\": 4, \"value\": 34.375}, \"6.4958\": {\"frequency\": 2, \"value\": 6.4958}, \"32.3208\": {\"frequency\": 1, \"value\": 32.3208}, \"28.5\": {\"frequency\": 1, \"value\": 28.5}, \"89.1042\": {\"frequency\": 2, \"value\": 89.1042}, \"8.4333\": {\"frequency\": 1, \"value\": 8.4333}, \"110.8833\": {\"frequency\": 4, \"value\": 110.8833}, \"106.425\": {\"frequency\": 2, \"value\": 106.425}, \"153.4625\": {\"frequency\": 3, \"value\": 153.4625}, \"135.6333\": {\"frequency\": 3, \"value\": 135.6333}, \"51.8625\": {\"frequency\": 2, \"value\": 51.8625}, \"32.5\": {\"frequency\": 1, \"value\": 32.5}, \"15.2458\": {\"frequency\": 5, \"value\": 15.2458}}, \"mean\": 32.204207968574664}, \"selected_variable\": {\"name\": [\"<SArray>\"], \"dtype\": \"float\", \"view_component\": \"Numeric\", \"view_file\": \"sarray\", \"descriptives\": {\"rows\": 891}, \"type\": \"SArray\", \"view_components\": [\"Numeric\", \"Categorical\"]}, \"histogram\": {\"progress\": 1.0, \"histogram\": {\"max\": 514.6498692, \"bins\": [716, 109, 28, 18, 4, 7, 6, 0, 0, 0, 0, 3], \"min\": -1.7146619999999757}, \"min\": 0.0, \"complete\": 1, \"max\": 512.3292}}, e);\n",
       "                });\n",
       "            })();\n",
       "        "
      ]
     },
     "metadata": {},
     "output_type": "display_data"
    }
   ],
   "source": [
    "full_train_data['Fare'].show()"
   ]
  },
  {
   "cell_type": "markdown",
   "metadata": {},
   "source": [
    "#### None 찾아서 값 채우기\n",
    "\n",
    "값이 없는 데이터가 있는지 확인합시다."
   ]
  },
  {
   "cell_type": "code",
   "execution_count": 38,
   "metadata": {},
   "outputs": [
    {
     "data": {
      "text/html": [
       "<div style=\"max-height:1000px;max-width:1500px;overflow:auto;\"><table frame=\"box\" rules=\"cols\">\n",
       "    <tr>\n",
       "        <th style=\"padding-left: 1em; padding-right: 1em; text-align: center\">PassengerId</th>\n",
       "        <th style=\"padding-left: 1em; padding-right: 1em; text-align: center\">Survived</th>\n",
       "        <th style=\"padding-left: 1em; padding-right: 1em; text-align: center\">Pclass</th>\n",
       "        <th style=\"padding-left: 1em; padding-right: 1em; text-align: center\">Name</th>\n",
       "        <th style=\"padding-left: 1em; padding-right: 1em; text-align: center\">Sex</th>\n",
       "        <th style=\"padding-left: 1em; padding-right: 1em; text-align: center\">Age</th>\n",
       "        <th style=\"padding-left: 1em; padding-right: 1em; text-align: center\">SibSp</th>\n",
       "        <th style=\"padding-left: 1em; padding-right: 1em; text-align: center\">Parch</th>\n",
       "        <th style=\"padding-left: 1em; padding-right: 1em; text-align: center\">Ticket</th>\n",
       "        <th style=\"padding-left: 1em; padding-right: 1em; text-align: center\">Fare</th>\n",
       "        <th style=\"padding-left: 1em; padding-right: 1em; text-align: center\">Cabin</th>\n",
       "        <th style=\"padding-left: 1em; padding-right: 1em; text-align: center\">Embarked</th>\n",
       "    </tr>\n",
       "</table>\n",
       "[? rows x 12 columns]<br/>Note: Only the head of the SFrame is printed. This SFrame is lazily evaluated.<br/>You can use sf.materialize() to force materialization.\n",
       "</div>"
      ],
      "text/plain": [
       "Columns:\n",
       "\tPassengerId\tint\n",
       "\tSurvived\tint\n",
       "\tPclass\tint\n",
       "\tName\tstr\n",
       "\tSex\tstr\n",
       "\tAge\tfloat\n",
       "\tSibSp\tint\n",
       "\tParch\tint\n",
       "\tTicket\tstr\n",
       "\tFare\tfloat\n",
       "\tCabin\tstr\n",
       "\tEmbarked\tstr\n",
       "\n",
       "Rows: Unknown\n",
       "\n",
       "Data:\n",
       "\t[]"
      ]
     },
     "execution_count": 38,
     "metadata": {},
     "output_type": "execute_result"
    }
   ],
   "source": [
    "full_train_data[full_train_data['Fare']==None]"
   ]
  },
  {
   "cell_type": "code",
   "execution_count": 39,
   "metadata": {},
   "outputs": [
    {
     "data": {
      "text/html": [
       "<div style=\"max-height:1000px;max-width:1500px;overflow:auto;\"><table frame=\"box\" rules=\"cols\">\n",
       "    <tr>\n",
       "        <th style=\"padding-left: 1em; padding-right: 1em; text-align: center\">PassengerId</th>\n",
       "        <th style=\"padding-left: 1em; padding-right: 1em; text-align: center\">Pclass</th>\n",
       "        <th style=\"padding-left: 1em; padding-right: 1em; text-align: center\">Name</th>\n",
       "        <th style=\"padding-left: 1em; padding-right: 1em; text-align: center\">Sex</th>\n",
       "        <th style=\"padding-left: 1em; padding-right: 1em; text-align: center\">Age</th>\n",
       "        <th style=\"padding-left: 1em; padding-right: 1em; text-align: center\">SibSp</th>\n",
       "        <th style=\"padding-left: 1em; padding-right: 1em; text-align: center\">Parch</th>\n",
       "        <th style=\"padding-left: 1em; padding-right: 1em; text-align: center\">Ticket</th>\n",
       "        <th style=\"padding-left: 1em; padding-right: 1em; text-align: center\">Fare</th>\n",
       "        <th style=\"padding-left: 1em; padding-right: 1em; text-align: center\">Cabin</th>\n",
       "        <th style=\"padding-left: 1em; padding-right: 1em; text-align: center\">Embarked</th>\n",
       "    </tr>\n",
       "    <tr>\n",
       "        <td style=\"padding-left: 1em; padding-right: 1em; text-align: center; vertical-align: top\">1044</td>\n",
       "        <td style=\"padding-left: 1em; padding-right: 1em; text-align: center; vertical-align: top\">3</td>\n",
       "        <td style=\"padding-left: 1em; padding-right: 1em; text-align: center; vertical-align: top\">Storey, Mr. Thomas</td>\n",
       "        <td style=\"padding-left: 1em; padding-right: 1em; text-align: center; vertical-align: top\">male</td>\n",
       "        <td style=\"padding-left: 1em; padding-right: 1em; text-align: center; vertical-align: top\">60.5</td>\n",
       "        <td style=\"padding-left: 1em; padding-right: 1em; text-align: center; vertical-align: top\">0</td>\n",
       "        <td style=\"padding-left: 1em; padding-right: 1em; text-align: center; vertical-align: top\">0</td>\n",
       "        <td style=\"padding-left: 1em; padding-right: 1em; text-align: center; vertical-align: top\">3701</td>\n",
       "        <td style=\"padding-left: 1em; padding-right: 1em; text-align: center; vertical-align: top\">None</td>\n",
       "        <td style=\"padding-left: 1em; padding-right: 1em; text-align: center; vertical-align: top\"></td>\n",
       "        <td style=\"padding-left: 1em; padding-right: 1em; text-align: center; vertical-align: top\">S</td>\n",
       "    </tr>\n",
       "</table>\n",
       "[? rows x 11 columns]<br/>Note: Only the head of the SFrame is printed. This SFrame is lazily evaluated.<br/>You can use sf.materialize() to force materialization.\n",
       "</div>"
      ],
      "text/plain": [
       "Columns:\n",
       "\tPassengerId\tint\n",
       "\tPclass\tint\n",
       "\tName\tstr\n",
       "\tSex\tstr\n",
       "\tAge\tfloat\n",
       "\tSibSp\tint\n",
       "\tParch\tint\n",
       "\tTicket\tstr\n",
       "\tFare\tfloat\n",
       "\tCabin\tstr\n",
       "\tEmbarked\tstr\n",
       "\n",
       "Rows: Unknown\n",
       "\n",
       "Data:\n",
       "+-------------+--------+--------------------+------+------+-------+-------+--------+\n",
       "| PassengerId | Pclass |        Name        | Sex  | Age  | SibSp | Parch | Ticket |\n",
       "+-------------+--------+--------------------+------+------+-------+-------+--------+\n",
       "|     1044    |   3    | Storey, Mr. Thomas | male | 60.5 |   0   |   0   |  3701  |\n",
       "+-------------+--------+--------------------+------+------+-------+-------+--------+\n",
       "+------+-------+----------+\n",
       "| Fare | Cabin | Embarked |\n",
       "+------+-------+----------+\n",
       "| None |       |    S     |\n",
       "+------+-------+----------+\n",
       "[? rows x 11 columns]\n",
       "Note: Only the head of the SFrame is printed. This SFrame is lazily evaluated.\n",
       "You can use sf.materialize() to force materialization."
      ]
     },
     "execution_count": 39,
     "metadata": {},
     "output_type": "execute_result"
    }
   ],
   "source": [
    "test_data[test_data['Fare']==None]"
   ]
  },
  {
   "cell_type": "markdown",
   "metadata": {},
   "source": [
    "test_data에 한명의 데이터가 없다는 것을 알 수 있습니다."
   ]
  },
  {
   "cell_type": "markdown",
   "metadata": {},
   "source": [
    "### 비어 있는 값 채우기\n",
    "\n",
    "비어 있는 값을 어떻게 채우면 좋을까요? 여기에서는 test_data의 평균값을 사용합시다.\n",
    "\n",
    "먼저 'Fare'의 평균값을 구하세요.\n",
    "\n",
    "    SArray.mean()"
   ]
  },
  {
   "cell_type": "code",
   "execution_count": 40,
   "metadata": {},
   "outputs": [
    {
     "data": {
      "text/plain": [
       "35.62718848920863"
      ]
     },
     "execution_count": 40,
     "metadata": {},
     "output_type": "execute_result"
    }
   ],
   "source": [
    "test_data['Fare'].mean()"
   ]
  },
  {
   "cell_type": "markdown",
   "metadata": {},
   "source": [
    "35.627188489208635가 나와야 합니다."
   ]
  },
  {
   "cell_type": "code",
   "execution_count": 41,
   "metadata": {},
   "outputs": [
    {
     "name": "stdout",
     "output_type": "stream",
     "text": [
      "Help on method fillna in module graphlab.data_structures.sframe:\n",
      "\n",
      "fillna(self, column, value) unbound graphlab.data_structures.sframe.SFrame method\n",
      "    Fill all missing values with a given value in a given column. If the\n",
      "    ``value`` is not the same type as the values in ``column``, this method\n",
      "    attempts to convert the value to the original column's type. If this\n",
      "    fails, an error is raised.\n",
      "    \n",
      "    Parameters\n",
      "    ----------\n",
      "    column : str\n",
      "        The name of the column to modify.\n",
      "    \n",
      "    value : type convertible to SArray's type\n",
      "        The value used to replace all missing values.\n",
      "    \n",
      "    Returns\n",
      "    -------\n",
      "    out : SFrame\n",
      "        A new SFrame with the specified value in place of missing values.\n",
      "    \n",
      "    See Also\n",
      "    --------\n",
      "    dropna\n",
      "    \n",
      "    Examples\n",
      "    --------\n",
      "    >>> sf = graphlab.SFrame({'a':[1, None, None],\n",
      "    ...                       'b':['13.1', '17.2', None]})\n",
      "    >>> sf = sf.fillna('a', 0)\n",
      "    >>> sf\n",
      "    +---+------+\n",
      "    | a |  b   |\n",
      "    +---+------+\n",
      "    | 1 | 13.1 |\n",
      "    | 0 | 17.2 |\n",
      "    | 0 | None |\n",
      "    +---+------+\n",
      "    [3 rows x 2 columns]\n",
      "\n"
     ]
    }
   ],
   "source": [
    "help(graphlab.SFrame.fillna)"
   ]
  },
  {
   "cell_type": "markdown",
   "metadata": {},
   "source": [
    "fillna 메소드를 이용해서 None으로 비어 있는 값을 지정할 수 있습니다.\n",
    "\n",
    "    SFrame.fillna(column=컬럼이름, value=지정하고자하는값)\n",
    "    \n",
    "**주의: 반드시 다시 SFrame에 저장해야 합니다.** 여기서는 **new_test_data**라는 새로운 변수명을 사용합시다."
   ]
  },
  {
   "cell_type": "code",
   "execution_count": 42,
   "metadata": {},
   "outputs": [],
   "source": [
    "new_test_data = test_data.fillna(column='Fare', value=test_data['Fare'].mean())"
   ]
  },
  {
   "cell_type": "markdown",
   "metadata": {},
   "source": [
    "PassengerId가 1044인 승객을 다시 출력해 봅시다."
   ]
  },
  {
   "cell_type": "code",
   "execution_count": 43,
   "metadata": {},
   "outputs": [
    {
     "data": {
      "text/html": [
       "<div style=\"max-height:1000px;max-width:1500px;overflow:auto;\"><table frame=\"box\" rules=\"cols\">\n",
       "    <tr>\n",
       "        <th style=\"padding-left: 1em; padding-right: 1em; text-align: center\">PassengerId</th>\n",
       "        <th style=\"padding-left: 1em; padding-right: 1em; text-align: center\">Pclass</th>\n",
       "        <th style=\"padding-left: 1em; padding-right: 1em; text-align: center\">Name</th>\n",
       "        <th style=\"padding-left: 1em; padding-right: 1em; text-align: center\">Sex</th>\n",
       "        <th style=\"padding-left: 1em; padding-right: 1em; text-align: center\">Age</th>\n",
       "        <th style=\"padding-left: 1em; padding-right: 1em; text-align: center\">SibSp</th>\n",
       "        <th style=\"padding-left: 1em; padding-right: 1em; text-align: center\">Parch</th>\n",
       "        <th style=\"padding-left: 1em; padding-right: 1em; text-align: center\">Ticket</th>\n",
       "        <th style=\"padding-left: 1em; padding-right: 1em; text-align: center\">Fare</th>\n",
       "        <th style=\"padding-left: 1em; padding-right: 1em; text-align: center\">Cabin</th>\n",
       "        <th style=\"padding-left: 1em; padding-right: 1em; text-align: center\">Embarked</th>\n",
       "    </tr>\n",
       "    <tr>\n",
       "        <td style=\"padding-left: 1em; padding-right: 1em; text-align: center; vertical-align: top\">1044</td>\n",
       "        <td style=\"padding-left: 1em; padding-right: 1em; text-align: center; vertical-align: top\">3</td>\n",
       "        <td style=\"padding-left: 1em; padding-right: 1em; text-align: center; vertical-align: top\">Storey, Mr. Thomas</td>\n",
       "        <td style=\"padding-left: 1em; padding-right: 1em; text-align: center; vertical-align: top\">male</td>\n",
       "        <td style=\"padding-left: 1em; padding-right: 1em; text-align: center; vertical-align: top\">60.5</td>\n",
       "        <td style=\"padding-left: 1em; padding-right: 1em; text-align: center; vertical-align: top\">0</td>\n",
       "        <td style=\"padding-left: 1em; padding-right: 1em; text-align: center; vertical-align: top\">0</td>\n",
       "        <td style=\"padding-left: 1em; padding-right: 1em; text-align: center; vertical-align: top\">3701</td>\n",
       "        <td style=\"padding-left: 1em; padding-right: 1em; text-align: center; vertical-align: top\">35.6271884892</td>\n",
       "        <td style=\"padding-left: 1em; padding-right: 1em; text-align: center; vertical-align: top\"></td>\n",
       "        <td style=\"padding-left: 1em; padding-right: 1em; text-align: center; vertical-align: top\">S</td>\n",
       "    </tr>\n",
       "</table>\n",
       "[? rows x 11 columns]<br/>Note: Only the head of the SFrame is printed. This SFrame is lazily evaluated.<br/>You can use sf.materialize() to force materialization.\n",
       "</div>"
      ],
      "text/plain": [
       "Columns:\n",
       "\tPassengerId\tint\n",
       "\tPclass\tint\n",
       "\tName\tstr\n",
       "\tSex\tstr\n",
       "\tAge\tfloat\n",
       "\tSibSp\tint\n",
       "\tParch\tint\n",
       "\tTicket\tstr\n",
       "\tFare\tfloat\n",
       "\tCabin\tstr\n",
       "\tEmbarked\tstr\n",
       "\n",
       "Rows: Unknown\n",
       "\n",
       "Data:\n",
       "+-------------+--------+--------------------+------+------+-------+-------+--------+\n",
       "| PassengerId | Pclass |        Name        | Sex  | Age  | SibSp | Parch | Ticket |\n",
       "+-------------+--------+--------------------+------+------+-------+-------+--------+\n",
       "|     1044    |   3    | Storey, Mr. Thomas | male | 60.5 |   0   |   0   |  3701  |\n",
       "+-------------+--------+--------------------+------+------+-------+-------+--------+\n",
       "+---------------+-------+----------+\n",
       "|      Fare     | Cabin | Embarked |\n",
       "+---------------+-------+----------+\n",
       "| 35.6271884892 |       |    S     |\n",
       "+---------------+-------+----------+\n",
       "[? rows x 11 columns]\n",
       "Note: Only the head of the SFrame is printed. This SFrame is lazily evaluated.\n",
       "You can use sf.materialize() to force materialization."
      ]
     },
     "execution_count": 43,
     "metadata": {},
     "output_type": "execute_result"
    }
   ],
   "source": [
    "new_test_data[new_test_data['PassengerId']==1044]"
   ]
  },
  {
   "cell_type": "markdown",
   "metadata": {},
   "source": [
    "Fare에 35.627...로 값이 잘 지정된 것을 확인할 수 있습니다."
   ]
  },
  {
   "cell_type": "markdown",
   "metadata": {},
   "source": [
    "생존율과의 상관관계를 확인합시다. "
   ]
  },
  {
   "cell_type": "code",
   "execution_count": 44,
   "metadata": {},
   "outputs": [
    {
     "data": {
      "application/javascript": [
       "$(\"head\").append($(\"<link/>\").attr({\n",
       "  rel:  \"stylesheet\",\n",
       "  type: \"text/css\",\n",
       "  href: \"//cdnjs.cloudflare.com/ajax/libs/font-awesome/4.1.0/css/font-awesome.min.css\"\n",
       "}));\n",
       "$(\"head\").append($(\"<link/>\").attr({\n",
       "  rel:  \"stylesheet\",\n",
       "  type: \"text/css\",\n",
       "  href: \"https://static.turi.com/products/graphlab-create/2.1/canvas/css/canvas.css\"\n",
       "}));\n",
       "\n",
       "            (function(){\n",
       "\n",
       "                var e = null;\n",
       "                if (typeof element == 'undefined') {\n",
       "                    var scripts = document.getElementsByTagName('script');\n",
       "                    var thisScriptTag = scripts[scripts.length-1];\n",
       "                    var parentDiv = thisScriptTag.parentNode;\n",
       "                    e = document.createElement('div');\n",
       "                    parentDiv.appendChild(e);\n",
       "                } else {\n",
       "                    e = element[0];\n",
       "                }\n",
       "\n",
       "                if (typeof requirejs !== 'undefined') {\n",
       "                    // disable load timeout; ipython_app.js is large and can take a while to load.\n",
       "                    requirejs.config({waitSeconds: 0});\n",
       "                }\n",
       "\n",
       "                require(['https://static.turi.com/products/graphlab-create/2.1/canvas/js/ipython_app.js'], function(IPythonApp){\n",
       "                    var app = new IPythonApp();\n",
       "                    app.attachView('sframe','Plots', {\"selected_variable\": {\"name\": [\"<SFrame>\"], \"descriptives\": {\"rows\": 549, \"columns\": 12}, \"view_component\": \"Plots\", \"view_file\": \"sframe\", \"view_params\": {\"y\": \"PassengerId\", \"x\": \"Fare\", \"columns\": [\"PassengerId\", \"Survived\", \"Pclass\", \"Name\", \"Sex\", \"Age\", \"SibSp\", \"Parch\", \"Ticket\", \"Fare\", \"Cabin\", \"Embarked\"], \"view\": \"Bar Chart\"}, \"view_components\": [\"Summary\", \"Table\", \"Bar Chart\", \"BoxWhisker Plot\", \"Line Chart\", \"Scatter Plot\", \"Heat Map\", \"Plots\"], \"type\": \"SFrame\", \"columns\": [{\"dtype\": \"int\", \"name\": \"PassengerId\"}, {\"dtype\": \"int\", \"name\": \"Survived\"}, {\"dtype\": \"int\", \"name\": \"Pclass\"}, {\"dtype\": \"str\", \"name\": \"Name\"}, {\"dtype\": \"str\", \"name\": \"Sex\"}, {\"dtype\": \"float\", \"name\": \"Age\"}, {\"dtype\": \"int\", \"name\": \"SibSp\"}, {\"dtype\": \"int\", \"name\": \"Parch\"}, {\"dtype\": \"str\", \"name\": \"Ticket\"}, {\"dtype\": \"float\", \"name\": \"Fare\"}, {\"dtype\": \"str\", \"name\": \"Cabin\"}, {\"dtype\": \"str\", \"name\": \"Embarked\"}], \"column_identifiers\": [\"Fare\", \"Name\", \"Embarked\", \"Age\", \"Parch\", \"Pclass\", \"Sex\", \"Survived\", \"SibSp\", \"PassengerId\", \"Ticket\", \"Cabin\"]}, \"complete\": 1, \"ipython\": true, \"progress\": 1.0, \"data\": {\"grouped\": [[0.0, {\"count\": 14, \"std\": 215.4493169245735, \"min\": 180, \"max\": 823, \"sum\": 7474, \"var\": 46418.40816326532, \"mean\": 533.8571428571429}], [4.0125, {\"count\": 1, \"std\": 0.0, \"min\": 379, \"max\": 379, \"sum\": 379, \"var\": 0.0, \"mean\": 379.0}], [5.0, {\"count\": 1, \"std\": 0.0, \"min\": 873, \"max\": 873, \"sum\": 873, \"var\": 0.0, \"mean\": 873.0}], [6.2375, {\"count\": 1, \"std\": 0.0, \"min\": 327, \"max\": 327, \"sum\": 327, \"var\": 0.0, \"mean\": 327.0}], [6.4375, {\"count\": 1, \"std\": 0.0, \"min\": 844, \"max\": 844, \"sum\": 844, \"var\": 0.0, \"mean\": 844.0}], [6.45, {\"count\": 1, \"std\": 0.0, \"min\": 819, \"max\": 819, \"sum\": 819, \"var\": 0.0, \"mean\": 819.0}], [6.4958, {\"count\": 2, \"std\": 84.5, \"min\": 203, \"max\": 372, \"sum\": 575, \"var\": 7140.25, \"mean\": 287.5}], [6.75, {\"count\": 2, \"std\": 255.5, \"min\": 144, \"max\": 655, \"sum\": 799, \"var\": 65280.25, \"mean\": 399.5}], [6.8583, {\"count\": 1, \"std\": 0.0, \"min\": 412, \"max\": 412, \"sum\": 412, \"var\": 0.0, \"mean\": 412.0}], [6.95, {\"count\": 1, \"std\": 0.0, \"min\": 826, \"max\": 826, \"sum\": 826, \"var\": 0.0, \"mean\": 826.0}], [6.975, {\"count\": 1, \"std\": 0.0, \"min\": 130, \"max\": 130, \"sum\": 130, \"var\": 0.0, \"mean\": 130.0}], [7.0458, {\"count\": 1, \"std\": 0.0, \"min\": 478, \"max\": 478, \"sum\": 478, \"var\": 0.0, \"mean\": 478.0}], [7.05, {\"count\": 7, \"std\": 261.94375467310704, \"min\": 132, \"max\": 885, \"sum\": 3455, \"var\": 68614.5306122449, \"mean\": 493.57142857142856}], [7.0542, {\"count\": 2, \"std\": 45.0, \"min\": 632, \"max\": 722, \"sum\": 1354, \"var\": 2025.0, \"mean\": 677.0}], [7.125, {\"count\": 4, \"std\": 191.42671574260476, \"min\": 244, \"max\": 762, \"sum\": 2031, \"var\": 36644.1875, \"mean\": 507.75}], [7.225, {\"count\": 9, \"std\": 242.0651886487513, \"min\": 27, \"max\": 774, \"sum\": 4083, \"var\": 58595.555555555555, \"mean\": 453.6666666666667}], [7.2292, {\"count\": 11, \"std\": 267.6004793137068, \"min\": 58, \"max\": 860, \"sum\": 5420, \"var\": 71610.01652892563, \"mean\": 492.72727272727275}], [7.25, {\"count\": 12, \"std\": 208.35644871762963, \"min\": 1, \"max\": 786, \"sum\": 4243, \"var\": 43412.409722222226, \"mean\": 353.5833333333333}], [7.3125, {\"count\": 1, \"std\": 0.0, \"min\": 155, \"max\": 155, \"sum\": 155, \"var\": 0.0, \"mean\": 155.0}], [7.4958, {\"count\": 2, \"std\": 74.5, \"min\": 515, \"max\": 664, \"sum\": 1179, \"var\": 5550.25, \"mean\": 589.5}], [7.5208, {\"count\": 1, \"std\": 0.0, \"min\": 479, \"max\": 479, \"sum\": 479, \"var\": 0.0, \"mean\": 479.0}], [7.55, {\"count\": 3, \"std\": 254.18234924295328, \"min\": 236, \"max\": 846, \"sum\": 1731, \"var\": 64608.666666666664, \"mean\": 577.0}], [7.6292, {\"count\": 1, \"std\": 0.0, \"min\": 503, \"max\": 503, \"sum\": 503, \"var\": 0.0, \"mean\": 503.0}], [7.65, {\"count\": 3, \"std\": 297.9992542869119, \"min\": 76, \"max\": 716, \"sum\": 1492, \"var\": 88803.55555555556, \"mean\": 497.3333333333333}], [7.725, {\"count\": 1, \"std\": 0.0, \"min\": 469, \"max\": 469, \"sum\": 469, \"var\": 0.0, \"mean\": 469.0}], [7.7292, {\"count\": 1, \"std\": 0.0, \"min\": 389, \"max\": 389, \"sum\": 389, \"var\": 0.0, \"mean\": 389.0}], [7.7333, {\"count\": 2, \"std\": 104.0, \"min\": 422, \"max\": 630, \"sum\": 1052, \"var\": 10816.0, \"mean\": 526.0}], [7.7375, {\"count\": 1, \"std\": 0.0, \"min\": 779, \"max\": 779, \"sum\": 779, \"var\": 0.0, \"mean\": 779.0}], [7.7417, {\"count\": 1, \"std\": 0.0, \"min\": 704, \"max\": 704, \"sum\": 704, \"var\": 0.0, \"mean\": 704.0}], [7.75, {\"count\": 22, \"std\": 236.20207765302004, \"min\": 117, \"max\": 891, \"sum\": 10586, \"var\": 55791.421487603315, \"mean\": 481.1818181818182}], [7.775, {\"count\": 13, \"std\": 237.15188751405566, \"min\": 163, \"max\": 852, \"sum\": 7169, \"var\": 56241.0177514793, \"mean\": 551.4615384615385}], [7.7958, {\"count\": 4, \"std\": 144.34767057351496, \"min\": 396, \"max\": 757, \"sum\": 2342, \"var\": 20836.249999999996, \"mean\": 585.5}], [7.8, {\"count\": 1, \"std\": 0.0, \"min\": 52, \"max\": 52, \"sum\": 52, \"var\": 0.0, \"mean\": 52.0}], [7.8292, {\"count\": 1, \"std\": 0.0, \"min\": 553, \"max\": 553, \"sum\": 553, \"var\": 0.0, \"mean\": 553.0}], [7.8542, {\"count\": 10, \"std\": 283.94992516287095, \"min\": 15, \"max\": 834, \"sum\": 4538, \"var\": 80627.56000000003, \"mean\": 453.8}], [7.875, {\"count\": 1, \"std\": 0.0, \"min\": 423, \"max\": 423, \"sum\": 423, \"var\": 0.0, \"mean\": 423.0}], [7.8875, {\"count\": 1, \"std\": 0.0, \"min\": 811, \"max\": 811, \"sum\": 811, \"var\": 0.0, \"mean\": 811.0}], [7.8958, {\"count\": 37, \"std\": 274.1742233471105, \"min\": 30, \"max\": 882, \"sum\": 17235, \"var\": 75171.50474799125, \"mean\": 465.81081081081084}], [7.925, {\"count\": 10, \"std\": 267.6961897375456, \"min\": 105, \"max\": 841, \"sum\": 4725, \"var\": 71661.25, \"mean\": 472.5}], [8.05, {\"count\": 38, \"std\": 250.47403811036594, \"min\": 5, \"max\": 838, \"sum\": 14728, \"var\": 62737.24376731305, \"mean\": 387.5789473684211}], [8.1375, {\"count\": 1, \"std\": 0.0, \"min\": 681, \"max\": 681, \"sum\": 681, \"var\": 0.0, \"mean\": 681.0}], [8.1583, {\"count\": 1, \"std\": 0.0, \"min\": 68, \"max\": 68, \"sum\": 68, \"var\": 0.0, \"mean\": 68.0}], [8.3, {\"count\": 1, \"std\": 0.0, \"min\": 835, \"max\": 835, \"sum\": 835, \"var\": 0.0, \"mean\": 835.0}], [8.3625, {\"count\": 1, \"std\": 0.0, \"min\": 770, \"max\": 770, \"sum\": 770, \"var\": 0.0, \"mean\": 770.0}], [8.4042, {\"count\": 1, \"std\": 0.0, \"min\": 198, \"max\": 198, \"sum\": 198, \"var\": 0.0, \"mean\": 198.0}], [8.4333, {\"count\": 1, \"std\": 0.0, \"min\": 653, \"max\": 653, \"sum\": 653, \"var\": 0.0, \"mean\": 653.0}], [8.4583, {\"count\": 1, \"std\": 0.0, \"min\": 6, \"max\": 6, \"sum\": 6, \"var\": 0.0, \"mean\": 6.0}], [8.6542, {\"count\": 1, \"std\": 0.0, \"min\": 104, \"max\": 104, \"sum\": 104, \"var\": 0.0, \"mean\": 104.0}], [8.6625, {\"count\": 12, \"std\": 248.64125205247467, \"min\": 70, \"max\": 845, \"sum\": 5350, \"var\": 61822.47222222224, \"mean\": 445.8333333333333}], [8.7125, {\"count\": 1, \"std\": 0.0, \"min\": 585, \"max\": 585, \"sum\": 585, \"var\": 0.0, \"mean\": 585.0}], [8.85, {\"count\": 1, \"std\": 0.0, \"min\": 294, \"max\": 294, \"sum\": 294, \"var\": 0.0, \"mean\": 294.0}], [9.0, {\"count\": 2, \"std\": 396.5, \"min\": 81, \"max\": 874, \"sum\": 955, \"var\": 157212.25, \"mean\": 477.5}], [9.2167, {\"count\": 1, \"std\": 0.0, \"min\": 139, \"max\": 139, \"sum\": 139, \"var\": 0.0, \"mean\": 139.0}], [9.225, {\"count\": 2, \"std\": 166.0, \"min\": 351, \"max\": 683, \"sum\": 1034, \"var\": 27556.0, \"mean\": 517.0}], [9.35, {\"count\": 1, \"std\": 0.0, \"min\": 226, \"max\": 226, \"sum\": 226, \"var\": 0.0, \"mean\": 226.0}], [9.475, {\"count\": 1, \"std\": 0.0, \"min\": 41, \"max\": 41, \"sum\": 41, \"var\": 0.0, \"mean\": 41.0}], [9.4833, {\"count\": 1, \"std\": 0.0, \"min\": 714, \"max\": 714, \"sum\": 714, \"var\": 0.0, \"mean\": 714.0}], [9.5, {\"count\": 7, \"std\": 247.79772857254824, \"min\": 201, \"max\": 869, \"sum\": 3675, \"var\": 61403.71428571428, \"mean\": 525.0}], [9.5875, {\"count\": 1, \"std\": 0.0, \"min\": 504, \"max\": 504, \"sum\": 504, \"var\": 0.0, \"mean\": 504.0}], [9.825, {\"count\": 2, \"std\": 144.5, \"min\": 114, \"max\": 403, \"sum\": 517, \"var\": 20880.25, \"mean\": 258.5}], [9.8375, {\"count\": 1, \"std\": 0.0, \"min\": 475, \"max\": 475, \"sum\": 475, \"var\": 0.0, \"mean\": 475.0}], [9.8458, {\"count\": 1, \"std\": 0.0, \"min\": 877, \"max\": 877, \"sum\": 877, \"var\": 0.0, \"mean\": 877.0}], [10.1708, {\"count\": 1, \"std\": 0.0, \"min\": 688, \"max\": 688, \"sum\": 688, \"var\": 0.0, \"mean\": 688.0}], [10.4625, {\"count\": 2, \"std\": 23.0, \"min\": 206, \"max\": 252, \"sum\": 458, \"var\": 529.0, \"mean\": 229.0}], [10.5, {\"count\": 15, \"std\": 282.4294287467618, \"min\": 34, \"max\": 884, \"sum\": 6752, \"var\": 79766.38222222221, \"mean\": 450.1333333333333}], [10.5167, {\"count\": 1, \"std\": 0.0, \"min\": 883, \"max\": 883, \"sum\": 883, \"var\": 0.0, \"mean\": 883.0}], [11.5, {\"count\": 4, \"std\": 275.12576669588765, \"min\": 145, \"max\": 862, \"sum\": 2295, \"var\": 75694.1875, \"mean\": 573.75}], [12.275, {\"count\": 1, \"std\": 0.0, \"min\": 240, \"max\": 240, \"sum\": 240, \"var\": 0.0, \"mean\": 240.0}], [12.35, {\"count\": 1, \"std\": 0.0, \"min\": 627, \"max\": 627, \"sum\": 627, \"var\": 0.0, \"mean\": 627.0}], [12.525, {\"count\": 1, \"std\": 0.0, \"min\": 151, \"max\": 151, \"sum\": 151, \"var\": 0.0, \"mean\": 151.0}], [12.875, {\"count\": 1, \"std\": 0.0, \"min\": 293, \"max\": 293, \"sum\": 293, \"var\": 0.0, \"mean\": 293.0}], [13.0, {\"count\": 26, \"std\": 258.9057223719149, \"min\": 135, \"max\": 887, \"sum\": 12909, \"var\": 67032.17307692309, \"mean\": 496.50000000000006}], [13.5, {\"count\": 3, \"std\": 194.63869662074453, \"min\": 233, \"max\": 696, \"sum\": 1492, \"var\": 37884.222222222226, \"mean\": 497.3333333333333}], [14.0, {\"count\": 1, \"std\": 0.0, \"min\": 318, \"max\": 318, \"sum\": 318, \"var\": 0.0, \"mean\": 318.0}], [14.1083, {\"count\": 1, \"std\": 0.0, \"min\": 861, \"max\": 861, \"sum\": 861, \"var\": 0.0, \"mean\": 861.0}], [14.4, {\"count\": 2, \"std\": 96.5, \"min\": 424, \"max\": 617, \"sum\": 1041, \"var\": 9312.25, \"mean\": 520.5}], [14.4542, {\"count\": 6, \"std\": 239.05624628712147, \"min\": 74, \"max\": 703, \"sum\": 2114, \"var\": 57147.88888888888, \"mean\": 352.3333333333333}], [14.4583, {\"count\": 3, \"std\": 202.03025076018253, \"min\": 115, \"max\": 579, \"sum\": 1190, \"var\": 40816.222222222226, \"mean\": 396.6666666666667}], [14.5, {\"count\": 5, \"std\": 247.83429948253735, \"min\": 133, \"max\": 761, \"sum\": 2163, \"var\": 61421.84000000001, \"mean\": 432.6}], [15.0, {\"count\": 1, \"std\": 0.0, \"min\": 587, \"max\": 587, \"sum\": 587, \"var\": 0.0, \"mean\": 587.0}], [15.0458, {\"count\": 1, \"std\": 0.0, \"min\": 136, \"max\": 136, \"sum\": 136, \"var\": 0.0, \"mean\": 136.0}], [15.05, {\"count\": 1, \"std\": 0.0, \"min\": 182, \"max\": 182, \"sum\": 182, \"var\": 0.0, \"mean\": 182.0}], [15.1, {\"count\": 1, \"std\": 0.0, \"min\": 498, \"max\": 498, \"sum\": 498, \"var\": 0.0, \"mean\": 498.0}], [15.2458, {\"count\": 2, \"std\": 356.0, \"min\": 141, \"max\": 853, \"sum\": 994, \"var\": 126736.0, \"mean\": 497.0}], [15.5, {\"count\": 5, \"std\": 260.22421101811415, \"min\": 47, \"max\": 719, \"sum\": 1978, \"var\": 67716.64, \"mean\": 395.6}], [15.55, {\"count\": 1, \"std\": 0.0, \"min\": 606, \"max\": 606, \"sum\": 606, \"var\": 0.0, \"mean\": 606.0}], [15.85, {\"count\": 2, \"std\": 98.5, \"min\": 207, \"max\": 404, \"sum\": 611, \"var\": 9702.25, \"mean\": 305.5}], [16.1, {\"count\": 7, \"std\": 216.7214896627297, \"min\": 161, \"max\": 744, \"sum\": 3778, \"var\": 46968.204081632655, \"mean\": 539.7142857142857}], [17.8, {\"count\": 2, \"std\": 152.0, \"min\": 50, \"max\": 354, \"sum\": 404, \"var\": 23104.0, \"mean\": 202.0}], [18.0, {\"count\": 3, \"std\": 144.01003051485299, \"min\": 19, \"max\": 334, \"sum\": 392, \"var\": 20738.888888888887, \"mean\": 130.66666666666669}], [18.7875, {\"count\": 1, \"std\": 0.0, \"min\": 732, \"max\": 732, \"sum\": 732, \"var\": 0.0, \"mean\": 732.0}], [19.9667, {\"count\": 2, \"std\": 19.5, \"min\": 452, \"max\": 491, \"sum\": 943, \"var\": 380.25, \"mean\": 471.5}], [20.2125, {\"count\": 2, \"std\": 85.0, \"min\": 255, \"max\": 425, \"sum\": 680, \"var\": 7225.0, \"mean\": 340.0}], [20.25, {\"count\": 1, \"std\": 0.0, \"min\": 747, \"max\": 747, \"sum\": 747, \"var\": 0.0, \"mean\": 747.0}], [20.525, {\"count\": 1, \"std\": 0.0, \"min\": 549, \"max\": 549, \"sum\": 549, \"var\": 0.0, \"mean\": 549.0}], [20.575, {\"count\": 1, \"std\": 0.0, \"min\": 94, \"max\": 94, \"sum\": 94, \"var\": 0.0, \"mean\": 94.0}], [21.0, {\"count\": 4, \"std\": 184.45239900852468, \"min\": 42, \"max\": 477, \"sum\": 1043, \"var\": 34022.68749999999, \"mean\": 260.75}], [21.075, {\"count\": 4, \"std\": 237.58893071858378, \"min\": 8, \"max\": 568, \"sum\": 976, \"var\": 56448.5, \"mean\": 244.0}], [21.6792, {\"count\": 1, \"std\": 0.0, \"min\": 49, \"max\": 49, \"sum\": 49, \"var\": 0.0, \"mean\": 49.0}], [22.525, {\"count\": 1, \"std\": 0.0, \"min\": 509, \"max\": 509, \"sum\": 509, \"var\": 0.0, \"mean\": 509.0}], [23.45, {\"count\": 2, \"std\": 52.5, \"min\": 784, \"max\": 889, \"sum\": 1673, \"var\": 2756.25, \"mean\": 836.5}], [24.0, {\"count\": 1, \"std\": 0.0, \"min\": 309, \"max\": 309, \"sum\": 309, \"var\": 0.0, \"mean\": 309.0}], [24.15, {\"count\": 7, \"std\": 142.68890093129033, \"min\": 420, \"max\": 812, \"sum\": 4481, \"var\": 20360.12244897959, \"mean\": 640.1428571428571}], [25.4667, {\"count\": 4, \"std\": 126.5629783941576, \"min\": 177, \"max\": 486, \"sum\": 1303, \"var\": 16018.187500000004, \"mean\": 325.75}], [25.5875, {\"count\": 1, \"std\": 0.0, \"min\": 663, \"max\": 663, \"sum\": 663, \"var\": 0.0, \"mean\": 663.0}], [25.925, {\"count\": 1, \"std\": 0.0, \"min\": 169, \"max\": 169, \"sum\": 169, \"var\": 0.0, \"mean\": 169.0}], [26.0, {\"count\": 16, \"std\": 251.67115665834652, \"min\": 21, \"max\": 855, \"sum\": 7111, \"var\": 63338.37109375, \"mean\": 444.4375}], [26.25, {\"count\": 2, \"std\": 161.5, \"min\": 315, \"max\": 638, \"sum\": 953, \"var\": 26082.25, \"mean\": 476.5}], [26.55, {\"count\": 7, \"std\": 144.82980863547309, \"min\": 253, \"max\": 712, \"sum\": 3678, \"var\": 20975.673469387755, \"mean\": 525.4285714285714}], [27.0, {\"count\": 1, \"std\": 0.0, \"min\": 218, \"max\": 218, \"sum\": 218, \"var\": 0.0, \"mean\": 218.0}], [27.7208, {\"count\": 4, \"std\": 142.93092737402915, \"min\": 31, \"max\": 362, \"sum\": 754, \"var\": 20429.25, \"mean\": 188.5}], [27.75, {\"count\": 2, \"std\": 1.0, \"min\": 451, \"max\": 453, \"sum\": 904, \"var\": 1.0, \"mean\": 452.0}], [27.9, {\"count\": 6, \"std\": 272.2748305175, \"min\": 64, \"max\": 820, \"sum\": 2691, \"var\": 74133.58333333334, \"mean\": 448.5}], [28.5, {\"count\": 1, \"std\": 0.0, \"min\": 332, \"max\": 332, \"sum\": 332, \"var\": 0.0, \"mean\": 332.0}], [28.7125, {\"count\": 1, \"std\": 0.0, \"min\": 178, \"max\": 178, \"sum\": 178, \"var\": 0.0, \"mean\": 178.0}], [29.125, {\"count\": 5, \"std\": 345.2596703931694, \"min\": 17, \"max\": 886, \"sum\": 2142, \"var\": 119204.23999999999, \"mean\": 428.4}], [29.7, {\"count\": 2, \"std\": 107.0, \"min\": 274, \"max\": 488, \"sum\": 762, \"var\": 11449.0, \"mean\": 381.0}], [30.0, {\"count\": 1, \"std\": 0.0, \"min\": 783, \"max\": 783, \"sum\": 783, \"var\": 0.0, \"mean\": 783.0}], [30.0708, {\"count\": 1, \"std\": 0.0, \"min\": 123, \"max\": 123, \"sum\": 123, \"var\": 0.0, \"mean\": 123.0}], [30.5, {\"count\": 1, \"std\": 0.0, \"min\": 493, \"max\": 493, \"sum\": 493, \"var\": 0.0, \"mean\": 493.0}], [30.6958, {\"count\": 2, \"std\": 309.5, \"min\": 175, \"max\": 794, \"sum\": 969, \"var\": 95790.25, \"mean\": 484.5}], [31.0, {\"count\": 1, \"std\": 0.0, \"min\": 271, \"max\": 271, \"sum\": 271, \"var\": 0.0, \"mean\": 271.0}], [31.275, {\"count\": 7, \"std\": 297.20686123867824, \"min\": 14, \"max\": 851, \"sum\": 3495, \"var\": 88331.91836734695, \"mean\": 499.2857142857143}], [31.3875, {\"count\": 1, \"std\": 0.0, \"min\": 183, \"max\": 183, \"sum\": 183, \"var\": 0.0, \"mean\": 183.0}], [32.3208, {\"count\": 1, \"std\": 0.0, \"min\": 626, \"max\": 626, \"sum\": 626, \"var\": 0.0, \"mean\": 626.0}], [33.0, {\"count\": 1, \"std\": 0.0, \"min\": 849, \"max\": 849, \"sum\": 849, \"var\": 0.0, \"mean\": 849.0}], [33.5, {\"count\": 1, \"std\": 0.0, \"min\": 171, \"max\": 171, \"sum\": 171, \"var\": 0.0, \"mean\": 171.0}], [34.0208, {\"count\": 1, \"std\": 0.0, \"min\": 516, \"max\": 516, \"sum\": 516, \"var\": 0.0, \"mean\": 516.0}], [34.375, {\"count\": 4, \"std\": 258.5008462268547, \"min\": 87, \"max\": 737, \"sum\": 1409, \"var\": 66822.6875, \"mean\": 352.25}], [34.6542, {\"count\": 1, \"std\": 0.0, \"min\": 97, \"max\": 97, \"sum\": 97, \"var\": 0.0, \"mean\": 97.0}], [35.0, {\"count\": 1, \"std\": 0.0, \"min\": 352, \"max\": 352, \"sum\": 352, \"var\": 0.0, \"mean\": 352.0}], [35.5, {\"count\": 1, \"std\": 0.0, \"min\": 340, \"max\": 340, \"sum\": 340, \"var\": 0.0, \"mean\": 340.0}], [36.75, {\"count\": 1, \"std\": 0.0, \"min\": 146, \"max\": 146, \"sum\": 146, \"var\": 0.0, \"mean\": 146.0}], [37.0042, {\"count\": 1, \"std\": 0.0, \"min\": 818, \"max\": 818, \"sum\": 818, \"var\": 0.0, \"mean\": 818.0}], [38.5, {\"count\": 1, \"std\": 0.0, \"min\": 463, \"max\": 463, \"sum\": 463, \"var\": 0.0, \"mean\": 463.0}], [39.0, {\"count\": 1, \"std\": 0.0, \"min\": 685, \"max\": 685, \"sum\": 685, \"var\": 0.0, \"mean\": 685.0}], [39.6, {\"count\": 1, \"std\": 0.0, \"min\": 767, \"max\": 767, \"sum\": 767, \"var\": 0.0, \"mean\": 767.0}], [39.6875, {\"count\": 6, \"std\": 290.3170680480223, \"min\": 51, \"max\": 825, \"sum\": 2634, \"var\": 84284.0, \"mean\": 439.0}], [40.125, {\"count\": 1, \"std\": 0.0, \"min\": 584, \"max\": 584, \"sum\": 584, \"var\": 0.0, \"mean\": 584.0}], [41.5792, {\"count\": 1, \"std\": 0.0, \"min\": 686, \"max\": 686, \"sum\": 686, \"var\": 0.0, \"mean\": 686.0}], [42.4, {\"count\": 1, \"std\": 0.0, \"min\": 603, \"max\": 603, \"sum\": 603, \"var\": 0.0, \"mean\": 603.0}], [46.9, {\"count\": 6, \"std\": 254.3563226831385, \"min\": 60, \"max\": 684, \"sum\": 2363, \"var\": 64697.13888888888, \"mean\": 393.8333333333333}], [47.1, {\"count\": 1, \"std\": 0.0, \"min\": 84, \"max\": 84, \"sum\": 84, \"var\": 0.0, \"mean\": 84.0}], [49.5042, {\"count\": 1, \"std\": 0.0, \"min\": 494, \"max\": 494, \"sum\": 494, \"var\": 0.0, \"mean\": 494.0}], [50.0, {\"count\": 1, \"std\": 0.0, \"min\": 186, \"max\": 186, \"sum\": 186, \"var\": 0.0, \"mean\": 186.0}], [50.4958, {\"count\": 1, \"std\": 0.0, \"min\": 868, \"max\": 868, \"sum\": 868, \"var\": 0.0, \"mean\": 868.0}], [51.8625, {\"count\": 1, \"std\": 0.0, \"min\": 7, \"max\": 7, \"sum\": 7, \"var\": 0.0, \"mean\": 7.0}], [52.0, {\"count\": 4, \"std\": 261.01759998130393, \"min\": 36, \"max\": 672, \"sum\": 1295, \"var\": 68130.1875, \"mean\": 323.75}], [53.1, {\"count\": 2, \"std\": 305.5, \"min\": 138, \"max\": 749, \"sum\": 887, \"var\": 93330.25, \"mean\": 443.5}], [55.9, {\"count\": 1, \"std\": 0.0, \"min\": 435, \"max\": 435, \"sum\": 435, \"var\": 0.0, \"mean\": 435.0}], [56.4958, {\"count\": 2, \"std\": 328.5, \"min\": 170, \"max\": 827, \"sum\": 997, \"var\": 107912.25, \"mean\": 498.5}], [61.175, {\"count\": 1, \"std\": 0.0, \"min\": 93, \"max\": 93, \"sum\": 93, \"var\": 0.0, \"mean\": 93.0}], [61.3792, {\"count\": 1, \"std\": 0.0, \"min\": 156, \"max\": 156, \"sum\": 156, \"var\": 0.0, \"mean\": 156.0}], [61.9792, {\"count\": 1, \"std\": 0.0, \"min\": 55, \"max\": 55, \"sum\": 55, \"var\": 0.0, \"mean\": 55.0}], [66.6, {\"count\": 1, \"std\": 0.0, \"min\": 337, \"max\": 337, \"sum\": 337, \"var\": 0.0, \"mean\": 337.0}], [69.55, {\"count\": 7, \"std\": 310.115975672565, \"min\": 160, \"max\": 864, \"sum\": 3372, \"var\": 96171.91836734694, \"mean\": 481.7142857142857}], [71.0, {\"count\": 1, \"std\": 0.0, \"min\": 746, \"max\": 746, \"sum\": 746, \"var\": 0.0, \"mean\": 746.0}], [73.5, {\"count\": 5, \"std\": 252.72008230451334, \"min\": 73, \"max\": 666, \"sum\": 1902, \"var\": 63867.44, \"mean\": 380.4}], [77.2875, {\"count\": 2, \"std\": 11.0, \"min\": 103, \"max\": 125, \"sum\": 228, \"var\": 121.0, \"mean\": 114.0}], [78.85, {\"count\": 1, \"std\": 0.0, \"min\": 742, \"max\": 742, \"sum\": 742, \"var\": 0.0, \"mean\": 742.0}], [79.2, {\"count\": 2, \"std\": 325.0, \"min\": 140, \"max\": 790, \"sum\": 930, \"var\": 105625.0, \"mean\": 465.0}], [79.65, {\"count\": 1, \"std\": 0.0, \"min\": 263, \"max\": 263, \"sum\": 263, \"var\": 0.0, \"mean\": 263.0}], [82.1708, {\"count\": 1, \"std\": 0.0, \"min\": 35, \"max\": 35, \"sum\": 35, \"var\": 0.0, \"mean\": 35.0}], [83.475, {\"count\": 1, \"std\": 0.0, \"min\": 63, \"max\": 63, \"sum\": 63, \"var\": 0.0, \"mean\": 63.0}], [90.0, {\"count\": 1, \"std\": 0.0, \"min\": 246, \"max\": 246, \"sum\": 246, \"var\": 0.0, \"mean\": 246.0}], [106.425, {\"count\": 1, \"std\": 0.0, \"min\": 545, \"max\": 545, \"sum\": 545, \"var\": 0.0, \"mean\": 545.0}], [108.9, {\"count\": 1, \"std\": 0.0, \"min\": 506, \"max\": 506, \"sum\": 506, \"var\": 0.0, \"mean\": 506.0}], [110.8833, {\"count\": 1, \"std\": 0.0, \"min\": 699, \"max\": 699, \"sum\": 699, \"var\": 0.0, \"mean\": 699.0}], [113.275, {\"count\": 1, \"std\": 0.0, \"min\": 660, \"max\": 660, \"sum\": 660, \"var\": 0.0, \"mean\": 660.0}], [135.6333, {\"count\": 1, \"std\": 0.0, \"min\": 374, \"max\": 374, \"sum\": 374, \"var\": 0.0, \"mean\": 374.0}], [151.55, {\"count\": 2, \"std\": 100.5, \"min\": 298, \"max\": 499, \"sum\": 797, \"var\": 10100.25, \"mean\": 398.5}], [153.4625, {\"count\": 1, \"std\": 0.0, \"min\": 333, \"max\": 333, \"sum\": 333, \"var\": 0.0, \"mean\": 333.0}], [211.5, {\"count\": 1, \"std\": 0.0, \"min\": 378, \"max\": 378, \"sum\": 378, \"var\": 0.0, \"mean\": 378.0}], [221.7792, {\"count\": 1, \"std\": 0.0, \"min\": 528, \"max\": 528, \"sum\": 528, \"var\": 0.0, \"mean\": 528.0}], [227.525, {\"count\": 1, \"std\": 0.0, \"min\": 558, \"max\": 558, \"sum\": 558, \"var\": 0.0, \"mean\": 558.0}], [247.5208, {\"count\": 1, \"std\": 0.0, \"min\": 119, \"max\": 119, \"sum\": 119, \"var\": 0.0, \"mean\": 119.0}], [263.0, {\"count\": 2, \"std\": 205.5, \"min\": 28, \"max\": 439, \"sum\": 467, \"var\": 42230.25, \"mean\": 233.5}]], \"omitted\": 0}, \"columns\": [{\"dtype\": \"int\", \"name\": \"PassengerId\"}, {\"dtype\": \"int\", \"name\": \"Survived\"}, {\"dtype\": \"int\", \"name\": \"Pclass\"}, {\"dtype\": \"str\", \"name\": \"Name\"}, {\"dtype\": \"str\", \"name\": \"Sex\"}, {\"dtype\": \"float\", \"name\": \"Age\"}, {\"dtype\": \"int\", \"name\": \"SibSp\"}, {\"dtype\": \"int\", \"name\": \"Parch\"}, {\"dtype\": \"str\", \"name\": \"Ticket\"}, {\"dtype\": \"float\", \"name\": \"Fare\"}, {\"dtype\": \"str\", \"name\": \"Cabin\"}, {\"dtype\": \"str\", \"name\": \"Embarked\"}]}, e);\n",
       "                });\n",
       "            })();\n",
       "        "
      ]
     },
     "metadata": {},
     "output_type": "display_data"
    }
   ],
   "source": [
    "full_train_data[full_train_data['Survived'] == 0].show(view=\"Bar Chart\", x=\"Fare\")"
   ]
  },
  {
   "cell_type": "code",
   "execution_count": 45,
   "metadata": {},
   "outputs": [
    {
     "data": {
      "application/javascript": [
       "$(\"head\").append($(\"<link/>\").attr({\n",
       "  rel:  \"stylesheet\",\n",
       "  type: \"text/css\",\n",
       "  href: \"//cdnjs.cloudflare.com/ajax/libs/font-awesome/4.1.0/css/font-awesome.min.css\"\n",
       "}));\n",
       "$(\"head\").append($(\"<link/>\").attr({\n",
       "  rel:  \"stylesheet\",\n",
       "  type: \"text/css\",\n",
       "  href: \"https://static.turi.com/products/graphlab-create/2.1/canvas/css/canvas.css\"\n",
       "}));\n",
       "\n",
       "            (function(){\n",
       "\n",
       "                var e = null;\n",
       "                if (typeof element == 'undefined') {\n",
       "                    var scripts = document.getElementsByTagName('script');\n",
       "                    var thisScriptTag = scripts[scripts.length-1];\n",
       "                    var parentDiv = thisScriptTag.parentNode;\n",
       "                    e = document.createElement('div');\n",
       "                    parentDiv.appendChild(e);\n",
       "                } else {\n",
       "                    e = element[0];\n",
       "                }\n",
       "\n",
       "                if (typeof requirejs !== 'undefined') {\n",
       "                    // disable load timeout; ipython_app.js is large and can take a while to load.\n",
       "                    requirejs.config({waitSeconds: 0});\n",
       "                }\n",
       "\n",
       "                require(['https://static.turi.com/products/graphlab-create/2.1/canvas/js/ipython_app.js'], function(IPythonApp){\n",
       "                    var app = new IPythonApp();\n",
       "                    app.attachView('sframe','Plots', {\"selected_variable\": {\"name\": [\"<SFrame>\"], \"descriptives\": {\"rows\": 342, \"columns\": 12}, \"view_component\": \"Plots\", \"view_file\": \"sframe\", \"view_params\": {\"y\": \"PassengerId\", \"x\": \"Fare\", \"columns\": [\"PassengerId\", \"Survived\", \"Pclass\", \"Name\", \"Sex\", \"Age\", \"SibSp\", \"Parch\", \"Ticket\", \"Fare\", \"Cabin\", \"Embarked\"], \"view\": \"Bar Chart\"}, \"view_components\": [\"Summary\", \"Table\", \"Bar Chart\", \"BoxWhisker Plot\", \"Line Chart\", \"Scatter Plot\", \"Heat Map\", \"Plots\"], \"type\": \"SFrame\", \"columns\": [{\"dtype\": \"int\", \"name\": \"PassengerId\"}, {\"dtype\": \"int\", \"name\": \"Survived\"}, {\"dtype\": \"int\", \"name\": \"Pclass\"}, {\"dtype\": \"str\", \"name\": \"Name\"}, {\"dtype\": \"str\", \"name\": \"Sex\"}, {\"dtype\": \"float\", \"name\": \"Age\"}, {\"dtype\": \"int\", \"name\": \"SibSp\"}, {\"dtype\": \"int\", \"name\": \"Parch\"}, {\"dtype\": \"str\", \"name\": \"Ticket\"}, {\"dtype\": \"float\", \"name\": \"Fare\"}, {\"dtype\": \"str\", \"name\": \"Cabin\"}, {\"dtype\": \"str\", \"name\": \"Embarked\"}], \"column_identifiers\": [\"Fare\", \"Name\", \"Embarked\", \"Age\", \"Parch\", \"Pclass\", \"Sex\", \"Survived\", \"SibSp\", \"PassengerId\", \"Ticket\", \"Cabin\"]}, \"complete\": 1, \"ipython\": true, \"progress\": 1.0, \"data\": {\"grouped\": [[0.0, {\"count\": 1, \"std\": 0.0, \"min\": 272, \"max\": 272, \"sum\": 272, \"var\": 0.0, \"mean\": 272.0}], [6.975, {\"count\": 1, \"std\": 0.0, \"min\": 805, \"max\": 805, \"sum\": 805, \"var\": 0.0, \"mean\": 805.0}], [7.1417, {\"count\": 1, \"std\": 0.0, \"min\": 128, \"max\": 128, \"sum\": 128, \"var\": 0.0, \"mean\": 128.0}], [7.225, {\"count\": 3, \"std\": 353.0149508952214, \"min\": 20, \"max\": 876, \"sum\": 1450, \"var\": 124619.55555555556, \"mean\": 483.3333333333333}], [7.2292, {\"count\": 4, \"std\": 307.92562007731675, \"min\": 37, \"max\": 781, \"sum\": 1949, \"var\": 94818.1875, \"mean\": 487.25}], [7.25, {\"count\": 1, \"std\": 0.0, \"min\": 377, \"max\": 377, \"sum\": 377, \"var\": 0.0, \"mean\": 377.0}], [7.4958, {\"count\": 1, \"std\": 0.0, \"min\": 787, \"max\": 787, \"sum\": 787, \"var\": 0.0, \"mean\": 787.0}], [7.55, {\"count\": 1, \"std\": 0.0, \"min\": 650, \"max\": 650, \"sum\": 650, \"var\": 0.0, \"mean\": 650.0}], [7.65, {\"count\": 1, \"std\": 0.0, \"min\": 107, \"max\": 107, \"sum\": 107, \"var\": 0.0, \"mean\": 107.0}], [7.7333, {\"count\": 2, \"std\": 270.5, \"min\": 157, \"max\": 698, \"sum\": 855, \"var\": 73170.25, \"mean\": 427.5}], [7.7375, {\"count\": 1, \"std\": 0.0, \"min\": 728, \"max\": 728, \"sum\": 728, \"var\": 0.0, \"mean\": 728.0}], [7.75, {\"count\": 12, \"std\": 219.93635443009416, \"min\": 33, \"max\": 829, \"sum\": 3780, \"var\": 48372.0, \"mean\": 315.0}], [7.775, {\"count\": 3, \"std\": 184.92581095010928, \"min\": 108, \"max\": 555, \"sum\": 931, \"var\": 34197.555555555555, \"mean\": 310.3333333333333}], [7.7875, {\"count\": 1, \"std\": 0.0, \"min\": 83, \"max\": 83, \"sum\": 83, \"var\": 0.0, \"mean\": 83.0}], [7.7958, {\"count\": 2, \"std\": 122.5, \"min\": 147, \"max\": 392, \"sum\": 539, \"var\": 15006.25, \"mean\": 269.5}], [7.8292, {\"count\": 1, \"std\": 0.0, \"min\": 654, \"max\": 654, \"sum\": 654, \"var\": 0.0, \"mean\": 654.0}], [7.8542, {\"count\": 3, \"std\": 156.97628978783885, \"min\": 193, \"max\": 570, \"sum\": 1079, \"var\": 24641.55555555556, \"mean\": 359.6666666666667}], [7.8792, {\"count\": 4, \"std\": 161.34958165424538, \"min\": 29, \"max\": 360, \"sum\": 793, \"var\": 26033.6875, \"mean\": 198.25}], [7.8958, {\"count\": 1, \"std\": 0.0, \"min\": 456, \"max\": 456, \"sum\": 456, \"var\": 0.0, \"mean\": 456.0}], [7.925, {\"count\": 8, \"std\": 255.23442043541073, \"min\": 3, \"max\": 745, \"sum\": 3095, \"var\": 65144.609375000015, \"mean\": 386.875}], [8.0292, {\"count\": 1, \"std\": 0.0, \"min\": 23, \"max\": 23, \"sum\": 23, \"var\": 0.0, \"mean\": 23.0}], [8.05, {\"count\": 5, \"std\": 82.2858432538672, \"min\": 205, \"max\": 430, \"sum\": 1479, \"var\": 6770.960000000001, \"mean\": 295.8}], [8.1125, {\"count\": 1, \"std\": 0.0, \"min\": 445, \"max\": 445, \"sum\": 445, \"var\": 0.0, \"mean\": 445.0}], [8.5167, {\"count\": 1, \"std\": 0.0, \"min\": 804, \"max\": 804, \"sum\": 804, \"var\": 0.0, \"mean\": 804.0}], [8.6625, {\"count\": 1, \"std\": 0.0, \"min\": 822, \"max\": 822, \"sum\": 822, \"var\": 0.0, \"mean\": 822.0}], [8.6833, {\"count\": 1, \"std\": 0.0, \"min\": 798, \"max\": 798, \"sum\": 798, \"var\": 0.0, \"mean\": 798.0}], [9.35, {\"count\": 1, \"std\": 0.0, \"min\": 856, \"max\": 856, \"sum\": 856, \"var\": 0.0, \"mean\": 856.0}], [9.5, {\"count\": 2, \"std\": 102.5, \"min\": 82, \"max\": 287, \"sum\": 369, \"var\": 10506.25, \"mean\": 184.5}], [9.5875, {\"count\": 1, \"std\": 0.0, \"min\": 484, \"max\": 484, \"sum\": 484, \"var\": 0.0, \"mean\": 484.0}], [9.8417, {\"count\": 1, \"std\": 0.0, \"min\": 678, \"max\": 678, \"sum\": 678, \"var\": 0.0, \"mean\": 678.0}], [10.5, {\"count\": 9, \"std\": 237.10757052443518, \"min\": 57, \"max\": 718, \"sum\": 3228, \"var\": 56220.0, \"mean\": 358.6666666666667}], [11.1333, {\"count\": 3, \"std\": 373.2776744224361, \"min\": 9, \"max\": 870, \"sum\": 1052, \"var\": 139336.22222222222, \"mean\": 350.6666666666667}], [11.2417, {\"count\": 2, \"std\": 43.0, \"min\": 40, \"max\": 126, \"sum\": 166, \"var\": 1849.0, \"mean\": 83.0}], [12.0, {\"count\": 1, \"std\": 0.0, \"min\": 390, \"max\": 390, \"sum\": 390, \"var\": 0.0, \"mean\": 390.0}], [12.2875, {\"count\": 1, \"std\": 0.0, \"min\": 480, \"max\": 480, \"sum\": 480, \"var\": 0.0, \"mean\": 480.0}], [12.35, {\"count\": 2, \"std\": 9.5, \"min\": 304, \"max\": 323, \"sum\": 627, \"var\": 90.25, \"mean\": 313.5}], [12.475, {\"count\": 4, \"std\": 306.216834938904, \"min\": 80, \"max\": 824, \"sum\": 2434, \"var\": 93768.75, \"mean\": 608.5}], [12.65, {\"count\": 1, \"std\": 0.0, \"min\": 400, \"max\": 400, \"sum\": 400, \"var\": 0.0, \"mean\": 400.0}], [13.0, {\"count\": 16, \"std\": 241.69246988683778, \"min\": 18, \"max\": 866, \"sum\": 6416, \"var\": 58415.24999999999, \"mean\": 401.0}], [13.4167, {\"count\": 1, \"std\": 0.0, \"min\": 692, \"max\": 692, \"sum\": 692, \"var\": 0.0, \"mean\": 692.0}], [13.5, {\"count\": 1, \"std\": 0.0, \"min\": 707, \"max\": 707, \"sum\": 707, \"var\": 0.0, \"mean\": 707.0}], [13.7917, {\"count\": 1, \"std\": 0.0, \"min\": 474, \"max\": 474, \"sum\": 474, \"var\": 0.0, \"mean\": 474.0}], [13.8583, {\"count\": 1, \"std\": 0.0, \"min\": 867, \"max\": 867, \"sum\": 867, \"var\": 0.0, \"mean\": 867.0}], [13.8625, {\"count\": 1, \"std\": 0.0, \"min\": 548, \"max\": 548, \"sum\": 548, \"var\": 0.0, \"mean\": 548.0}], [14.4542, {\"count\": 1, \"std\": 0.0, \"min\": 831, \"max\": 831, \"sum\": 831, \"var\": 0.0, \"mean\": 831.0}], [14.5, {\"count\": 2, \"std\": 254.0, \"min\": 248, \"max\": 756, \"sum\": 1004, \"var\": 64516.0, \"mean\": 502.0}], [15.2458, {\"count\": 3, \"std\": 270.1752517657135, \"min\": 66, \"max\": 710, \"sum\": 1032, \"var\": 72994.66666666667, \"mean\": 344.0}], [15.5, {\"count\": 3, \"std\": 189.19184854415784, \"min\": 187, \"max\": 613, \"sum\": 1042, \"var\": 35793.555555555555, \"mean\": 347.3333333333333}], [15.7417, {\"count\": 2, \"std\": 120.5, \"min\": 382, \"max\": 623, \"sum\": 1005, \"var\": 14520.25, \"mean\": 502.5}], [15.75, {\"count\": 1, \"std\": 0.0, \"min\": 162, \"max\": 162, \"sum\": 162, \"var\": 0.0, \"mean\": 162.0}], [15.85, {\"count\": 2, \"std\": 28.5, \"min\": 86, \"max\": 143, \"sum\": 229, \"var\": 812.25, \"mean\": 114.5}], [15.9, {\"count\": 2, \"std\": 70.5, \"min\": 349, \"max\": 490, \"sum\": 839, \"var\": 4970.25, \"mean\": 419.5}], [16.0, {\"count\": 1, \"std\": 0.0, \"min\": 16, \"max\": 16, \"sum\": 16, \"var\": 0.0, \"mean\": 16.0}], [16.1, {\"count\": 2, \"std\": 42.0, \"min\": 348, \"max\": 432, \"sum\": 780, \"var\": 1764.0, \"mean\": 390.0}], [16.7, {\"count\": 2, \"std\": 192.0, \"min\": 11, \"max\": 395, \"sum\": 406, \"var\": 36864.0, \"mean\": 203.0}], [17.4, {\"count\": 1, \"std\": 0.0, \"min\": 560, \"max\": 560, \"sum\": 560, \"var\": 0.0, \"mean\": 560.0}], [18.75, {\"count\": 3, \"std\": 193.19305255509462, \"min\": 408, \"max\": 832, \"sum\": 1678, \"var\": 37323.555555555555, \"mean\": 559.3333333333334}], [18.7875, {\"count\": 1, \"std\": 0.0, \"min\": 208, \"max\": 208, \"sum\": 208, \"var\": 0.0, \"mean\": 208.0}], [19.2583, {\"count\": 4, \"std\": 164.8292677287623, \"min\": 449, \"max\": 859, \"sum\": 2423, \"var\": 27168.687499999996, \"mean\": 605.75}], [19.5, {\"count\": 2, \"std\": 87.0, \"min\": 273, \"max\": 447, \"sum\": 720, \"var\": 7569.0, \"mean\": 360.0}], [20.25, {\"count\": 1, \"std\": 0.0, \"min\": 280, \"max\": 280, \"sum\": 280, \"var\": 0.0, \"mean\": 280.0}], [20.525, {\"count\": 2, \"std\": 81.5, \"min\": 166, \"max\": 329, \"sum\": 495, \"var\": 6642.25, \"mean\": 247.5}], [20.575, {\"count\": 1, \"std\": 0.0, \"min\": 789, \"max\": 789, \"sum\": 789, \"var\": 0.0, \"mean\": 789.0}], [21.0, {\"count\": 2, \"std\": 257.5, \"min\": 212, \"max\": 727, \"sum\": 939, \"var\": 66306.25, \"mean\": 469.5}], [22.025, {\"count\": 1, \"std\": 0.0, \"min\": 185, \"max\": 185, \"sum\": 185, \"var\": 0.0, \"mean\": 185.0}], [22.3583, {\"count\": 2, \"std\": 202.5, \"min\": 129, \"max\": 534, \"sum\": 663, \"var\": 41006.25, \"mean\": 331.5}], [23.0, {\"count\": 4, \"std\": 275.38552521873765, \"min\": 99, \"max\": 775, \"sum\": 2277, \"var\": 75837.1875, \"mean\": 569.25}], [23.25, {\"count\": 2, \"std\": 14.5, \"min\": 302, \"max\": 331, \"sum\": 633, \"var\": 210.25, \"mean\": 316.5}], [24.0, {\"count\": 1, \"std\": 0.0, \"min\": 875, \"max\": 875, \"sum\": 875, \"var\": 0.0, \"mean\": 875.0}], [24.15, {\"count\": 1, \"std\": 0.0, \"min\": 110, \"max\": 110, \"sum\": 110, \"var\": 0.0, \"mean\": 110.0}], [25.9292, {\"count\": 2, \"std\": 33.0, \"min\": 797, \"max\": 863, \"sum\": 1660, \"var\": 1089.0, \"mean\": 830.0}], [26.0, {\"count\": 15, \"std\": 196.81537880291097, \"min\": 54, \"max\": 881, \"sum\": 6117, \"var\": 38736.29333333334, \"mean\": 407.8}], [26.25, {\"count\": 4, \"std\": 202.8255099833352, \"min\": 238, \"max\": 802, \"sum\": 2017, \"var\": 41138.1875, \"mean\": 504.25}], [26.2833, {\"count\": 1, \"std\": 0.0, \"min\": 137, \"max\": 137, \"sum\": 137, \"var\": 0.0, \"mean\": 137.0}], [26.2875, {\"count\": 3, \"std\": 90.54280755532159, \"min\": 513, \"max\": 708, \"sum\": 1923, \"var\": 8198.0, \"mean\": 641.0}], [26.3875, {\"count\": 1, \"std\": 0.0, \"min\": 573, \"max\": 573, \"sum\": 573, \"var\": 0.0, \"mean\": 573.0}], [26.55, {\"count\": 8, \"std\": 238.1797837243959, \"min\": 12, \"max\": 858, \"sum\": 3511, \"var\": 56729.60937500001, \"mean\": 438.875}], [27.0, {\"count\": 1, \"std\": 0.0, \"min\": 601, \"max\": 601, \"sum\": 601, \"var\": 0.0, \"mean\": 601.0}], [27.7208, {\"count\": 1, \"std\": 0.0, \"min\": 195, \"max\": 195, \"sum\": 195, \"var\": 0.0, \"mean\": 195.0}], [27.75, {\"count\": 2, \"std\": 207.0, \"min\": 59, \"max\": 473, \"sum\": 532, \"var\": 42849.0, \"mean\": 266.0}], [29.0, {\"count\": 2, \"std\": 122.5, \"min\": 79, \"max\": 324, \"sum\": 403, \"var\": 15006.25, \"mean\": 201.5}], [29.7, {\"count\": 1, \"std\": 0.0, \"min\": 840, \"max\": 840, \"sum\": 840, \"var\": 0.0, \"mean\": 840.0}], [30.0, {\"count\": 5, \"std\": 127.57335144927407, \"min\": 581, \"max\": 890, \"sum\": 3731, \"var\": 16274.959999999997, \"mean\": 746.2}], [30.0708, {\"count\": 1, \"std\": 0.0, \"min\": 10, \"max\": 10, \"sum\": 10, \"var\": 0.0, \"mean\": 10.0}], [30.5, {\"count\": 4, \"std\": 134.37726742273037, \"min\": 299, \"max\": 633, \"sum\": 1990, \"var\": 18057.249999999996, \"mean\": 497.5}], [31.0, {\"count\": 2, \"std\": 316.5, \"min\": 210, \"max\": 843, \"sum\": 1053, \"var\": 100172.25, \"mean\": 526.5}], [31.3875, {\"count\": 3, \"std\": 105.27424503014338, \"min\": 26, \"max\": 262, \"sum\": 522, \"var\": 11082.666666666666, \"mean\": 174.0}], [32.5, {\"count\": 1, \"std\": 0.0, \"min\": 417, \"max\": 417, \"sum\": 417, \"var\": 0.0, \"mean\": 417.0}], [33.0, {\"count\": 2, \"std\": 62.0, \"min\": 597, \"max\": 721, \"sum\": 1318, \"var\": 3844.0, \"mean\": 659.0}], [35.5, {\"count\": 3, \"std\": 286.9115233346723, \"min\": 24, \"max\": 648, \"sum\": 728, \"var\": 82318.22222222222, \"mean\": 242.66666666666666}], [36.75, {\"count\": 1, \"std\": 0.0, \"min\": 550, \"max\": 550, \"sum\": 550, \"var\": 0.0, \"mean\": 550.0}], [37.0042, {\"count\": 1, \"std\": 0.0, \"min\": 828, \"max\": 828, \"sum\": 828, \"var\": 0.0, \"mean\": 828.0}], [39.0, {\"count\": 3, \"std\": 218.3519076068619, \"min\": 184, \"max\": 671, \"sum\": 1474, \"var\": 47677.555555555555, \"mean\": 491.3333333333333}], [39.4, {\"count\": 1, \"std\": 0.0, \"min\": 854, \"max\": 854, \"sum\": 854, \"var\": 0.0, \"mean\": 854.0}], [39.6, {\"count\": 1, \"std\": 0.0, \"min\": 557, \"max\": 557, \"sum\": 557, \"var\": 0.0, \"mean\": 557.0}], [41.5792, {\"count\": 2, \"std\": 282.5, \"min\": 44, \"max\": 609, \"sum\": 653, \"var\": 79806.25, \"mean\": 326.5}], [49.5, {\"count\": 1, \"std\": 0.0, \"min\": 540, \"max\": 540, \"sum\": 540, \"var\": 0.0, \"mean\": 540.0}], [49.5042, {\"count\": 1, \"std\": 0.0, \"min\": 711, \"max\": 711, \"sum\": 711, \"var\": 0.0, \"mean\": 711.0}], [51.4792, {\"count\": 1, \"std\": 0.0, \"min\": 572, \"max\": 572, \"sum\": 572, \"var\": 0.0, \"mean\": 572.0}], [51.8625, {\"count\": 1, \"std\": 0.0, \"min\": 458, \"max\": 458, \"sum\": 458, \"var\": 0.0, \"mean\": 458.0}], [52.0, {\"count\": 3, \"std\": 146.01598086054372, \"min\": 384, \"max\": 713, \"sum\": 1767, \"var\": 21320.666666666668, \"mean\": 589.0}], [52.5542, {\"count\": 3, \"std\": 255.98567668263524, \"min\": 249, \"max\": 872, \"sum\": 1743, \"var\": 65528.666666666664, \"mean\": 581.0}], [53.1, {\"count\": 3, \"std\": 361.5863198002196, \"min\": 4, \"max\": 810, \"sum\": 1539, \"var\": 130744.66666666667, \"mean\": 513.0}], [55.0, {\"count\": 2, \"std\": 95.0, \"min\": 167, \"max\": 357, \"sum\": 524, \"var\": 9025.0, \"mean\": 262.0}], [55.4417, {\"count\": 1, \"std\": 0.0, \"min\": 371, \"max\": 371, \"sum\": 371, \"var\": 0.0, \"mean\": 371.0}], [55.9, {\"count\": 1, \"std\": 0.0, \"min\": 578, \"max\": 578, \"sum\": 578, \"var\": 0.0, \"mean\": 578.0}], [56.4958, {\"count\": 5, \"std\": 260.77070387602976, \"min\": 75, \"max\": 839, \"sum\": 2761, \"var\": 68001.36, \"mean\": 552.2}], [56.9292, {\"count\": 2, \"std\": 145.0, \"min\": 310, \"max\": 600, \"sum\": 910, \"var\": 21025.0, \"mean\": 455.0}], [57.0, {\"count\": 2, \"std\": 45.5, \"min\": 691, \"max\": 782, \"sum\": 1473, \"var\": 2070.25, \"mean\": 736.5}], [57.9792, {\"count\": 2, \"std\": 97.0, \"min\": 330, \"max\": 524, \"sum\": 854, \"var\": 9409.0, \"mean\": 427.0}], [59.4, {\"count\": 1, \"std\": 0.0, \"min\": 514, \"max\": 514, \"sum\": 514, \"var\": 0.0, \"mean\": 514.0}], [63.3583, {\"count\": 1, \"std\": 0.0, \"min\": 98, \"max\": 98, \"sum\": 98, \"var\": 0.0, \"mean\": 98.0}], [65.0, {\"count\": 2, \"std\": 69.5, \"min\": 616, \"max\": 755, \"sum\": 1371, \"var\": 4830.25, \"mean\": 685.5}], [66.6, {\"count\": 1, \"std\": 0.0, \"min\": 152, \"max\": 152, \"sum\": 152, \"var\": 0.0, \"mean\": 152.0}], [69.3, {\"count\": 2, \"std\": 136.0, \"min\": 370, \"max\": 642, \"sum\": 1012, \"var\": 18496.0, \"mean\": 506.0}], [71.0, {\"count\": 1, \"std\": 0.0, \"min\": 541, \"max\": 541, \"sum\": 541, \"var\": 0.0, \"mean\": 541.0}], [71.2833, {\"count\": 1, \"std\": 0.0, \"min\": 2, \"max\": 2, \"sum\": 2, \"var\": 0.0, \"mean\": 2.0}], [75.25, {\"count\": 1, \"std\": 0.0, \"min\": 367, \"max\": 367, \"sum\": 367, \"var\": 0.0, \"mean\": 367.0}], [76.2917, {\"count\": 1, \"std\": 0.0, \"min\": 219, \"max\": 219, \"sum\": 219, \"var\": 0.0, \"mean\": 219.0}], [76.7292, {\"count\": 3, \"std\": 288.4028817855713, \"min\": 53, \"max\": 682, \"sum\": 1381, \"var\": 83176.22222222222, \"mean\": 460.3333333333333}], [77.9583, {\"count\": 3, \"std\": 206.30290567243324, \"min\": 276, \"max\": 766, \"sum\": 1670, \"var\": 42560.88888888889, \"mean\": 556.6666666666666}], [78.2667, {\"count\": 2, \"std\": 47.5, \"min\": 497, \"max\": 592, \"sum\": 1089, \"var\": 2256.25, \"mean\": 544.5}], [78.85, {\"count\": 1, \"std\": 0.0, \"min\": 291, \"max\": 291, \"sum\": 291, \"var\": 0.0, \"mean\": 291.0}], [79.2, {\"count\": 2, \"std\": 165.5, \"min\": 257, \"max\": 588, \"sum\": 845, \"var\": 27390.25, \"mean\": 422.5}], [79.65, {\"count\": 2, \"std\": 13.5, \"min\": 559, \"max\": 586, \"sum\": 1145, \"var\": 182.25, \"mean\": 572.5}], [80.0, {\"count\": 2, \"std\": 384.0, \"min\": 62, \"max\": 830, \"sum\": 892, \"var\": 147456.0, \"mean\": 446.0}], [81.8583, {\"count\": 1, \"std\": 0.0, \"min\": 446, \"max\": 446, \"sum\": 446, \"var\": 0.0, \"mean\": 446.0}], [82.1708, {\"count\": 1, \"std\": 0.0, \"min\": 376, \"max\": 376, \"sum\": 376, \"var\": 0.0, \"mean\": 376.0}], [83.1583, {\"count\": 3, \"std\": 258.48318234569064, \"min\": 311, \"max\": 880, \"sum\": 2027, \"var\": 66813.55555555555, \"mean\": 675.6666666666666}], [83.475, {\"count\": 1, \"std\": 0.0, \"min\": 231, \"max\": 231, \"sum\": 231, \"var\": 0.0, \"mean\": 231.0}], [86.5, {\"count\": 3, \"std\": 204.9493162277499, \"min\": 258, \"max\": 760, \"sum\": 1523, \"var\": 42004.222222222226, \"mean\": 507.6666666666667}], [89.1042, {\"count\": 2, \"std\": 198.0, \"min\": 454, \"max\": 850, \"sum\": 1304, \"var\": 39204.0, \"mean\": 652.0}], [90.0, {\"count\": 3, \"std\": 110.28448062473099, \"min\": 225, \"max\": 487, \"sum\": 1125, \"var\": 12162.666666666666, \"mean\": 375.0}], [91.0792, {\"count\": 2, \"std\": 96.5, \"min\": 292, \"max\": 485, \"sum\": 777, \"var\": 9312.25, \"mean\": 388.5}], [93.5, {\"count\": 2, \"std\": 150.0, \"min\": 521, \"max\": 821, \"sum\": 1342, \"var\": 22500.0, \"mean\": 671.0}], [106.425, {\"count\": 1, \"std\": 0.0, \"min\": 538, \"max\": 538, \"sum\": 538, \"var\": 0.0, \"mean\": 538.0}], [108.9, {\"count\": 1, \"std\": 0.0, \"min\": 308, \"max\": 308, \"sum\": 308, \"var\": 0.0, \"mean\": 308.0}], [110.8833, {\"count\": 3, \"std\": 122.98238356230809, \"min\": 307, \"max\": 582, \"sum\": 1440, \"var\": 15124.666666666666, \"mean\": 480.0}], [113.275, {\"count\": 2, \"std\": 89.0, \"min\": 216, \"max\": 394, \"sum\": 610, \"var\": 7921.0, \"mean\": 305.0}], [120.0, {\"count\": 4, \"std\": 186.19411913376857, \"min\": 391, \"max\": 803, \"sum\": 2394, \"var\": 34668.25, \"mean\": 598.5}], [133.65, {\"count\": 2, \"std\": 163.0, \"min\": 335, \"max\": 661, \"sum\": 996, \"var\": 26569.0, \"mean\": 498.0}], [134.5, {\"count\": 2, \"std\": 9.0, \"min\": 320, \"max\": 338, \"sum\": 658, \"var\": 81.0, \"mean\": 329.0}], [135.6333, {\"count\": 2, \"std\": 28.0, \"min\": 270, \"max\": 326, \"sum\": 596, \"var\": 784.0, \"mean\": 298.0}], [146.5208, {\"count\": 2, \"std\": 82.0, \"min\": 32, \"max\": 196, \"sum\": 228, \"var\": 6724.0, \"mean\": 114.0}], [151.55, {\"count\": 2, \"std\": 201.5, \"min\": 306, \"max\": 709, \"sum\": 1015, \"var\": 40602.25, \"mean\": 507.5}], [153.4625, {\"count\": 2, \"std\": 170.5, \"min\": 269, \"max\": 610, \"sum\": 879, \"var\": 29070.25, \"mean\": 439.5}], [164.8667, {\"count\": 2, \"std\": 269.0, \"min\": 319, \"max\": 857, \"sum\": 1176, \"var\": 72361.0, \"mean\": 588.0}], [211.3375, {\"count\": 3, \"std\": 36.79069930778098, \"min\": 690, \"max\": 780, \"sum\": 2201, \"var\": 1353.5555555555563, \"mean\": 733.6666666666666}], [227.525, {\"count\": 3, \"std\": 154.75859337116702, \"min\": 381, \"max\": 717, \"sum\": 1799, \"var\": 23950.222222222223, \"mean\": 599.6666666666666}], [247.5208, {\"count\": 1, \"std\": 0.0, \"min\": 300, \"max\": 300, \"sum\": 300, \"var\": 0.0, \"mean\": 300.0}], [262.375, {\"count\": 2, \"std\": 215.5, \"min\": 312, \"max\": 743, \"sum\": 1055, \"var\": 46440.25, \"mean\": 527.5}], [263.0, {\"count\": 2, \"std\": 126.5, \"min\": 89, \"max\": 342, \"sum\": 431, \"var\": 16002.25, \"mean\": 215.5}], [512.3292, {\"count\": 3, \"std\": 213.4494475670215, \"min\": 259, \"max\": 738, \"sum\": 1677, \"var\": 45560.666666666664, \"mean\": 559.0}]], \"omitted\": 0}, \"columns\": [{\"dtype\": \"int\", \"name\": \"PassengerId\"}, {\"dtype\": \"int\", \"name\": \"Survived\"}, {\"dtype\": \"int\", \"name\": \"Pclass\"}, {\"dtype\": \"str\", \"name\": \"Name\"}, {\"dtype\": \"str\", \"name\": \"Sex\"}, {\"dtype\": \"float\", \"name\": \"Age\"}, {\"dtype\": \"int\", \"name\": \"SibSp\"}, {\"dtype\": \"int\", \"name\": \"Parch\"}, {\"dtype\": \"str\", \"name\": \"Ticket\"}, {\"dtype\": \"float\", \"name\": \"Fare\"}, {\"dtype\": \"str\", \"name\": \"Cabin\"}, {\"dtype\": \"str\", \"name\": \"Embarked\"}]}, e);\n",
       "                });\n",
       "            })();\n",
       "        "
      ]
     },
     "metadata": {},
     "output_type": "display_data"
    }
   ],
   "source": [
    "full_train_data[full_train_data['Survived'] == 1].show(view=\"Bar Chart\", x=\"Fare\")"
   ]
  },
  {
   "cell_type": "markdown",
   "metadata": {},
   "source": [
    "상관 관계가 있어 보이나요?"
   ]
  },
  {
   "cell_type": "code",
   "execution_count": 46,
   "metadata": {},
   "outputs": [],
   "source": [
    "#그닥..."
   ]
  },
  {
   "cell_type": "markdown",
   "metadata": {},
   "source": [
    "### Embarked 살펴보기\n"
   ]
  },
  {
   "cell_type": "markdown",
   "metadata": {},
   "source": [
    "show 메소드로 살펴봅시다."
   ]
  },
  {
   "cell_type": "code",
   "execution_count": 47,
   "metadata": {},
   "outputs": [
    {
     "data": {
      "application/javascript": [
       "$(\"head\").append($(\"<link/>\").attr({\n",
       "  rel:  \"stylesheet\",\n",
       "  type: \"text/css\",\n",
       "  href: \"//cdnjs.cloudflare.com/ajax/libs/font-awesome/4.1.0/css/font-awesome.min.css\"\n",
       "}));\n",
       "$(\"head\").append($(\"<link/>\").attr({\n",
       "  rel:  \"stylesheet\",\n",
       "  type: \"text/css\",\n",
       "  href: \"https://static.turi.com/products/graphlab-create/2.1/canvas/css/canvas.css\"\n",
       "}));\n",
       "\n",
       "            (function(){\n",
       "\n",
       "                var e = null;\n",
       "                if (typeof element == 'undefined') {\n",
       "                    var scripts = document.getElementsByTagName('script');\n",
       "                    var thisScriptTag = scripts[scripts.length-1];\n",
       "                    var parentDiv = thisScriptTag.parentNode;\n",
       "                    e = document.createElement('div');\n",
       "                    parentDiv.appendChild(e);\n",
       "                } else {\n",
       "                    e = element[0];\n",
       "                }\n",
       "\n",
       "                if (typeof requirejs !== 'undefined') {\n",
       "                    // disable load timeout; ipython_app.js is large and can take a while to load.\n",
       "                    requirejs.config({waitSeconds: 0});\n",
       "                }\n",
       "\n",
       "                require(['https://static.turi.com/products/graphlab-create/2.1/canvas/js/ipython_app.js'], function(IPythonApp){\n",
       "                    var app = new IPythonApp();\n",
       "                    app.attachView('sarray','Categorical', {\"ipython\": true, \"sketch\": {\"complete\": true, \"numeric\": false, \"num_unique\": 4, \"num_undefined\": 0, \"progress\": 1.0, \"frequent_items\": {\"Q\": {\"frequency\": 77, \"value\": \"Q\"}, \"\": {\"frequency\": 2, \"value\": \"\"}, \"S\": {\"frequency\": 644, \"value\": \"S\"}, \"C\": {\"frequency\": 168, \"value\": \"C\"}}, \"size\": 891}, \"selected_variable\": {\"name\": [\"<SArray>\"], \"dtype\": \"str\", \"view_component\": \"Categorical\", \"view_file\": \"sarray\", \"descriptives\": {\"rows\": 891}, \"type\": \"SArray\", \"view_components\": [\"Categorical\"]}, \"histogram\": null}, e);\n",
       "                });\n",
       "            })();\n",
       "        "
      ]
     },
     "metadata": {},
     "output_type": "display_data"
    }
   ],
   "source": [
    "full_train_data['Embarked'].show()"
   ]
  },
  {
   "cell_type": "markdown",
   "metadata": {},
   "source": [
    "테스트 데이터도 마찬가지로 봅시다."
   ]
  },
  {
   "cell_type": "code",
   "execution_count": 48,
   "metadata": {},
   "outputs": [
    {
     "data": {
      "application/javascript": [
       "$(\"head\").append($(\"<link/>\").attr({\n",
       "  rel:  \"stylesheet\",\n",
       "  type: \"text/css\",\n",
       "  href: \"//cdnjs.cloudflare.com/ajax/libs/font-awesome/4.1.0/css/font-awesome.min.css\"\n",
       "}));\n",
       "$(\"head\").append($(\"<link/>\").attr({\n",
       "  rel:  \"stylesheet\",\n",
       "  type: \"text/css\",\n",
       "  href: \"https://static.turi.com/products/graphlab-create/2.1/canvas/css/canvas.css\"\n",
       "}));\n",
       "\n",
       "            (function(){\n",
       "\n",
       "                var e = null;\n",
       "                if (typeof element == 'undefined') {\n",
       "                    var scripts = document.getElementsByTagName('script');\n",
       "                    var thisScriptTag = scripts[scripts.length-1];\n",
       "                    var parentDiv = thisScriptTag.parentNode;\n",
       "                    e = document.createElement('div');\n",
       "                    parentDiv.appendChild(e);\n",
       "                } else {\n",
       "                    e = element[0];\n",
       "                }\n",
       "\n",
       "                if (typeof requirejs !== 'undefined') {\n",
       "                    // disable load timeout; ipython_app.js is large and can take a while to load.\n",
       "                    requirejs.config({waitSeconds: 0});\n",
       "                }\n",
       "\n",
       "                require(['https://static.turi.com/products/graphlab-create/2.1/canvas/js/ipython_app.js'], function(IPythonApp){\n",
       "                    var app = new IPythonApp();\n",
       "                    app.attachView('sarray','Categorical', {\"ipython\": true, \"sketch\": {\"complete\": true, \"numeric\": false, \"num_unique\": 3, \"num_undefined\": 0, \"progress\": 1.0, \"frequent_items\": {\"Q\": {\"frequency\": 46, \"value\": \"Q\"}, \"S\": {\"frequency\": 270, \"value\": \"S\"}, \"C\": {\"frequency\": 102, \"value\": \"C\"}}, \"size\": 418}, \"selected_variable\": {\"name\": [\"<SArray>\"], \"dtype\": \"str\", \"view_component\": \"Categorical\", \"view_file\": \"sarray\", \"descriptives\": {\"rows\": 418}, \"type\": \"SArray\", \"view_components\": [\"Categorical\"]}, \"histogram\": null}, e);\n",
       "                });\n",
       "            })();\n",
       "        "
      ]
     },
     "metadata": {},
     "output_type": "display_data"
    }
   ],
   "source": [
    "new_test_data['Embarked'].show()"
   ]
  },
  {
   "cell_type": "markdown",
   "metadata": {},
   "source": [
    "#### None 찾아서 값 채우기\n",
    "\n",
    "값이 없는 데이터가 있는지 확인합시다."
   ]
  },
  {
   "cell_type": "code",
   "execution_count": 49,
   "metadata": {},
   "outputs": [
    {
     "data": {
      "text/html": [
       "<div style=\"max-height:1000px;max-width:1500px;overflow:auto;\"><table frame=\"box\" rules=\"cols\">\n",
       "    <tr>\n",
       "        <th style=\"padding-left: 1em; padding-right: 1em; text-align: center\">PassengerId</th>\n",
       "        <th style=\"padding-left: 1em; padding-right: 1em; text-align: center\">Survived</th>\n",
       "        <th style=\"padding-left: 1em; padding-right: 1em; text-align: center\">Pclass</th>\n",
       "        <th style=\"padding-left: 1em; padding-right: 1em; text-align: center\">Name</th>\n",
       "        <th style=\"padding-left: 1em; padding-right: 1em; text-align: center\">Sex</th>\n",
       "        <th style=\"padding-left: 1em; padding-right: 1em; text-align: center\">Age</th>\n",
       "        <th style=\"padding-left: 1em; padding-right: 1em; text-align: center\">SibSp</th>\n",
       "        <th style=\"padding-left: 1em; padding-right: 1em; text-align: center\">Parch</th>\n",
       "        <th style=\"padding-left: 1em; padding-right: 1em; text-align: center\">Ticket</th>\n",
       "        <th style=\"padding-left: 1em; padding-right: 1em; text-align: center\">Fare</th>\n",
       "        <th style=\"padding-left: 1em; padding-right: 1em; text-align: center\">Cabin</th>\n",
       "        <th style=\"padding-left: 1em; padding-right: 1em; text-align: center\">Embarked</th>\n",
       "    </tr>\n",
       "    <tr>\n",
       "        <td style=\"padding-left: 1em; padding-right: 1em; text-align: center; vertical-align: top\">62</td>\n",
       "        <td style=\"padding-left: 1em; padding-right: 1em; text-align: center; vertical-align: top\">1</td>\n",
       "        <td style=\"padding-left: 1em; padding-right: 1em; text-align: center; vertical-align: top\">1</td>\n",
       "        <td style=\"padding-left: 1em; padding-right: 1em; text-align: center; vertical-align: top\">Icard, Miss. Amelie</td>\n",
       "        <td style=\"padding-left: 1em; padding-right: 1em; text-align: center; vertical-align: top\">female</td>\n",
       "        <td style=\"padding-left: 1em; padding-right: 1em; text-align: center; vertical-align: top\">38.0</td>\n",
       "        <td style=\"padding-left: 1em; padding-right: 1em; text-align: center; vertical-align: top\">0</td>\n",
       "        <td style=\"padding-left: 1em; padding-right: 1em; text-align: center; vertical-align: top\">0</td>\n",
       "        <td style=\"padding-left: 1em; padding-right: 1em; text-align: center; vertical-align: top\">113572</td>\n",
       "        <td style=\"padding-left: 1em; padding-right: 1em; text-align: center; vertical-align: top\">80.0</td>\n",
       "        <td style=\"padding-left: 1em; padding-right: 1em; text-align: center; vertical-align: top\">B28</td>\n",
       "        <td style=\"padding-left: 1em; padding-right: 1em; text-align: center; vertical-align: top\"></td>\n",
       "    </tr>\n",
       "    <tr>\n",
       "        <td style=\"padding-left: 1em; padding-right: 1em; text-align: center; vertical-align: top\">830</td>\n",
       "        <td style=\"padding-left: 1em; padding-right: 1em; text-align: center; vertical-align: top\">1</td>\n",
       "        <td style=\"padding-left: 1em; padding-right: 1em; text-align: center; vertical-align: top\">1</td>\n",
       "        <td style=\"padding-left: 1em; padding-right: 1em; text-align: center; vertical-align: top\">Stone, Mrs. George Nelson<br>(Martha Evelyn) ...</td>\n",
       "        <td style=\"padding-left: 1em; padding-right: 1em; text-align: center; vertical-align: top\">female</td>\n",
       "        <td style=\"padding-left: 1em; padding-right: 1em; text-align: center; vertical-align: top\">62.0</td>\n",
       "        <td style=\"padding-left: 1em; padding-right: 1em; text-align: center; vertical-align: top\">0</td>\n",
       "        <td style=\"padding-left: 1em; padding-right: 1em; text-align: center; vertical-align: top\">0</td>\n",
       "        <td style=\"padding-left: 1em; padding-right: 1em; text-align: center; vertical-align: top\">113572</td>\n",
       "        <td style=\"padding-left: 1em; padding-right: 1em; text-align: center; vertical-align: top\">80.0</td>\n",
       "        <td style=\"padding-left: 1em; padding-right: 1em; text-align: center; vertical-align: top\">B28</td>\n",
       "        <td style=\"padding-left: 1em; padding-right: 1em; text-align: center; vertical-align: top\"></td>\n",
       "    </tr>\n",
       "</table>\n",
       "[? rows x 12 columns]<br/>Note: Only the head of the SFrame is printed. This SFrame is lazily evaluated.<br/>You can use sf.materialize() to force materialization.\n",
       "</div>"
      ],
      "text/plain": [
       "Columns:\n",
       "\tPassengerId\tint\n",
       "\tSurvived\tint\n",
       "\tPclass\tint\n",
       "\tName\tstr\n",
       "\tSex\tstr\n",
       "\tAge\tfloat\n",
       "\tSibSp\tint\n",
       "\tParch\tint\n",
       "\tTicket\tstr\n",
       "\tFare\tfloat\n",
       "\tCabin\tstr\n",
       "\tEmbarked\tstr\n",
       "\n",
       "Rows: Unknown\n",
       "\n",
       "Data:\n",
       "+-------------+----------+--------+-------------------------------+--------+\n",
       "| PassengerId | Survived | Pclass |              Name             |  Sex   |\n",
       "+-------------+----------+--------+-------------------------------+--------+\n",
       "|      62     |    1     |   1    |      Icard, Miss. Amelie      | female |\n",
       "|     830     |    1     |   1    | Stone, Mrs. George Nelson ... | female |\n",
       "+-------------+----------+--------+-------------------------------+--------+\n",
       "+------+-------+-------+--------+------+-------+----------+\n",
       "| Age  | SibSp | Parch | Ticket | Fare | Cabin | Embarked |\n",
       "+------+-------+-------+--------+------+-------+----------+\n",
       "| 38.0 |   0   |   0   | 113572 | 80.0 |  B28  |          |\n",
       "| 62.0 |   0   |   0   | 113572 | 80.0 |  B28  |          |\n",
       "+------+-------+-------+--------+------+-------+----------+\n",
       "[? rows x 12 columns]\n",
       "Note: Only the head of the SFrame is printed. This SFrame is lazily evaluated.\n",
       "You can use sf.materialize() to force materialization."
      ]
     },
     "execution_count": 49,
     "metadata": {},
     "output_type": "execute_result"
    }
   ],
   "source": [
    "full_train_data[full_train_data['Embarked']=='']"
   ]
  },
  {
   "cell_type": "code",
   "execution_count": 50,
   "metadata": {},
   "outputs": [
    {
     "data": {
      "text/html": [
       "<div style=\"max-height:1000px;max-width:1500px;overflow:auto;\"><table frame=\"box\" rules=\"cols\">\n",
       "    <tr>\n",
       "        <th style=\"padding-left: 1em; padding-right: 1em; text-align: center\">PassengerId</th>\n",
       "        <th style=\"padding-left: 1em; padding-right: 1em; text-align: center\">Pclass</th>\n",
       "        <th style=\"padding-left: 1em; padding-right: 1em; text-align: center\">Name</th>\n",
       "        <th style=\"padding-left: 1em; padding-right: 1em; text-align: center\">Sex</th>\n",
       "        <th style=\"padding-left: 1em; padding-right: 1em; text-align: center\">Age</th>\n",
       "        <th style=\"padding-left: 1em; padding-right: 1em; text-align: center\">SibSp</th>\n",
       "        <th style=\"padding-left: 1em; padding-right: 1em; text-align: center\">Parch</th>\n",
       "        <th style=\"padding-left: 1em; padding-right: 1em; text-align: center\">Ticket</th>\n",
       "        <th style=\"padding-left: 1em; padding-right: 1em; text-align: center\">Fare</th>\n",
       "        <th style=\"padding-left: 1em; padding-right: 1em; text-align: center\">Cabin</th>\n",
       "        <th style=\"padding-left: 1em; padding-right: 1em; text-align: center\">Embarked</th>\n",
       "    </tr>\n",
       "</table>\n",
       "[? rows x 11 columns]<br/>Note: Only the head of the SFrame is printed. This SFrame is lazily evaluated.<br/>You can use sf.materialize() to force materialization.\n",
       "</div>"
      ],
      "text/plain": [
       "Columns:\n",
       "\tPassengerId\tint\n",
       "\tPclass\tint\n",
       "\tName\tstr\n",
       "\tSex\tstr\n",
       "\tAge\tfloat\n",
       "\tSibSp\tint\n",
       "\tParch\tint\n",
       "\tTicket\tstr\n",
       "\tFare\tfloat\n",
       "\tCabin\tstr\n",
       "\tEmbarked\tstr\n",
       "\n",
       "Rows: Unknown\n",
       "\n",
       "Data:\n",
       "\t[]"
      ]
     },
     "execution_count": 50,
     "metadata": {},
     "output_type": "execute_result"
    }
   ],
   "source": [
    "new_test_data[new_test_data['Embarked']=='']"
   ]
  },
  {
   "cell_type": "markdown",
   "metadata": {},
   "source": [
    "full_train_data에 2명의 데이터가 Embarked 값이 없다는 것을 확인할 수 있습니다.\n",
    "가장 많은 값인 S로 채워봅시다."
   ]
  },
  {
   "cell_type": "markdown",
   "metadata": {},
   "source": [
    "먼저 공백을 S로 변환하고 다른 값은 그대로 두는 함수를 만듭니다. 이름은 **fillSforEmbarked**로 합시다."
   ]
  },
  {
   "cell_type": "code",
   "execution_count": null,
   "metadata": {},
   "outputs": [],
   "source": []
  },
  {
   "cell_type": "code",
   "execution_count": 51,
   "metadata": {},
   "outputs": [],
   "source": [
    "def fillSforEmbarked(value):\n",
    "    if value=='':\n",
    "        return 'S'\n",
    "    else:\n",
    "        return value"
   ]
  },
  {
   "cell_type": "markdown",
   "metadata": {},
   "source": [
    "apply 메소드를 이용해서 Embarked 컬럼에 적용합시다. 이 결과값을 new_full_train_data의 'Embarekd' 컬럼에 저장합시다."
   ]
  },
  {
   "cell_type": "code",
   "execution_count": 57,
   "metadata": {},
   "outputs": [],
   "source": [
    "new_full_train_data['Embarked'] = full_train_data['Embarked'].apply(fillSforEmbarked)"
   ]
  },
  {
   "cell_type": "markdown",
   "metadata": {},
   "source": [
    "PassengerId 62번 승객의 데이터를 찾아서 Embarked가 잘 지정되었는지 확인합시다."
   ]
  },
  {
   "cell_type": "code",
   "execution_count": 59,
   "metadata": {},
   "outputs": [
    {
     "data": {
      "text/html": [
       "<div style=\"max-height:1000px;max-width:1500px;overflow:auto;\"><table frame=\"box\" rules=\"cols\">\n",
       "    <tr>\n",
       "        <th style=\"padding-left: 1em; padding-right: 1em; text-align: center\">PassengerId</th>\n",
       "        <th style=\"padding-left: 1em; padding-right: 1em; text-align: center\">Survived</th>\n",
       "        <th style=\"padding-left: 1em; padding-right: 1em; text-align: center\">Pclass</th>\n",
       "        <th style=\"padding-left: 1em; padding-right: 1em; text-align: center\">Name</th>\n",
       "        <th style=\"padding-left: 1em; padding-right: 1em; text-align: center\">Sex</th>\n",
       "        <th style=\"padding-left: 1em; padding-right: 1em; text-align: center\">Age</th>\n",
       "        <th style=\"padding-left: 1em; padding-right: 1em; text-align: center\">SibSp</th>\n",
       "        <th style=\"padding-left: 1em; padding-right: 1em; text-align: center\">Parch</th>\n",
       "        <th style=\"padding-left: 1em; padding-right: 1em; text-align: center\">Ticket</th>\n",
       "        <th style=\"padding-left: 1em; padding-right: 1em; text-align: center\">Fare</th>\n",
       "        <th style=\"padding-left: 1em; padding-right: 1em; text-align: center\">Cabin</th>\n",
       "        <th style=\"padding-left: 1em; padding-right: 1em; text-align: center\">Embarked</th>\n",
       "    </tr>\n",
       "    <tr>\n",
       "        <td style=\"padding-left: 1em; padding-right: 1em; text-align: center; vertical-align: top\">62</td>\n",
       "        <td style=\"padding-left: 1em; padding-right: 1em; text-align: center; vertical-align: top\">1</td>\n",
       "        <td style=\"padding-left: 1em; padding-right: 1em; text-align: center; vertical-align: top\">1</td>\n",
       "        <td style=\"padding-left: 1em; padding-right: 1em; text-align: center; vertical-align: top\">Icard, Miss. Amelie</td>\n",
       "        <td style=\"padding-left: 1em; padding-right: 1em; text-align: center; vertical-align: top\">female</td>\n",
       "        <td style=\"padding-left: 1em; padding-right: 1em; text-align: center; vertical-align: top\">38.0</td>\n",
       "        <td style=\"padding-left: 1em; padding-right: 1em; text-align: center; vertical-align: top\">0</td>\n",
       "        <td style=\"padding-left: 1em; padding-right: 1em; text-align: center; vertical-align: top\">0</td>\n",
       "        <td style=\"padding-left: 1em; padding-right: 1em; text-align: center; vertical-align: top\">113572</td>\n",
       "        <td style=\"padding-left: 1em; padding-right: 1em; text-align: center; vertical-align: top\">80.0</td>\n",
       "        <td style=\"padding-left: 1em; padding-right: 1em; text-align: center; vertical-align: top\">B28</td>\n",
       "        <td style=\"padding-left: 1em; padding-right: 1em; text-align: center; vertical-align: top\">S</td>\n",
       "    </tr>\n",
       "</table>\n",
       "[? rows x 12 columns]<br/>Note: Only the head of the SFrame is printed. This SFrame is lazily evaluated.<br/>You can use sf.materialize() to force materialization.\n",
       "</div>"
      ],
      "text/plain": [
       "Columns:\n",
       "\tPassengerId\tint\n",
       "\tSurvived\tint\n",
       "\tPclass\tint\n",
       "\tName\tstr\n",
       "\tSex\tstr\n",
       "\tAge\tfloat\n",
       "\tSibSp\tint\n",
       "\tParch\tint\n",
       "\tTicket\tstr\n",
       "\tFare\tfloat\n",
       "\tCabin\tstr\n",
       "\tEmbarked\tstr\n",
       "\n",
       "Rows: Unknown\n",
       "\n",
       "Data:\n",
       "+-------------+----------+--------+---------------------+--------+------+-------+\n",
       "| PassengerId | Survived | Pclass |         Name        |  Sex   | Age  | SibSp |\n",
       "+-------------+----------+--------+---------------------+--------+------+-------+\n",
       "|      62     |    1     |   1    | Icard, Miss. Amelie | female | 38.0 |   0   |\n",
       "+-------------+----------+--------+---------------------+--------+------+-------+\n",
       "+-------+--------+------+-------+----------+\n",
       "| Parch | Ticket | Fare | Cabin | Embarked |\n",
       "+-------+--------+------+-------+----------+\n",
       "|   0   | 113572 | 80.0 |  B28  |    S     |\n",
       "+-------+--------+------+-------+----------+\n",
       "[? rows x 12 columns]\n",
       "Note: Only the head of the SFrame is printed. This SFrame is lazily evaluated.\n",
       "You can use sf.materialize() to force materialization."
      ]
     },
     "execution_count": 59,
     "metadata": {},
     "output_type": "execute_result"
    }
   ],
   "source": [
    "new_full_train_data[new_full_train_data['PassengerId']==62]"
   ]
  },
  {
   "cell_type": "code",
   "execution_count": 61,
   "metadata": {},
   "outputs": [
    {
     "data": {
      "text/plain": [
       "graphlab.data_structures.sarray.SArray"
      ]
     },
     "execution_count": 61,
     "metadata": {},
     "output_type": "execute_result"
    }
   ],
   "source": [
    "type(new_full_train_data[new_full_train_data['PassengerId']==62]['Embarked'])"
   ]
  },
  {
   "cell_type": "code",
   "execution_count": 62,
   "metadata": {},
   "outputs": [
    {
     "data": {
      "text/plain": [
       "'S'"
      ]
     },
     "execution_count": 62,
     "metadata": {},
     "output_type": "execute_result"
    }
   ],
   "source": [
    "new_full_train_data[new_full_train_data['PassengerId']==62]['Embarked'][0]"
   ]
  },
  {
   "cell_type": "markdown",
   "metadata": {},
   "source": [
    "생존율과의 관계를 확인합시다."
   ]
  },
  {
   "cell_type": "code",
   "execution_count": 63,
   "metadata": {},
   "outputs": [
    {
     "data": {
      "application/javascript": [
       "$(\"head\").append($(\"<link/>\").attr({\n",
       "  rel:  \"stylesheet\",\n",
       "  type: \"text/css\",\n",
       "  href: \"//cdnjs.cloudflare.com/ajax/libs/font-awesome/4.1.0/css/font-awesome.min.css\"\n",
       "}));\n",
       "$(\"head\").append($(\"<link/>\").attr({\n",
       "  rel:  \"stylesheet\",\n",
       "  type: \"text/css\",\n",
       "  href: \"https://static.turi.com/products/graphlab-create/2.1/canvas/css/canvas.css\"\n",
       "}));\n",
       "\n",
       "            (function(){\n",
       "\n",
       "                var e = null;\n",
       "                if (typeof element == 'undefined') {\n",
       "                    var scripts = document.getElementsByTagName('script');\n",
       "                    var thisScriptTag = scripts[scripts.length-1];\n",
       "                    var parentDiv = thisScriptTag.parentNode;\n",
       "                    e = document.createElement('div');\n",
       "                    parentDiv.appendChild(e);\n",
       "                } else {\n",
       "                    e = element[0];\n",
       "                }\n",
       "\n",
       "                if (typeof requirejs !== 'undefined') {\n",
       "                    // disable load timeout; ipython_app.js is large and can take a while to load.\n",
       "                    requirejs.config({waitSeconds: 0});\n",
       "                }\n",
       "\n",
       "                require(['https://static.turi.com/products/graphlab-create/2.1/canvas/js/ipython_app.js'], function(IPythonApp){\n",
       "                    var app = new IPythonApp();\n",
       "                    app.attachView('sframe','Plots', {\"selected_variable\": {\"name\": [\"<SFrame>\"], \"descriptives\": {\"rows\": 549, \"columns\": 12}, \"view_component\": \"Plots\", \"view_file\": \"sframe\", \"view_params\": {\"y\": \"PassengerId\", \"x\": \"Embarked\", \"columns\": [\"PassengerId\", \"Survived\", \"Pclass\", \"Name\", \"Sex\", \"Age\", \"SibSp\", \"Parch\", \"Ticket\", \"Fare\", \"Cabin\", \"Embarked\"], \"view\": \"Bar Chart\"}, \"view_components\": [\"Summary\", \"Table\", \"Bar Chart\", \"BoxWhisker Plot\", \"Line Chart\", \"Scatter Plot\", \"Heat Map\", \"Plots\"], \"type\": \"SFrame\", \"columns\": [{\"dtype\": \"int\", \"name\": \"PassengerId\"}, {\"dtype\": \"int\", \"name\": \"Survived\"}, {\"dtype\": \"int\", \"name\": \"Pclass\"}, {\"dtype\": \"str\", \"name\": \"Name\"}, {\"dtype\": \"str\", \"name\": \"Sex\"}, {\"dtype\": \"float\", \"name\": \"Age\"}, {\"dtype\": \"int\", \"name\": \"SibSp\"}, {\"dtype\": \"int\", \"name\": \"Parch\"}, {\"dtype\": \"str\", \"name\": \"Ticket\"}, {\"dtype\": \"float\", \"name\": \"Fare\"}, {\"dtype\": \"str\", \"name\": \"Cabin\"}, {\"dtype\": \"str\", \"name\": \"Embarked\"}], \"column_identifiers\": [\"Fare\", \"Name\", \"Embarked\", \"Age\", \"Parch\", \"Pclass\", \"Sex\", \"Survived\", \"SibSp\", \"PassengerId\", \"Ticket\", \"Cabin\"]}, \"complete\": 1, \"ipython\": true, \"progress\": 1.0, \"data\": {\"grouped\": [[\"C\", {\"count\": 75, \"std\": 262.45516154616246, \"min\": 27, \"max\": 860, \"sum\": 30739, \"var\": 68882.71182222222, \"mean\": 409.8533333333333}], [\"Q\", {\"count\": 47, \"std\": 250.56461005433212, \"min\": 6, \"max\": 891, \"sum\": 22579, \"var\": 62782.623811679514, \"mean\": 480.404255319149}], [\"S\", {\"count\": 427, \"std\": 260.38656479970575, \"min\": 1, \"max\": 889, \"sum\": 192094, \"var\": 67801.16312819137, \"mean\": 449.8688524590165}]], \"omitted\": 0}, \"columns\": [{\"dtype\": \"int\", \"name\": \"PassengerId\"}, {\"dtype\": \"int\", \"name\": \"Survived\"}, {\"dtype\": \"int\", \"name\": \"Pclass\"}, {\"dtype\": \"str\", \"name\": \"Name\"}, {\"dtype\": \"str\", \"name\": \"Sex\"}, {\"dtype\": \"float\", \"name\": \"Age\"}, {\"dtype\": \"int\", \"name\": \"SibSp\"}, {\"dtype\": \"int\", \"name\": \"Parch\"}, {\"dtype\": \"str\", \"name\": \"Ticket\"}, {\"dtype\": \"float\", \"name\": \"Fare\"}, {\"dtype\": \"str\", \"name\": \"Cabin\"}, {\"dtype\": \"str\", \"name\": \"Embarked\"}]}, e);\n",
       "                });\n",
       "            })();\n",
       "        "
      ]
     },
     "metadata": {},
     "output_type": "display_data"
    }
   ],
   "source": [
    "new_full_train_data[new_full_train_data['Survived'] == 0].show(view=\"Bar Chart\", x=\"Embarked\")"
   ]
  },
  {
   "cell_type": "code",
   "execution_count": 64,
   "metadata": {},
   "outputs": [
    {
     "data": {
      "application/javascript": [
       "$(\"head\").append($(\"<link/>\").attr({\n",
       "  rel:  \"stylesheet\",\n",
       "  type: \"text/css\",\n",
       "  href: \"//cdnjs.cloudflare.com/ajax/libs/font-awesome/4.1.0/css/font-awesome.min.css\"\n",
       "}));\n",
       "$(\"head\").append($(\"<link/>\").attr({\n",
       "  rel:  \"stylesheet\",\n",
       "  type: \"text/css\",\n",
       "  href: \"https://static.turi.com/products/graphlab-create/2.1/canvas/css/canvas.css\"\n",
       "}));\n",
       "\n",
       "            (function(){\n",
       "\n",
       "                var e = null;\n",
       "                if (typeof element == 'undefined') {\n",
       "                    var scripts = document.getElementsByTagName('script');\n",
       "                    var thisScriptTag = scripts[scripts.length-1];\n",
       "                    var parentDiv = thisScriptTag.parentNode;\n",
       "                    e = document.createElement('div');\n",
       "                    parentDiv.appendChild(e);\n",
       "                } else {\n",
       "                    e = element[0];\n",
       "                }\n",
       "\n",
       "                if (typeof requirejs !== 'undefined') {\n",
       "                    // disable load timeout; ipython_app.js is large and can take a while to load.\n",
       "                    requirejs.config({waitSeconds: 0});\n",
       "                }\n",
       "\n",
       "                require(['https://static.turi.com/products/graphlab-create/2.1/canvas/js/ipython_app.js'], function(IPythonApp){\n",
       "                    var app = new IPythonApp();\n",
       "                    app.attachView('sframe','Plots', {\"selected_variable\": {\"name\": [\"<SFrame>\"], \"descriptives\": {\"rows\": 342, \"columns\": 12}, \"view_component\": \"Plots\", \"view_file\": \"sframe\", \"view_params\": {\"y\": \"PassengerId\", \"x\": \"Embarked\", \"columns\": [\"PassengerId\", \"Survived\", \"Pclass\", \"Name\", \"Sex\", \"Age\", \"SibSp\", \"Parch\", \"Ticket\", \"Fare\", \"Cabin\", \"Embarked\"], \"view\": \"Bar Chart\"}, \"view_components\": [\"Summary\", \"Table\", \"Bar Chart\", \"BoxWhisker Plot\", \"Line Chart\", \"Scatter Plot\", \"Heat Map\", \"Plots\"], \"type\": \"SFrame\", \"columns\": [{\"dtype\": \"int\", \"name\": \"PassengerId\"}, {\"dtype\": \"int\", \"name\": \"Survived\"}, {\"dtype\": \"int\", \"name\": \"Pclass\"}, {\"dtype\": \"str\", \"name\": \"Name\"}, {\"dtype\": \"str\", \"name\": \"Sex\"}, {\"dtype\": \"float\", \"name\": \"Age\"}, {\"dtype\": \"int\", \"name\": \"SibSp\"}, {\"dtype\": \"int\", \"name\": \"Parch\"}, {\"dtype\": \"str\", \"name\": \"Ticket\"}, {\"dtype\": \"float\", \"name\": \"Fare\"}, {\"dtype\": \"str\", \"name\": \"Cabin\"}, {\"dtype\": \"str\", \"name\": \"Embarked\"}], \"column_identifiers\": [\"Fare\", \"Name\", \"Embarked\", \"Age\", \"Parch\", \"Pclass\", \"Sex\", \"Survived\", \"SibSp\", \"PassengerId\", \"Ticket\", \"Cabin\"]}, \"complete\": 1, \"ipython\": true, \"progress\": 1.0, \"data\": {\"grouped\": [[\"C\", {\"count\": 93, \"std\": 251.97860015910703, \"min\": 2, \"max\": 890, \"sum\": 44081, \"var\": 63493.21493814313, \"mean\": 473.98924731182797}], [\"Q\", {\"count\": 30, \"std\": 221.16652599844807, \"min\": 23, \"max\": 829, \"sum\": 9599, \"var\": 48914.63222222221, \"mean\": 319.96666666666664}], [\"S\", {\"count\": 219, \"std\": 250.97107065414866, \"min\": 3, \"max\": 888, \"sum\": 98294, \"var\": 62986.478305289675, \"mean\": 448.83105022831035}]], \"omitted\": 0}, \"columns\": [{\"dtype\": \"int\", \"name\": \"PassengerId\"}, {\"dtype\": \"int\", \"name\": \"Survived\"}, {\"dtype\": \"int\", \"name\": \"Pclass\"}, {\"dtype\": \"str\", \"name\": \"Name\"}, {\"dtype\": \"str\", \"name\": \"Sex\"}, {\"dtype\": \"float\", \"name\": \"Age\"}, {\"dtype\": \"int\", \"name\": \"SibSp\"}, {\"dtype\": \"int\", \"name\": \"Parch\"}, {\"dtype\": \"str\", \"name\": \"Ticket\"}, {\"dtype\": \"float\", \"name\": \"Fare\"}, {\"dtype\": \"str\", \"name\": \"Cabin\"}, {\"dtype\": \"str\", \"name\": \"Embarked\"}]}, e);\n",
       "                });\n",
       "            })();\n",
       "        "
      ]
     },
     "metadata": {},
     "output_type": "display_data"
    }
   ],
   "source": [
    "new_full_train_data[new_full_train_data['Survived'] == 1].show(view=\"Bar Chart\", x=\"Embarked\")"
   ]
  },
  {
   "cell_type": "code",
   "execution_count": null,
   "metadata": {},
   "outputs": [],
   "source": []
  },
  {
   "cell_type": "markdown",
   "metadata": {},
   "source": [
    "## 4개의 피쳐를 이용해서 모델 학습시키기\n"
   ]
  },
  {
   "cell_type": "markdown",
   "metadata": {},
   "source": [
    "위에서 살펴본 4가지 데이터를 이용해서 모델을 학습해 봅시다. 먼저 4가지 데이터 컬럼 이름을 이용해서 **my_features**라는 변수를 지정합시다.\n",
    "\n",
    "    'Sex', 'Pclass', 'Fare', 'Embarked'"
   ]
  },
  {
   "cell_type": "code",
   "execution_count": 65,
   "metadata": {},
   "outputs": [],
   "source": [
    "my_features = ['Sex', 'Pclass', 'Fare', 'Embarked']"
   ]
  },
  {
   "cell_type": "markdown",
   "metadata": {},
   "source": [
    "### 수정한 데이터셋을 나누기\n",
    "\n",
    "**new_full_train_data**를 **new_train_data**와 **new_validation_data**로 나눕시다."
   ]
  },
  {
   "cell_type": "code",
   "execution_count": 66,
   "metadata": {},
   "outputs": [],
   "source": [
    "new_train_data, new_validation_data = new_full_train_data.random_split(.8, seed=0)"
   ]
  },
  {
   "cell_type": "markdown",
   "metadata": {},
   "source": [
    "먼저 가장 간단한 모델을 이용해서 학습시킵시다.\n",
    "\n",
    "    graphlab.logistic_classifier.create(학습데이터, target=타겟컬럼이름, features=피쳐컬럼이름의리스트, validation_set=검증데이터)\n",
    "    \n",
    "**my_features_model**에 저장합시다."
   ]
  },
  {
   "cell_type": "code",
   "execution_count": 67,
   "metadata": {},
   "outputs": [
    {
     "data": {
      "text/html": [
       "<pre>Logistic regression:</pre>"
      ],
      "text/plain": [
       "Logistic regression:"
      ]
     },
     "metadata": {},
     "output_type": "display_data"
    },
    {
     "data": {
      "text/html": [
       "<pre>--------------------------------------------------------</pre>"
      ],
      "text/plain": [
       "--------------------------------------------------------"
      ]
     },
     "metadata": {},
     "output_type": "display_data"
    },
    {
     "data": {
      "text/html": [
       "<pre>Number of examples          : 703</pre>"
      ],
      "text/plain": [
       "Number of examples          : 703"
      ]
     },
     "metadata": {},
     "output_type": "display_data"
    },
    {
     "data": {
      "text/html": [
       "<pre>Number of classes           : 2</pre>"
      ],
      "text/plain": [
       "Number of classes           : 2"
      ]
     },
     "metadata": {},
     "output_type": "display_data"
    },
    {
     "data": {
      "text/html": [
       "<pre>Number of feature columns   : 4</pre>"
      ],
      "text/plain": [
       "Number of feature columns   : 4"
      ]
     },
     "metadata": {},
     "output_type": "display_data"
    },
    {
     "data": {
      "text/html": [
       "<pre>Number of unpacked features : 4</pre>"
      ],
      "text/plain": [
       "Number of unpacked features : 4"
      ]
     },
     "metadata": {},
     "output_type": "display_data"
    },
    {
     "data": {
      "text/html": [
       "<pre>Number of coefficients    : 6</pre>"
      ],
      "text/plain": [
       "Number of coefficients    : 6"
      ]
     },
     "metadata": {},
     "output_type": "display_data"
    },
    {
     "data": {
      "text/html": [
       "<pre>Starting Newton Method</pre>"
      ],
      "text/plain": [
       "Starting Newton Method"
      ]
     },
     "metadata": {},
     "output_type": "display_data"
    },
    {
     "data": {
      "text/html": [
       "<pre>--------------------------------------------------------</pre>"
      ],
      "text/plain": [
       "--------------------------------------------------------"
      ]
     },
     "metadata": {},
     "output_type": "display_data"
    },
    {
     "data": {
      "text/html": [
       "<pre>+-----------+----------+--------------+-------------------+---------------------+</pre>"
      ],
      "text/plain": [
       "+-----------+----------+--------------+-------------------+---------------------+"
      ]
     },
     "metadata": {},
     "output_type": "display_data"
    },
    {
     "data": {
      "text/html": [
       "<pre>| Iteration | Passes   | Elapsed Time | Training-accuracy | Validation-accuracy |</pre>"
      ],
      "text/plain": [
       "| Iteration | Passes   | Elapsed Time | Training-accuracy | Validation-accuracy |"
      ]
     },
     "metadata": {},
     "output_type": "display_data"
    },
    {
     "data": {
      "text/html": [
       "<pre>+-----------+----------+--------------+-------------------+---------------------+</pre>"
      ],
      "text/plain": [
       "+-----------+----------+--------------+-------------------+---------------------+"
      ]
     },
     "metadata": {},
     "output_type": "display_data"
    },
    {
     "data": {
      "text/html": [
       "<pre>| 1         | 2        | 0.008679     | 0.800853          | 0.734043            |</pre>"
      ],
      "text/plain": [
       "| 1         | 2        | 0.008679     | 0.800853          | 0.734043            |"
      ]
     },
     "metadata": {},
     "output_type": "display_data"
    },
    {
     "data": {
      "text/html": [
       "<pre>| 2         | 3        | 0.018796     | 0.795164          | 0.723404            |</pre>"
      ],
      "text/plain": [
       "| 2         | 3        | 0.018796     | 0.795164          | 0.723404            |"
      ]
     },
     "metadata": {},
     "output_type": "display_data"
    },
    {
     "data": {
      "text/html": [
       "<pre>| 3         | 4        | 0.033073     | 0.792319          | 0.718085            |</pre>"
      ],
      "text/plain": [
       "| 3         | 4        | 0.033073     | 0.792319          | 0.718085            |"
      ]
     },
     "metadata": {},
     "output_type": "display_data"
    },
    {
     "data": {
      "text/html": [
       "<pre>| 4         | 5        | 0.046593     | 0.792319          | 0.718085            |</pre>"
      ],
      "text/plain": [
       "| 4         | 5        | 0.046593     | 0.792319          | 0.718085            |"
      ]
     },
     "metadata": {},
     "output_type": "display_data"
    },
    {
     "data": {
      "text/html": [
       "<pre>+-----------+----------+--------------+-------------------+---------------------+</pre>"
      ],
      "text/plain": [
       "+-----------+----------+--------------+-------------------+---------------------+"
      ]
     },
     "metadata": {},
     "output_type": "display_data"
    },
    {
     "data": {
      "text/html": [
       "<pre>SUCCESS: Optimal solution found.</pre>"
      ],
      "text/plain": [
       "SUCCESS: Optimal solution found."
      ]
     },
     "metadata": {},
     "output_type": "display_data"
    },
    {
     "data": {
      "text/html": [
       "<pre></pre>"
      ],
      "text/plain": []
     },
     "metadata": {},
     "output_type": "display_data"
    }
   ],
   "source": [
    "my_features_model = graphlab.logistic_classifier.create(new_train_data, target='Survived', features=my_features, validation_set=new_validation_data)"
   ]
  },
  {
   "cell_type": "code",
   "execution_count": null,
   "metadata": {},
   "outputs": [],
   "source": []
  },
  {
   "cell_type": "code",
   "execution_count": null,
   "metadata": {},
   "outputs": [],
   "source": []
  },
  {
   "cell_type": "markdown",
   "metadata": {},
   "source": [
    "**my_features_model**의 검증데이터에 대한 정확도를 출력해 봅시다."
   ]
  },
  {
   "cell_type": "code",
   "execution_count": 70,
   "metadata": {},
   "outputs": [
    {
     "data": {
      "text/plain": [
       "0.7180851063829787"
      ]
     },
     "execution_count": 70,
     "metadata": {},
     "output_type": "execute_result"
    }
   ],
   "source": [
    "my_features_model.evaluate(new_validation_data)['accuracy']"
   ]
  },
  {
   "cell_type": "markdown",
   "metadata": {},
   "source": [
    "**sex_only_model**의 검증데이터에 대한 정확도를 출력해 봅시다."
   ]
  },
  {
   "cell_type": "code",
   "execution_count": 73,
   "metadata": {},
   "outputs": [
    {
     "data": {
      "text/plain": [
       "0.7340425531914894"
      ]
     },
     "execution_count": 73,
     "metadata": {},
     "output_type": "execute_result"
    }
   ],
   "source": [
    "sex_only_model.evaluate(new_validation_data)['accuracy']"
   ]
  },
  {
   "cell_type": "markdown",
   "metadata": {},
   "source": [
    "## 망했어요 vs 아니다\n",
    "\n",
    "어느 값이 더 큰가요? 모델에 피쳐를 추가하면서 정확도가 나아졌나요?"
   ]
  },
  {
   "cell_type": "code",
   "execution_count": 74,
   "metadata": {},
   "outputs": [],
   "source": [
    "#아뇨..."
   ]
  },
  {
   "cell_type": "markdown",
   "metadata": {},
   "source": [
    "## 다른 모델들도 학습시키기\n",
    "\n",
    "graphlab에서 제공하는 다른 classifier들을 이용해서 학습시켜 봅시다.\n",
    "\n",
    "- Random Forest\n",
    "- Decision Tree\n",
    "- SVM\n",
    "- Nearest Neighbor\n",
    "\n",
    "https://turi.com/products/create/docs/graphlab.toolkits.classifier.html"
   ]
  },
  {
   "cell_type": "markdown",
   "metadata": {},
   "source": [
    "### Random Forest"
   ]
  },
  {
   "cell_type": "code",
   "execution_count": 75,
   "metadata": {},
   "outputs": [
    {
     "data": {
      "text/html": [
       "<pre>Random forest classifier:</pre>"
      ],
      "text/plain": [
       "Random forest classifier:"
      ]
     },
     "metadata": {},
     "output_type": "display_data"
    },
    {
     "data": {
      "text/html": [
       "<pre>--------------------------------------------------------</pre>"
      ],
      "text/plain": [
       "--------------------------------------------------------"
      ]
     },
     "metadata": {},
     "output_type": "display_data"
    },
    {
     "data": {
      "text/html": [
       "<pre>Number of examples          : 703</pre>"
      ],
      "text/plain": [
       "Number of examples          : 703"
      ]
     },
     "metadata": {},
     "output_type": "display_data"
    },
    {
     "data": {
      "text/html": [
       "<pre>Number of classes           : 2</pre>"
      ],
      "text/plain": [
       "Number of classes           : 2"
      ]
     },
     "metadata": {},
     "output_type": "display_data"
    },
    {
     "data": {
      "text/html": [
       "<pre>Number of feature columns   : 4</pre>"
      ],
      "text/plain": [
       "Number of feature columns   : 4"
      ]
     },
     "metadata": {},
     "output_type": "display_data"
    },
    {
     "data": {
      "text/html": [
       "<pre>Number of unpacked features : 4</pre>"
      ],
      "text/plain": [
       "Number of unpacked features : 4"
      ]
     },
     "metadata": {},
     "output_type": "display_data"
    },
    {
     "data": {
      "text/html": [
       "<pre>+-----------+--------------+-------------------+---------------------+-------------------+---------------------+</pre>"
      ],
      "text/plain": [
       "+-----------+--------------+-------------------+---------------------+-------------------+---------------------+"
      ]
     },
     "metadata": {},
     "output_type": "display_data"
    },
    {
     "data": {
      "text/html": [
       "<pre>| Iteration | Elapsed Time | Training-accuracy | Validation-accuracy | Training-log_loss | Validation-log_loss |</pre>"
      ],
      "text/plain": [
       "| Iteration | Elapsed Time | Training-accuracy | Validation-accuracy | Training-log_loss | Validation-log_loss |"
      ]
     },
     "metadata": {},
     "output_type": "display_data"
    },
    {
     "data": {
      "text/html": [
       "<pre>+-----------+--------------+-------------------+---------------------+-------------------+---------------------+</pre>"
      ],
      "text/plain": [
       "+-----------+--------------+-------------------+---------------------+-------------------+---------------------+"
      ]
     },
     "metadata": {},
     "output_type": "display_data"
    },
    {
     "data": {
      "text/html": [
       "<pre>| 1         | 0.005531     | 0.847795          | 0.776596            | 0.396013          | 0.516299            |</pre>"
      ],
      "text/plain": [
       "| 1         | 0.005531     | 0.847795          | 0.776596            | 0.396013          | 0.516299            |"
      ]
     },
     "metadata": {},
     "output_type": "display_data"
    },
    {
     "data": {
      "text/html": [
       "<pre>| 2         | 0.012096     | 0.844950          | 0.755319            | 0.402929          | 0.526784            |</pre>"
      ],
      "text/plain": [
       "| 2         | 0.012096     | 0.844950          | 0.755319            | 0.402929          | 0.526784            |"
      ]
     },
     "metadata": {},
     "output_type": "display_data"
    },
    {
     "data": {
      "text/html": [
       "<pre>| 3         | 0.018589     | 0.827881          | 0.750000            | 0.423041          | 0.528808            |</pre>"
      ],
      "text/plain": [
       "| 3         | 0.018589     | 0.827881          | 0.750000            | 0.423041          | 0.528808            |"
      ]
     },
     "metadata": {},
     "output_type": "display_data"
    },
    {
     "data": {
      "text/html": [
       "<pre>| 4         | 0.027235     | 0.837838          | 0.760638            | 0.413484          | 0.523354            |</pre>"
      ],
      "text/plain": [
       "| 4         | 0.027235     | 0.837838          | 0.760638            | 0.413484          | 0.523354            |"
      ]
     },
     "metadata": {},
     "output_type": "display_data"
    },
    {
     "data": {
      "text/html": [
       "<pre>| 5         | 0.030077     | 0.849218          | 0.750000            | 0.409900          | 0.520365            |</pre>"
      ],
      "text/plain": [
       "| 5         | 0.030077     | 0.849218          | 0.750000            | 0.409900          | 0.520365            |"
      ]
     },
     "metadata": {},
     "output_type": "display_data"
    },
    {
     "data": {
      "text/html": [
       "<pre>| 6         | 0.036662     | 0.852063          | 0.750000            | 0.405725          | 0.521717            |</pre>"
      ],
      "text/plain": [
       "| 6         | 0.036662     | 0.852063          | 0.750000            | 0.405725          | 0.521717            |"
      ]
     },
     "metadata": {},
     "output_type": "display_data"
    },
    {
     "data": {
      "text/html": [
       "<pre>+-----------+--------------+-------------------+---------------------+-------------------+---------------------+</pre>"
      ],
      "text/plain": [
       "+-----------+--------------+-------------------+---------------------+-------------------+---------------------+"
      ]
     },
     "metadata": {},
     "output_type": "display_data"
    }
   ],
   "source": [
    "my_features_model_rf = graphlab.random_forest_classifier.create(new_train_data,\n",
    "                                                        target='Survived',\n",
    "                                                        features=my_features,\n",
    "                                                        validation_set=new_validation_data)"
   ]
  },
  {
   "cell_type": "code",
   "execution_count": 76,
   "metadata": {},
   "outputs": [
    {
     "data": {
      "text/plain": [
       "0.7393617021276596"
      ]
     },
     "execution_count": 76,
     "metadata": {},
     "output_type": "execute_result"
    }
   ],
   "source": [
    "my_features_model_rf.evaluate(validation_data)['accuracy']"
   ]
  },
  {
   "cell_type": "markdown",
   "metadata": {},
   "source": [
    "### Decision Tree"
   ]
  },
  {
   "cell_type": "code",
   "execution_count": 77,
   "metadata": {},
   "outputs": [
    {
     "data": {
      "text/html": [
       "<pre>Decision tree classifier:</pre>"
      ],
      "text/plain": [
       "Decision tree classifier:"
      ]
     },
     "metadata": {},
     "output_type": "display_data"
    },
    {
     "data": {
      "text/html": [
       "<pre>--------------------------------------------------------</pre>"
      ],
      "text/plain": [
       "--------------------------------------------------------"
      ]
     },
     "metadata": {},
     "output_type": "display_data"
    },
    {
     "data": {
      "text/html": [
       "<pre>Number of examples          : 703</pre>"
      ],
      "text/plain": [
       "Number of examples          : 703"
      ]
     },
     "metadata": {},
     "output_type": "display_data"
    },
    {
     "data": {
      "text/html": [
       "<pre>Number of classes           : 2</pre>"
      ],
      "text/plain": [
       "Number of classes           : 2"
      ]
     },
     "metadata": {},
     "output_type": "display_data"
    },
    {
     "data": {
      "text/html": [
       "<pre>Number of feature columns   : 4</pre>"
      ],
      "text/plain": [
       "Number of feature columns   : 4"
      ]
     },
     "metadata": {},
     "output_type": "display_data"
    },
    {
     "data": {
      "text/html": [
       "<pre>Number of unpacked features : 4</pre>"
      ],
      "text/plain": [
       "Number of unpacked features : 4"
      ]
     },
     "metadata": {},
     "output_type": "display_data"
    },
    {
     "data": {
      "text/html": [
       "<pre>+-----------+--------------+-------------------+---------------------+-------------------+---------------------+</pre>"
      ],
      "text/plain": [
       "+-----------+--------------+-------------------+---------------------+-------------------+---------------------+"
      ]
     },
     "metadata": {},
     "output_type": "display_data"
    },
    {
     "data": {
      "text/html": [
       "<pre>| Iteration | Elapsed Time | Training-accuracy | Validation-accuracy | Training-log_loss | Validation-log_loss |</pre>"
      ],
      "text/plain": [
       "| Iteration | Elapsed Time | Training-accuracy | Validation-accuracy | Training-log_loss | Validation-log_loss |"
      ]
     },
     "metadata": {},
     "output_type": "display_data"
    },
    {
     "data": {
      "text/html": [
       "<pre>+-----------+--------------+-------------------+---------------------+-------------------+---------------------+</pre>"
      ],
      "text/plain": [
       "+-----------+--------------+-------------------+---------------------+-------------------+---------------------+"
      ]
     },
     "metadata": {},
     "output_type": "display_data"
    },
    {
     "data": {
      "text/html": [
       "<pre>| 1         | 0.005852     | 0.853485          | 0.750000            | 0.557577          | 0.598062            |</pre>"
      ],
      "text/plain": [
       "| 1         | 0.005852     | 0.853485          | 0.750000            | 0.557577          | 0.598062            |"
      ]
     },
     "metadata": {},
     "output_type": "display_data"
    },
    {
     "data": {
      "text/html": [
       "<pre>+-----------+--------------+-------------------+---------------------+-------------------+---------------------+</pre>"
      ],
      "text/plain": [
       "+-----------+--------------+-------------------+---------------------+-------------------+---------------------+"
      ]
     },
     "metadata": {},
     "output_type": "display_data"
    }
   ],
   "source": [
    "my_features_model_dt = graphlab.decision_tree_classifier.create(new_train_data,\n",
    "                                                        target='Survived',\n",
    "                                                        features=my_features,\n",
    "                                                        validation_set=new_validation_data)"
   ]
  },
  {
   "cell_type": "code",
   "execution_count": 78,
   "metadata": {},
   "outputs": [
    {
     "data": {
      "text/plain": [
       "0.75"
      ]
     },
     "execution_count": 78,
     "metadata": {},
     "output_type": "execute_result"
    }
   ],
   "source": [
    "my_features_model_dt.evaluate(validation_data)['accuracy']"
   ]
  },
  {
   "cell_type": "markdown",
   "metadata": {},
   "source": [
    "### SVM"
   ]
  },
  {
   "cell_type": "code",
   "execution_count": 79,
   "metadata": {},
   "outputs": [
    {
     "data": {
      "text/html": [
       "<pre>SVM:</pre>"
      ],
      "text/plain": [
       "SVM:"
      ]
     },
     "metadata": {},
     "output_type": "display_data"
    },
    {
     "data": {
      "text/html": [
       "<pre>--------------------------------------------------------</pre>"
      ],
      "text/plain": [
       "--------------------------------------------------------"
      ]
     },
     "metadata": {},
     "output_type": "display_data"
    },
    {
     "data": {
      "text/html": [
       "<pre>Number of examples          : 703</pre>"
      ],
      "text/plain": [
       "Number of examples          : 703"
      ]
     },
     "metadata": {},
     "output_type": "display_data"
    },
    {
     "data": {
      "text/html": [
       "<pre>Number of classes           : 2</pre>"
      ],
      "text/plain": [
       "Number of classes           : 2"
      ]
     },
     "metadata": {},
     "output_type": "display_data"
    },
    {
     "data": {
      "text/html": [
       "<pre>Number of feature columns   : 4</pre>"
      ],
      "text/plain": [
       "Number of feature columns   : 4"
      ]
     },
     "metadata": {},
     "output_type": "display_data"
    },
    {
     "data": {
      "text/html": [
       "<pre>Number of unpacked features : 4</pre>"
      ],
      "text/plain": [
       "Number of unpacked features : 4"
      ]
     },
     "metadata": {},
     "output_type": "display_data"
    },
    {
     "data": {
      "text/html": [
       "<pre>Number of coefficients    : 6</pre>"
      ],
      "text/plain": [
       "Number of coefficients    : 6"
      ]
     },
     "metadata": {},
     "output_type": "display_data"
    },
    {
     "data": {
      "text/html": [
       "<pre>Starting L-BFGS</pre>"
      ],
      "text/plain": [
       "Starting L-BFGS"
      ]
     },
     "metadata": {},
     "output_type": "display_data"
    },
    {
     "data": {
      "text/html": [
       "<pre>--------------------------------------------------------</pre>"
      ],
      "text/plain": [
       "--------------------------------------------------------"
      ]
     },
     "metadata": {},
     "output_type": "display_data"
    },
    {
     "data": {
      "text/html": [
       "<pre>+-----------+----------+-----------+--------------+-------------------+---------------------+</pre>"
      ],
      "text/plain": [
       "+-----------+----------+-----------+--------------+-------------------+---------------------+"
      ]
     },
     "metadata": {},
     "output_type": "display_data"
    },
    {
     "data": {
      "text/html": [
       "<pre>| Iteration | Passes   | Step size | Elapsed Time | Training-accuracy | Validation-accuracy |</pre>"
      ],
      "text/plain": [
       "| Iteration | Passes   | Step size | Elapsed Time | Training-accuracy | Validation-accuracy |"
      ]
     },
     "metadata": {},
     "output_type": "display_data"
    },
    {
     "data": {
      "text/html": [
       "<pre>+-----------+----------+-----------+--------------+-------------------+---------------------+</pre>"
      ],
      "text/plain": [
       "+-----------+----------+-----------+--------------+-------------------+---------------------+"
      ]
     },
     "metadata": {},
     "output_type": "display_data"
    },
    {
     "data": {
      "text/html": [
       "<pre>| 1         | 4        | 0.007112  | 0.002848     | 0.778094          | 0.792553            |</pre>"
      ],
      "text/plain": [
       "| 1         | 4        | 0.007112  | 0.002848     | 0.778094          | 0.792553            |"
      ]
     },
     "metadata": {},
     "output_type": "display_data"
    },
    {
     "data": {
      "text/html": [
       "<pre>| 2         | 6        | 1.000000  | 0.013821     | 0.792319          | 0.734043            |</pre>"
      ],
      "text/plain": [
       "| 2         | 6        | 1.000000  | 0.013821     | 0.792319          | 0.734043            |"
      ]
     },
     "metadata": {},
     "output_type": "display_data"
    },
    {
     "data": {
      "text/html": [
       "<pre>| 3         | 7        | 1.000000  | 0.016631     | 0.792319          | 0.734043            |</pre>"
      ],
      "text/plain": [
       "| 3         | 7        | 1.000000  | 0.016631     | 0.792319          | 0.734043            |"
      ]
     },
     "metadata": {},
     "output_type": "display_data"
    },
    {
     "data": {
      "text/html": [
       "<pre>| 4         | 8        | 1.000000  | 0.022911     | 0.790896          | 0.728723            |</pre>"
      ],
      "text/plain": [
       "| 4         | 8        | 1.000000  | 0.022911     | 0.790896          | 0.728723            |"
      ]
     },
     "metadata": {},
     "output_type": "display_data"
    },
    {
     "data": {
      "text/html": [
       "<pre>| 5         | 9        | 1.000000  | 0.026095     | 0.233286          | 0.303191            |</pre>"
      ],
      "text/plain": [
       "| 5         | 9        | 1.000000  | 0.026095     | 0.233286          | 0.303191            |"
      ]
     },
     "metadata": {},
     "output_type": "display_data"
    },
    {
     "data": {
      "text/html": [
       "<pre>| 6         | 11       | 1.000000  | 0.028931     | 0.752489          | 0.680851            |</pre>"
      ],
      "text/plain": [
       "| 6         | 11       | 1.000000  | 0.028931     | 0.752489          | 0.680851            |"
      ]
     },
     "metadata": {},
     "output_type": "display_data"
    },
    {
     "data": {
      "text/html": [
       "<pre>+-----------+----------+-----------+--------------+-------------------+---------------------+</pre>"
      ],
      "text/plain": [
       "+-----------+----------+-----------+--------------+-------------------+---------------------+"
      ]
     },
     "metadata": {},
     "output_type": "display_data"
    },
    {
     "data": {
      "text/html": [
       "<pre>TERMINATED: Iteration limit reached.</pre>"
      ],
      "text/plain": [
       "TERMINATED: Iteration limit reached."
      ]
     },
     "metadata": {},
     "output_type": "display_data"
    },
    {
     "data": {
      "text/html": [
       "<pre>This model may not be optimal. To improve it, consider increasing `max_iterations`.</pre>"
      ],
      "text/plain": [
       "This model may not be optimal. To improve it, consider increasing `max_iterations`."
      ]
     },
     "metadata": {},
     "output_type": "display_data"
    }
   ],
   "source": [
    "my_features_model_svm = graphlab.svm_classifier.create(new_train_data,\n",
    "                                                        target='Survived',\n",
    "                                                        features=my_features,\n",
    "                                                        validation_set=new_validation_data)"
   ]
  },
  {
   "cell_type": "code",
   "execution_count": 80,
   "metadata": {},
   "outputs": [
    {
     "data": {
      "text/plain": [
       "0.75"
      ]
     },
     "execution_count": 80,
     "metadata": {},
     "output_type": "execute_result"
    }
   ],
   "source": [
    "my_features_model_dt.evaluate(validation_data)['accuracy']"
   ]
  },
  {
   "cell_type": "code",
   "execution_count": null,
   "metadata": {},
   "outputs": [],
   "source": []
  },
  {
   "cell_type": "markdown",
   "metadata": {},
   "source": [
    "### Nearest Neighbor"
   ]
  },
  {
   "cell_type": "code",
   "execution_count": 81,
   "metadata": {},
   "outputs": [
    {
     "name": "stdout",
     "output_type": "stream",
     "text": [
      "Defaulting to brute force instead of ball tree because there are multiple distance components.\n"
     ]
    },
    {
     "data": {
      "text/html": [
       "<pre>Starting brute force nearest neighbors model training.</pre>"
      ],
      "text/plain": [
       "Starting brute force nearest neighbors model training."
      ]
     },
     "metadata": {},
     "output_type": "display_data"
    }
   ],
   "source": [
    "my_features_model_nn = graphlab.nearest_neighbor_classifier.create(new_train_data,\n",
    "                                                                   target='Survived',\n",
    "                                                                   features=my_features)"
   ]
  },
  {
   "cell_type": "code",
   "execution_count": 82,
   "metadata": {},
   "outputs": [
    {
     "data": {
      "text/html": [
       "<pre>Starting pairwise querying.</pre>"
      ],
      "text/plain": [
       "Starting pairwise querying."
      ]
     },
     "metadata": {},
     "output_type": "display_data"
    },
    {
     "data": {
      "text/html": [
       "<pre>+--------------+---------+-------------+--------------+</pre>"
      ],
      "text/plain": [
       "+--------------+---------+-------------+--------------+"
      ]
     },
     "metadata": {},
     "output_type": "display_data"
    },
    {
     "data": {
      "text/html": [
       "<pre>| Query points | # Pairs | % Complete. | Elapsed Time |</pre>"
      ],
      "text/plain": [
       "| Query points | # Pairs | % Complete. | Elapsed Time |"
      ]
     },
     "metadata": {},
     "output_type": "display_data"
    },
    {
     "data": {
      "text/html": [
       "<pre>+--------------+---------+-------------+--------------+</pre>"
      ],
      "text/plain": [
       "+--------------+---------+-------------+--------------+"
      ]
     },
     "metadata": {},
     "output_type": "display_data"
    },
    {
     "data": {
      "text/html": [
       "<pre>| 0            | 188     | 0.142248    | 3.335ms      |</pre>"
      ],
      "text/plain": [
       "| 0            | 188     | 0.142248    | 3.335ms      |"
      ]
     },
     "metadata": {},
     "output_type": "display_data"
    },
    {
     "data": {
      "text/html": [
       "<pre>| Done         |         | 100         | 244.222ms    |</pre>"
      ],
      "text/plain": [
       "| Done         |         | 100         | 244.222ms    |"
      ]
     },
     "metadata": {},
     "output_type": "display_data"
    },
    {
     "data": {
      "text/html": [
       "<pre>+--------------+---------+-------------+--------------+</pre>"
      ],
      "text/plain": [
       "+--------------+---------+-------------+--------------+"
      ]
     },
     "metadata": {},
     "output_type": "display_data"
    },
    {
     "data": {
      "text/html": [
       "<pre>Starting pairwise querying.</pre>"
      ],
      "text/plain": [
       "Starting pairwise querying."
      ]
     },
     "metadata": {},
     "output_type": "display_data"
    },
    {
     "data": {
      "text/html": [
       "<pre>+--------------+---------+-------------+--------------+</pre>"
      ],
      "text/plain": [
       "+--------------+---------+-------------+--------------+"
      ]
     },
     "metadata": {},
     "output_type": "display_data"
    },
    {
     "data": {
      "text/html": [
       "<pre>| Query points | # Pairs | % Complete. | Elapsed Time |</pre>"
      ],
      "text/plain": [
       "| Query points | # Pairs | % Complete. | Elapsed Time |"
      ]
     },
     "metadata": {},
     "output_type": "display_data"
    },
    {
     "data": {
      "text/html": [
       "<pre>+--------------+---------+-------------+--------------+</pre>"
      ],
      "text/plain": [
       "+--------------+---------+-------------+--------------+"
      ]
     },
     "metadata": {},
     "output_type": "display_data"
    },
    {
     "data": {
      "text/html": [
       "<pre>| 0            | 188     | 0.142248    | 2.744ms      |</pre>"
      ],
      "text/plain": [
       "| 0            | 188     | 0.142248    | 2.744ms      |"
      ]
     },
     "metadata": {},
     "output_type": "display_data"
    },
    {
     "data": {
      "text/html": [
       "<pre>| Done         |         | 100         | 227.243ms    |</pre>"
      ],
      "text/plain": [
       "| Done         |         | 100         | 227.243ms    |"
      ]
     },
     "metadata": {},
     "output_type": "display_data"
    },
    {
     "data": {
      "text/html": [
       "<pre>+--------------+---------+-------------+--------------+</pre>"
      ],
      "text/plain": [
       "+--------------+---------+-------------+--------------+"
      ]
     },
     "metadata": {},
     "output_type": "display_data"
    },
    {
     "data": {
      "text/plain": [
       "0.7021276595744681"
      ]
     },
     "execution_count": 82,
     "metadata": {},
     "output_type": "execute_result"
    }
   ],
   "source": [
    "my_features_model_nn.evaluate(validation_data)['accuracy']"
   ]
  },
  {
   "cell_type": "code",
   "execution_count": 83,
   "metadata": {
    "scrolled": false
   },
   "outputs": [
    {
     "data": {
      "application/javascript": [
       "$(\"head\").append($(\"<link/>\").attr({\n",
       "  rel:  \"stylesheet\",\n",
       "  type: \"text/css\",\n",
       "  href: \"//cdnjs.cloudflare.com/ajax/libs/font-awesome/4.1.0/css/font-awesome.min.css\"\n",
       "}));\n",
       "$(\"head\").append($(\"<link/>\").attr({\n",
       "  rel:  \"stylesheet\",\n",
       "  type: \"text/css\",\n",
       "  href: \"https://static.turi.com/products/graphlab-create/2.1/canvas/css/canvas.css\"\n",
       "}));\n",
       "\n",
       "            (function(){\n",
       "\n",
       "                var e = null;\n",
       "                if (typeof element == 'undefined') {\n",
       "                    var scripts = document.getElementsByTagName('script');\n",
       "                    var thisScriptTag = scripts[scripts.length-1];\n",
       "                    var parentDiv = thisScriptTag.parentNode;\n",
       "                    e = document.createElement('div');\n",
       "                    parentDiv.appendChild(e);\n",
       "                } else {\n",
       "                    e = element[0];\n",
       "                }\n",
       "\n",
       "                if (typeof requirejs !== 'undefined') {\n",
       "                    // disable load timeout; ipython_app.js is large and can take a while to load.\n",
       "                    requirejs.config({waitSeconds: 0});\n",
       "                }\n",
       "\n",
       "                require(['https://static.turi.com/products/graphlab-create/2.1/canvas/js/ipython_app.js'], function(IPythonApp){\n",
       "                    var app = new IPythonApp();\n",
       "                    app.attachView('sframe','Plots', {\"selected_variable\": {\"name\": [\"<SFrame>\"], \"descriptives\": {\"rows\": 342, \"columns\": 12}, \"view_component\": \"Plots\", \"view_file\": \"sframe\", \"view_params\": {\"y\": \"PassengerId\", \"x\": \"Pclass\", \"columns\": [\"PassengerId\", \"Survived\", \"Pclass\", \"Name\", \"Sex\", \"Age\", \"SibSp\", \"Parch\", \"Ticket\", \"Fare\", \"Cabin\", \"Embarked\"], \"view\": \"Bar Chart\"}, \"view_components\": [\"Summary\", \"Table\", \"Bar Chart\", \"BoxWhisker Plot\", \"Line Chart\", \"Scatter Plot\", \"Heat Map\", \"Plots\"], \"type\": \"SFrame\", \"columns\": [{\"dtype\": \"int\", \"name\": \"PassengerId\"}, {\"dtype\": \"int\", \"name\": \"Survived\"}, {\"dtype\": \"int\", \"name\": \"Pclass\"}, {\"dtype\": \"str\", \"name\": \"Name\"}, {\"dtype\": \"str\", \"name\": \"Sex\"}, {\"dtype\": \"float\", \"name\": \"Age\"}, {\"dtype\": \"int\", \"name\": \"SibSp\"}, {\"dtype\": \"int\", \"name\": \"Parch\"}, {\"dtype\": \"str\", \"name\": \"Ticket\"}, {\"dtype\": \"float\", \"name\": \"Fare\"}, {\"dtype\": \"str\", \"name\": \"Cabin\"}, {\"dtype\": \"str\", \"name\": \"Embarked\"}], \"column_identifiers\": [\"Fare\", \"Name\", \"Embarked\", \"Age\", \"Parch\", \"Pclass\", \"Sex\", \"Survived\", \"SibSp\", \"PassengerId\", \"Ticket\", \"Cabin\"]}, \"complete\": 1, \"ipython\": true, \"progress\": 1.0, \"data\": {\"grouped\": [[1, {\"count\": 136, \"std\": 238.12666448119103, \"min\": 2, \"max\": 890, \"sum\": 66881, \"var\": 56704.30833693773, \"mean\": 491.7720588235295}], [2, {\"count\": 87, \"std\": 242.80436372410355, \"min\": 10, \"max\": 881, \"sum\": 38200, \"var\": 58953.95904346678, \"mean\": 439.08045977011494}], [3, {\"count\": 119, \"std\": 263.5657969329511, \"min\": 3, \"max\": 876, \"sum\": 46893, \"var\": 69466.92931290163, \"mean\": 394.05882352941177}]], \"omitted\": 0}, \"columns\": [{\"dtype\": \"int\", \"name\": \"PassengerId\"}, {\"dtype\": \"int\", \"name\": \"Survived\"}, {\"dtype\": \"int\", \"name\": \"Pclass\"}, {\"dtype\": \"str\", \"name\": \"Name\"}, {\"dtype\": \"str\", \"name\": \"Sex\"}, {\"dtype\": \"float\", \"name\": \"Age\"}, {\"dtype\": \"int\", \"name\": \"SibSp\"}, {\"dtype\": \"int\", \"name\": \"Parch\"}, {\"dtype\": \"str\", \"name\": \"Ticket\"}, {\"dtype\": \"float\", \"name\": \"Fare\"}, {\"dtype\": \"str\", \"name\": \"Cabin\"}, {\"dtype\": \"str\", \"name\": \"Embarked\"}]}, e);\n",
       "                });\n",
       "            })();\n",
       "        "
      ]
     },
     "metadata": {},
     "output_type": "display_data"
    },
    {
     "data": {
      "application/javascript": [
       "$(\"head\").append($(\"<link/>\").attr({\n",
       "  rel:  \"stylesheet\",\n",
       "  type: \"text/css\",\n",
       "  href: \"//cdnjs.cloudflare.com/ajax/libs/font-awesome/4.1.0/css/font-awesome.min.css\"\n",
       "}));\n",
       "$(\"head\").append($(\"<link/>\").attr({\n",
       "  rel:  \"stylesheet\",\n",
       "  type: \"text/css\",\n",
       "  href: \"https://static.turi.com/products/graphlab-create/2.1/canvas/css/canvas.css\"\n",
       "}));\n",
       "\n",
       "            (function(){\n",
       "\n",
       "                var e = null;\n",
       "                if (typeof element == 'undefined') {\n",
       "                    var scripts = document.getElementsByTagName('script');\n",
       "                    var thisScriptTag = scripts[scripts.length-1];\n",
       "                    var parentDiv = thisScriptTag.parentNode;\n",
       "                    e = document.createElement('div');\n",
       "                    parentDiv.appendChild(e);\n",
       "                } else {\n",
       "                    e = element[0];\n",
       "                }\n",
       "\n",
       "                if (typeof requirejs !== 'undefined') {\n",
       "                    // disable load timeout; ipython_app.js is large and can take a while to load.\n",
       "                    requirejs.config({waitSeconds: 0});\n",
       "                }\n",
       "\n",
       "                require(['https://static.turi.com/products/graphlab-create/2.1/canvas/js/ipython_app.js'], function(IPythonApp){\n",
       "                    var app = new IPythonApp();\n",
       "                    app.attachView('sframe','Plots', {\"selected_variable\": {\"name\": [\"<SFrame>\"], \"descriptives\": {\"rows\": 342, \"columns\": 12}, \"view_component\": \"Plots\", \"view_file\": \"sframe\", \"view_params\": {\"y\": \"PassengerId\", \"x\": \"Sex\", \"columns\": [\"PassengerId\", \"Survived\", \"Pclass\", \"Name\", \"Sex\", \"Age\", \"SibSp\", \"Parch\", \"Ticket\", \"Fare\", \"Cabin\", \"Embarked\"], \"view\": \"Bar Chart\"}, \"view_components\": [\"Summary\", \"Table\", \"Bar Chart\", \"BoxWhisker Plot\", \"Line Chart\", \"Scatter Plot\", \"Heat Map\", \"Plots\"], \"type\": \"SFrame\", \"columns\": [{\"dtype\": \"int\", \"name\": \"PassengerId\"}, {\"dtype\": \"int\", \"name\": \"Survived\"}, {\"dtype\": \"int\", \"name\": \"Pclass\"}, {\"dtype\": \"str\", \"name\": \"Name\"}, {\"dtype\": \"str\", \"name\": \"Sex\"}, {\"dtype\": \"float\", \"name\": \"Age\"}, {\"dtype\": \"int\", \"name\": \"SibSp\"}, {\"dtype\": \"int\", \"name\": \"Parch\"}, {\"dtype\": \"str\", \"name\": \"Ticket\"}, {\"dtype\": \"float\", \"name\": \"Fare\"}, {\"dtype\": \"str\", \"name\": \"Cabin\"}, {\"dtype\": \"str\", \"name\": \"Embarked\"}], \"column_identifiers\": [\"Fare\", \"Name\", \"Embarked\", \"Age\", \"Parch\", \"Pclass\", \"Sex\", \"Survived\", \"SibSp\", \"PassengerId\", \"Ticket\", \"Cabin\"]}, \"complete\": 1, \"ipython\": true, \"progress\": 1.0, \"data\": {\"grouped\": [[\"female\", {\"count\": 233, \"std\": 254.50039393847155, \"min\": 2, \"max\": 888, \"sum\": 100120, \"var\": 64770.45051483721, \"mean\": 429.69957081545067}], [\"male\", {\"count\": 109, \"std\": 243.59233773067282, \"min\": 18, \"max\": 890, \"sum\": 51854, \"var\": 59337.227001094165, \"mean\": 475.72477064220175}]], \"omitted\": 0}, \"columns\": [{\"dtype\": \"int\", \"name\": \"PassengerId\"}, {\"dtype\": \"int\", \"name\": \"Survived\"}, {\"dtype\": \"int\", \"name\": \"Pclass\"}, {\"dtype\": \"str\", \"name\": \"Name\"}, {\"dtype\": \"str\", \"name\": \"Sex\"}, {\"dtype\": \"float\", \"name\": \"Age\"}, {\"dtype\": \"int\", \"name\": \"SibSp\"}, {\"dtype\": \"int\", \"name\": \"Parch\"}, {\"dtype\": \"str\", \"name\": \"Ticket\"}, {\"dtype\": \"float\", \"name\": \"Fare\"}, {\"dtype\": \"str\", \"name\": \"Cabin\"}, {\"dtype\": \"str\", \"name\": \"Embarked\"}]}, e);\n",
       "                });\n",
       "            })();\n",
       "        "
      ]
     },
     "metadata": {},
     "output_type": "display_data"
    },
    {
     "data": {
      "application/javascript": [
       "$(\"head\").append($(\"<link/>\").attr({\n",
       "  rel:  \"stylesheet\",\n",
       "  type: \"text/css\",\n",
       "  href: \"//cdnjs.cloudflare.com/ajax/libs/font-awesome/4.1.0/css/font-awesome.min.css\"\n",
       "}));\n",
       "$(\"head\").append($(\"<link/>\").attr({\n",
       "  rel:  \"stylesheet\",\n",
       "  type: \"text/css\",\n",
       "  href: \"https://static.turi.com/products/graphlab-create/2.1/canvas/css/canvas.css\"\n",
       "}));\n",
       "\n",
       "            (function(){\n",
       "\n",
       "                var e = null;\n",
       "                if (typeof element == 'undefined') {\n",
       "                    var scripts = document.getElementsByTagName('script');\n",
       "                    var thisScriptTag = scripts[scripts.length-1];\n",
       "                    var parentDiv = thisScriptTag.parentNode;\n",
       "                    e = document.createElement('div');\n",
       "                    parentDiv.appendChild(e);\n",
       "                } else {\n",
       "                    e = element[0];\n",
       "                }\n",
       "\n",
       "                if (typeof requirejs !== 'undefined') {\n",
       "                    // disable load timeout; ipython_app.js is large and can take a while to load.\n",
       "                    requirejs.config({waitSeconds: 0});\n",
       "                }\n",
       "\n",
       "                require(['https://static.turi.com/products/graphlab-create/2.1/canvas/js/ipython_app.js'], function(IPythonApp){\n",
       "                    var app = new IPythonApp();\n",
       "                    app.attachView('sframe','Plots', {\"selected_variable\": {\"name\": [\"<SFrame>\"], \"descriptives\": {\"rows\": 342, \"columns\": 12}, \"view_component\": \"Plots\", \"view_file\": \"sframe\", \"view_params\": {\"y\": \"PassengerId\", \"x\": \"Age\", \"columns\": [\"PassengerId\", \"Survived\", \"Pclass\", \"Name\", \"Sex\", \"Age\", \"SibSp\", \"Parch\", \"Ticket\", \"Fare\", \"Cabin\", \"Embarked\"], \"view\": \"Bar Chart\"}, \"view_components\": [\"Summary\", \"Table\", \"Bar Chart\", \"BoxWhisker Plot\", \"Line Chart\", \"Scatter Plot\", \"Heat Map\", \"Plots\"], \"type\": \"SFrame\", \"columns\": [{\"dtype\": \"int\", \"name\": \"PassengerId\"}, {\"dtype\": \"int\", \"name\": \"Survived\"}, {\"dtype\": \"int\", \"name\": \"Pclass\"}, {\"dtype\": \"str\", \"name\": \"Name\"}, {\"dtype\": \"str\", \"name\": \"Sex\"}, {\"dtype\": \"float\", \"name\": \"Age\"}, {\"dtype\": \"int\", \"name\": \"SibSp\"}, {\"dtype\": \"int\", \"name\": \"Parch\"}, {\"dtype\": \"str\", \"name\": \"Ticket\"}, {\"dtype\": \"float\", \"name\": \"Fare\"}, {\"dtype\": \"str\", \"name\": \"Cabin\"}, {\"dtype\": \"str\", \"name\": \"Embarked\"}], \"column_identifiers\": [\"Fare\", \"Name\", \"Embarked\", \"Age\", \"Parch\", \"Pclass\", \"Sex\", \"Survived\", \"SibSp\", \"PassengerId\", \"Ticket\", \"Cabin\"]}, \"complete\": 1, \"ipython\": true, \"progress\": 1.0, \"data\": {\"grouped\": [[null, {\"count\": 52, \"std\": 247.65018977194998, \"min\": 18, \"max\": 850, \"sum\": 19221, \"var\": 61330.61649408284, \"mean\": 369.63461538461536}], [0.42, {\"count\": 1, \"std\": 0.0, \"min\": 804, \"max\": 804, \"sum\": 804, \"var\": 0.0, \"mean\": 804.0}], [0.67, {\"count\": 1, \"std\": 0.0, \"min\": 756, \"max\": 756, \"sum\": 756, \"var\": 0.0, \"mean\": 756.0}], [0.75, {\"count\": 2, \"std\": 87.5, \"min\": 470, \"max\": 645, \"sum\": 1115, \"var\": 7656.25, \"mean\": 557.5}], [0.83, {\"count\": 2, \"std\": 376.5, \"min\": 79, \"max\": 832, \"sum\": 911, \"var\": 141752.25, \"mean\": 455.5}], [0.92, {\"count\": 1, \"std\": 0.0, \"min\": 306, \"max\": 306, \"sum\": 306, \"var\": 0.0, \"mean\": 306.0}], [1.0, {\"count\": 5, \"std\": 285.54046998630514, \"min\": 173, \"max\": 828, \"sum\": 2356, \"var\": 81533.36000000002, \"mean\": 471.2}], [2.0, {\"count\": 3, \"std\": 80.2925207531118, \"min\": 341, \"max\": 531, \"sum\": 1352, \"var\": 6446.88888888889, \"mean\": 450.6666666666667}], [3.0, {\"count\": 5, \"std\": 126.8630757943382, \"min\": 44, \"max\": 408, \"sum\": 1257, \"var\": 16094.24, \"mean\": 251.4}], [4.0, {\"count\": 7, \"std\": 290.66566810038796, \"min\": 11, \"max\": 870, \"sum\": 3574, \"var\": 84486.5306122449, \"mean\": 510.57142857142856}], [5.0, {\"count\": 4, \"std\": 268.10538972575694, \"min\": 59, \"max\": 778, \"sum\": 1520, \"var\": 71880.5, \"mean\": 380.0}], [6.0, {\"count\": 2, \"std\": 15.5, \"min\": 721, \"max\": 752, \"sum\": 1473, \"var\": 240.25, \"mean\": 736.5}], [7.0, {\"count\": 1, \"std\": 0.0, \"min\": 536, \"max\": 536, \"sum\": 536, \"var\": 0.0, \"mean\": 536.0}], [8.0, {\"count\": 2, \"std\": 156.0, \"min\": 238, \"max\": 550, \"sum\": 788, \"var\": 24336.0, \"mean\": 394.0}], [9.0, {\"count\": 2, \"std\": 162.0, \"min\": 166, \"max\": 490, \"sum\": 656, \"var\": 26244.0, \"mean\": 328.0}], [11.0, {\"count\": 1, \"std\": 0.0, \"min\": 803, \"max\": 803, \"sum\": 803, \"var\": 0.0, \"mean\": 803.0}], [12.0, {\"count\": 1, \"std\": 0.0, \"min\": 126, \"max\": 126, \"sum\": 126, \"var\": 0.0, \"mean\": 126.0}], [13.0, {\"count\": 2, \"std\": 167.0, \"min\": 447, \"max\": 781, \"sum\": 1228, \"var\": 27889.0, \"mean\": 614.0}], [14.0, {\"count\": 3, \"std\": 194.13397435791603, \"min\": 10, \"max\": 436, \"sum\": 486, \"var\": 37688.0, \"mean\": 162.0}], [15.0, {\"count\": 4, \"std\": 342.9526206343961, \"min\": 23, \"max\": 876, \"sum\": 2420, \"var\": 117616.5, \"mean\": 605.0}], [16.0, {\"count\": 6, \"std\": 240.50271423739807, \"min\": 157, \"max\": 854, \"sum\": 2276, \"var\": 57841.555555555555, \"mean\": 379.3333333333333}], [17.0, {\"count\": 6, \"std\": 251.12109739238468, \"min\": 69, \"max\": 782, \"sum\": 2185, \"var\": 63061.805555555555, \"mean\": 364.1666666666667}], [18.0, {\"count\": 9, \"std\": 207.39483427499013, \"min\": 205, \"max\": 856, \"sum\": 5195, \"var\": 43012.61728395062, \"mean\": 577.2222222222222}], [19.0, {\"count\": 9, \"std\": 240.11776945881482, \"min\": 45, \"max\": 888, \"sum\": 3041, \"var\": 57656.543209876545, \"mean\": 337.8888888888889}], [20.0, {\"count\": 3, \"std\": 58.65909041989051, \"min\": 623, \"max\": 763, \"sum\": 2051, \"var\": 3440.8888888888905, \"mean\": 683.6666666666666}], [21.0, {\"count\": 5, \"std\": 272.81099684580164, \"min\": 57, \"max\": 743, \"sum\": 1927, \"var\": 74425.84, \"mean\": 385.4}], [22.0, {\"count\": 11, \"std\": 178.5940037678146, \"min\": 142, \"max\": 709, \"sum\": 4609, \"var\": 31895.818181818173, \"mean\": 419.0}], [23.0, {\"count\": 5, \"std\": 218.41794798047158, \"min\": 89, \"max\": 650, \"sum\": 1705, \"var\": 47706.399999999994, \"mean\": 341.0}], [24.0, {\"count\": 15, \"std\": 204.1371652155046, \"min\": 128, \"max\": 859, \"sum\": 6467, \"var\": 41671.98222222222, \"mean\": 431.1333333333333}], [25.0, {\"count\": 6, \"std\": 212.53836255028304, \"min\": 268, \"max\": 881, \"sum\": 2858, \"var\": 45172.555555555555, \"mean\": 476.3333333333333}], [26.0, {\"count\": 6, \"std\": 276.91434696590846, \"min\": 3, \"max\": 890, \"sum\": 2218, \"var\": 76681.55555555555, \"mean\": 369.6666666666667}], [27.0, {\"count\": 11, \"std\": 293.4859451489969, \"min\": 9, \"max\": 867, \"sum\": 6424, \"var\": 86134.00000000001, \"mean\": 584.0000000000001}], [28.0, {\"count\": 7, \"std\": 238.75920753695232, \"min\": 24, \"max\": 875, \"sum\": 3237, \"var\": 57005.95918367347, \"mean\": 462.42857142857144}], [29.0, {\"count\": 8, \"std\": 235.8373048841086, \"min\": 54, \"max\": 731, \"sum\": 2291, \"var\": 55619.23437499999, \"mean\": 286.375}], [30.0, {\"count\": 10, \"std\": 238.11898286360957, \"min\": 80, \"max\": 843, \"sum\": 4635, \"var\": 56700.64999999999, \"mean\": 463.5}], [31.0, {\"count\": 8, \"std\": 225.9047088929312, \"min\": 216, \"max\": 802, \"sum\": 4574, \"var\": 51032.9375, \"mean\": 571.75}], [32.0, {\"count\": 9, \"std\": 232.45219872343225, \"min\": 75, \"max\": 839, \"sum\": 4081, \"var\": 54034.024691358034, \"mean\": 453.44444444444446}], [32.5, {\"count\": 1, \"std\": 0.0, \"min\": 124, \"max\": 124, \"sum\": 124, \"var\": 0.0, \"mean\": 124.0}], [33.0, {\"count\": 6, \"std\": 239.11044635388802, \"min\": 86, \"max\": 810, \"sum\": 3049, \"var\": 57173.80555555556, \"mean\": 508.1666666666667}], [34.0, {\"count\": 6, \"std\": 209.7734227419882, \"min\": 22, \"max\": 577, \"sum\": 2080, \"var\": 44004.8888888889, \"mean\": 346.6666666666667}], [35.0, {\"count\": 11, \"std\": 217.93956247676095, \"min\": 4, \"max\": 738, \"sum\": 4172, \"var\": 47497.652892561986, \"mean\": 379.27272727272725}], [36.0, {\"count\": 11, \"std\": 133.78909021724093, \"min\": 326, \"max\": 764, \"sum\": 5583, \"var\": 17899.52066115703, \"mean\": 507.54545454545456}], [37.0, {\"count\": 1, \"std\": 0.0, \"min\": 249, \"max\": 249, \"sum\": 249, \"var\": 0.0, \"mean\": 249.0}], [38.0, {\"count\": 5, \"std\": 266.92066236992594, \"min\": 2, \"max\": 717, \"sum\": 1032, \"var\": 71246.64, \"mean\": 206.4}], [39.0, {\"count\": 5, \"std\": 139.56991079742082, \"min\": 401, \"max\": 836, \"sum\": 2956, \"var\": 19479.760000000002, \"mean\": 591.2}], [40.0, {\"count\": 6, \"std\": 190.79977870939882, \"min\": 162, \"max\": 671, \"sum\": 2320, \"var\": 36404.555555555555, \"mean\": 386.6666666666667}], [41.0, {\"count\": 2, \"std\": 32.5, \"min\": 273, \"max\": 338, \"sum\": 611, \"var\": 1056.25, \"mean\": 305.5}], [42.0, {\"count\": 6, \"std\": 200.15611962221442, \"min\": 289, \"max\": 866, \"sum\": 3299, \"var\": 40062.47222222221, \"mean\": 549.8333333333334}], [43.0, {\"count\": 1, \"std\": 0.0, \"min\": 780, \"max\": 780, \"sum\": 780, \"var\": 0.0, \"mean\": 780.0}], [44.0, {\"count\": 3, \"std\": 136.83810385512754, \"min\": 195, \"max\": 524, \"sum\": 1134, \"var\": 18724.666666666668, \"mean\": 378.0}], [45.0, {\"count\": 5, \"std\": 243.65516616727012, \"min\": 188, \"max\": 857, \"sum\": 2532, \"var\": 59367.84000000001, \"mean\": 506.4}], [47.0, {\"count\": 1, \"std\": 0.0, \"min\": 872, \"max\": 872, \"sum\": 872, \"var\": 0.0, \"mean\": 872.0}], [48.0, {\"count\": 6, \"std\": 131.17725497288862, \"min\": 461, \"max\": 863, \"sum\": 3995, \"var\": 17207.47222222223, \"mean\": 665.8333333333333}], [49.0, {\"count\": 4, \"std\": 272.8690161964161, \"min\": 53, \"max\": 797, \"sum\": 1904, \"var\": 74457.5, \"mean\": 476.0}], [50.0, {\"count\": 5, \"std\": 147.48640615324518, \"min\": 260, \"max\": 661, \"sum\": 2207, \"var\": 21752.239999999998, \"mean\": 441.4}], [51.0, {\"count\": 2, \"std\": 46.0, \"min\": 766, \"max\": 858, \"sum\": 1624, \"var\": 2116.0, \"mean\": 812.0}], [52.0, {\"count\": 3, \"std\": 152.8419663137931, \"min\": 450, \"max\": 821, \"sum\": 1863, \"var\": 23360.666666666668, \"mean\": 621.0}], [53.0, {\"count\": 1, \"std\": 0.0, \"min\": 572, \"max\": 572, \"sum\": 572, \"var\": 0.0, \"mean\": 572.0}], [54.0, {\"count\": 3, \"std\": 127.23294472039157, \"min\": 497, \"max\": 775, \"sum\": 1786, \"var\": 16188.222222222219, \"mean\": 595.3333333333334}], [55.0, {\"count\": 1, \"std\": 0.0, \"min\": 16, \"max\": 16, \"sum\": 16, \"var\": 0.0, \"mean\": 16.0}], [56.0, {\"count\": 2, \"std\": 116.0, \"min\": 648, \"max\": 880, \"sum\": 1528, \"var\": 13456.0, \"mean\": 764.0}], [58.0, {\"count\": 3, \"std\": 108.13263460522298, \"min\": 12, \"max\": 269, \"sum\": 477, \"var\": 11692.666666666666, \"mean\": 159.0}], [60.0, {\"count\": 2, \"std\": 110.5, \"min\": 367, \"max\": 588, \"sum\": 955, \"var\": 12210.25, \"mean\": 477.5}], [62.0, {\"count\": 2, \"std\": 129.5, \"min\": 571, \"max\": 830, \"sum\": 1401, \"var\": 16770.25, \"mean\": 700.5}], [63.0, {\"count\": 2, \"std\": 104.0, \"min\": 276, \"max\": 484, \"sum\": 760, \"var\": 10816.0, \"mean\": 380.0}], [80.0, {\"count\": 1, \"std\": 0.0, \"min\": 631, \"max\": 631, \"sum\": 631, \"var\": 0.0, \"mean\": 631.0}]], \"omitted\": 0}, \"columns\": [{\"dtype\": \"int\", \"name\": \"PassengerId\"}, {\"dtype\": \"int\", \"name\": \"Survived\"}, {\"dtype\": \"int\", \"name\": \"Pclass\"}, {\"dtype\": \"str\", \"name\": \"Name\"}, {\"dtype\": \"str\", \"name\": \"Sex\"}, {\"dtype\": \"float\", \"name\": \"Age\"}, {\"dtype\": \"int\", \"name\": \"SibSp\"}, {\"dtype\": \"int\", \"name\": \"Parch\"}, {\"dtype\": \"str\", \"name\": \"Ticket\"}, {\"dtype\": \"float\", \"name\": \"Fare\"}, {\"dtype\": \"str\", \"name\": \"Cabin\"}, {\"dtype\": \"str\", \"name\": \"Embarked\"}]}, e);\n",
       "                });\n",
       "            })();\n",
       "        "
      ]
     },
     "metadata": {},
     "output_type": "display_data"
    },
    {
     "data": {
      "application/javascript": [
       "$(\"head\").append($(\"<link/>\").attr({\n",
       "  rel:  \"stylesheet\",\n",
       "  type: \"text/css\",\n",
       "  href: \"//cdnjs.cloudflare.com/ajax/libs/font-awesome/4.1.0/css/font-awesome.min.css\"\n",
       "}));\n",
       "$(\"head\").append($(\"<link/>\").attr({\n",
       "  rel:  \"stylesheet\",\n",
       "  type: \"text/css\",\n",
       "  href: \"https://static.turi.com/products/graphlab-create/2.1/canvas/css/canvas.css\"\n",
       "}));\n",
       "\n",
       "            (function(){\n",
       "\n",
       "                var e = null;\n",
       "                if (typeof element == 'undefined') {\n",
       "                    var scripts = document.getElementsByTagName('script');\n",
       "                    var thisScriptTag = scripts[scripts.length-1];\n",
       "                    var parentDiv = thisScriptTag.parentNode;\n",
       "                    e = document.createElement('div');\n",
       "                    parentDiv.appendChild(e);\n",
       "                } else {\n",
       "                    e = element[0];\n",
       "                }\n",
       "\n",
       "                if (typeof requirejs !== 'undefined') {\n",
       "                    // disable load timeout; ipython_app.js is large and can take a while to load.\n",
       "                    requirejs.config({waitSeconds: 0});\n",
       "                }\n",
       "\n",
       "                require(['https://static.turi.com/products/graphlab-create/2.1/canvas/js/ipython_app.js'], function(IPythonApp){\n",
       "                    var app = new IPythonApp();\n",
       "                    app.attachView('sframe','Plots', {\"selected_variable\": {\"name\": [\"<SFrame>\"], \"descriptives\": {\"rows\": 342, \"columns\": 12}, \"view_component\": \"Plots\", \"view_file\": \"sframe\", \"view_params\": {\"y\": \"PassengerId\", \"x\": \"SibSp\", \"columns\": [\"PassengerId\", \"Survived\", \"Pclass\", \"Name\", \"Sex\", \"Age\", \"SibSp\", \"Parch\", \"Ticket\", \"Fare\", \"Cabin\", \"Embarked\"], \"view\": \"Bar Chart\"}, \"view_components\": [\"Summary\", \"Table\", \"Bar Chart\", \"BoxWhisker Plot\", \"Line Chart\", \"Scatter Plot\", \"Heat Map\", \"Plots\"], \"type\": \"SFrame\", \"columns\": [{\"dtype\": \"int\", \"name\": \"PassengerId\"}, {\"dtype\": \"int\", \"name\": \"Survived\"}, {\"dtype\": \"int\", \"name\": \"Pclass\"}, {\"dtype\": \"str\", \"name\": \"Name\"}, {\"dtype\": \"str\", \"name\": \"Sex\"}, {\"dtype\": \"float\", \"name\": \"Age\"}, {\"dtype\": \"int\", \"name\": \"SibSp\"}, {\"dtype\": \"int\", \"name\": \"Parch\"}, {\"dtype\": \"str\", \"name\": \"Ticket\"}, {\"dtype\": \"float\", \"name\": \"Fare\"}, {\"dtype\": \"str\", \"name\": \"Cabin\"}, {\"dtype\": \"str\", \"name\": \"Embarked\"}], \"column_identifiers\": [\"Fare\", \"Name\", \"Embarked\", \"Age\", \"Parch\", \"Pclass\", \"Sex\", \"Survived\", \"SibSp\", \"PassengerId\", \"Ticket\", \"Cabin\"]}, \"complete\": 1, \"ipython\": true, \"progress\": 1.0, \"data\": {\"grouped\": [[0, {\"count\": 210, \"std\": 254.54715492739774, \"min\": 3, \"max\": 890, \"sum\": 92565, \"var\": 64794.25408163262, \"mean\": 440.7857142857142}], [1, {\"count\": 112, \"std\": 252.78054211370983, \"min\": 2, \"max\": 875, \"sum\": 51273, \"var\": 63898.00247130102, \"mean\": 457.79464285714283}], [2, {\"count\": 13, \"std\": 162.5633058299654, \"min\": 184, \"max\": 743, \"sum\": 6327, \"var\": 26426.828402366864, \"mean\": 486.6923076923077}], [3, {\"count\": 4, \"std\": 261.6897017461712, \"min\": 86, \"max\": 727, \"sum\": 1244, \"var\": 68481.50000000001, \"mean\": 311.0}], [4, {\"count\": 3, \"std\": 85.1521514049345, \"min\": 69, \"max\": 262, \"sum\": 565, \"var\": 7250.888888888888, \"mean\": 188.33333333333334}]], \"omitted\": 0}, \"columns\": [{\"dtype\": \"int\", \"name\": \"PassengerId\"}, {\"dtype\": \"int\", \"name\": \"Survived\"}, {\"dtype\": \"int\", \"name\": \"Pclass\"}, {\"dtype\": \"str\", \"name\": \"Name\"}, {\"dtype\": \"str\", \"name\": \"Sex\"}, {\"dtype\": \"float\", \"name\": \"Age\"}, {\"dtype\": \"int\", \"name\": \"SibSp\"}, {\"dtype\": \"int\", \"name\": \"Parch\"}, {\"dtype\": \"str\", \"name\": \"Ticket\"}, {\"dtype\": \"float\", \"name\": \"Fare\"}, {\"dtype\": \"str\", \"name\": \"Cabin\"}, {\"dtype\": \"str\", \"name\": \"Embarked\"}]}, e);\n",
       "                });\n",
       "            })();\n",
       "        "
      ]
     },
     "metadata": {},
     "output_type": "display_data"
    },
    {
     "data": {
      "application/javascript": [
       "$(\"head\").append($(\"<link/>\").attr({\n",
       "  rel:  \"stylesheet\",\n",
       "  type: \"text/css\",\n",
       "  href: \"//cdnjs.cloudflare.com/ajax/libs/font-awesome/4.1.0/css/font-awesome.min.css\"\n",
       "}));\n",
       "$(\"head\").append($(\"<link/>\").attr({\n",
       "  rel:  \"stylesheet\",\n",
       "  type: \"text/css\",\n",
       "  href: \"https://static.turi.com/products/graphlab-create/2.1/canvas/css/canvas.css\"\n",
       "}));\n",
       "\n",
       "            (function(){\n",
       "\n",
       "                var e = null;\n",
       "                if (typeof element == 'undefined') {\n",
       "                    var scripts = document.getElementsByTagName('script');\n",
       "                    var thisScriptTag = scripts[scripts.length-1];\n",
       "                    var parentDiv = thisScriptTag.parentNode;\n",
       "                    e = document.createElement('div');\n",
       "                    parentDiv.appendChild(e);\n",
       "                } else {\n",
       "                    e = element[0];\n",
       "                }\n",
       "\n",
       "                if (typeof requirejs !== 'undefined') {\n",
       "                    // disable load timeout; ipython_app.js is large and can take a while to load.\n",
       "                    requirejs.config({waitSeconds: 0});\n",
       "                }\n",
       "\n",
       "                require(['https://static.turi.com/products/graphlab-create/2.1/canvas/js/ipython_app.js'], function(IPythonApp){\n",
       "                    var app = new IPythonApp();\n",
       "                    app.attachView('sframe','Plots', {\"selected_variable\": {\"name\": [\"<SFrame>\"], \"descriptives\": {\"rows\": 342, \"columns\": 12}, \"view_component\": \"Plots\", \"view_file\": \"sframe\", \"view_params\": {\"y\": \"PassengerId\", \"x\": \"Parch\", \"columns\": [\"PassengerId\", \"Survived\", \"Pclass\", \"Name\", \"Sex\", \"Age\", \"SibSp\", \"Parch\", \"Ticket\", \"Fare\", \"Cabin\", \"Embarked\"], \"view\": \"Bar Chart\"}, \"view_components\": [\"Summary\", \"Table\", \"Bar Chart\", \"BoxWhisker Plot\", \"Line Chart\", \"Scatter Plot\", \"Heat Map\", \"Plots\"], \"type\": \"SFrame\", \"columns\": [{\"dtype\": \"int\", \"name\": \"PassengerId\"}, {\"dtype\": \"int\", \"name\": \"Survived\"}, {\"dtype\": \"int\", \"name\": \"Pclass\"}, {\"dtype\": \"str\", \"name\": \"Name\"}, {\"dtype\": \"str\", \"name\": \"Sex\"}, {\"dtype\": \"float\", \"name\": \"Age\"}, {\"dtype\": \"int\", \"name\": \"SibSp\"}, {\"dtype\": \"int\", \"name\": \"Parch\"}, {\"dtype\": \"str\", \"name\": \"Ticket\"}, {\"dtype\": \"float\", \"name\": \"Fare\"}, {\"dtype\": \"str\", \"name\": \"Cabin\"}, {\"dtype\": \"str\", \"name\": \"Embarked\"}], \"column_identifiers\": [\"Fare\", \"Name\", \"Embarked\", \"Age\", \"Parch\", \"Pclass\", \"Sex\", \"Survived\", \"SibSp\", \"PassengerId\", \"Ticket\", \"Cabin\"]}, \"complete\": 1, \"ipython\": true, \"progress\": 1.0, \"data\": {\"grouped\": [[0, {\"count\": 233, \"std\": 250.5684300882715, \"min\": 2, \"max\": 890, \"sum\": 99928, \"var\": 62784.538156901006, \"mean\": 428.8755364806866}], [1, {\"count\": 65, \"std\": 246.99057021503458, \"min\": 11, \"max\": 881, \"sum\": 33951, \"var\": 61004.34177514793, \"mean\": 522.3230769230769}], [2, {\"count\": 40, \"std\": 231.09818124554766, \"min\": 9, \"max\": 828, \"sum\": 15997, \"var\": 53406.369374999995, \"mean\": 399.925}], [3, {\"count\": 3, \"std\": 181.9236714180489, \"min\": 438, \"max\": 859, \"sum\": 2072, \"var\": 33096.222222222226, \"mean\": 690.6666666666666}], [5, {\"count\": 1, \"std\": 0.0, \"min\": 26, \"max\": 26, \"sum\": 26, \"var\": 0.0, \"mean\": 26.0}]], \"omitted\": 0}, \"columns\": [{\"dtype\": \"int\", \"name\": \"PassengerId\"}, {\"dtype\": \"int\", \"name\": \"Survived\"}, {\"dtype\": \"int\", \"name\": \"Pclass\"}, {\"dtype\": \"str\", \"name\": \"Name\"}, {\"dtype\": \"str\", \"name\": \"Sex\"}, {\"dtype\": \"float\", \"name\": \"Age\"}, {\"dtype\": \"int\", \"name\": \"SibSp\"}, {\"dtype\": \"int\", \"name\": \"Parch\"}, {\"dtype\": \"str\", \"name\": \"Ticket\"}, {\"dtype\": \"float\", \"name\": \"Fare\"}, {\"dtype\": \"str\", \"name\": \"Cabin\"}, {\"dtype\": \"str\", \"name\": \"Embarked\"}]}, e);\n",
       "                });\n",
       "            })();\n",
       "        "
      ]
     },
     "metadata": {},
     "output_type": "display_data"
    },
    {
     "data": {
      "application/javascript": [
       "$(\"head\").append($(\"<link/>\").attr({\n",
       "  rel:  \"stylesheet\",\n",
       "  type: \"text/css\",\n",
       "  href: \"//cdnjs.cloudflare.com/ajax/libs/font-awesome/4.1.0/css/font-awesome.min.css\"\n",
       "}));\n",
       "$(\"head\").append($(\"<link/>\").attr({\n",
       "  rel:  \"stylesheet\",\n",
       "  type: \"text/css\",\n",
       "  href: \"https://static.turi.com/products/graphlab-create/2.1/canvas/css/canvas.css\"\n",
       "}));\n",
       "\n",
       "            (function(){\n",
       "\n",
       "                var e = null;\n",
       "                if (typeof element == 'undefined') {\n",
       "                    var scripts = document.getElementsByTagName('script');\n",
       "                    var thisScriptTag = scripts[scripts.length-1];\n",
       "                    var parentDiv = thisScriptTag.parentNode;\n",
       "                    e = document.createElement('div');\n",
       "                    parentDiv.appendChild(e);\n",
       "                } else {\n",
       "                    e = element[0];\n",
       "                }\n",
       "\n",
       "                if (typeof requirejs !== 'undefined') {\n",
       "                    // disable load timeout; ipython_app.js is large and can take a while to load.\n",
       "                    requirejs.config({waitSeconds: 0});\n",
       "                }\n",
       "\n",
       "                require(['https://static.turi.com/products/graphlab-create/2.1/canvas/js/ipython_app.js'], function(IPythonApp){\n",
       "                    var app = new IPythonApp();\n",
       "                    app.attachView('sframe','Plots', {\"selected_variable\": {\"name\": [\"<SFrame>\"], \"descriptives\": {\"rows\": 342, \"columns\": 12}, \"view_component\": \"Plots\", \"view_file\": \"sframe\", \"view_params\": {\"y\": \"PassengerId\", \"x\": \"Ticket\", \"columns\": [\"PassengerId\", \"Survived\", \"Pclass\", \"Name\", \"Sex\", \"Age\", \"SibSp\", \"Parch\", \"Ticket\", \"Fare\", \"Cabin\", \"Embarked\"], \"view\": \"Bar Chart\"}, \"view_components\": [\"Summary\", \"Table\", \"Bar Chart\", \"BoxWhisker Plot\", \"Line Chart\", \"Scatter Plot\", \"Heat Map\", \"Plots\"], \"type\": \"SFrame\", \"columns\": [{\"dtype\": \"int\", \"name\": \"PassengerId\"}, {\"dtype\": \"int\", \"name\": \"Survived\"}, {\"dtype\": \"int\", \"name\": \"Pclass\"}, {\"dtype\": \"str\", \"name\": \"Name\"}, {\"dtype\": \"str\", \"name\": \"Sex\"}, {\"dtype\": \"float\", \"name\": \"Age\"}, {\"dtype\": \"int\", \"name\": \"SibSp\"}, {\"dtype\": \"int\", \"name\": \"Parch\"}, {\"dtype\": \"str\", \"name\": \"Ticket\"}, {\"dtype\": \"float\", \"name\": \"Fare\"}, {\"dtype\": \"str\", \"name\": \"Cabin\"}, {\"dtype\": \"str\", \"name\": \"Embarked\"}], \"column_identifiers\": [\"Fare\", \"Name\", \"Embarked\", \"Age\", \"Parch\", \"Pclass\", \"Sex\", \"Survived\", \"SibSp\", \"PassengerId\", \"Ticket\", \"Cabin\"]}, \"complete\": 1, \"ipython\": true, \"progress\": 1.0, \"data\": {\"grouped\": [[\"110152\", {\"count\": 3, \"std\": 204.9493162277499, \"min\": 258, \"max\": 760, \"sum\": 1523, \"var\": 42004.222222222226, \"mean\": 507.6666666666667}], [\"110413\", {\"count\": 2, \"std\": 13.5, \"min\": 559, \"max\": 586, \"sum\": 1145, \"var\": 182.25, \"mean\": 572.5}], [\"110564\", {\"count\": 1, \"std\": 0.0, \"min\": 431, \"max\": 431, \"sum\": 431, \"var\": 0.0, \"mean\": 431.0}], [\"110813\", {\"count\": 1, \"std\": 0.0, \"min\": 367, \"max\": 367, \"sum\": 367, \"var\": 0.0, \"mean\": 367.0}], [\"111361\", {\"count\": 2, \"std\": 97.0, \"min\": 330, \"max\": 524, \"sum\": 854, \"var\": 9409.0, \"mean\": 427.0}], [\"111369\", {\"count\": 1, \"std\": 0.0, \"min\": 890, \"max\": 890, \"sum\": 890, \"var\": 0.0, \"mean\": 890.0}], [\"111426\", {\"count\": 1, \"std\": 0.0, \"min\": 605, \"max\": 605, \"sum\": 605, \"var\": 0.0, \"mean\": 605.0}], [\"111427\", {\"count\": 1, \"std\": 0.0, \"min\": 508, \"max\": 508, \"sum\": 508, \"var\": 0.0, \"mean\": 508.0}], [\"111428\", {\"count\": 1, \"std\": 0.0, \"min\": 188, \"max\": 188, \"sum\": 188, \"var\": 0.0, \"mean\": 188.0}], [\"112053\", {\"count\": 1, \"std\": 0.0, \"min\": 888, \"max\": 888, \"sum\": 888, \"var\": 0.0, \"mean\": 888.0}], [\"112277\", {\"count\": 1, \"std\": 0.0, \"min\": 210, \"max\": 210, \"sum\": 210, \"var\": 0.0, \"mean\": 210.0}], [\"113055\", {\"count\": 1, \"std\": 0.0, \"min\": 858, \"max\": 858, \"sum\": 858, \"var\": 0.0, \"mean\": 858.0}], [\"113505\", {\"count\": 2, \"std\": 95.0, \"min\": 167, \"max\": 357, \"sum\": 524, \"var\": 9025.0, \"mean\": 262.0}], [\"113572\", {\"count\": 2, \"std\": 384.0, \"min\": 62, \"max\": 830, \"sum\": 892, \"var\": 147456.0, \"mean\": 446.0}], [\"113760\", {\"count\": 4, \"std\": 186.19411913376857, \"min\": 391, \"max\": 803, \"sum\": 2394, \"var\": 34668.25, \"mean\": 598.5}], [\"113776\", {\"count\": 1, \"std\": 0.0, \"min\": 152, \"max\": 152, \"sum\": 152, \"var\": 0.0, \"mean\": 152.0}], [\"113781\", {\"count\": 2, \"std\": 201.5, \"min\": 306, \"max\": 709, \"sum\": 1015, \"var\": 40602.25, \"mean\": 507.5}], [\"113783\", {\"count\": 1, \"std\": 0.0, \"min\": 12, \"max\": 12, \"sum\": 12, \"var\": 0.0, \"mean\": 12.0}], [\"113786\", {\"count\": 1, \"std\": 0.0, \"min\": 450, \"max\": 450, \"sum\": 450, \"var\": 0.0, \"mean\": 450.0}], [\"113788\", {\"count\": 1, \"std\": 0.0, \"min\": 24, \"max\": 24, \"sum\": 24, \"var\": 0.0, \"mean\": 24.0}], [\"113789\", {\"count\": 1, \"std\": 0.0, \"min\": 384, \"max\": 384, \"sum\": 384, \"var\": 0.0, \"mean\": 384.0}], [\"113794\", {\"count\": 1, \"std\": 0.0, \"min\": 448, \"max\": 448, \"sum\": 448, \"var\": 0.0, \"mean\": 448.0}], [\"113798\", {\"count\": 1, \"std\": 0.0, \"min\": 843, \"max\": 843, \"sum\": 843, \"var\": 0.0, \"mean\": 843.0}], [\"113803\", {\"count\": 1, \"std\": 0.0, \"min\": 4, \"max\": 4, \"sum\": 4, \"var\": 0.0, \"mean\": 4.0}], [\"113804\", {\"count\": 1, \"std\": 0.0, \"min\": 608, \"max\": 608, \"sum\": 608, \"var\": 0.0, \"mean\": 608.0}], [\"113806\", {\"count\": 2, \"std\": 42.5, \"min\": 725, \"max\": 810, \"sum\": 1535, \"var\": 1806.25, \"mean\": 767.5}], [\"11751\", {\"count\": 2, \"std\": 311.5, \"min\": 249, \"max\": 872, \"sum\": 1121, \"var\": 97032.25, \"mean\": 560.5}], [\"11752\", {\"count\": 1, \"std\": 0.0, \"min\": 137, \"max\": 137, \"sum\": 137, \"var\": 0.0, \"mean\": 137.0}], [\"11753\", {\"count\": 1, \"std\": 0.0, \"min\": 622, \"max\": 622, \"sum\": 622, \"var\": 0.0, \"mean\": 622.0}], [\"11755\", {\"count\": 1, \"std\": 0.0, \"min\": 557, \"max\": 557, \"sum\": 557, \"var\": 0.0, \"mean\": 557.0}], [\"11765\", {\"count\": 1, \"std\": 0.0, \"min\": 371, \"max\": 371, \"sum\": 371, \"var\": 0.0, \"mean\": 371.0}], [\"11767\", {\"count\": 2, \"std\": 284.5, \"min\": 311, \"max\": 880, \"sum\": 1191, \"var\": 80940.25, \"mean\": 595.5}], [\"11769\", {\"count\": 1, \"std\": 0.0, \"min\": 572, \"max\": 572, \"sum\": 572, \"var\": 0.0, \"mean\": 572.0}], [\"11774\", {\"count\": 1, \"std\": 0.0, \"min\": 840, \"max\": 840, \"sum\": 840, \"var\": 0.0, \"mean\": 840.0}], [\"11813\", {\"count\": 1, \"std\": 0.0, \"min\": 219, \"max\": 219, \"sum\": 219, \"var\": 0.0, \"mean\": 219.0}], [\"11967\", {\"count\": 2, \"std\": 96.5, \"min\": 292, \"max\": 485, \"sum\": 777, \"var\": 9312.25, \"mean\": 388.5}], [\"12749\", {\"count\": 2, \"std\": 150.0, \"min\": 521, \"max\": 821, \"sum\": 1342, \"var\": 22500.0, \"mean\": 671.0}], [\"13213\", {\"count\": 1, \"std\": 0.0, \"min\": 648, \"max\": 648, \"sum\": 648, \"var\": 0.0, \"mean\": 648.0}], [\"13214\", {\"count\": 1, \"std\": 0.0, \"min\": 633, \"max\": 633, \"sum\": 633, \"var\": 0.0, \"mean\": 633.0}], [\"13502\", {\"count\": 3, \"std\": 206.30290567243324, \"min\": 276, \"max\": 766, \"sum\": 1670, \"var\": 42560.88888888889, \"mean\": 556.6666666666666}], [\"13507\", {\"count\": 1, \"std\": 0.0, \"min\": 578, \"max\": 578, \"sum\": 578, \"var\": 0.0, \"mean\": 578.0}], [\"13567\", {\"count\": 1, \"std\": 0.0, \"min\": 588, \"max\": 588, \"sum\": 588, \"var\": 0.0, \"mean\": 588.0}], [\"13568\", {\"count\": 1, \"std\": 0.0, \"min\": 540, \"max\": 540, \"sum\": 540, \"var\": 0.0, \"mean\": 540.0}], [\"14311\", {\"count\": 1, \"std\": 0.0, \"min\": 48, \"max\": 48, \"sum\": 48, \"var\": 0.0, \"mean\": 48.0}], [\"14312\", {\"count\": 1, \"std\": 0.0, \"min\": 574, \"max\": 574, \"sum\": 574, \"var\": 0.0, \"mean\": 574.0}], [\"14313\", {\"count\": 1, \"std\": 0.0, \"min\": 369, \"max\": 369, \"sum\": 369, \"var\": 0.0, \"mean\": 369.0}], [\"1601\", {\"count\": 5, \"std\": 260.77070387602976, \"min\": 75, \"max\": 839, \"sum\": 2761, \"var\": 68001.36, \"mean\": 552.2}], [\"16966\", {\"count\": 2, \"std\": 9.0, \"min\": 320, \"max\": 338, \"sum\": 658, \"var\": 81.0, \"mean\": 329.0}], [\"16988\", {\"count\": 1, \"std\": 0.0, \"min\": 741, \"max\": 741, \"sum\": 741, \"var\": 0.0, \"mean\": 741.0}], [\"17421\", {\"count\": 3, \"std\": 122.98238356230809, \"min\": 307, \"max\": 582, \"sum\": 1440, \"var\": 15124.666666666666, \"mean\": 480.0}], [\"17453\", {\"count\": 2, \"std\": 198.0, \"min\": 454, \"max\": 850, \"sum\": 1304, \"var\": 39204.0, \"mean\": 652.0}], [\"17464\", {\"count\": 1, \"std\": 0.0, \"min\": 458, \"max\": 458, \"sum\": 458, \"var\": 0.0, \"mean\": 458.0}], [\"17465\", {\"count\": 1, \"std\": 0.0, \"min\": 797, \"max\": 797, \"sum\": 797, \"var\": 0.0, \"mean\": 797.0}], [\"17466\", {\"count\": 1, \"std\": 0.0, \"min\": 863, \"max\": 863, \"sum\": 863, \"var\": 0.0, \"mean\": 863.0}], [\"17474\", {\"count\": 2, \"std\": 45.5, \"min\": 691, \"max\": 782, \"sum\": 1473, \"var\": 2070.25, \"mean\": 736.5}], [\"19877\", {\"count\": 1, \"std\": 0.0, \"min\": 291, \"max\": 291, \"sum\": 291, \"var\": 0.0, \"mean\": 291.0}], [\"19928\", {\"count\": 1, \"std\": 0.0, \"min\": 413, \"max\": 413, \"sum\": 413, \"var\": 0.0, \"mean\": 413.0}], [\"19943\", {\"count\": 2, \"std\": 131.0, \"min\": 225, \"max\": 487, \"sum\": 712, \"var\": 17161.0, \"mean\": 356.0}], [\"19947\", {\"count\": 1, \"std\": 0.0, \"min\": 56, \"max\": 56, \"sum\": 56, \"var\": 0.0, \"mean\": 56.0}], [\"19950\", {\"count\": 2, \"std\": 126.5, \"min\": 89, \"max\": 342, \"sum\": 431, \"var\": 16002.25, \"mean\": 215.5}], [\"19952\", {\"count\": 1, \"std\": 0.0, \"min\": 461, \"max\": 461, \"sum\": 461, \"var\": 0.0, \"mean\": 461.0}], [\"19988\", {\"count\": 1, \"std\": 0.0, \"min\": 299, \"max\": 299, \"sum\": 299, \"var\": 0.0, \"mean\": 299.0}], [\"19996\", {\"count\": 2, \"std\": 21.5, \"min\": 670, \"max\": 713, \"sum\": 1383, \"var\": 462.25, \"mean\": 691.5}], [\"2003\", {\"count\": 1, \"std\": 0.0, \"min\": 427, \"max\": 427, \"sum\": 427, \"var\": 0.0, \"mean\": 427.0}], [\"220845\", {\"count\": 2, \"std\": 69.5, \"min\": 616, \"max\": 755, \"sum\": 1371, \"var\": 4830.25, \"mean\": 685.5}], [\"223596\", {\"count\": 1, \"std\": 0.0, \"min\": 707, \"max\": 707, \"sum\": 707, \"var\": 0.0, \"mean\": 707.0}], [\"226593\", {\"count\": 1, \"std\": 0.0, \"min\": 304, \"max\": 304, \"sum\": 304, \"var\": 0.0, \"mean\": 304.0}], [\"226875\", {\"count\": 1, \"std\": 0.0, \"min\": 519, \"max\": 519, \"sum\": 519, \"var\": 0.0, \"mean\": 519.0}], [\"228414\", {\"count\": 1, \"std\": 0.0, \"min\": 134, \"max\": 134, \"sum\": 134, \"var\": 0.0, \"mean\": 134.0}], [\"230080\", {\"count\": 2, \"std\": 73.5, \"min\": 194, \"max\": 341, \"sum\": 535, \"var\": 5402.25, \"mean\": 267.5}], [\"230136\", {\"count\": 2, \"std\": 217.5, \"min\": 184, \"max\": 619, \"sum\": 803, \"var\": 47306.25, \"mean\": 401.5}], [\"230433\", {\"count\": 2, \"std\": 310.5, \"min\": 260, \"max\": 881, \"sum\": 1141, \"var\": 96410.25, \"mean\": 570.5}], [\"230434\", {\"count\": 1, \"std\": 0.0, \"min\": 444, \"max\": 444, \"sum\": 444, \"var\": 0.0, \"mean\": 444.0}], [\"231919\", {\"count\": 2, \"std\": 276.5, \"min\": 99, \"max\": 652, \"sum\": 751, \"var\": 76452.25, \"mean\": 375.5}], [\"234604\", {\"count\": 1, \"std\": 0.0, \"min\": 191, \"max\": 191, \"sum\": 191, \"var\": 0.0, \"mean\": 191.0}], [\"234818\", {\"count\": 1, \"std\": 0.0, \"min\": 323, \"max\": 323, \"sum\": 323, \"var\": 0.0, \"mean\": 323.0}], [\"236852\", {\"count\": 1, \"std\": 0.0, \"min\": 866, \"max\": 866, \"sum\": 866, \"var\": 0.0, \"mean\": 866.0}], [\"237668\", {\"count\": 1, \"std\": 0.0, \"min\": 636, \"max\": 636, \"sum\": 636, \"var\": 0.0, \"mean\": 636.0}], [\"237736\", {\"count\": 1, \"std\": 0.0, \"min\": 10, \"max\": 10, \"sum\": 10, \"var\": 0.0, \"mean\": 10.0}], [\"237789\", {\"count\": 1, \"std\": 0.0, \"min\": 581, \"max\": 581, \"sum\": 581, \"var\": 0.0, \"mean\": 581.0}], [\"237798\", {\"count\": 1, \"std\": 0.0, \"min\": 289, \"max\": 289, \"sum\": 289, \"var\": 0.0, \"mean\": 289.0}], [\"240929\", {\"count\": 1, \"std\": 0.0, \"min\": 400, \"max\": 400, \"sum\": 400, \"var\": 0.0, \"mean\": 400.0}], [\"24160\", {\"count\": 3, \"std\": 36.79069930778098, \"min\": 690, \"max\": 780, \"sum\": 2201, \"var\": 1353.5555555555563, \"mean\": 733.6666666666666}], [\"243847\", {\"count\": 1, \"std\": 0.0, \"min\": 601, \"max\": 601, \"sum\": 601, \"var\": 0.0, \"mean\": 601.0}], [\"243880\", {\"count\": 1, \"std\": 0.0, \"min\": 577, \"max\": 577, \"sum\": 577, \"var\": 0.0, \"mean\": 577.0}], [\"244270\", {\"count\": 1, \"std\": 0.0, \"min\": 674, \"max\": 674, \"sum\": 674, \"var\": 0.0, \"mean\": 674.0}], [\"244367\", {\"count\": 1, \"std\": 0.0, \"min\": 317, \"max\": 317, \"sum\": 317, \"var\": 0.0, \"mean\": 317.0}], [\"244373\", {\"count\": 1, \"std\": 0.0, \"min\": 18, \"max\": 18, \"sum\": 18, \"var\": 0.0, \"mean\": 18.0}], [\"248698\", {\"count\": 1, \"std\": 0.0, \"min\": 22, \"max\": 22, \"sum\": 22, \"var\": 0.0, \"mean\": 22.0}], [\"248706\", {\"count\": 1, \"std\": 0.0, \"min\": 16, \"max\": 16, \"sum\": 16, \"var\": 0.0, \"mean\": 16.0}], [\"248727\", {\"count\": 2, \"std\": 62.0, \"min\": 597, \"max\": 721, \"sum\": 1318, \"var\": 3844.0, \"mean\": 659.0}], [\"248733\", {\"count\": 1, \"std\": 0.0, \"min\": 346, \"max\": 346, \"sum\": 346, \"var\": 0.0, \"mean\": 346.0}], [\"248738\", {\"count\": 2, \"std\": 122.5, \"min\": 79, \"max\": 324, \"sum\": 403, \"var\": 15006.25, \"mean\": 201.5}], [\"250644\", {\"count\": 2, \"std\": 87.0, \"min\": 273, \"max\": 447, \"sum\": 720, \"var\": 7569.0, \"mean\": 360.0}], [\"250648\", {\"count\": 1, \"std\": 0.0, \"min\": 748, \"max\": 748, \"sum\": 748, \"var\": 0.0, \"mean\": 748.0}], [\"250649\", {\"count\": 2, \"std\": 254.0, \"min\": 248, \"max\": 756, \"sum\": 1004, \"var\": 64516.0, \"mean\": 502.0}], [\"250652\", {\"count\": 1, \"std\": 0.0, \"min\": 418, \"max\": 418, \"sum\": 418, \"var\": 0.0, \"mean\": 418.0}], [\"250655\", {\"count\": 1, \"std\": 0.0, \"min\": 428, \"max\": 428, \"sum\": 428, \"var\": 0.0, \"mean\": 428.0}], [\"2620\", {\"count\": 1, \"std\": 0.0, \"min\": 554, \"max\": 554, \"sum\": 554, \"var\": 0.0, \"mean\": 554.0}], [\"2625\", {\"count\": 1, \"std\": 0.0, \"min\": 804, \"max\": 804, \"sum\": 804, \"var\": 0.0, \"mean\": 804.0}], [\"2626\", {\"count\": 1, \"std\": 0.0, \"min\": 368, \"max\": 368, \"sum\": 368, \"var\": 0.0, \"mean\": 368.0}], [\"26360\", {\"count\": 2, \"std\": 12.0, \"min\": 507, \"max\": 531, \"sum\": 1038, \"var\": 144.0, \"mean\": 519.0}], [\"2649\", {\"count\": 1, \"std\": 0.0, \"min\": 20, \"max\": 20, \"sum\": 20, \"var\": 0.0, \"mean\": 20.0}], [\"2650\", {\"count\": 1, \"std\": 0.0, \"min\": 256, \"max\": 256, \"sum\": 256, \"var\": 0.0, \"mean\": 256.0}], [\"2651\", {\"count\": 2, \"std\": 43.0, \"min\": 40, \"max\": 126, \"sum\": 166, \"var\": 1849.0, \"mean\": 83.0}], [\"2653\", {\"count\": 2, \"std\": 120.5, \"min\": 382, \"max\": 623, \"sum\": 1005, \"var\": 14520.25, \"mean\": 502.5}], [\"2659\", {\"count\": 1, \"std\": 0.0, \"min\": 831, \"max\": 831, \"sum\": 831, \"var\": 0.0, \"mean\": 831.0}], [\"2661\", {\"count\": 2, \"std\": 322.0, \"min\": 66, \"max\": 710, \"sum\": 776, \"var\": 103684.0, \"mean\": 388.0}], [\"2663\", {\"count\": 1, \"std\": 0.0, \"min\": 763, \"max\": 763, \"sum\": 763, \"var\": 0.0, \"mean\": 763.0}], [\"2666\", {\"count\": 4, \"std\": 164.8292677287623, \"min\": 449, \"max\": 859, \"sum\": 2423, \"var\": 27168.687499999996, \"mean\": 605.75}], [\"2667\", {\"count\": 1, \"std\": 0.0, \"min\": 876, \"max\": 876, \"sum\": 876, \"var\": 0.0, \"mean\": 876.0}], [\"2668\", {\"count\": 2, \"std\": 202.5, \"min\": 129, \"max\": 534, \"sum\": 663, \"var\": 41006.25, \"mean\": 331.5}], [\"2677\", {\"count\": 1, \"std\": 0.0, \"min\": 37, \"max\": 37, \"sum\": 37, \"var\": 0.0, \"mean\": 37.0}], [\"2687\", {\"count\": 1, \"std\": 0.0, \"min\": 781, \"max\": 781, \"sum\": 781, \"var\": 0.0, \"mean\": 781.0}], [\"2699\", {\"count\": 1, \"std\": 0.0, \"min\": 208, \"max\": 208, \"sum\": 208, \"var\": 0.0, \"mean\": 208.0}], [\"27042\", {\"count\": 1, \"std\": 0.0, \"min\": 631, \"max\": 631, \"sum\": 631, \"var\": 0.0, \"mean\": 631.0}], [\"27267\", {\"count\": 1, \"std\": 0.0, \"min\": 124, \"max\": 124, \"sum\": 124, \"var\": 0.0, \"mean\": 124.0}], [\"27849\", {\"count\": 1, \"std\": 0.0, \"min\": 388, \"max\": 388, \"sum\": 388, \"var\": 0.0, \"mean\": 388.0}], [\"28220\", {\"count\": 1, \"std\": 0.0, \"min\": 417, \"max\": 417, \"sum\": 417, \"var\": 0.0, \"mean\": 417.0}], [\"28551\", {\"count\": 1, \"std\": 0.0, \"min\": 328, \"max\": 328, \"sum\": 328, \"var\": 0.0, \"mean\": 328.0}], [\"2908\", {\"count\": 2, \"std\": 1.5, \"min\": 544, \"max\": 547, \"sum\": 1091, \"var\": 2.25, \"mean\": 545.5}], [\"29103\", {\"count\": 1, \"std\": 0.0, \"min\": 751, \"max\": 751, \"sum\": 751, \"var\": 0.0, \"mean\": 751.0}], [\"29105\", {\"count\": 1, \"std\": 0.0, \"min\": 775, \"max\": 775, \"sum\": 775, \"var\": 0.0, \"mean\": 775.0}], [\"29106\", {\"count\": 3, \"std\": 193.19305255509462, \"min\": 408, \"max\": 832, \"sum\": 1678, \"var\": 37323.555555555555, \"mean\": 559.3333333333334}], [\"2926\", {\"count\": 1, \"std\": 0.0, \"min\": 54, \"max\": 54, \"sum\": 54, \"var\": 0.0, \"mean\": 54.0}], [\"29750\", {\"count\": 1, \"std\": 0.0, \"min\": 671, \"max\": 671, \"sum\": 671, \"var\": 0.0, \"mean\": 671.0}], [\"3101265\", {\"count\": 1, \"std\": 0.0, \"min\": 787, \"max\": 787, \"sum\": 787, \"var\": 0.0, \"mean\": 787.0}], [\"3101278\", {\"count\": 1, \"std\": 0.0, \"min\": 86, \"max\": 86, \"sum\": 86, \"var\": 0.0, \"mean\": 86.0}], [\"3101281\", {\"count\": 1, \"std\": 0.0, \"min\": 69, \"max\": 69, \"sum\": 69, \"var\": 0.0, \"mean\": 69.0}], [\"3101298\", {\"count\": 1, \"std\": 0.0, \"min\": 480, \"max\": 480, \"sum\": 480, \"var\": 0.0, \"mean\": 480.0}], [\"31027\", {\"count\": 1, \"std\": 0.0, \"min\": 727, \"max\": 727, \"sum\": 727, \"var\": 0.0, \"mean\": 727.0}], [\"312991\", {\"count\": 1, \"std\": 0.0, \"min\": 108, \"max\": 108, \"sum\": 108, \"var\": 0.0, \"mean\": 108.0}], [\"31418\", {\"count\": 1, \"std\": 0.0, \"min\": 347, \"max\": 347, \"sum\": 347, \"var\": 0.0, \"mean\": 347.0}], [\"315098\", {\"count\": 1, \"std\": 0.0, \"min\": 822, \"max\": 822, \"sum\": 822, \"var\": 0.0, \"mean\": 822.0}], [\"315153\", {\"count\": 1, \"std\": 0.0, \"min\": 185, \"max\": 185, \"sum\": 185, \"var\": 0.0, \"mean\": 185.0}], [\"330919\", {\"count\": 1, \"std\": 0.0, \"min\": 654, \"max\": 654, \"sum\": 654, \"var\": 0.0, \"mean\": 654.0}], [\"330923\", {\"count\": 1, \"std\": 0.0, \"min\": 23, \"max\": 23, \"sum\": 23, \"var\": 0.0, \"mean\": 23.0}], [\"330931\", {\"count\": 1, \"std\": 0.0, \"min\": 359, \"max\": 359, \"sum\": 359, \"var\": 0.0, \"mean\": 359.0}], [\"330932\", {\"count\": 1, \"std\": 0.0, \"min\": 83, \"max\": 83, \"sum\": 83, \"var\": 0.0, \"mean\": 83.0}], [\"330958\", {\"count\": 1, \"std\": 0.0, \"min\": 45, \"max\": 45, \"sum\": 45, \"var\": 0.0, \"mean\": 45.0}], [\"330959\", {\"count\": 1, \"std\": 0.0, \"min\": 29, \"max\": 29, \"sum\": 29, \"var\": 0.0, \"mean\": 29.0}], [\"330980\", {\"count\": 1, \"std\": 0.0, \"min\": 360, \"max\": 360, \"sum\": 360, \"var\": 0.0, \"mean\": 360.0}], [\"335677\", {\"count\": 1, \"std\": 0.0, \"min\": 33, \"max\": 33, \"sum\": 33, \"var\": 0.0, \"mean\": 33.0}], [\"33638\", {\"count\": 1, \"std\": 0.0, \"min\": 446, \"max\": 446, \"sum\": 446, \"var\": 0.0, \"mean\": 446.0}], [\"34218\", {\"count\": 1, \"std\": 0.0, \"min\": 718, \"max\": 718, \"sum\": 718, \"var\": 0.0, \"mean\": 718.0}], [\"343120\", {\"count\": 1, \"std\": 0.0, \"min\": 107, \"max\": 107, \"sum\": 107, \"var\": 0.0, \"mean\": 107.0}], [\"345572\", {\"count\": 1, \"std\": 0.0, \"min\": 560, \"max\": 560, \"sum\": 560, \"var\": 0.0, \"mean\": 560.0}], [\"345774\", {\"count\": 1, \"std\": 0.0, \"min\": 287, \"max\": 287, \"sum\": 287, \"var\": 0.0, \"mean\": 287.0}], [\"345779\", {\"count\": 1, \"std\": 0.0, \"min\": 82, \"max\": 82, \"sum\": 82, \"var\": 0.0, \"mean\": 82.0}], [\"347077\", {\"count\": 3, \"std\": 105.27424503014338, \"min\": 26, \"max\": 262, \"sum\": 522, \"var\": 11082.666666666666, \"mean\": 174.0}], [\"347081\", {\"count\": 1, \"std\": 0.0, \"min\": 142, \"max\": 142, \"sum\": 142, \"var\": 0.0, \"mean\": 142.0}], [\"347083\", {\"count\": 1, \"std\": 0.0, \"min\": 268, \"max\": 268, \"sum\": 268, \"var\": 0.0, \"mean\": 268.0}], [\"347085\", {\"count\": 1, \"std\": 0.0, \"min\": 555, \"max\": 555, \"sum\": 555, \"var\": 0.0, \"mean\": 555.0}], [\"347089\", {\"count\": 1, \"std\": 0.0, \"min\": 805, \"max\": 805, \"sum\": 805, \"var\": 0.0, \"mean\": 805.0}], [\"347470\", {\"count\": 1, \"std\": 0.0, \"min\": 316, \"max\": 316, \"sum\": 316, \"var\": 0.0, \"mean\": 316.0}], [\"347742\", {\"count\": 3, \"std\": 373.2776744224361, \"min\": 9, \"max\": 870, \"sum\": 1052, \"var\": 139336.22222222222, \"mean\": 350.6666666666667}], [\"349240\", {\"count\": 1, \"std\": 0.0, \"min\": 456, \"max\": 456, \"sum\": 456, \"var\": 0.0, \"mean\": 456.0}], [\"349244\", {\"count\": 1, \"std\": 0.0, \"min\": 798, \"max\": 798, \"sum\": 798, \"var\": 0.0, \"mean\": 798.0}], [\"349256\", {\"count\": 1, \"std\": 0.0, \"min\": 692, \"max\": 692, \"sum\": 692, \"var\": 0.0, \"mean\": 692.0}], [\"350034\", {\"count\": 1, \"std\": 0.0, \"min\": 392, \"max\": 392, \"sum\": 392, \"var\": 0.0, \"mean\": 392.0}], [\"350043\", {\"count\": 1, \"std\": 0.0, \"min\": 147, \"max\": 147, \"sum\": 147, \"var\": 0.0, \"mean\": 147.0}], [\"350046\", {\"count\": 1, \"std\": 0.0, \"min\": 193, \"max\": 193, \"sum\": 193, \"var\": 0.0, \"mean\": 193.0}], [\"350417\", {\"count\": 1, \"std\": 0.0, \"min\": 570, \"max\": 570, \"sum\": 570, \"var\": 0.0, \"mean\": 570.0}], [\"35273\", {\"count\": 2, \"std\": 89.0, \"min\": 216, \"max\": 394, \"sum\": 610, \"var\": 7921.0, \"mean\": 305.0}], [\"35851\", {\"count\": 1, \"std\": 0.0, \"min\": 157, \"max\": 157, \"sum\": 157, \"var\": 0.0, \"mean\": 157.0}], [\"35852\", {\"count\": 1, \"std\": 0.0, \"min\": 698, \"max\": 698, \"sum\": 698, \"var\": 0.0, \"mean\": 698.0}], [\"363291\", {\"count\": 2, \"std\": 81.5, \"min\": 166, \"max\": 329, \"sum\": 495, \"var\": 6642.25, \"mean\": 247.5}], [\"364516\", {\"count\": 2, \"std\": 349.0, \"min\": 80, \"max\": 778, \"sum\": 858, \"var\": 121801.0, \"mean\": 429.0}], [\"367226\", {\"count\": 2, \"std\": 14.5, \"min\": 302, \"max\": 331, \"sum\": 633, \"var\": 210.25, \"mean\": 316.5}], [\"367228\", {\"count\": 1, \"std\": 0.0, \"min\": 829, \"max\": 829, \"sum\": 829, \"var\": 0.0, \"mean\": 829.0}], [\"367230\", {\"count\": 2, \"std\": 185.5, \"min\": 242, \"max\": 613, \"sum\": 855, \"var\": 34410.25, \"mean\": 427.5}], [\"367231\", {\"count\": 1, \"std\": 0.0, \"min\": 209, \"max\": 209, \"sum\": 209, \"var\": 0.0, \"mean\": 209.0}], [\"36866\", {\"count\": 1, \"std\": 0.0, \"min\": 728, \"max\": 728, \"sum\": 728, \"var\": 0.0, \"mean\": 728.0}], [\"36928\", {\"count\": 2, \"std\": 269.0, \"min\": 319, \"max\": 857, \"sum\": 1176, \"var\": 72361.0, \"mean\": 588.0}], [\"36947\", {\"count\": 2, \"std\": 47.5, \"min\": 497, \"max\": 592, \"sum\": 1089, \"var\": 2256.25, \"mean\": 544.5}], [\"36973\", {\"count\": 1, \"std\": 0.0, \"min\": 231, \"max\": 231, \"sum\": 231, \"var\": 0.0, \"mean\": 231.0}], [\"370365\", {\"count\": 1, \"std\": 0.0, \"min\": 187, \"max\": 187, \"sum\": 187, \"var\": 0.0, \"mean\": 187.0}], [\"370370\", {\"count\": 1, \"std\": 0.0, \"min\": 199, \"max\": 199, \"sum\": 199, \"var\": 0.0, \"mean\": 199.0}], [\"370373\", {\"count\": 1, \"std\": 0.0, \"min\": 290, \"max\": 290, \"sum\": 290, \"var\": 0.0, \"mean\": 290.0}], [\"370375\", {\"count\": 1, \"std\": 0.0, \"min\": 275, \"max\": 275, \"sum\": 275, \"var\": 0.0, \"mean\": 275.0}], [\"371110\", {\"count\": 1, \"std\": 0.0, \"min\": 110, \"max\": 110, \"sum\": 110, \"var\": 0.0, \"mean\": 110.0}], [\"376564\", {\"count\": 1, \"std\": 0.0, \"min\": 432, \"max\": 432, \"sum\": 432, \"var\": 0.0, \"mean\": 432.0}], [\"382651\", {\"count\": 1, \"std\": 0.0, \"min\": 511, \"max\": 511, \"sum\": 511, \"var\": 0.0, \"mean\": 511.0}], [\"386525\", {\"count\": 1, \"std\": 0.0, \"min\": 348, \"max\": 348, \"sum\": 348, \"var\": 0.0, \"mean\": 348.0}], [\"392091\", {\"count\": 1, \"std\": 0.0, \"min\": 856, \"max\": 856, \"sum\": 856, \"var\": 0.0, \"mean\": 856.0}], [\"392096\", {\"count\": 2, \"std\": 36.0, \"min\": 752, \"max\": 824, \"sum\": 1576, \"var\": 1296.0, \"mean\": 788.0}], [\"4134\", {\"count\": 1, \"std\": 0.0, \"min\": 484, \"max\": 484, \"sum\": 484, \"var\": 0.0, \"mean\": 484.0}], [\"4138\", {\"count\": 1, \"std\": 0.0, \"min\": 678, \"max\": 678, \"sum\": 678, \"var\": 0.0, \"mean\": 678.0}], [\"65306\", {\"count\": 1, \"std\": 0.0, \"min\": 445, \"max\": 445, \"sum\": 445, \"var\": 0.0, \"mean\": 445.0}], [\"7598\", {\"count\": 1, \"std\": 0.0, \"min\": 339, \"max\": 339, \"sum\": 339, \"var\": 0.0, \"mean\": 339.0}], [\"9234\", {\"count\": 1, \"std\": 0.0, \"min\": 301, \"max\": 301, \"sum\": 301, \"var\": 0.0, \"mean\": 301.0}], [\"A/5 3540\", {\"count\": 1, \"std\": 0.0, \"min\": 205, \"max\": 205, \"sum\": 205, \"var\": 0.0, \"mean\": 205.0}], [\"A/5. 10482\", {\"count\": 1, \"std\": 0.0, \"min\": 284, \"max\": 284, \"sum\": 284, \"var\": 0.0, \"mean\": 284.0}], [\"C 17369\", {\"count\": 1, \"std\": 0.0, \"min\": 128, \"max\": 128, \"sum\": 128, \"var\": 0.0, \"mean\": 128.0}], [\"C 7077\", {\"count\": 1, \"std\": 0.0, \"min\": 377, \"max\": 377, \"sum\": 377, \"var\": 0.0, \"mean\": 377.0}], [\"C.A. 2315\", {\"count\": 1, \"std\": 0.0, \"min\": 789, \"max\": 789, \"sum\": 789, \"var\": 0.0, \"mean\": 789.0}], [\"C.A. 2673\", {\"count\": 1, \"std\": 0.0, \"min\": 280, \"max\": 280, \"sum\": 280, \"var\": 0.0, \"mean\": 280.0}], [\"C.A. 29395\", {\"count\": 1, \"std\": 0.0, \"min\": 67, \"max\": 67, \"sum\": 67, \"var\": 0.0, \"mean\": 67.0}], [\"C.A. 31026\", {\"count\": 1, \"std\": 0.0, \"min\": 57, \"max\": 57, \"sum\": 57, \"var\": 0.0, \"mean\": 57.0}], [\"C.A. 31921\", {\"count\": 2, \"std\": 282.0, \"min\": 238, \"max\": 802, \"sum\": 1040, \"var\": 79524.0, \"mean\": 520.0}], [\"C.A. 33112\", {\"count\": 1, \"std\": 0.0, \"min\": 550, \"max\": 550, \"sum\": 550, \"var\": 0.0, \"mean\": 550.0}], [\"C.A. 33595\", {\"count\": 1, \"std\": 0.0, \"min\": 162, \"max\": 162, \"sum\": 162, \"var\": 0.0, \"mean\": 162.0}], [\"C.A. 34260\", {\"count\": 1, \"std\": 0.0, \"min\": 517, \"max\": 517, \"sum\": 517, \"var\": 0.0, \"mean\": 517.0}], [\"C.A. 34651\", {\"count\": 2, \"std\": 207.0, \"min\": 59, \"max\": 473, \"sum\": 532, \"var\": 42849.0, \"mean\": 266.0}], [\"C.A. 37671\", {\"count\": 2, \"std\": 70.5, \"min\": 349, \"max\": 490, \"sum\": 839, \"var\": 4970.25, \"mean\": 419.5}], [\"CA. 2314\", {\"count\": 1, \"std\": 0.0, \"min\": 650, \"max\": 650, \"sum\": 650, \"var\": 0.0, \"mean\": 650.0}], [\"F.C.C. 13528\", {\"count\": 1, \"std\": 0.0, \"min\": 212, \"max\": 212, \"sum\": 212, \"var\": 0.0, \"mean\": 212.0}], [\"F.C.C. 13529\", {\"count\": 2, \"std\": 47.5, \"min\": 441, \"max\": 536, \"sum\": 977, \"var\": 2256.25, \"mean\": 488.5}], [\"F.C.C. 13531\", {\"count\": 1, \"std\": 0.0, \"min\": 459, \"max\": 459, \"sum\": 459, \"var\": 0.0, \"mean\": 459.0}], [\"LINE\", {\"count\": 1, \"std\": 0.0, \"min\": 272, \"max\": 272, \"sum\": 272, \"var\": 0.0, \"mean\": 272.0}], [\"P/PP 3381\", {\"count\": 1, \"std\": 0.0, \"min\": 875, \"max\": 875, \"sum\": 875, \"var\": 0.0, \"mean\": 875.0}], [\"PC 17473\", {\"count\": 1, \"std\": 0.0, \"min\": 513, \"max\": 513, \"sum\": 513, \"var\": 0.0, \"mean\": 513.0}], [\"PC 17474\", {\"count\": 1, \"std\": 0.0, \"min\": 573, \"max\": 573, \"sum\": 573, \"var\": 0.0, \"mean\": 573.0}], [\"PC 17475\", {\"count\": 1, \"std\": 0.0, \"min\": 702, \"max\": 702, \"sum\": 702, \"var\": 0.0, \"mean\": 702.0}], [\"PC 17476\", {\"count\": 1, \"std\": 0.0, \"min\": 708, \"max\": 708, \"sum\": 708, \"var\": 0.0, \"mean\": 708.0}], [\"PC 17477\", {\"count\": 2, \"std\": 136.0, \"min\": 370, \"max\": 642, \"sum\": 1012, \"var\": 18496.0, \"mean\": 506.0}], [\"PC 17482\", {\"count\": 1, \"std\": 0.0, \"min\": 711, \"max\": 711, \"sum\": 711, \"var\": 0.0, \"mean\": 711.0}], [\"PC 17485\", {\"count\": 2, \"std\": 145.0, \"min\": 310, \"max\": 600, \"sum\": 910, \"var\": 21025.0, \"mean\": 455.0}], [\"PC 17558\", {\"count\": 1, \"std\": 0.0, \"min\": 300, \"max\": 300, \"sum\": 300, \"var\": 0.0, \"mean\": 300.0}], [\"PC 17569\", {\"count\": 2, \"std\": 82.0, \"min\": 32, \"max\": 196, \"sum\": 228, \"var\": 6724.0, \"mean\": 114.0}], [\"PC 17572\", {\"count\": 3, \"std\": 288.4028817855713, \"min\": 53, \"max\": 682, \"sum\": 1381, \"var\": 83176.22222222222, \"mean\": 460.3333333333333}], [\"PC 17582\", {\"count\": 2, \"std\": 170.5, \"min\": 269, \"max\": 610, \"sum\": 879, \"var\": 29070.25, \"mean\": 439.5}], [\"PC 17585\", {\"count\": 1, \"std\": 0.0, \"min\": 257, \"max\": 257, \"sum\": 257, \"var\": 0.0, \"mean\": 257.0}], [\"PC 17592\", {\"count\": 1, \"std\": 0.0, \"min\": 854, \"max\": 854, \"sum\": 854, \"var\": 0.0, \"mean\": 854.0}], [\"PC 17599\", {\"count\": 1, \"std\": 0.0, \"min\": 2, \"max\": 2, \"sum\": 2, \"var\": 0.0, \"mean\": 2.0}], [\"PC 17603\", {\"count\": 1, \"std\": 0.0, \"min\": 514, \"max\": 514, \"sum\": 514, \"var\": 0.0, \"mean\": 514.0}], [\"PC 17604\", {\"count\": 1, \"std\": 0.0, \"min\": 376, \"max\": 376, \"sum\": 376, \"var\": 0.0, \"mean\": 376.0}], [\"PC 17608\", {\"count\": 2, \"std\": 215.5, \"min\": 312, \"max\": 743, \"sum\": 1055, \"var\": 46440.25, \"mean\": 527.5}], [\"PC 17610\", {\"count\": 1, \"std\": 0.0, \"min\": 195, \"max\": 195, \"sum\": 195, \"var\": 0.0, \"mean\": 195.0}], [\"PC 17611\", {\"count\": 2, \"std\": 163.0, \"min\": 335, \"max\": 661, \"sum\": 996, \"var\": 26569.0, \"mean\": 498.0}], [\"PC 17755\", {\"count\": 3, \"std\": 213.4494475670215, \"min\": 259, \"max\": 738, \"sum\": 1677, \"var\": 45560.666666666664, \"mean\": 559.0}], [\"PC 17756\", {\"count\": 1, \"std\": 0.0, \"min\": 836, \"max\": 836, \"sum\": 836, \"var\": 0.0, \"mean\": 836.0}], [\"PC 17757\", {\"count\": 3, \"std\": 154.75859337116702, \"min\": 381, \"max\": 717, \"sum\": 1799, \"var\": 23950.222222222223, \"mean\": 599.6666666666666}], [\"PC 17758\", {\"count\": 1, \"std\": 0.0, \"min\": 308, \"max\": 308, \"sum\": 308, \"var\": 0.0, \"mean\": 308.0}], [\"PC 17759\", {\"count\": 1, \"std\": 0.0, \"min\": 98, \"max\": 98, \"sum\": 98, \"var\": 0.0, \"mean\": 98.0}], [\"PC 17760\", {\"count\": 2, \"std\": 28.0, \"min\": 270, \"max\": 326, \"sum\": 596, \"var\": 784.0, \"mean\": 298.0}], [\"PC 17761\", {\"count\": 1, \"std\": 0.0, \"min\": 538, \"max\": 538, \"sum\": 538, \"var\": 0.0, \"mean\": 538.0}], [\"PP 9549\", {\"count\": 2, \"std\": 192.0, \"min\": 11, \"max\": 395, \"sum\": 406, \"var\": 36864.0, \"mean\": 203.0}], [\"S.C./PARIS 2079\", {\"count\": 1, \"std\": 0.0, \"min\": 828, \"max\": 828, \"sum\": 828, \"var\": 0.0, \"mean\": 828.0}], [\"S.W./PP 752\", {\"count\": 1, \"std\": 0.0, \"min\": 571, \"max\": 571, \"sum\": 571, \"var\": 0.0, \"mean\": 571.0}], [\"SC 1748\", {\"count\": 1, \"std\": 0.0, \"min\": 390, \"max\": 390, \"sum\": 390, \"var\": 0.0, \"mean\": 390.0}], [\"SC/AH 3085\", {\"count\": 1, \"std\": 0.0, \"min\": 433, \"max\": 433, \"sum\": 433, \"var\": 0.0, \"mean\": 433.0}], [\"SC/AH Basle 541\", {\"count\": 1, \"std\": 0.0, \"min\": 474, \"max\": 474, \"sum\": 474, \"var\": 0.0, \"mean\": 474.0}], [\"SC/PARIS 2146\", {\"count\": 1, \"std\": 0.0, \"min\": 548, \"max\": 548, \"sum\": 548, \"var\": 0.0, \"mean\": 548.0}], [\"SC/PARIS 2149\", {\"count\": 1, \"std\": 0.0, \"min\": 867, \"max\": 867, \"sum\": 867, \"var\": 0.0, \"mean\": 867.0}], [\"SC/Paris 2123\", {\"count\": 2, \"std\": 282.5, \"min\": 44, \"max\": 609, \"sum\": 653, \"var\": 79806.25, \"mean\": 326.5}], [\"SO/C 14885\", {\"count\": 1, \"std\": 0.0, \"min\": 85, \"max\": 85, \"sum\": 85, \"var\": 0.0, \"mean\": 85.0}], [\"SOTON/O.Q. 392078\", {\"count\": 1, \"std\": 0.0, \"min\": 430, \"max\": 430, \"sum\": 430, \"var\": 0.0, \"mean\": 430.0}], [\"SOTON/OQ 392089\", {\"count\": 1, \"std\": 0.0, \"min\": 221, \"max\": 221, \"sum\": 221, \"var\": 0.0, \"mean\": 221.0}], [\"STON/O 2. 3101269\", {\"count\": 1, \"std\": 0.0, \"min\": 415, \"max\": 415, \"sum\": 415, \"var\": 0.0, \"mean\": 415.0}], [\"STON/O 2. 3101285\", {\"count\": 1, \"std\": 0.0, \"min\": 665, \"max\": 665, \"sum\": 665, \"var\": 0.0, \"mean\": 665.0}], [\"STON/O 2. 3101286\", {\"count\": 1, \"std\": 0.0, \"min\": 580, \"max\": 580, \"sum\": 580, \"var\": 0.0, \"mean\": 580.0}], [\"STON/O 2. 3101288\", {\"count\": 1, \"std\": 0.0, \"min\": 745, \"max\": 745, \"sum\": 745, \"var\": 0.0, \"mean\": 745.0}], [\"STON/O 2. 3101289\", {\"count\": 1, \"std\": 0.0, \"min\": 401, \"max\": 401, \"sum\": 401, \"var\": 0.0, \"mean\": 401.0}], [\"STON/O2. 3101279\", {\"count\": 1, \"std\": 0.0, \"min\": 143, \"max\": 143, \"sum\": 143, \"var\": 0.0, \"mean\": 143.0}], [\"STON/O2. 3101282\", {\"count\": 1, \"std\": 0.0, \"min\": 3, \"max\": 3, \"sum\": 3, \"var\": 0.0, \"mean\": 3.0}], [\"STON/O2. 3101283\", {\"count\": 1, \"std\": 0.0, \"min\": 217, \"max\": 217, \"sum\": 217, \"var\": 0.0, \"mean\": 217.0}], [\"SW/PP 751\", {\"count\": 1, \"std\": 0.0, \"min\": 227, \"max\": 227, \"sum\": 227, \"var\": 0.0, \"mean\": 227.0}], [\"W./C. 14258\", {\"count\": 1, \"std\": 0.0, \"min\": 527, \"max\": 527, \"sum\": 527, \"var\": 0.0, \"mean\": 527.0}], [\"WE/P 5735\", {\"count\": 1, \"std\": 0.0, \"min\": 541, \"max\": 541, \"sum\": 541, \"var\": 0.0, \"mean\": 541.0}]], \"omitted\": 0}, \"columns\": [{\"dtype\": \"int\", \"name\": \"PassengerId\"}, {\"dtype\": \"int\", \"name\": \"Survived\"}, {\"dtype\": \"int\", \"name\": \"Pclass\"}, {\"dtype\": \"str\", \"name\": \"Name\"}, {\"dtype\": \"str\", \"name\": \"Sex\"}, {\"dtype\": \"float\", \"name\": \"Age\"}, {\"dtype\": \"int\", \"name\": \"SibSp\"}, {\"dtype\": \"int\", \"name\": \"Parch\"}, {\"dtype\": \"str\", \"name\": \"Ticket\"}, {\"dtype\": \"float\", \"name\": \"Fare\"}, {\"dtype\": \"str\", \"name\": \"Cabin\"}, {\"dtype\": \"str\", \"name\": \"Embarked\"}]}, e);\n",
       "                });\n",
       "            })();\n",
       "        "
      ]
     },
     "metadata": {},
     "output_type": "display_data"
    },
    {
     "data": {
      "application/javascript": [
       "$(\"head\").append($(\"<link/>\").attr({\n",
       "  rel:  \"stylesheet\",\n",
       "  type: \"text/css\",\n",
       "  href: \"//cdnjs.cloudflare.com/ajax/libs/font-awesome/4.1.0/css/font-awesome.min.css\"\n",
       "}));\n",
       "$(\"head\").append($(\"<link/>\").attr({\n",
       "  rel:  \"stylesheet\",\n",
       "  type: \"text/css\",\n",
       "  href: \"https://static.turi.com/products/graphlab-create/2.1/canvas/css/canvas.css\"\n",
       "}));\n",
       "\n",
       "            (function(){\n",
       "\n",
       "                var e = null;\n",
       "                if (typeof element == 'undefined') {\n",
       "                    var scripts = document.getElementsByTagName('script');\n",
       "                    var thisScriptTag = scripts[scripts.length-1];\n",
       "                    var parentDiv = thisScriptTag.parentNode;\n",
       "                    e = document.createElement('div');\n",
       "                    parentDiv.appendChild(e);\n",
       "                } else {\n",
       "                    e = element[0];\n",
       "                }\n",
       "\n",
       "                if (typeof requirejs !== 'undefined') {\n",
       "                    // disable load timeout; ipython_app.js is large and can take a while to load.\n",
       "                    requirejs.config({waitSeconds: 0});\n",
       "                }\n",
       "\n",
       "                require(['https://static.turi.com/products/graphlab-create/2.1/canvas/js/ipython_app.js'], function(IPythonApp){\n",
       "                    var app = new IPythonApp();\n",
       "                    app.attachView('sframe','Plots', {\"selected_variable\": {\"name\": [\"<SFrame>\"], \"descriptives\": {\"rows\": 342, \"columns\": 12}, \"view_component\": \"Plots\", \"view_file\": \"sframe\", \"view_params\": {\"y\": \"PassengerId\", \"x\": \"Fare\", \"columns\": [\"PassengerId\", \"Survived\", \"Pclass\", \"Name\", \"Sex\", \"Age\", \"SibSp\", \"Parch\", \"Ticket\", \"Fare\", \"Cabin\", \"Embarked\"], \"view\": \"Bar Chart\"}, \"view_components\": [\"Summary\", \"Table\", \"Bar Chart\", \"BoxWhisker Plot\", \"Line Chart\", \"Scatter Plot\", \"Heat Map\", \"Plots\"], \"type\": \"SFrame\", \"columns\": [{\"dtype\": \"int\", \"name\": \"PassengerId\"}, {\"dtype\": \"int\", \"name\": \"Survived\"}, {\"dtype\": \"int\", \"name\": \"Pclass\"}, {\"dtype\": \"str\", \"name\": \"Name\"}, {\"dtype\": \"str\", \"name\": \"Sex\"}, {\"dtype\": \"float\", \"name\": \"Age\"}, {\"dtype\": \"int\", \"name\": \"SibSp\"}, {\"dtype\": \"int\", \"name\": \"Parch\"}, {\"dtype\": \"str\", \"name\": \"Ticket\"}, {\"dtype\": \"float\", \"name\": \"Fare\"}, {\"dtype\": \"str\", \"name\": \"Cabin\"}, {\"dtype\": \"str\", \"name\": \"Embarked\"}], \"column_identifiers\": [\"Fare\", \"Name\", \"Embarked\", \"Age\", \"Parch\", \"Pclass\", \"Sex\", \"Survived\", \"SibSp\", \"PassengerId\", \"Ticket\", \"Cabin\"]}, \"complete\": 1, \"ipython\": true, \"progress\": 1.0, \"data\": {\"grouped\": [[0.0, {\"count\": 1, \"std\": 0.0, \"min\": 272, \"max\": 272, \"sum\": 272, \"var\": 0.0, \"mean\": 272.0}], [6.975, {\"count\": 1, \"std\": 0.0, \"min\": 805, \"max\": 805, \"sum\": 805, \"var\": 0.0, \"mean\": 805.0}], [7.1417, {\"count\": 1, \"std\": 0.0, \"min\": 128, \"max\": 128, \"sum\": 128, \"var\": 0.0, \"mean\": 128.0}], [7.225, {\"count\": 3, \"std\": 353.0149508952214, \"min\": 20, \"max\": 876, \"sum\": 1450, \"var\": 124619.55555555556, \"mean\": 483.3333333333333}], [7.2292, {\"count\": 4, \"std\": 307.92562007731675, \"min\": 37, \"max\": 781, \"sum\": 1949, \"var\": 94818.1875, \"mean\": 487.25}], [7.25, {\"count\": 1, \"std\": 0.0, \"min\": 377, \"max\": 377, \"sum\": 377, \"var\": 0.0, \"mean\": 377.0}], [7.4958, {\"count\": 1, \"std\": 0.0, \"min\": 787, \"max\": 787, \"sum\": 787, \"var\": 0.0, \"mean\": 787.0}], [7.55, {\"count\": 1, \"std\": 0.0, \"min\": 650, \"max\": 650, \"sum\": 650, \"var\": 0.0, \"mean\": 650.0}], [7.65, {\"count\": 1, \"std\": 0.0, \"min\": 107, \"max\": 107, \"sum\": 107, \"var\": 0.0, \"mean\": 107.0}], [7.7333, {\"count\": 2, \"std\": 270.5, \"min\": 157, \"max\": 698, \"sum\": 855, \"var\": 73170.25, \"mean\": 427.5}], [7.7375, {\"count\": 1, \"std\": 0.0, \"min\": 728, \"max\": 728, \"sum\": 728, \"var\": 0.0, \"mean\": 728.0}], [7.75, {\"count\": 12, \"std\": 219.93635443009416, \"min\": 33, \"max\": 829, \"sum\": 3780, \"var\": 48372.0, \"mean\": 315.0}], [7.775, {\"count\": 3, \"std\": 184.92581095010928, \"min\": 108, \"max\": 555, \"sum\": 931, \"var\": 34197.555555555555, \"mean\": 310.3333333333333}], [7.7875, {\"count\": 1, \"std\": 0.0, \"min\": 83, \"max\": 83, \"sum\": 83, \"var\": 0.0, \"mean\": 83.0}], [7.7958, {\"count\": 2, \"std\": 122.5, \"min\": 147, \"max\": 392, \"sum\": 539, \"var\": 15006.25, \"mean\": 269.5}], [7.8292, {\"count\": 1, \"std\": 0.0, \"min\": 654, \"max\": 654, \"sum\": 654, \"var\": 0.0, \"mean\": 654.0}], [7.8542, {\"count\": 3, \"std\": 156.97628978783885, \"min\": 193, \"max\": 570, \"sum\": 1079, \"var\": 24641.55555555556, \"mean\": 359.6666666666667}], [7.8792, {\"count\": 4, \"std\": 161.34958165424538, \"min\": 29, \"max\": 360, \"sum\": 793, \"var\": 26033.6875, \"mean\": 198.25}], [7.8958, {\"count\": 1, \"std\": 0.0, \"min\": 456, \"max\": 456, \"sum\": 456, \"var\": 0.0, \"mean\": 456.0}], [7.925, {\"count\": 8, \"std\": 255.23442043541073, \"min\": 3, \"max\": 745, \"sum\": 3095, \"var\": 65144.609375000015, \"mean\": 386.875}], [8.0292, {\"count\": 1, \"std\": 0.0, \"min\": 23, \"max\": 23, \"sum\": 23, \"var\": 0.0, \"mean\": 23.0}], [8.05, {\"count\": 5, \"std\": 82.2858432538672, \"min\": 205, \"max\": 430, \"sum\": 1479, \"var\": 6770.960000000001, \"mean\": 295.8}], [8.1125, {\"count\": 1, \"std\": 0.0, \"min\": 445, \"max\": 445, \"sum\": 445, \"var\": 0.0, \"mean\": 445.0}], [8.5167, {\"count\": 1, \"std\": 0.0, \"min\": 804, \"max\": 804, \"sum\": 804, \"var\": 0.0, \"mean\": 804.0}], [8.6625, {\"count\": 1, \"std\": 0.0, \"min\": 822, \"max\": 822, \"sum\": 822, \"var\": 0.0, \"mean\": 822.0}], [8.6833, {\"count\": 1, \"std\": 0.0, \"min\": 798, \"max\": 798, \"sum\": 798, \"var\": 0.0, \"mean\": 798.0}], [9.35, {\"count\": 1, \"std\": 0.0, \"min\": 856, \"max\": 856, \"sum\": 856, \"var\": 0.0, \"mean\": 856.0}], [9.5, {\"count\": 2, \"std\": 102.5, \"min\": 82, \"max\": 287, \"sum\": 369, \"var\": 10506.25, \"mean\": 184.5}], [9.5875, {\"count\": 1, \"std\": 0.0, \"min\": 484, \"max\": 484, \"sum\": 484, \"var\": 0.0, \"mean\": 484.0}], [9.8417, {\"count\": 1, \"std\": 0.0, \"min\": 678, \"max\": 678, \"sum\": 678, \"var\": 0.0, \"mean\": 678.0}], [10.5, {\"count\": 9, \"std\": 237.10757052443518, \"min\": 57, \"max\": 718, \"sum\": 3228, \"var\": 56220.0, \"mean\": 358.6666666666667}], [11.1333, {\"count\": 3, \"std\": 373.2776744224361, \"min\": 9, \"max\": 870, \"sum\": 1052, \"var\": 139336.22222222222, \"mean\": 350.6666666666667}], [11.2417, {\"count\": 2, \"std\": 43.0, \"min\": 40, \"max\": 126, \"sum\": 166, \"var\": 1849.0, \"mean\": 83.0}], [12.0, {\"count\": 1, \"std\": 0.0, \"min\": 390, \"max\": 390, \"sum\": 390, \"var\": 0.0, \"mean\": 390.0}], [12.2875, {\"count\": 1, \"std\": 0.0, \"min\": 480, \"max\": 480, \"sum\": 480, \"var\": 0.0, \"mean\": 480.0}], [12.35, {\"count\": 2, \"std\": 9.5, \"min\": 304, \"max\": 323, \"sum\": 627, \"var\": 90.25, \"mean\": 313.5}], [12.475, {\"count\": 4, \"std\": 306.216834938904, \"min\": 80, \"max\": 824, \"sum\": 2434, \"var\": 93768.75, \"mean\": 608.5}], [12.65, {\"count\": 1, \"std\": 0.0, \"min\": 400, \"max\": 400, \"sum\": 400, \"var\": 0.0, \"mean\": 400.0}], [13.0, {\"count\": 16, \"std\": 241.69246988683778, \"min\": 18, \"max\": 866, \"sum\": 6416, \"var\": 58415.24999999999, \"mean\": 401.0}], [13.4167, {\"count\": 1, \"std\": 0.0, \"min\": 692, \"max\": 692, \"sum\": 692, \"var\": 0.0, \"mean\": 692.0}], [13.5, {\"count\": 1, \"std\": 0.0, \"min\": 707, \"max\": 707, \"sum\": 707, \"var\": 0.0, \"mean\": 707.0}], [13.7917, {\"count\": 1, \"std\": 0.0, \"min\": 474, \"max\": 474, \"sum\": 474, \"var\": 0.0, \"mean\": 474.0}], [13.8583, {\"count\": 1, \"std\": 0.0, \"min\": 867, \"max\": 867, \"sum\": 867, \"var\": 0.0, \"mean\": 867.0}], [13.8625, {\"count\": 1, \"std\": 0.0, \"min\": 548, \"max\": 548, \"sum\": 548, \"var\": 0.0, \"mean\": 548.0}], [14.4542, {\"count\": 1, \"std\": 0.0, \"min\": 831, \"max\": 831, \"sum\": 831, \"var\": 0.0, \"mean\": 831.0}], [14.5, {\"count\": 2, \"std\": 254.0, \"min\": 248, \"max\": 756, \"sum\": 1004, \"var\": 64516.0, \"mean\": 502.0}], [15.2458, {\"count\": 3, \"std\": 270.1752517657135, \"min\": 66, \"max\": 710, \"sum\": 1032, \"var\": 72994.66666666667, \"mean\": 344.0}], [15.5, {\"count\": 3, \"std\": 189.19184854415784, \"min\": 187, \"max\": 613, \"sum\": 1042, \"var\": 35793.555555555555, \"mean\": 347.3333333333333}], [15.7417, {\"count\": 2, \"std\": 120.5, \"min\": 382, \"max\": 623, \"sum\": 1005, \"var\": 14520.25, \"mean\": 502.5}], [15.75, {\"count\": 1, \"std\": 0.0, \"min\": 162, \"max\": 162, \"sum\": 162, \"var\": 0.0, \"mean\": 162.0}], [15.85, {\"count\": 2, \"std\": 28.5, \"min\": 86, \"max\": 143, \"sum\": 229, \"var\": 812.25, \"mean\": 114.5}], [15.9, {\"count\": 2, \"std\": 70.5, \"min\": 349, \"max\": 490, \"sum\": 839, \"var\": 4970.25, \"mean\": 419.5}], [16.0, {\"count\": 1, \"std\": 0.0, \"min\": 16, \"max\": 16, \"sum\": 16, \"var\": 0.0, \"mean\": 16.0}], [16.1, {\"count\": 2, \"std\": 42.0, \"min\": 348, \"max\": 432, \"sum\": 780, \"var\": 1764.0, \"mean\": 390.0}], [16.7, {\"count\": 2, \"std\": 192.0, \"min\": 11, \"max\": 395, \"sum\": 406, \"var\": 36864.0, \"mean\": 203.0}], [17.4, {\"count\": 1, \"std\": 0.0, \"min\": 560, \"max\": 560, \"sum\": 560, \"var\": 0.0, \"mean\": 560.0}], [18.75, {\"count\": 3, \"std\": 193.19305255509462, \"min\": 408, \"max\": 832, \"sum\": 1678, \"var\": 37323.555555555555, \"mean\": 559.3333333333334}], [18.7875, {\"count\": 1, \"std\": 0.0, \"min\": 208, \"max\": 208, \"sum\": 208, \"var\": 0.0, \"mean\": 208.0}], [19.2583, {\"count\": 4, \"std\": 164.8292677287623, \"min\": 449, \"max\": 859, \"sum\": 2423, \"var\": 27168.687499999996, \"mean\": 605.75}], [19.5, {\"count\": 2, \"std\": 87.0, \"min\": 273, \"max\": 447, \"sum\": 720, \"var\": 7569.0, \"mean\": 360.0}], [20.25, {\"count\": 1, \"std\": 0.0, \"min\": 280, \"max\": 280, \"sum\": 280, \"var\": 0.0, \"mean\": 280.0}], [20.525, {\"count\": 2, \"std\": 81.5, \"min\": 166, \"max\": 329, \"sum\": 495, \"var\": 6642.25, \"mean\": 247.5}], [20.575, {\"count\": 1, \"std\": 0.0, \"min\": 789, \"max\": 789, \"sum\": 789, \"var\": 0.0, \"mean\": 789.0}], [21.0, {\"count\": 2, \"std\": 257.5, \"min\": 212, \"max\": 727, \"sum\": 939, \"var\": 66306.25, \"mean\": 469.5}], [22.025, {\"count\": 1, \"std\": 0.0, \"min\": 185, \"max\": 185, \"sum\": 185, \"var\": 0.0, \"mean\": 185.0}], [22.3583, {\"count\": 2, \"std\": 202.5, \"min\": 129, \"max\": 534, \"sum\": 663, \"var\": 41006.25, \"mean\": 331.5}], [23.0, {\"count\": 4, \"std\": 275.38552521873765, \"min\": 99, \"max\": 775, \"sum\": 2277, \"var\": 75837.1875, \"mean\": 569.25}], [23.25, {\"count\": 2, \"std\": 14.5, \"min\": 302, \"max\": 331, \"sum\": 633, \"var\": 210.25, \"mean\": 316.5}], [24.0, {\"count\": 1, \"std\": 0.0, \"min\": 875, \"max\": 875, \"sum\": 875, \"var\": 0.0, \"mean\": 875.0}], [24.15, {\"count\": 1, \"std\": 0.0, \"min\": 110, \"max\": 110, \"sum\": 110, \"var\": 0.0, \"mean\": 110.0}], [25.9292, {\"count\": 2, \"std\": 33.0, \"min\": 797, \"max\": 863, \"sum\": 1660, \"var\": 1089.0, \"mean\": 830.0}], [26.0, {\"count\": 15, \"std\": 196.81537880291097, \"min\": 54, \"max\": 881, \"sum\": 6117, \"var\": 38736.29333333334, \"mean\": 407.8}], [26.25, {\"count\": 4, \"std\": 202.8255099833352, \"min\": 238, \"max\": 802, \"sum\": 2017, \"var\": 41138.1875, \"mean\": 504.25}], [26.2833, {\"count\": 1, \"std\": 0.0, \"min\": 137, \"max\": 137, \"sum\": 137, \"var\": 0.0, \"mean\": 137.0}], [26.2875, {\"count\": 3, \"std\": 90.54280755532159, \"min\": 513, \"max\": 708, \"sum\": 1923, \"var\": 8198.0, \"mean\": 641.0}], [26.3875, {\"count\": 1, \"std\": 0.0, \"min\": 573, \"max\": 573, \"sum\": 573, \"var\": 0.0, \"mean\": 573.0}], [26.55, {\"count\": 8, \"std\": 238.1797837243959, \"min\": 12, \"max\": 858, \"sum\": 3511, \"var\": 56729.60937500001, \"mean\": 438.875}], [27.0, {\"count\": 1, \"std\": 0.0, \"min\": 601, \"max\": 601, \"sum\": 601, \"var\": 0.0, \"mean\": 601.0}], [27.7208, {\"count\": 1, \"std\": 0.0, \"min\": 195, \"max\": 195, \"sum\": 195, \"var\": 0.0, \"mean\": 195.0}], [27.75, {\"count\": 2, \"std\": 207.0, \"min\": 59, \"max\": 473, \"sum\": 532, \"var\": 42849.0, \"mean\": 266.0}], [29.0, {\"count\": 2, \"std\": 122.5, \"min\": 79, \"max\": 324, \"sum\": 403, \"var\": 15006.25, \"mean\": 201.5}], [29.7, {\"count\": 1, \"std\": 0.0, \"min\": 840, \"max\": 840, \"sum\": 840, \"var\": 0.0, \"mean\": 840.0}], [30.0, {\"count\": 5, \"std\": 127.57335144927407, \"min\": 581, \"max\": 890, \"sum\": 3731, \"var\": 16274.959999999997, \"mean\": 746.2}], [30.0708, {\"count\": 1, \"std\": 0.0, \"min\": 10, \"max\": 10, \"sum\": 10, \"var\": 0.0, \"mean\": 10.0}], [30.5, {\"count\": 4, \"std\": 134.37726742273037, \"min\": 299, \"max\": 633, \"sum\": 1990, \"var\": 18057.249999999996, \"mean\": 497.5}], [31.0, {\"count\": 2, \"std\": 316.5, \"min\": 210, \"max\": 843, \"sum\": 1053, \"var\": 100172.25, \"mean\": 526.5}], [31.3875, {\"count\": 3, \"std\": 105.27424503014338, \"min\": 26, \"max\": 262, \"sum\": 522, \"var\": 11082.666666666666, \"mean\": 174.0}], [32.5, {\"count\": 1, \"std\": 0.0, \"min\": 417, \"max\": 417, \"sum\": 417, \"var\": 0.0, \"mean\": 417.0}], [33.0, {\"count\": 2, \"std\": 62.0, \"min\": 597, \"max\": 721, \"sum\": 1318, \"var\": 3844.0, \"mean\": 659.0}], [35.5, {\"count\": 3, \"std\": 286.9115233346723, \"min\": 24, \"max\": 648, \"sum\": 728, \"var\": 82318.22222222222, \"mean\": 242.66666666666666}], [36.75, {\"count\": 1, \"std\": 0.0, \"min\": 550, \"max\": 550, \"sum\": 550, \"var\": 0.0, \"mean\": 550.0}], [37.0042, {\"count\": 1, \"std\": 0.0, \"min\": 828, \"max\": 828, \"sum\": 828, \"var\": 0.0, \"mean\": 828.0}], [39.0, {\"count\": 3, \"std\": 218.3519076068619, \"min\": 184, \"max\": 671, \"sum\": 1474, \"var\": 47677.555555555555, \"mean\": 491.3333333333333}], [39.4, {\"count\": 1, \"std\": 0.0, \"min\": 854, \"max\": 854, \"sum\": 854, \"var\": 0.0, \"mean\": 854.0}], [39.6, {\"count\": 1, \"std\": 0.0, \"min\": 557, \"max\": 557, \"sum\": 557, \"var\": 0.0, \"mean\": 557.0}], [41.5792, {\"count\": 2, \"std\": 282.5, \"min\": 44, \"max\": 609, \"sum\": 653, \"var\": 79806.25, \"mean\": 326.5}], [49.5, {\"count\": 1, \"std\": 0.0, \"min\": 540, \"max\": 540, \"sum\": 540, \"var\": 0.0, \"mean\": 540.0}], [49.5042, {\"count\": 1, \"std\": 0.0, \"min\": 711, \"max\": 711, \"sum\": 711, \"var\": 0.0, \"mean\": 711.0}], [51.4792, {\"count\": 1, \"std\": 0.0, \"min\": 572, \"max\": 572, \"sum\": 572, \"var\": 0.0, \"mean\": 572.0}], [51.8625, {\"count\": 1, \"std\": 0.0, \"min\": 458, \"max\": 458, \"sum\": 458, \"var\": 0.0, \"mean\": 458.0}], [52.0, {\"count\": 3, \"std\": 146.01598086054372, \"min\": 384, \"max\": 713, \"sum\": 1767, \"var\": 21320.666666666668, \"mean\": 589.0}], [52.5542, {\"count\": 3, \"std\": 255.98567668263524, \"min\": 249, \"max\": 872, \"sum\": 1743, \"var\": 65528.666666666664, \"mean\": 581.0}], [53.1, {\"count\": 3, \"std\": 361.5863198002196, \"min\": 4, \"max\": 810, \"sum\": 1539, \"var\": 130744.66666666667, \"mean\": 513.0}], [55.0, {\"count\": 2, \"std\": 95.0, \"min\": 167, \"max\": 357, \"sum\": 524, \"var\": 9025.0, \"mean\": 262.0}], [55.4417, {\"count\": 1, \"std\": 0.0, \"min\": 371, \"max\": 371, \"sum\": 371, \"var\": 0.0, \"mean\": 371.0}], [55.9, {\"count\": 1, \"std\": 0.0, \"min\": 578, \"max\": 578, \"sum\": 578, \"var\": 0.0, \"mean\": 578.0}], [56.4958, {\"count\": 5, \"std\": 260.77070387602976, \"min\": 75, \"max\": 839, \"sum\": 2761, \"var\": 68001.36, \"mean\": 552.2}], [56.9292, {\"count\": 2, \"std\": 145.0, \"min\": 310, \"max\": 600, \"sum\": 910, \"var\": 21025.0, \"mean\": 455.0}], [57.0, {\"count\": 2, \"std\": 45.5, \"min\": 691, \"max\": 782, \"sum\": 1473, \"var\": 2070.25, \"mean\": 736.5}], [57.9792, {\"count\": 2, \"std\": 97.0, \"min\": 330, \"max\": 524, \"sum\": 854, \"var\": 9409.0, \"mean\": 427.0}], [59.4, {\"count\": 1, \"std\": 0.0, \"min\": 514, \"max\": 514, \"sum\": 514, \"var\": 0.0, \"mean\": 514.0}], [63.3583, {\"count\": 1, \"std\": 0.0, \"min\": 98, \"max\": 98, \"sum\": 98, \"var\": 0.0, \"mean\": 98.0}], [65.0, {\"count\": 2, \"std\": 69.5, \"min\": 616, \"max\": 755, \"sum\": 1371, \"var\": 4830.25, \"mean\": 685.5}], [66.6, {\"count\": 1, \"std\": 0.0, \"min\": 152, \"max\": 152, \"sum\": 152, \"var\": 0.0, \"mean\": 152.0}], [69.3, {\"count\": 2, \"std\": 136.0, \"min\": 370, \"max\": 642, \"sum\": 1012, \"var\": 18496.0, \"mean\": 506.0}], [71.0, {\"count\": 1, \"std\": 0.0, \"min\": 541, \"max\": 541, \"sum\": 541, \"var\": 0.0, \"mean\": 541.0}], [71.2833, {\"count\": 1, \"std\": 0.0, \"min\": 2, \"max\": 2, \"sum\": 2, \"var\": 0.0, \"mean\": 2.0}], [75.25, {\"count\": 1, \"std\": 0.0, \"min\": 367, \"max\": 367, \"sum\": 367, \"var\": 0.0, \"mean\": 367.0}], [76.2917, {\"count\": 1, \"std\": 0.0, \"min\": 219, \"max\": 219, \"sum\": 219, \"var\": 0.0, \"mean\": 219.0}], [76.7292, {\"count\": 3, \"std\": 288.4028817855713, \"min\": 53, \"max\": 682, \"sum\": 1381, \"var\": 83176.22222222222, \"mean\": 460.3333333333333}], [77.9583, {\"count\": 3, \"std\": 206.30290567243324, \"min\": 276, \"max\": 766, \"sum\": 1670, \"var\": 42560.88888888889, \"mean\": 556.6666666666666}], [78.2667, {\"count\": 2, \"std\": 47.5, \"min\": 497, \"max\": 592, \"sum\": 1089, \"var\": 2256.25, \"mean\": 544.5}], [78.85, {\"count\": 1, \"std\": 0.0, \"min\": 291, \"max\": 291, \"sum\": 291, \"var\": 0.0, \"mean\": 291.0}], [79.2, {\"count\": 2, \"std\": 165.5, \"min\": 257, \"max\": 588, \"sum\": 845, \"var\": 27390.25, \"mean\": 422.5}], [79.65, {\"count\": 2, \"std\": 13.5, \"min\": 559, \"max\": 586, \"sum\": 1145, \"var\": 182.25, \"mean\": 572.5}], [80.0, {\"count\": 2, \"std\": 384.0, \"min\": 62, \"max\": 830, \"sum\": 892, \"var\": 147456.0, \"mean\": 446.0}], [81.8583, {\"count\": 1, \"std\": 0.0, \"min\": 446, \"max\": 446, \"sum\": 446, \"var\": 0.0, \"mean\": 446.0}], [82.1708, {\"count\": 1, \"std\": 0.0, \"min\": 376, \"max\": 376, \"sum\": 376, \"var\": 0.0, \"mean\": 376.0}], [83.1583, {\"count\": 3, \"std\": 258.48318234569064, \"min\": 311, \"max\": 880, \"sum\": 2027, \"var\": 66813.55555555555, \"mean\": 675.6666666666666}], [83.475, {\"count\": 1, \"std\": 0.0, \"min\": 231, \"max\": 231, \"sum\": 231, \"var\": 0.0, \"mean\": 231.0}], [86.5, {\"count\": 3, \"std\": 204.9493162277499, \"min\": 258, \"max\": 760, \"sum\": 1523, \"var\": 42004.222222222226, \"mean\": 507.6666666666667}], [89.1042, {\"count\": 2, \"std\": 198.0, \"min\": 454, \"max\": 850, \"sum\": 1304, \"var\": 39204.0, \"mean\": 652.0}], [90.0, {\"count\": 3, \"std\": 110.28448062473099, \"min\": 225, \"max\": 487, \"sum\": 1125, \"var\": 12162.666666666666, \"mean\": 375.0}], [91.0792, {\"count\": 2, \"std\": 96.5, \"min\": 292, \"max\": 485, \"sum\": 777, \"var\": 9312.25, \"mean\": 388.5}], [93.5, {\"count\": 2, \"std\": 150.0, \"min\": 521, \"max\": 821, \"sum\": 1342, \"var\": 22500.0, \"mean\": 671.0}], [106.425, {\"count\": 1, \"std\": 0.0, \"min\": 538, \"max\": 538, \"sum\": 538, \"var\": 0.0, \"mean\": 538.0}], [108.9, {\"count\": 1, \"std\": 0.0, \"min\": 308, \"max\": 308, \"sum\": 308, \"var\": 0.0, \"mean\": 308.0}], [110.8833, {\"count\": 3, \"std\": 122.98238356230809, \"min\": 307, \"max\": 582, \"sum\": 1440, \"var\": 15124.666666666666, \"mean\": 480.0}], [113.275, {\"count\": 2, \"std\": 89.0, \"min\": 216, \"max\": 394, \"sum\": 610, \"var\": 7921.0, \"mean\": 305.0}], [120.0, {\"count\": 4, \"std\": 186.19411913376857, \"min\": 391, \"max\": 803, \"sum\": 2394, \"var\": 34668.25, \"mean\": 598.5}], [133.65, {\"count\": 2, \"std\": 163.0, \"min\": 335, \"max\": 661, \"sum\": 996, \"var\": 26569.0, \"mean\": 498.0}], [134.5, {\"count\": 2, \"std\": 9.0, \"min\": 320, \"max\": 338, \"sum\": 658, \"var\": 81.0, \"mean\": 329.0}], [135.6333, {\"count\": 2, \"std\": 28.0, \"min\": 270, \"max\": 326, \"sum\": 596, \"var\": 784.0, \"mean\": 298.0}], [146.5208, {\"count\": 2, \"std\": 82.0, \"min\": 32, \"max\": 196, \"sum\": 228, \"var\": 6724.0, \"mean\": 114.0}], [151.55, {\"count\": 2, \"std\": 201.5, \"min\": 306, \"max\": 709, \"sum\": 1015, \"var\": 40602.25, \"mean\": 507.5}], [153.4625, {\"count\": 2, \"std\": 170.5, \"min\": 269, \"max\": 610, \"sum\": 879, \"var\": 29070.25, \"mean\": 439.5}], [164.8667, {\"count\": 2, \"std\": 269.0, \"min\": 319, \"max\": 857, \"sum\": 1176, \"var\": 72361.0, \"mean\": 588.0}], [211.3375, {\"count\": 3, \"std\": 36.79069930778098, \"min\": 690, \"max\": 780, \"sum\": 2201, \"var\": 1353.5555555555563, \"mean\": 733.6666666666666}], [227.525, {\"count\": 3, \"std\": 154.75859337116702, \"min\": 381, \"max\": 717, \"sum\": 1799, \"var\": 23950.222222222223, \"mean\": 599.6666666666666}], [247.5208, {\"count\": 1, \"std\": 0.0, \"min\": 300, \"max\": 300, \"sum\": 300, \"var\": 0.0, \"mean\": 300.0}], [262.375, {\"count\": 2, \"std\": 215.5, \"min\": 312, \"max\": 743, \"sum\": 1055, \"var\": 46440.25, \"mean\": 527.5}], [263.0, {\"count\": 2, \"std\": 126.5, \"min\": 89, \"max\": 342, \"sum\": 431, \"var\": 16002.25, \"mean\": 215.5}], [512.3292, {\"count\": 3, \"std\": 213.4494475670215, \"min\": 259, \"max\": 738, \"sum\": 1677, \"var\": 45560.666666666664, \"mean\": 559.0}]], \"omitted\": 0}, \"columns\": [{\"dtype\": \"int\", \"name\": \"PassengerId\"}, {\"dtype\": \"int\", \"name\": \"Survived\"}, {\"dtype\": \"int\", \"name\": \"Pclass\"}, {\"dtype\": \"str\", \"name\": \"Name\"}, {\"dtype\": \"str\", \"name\": \"Sex\"}, {\"dtype\": \"float\", \"name\": \"Age\"}, {\"dtype\": \"int\", \"name\": \"SibSp\"}, {\"dtype\": \"int\", \"name\": \"Parch\"}, {\"dtype\": \"str\", \"name\": \"Ticket\"}, {\"dtype\": \"float\", \"name\": \"Fare\"}, {\"dtype\": \"str\", \"name\": \"Cabin\"}, {\"dtype\": \"str\", \"name\": \"Embarked\"}]}, e);\n",
       "                });\n",
       "            })();\n",
       "        "
      ]
     },
     "metadata": {},
     "output_type": "display_data"
    },
    {
     "data": {
      "application/javascript": [
       "$(\"head\").append($(\"<link/>\").attr({\n",
       "  rel:  \"stylesheet\",\n",
       "  type: \"text/css\",\n",
       "  href: \"//cdnjs.cloudflare.com/ajax/libs/font-awesome/4.1.0/css/font-awesome.min.css\"\n",
       "}));\n",
       "$(\"head\").append($(\"<link/>\").attr({\n",
       "  rel:  \"stylesheet\",\n",
       "  type: \"text/css\",\n",
       "  href: \"https://static.turi.com/products/graphlab-create/2.1/canvas/css/canvas.css\"\n",
       "}));\n",
       "\n",
       "            (function(){\n",
       "\n",
       "                var e = null;\n",
       "                if (typeof element == 'undefined') {\n",
       "                    var scripts = document.getElementsByTagName('script');\n",
       "                    var thisScriptTag = scripts[scripts.length-1];\n",
       "                    var parentDiv = thisScriptTag.parentNode;\n",
       "                    e = document.createElement('div');\n",
       "                    parentDiv.appendChild(e);\n",
       "                } else {\n",
       "                    e = element[0];\n",
       "                }\n",
       "\n",
       "                if (typeof requirejs !== 'undefined') {\n",
       "                    // disable load timeout; ipython_app.js is large and can take a while to load.\n",
       "                    requirejs.config({waitSeconds: 0});\n",
       "                }\n",
       "\n",
       "                require(['https://static.turi.com/products/graphlab-create/2.1/canvas/js/ipython_app.js'], function(IPythonApp){\n",
       "                    var app = new IPythonApp();\n",
       "                    app.attachView('sframe','Plots', {\"selected_variable\": {\"name\": [\"<SFrame>\"], \"descriptives\": {\"rows\": 342, \"columns\": 12}, \"view_component\": \"Plots\", \"view_file\": \"sframe\", \"view_params\": {\"y\": \"PassengerId\", \"x\": \"Cabin\", \"columns\": [\"PassengerId\", \"Survived\", \"Pclass\", \"Name\", \"Sex\", \"Age\", \"SibSp\", \"Parch\", \"Ticket\", \"Fare\", \"Cabin\", \"Embarked\"], \"view\": \"Bar Chart\"}, \"view_components\": [\"Summary\", \"Table\", \"Bar Chart\", \"BoxWhisker Plot\", \"Line Chart\", \"Scatter Plot\", \"Heat Map\", \"Plots\"], \"type\": \"SFrame\", \"columns\": [{\"dtype\": \"int\", \"name\": \"PassengerId\"}, {\"dtype\": \"int\", \"name\": \"Survived\"}, {\"dtype\": \"int\", \"name\": \"Pclass\"}, {\"dtype\": \"str\", \"name\": \"Name\"}, {\"dtype\": \"str\", \"name\": \"Sex\"}, {\"dtype\": \"float\", \"name\": \"Age\"}, {\"dtype\": \"int\", \"name\": \"SibSp\"}, {\"dtype\": \"int\", \"name\": \"Parch\"}, {\"dtype\": \"str\", \"name\": \"Ticket\"}, {\"dtype\": \"float\", \"name\": \"Fare\"}, {\"dtype\": \"str\", \"name\": \"Cabin\"}, {\"dtype\": \"str\", \"name\": \"Embarked\"}], \"column_identifiers\": [\"Fare\", \"Name\", \"Embarked\", \"Age\", \"Parch\", \"Pclass\", \"Sex\", \"Survived\", \"SibSp\", \"PassengerId\", \"Ticket\", \"Cabin\"]}, \"complete\": 1, \"ipython\": true, \"progress\": 1.0, \"data\": {\"grouped\": [[\"\", {\"count\": 206, \"std\": 252.03888604761113, \"min\": 3, \"max\": 881, \"sum\": 87383, \"var\": 63523.600080120705, \"mean\": 424.18932038834964}], [\"A16\", {\"count\": 1, \"std\": 0.0, \"min\": 557, \"max\": 557, \"sum\": 557, \"var\": 0.0, \"mean\": 557.0}], [\"A20\", {\"count\": 1, \"std\": 0.0, \"min\": 600, \"max\": 600, \"sum\": 600, \"var\": 0.0, \"mean\": 600.0}], [\"A23\", {\"count\": 1, \"std\": 0.0, \"min\": 631, \"max\": 631, \"sum\": 631, \"var\": 0.0, \"mean\": 631.0}], [\"A26\", {\"count\": 1, \"std\": 0.0, \"min\": 648, \"max\": 648, \"sum\": 648, \"var\": 0.0, \"mean\": 648.0}], [\"A31\", {\"count\": 1, \"std\": 0.0, \"min\": 210, \"max\": 210, \"sum\": 210, \"var\": 0.0, \"mean\": 210.0}], [\"A34\", {\"count\": 1, \"std\": 0.0, \"min\": 446, \"max\": 446, \"sum\": 446, \"var\": 0.0, \"mean\": 446.0}], [\"A6\", {\"count\": 1, \"std\": 0.0, \"min\": 24, \"max\": 24, \"sum\": 24, \"var\": 0.0, \"mean\": 24.0}], [\"B101\", {\"count\": 1, \"std\": 0.0, \"min\": 738, \"max\": 738, \"sum\": 738, \"var\": 0.0, \"mean\": 738.0}], [\"B18\", {\"count\": 2, \"std\": 97.0, \"min\": 330, \"max\": 524, \"sum\": 854, \"var\": 9409.0, \"mean\": 427.0}], [\"B20\", {\"count\": 2, \"std\": 45.5, \"min\": 691, \"max\": 782, \"sum\": 1473, \"var\": 2070.25, \"mean\": 736.5}], [\"B22\", {\"count\": 1, \"std\": 0.0, \"min\": 541, \"max\": 541, \"sum\": 541, \"var\": 0.0, \"mean\": 541.0}], [\"B28\", {\"count\": 2, \"std\": 384.0, \"min\": 62, \"max\": 830, \"sum\": 892, \"var\": 147456.0, \"mean\": 446.0}], [\"B3\", {\"count\": 1, \"std\": 0.0, \"min\": 780, \"max\": 780, \"sum\": 780, \"var\": 0.0, \"mean\": 780.0}], [\"B35\", {\"count\": 2, \"std\": 136.0, \"min\": 370, \"max\": 642, \"sum\": 1012, \"var\": 18496.0, \"mean\": 506.0}], [\"B39\", {\"count\": 1, \"std\": 0.0, \"min\": 540, \"max\": 540, \"sum\": 540, \"var\": 0.0, \"mean\": 540.0}], [\"B4\", {\"count\": 1, \"std\": 0.0, \"min\": 195, \"max\": 195, \"sum\": 195, \"var\": 0.0, \"mean\": 195.0}], [\"B41\", {\"count\": 1, \"std\": 0.0, \"min\": 588, \"max\": 588, \"sum\": 588, \"var\": 0.0, \"mean\": 588.0}], [\"B42\", {\"count\": 1, \"std\": 0.0, \"min\": 888, \"max\": 888, \"sum\": 888, \"var\": 0.0, \"mean\": 888.0}], [\"B49\", {\"count\": 2, \"std\": 96.5, \"min\": 292, \"max\": 485, \"sum\": 777, \"var\": 9312.25, \"mean\": 388.5}], [\"B5\", {\"count\": 2, \"std\": 20.5, \"min\": 690, \"max\": 731, \"sum\": 1421, \"var\": 420.25, \"mean\": 710.5}], [\"B50\", {\"count\": 1, \"std\": 0.0, \"min\": 633, \"max\": 633, \"sum\": 633, \"var\": 0.0, \"mean\": 633.0}], [\"B51 B53 B55\", {\"count\": 1, \"std\": 0.0, \"min\": 680, \"max\": 680, \"sum\": 680, \"var\": 0.0, \"mean\": 680.0}], [\"B57 B59 B63 B66\", {\"count\": 2, \"std\": 215.5, \"min\": 312, \"max\": 743, \"sum\": 1055, \"var\": 46440.25, \"mean\": 527.5}], [\"B58 B60\", {\"count\": 1, \"std\": 0.0, \"min\": 300, \"max\": 300, \"sum\": 300, \"var\": 0.0, \"mean\": 300.0}], [\"B69\", {\"count\": 1, \"std\": 0.0, \"min\": 821, \"max\": 821, \"sum\": 821, \"var\": 0.0, \"mean\": 821.0}], [\"B73\", {\"count\": 1, \"std\": 0.0, \"min\": 521, \"max\": 521, \"sum\": 521, \"var\": 0.0, \"mean\": 521.0}], [\"B77\", {\"count\": 2, \"std\": 251.0, \"min\": 258, \"max\": 760, \"sum\": 1018, \"var\": 63001.0, \"mean\": 509.0}], [\"B78\", {\"count\": 1, \"std\": 0.0, \"min\": 32, \"max\": 32, \"sum\": 32, \"var\": 0.0, \"mean\": 32.0}], [\"B79\", {\"count\": 1, \"std\": 0.0, \"min\": 505, \"max\": 505, \"sum\": 505, \"var\": 0.0, \"mean\": 505.0}], [\"B80\", {\"count\": 1, \"std\": 0.0, \"min\": 196, \"max\": 196, \"sum\": 196, \"var\": 0.0, \"mean\": 196.0}], [\"B96 B98\", {\"count\": 4, \"std\": 186.19411913376857, \"min\": 391, \"max\": 803, \"sum\": 2394, \"var\": 34668.25, \"mean\": 598.5}], [\"C101\", {\"count\": 1, \"std\": 0.0, \"min\": 572, \"max\": 572, \"sum\": 572, \"var\": 0.0, \"mean\": 572.0}], [\"C103\", {\"count\": 1, \"std\": 0.0, \"min\": 12, \"max\": 12, \"sum\": 12, \"var\": 0.0, \"mean\": 12.0}], [\"C104\", {\"count\": 1, \"std\": 0.0, \"min\": 450, \"max\": 450, \"sum\": 450, \"var\": 0.0, \"mean\": 450.0}], [\"C106\", {\"count\": 1, \"std\": 0.0, \"min\": 299, \"max\": 299, \"sum\": 299, \"var\": 0.0, \"mean\": 299.0}], [\"C123\", {\"count\": 1, \"std\": 0.0, \"min\": 4, \"max\": 4, \"sum\": 4, \"var\": 0.0, \"mean\": 4.0}], [\"C125\", {\"count\": 2, \"std\": 170.5, \"min\": 269, \"max\": 610, \"sum\": 879, \"var\": 29070.25, \"mean\": 439.5}], [\"C126\", {\"count\": 2, \"std\": 21.5, \"min\": 670, \"max\": 713, \"sum\": 1383, \"var\": 462.25, \"mean\": 691.5}], [\"C148\", {\"count\": 1, \"std\": 0.0, \"min\": 890, \"max\": 890, \"sum\": 890, \"var\": 0.0, \"mean\": 890.0}], [\"C2\", {\"count\": 1, \"std\": 0.0, \"min\": 152, \"max\": 152, \"sum\": 152, \"var\": 0.0, \"mean\": 152.0}], [\"C22 C26\", {\"count\": 1, \"std\": 0.0, \"min\": 306, \"max\": 306, \"sum\": 306, \"var\": 0.0, \"mean\": 306.0}], [\"C23 C25 C27\", {\"count\": 2, \"std\": 126.5, \"min\": 89, \"max\": 342, \"sum\": 431, \"var\": 16002.25, \"mean\": 215.5}], [\"C32\", {\"count\": 1, \"std\": 0.0, \"min\": 326, \"max\": 326, \"sum\": 326, \"var\": 0.0, \"mean\": 326.0}], [\"C45\", {\"count\": 1, \"std\": 0.0, \"min\": 717, \"max\": 717, \"sum\": 717, \"var\": 0.0, \"mean\": 717.0}], [\"C47\", {\"count\": 1, \"std\": 0.0, \"min\": 840, \"max\": 840, \"sum\": 840, \"var\": 0.0, \"mean\": 840.0}], [\"C50\", {\"count\": 1, \"std\": 0.0, \"min\": 880, \"max\": 880, \"sum\": 880, \"var\": 0.0, \"mean\": 880.0}], [\"C52\", {\"count\": 2, \"std\": 187.5, \"min\": 56, \"max\": 431, \"sum\": 487, \"var\": 35156.25, \"mean\": 243.5}], [\"C54\", {\"count\": 1, \"std\": 0.0, \"min\": 311, \"max\": 311, \"sum\": 311, \"var\": 0.0, \"mean\": 311.0}], [\"C62 C64\", {\"count\": 1, \"std\": 0.0, \"min\": 701, \"max\": 701, \"sum\": 701, \"var\": 0.0, \"mean\": 701.0}], [\"C65\", {\"count\": 1, \"std\": 0.0, \"min\": 308, \"max\": 308, \"sum\": 308, \"var\": 0.0, \"mean\": 308.0}], [\"C68\", {\"count\": 1, \"std\": 0.0, \"min\": 582, \"max\": 582, \"sum\": 582, \"var\": 0.0, \"mean\": 582.0}], [\"C7\", {\"count\": 1, \"std\": 0.0, \"min\": 319, \"max\": 319, \"sum\": 319, \"var\": 0.0, \"mean\": 319.0}], [\"C70\", {\"count\": 1, \"std\": 0.0, \"min\": 551, \"max\": 551, \"sum\": 551, \"var\": 0.0, \"mean\": 551.0}], [\"C78\", {\"count\": 1, \"std\": 0.0, \"min\": 413, \"max\": 413, \"sum\": 413, \"var\": 0.0, \"mean\": 413.0}], [\"C83\", {\"count\": 1, \"std\": 0.0, \"min\": 231, \"max\": 231, \"sum\": 231, \"var\": 0.0, \"mean\": 231.0}], [\"C85\", {\"count\": 1, \"std\": 0.0, \"min\": 2, \"max\": 2, \"sum\": 2, \"var\": 0.0, \"mean\": 2.0}], [\"C90\", {\"count\": 1, \"std\": 0.0, \"min\": 711, \"max\": 711, \"sum\": 711, \"var\": 0.0, \"mean\": 711.0}], [\"C92\", {\"count\": 2, \"std\": 198.0, \"min\": 454, \"max\": 850, \"sum\": 1304, \"var\": 39204.0, \"mean\": 652.0}], [\"C93\", {\"count\": 2, \"std\": 131.0, \"min\": 225, \"max\": 487, \"sum\": 712, \"var\": 17161.0, \"mean\": 356.0}], [\"C99\", {\"count\": 1, \"std\": 0.0, \"min\": 270, \"max\": 270, \"sum\": 270, \"var\": 0.0, \"mean\": 270.0}], [\"D\", {\"count\": 2, \"std\": 73.0, \"min\": 328, \"max\": 474, \"sum\": 802, \"var\": 5329.0, \"mean\": 401.0}], [\"D10 D12\", {\"count\": 1, \"std\": 0.0, \"min\": 98, \"max\": 98, \"sum\": 98, \"var\": 0.0, \"mean\": 98.0}], [\"D11\", {\"count\": 1, \"std\": 0.0, \"min\": 766, \"max\": 766, \"sum\": 766, \"var\": 0.0, \"mean\": 766.0}], [\"D15\", {\"count\": 1, \"std\": 0.0, \"min\": 219, \"max\": 219, \"sum\": 219, \"var\": 0.0, \"mean\": 219.0}], [\"D17\", {\"count\": 2, \"std\": 33.0, \"min\": 797, \"max\": 863, \"sum\": 1660, \"var\": 1089.0, \"mean\": 830.0}], [\"D19\", {\"count\": 1, \"std\": 0.0, \"min\": 622, \"max\": 622, \"sum\": 622, \"var\": 0.0, \"mean\": 622.0}], [\"D20\", {\"count\": 2, \"std\": 47.5, \"min\": 497, \"max\": 592, \"sum\": 1089, \"var\": 2256.25, \"mean\": 544.5}], [\"D21\", {\"count\": 1, \"std\": 0.0, \"min\": 458, \"max\": 458, \"sum\": 458, \"var\": 0.0, \"mean\": 458.0}], [\"D28\", {\"count\": 1, \"std\": 0.0, \"min\": 854, \"max\": 854, \"sum\": 854, \"var\": 0.0, \"mean\": 854.0}], [\"D33\", {\"count\": 2, \"std\": 296.5, \"min\": 53, \"max\": 646, \"sum\": 699, \"var\": 87912.25, \"mean\": 349.5}], [\"D35\", {\"count\": 2, \"std\": 311.5, \"min\": 249, \"max\": 872, \"sum\": 1121, \"var\": 97032.25, \"mean\": 560.5}], [\"D36\", {\"count\": 2, \"std\": 89.0, \"min\": 216, \"max\": 394, \"sum\": 610, \"var\": 7921.0, \"mean\": 305.0}], [\"D37\", {\"count\": 1, \"std\": 0.0, \"min\": 367, \"max\": 367, \"sum\": 367, \"var\": 0.0, \"mean\": 367.0}], [\"D45\", {\"count\": 1, \"std\": 0.0, \"min\": 741, \"max\": 741, \"sum\": 741, \"var\": 0.0, \"mean\": 741.0}], [\"D47\", {\"count\": 1, \"std\": 0.0, \"min\": 137, \"max\": 137, \"sum\": 137, \"var\": 0.0, \"mean\": 137.0}], [\"D49\", {\"count\": 1, \"std\": 0.0, \"min\": 682, \"max\": 682, \"sum\": 682, \"var\": 0.0, \"mean\": 682.0}], [\"D56\", {\"count\": 1, \"std\": 0.0, \"min\": 22, \"max\": 22, \"sum\": 22, \"var\": 0.0, \"mean\": 22.0}], [\"D7\", {\"count\": 1, \"std\": 0.0, \"min\": 276, \"max\": 276, \"sum\": 276, \"var\": 0.0, \"mean\": 276.0}], [\"D9\", {\"count\": 1, \"std\": 0.0, \"min\": 628, \"max\": 628, \"sum\": 628, \"var\": 0.0, \"mean\": 628.0}], [\"E10\", {\"count\": 1, \"std\": 0.0, \"min\": 430, \"max\": 430, \"sum\": 430, \"var\": 0.0, \"mean\": 430.0}], [\"E101\", {\"count\": 3, \"std\": 248.69258131275248, \"min\": 124, \"max\": 718, \"sum\": 1146, \"var\": 61848.0, \"mean\": 382.0}], [\"E12\", {\"count\": 1, \"std\": 0.0, \"min\": 461, \"max\": 461, \"sum\": 461, \"var\": 0.0, \"mean\": 461.0}], [\"E121\", {\"count\": 2, \"std\": 36.0, \"min\": 752, \"max\": 824, \"sum\": 1576, \"var\": 1296.0, \"mean\": 788.0}], [\"E17\", {\"count\": 1, \"std\": 0.0, \"min\": 858, \"max\": 858, \"sum\": 858, \"var\": 0.0, \"mean\": 858.0}], [\"E24\", {\"count\": 2, \"std\": 3.0, \"min\": 702, \"max\": 708, \"sum\": 1410, \"var\": 9.0, \"mean\": 705.0}], [\"E25\", {\"count\": 2, \"std\": 30.0, \"min\": 513, \"max\": 573, \"sum\": 1086, \"var\": 900.0, \"mean\": 543.0}], [\"E33\", {\"count\": 2, \"std\": 95.0, \"min\": 167, \"max\": 357, \"sum\": 524, \"var\": 9025.0, \"mean\": 262.0}], [\"E34\", {\"count\": 1, \"std\": 0.0, \"min\": 320, \"max\": 320, \"sum\": 320, \"var\": 0.0, \"mean\": 320.0}], [\"E36\", {\"count\": 1, \"std\": 0.0, \"min\": 310, \"max\": 310, \"sum\": 310, \"var\": 0.0, \"mean\": 310.0}], [\"E40\", {\"count\": 1, \"std\": 0.0, \"min\": 338, \"max\": 338, \"sum\": 338, \"var\": 0.0, \"mean\": 338.0}], [\"E44\", {\"count\": 1, \"std\": 0.0, \"min\": 578, \"max\": 578, \"sum\": 578, \"var\": 0.0, \"mean\": 578.0}], [\"E49\", {\"count\": 1, \"std\": 0.0, \"min\": 836, \"max\": 836, \"sum\": 836, \"var\": 0.0, \"mean\": 836.0}], [\"E50\", {\"count\": 1, \"std\": 0.0, \"min\": 371, \"max\": 371, \"sum\": 371, \"var\": 0.0, \"mean\": 371.0}], [\"E67\", {\"count\": 1, \"std\": 0.0, \"min\": 559, \"max\": 559, \"sum\": 559, \"var\": 0.0, \"mean\": 559.0}], [\"E68\", {\"count\": 1, \"std\": 0.0, \"min\": 586, \"max\": 586, \"sum\": 586, \"var\": 0.0, \"mean\": 586.0}], [\"E8\", {\"count\": 2, \"std\": 42.5, \"min\": 725, \"max\": 810, \"sum\": 1535, \"var\": 1806.25, \"mean\": 767.5}], [\"F E69\", {\"count\": 1, \"std\": 0.0, \"min\": 129, \"max\": 129, \"sum\": 129, \"var\": 0.0, \"mean\": 129.0}], [\"F2\", {\"count\": 2, \"std\": 73.5, \"min\": 194, \"max\": 341, \"sum\": 535, \"var\": 5402.25, \"mean\": 267.5}], [\"F33\", {\"count\": 3, \"std\": 185.4669781928848, \"min\": 67, \"max\": 517, \"sum\": 930, \"var\": 34398.0, \"mean\": 310.0}], [\"F4\", {\"count\": 2, \"std\": 217.5, \"min\": 184, \"max\": 619, \"sum\": 803, \"var\": 47306.25, \"mean\": 401.5}], [\"G6\", {\"count\": 2, \"std\": 192.0, \"min\": 11, \"max\": 395, \"sum\": 406, \"var\": 36864.0, \"mean\": 203.0}]], \"omitted\": 0}, \"columns\": [{\"dtype\": \"int\", \"name\": \"PassengerId\"}, {\"dtype\": \"int\", \"name\": \"Survived\"}, {\"dtype\": \"int\", \"name\": \"Pclass\"}, {\"dtype\": \"str\", \"name\": \"Name\"}, {\"dtype\": \"str\", \"name\": \"Sex\"}, {\"dtype\": \"float\", \"name\": \"Age\"}, {\"dtype\": \"int\", \"name\": \"SibSp\"}, {\"dtype\": \"int\", \"name\": \"Parch\"}, {\"dtype\": \"str\", \"name\": \"Ticket\"}, {\"dtype\": \"float\", \"name\": \"Fare\"}, {\"dtype\": \"str\", \"name\": \"Cabin\"}, {\"dtype\": \"str\", \"name\": \"Embarked\"}]}, e);\n",
       "                });\n",
       "            })();\n",
       "        "
      ]
     },
     "metadata": {},
     "output_type": "display_data"
    },
    {
     "data": {
      "application/javascript": [
       "$(\"head\").append($(\"<link/>\").attr({\n",
       "  rel:  \"stylesheet\",\n",
       "  type: \"text/css\",\n",
       "  href: \"//cdnjs.cloudflare.com/ajax/libs/font-awesome/4.1.0/css/font-awesome.min.css\"\n",
       "}));\n",
       "$(\"head\").append($(\"<link/>\").attr({\n",
       "  rel:  \"stylesheet\",\n",
       "  type: \"text/css\",\n",
       "  href: \"https://static.turi.com/products/graphlab-create/2.1/canvas/css/canvas.css\"\n",
       "}));\n",
       "\n",
       "            (function(){\n",
       "\n",
       "                var e = null;\n",
       "                if (typeof element == 'undefined') {\n",
       "                    var scripts = document.getElementsByTagName('script');\n",
       "                    var thisScriptTag = scripts[scripts.length-1];\n",
       "                    var parentDiv = thisScriptTag.parentNode;\n",
       "                    e = document.createElement('div');\n",
       "                    parentDiv.appendChild(e);\n",
       "                } else {\n",
       "                    e = element[0];\n",
       "                }\n",
       "\n",
       "                if (typeof requirejs !== 'undefined') {\n",
       "                    // disable load timeout; ipython_app.js is large and can take a while to load.\n",
       "                    requirejs.config({waitSeconds: 0});\n",
       "                }\n",
       "\n",
       "                require(['https://static.turi.com/products/graphlab-create/2.1/canvas/js/ipython_app.js'], function(IPythonApp){\n",
       "                    var app = new IPythonApp();\n",
       "                    app.attachView('sframe','Plots', {\"selected_variable\": {\"name\": [\"<SFrame>\"], \"descriptives\": {\"rows\": 342, \"columns\": 12}, \"view_component\": \"Plots\", \"view_file\": \"sframe\", \"view_params\": {\"y\": \"PassengerId\", \"x\": \"Embarked\", \"columns\": [\"PassengerId\", \"Survived\", \"Pclass\", \"Name\", \"Sex\", \"Age\", \"SibSp\", \"Parch\", \"Ticket\", \"Fare\", \"Cabin\", \"Embarked\"], \"view\": \"Bar Chart\"}, \"view_components\": [\"Summary\", \"Table\", \"Bar Chart\", \"BoxWhisker Plot\", \"Line Chart\", \"Scatter Plot\", \"Heat Map\", \"Plots\"], \"type\": \"SFrame\", \"columns\": [{\"dtype\": \"int\", \"name\": \"PassengerId\"}, {\"dtype\": \"int\", \"name\": \"Survived\"}, {\"dtype\": \"int\", \"name\": \"Pclass\"}, {\"dtype\": \"str\", \"name\": \"Name\"}, {\"dtype\": \"str\", \"name\": \"Sex\"}, {\"dtype\": \"float\", \"name\": \"Age\"}, {\"dtype\": \"int\", \"name\": \"SibSp\"}, {\"dtype\": \"int\", \"name\": \"Parch\"}, {\"dtype\": \"str\", \"name\": \"Ticket\"}, {\"dtype\": \"float\", \"name\": \"Fare\"}, {\"dtype\": \"str\", \"name\": \"Cabin\"}, {\"dtype\": \"str\", \"name\": \"Embarked\"}], \"column_identifiers\": [\"Fare\", \"Name\", \"Embarked\", \"Age\", \"Parch\", \"Pclass\", \"Sex\", \"Survived\", \"SibSp\", \"PassengerId\", \"Ticket\", \"Cabin\"]}, \"complete\": 1, \"ipython\": true, \"progress\": 1.0, \"data\": {\"grouped\": [[\"C\", {\"count\": 93, \"std\": 251.97860015910703, \"min\": 2, \"max\": 890, \"sum\": 44081, \"var\": 63493.21493814313, \"mean\": 473.98924731182797}], [\"Q\", {\"count\": 30, \"std\": 221.16652599844807, \"min\": 23, \"max\": 829, \"sum\": 9599, \"var\": 48914.63222222221, \"mean\": 319.96666666666664}], [\"S\", {\"count\": 219, \"std\": 250.97107065414866, \"min\": 3, \"max\": 888, \"sum\": 98294, \"var\": 62986.478305289675, \"mean\": 448.83105022831035}]], \"omitted\": 0}, \"columns\": [{\"dtype\": \"int\", \"name\": \"PassengerId\"}, {\"dtype\": \"int\", \"name\": \"Survived\"}, {\"dtype\": \"int\", \"name\": \"Pclass\"}, {\"dtype\": \"str\", \"name\": \"Name\"}, {\"dtype\": \"str\", \"name\": \"Sex\"}, {\"dtype\": \"float\", \"name\": \"Age\"}, {\"dtype\": \"int\", \"name\": \"SibSp\"}, {\"dtype\": \"int\", \"name\": \"Parch\"}, {\"dtype\": \"str\", \"name\": \"Ticket\"}, {\"dtype\": \"float\", \"name\": \"Fare\"}, {\"dtype\": \"str\", \"name\": \"Cabin\"}, {\"dtype\": \"str\", \"name\": \"Embarked\"}]}, e);\n",
       "                });\n",
       "            })();\n",
       "        "
      ]
     },
     "metadata": {},
     "output_type": "display_data"
    }
   ],
   "source": [
    "full_train_data[full_train_data['Survived']==1].show(view=\"Bar Chart\", x=\"Pclass\")\n",
    "full_train_data[full_train_data['Survived']==1].show(view=\"Bar Chart\", x=\"Sex\")\n",
    "full_train_data[full_train_data['Survived']==1].show(view=\"Bar Chart\", x=\"Age\")\n",
    "full_train_data[full_train_data['Survived']==1].show(view=\"Bar Chart\", x=\"SibSp\")\n",
    "full_train_data[full_train_data['Survived']==1].show(view=\"Bar Chart\", x=\"Parch\")\n",
    "full_train_data[full_train_data['Survived']==1].show(view=\"Bar Chart\", x=\"Ticket\")\n",
    "full_train_data[full_train_data['Survived']==1].show(view=\"Bar Chart\", x=\"Fare\")\n",
    "full_train_data[full_train_data['Survived']==1].show(view=\"Bar Chart\", x=\"Cabin\")\n",
    "full_train_data[full_train_data['Survived']==1].show(view=\"Bar Chart\", x=\"Embarked\")"
   ]
  },
  {
   "cell_type": "code",
   "execution_count": 84,
   "metadata": {},
   "outputs": [
    {
     "data": {
      "application/javascript": [
       "$(\"head\").append($(\"<link/>\").attr({\n",
       "  rel:  \"stylesheet\",\n",
       "  type: \"text/css\",\n",
       "  href: \"//cdnjs.cloudflare.com/ajax/libs/font-awesome/4.1.0/css/font-awesome.min.css\"\n",
       "}));\n",
       "$(\"head\").append($(\"<link/>\").attr({\n",
       "  rel:  \"stylesheet\",\n",
       "  type: \"text/css\",\n",
       "  href: \"https://static.turi.com/products/graphlab-create/2.1/canvas/css/canvas.css\"\n",
       "}));\n",
       "\n",
       "            (function(){\n",
       "\n",
       "                var e = null;\n",
       "                if (typeof element == 'undefined') {\n",
       "                    var scripts = document.getElementsByTagName('script');\n",
       "                    var thisScriptTag = scripts[scripts.length-1];\n",
       "                    var parentDiv = thisScriptTag.parentNode;\n",
       "                    e = document.createElement('div');\n",
       "                    parentDiv.appendChild(e);\n",
       "                } else {\n",
       "                    e = element[0];\n",
       "                }\n",
       "\n",
       "                if (typeof requirejs !== 'undefined') {\n",
       "                    // disable load timeout; ipython_app.js is large and can take a while to load.\n",
       "                    requirejs.config({waitSeconds: 0});\n",
       "                }\n",
       "\n",
       "                require(['https://static.turi.com/products/graphlab-create/2.1/canvas/js/ipython_app.js'], function(IPythonApp){\n",
       "                    var app = new IPythonApp();\n",
       "                    app.attachView('sarray','Numeric', {\"ipython\": true, \"sketch\": {\"std\": 14.516321150817314, \"complete\": true, \"min\": 0.42, \"max\": 80.0, \"quantile\": [0.42, 1.0, 2.0, 2.0, 3.0, 4.0, 5.0, 7.0, 9.0, 11.0, 14.0, 15.0, 16.0, 16.0, 16.0, 17.0, 18.0, 18.0, 18.0, 18.0, 19.0, 19.0, 19.0, 20.0, 20.0, 20.0, 21.0, 21.0, 21.0, 22.0, 22.0, 22.0, 22.0, 23.0, 23.0, 24.0, 24.0, 24.0, 24.0, 25.0, 25.0, 25.0, 25.0, 26.0, 26.0, 27.0, 27.0, 27.0, 28.0, 28.0, 28.0, 29.0, 29.0, 29.0, 30.0, 30.0, 30.0, 30.0, 31.0, 31.0, 32.0, 32.0, 32.0, 33.0, 33.0, 34.0, 34.0, 34.5, 35.0, 35.0, 36.0, 36.0, 36.0, 37.0, 38.0, 38.0, 39.0, 39.0, 40.0, 40.5, 41.0, 42.0, 43.0, 44.0, 45.0, 45.0, 46.0, 47.0, 48.0, 49.0, 50.0, 50.0, 51.0, 54.0, 54.0, 56.0, 58.0, 61.0, 63.0, 66.0, 80.0], \"median\": 28.0, \"numeric\": true, \"num_unique\": 88, \"num_undefined\": 177, \"var\": 210.7235797536661, \"progress\": 1.0, \"size\": 891, \"frequent_items\": {\"28.5\": {\"frequency\": 2, \"value\": 28.5}, \"14.5\": {\"frequency\": 1, \"value\": 14.5}, \"2.0\": {\"frequency\": 10, \"value\": 2.0}, \"3.0\": {\"frequency\": 6, \"value\": 3.0}, \"4.0\": {\"frequency\": 10, \"value\": 4.0}, \"5.0\": {\"frequency\": 4, \"value\": 5.0}, \"70.5\": {\"frequency\": 1, \"value\": 70.5}, \"7.0\": {\"frequency\": 3, \"value\": 7.0}, \"8.0\": {\"frequency\": 4, \"value\": 8.0}, \"9.0\": {\"frequency\": 8, \"value\": 9.0}, \"10.0\": {\"frequency\": 2, \"value\": 10.0}, \"11.0\": {\"frequency\": 4, \"value\": 11.0}, \"12.0\": {\"frequency\": 1, \"value\": 12.0}, \"13.0\": {\"frequency\": 2, \"value\": 13.0}, \"14.0\": {\"frequency\": 6, \"value\": 14.0}, \"15.0\": {\"frequency\": 5, \"value\": 15.0}, \"16.0\": {\"frequency\": 17, \"value\": 16.0}, \"17.0\": {\"frequency\": 13, \"value\": 17.0}, \"18.0\": {\"frequency\": 26, \"value\": 18.0}, \"19.0\": {\"frequency\": 25, \"value\": 19.0}, \"20.0\": {\"frequency\": 15, \"value\": 20.0}, \"21.0\": {\"frequency\": 24, \"value\": 21.0}, \"22.0\": {\"frequency\": 27, \"value\": 22.0}, \"23.0\": {\"frequency\": 15, \"value\": 23.0}, \"24.0\": {\"frequency\": 30, \"value\": 24.0}, \"25.0\": {\"frequency\": 23, \"value\": 25.0}, \"26.0\": {\"frequency\": 18, \"value\": 26.0}, \"27.0\": {\"frequency\": 18, \"value\": 27.0}, \"28.0\": {\"frequency\": 25, \"value\": 28.0}, \"29.0\": {\"frequency\": 20, \"value\": 29.0}, \"30.0\": {\"frequency\": 25, \"value\": 30.0}, \"31.0\": {\"frequency\": 17, \"value\": 31.0}, \"32.0\": {\"frequency\": 18, \"value\": 32.0}, \"33.0\": {\"frequency\": 15, \"value\": 33.0}, \"34.0\": {\"frequency\": 15, \"value\": 34.0}, \"35.0\": {\"frequency\": 18, \"value\": 35.0}, \"1.0\": {\"frequency\": 7, \"value\": 1.0}, \"37.0\": {\"frequency\": 6, \"value\": 37.0}, \"38.0\": {\"frequency\": 11, \"value\": 38.0}, \"39.0\": {\"frequency\": 14, \"value\": 39.0}, \"40.0\": {\"frequency\": 13, \"value\": 40.0}, \"41.0\": {\"frequency\": 6, \"value\": 41.0}, \"42.0\": {\"frequency\": 13, \"value\": 42.0}, \"43.0\": {\"frequency\": 5, \"value\": 43.0}, \"44.0\": {\"frequency\": 9, \"value\": 44.0}, \"45.0\": {\"frequency\": 12, \"value\": 45.0}, \"46.0\": {\"frequency\": 3, \"value\": 46.0}, \"47.0\": {\"frequency\": 9, \"value\": 47.0}, \"48.0\": {\"frequency\": 9, \"value\": 48.0}, \"49.0\": {\"frequency\": 6, \"value\": 49.0}, \"50.0\": {\"frequency\": 10, \"value\": 50.0}, \"51.0\": {\"frequency\": 7, \"value\": 51.0}, \"52.0\": {\"frequency\": 6, \"value\": 52.0}, \"53.0\": {\"frequency\": 1, \"value\": 53.0}, \"54.0\": {\"frequency\": 8, \"value\": 54.0}, \"55.0\": {\"frequency\": 2, \"value\": 55.0}, \"56.0\": {\"frequency\": 4, \"value\": 56.0}, \"57.0\": {\"frequency\": 2, \"value\": 57.0}, \"58.0\": {\"frequency\": 5, \"value\": 58.0}, \"59.0\": {\"frequency\": 2, \"value\": 59.0}, \"60.0\": {\"frequency\": 4, \"value\": 60.0}, \"61.0\": {\"frequency\": 3, \"value\": 61.0}, \"62.0\": {\"frequency\": 4, \"value\": 62.0}, \"63.0\": {\"frequency\": 2, \"value\": 63.0}, \"64.0\": {\"frequency\": 2, \"value\": 64.0}, \"65.0\": {\"frequency\": 3, \"value\": 65.0}, \"66.0\": {\"frequency\": 1, \"value\": 66.0}, \"70.0\": {\"frequency\": 2, \"value\": 70.0}, \"71.0\": {\"frequency\": 2, \"value\": 71.0}, \"74.0\": {\"frequency\": 1, \"value\": 74.0}, \"80.0\": {\"frequency\": 1, \"value\": 80.0}, \"0.92\": {\"frequency\": 1, \"value\": 0.92}, \"55.5\": {\"frequency\": 1, \"value\": 55.5}, \"0.75\": {\"frequency\": 2, \"value\": 0.75}, \"0.83\": {\"frequency\": 2, \"value\": 0.83}, \"23.5\": {\"frequency\": 1, \"value\": 23.5}, \"0.42\": {\"frequency\": 1, \"value\": 0.42}, \"6.0\": {\"frequency\": 3, \"value\": 6.0}, \"24.5\": {\"frequency\": 1, \"value\": 24.5}, \"36.0\": {\"frequency\": 22, \"value\": 36.0}, \"36.5\": {\"frequency\": 1, \"value\": 36.5}, \"40.5\": {\"frequency\": 2, \"value\": 40.5}, \"34.5\": {\"frequency\": 1, \"value\": 34.5}, \"0.67\": {\"frequency\": 1, \"value\": 0.67}, \"45.5\": {\"frequency\": 2, \"value\": 45.5}, \"30.5\": {\"frequency\": 2, \"value\": 30.5}, \"20.5\": {\"frequency\": 1, \"value\": 20.5}, \"32.5\": {\"frequency\": 2, \"value\": 32.5}}, \"mean\": 29.699117647058806}, \"selected_variable\": {\"name\": [\"<SArray>\"], \"dtype\": \"float\", \"view_component\": \"Numeric\", \"view_file\": \"sarray\", \"descriptives\": {\"rows\": 891}, \"type\": \"SArray\", \"view_components\": [\"Numeric\", \"Categorical\"]}, \"histogram\": {\"progress\": 1.0, \"histogram\": {\"max\": 80.176, \"bins\": [47, 24, 108, 140, 144, 101, 52, 48, 28, 15, 5, 2], \"min\": 0.30400000000000205}, \"min\": 0.42, \"complete\": 1, \"max\": 80.0}}, e);\n",
       "                });\n",
       "            })();\n",
       "        "
      ]
     },
     "metadata": {},
     "output_type": "display_data"
    }
   ],
   "source": [
    "full_train_data['Age'].show()"
   ]
  },
  {
   "cell_type": "markdown",
   "metadata": {},
   "source": [
    "## Age 데이터 처리하기"
   ]
  },
  {
   "cell_type": "code",
   "execution_count": 85,
   "metadata": {},
   "outputs": [
    {
     "data": {
      "application/javascript": [
       "$(\"head\").append($(\"<link/>\").attr({\n",
       "  rel:  \"stylesheet\",\n",
       "  type: \"text/css\",\n",
       "  href: \"//cdnjs.cloudflare.com/ajax/libs/font-awesome/4.1.0/css/font-awesome.min.css\"\n",
       "}));\n",
       "$(\"head\").append($(\"<link/>\").attr({\n",
       "  rel:  \"stylesheet\",\n",
       "  type: \"text/css\",\n",
       "  href: \"https://static.turi.com/products/graphlab-create/2.1/canvas/css/canvas.css\"\n",
       "}));\n",
       "\n",
       "            (function(){\n",
       "\n",
       "                var e = null;\n",
       "                if (typeof element == 'undefined') {\n",
       "                    var scripts = document.getElementsByTagName('script');\n",
       "                    var thisScriptTag = scripts[scripts.length-1];\n",
       "                    var parentDiv = thisScriptTag.parentNode;\n",
       "                    e = document.createElement('div');\n",
       "                    parentDiv.appendChild(e);\n",
       "                } else {\n",
       "                    e = element[0];\n",
       "                }\n",
       "\n",
       "                if (typeof requirejs !== 'undefined') {\n",
       "                    // disable load timeout; ipython_app.js is large and can take a while to load.\n",
       "                    requirejs.config({waitSeconds: 0});\n",
       "                }\n",
       "\n",
       "                require(['https://static.turi.com/products/graphlab-create/2.1/canvas/js/ipython_app.js'], function(IPythonApp){\n",
       "                    var app = new IPythonApp();\n",
       "                    app.attachView('sarray','Categorical', {\"ipython\": true, \"sketch\": {\"std\": 0.455494788039466, \"complete\": true, \"min\": 0.0, \"max\": 1.0, \"quantile\": [0.0, 0.0, 0.0, 0.0, 0.0, 0.0, 0.0, 0.0, 0.0, 0.0, 0.0, 0.0, 0.0, 0.0, 0.0, 0.0, 0.0, 0.0, 0.0, 0.0, 0.0, 0.0, 0.0, 0.0, 0.0, 0.0, 0.0, 0.0, 0.0, 0.0, 0.0, 0.0, 0.0, 0.0, 0.0, 0.0, 0.0, 0.0, 0.0, 0.0, 0.0, 0.0, 0.0, 0.0, 0.0, 0.0, 0.0, 0.0, 0.0, 0.0, 0.0, 0.0, 0.0, 0.0, 0.0, 0.0, 0.0, 0.0, 0.0, 0.0, 0.0, 0.0, 0.0, 0.0, 0.0, 0.0, 0.0, 0.0, 0.0, 0.0, 0.0, 1.0, 1.0, 1.0, 1.0, 1.0, 1.0, 1.0, 1.0, 1.0, 1.0, 1.0, 1.0, 1.0, 1.0, 1.0, 1.0, 1.0, 1.0, 1.0, 1.0, 1.0, 1.0, 1.0, 1.0, 1.0, 1.0, 1.0, 1.0, 1.0, 1.0], \"median\": 0.0, \"numeric\": true, \"num_unique\": 2, \"num_undefined\": 0, \"var\": 0.2074755019311181, \"progress\": 1.0, \"size\": 177, \"frequent_items\": {\"0\": {\"frequency\": 125, \"value\": 0}, \"1\": {\"frequency\": 52, \"value\": 1}}, \"mean\": 0.2937853107344633}, \"selected_variable\": {\"name\": [\"<SArray>\"], \"dtype\": \"int\", \"view_component\": \"Categorical\", \"view_file\": \"sarray\", \"descriptives\": {\"rows\": 177}, \"type\": \"SArray\", \"view_components\": [\"Numeric\", \"Categorical\"]}, \"histogram\": {\"progress\": 1.0, \"histogram\": {\"max\": 1.0, \"bins\": [125, 0, 0, 0, 0, 0, 0, 0, 0, 0, 0, 52], \"min\": 0.0}, \"min\": 0, \"complete\": 1, \"max\": 1}}, e);\n",
       "                });\n",
       "            })();\n",
       "        "
      ]
     },
     "metadata": {},
     "output_type": "display_data"
    },
    {
     "data": {
      "application/javascript": [
       "$(\"head\").append($(\"<link/>\").attr({\n",
       "  rel:  \"stylesheet\",\n",
       "  type: \"text/css\",\n",
       "  href: \"//cdnjs.cloudflare.com/ajax/libs/font-awesome/4.1.0/css/font-awesome.min.css\"\n",
       "}));\n",
       "$(\"head\").append($(\"<link/>\").attr({\n",
       "  rel:  \"stylesheet\",\n",
       "  type: \"text/css\",\n",
       "  href: \"https://static.turi.com/products/graphlab-create/2.1/canvas/css/canvas.css\"\n",
       "}));\n",
       "\n",
       "            (function(){\n",
       "\n",
       "                var e = null;\n",
       "                if (typeof element == 'undefined') {\n",
       "                    var scripts = document.getElementsByTagName('script');\n",
       "                    var thisScriptTag = scripts[scripts.length-1];\n",
       "                    var parentDiv = thisScriptTag.parentNode;\n",
       "                    e = document.createElement('div');\n",
       "                    parentDiv.appendChild(e);\n",
       "                } else {\n",
       "                    e = element[0];\n",
       "                }\n",
       "\n",
       "                if (typeof requirejs !== 'undefined') {\n",
       "                    // disable load timeout; ipython_app.js is large and can take a while to load.\n",
       "                    requirejs.config({waitSeconds: 0});\n",
       "                }\n",
       "\n",
       "                require(['https://static.turi.com/products/graphlab-create/2.1/canvas/js/ipython_app.js'], function(IPythonApp){\n",
       "                    var app = new IPythonApp();\n",
       "                    app.attachView('sarray','Categorical', {\"ipython\": true, \"sketch\": {\"std\": 0.48631931786709987, \"complete\": true, \"min\": 0.0, \"max\": 1.0, \"quantile\": [0.0, 0.0, 0.0, 0.0, 0.0, 0.0, 0.0, 0.0, 0.0, 0.0, 0.0, 0.0, 0.0, 0.0, 0.0, 0.0, 0.0, 0.0, 0.0, 0.0, 0.0, 0.0, 0.0, 0.0, 0.0, 0.0, 0.0, 0.0, 0.0, 0.0, 0.0, 0.0, 0.0, 0.0, 0.0, 0.0, 0.0, 0.0, 0.0, 0.0, 0.0, 0.0, 0.0, 0.0, 0.0, 0.0, 0.0, 0.0, 0.0, 0.0, 0.0, 0.0, 0.0, 0.0, 0.0, 0.0, 0.0, 0.0, 0.0, 0.0, 0.0, 0.0, 1.0, 1.0, 1.0, 1.0, 1.0, 1.0, 1.0, 1.0, 1.0, 1.0, 1.0, 1.0, 1.0, 1.0, 1.0, 1.0, 1.0, 1.0, 1.0, 1.0, 1.0, 1.0, 1.0, 1.0, 1.0, 1.0, 1.0, 1.0, 1.0, 1.0, 1.0, 1.0, 1.0, 1.0, 1.0, 1.0, 1.0, 1.0, 1.0], \"median\": 0.0, \"numeric\": true, \"num_unique\": 2, \"num_undefined\": 0, \"var\": 0.23650647893072133, \"progress\": 1.0, \"size\": 891, \"frequent_items\": {\"0\": {\"frequency\": 549, \"value\": 0}, \"1\": {\"frequency\": 342, \"value\": 1}}, \"mean\": 0.3838383838383839}, \"selected_variable\": {\"name\": [\"<SArray>\"], \"dtype\": \"int\", \"view_component\": \"Categorical\", \"view_file\": \"sarray\", \"descriptives\": {\"rows\": 891}, \"type\": \"SArray\", \"view_components\": [\"Numeric\", \"Categorical\"]}, \"histogram\": {\"progress\": 1.0, \"histogram\": {\"max\": 1.0, \"bins\": [549, 0, 0, 0, 0, 0, 0, 0, 0, 0, 0, 342], \"min\": 0.0}, \"min\": 0, \"complete\": 1, \"max\": 1}}, e);\n",
       "                });\n",
       "            })();\n",
       "        "
      ]
     },
     "metadata": {},
     "output_type": "display_data"
    },
    {
     "name": "stdout",
     "output_type": "stream",
     "text": [
      "891\n",
      "177\n"
     ]
    }
   ],
   "source": [
    "no_age = full_train_data[full_train_data['Age']==None]\n",
    "no_age['Survived'].show(view='Categorical')\n",
    "full_train_data['Survived'].show(view='Categorical')\n",
    "print len(full_train_data)\n",
    "print len(no_age)"
   ]
  },
  {
   "cell_type": "markdown",
   "metadata": {},
   "source": [
    "## Submission"
   ]
  },
  {
   "cell_type": "code",
   "execution_count": 86,
   "metadata": {},
   "outputs": [],
   "source": [
    "model_for_submission = my_features_model_dt"
   ]
  },
  {
   "cell_type": "code",
   "execution_count": 87,
   "metadata": {},
   "outputs": [],
   "source": [
    "predictions = model_for_submission.predict(test_data)"
   ]
  },
  {
   "cell_type": "code",
   "execution_count": 88,
   "metadata": {},
   "outputs": [],
   "source": [
    "submission = graphlab.SFrame({\"PassengerId\": test_data['PassengerId'], \n",
    "                              \"Survived\": predictions})"
   ]
  },
  {
   "cell_type": "code",
   "execution_count": 89,
   "metadata": {},
   "outputs": [],
   "source": [
    "submission.export_csv('../data/kaggle_titanic/submission.csv')"
   ]
  },
  {
   "cell_type": "code",
   "execution_count": null,
   "metadata": {},
   "outputs": [],
   "source": []
  }
 ],
 "metadata": {
  "kernelspec": {
   "display_name": "Python 2",
   "language": "python",
   "name": "python2"
  },
  "language_info": {
   "codemirror_mode": {
    "name": "ipython",
    "version": 2
   },
   "file_extension": ".py",
   "mimetype": "text/x-python",
   "name": "python",
   "nbconvert_exporter": "python",
   "pygments_lexer": "ipython2",
   "version": "2.7.14"
  }
 },
 "nbformat": 4,
 "nbformat_minor": 2
}
