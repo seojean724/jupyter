{
 "cells": [
  {
   "cell_type": "markdown",
   "metadata": {},
   "source": [
    "# keras import하기\n",
    "\n",
    "keras의 각 모듈에서 원하는 라이브러리를 가져 옵니다.\n",
    "\n",
    "- Sequential\n",
    "- Dense, Activation"
   ]
  },
  {
   "cell_type": "code",
   "execution_count": 1,
   "metadata": {},
   "outputs": [
    {
     "name": "stderr",
     "output_type": "stream",
     "text": [
      "Using TensorFlow backend.\n"
     ]
    }
   ],
   "source": [
    "from keras.models import Sequential\n",
    "from keras.layers.core import Dense, Activation"
   ]
  },
  {
   "cell_type": "markdown",
   "metadata": {},
   "source": [
    "# 데이터 선언하기\n",
    "\n",
    "numpy를 이용해서 데이터를 선언하고자 합니다. 먼저 numpy를 import합시다."
   ]
  },
  {
   "cell_type": "code",
   "execution_count": 2,
   "metadata": {},
   "outputs": [],
   "source": [
    "import numpy as np"
   ]
  },
  {
   "cell_type": "markdown",
   "metadata": {},
   "source": [
    "## 학습데이터 선언하기\n",
    "\n",
    "학습을 위해서 XOR의 4가지 경우에 대한 데이터를 선언합니다. 학습데이터는 X로, 학습레이블은 y로 지정합시다.\n",
    "\n",
    "- X는 [x1, x2] 형태의 데이터가 4개 존재해야 합니다.\n",
    "- y는 [y] 형태의 데이터가 4개 존재해야 합니다.\n",
    "- numpy를 이용해서 데이터를 선언할 수 있습니다.\n",
    "\n",
    "    numpy.array(데이터)"
   ]
  },
  {
   "cell_type": "code",
   "execution_count": 5,
   "metadata": {},
   "outputs": [],
   "source": [
    "x = np.array([[0,0],[0,1],[1,0],[1,1]])\n",
    "y = np.array([[0],[1],[1],[0]])"
   ]
  },
  {
   "cell_type": "markdown",
   "metadata": {},
   "source": [
    "# model 생성하기\n",
    "\n",
    "keras에서는 아래의 순서에 따라 모델을 생성합니다.\n",
    "\n",
    "- sequential 모델 선언하기\n",
    "\n",
    "    model = Sequential()\n",
    "    \n",
    "    \n",
    "- 모델을 생성한 후에 원하는 Layer를 순서대로 더합니다.\n",
    "\n",
    "    **model.add(더하고자하는레이어의설정)**\n",
    "    \n",
    "    \n",
    "    - Dense: densely connected layer를 더합니다. input layer에 바로 연결하는 경우 입력 데이터에 맞는 input_dim을 지정해야 합니다.\n",
    "    \n",
    "        Dense(node수, input_dim=입력차원)\n",
    "    \n",
    "    \n",
    "    - Activation: 액티베이션 함수를 더합니다. https://keras.io/activations/\n",
    "    \n",
    "        Activation(함수명)\n",
    "        "
   ]
  },
  {
   "cell_type": "markdown",
   "metadata": {},
   "source": [
    "### 모델 생성하고 첫번째 레이어 더하기\n",
    "\n",
    "- **two_node_model**이라는 모델을 만듭시다.\n",
    "- node 2개 짜리 Dense 레이어를 더합시다. 반드시 데이터에 맞는 input_dim을 지정해야 합니다.\n",
    "- tanh 함수를 Activation으로 사용합시다.\n",
    "\n",
    "이제 하나의 레이어를 추가했습니다."
   ]
  },
  {
   "cell_type": "code",
   "execution_count": 8,
   "metadata": {},
   "outputs": [],
   "source": [
    "two_node_model = Sequential()\n",
    "two_node_model.add(Dense(2, input_dim=2, activation='tanh'))"
   ]
  },
  {
   "cell_type": "markdown",
   "metadata": {},
   "source": [
    "### 두번째 레이어 더하기\n",
    "\n",
    "- node 1개 짜리 Dense 레이어를 더합시다.\n",
    "- 마찬가지로 tahnh 함수를 Activation으로 사용합시다."
   ]
  },
  {
   "cell_type": "code",
   "execution_count": 9,
   "metadata": {},
   "outputs": [],
   "source": [
    "two_node_model.add(Dense(1, activation='tanh'))"
   ]
  },
  {
   "cell_type": "markdown",
   "metadata": {},
   "source": [
    "# 모델의 학습 과정 설정하기\n",
    "\n",
    "아래 구문을 이용해서 모델이 어떻게 학습을 할지를 설정합니다.\n",
    "\n",
    "    model.compile(loss=사용하고자하는loss유형, metrics=사용하고자하는지표리스트, optimizer=사용하고자하는옵티마이저이름)\n",
    "    \n",
    "여기에서는 loss에 'mse'를, 지표로는 'accuracy'를, optimizer로는 'rmsprop'을 사용합시다."
   ]
  },
  {
   "cell_type": "code",
   "execution_count": 11,
   "metadata": {},
   "outputs": [],
   "source": [
    "two_node_model.compile(loss='mse',matrics='accuracy',optimizer='rmsprop')"
   ]
  },
  {
   "cell_type": "markdown",
   "metadata": {},
   "source": [
    "# 모델 학습하기\n",
    "\n",
    "이제 모델을 학습시킵시다.\n",
    "\n",
    "    model.fit(학습데이터, 학습레이블, batch_size=배치개수, epochs=학습회수)\n",
    "    \n",
    "데이터가 작으니 배치개수는 1개로 하고 학습은 1,000회 정도로 해 봅시다. fit 메소드는 학습 과정의 히스토리를 반환합니다. 이 값을 **history**라는 변수에 저장해 봅시다."
   ]
  },
  {
   "cell_type": "code",
   "execution_count": null,
   "metadata": {},
   "outputs": [],
   "source": []
  },
  {
   "cell_type": "markdown",
   "metadata": {},
   "source": [
    "# 모델 평가하기\n",
    "\n",
    "학습 결과를 확인하기 위해 아래 구문을 사용합시다.\n",
    "\n",
    "    model.predict(테스트데이터)\n",
    "    \n",
    "여기서는 별도의 테스트데이터가 없으므로 X를 사용합시다."
   ]
  },
  {
   "cell_type": "code",
   "execution_count": null,
   "metadata": {},
   "outputs": [],
   "source": []
  },
  {
   "cell_type": "markdown",
   "metadata": {},
   "source": [
    "화면에 표시되는 값은 각 데이터 (각 경우)에 대한 score입니다. 해당값을 round함수를 이용해서 우리가 원하는 0 또는 1값으로 표현되도록 해 봅시다."
   ]
  },
  {
   "cell_type": "code",
   "execution_count": null,
   "metadata": {
    "scrolled": true
   },
   "outputs": [],
   "source": []
  },
  {
   "cell_type": "markdown",
   "metadata": {},
   "source": [
    "또는 아래의 구문을 이용해서 loss 값과 accuracy를 바로 얻을 수도 있습니다.\n",
    "\n",
    "    model.evaluate(학습데이터, 학습레이블)"
   ]
  },
  {
   "cell_type": "code",
   "execution_count": null,
   "metadata": {},
   "outputs": [],
   "source": []
  },
  {
   "cell_type": "markdown",
   "metadata": {},
   "source": [
    "# 학습 과정 살펴보기\n",
    "\n",
    "## history 살펴보기\n",
    "\n",
    "모델의 학습 과정을 저장한 변수인 **history**를 출력해 봅시다. 아래와 같이 history라는 속성을 지정해야만 원하는 값을 얻을 수 있습니다.\n",
    "\n",
    "    history.history"
   ]
  },
  {
   "cell_type": "code",
   "execution_count": null,
   "metadata": {},
   "outputs": [],
   "source": []
  },
  {
   "cell_type": "markdown",
   "metadata": {},
   "source": [
    "dictionary형태의 데이터 구조에 많은 값이 들어 있습니다. dictionary의 key값들만을 출력해서 어떤 데이터들이 들어 있는지 확인해 봅시다.\n",
    "\n",
    "    dictonary.keys()"
   ]
  },
  {
   "cell_type": "code",
   "execution_count": null,
   "metadata": {},
   "outputs": [],
   "source": []
  },
  {
   "cell_type": "markdown",
   "metadata": {},
   "source": [
    "history에 loss와 acc를 키로 하는 값들이 들어 있군요. 즉 매회 학습시에 얻은 loss와 accuracy가 저장되어 있습니다.\n",
    "\n",
    "해당 dictionary에서 acc만 출력해 보세요."
   ]
  },
  {
   "cell_type": "code",
   "execution_count": null,
   "metadata": {},
   "outputs": [],
   "source": []
  },
  {
   "cell_type": "markdown",
   "metadata": {},
   "source": [
    "값이 점점 증가한다는 것을 확인할 수 있습니다.\n",
    "\n",
    "이제 loss를 출력해 봅시다."
   ]
  },
  {
   "cell_type": "code",
   "execution_count": null,
   "metadata": {},
   "outputs": [],
   "source": []
  },
  {
   "cell_type": "markdown",
   "metadata": {},
   "source": [
    "값이 줄어드는 것처럼 보입니다. 하지만 보기에 너무 불편해서 트렌드를 파악하기 어렵습니다.\n",
    "\n",
    "어떻게 하면 좋을까요?"
   ]
  },
  {
   "cell_type": "markdown",
   "metadata": {},
   "source": [
    "## history 그래프로 그려 보기"
   ]
  },
  {
   "cell_type": "markdown",
   "metadata": {},
   "source": [
    "먼저 matplot을 import합시다."
   ]
  },
  {
   "cell_type": "code",
   "execution_count": 15,
   "metadata": {},
   "outputs": [],
   "source": [
    "import matplotlib.pyplot as plt"
   ]
  },
  {
   "cell_type": "markdown",
   "metadata": {},
   "source": [
    "아래 구문들을 이용해서 loss와 accuracy를 화면에 출력하는 그래프를 설정해 봅시다.\n",
    "\n",
    "    plt.plot(데이터)\n",
    "    plt.title(타이틀)\n",
    "    plt.xlabel(x축레이블명)\n",
    "    plt.ylabel(y축레이블명)\n",
    "    plt.legend(레전드리스트)\n",
    "    \n",
    "하나의 그래프에 2개의 데이터(loss, acc)가 모두 출력되도록 합시다. 어떻게 해야 할까요?\n",
    "\n",
    "데이터가 2개지만 y축 레이블은 accuracy로 지정하고 x축 레이블은 epoch로 지정합시다. 타이틀은 뭐가 좋을까요? 데이터의 레전드는 데이터를 지정한 순서대로 리스트 형태로 지정해야 합니다."
   ]
  },
  {
   "cell_type": "code",
   "execution_count": null,
   "metadata": {},
   "outputs": [],
   "source": []
  },
  {
   "cell_type": "markdown",
   "metadata": {},
   "source": [
    "그래프의 설정이 끝났으면 다음 구문을 실행합시다.\n",
    "\n",
    "    plt.show()"
   ]
  },
  {
   "cell_type": "code",
   "execution_count": null,
   "metadata": {},
   "outputs": [],
   "source": []
  },
  {
   "cell_type": "markdown",
   "metadata": {},
   "source": [
    "정확도가 0에서 시작해서 0.5로 올라가고 다시 0.75로 증가하는 것을 확인할 수 있습니다. loss는 학습횟수가 증가함에 따라 지속적으로 감소한다는 것을 알 수 있습니다."
   ]
  },
  {
   "cell_type": "markdown",
   "metadata": {},
   "source": [
    "학습횟수를 더 증가시키면 정확도가 1이 될까요? 확인해 보세요."
   ]
  },
  {
   "cell_type": "markdown",
   "metadata": {},
   "source": [
    "# node 수를 늘려보자\n",
    "\n",
    "위에서 만든 모델과 동일하지만 이번에는 node 수를 20개로 늘려 봅시다. 나머지는 모두 동일하게 설정해서 모델을 학습시켜 봅시다. 단, model이름은 **more_node_model**로, 모델의 학습 히스토리는 **history2**라는 변수에 저장합시다."
   ]
  },
  {
   "cell_type": "code",
   "execution_count": null,
   "metadata": {},
   "outputs": [],
   "source": []
  },
  {
   "cell_type": "code",
   "execution_count": null,
   "metadata": {},
   "outputs": [],
   "source": []
  },
  {
   "cell_type": "code",
   "execution_count": null,
   "metadata": {},
   "outputs": [],
   "source": []
  },
  {
   "cell_type": "markdown",
   "metadata": {},
   "source": [
    "# 2번째 모델 평가하기\n",
    "\n",
    "학습 결과를 확인하기 위해 아래 구문을 사용합시다.\n",
    "\n",
    "    model.predict(테스트데이터)\n",
    "    \n",
    "여기서는 별도의 테스트데이터가 없으므로 X를 사용합시다."
   ]
  },
  {
   "cell_type": "code",
   "execution_count": null,
   "metadata": {},
   "outputs": [],
   "source": []
  },
  {
   "cell_type": "markdown",
   "metadata": {},
   "source": [
    "화면에 표시되는 값은 각 데이터 (각 경우)에 대한 score입니다. 해당값을 round함수를 이용해서 우리가 원하는 0 또는 1값으로 표현되도록 해 봅시다."
   ]
  },
  {
   "cell_type": "code",
   "execution_count": null,
   "metadata": {
    "scrolled": true
   },
   "outputs": [],
   "source": []
  },
  {
   "cell_type": "markdown",
   "metadata": {},
   "source": [
    "또는 아래의 구문을 이용해서 loss 값과 accuracy를 바로 얻을 수도 있습니다.\n",
    "\n",
    "    model.evaluate(학습데이터, 학습레이블)"
   ]
  },
  {
   "cell_type": "code",
   "execution_count": 23,
   "metadata": {},
   "outputs": [
    {
     "name": "stdout",
     "output_type": "stream",
     "text": [
      "\r",
      "4/4 [==============================] - 0s 8ms/step\n"
     ]
    },
    {
     "data": {
      "text/plain": [
       "[0.066098779439926147, 1.0]"
      ]
     },
     "execution_count": 23,
     "metadata": {},
     "output_type": "execute_result"
    }
   ],
   "source": [
    "more_node_model.evaluate(X, y)"
   ]
  },
  {
   "cell_type": "markdown",
   "metadata": {},
   "source": [
    "# 학습 모델 비교하기\n",
    "\n",
    "하나의 그래프에 2개 학습 모델의 정확도를 그려서 비교해 봅시다."
   ]
  },
  {
   "cell_type": "code",
   "execution_count": null,
   "metadata": {},
   "outputs": [],
   "source": []
  },
  {
   "cell_type": "markdown",
   "metadata": {},
   "source": [
    "이번에는 하나의 그래프에 2개 학습 모델의 loss를 그려서 비교해 봅시다."
   ]
  },
  {
   "cell_type": "code",
   "execution_count": null,
   "metadata": {},
   "outputs": [],
   "source": []
  },
  {
   "cell_type": "markdown",
   "metadata": {},
   "source": [
    "히든 레이어의 노드수를 증가하면 훨씬 더 빨리 원하는 결과를 얻을 수 있다는 것을 확인했습니다."
   ]
  },
  {
   "cell_type": "code",
   "execution_count": null,
   "metadata": {},
   "outputs": [],
   "source": []
  }
 ],
 "metadata": {
  "kernelspec": {
   "display_name": "Python 3",
   "language": "python",
   "name": "python3"
  },
  "language_info": {
   "codemirror_mode": {
    "name": "ipython",
    "version": 3
   },
   "file_extension": ".py",
   "mimetype": "text/x-python",
   "name": "python",
   "nbconvert_exporter": "python",
   "pygments_lexer": "ipython3",
   "version": "3.5.4"
  }
 },
 "nbformat": 4,
 "nbformat_minor": 2
}
